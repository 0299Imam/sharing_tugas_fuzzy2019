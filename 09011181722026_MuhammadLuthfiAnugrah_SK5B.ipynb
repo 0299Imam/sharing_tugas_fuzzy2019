{
 "cells": [
  {
   "cell_type": "markdown",
   "metadata": {},
   "source": [
    "# <center> IMPLEMENTASI LOGIKA FUZZY MAMDANI UNTUK MENENTUKAN HARGA GABAH"
   ]
  },
  {
   "cell_type": "markdown",
   "metadata": {},
   "source": [
    "Dalam penentuan harga gabah, aplikasi logika fuzzy melakukan proses\n",
    "mengubah input yang berupa kadar air dan kadar hampa/kotoran sehingga\n",
    "mendapatkan output berupa harga kualitas. Kemudian disesuaikan dengan\n",
    "range keanggotaan pada variabel harga kualitas sehingga diperoleh harga\n",
    "gabah. Dalam penentuan harga gabah digunakan metode Mamdani atau sering\n",
    "juga dikenal dengan nama Metode Min - Max. Dalam metode ini, pada setiap\n",
    "aturan yang berbentuk implikasi (“sebab-akibat”) anteseden yang berbentuk\n",
    "konjungsi (AND) mempunyai nilai keanggotaan berbentuk minimum (min),\n",
    "sedangkan konsekuen gabungannya berbentuk maksimum (max). Jadi dalam\n",
    "tahapan-tahapan untuk membangun Logika Fuzzy ini meliputi: Fuzzifikasi ,\n",
    "Basis Pengetahuan, Mesin Inferensi, dan Defuzzifikasi."
   ]
  },
  {
   "cell_type": "code",
   "execution_count": 3,
   "metadata": {},
   "outputs": [],
   "source": [
    "import numpy as np\n",
    "import skfuzzy as fuzz\n",
    "import matplotlib.pyplot as plt"
   ]
  },
  {
   "cell_type": "markdown",
   "metadata": {},
   "source": [
    "#### <center> Semesta Pembicaraan \n",
    "Fungsi | Nama Variabel | Semesta Pembicara\n",
    "--- | --- | ---\n",
    "Input     | Kadar Air     | [1 – 50] \n",
    "Input     | Kadar Hampa     | [1 – 20]\n",
    "Output    | Harga Kualitas     | [3500 – 5000]"
   ]
  },
  {
   "cell_type": "code",
   "execution_count": 4,
   "metadata": {},
   "outputs": [],
   "source": [
    "# Masukkan Variabel Batasan\n",
    "x_air = np.arange(1, 51, 1)\n",
    "x_hampa = np.arange(1, 21, 1)\n",
    "x_harga  = np.arange(3501, 5001, 1)"
   ]
  },
  {
   "cell_type": "markdown",
   "metadata": {},
   "source": [
    "#### <center> Himpunan Fuzzy Kadar Air Untuk Input 1 \n",
    "| Variabel Himpunan | Range\n",
    "|        ---        | ---\n",
    "| Rendah     | 1 - 14\n",
    "| Sedang     | 13 - 25\n",
    "| Tinggi     | 23 - 50"
   ]
  },
  {
   "cell_type": "code",
   "execution_count": 5,
   "metadata": {},
   "outputs": [],
   "source": [
    "air_lo = fuzz.trapmf(x_air, [1, 1, 13, 14])\n",
    "air_md = fuzz.trimf(x_air, [12, 19, 25])\n",
    "air_hi = fuzz.trapmf(x_air, [23, 30, 50, 50])"
   ]
  },
  {
   "cell_type": "markdown",
   "metadata": {},
   "source": [
    "#### <center> Himpunan Fuzzy Kadar Hampa Untuk Input 2 \n",
    "| Variabel Himpunan | Range\n",
    "|        ---        | ---\n",
    "| Sedikit     | 1 - 3\n",
    "| Sedang     | 2 - 10\n",
    "| Banyak     | 8 - 20"
   ]
  },
  {
   "cell_type": "code",
   "execution_count": 6,
   "metadata": {},
   "outputs": [],
   "source": [
    "hampa_lo = fuzz.trapmf(x_hampa, [1, 1, 2, 3])\n",
    "hampa_md = fuzz.trimf(x_hampa, [2, 6, 10])\n",
    "hampa_hi = fuzz.trapmf(x_hampa, [8, 12, 20, 20])"
   ]
  },
  {
   "cell_type": "markdown",
   "metadata": {},
   "source": [
    "#### <center> Himpunan Fuzzy Harga Kualitas untuk Output \n",
    "| Variabel Himpunan | Range\n",
    "|        ---        | ---\n",
    "| Rendah     | 3500 - 4100\n",
    "| GKP     | 4000 - 4700\n",
    "| GKG     | 4500 – 5000 "
   ]
  },
  {
   "cell_type": "code",
   "execution_count": 7,
   "metadata": {},
   "outputs": [],
   "source": [
    "harga_lo = fuzz.trapmf(x_harga, [3500, 3500, 3750, 4100])\n",
    "harga_md = fuzz.trimf(x_harga, [4000, 4400, 4700])\n",
    "harga_hi = fuzz.trapmf(x_harga, [4500, 5000, 5000, 5000])"
   ]
  },
  {
   "cell_type": "markdown",
   "metadata": {},
   "source": [
    "Persamaan himpunan fuzzy Kadar Air untuk rendah  : "
   ]
  },
  {
   "cell_type": "markdown",
   "metadata": {},
   "source": [
    "$µr(Rendah) = \n",
    "\\left\\{\n",
    "    \\begin{array}{ll}\n",
    "       1 & \\mbox{; } x ≤ 13  \\\\\n",
    "       14-x/14-13 & \\mbox{; }  13 ≤ x ≤ 14  \\\\\n",
    "       0 & \\mbox{; } x ≥ 14 \n",
    "    \\end{array}\n",
    "\\right.$"
   ]
  },
  {
   "cell_type": "markdown",
   "metadata": {},
   "source": [
    "Persamaan himpunan fuzzy Kadar Air untuk sedang  : "
   ]
  },
  {
   "cell_type": "markdown",
   "metadata": {},
   "source": [
    "$µr(Sedang) = \n",
    "\\left\\{\n",
    "    \\begin{array}{ll}\n",
    "       0 & \\mbox{; } x ≤ 13  \\\\\n",
    "       x-13/19-13 & \\mbox{; }  13 ≤ x ≤ 19  \\\\\n",
    "       25-x/25-19 & \\mbox{; } 19 ≤ x ≤ 25 \n",
    "    \\end{array}\n",
    "\\right.$"
   ]
  },
  {
   "cell_type": "markdown",
   "metadata": {},
   "source": [
    "Persamaan himpunan fuzzy Kadar Air untuk Tinggi  : "
   ]
  },
  {
   "cell_type": "markdown",
   "metadata": {},
   "source": [
    "$µr(Tinggi) = \n",
    "\\left\\{\n",
    "    \\begin{array}{ll}\n",
    "       0 & \\mbox{; } x ≤ 23  \\\\\n",
    "       x-23/30-23 & \\mbox{; }  23 ≤ x ≤ 30  \\\\\n",
    "       1 & \\mbox{; } x ≥ 14 \n",
    "    \\end{array}\n",
    "\\right.$"
   ]
  },
  {
   "cell_type": "code",
   "execution_count": 8,
   "metadata": {},
   "outputs": [
    {
     "data": {
      "image/png": "[encoded data removed]",
      "text/plain": [
       "<Figure size 648x360 with 1 Axes>"
      ]
     },
     "metadata": {},
     "output_type": "display_data"
    }
   ],
   "source": [
    "fig, (ax0) = plt.subplots(nrows=1, figsize=(9, 5))\n",
    "\n",
    "ax0.plot(x_air, air_lo, 'b', linewidth=1.5, label='Rendah')\n",
    "ax0.plot(x_air, air_md, 'g', linewidth=1.5, label='Sedang')\n",
    "ax0.plot(x_air, air_hi, 'r', linewidth=1.5, label='Tinggi')\n",
    "ax0.set_title('Kadar Air')\n",
    "ax0.legend()\n",
    "plt.tight_layout()"
   ]
  },
  {
   "cell_type": "markdown",
   "metadata": {},
   "source": [
    "Persamaan himpunan fuzzy Kadar Hampa untuk Sedikit  : "
   ]
  },
  {
   "cell_type": "markdown",
   "metadata": {},
   "source": [
    "$µr(Sedikit) = \n",
    "\\left\\{\n",
    "    \\begin{array}{ll}\n",
    "       1 & \\mbox{; } x ≤ 2  \\\\\n",
    "       3-x/3-2 & \\mbox{; }  2 ≤ x ≤ 3  \\\\\n",
    "       0 & \\mbox{; } x ≥ 3 \n",
    "    \\end{array}\n",
    "\\right.$"
   ]
  },
  {
   "cell_type": "markdown",
   "metadata": {},
   "source": [
    "Persamaan himpunan fuzzy Kadar Hampa untuk Sedang  : "
   ]
  },
  {
   "cell_type": "markdown",
   "metadata": {},
   "source": [
    "$µr(Sedang) = \n",
    "\\left\\{\n",
    "    \\begin{array}{ll}\n",
    "       0 & \\mbox{; } x ≤ 2  \\\\\n",
    "       x-2/6-2 & \\mbox{; }  2 ≤ x ≤ 6  \\\\\n",
    "       10-x/10-6 & \\mbox{; } 6 ≤ x ≤ 10 \n",
    "    \\end{array}\n",
    "\\right.$"
   ]
  },
  {
   "cell_type": "markdown",
   "metadata": {},
   "source": [
    "Persamaan himpunan fuzzy Kadar Hampa untuk Banyak  : "
   ]
  },
  {
   "cell_type": "markdown",
   "metadata": {},
   "source": [
    "$µr(Banyak) = \n",
    "\\left\\{\n",
    "    \\begin{array}{ll}\n",
    "       0 & \\mbox{; } x ≤ 8  \\\\\n",
    "       x-8/12-8 & \\mbox{; }  8 ≤ x ≤ 12  \\\\\n",
    "       1 & \\mbox{; } x ≥ 12 \n",
    "    \\end{array}\n",
    "\\right.$"
   ]
  },
  {
   "cell_type": "code",
   "execution_count": 9,
   "metadata": {},
   "outputs": [
    {
     "data": {
      "image/png": "[encoded data removed]",
      "text/plain": [
       "<Figure size 648x360 with 1 Axes>"
      ]
     },
     "metadata": {},
     "output_type": "display_data"
    }
   ],
   "source": [
    "fig, (ax1) = plt.subplots(nrows=1, figsize=(9, 5))\n",
    "ax1.plot(x_hampa, hampa_lo, 'b', linewidth=1.5, label='Sedikit')\n",
    "ax1.plot(x_hampa, hampa_md, 'g', linewidth=1.5, label='Sedang')\n",
    "ax1.plot(x_hampa, hampa_hi, 'r', linewidth=1.5, label='Banyak')\n",
    "ax1.set_title('Kadar Hampa / Kotoran')\n",
    "ax1.legend()\n",
    "plt.tight_layout()"
   ]
  },
  {
   "cell_type": "markdown",
   "metadata": {},
   "source": [
    "Persamaan himpunan fuzzy Harga Kualitas untuk Rendah  : "
   ]
  },
  {
   "cell_type": "markdown",
   "metadata": {},
   "source": [
    "$µr(Rendah) = \n",
    "\\left\\{\n",
    "    \\begin{array}{ll}\n",
    "       1 & \\mbox{; } x ≤ 3750  \\\\\n",
    "       4100-x/4100-3750 & \\mbox{; }  3750 ≤ x ≤ 4100  \\\\\n",
    "       0 & \\mbox{; } x ≥ 4100 \n",
    "    \\end{array}\n",
    "\\right.$"
   ]
  },
  {
   "cell_type": "markdown",
   "metadata": {},
   "source": [
    "Persamaan himpunan fuzzy Harga Kualitas untuk GKP  : "
   ]
  },
  {
   "cell_type": "markdown",
   "metadata": {},
   "source": [
    "$µr(GKP) = \n",
    "\\left\\{\n",
    "    \\begin{array}{ll}\n",
    "       0 & \\mbox{; } x ≤ 4000  \\\\\n",
    "       x-4000/4400-4000 & \\mbox{; }  4000 ≤ x ≤ 4400  \\\\\n",
    "       4700-x/4700-4400 & \\mbox{; } 4400 ≤ x ≤ 4700 \n",
    "    \\end{array}\n",
    "\\right.$"
   ]
  },
  {
   "cell_type": "markdown",
   "metadata": {},
   "source": [
    "Persamaan himpunan fuzzy Harga Kualitas untuk GKG  : "
   ]
  },
  {
   "cell_type": "markdown",
   "metadata": {},
   "source": [
    "$µr(GKG) = \n",
    "\\left\\{\n",
    "    \\begin{array}{ll}\n",
    "       0 & \\mbox{; } x ≤ 4500  \\\\\n",
    "       x-4500/5000-4500 & \\mbox{; }  4500 ≤ x ≤ 5000  \\\\\n",
    "       1 & \\mbox{; } x ≥ 5000 \n",
    "    \\end{array}\n",
    "\\right.$"
   ]
  },
  {
   "cell_type": "code",
   "execution_count": 10,
   "metadata": {},
   "outputs": [
    {
     "data": {
      "image/png": "[encoded data removed]",
      "text/plain": [
       "<Figure size 648x360 with 1 Axes>"
      ]
     },
     "metadata": {},
     "output_type": "display_data"
    }
   ],
   "source": [
    "fig, (ax2) = plt.subplots(nrows=1, figsize=(9, 5))\n",
    "ax2.plot(x_harga, harga_lo, 'b', linewidth=1.5, label='Rendah')\n",
    "ax2.plot(x_harga, harga_md, 'g', linewidth=1.5, label='GKP')\n",
    "ax2.plot(x_harga, harga_hi, 'r', linewidth=1.5, label='GKG')\n",
    "ax2.set_title('Harga Kualitas')\n",
    "ax2.legend()\n",
    "plt.tight_layout()"
   ]
  },
  {
   "cell_type": "markdown",
   "metadata": {},
   "source": [
    "Dari dua input dan satu output fuzzy tersebut. Rule yang diperoleh adalah 9 rule, yang ditetapkan berdasarkan input dan output. "
   ]
  },
  {
   "cell_type": "markdown",
   "metadata": {},
   "source": [
    "#### <center> Pembentukan Rule "
   ]
  },
  {
   "cell_type": "markdown",
   "metadata": {},
   "source": [
    "NO | Kadar Air | Kadar Hampa | Harga Kualitas\n",
    "--- | --- | --- | ---\n",
    "1  | Rendah     | Sedikit     | GKG\n",
    "2  | Rendah     | Sedang     | GKP\n",
    "3  | Rendah     | Banyak     | Rendah\n",
    "4  | Sedang     | Sedikit     | GKP\n",
    "5  | Sedang     | Sedang     | GKP\n",
    "6  | Sedang     | Banyak     | Rendah\n",
    "7  | Tinggi     | Sedikit     | Rendah\n",
    "8  | Tinggi     | Sedang     | Rendah\n",
    "9  | Tinggi     | Banyak     | Rendah"
   ]
  },
  {
   "cell_type": "markdown",
   "metadata": {},
   "source": [
    "## Kasus\n",
    "Setelah aturan dibentuk,  Pada Metode Mamdani, fungsi implikasi\n",
    "yang digunakan adalah MIN, yang berarti tingkat keanggotaan yang didapat\n",
    "sebagai konsekuen dari proses ini adalah nilai minimum dari variabel kadar air\n",
    "dan kadar hampa/kotoran. Sehingga didapatkan daerah fuzzy pada variabel\n",
    "harga kualitas untuk masing – masing aturan.\n",
    "Dilakukan percobaan dengan memberikan input Air 12,20% dan\n",
    "Kadar Hampa/Kotoran 2,13% maka didapatkan hasil dengan rincian dibawah\n",
    "ini"
   ]
  },
  {
   "cell_type": "markdown",
   "metadata": {},
   "source": [
    "α_predikat 1 = μkadarAirRendah ∩ μkadarHampa/kotoranSedikit\n",
    "\n",
    "            = min (μkadarAirRendah (12.2) ∩ μkadarHampa/kotoran Sedikit(2,13))\n",
    "\n",
    "            = min(1,8 ; 0,87) = 0,87"
   ]
  },
  {
   "cell_type": "markdown",
   "metadata": {},
   "source": [
    "α_predikat 2 = μkadarAirRendah ∩ μkadarHampa/kotoranSedang\n",
    "\n",
    "             = min (μkadarAirRendah (12.2) ∩ μkadarHampa/kotoran Sedang(2,13))\n",
    "\n",
    "             = min(1,8 ; 0,0325) = 0,0325"
   ]
  },
  {
   "cell_type": "markdown",
   "metadata": {},
   "source": [
    "Dengan demikian, fungsi keanggotaan untuk hasil komposisi ini\n",
    "adalah:\n",
    "\n",
    "$µ = \n",
    "\\left\\{\n",
    "    \\begin{array}{ll}\n",
    "       0.0325 & \\mbox{; } 4000 ≤ x ≥ 4516.25  \\\\\n",
    "       (x-4500)500 & \\mbox{; }  4516.25 ≤ x ≤ 4935  \\\\\n",
    "       0.87 & \\mbox{; } x ≥ 4935 \n",
    "    \\end{array}\n",
    "\\right.$"
   ]
  },
  {
   "cell_type": "code",
   "execution_count": 14,
   "metadata": {},
   "outputs": [
    {
     "name": "stdout",
     "output_type": "stream",
     "text": [
      "Derajat keanggotaan Kadar Air\n",
      "Rendah =  1.0\n",
      "Sedang =  0.02857142857142847\n",
      "Tinggi =  0.0\n",
      "\n",
      "Derajat keanggotaan Kadar Hampa\n",
      "Sedikit =  0.8700000000000001\n",
      "Sedang =  0.03249999999999997\n",
      "Banyak =  0.0\n",
      "\n",
      "Fungsi Implikasinya\n",
      "\n",
      "RULE 1 = 0.8700000000000001\n",
      "RULE 2 = 0.03249999999999997\n",
      "RULE 3 = 0.0\n",
      "RULE 4 = 0.02857142857142847\n",
      "RULE 5 = 0.02857142857142847\n",
      "RULE 6 = 0.0\n",
      "RULE 7 = 0.0\n",
      "RULE 8 = 0.0\n",
      "RULE 9 = 0.0\n"
     ]
    },
    {
     "data": {
      "image/png": "[encoded data removed]",
      "text/plain": [
       "<Figure size 576x216 with 1 Axes>"
      ]
     },
     "metadata": {},
     "output_type": "display_data"
    }
   ],
   "source": [
    "air_level_lo = fuzz.interp_membership(x_air, air_lo, 12.2)\n",
    "air_level_md = fuzz.interp_membership(x_air, air_md, 12.2)\n",
    "air_level_hi = fuzz.interp_membership(x_air, air_hi, 12.2)\n",
    "\n",
    "hampa_level_lo = fuzz.interp_membership(x_hampa, hampa_lo, 2.13)\n",
    "hampa_level_md = fuzz.interp_membership(x_hampa, hampa_md, 2.13)\n",
    "hampa_level_hi = fuzz.interp_membership(x_hampa, hampa_hi, 2.13)\n",
    "\n",
    "print('Derajat keanggotaan Kadar Air')\n",
    "print('Rendah = ',air_level_lo)\n",
    "print('Sedang = ',air_level_md)\n",
    "print('Tinggi = ',air_level_hi)\n",
    "print('')\n",
    "print('Derajat keanggotaan Kadar Hampa')\n",
    "print('Sedikit = ',hampa_level_lo)\n",
    "print('Sedang = ',hampa_level_md)\n",
    "print('Banyak = ',hampa_level_hi)\n",
    "\n",
    "#rule\n",
    "rule1 = np.fmin(air_level_lo, hampa_level_lo)\n",
    "rule2 = np.fmin(air_level_lo, hampa_level_md)\n",
    "rule3 = np.fmin(air_level_lo, hampa_level_hi)\n",
    "rule4 = np.fmin(air_level_md, hampa_level_lo)\n",
    "rule5 = np.fmin(air_level_md, hampa_level_md)\n",
    "rule6 = np.fmin(air_level_md, hampa_level_hi)\n",
    "rule7 = np.fmin(air_level_hi, hampa_level_lo)\n",
    "rule8 = np.fmin(air_level_hi, hampa_level_md)\n",
    "rule9 = np.fmin(air_level_hi, hampa_level_hi)\n",
    "\n",
    "\n",
    "print(\"\")\n",
    "print(\"Fungsi Implikasinya\")\n",
    "print(\"\")\n",
    "print(\"RULE 1 =\", rule1)\n",
    "print(\"RULE 2 =\", rule2)\n",
    "print(\"RULE 3 =\", rule3)\n",
    "print(\"RULE 4 =\", rule4)\n",
    "print(\"RULE 5 =\", rule5)\n",
    "print(\"RULE 6 =\", rule6)\n",
    "print(\"RULE 7 =\", rule7)\n",
    "print(\"RULE 8 =\", rule8)\n",
    "print(\"RULE 9 =\", rule9)\n",
    "\n",
    "# Visualize this\n",
    "harga_activation_hi = np.fmin(rule1, harga_hi)\n",
    "harga_activation_md = np.fmin(rule2, harga_md)\n",
    "harga_activation_lo = np.fmin(rule3, harga_lo)\n",
    "harga_activation_md = np.fmin(rule4, harga_md)\n",
    "harga_activation_md = np.fmin(rule5, harga_md)\n",
    "harga_activation_lo = np.fmin(rule6, harga_lo)\n",
    "harga_activation_lo = np.fmin(rule7, harga_lo)\n",
    "harga_activation_lo = np.fmin(rule8, harga_lo)\n",
    "harga_activation_lo = np.fmin(rule9, harga_lo)\n",
    "harga0 = np.zeros_like(x_harga)\n",
    "\n",
    "fig, ax0 = plt.subplots(figsize=(8, 3))\n",
    "\n",
    "ax0.fill_between(x_harga, harga0, harga_activation_lo, facecolor='b', alpha=0.7)\n",
    "ax0.plot(x_harga, harga_lo, 'b', linewidth=0.5, linestyle='--', )\n",
    "ax0.fill_between(x_harga, harga0, harga_activation_md, facecolor='g', alpha=0.7)\n",
    "ax0.plot(x_harga, harga_md, 'g', linewidth=0.5, linestyle='--')\n",
    "ax0.fill_between(x_harga, harga0, harga_activation_hi, facecolor='r', alpha=0.7)\n",
    "ax0.plot(x_harga, harga_hi, 'r', linewidth=0.5, linestyle='--')\n",
    "ax0.set_title('Output membership activity')\n",
    "\n",
    "# Turn off top/right axes\n",
    "for ax in (ax0,):\n",
    "    ax.spines['top'].set_visible(False)\n",
    "    ax.spines['right'].set_visible(False)\n",
    "    ax.get_xaxis().tick_bottom()\n",
    "    ax.get_yaxis().tick_left()\n",
    "\n",
    "plt.tight_layout()"
   ]
  },
  {
   "cell_type": "markdown",
   "metadata": {},
   "source": [
    "## Defuzzifikasi\n",
    "Metode Defuzzy yang digunakan adalah metode centroid maka dari\n",
    "contoh diatas rincian perhitungan sebagai berikut :"
   ]
  },
  {
   "cell_type": "markdown",
   "metadata": {},
   "source": [
    "### $COG = \n",
    "\\left\\{\n",
    "    \\begin{array}{ll}\n",
    "       {(280912.125+2297310.878+691188.818) \\over 56.55+607.711+16.356} = {3269411,821\\over680.617} = {4803.6}\\\\\n",
    "    \\end {array}\n",
    "\\right.$}"
   ]
  },
  {
   "cell_type": "markdown",
   "metadata": {},
   "source": [
    "Dari proses-proses fuzzyfikasi hingga defuzzyfikasi yang sudah\n",
    "dilakukan diatas dengan memberikan sampel yang harus dihitung sehingga\n",
    "didapatkan harga kualitas gabah, setelah dilakukan penerapan logika fuzzy\n",
    "akhirnya didapatkan harga Rp 4803,6. Hasilnya masih ada di range Harga\n",
    "Kualitas GKG (4500-5000) dan itu berarti hasil yang didapat sudah sesuai\n",
    "dengan aturannya."
   ]
  },
  {
   "cell_type": "code",
   "execution_count": 23,
   "metadata": {},
   "outputs": [
    {
     "name": "stdout",
     "output_type": "stream",
     "text": [
      "Agregasi :  [0.   0.   0.   ... 0.87 0.87 0.87]\n"
     ]
    },
    {
     "data": {
      "image/png": "[encoded data removed]",
      "text/plain": [
       "<Figure size 576x216 with 1 Axes>"
      ]
     },
     "metadata": {},
     "output_type": "display_data"
    }
   ],
   "source": [
    "# Aggregate all three output membership functions together\n",
    "aggregated = np.fmax(harga_activation_lo,\n",
    "                     np.fmax(harga_activation_md, harga_activation_hi))\n",
    "\n",
    "# Calculate defuzzified result\n",
    "harga = fuzz.defuzz(x_harga, aggregated, 'centroid')\n",
    "harga_activation = fuzz.interp_membership(x_harga, aggregated, harga) \n",
    "\n",
    "# Visualize this\n",
    "fig, ax0 = plt.subplots(figsize=(8, 3))\n",
    "\n",
    "ax0.plot(x_harga, harga_lo, 'b', linewidth=0.5, linestyle='--', )\n",
    "ax0.plot(x_harga, harga_md, 'g', linewidth=0.5, linestyle='--')\n",
    "ax0.plot(x_harga, harga_hi, 'r', linewidth=0.5, linestyle='--')\n",
    "ax0.fill_between(x_harga, harga0, aggregated, facecolor='Orange', alpha=0.7)\n",
    "ax0.plot([harga, harga], [0, harga_activation], 'k', linewidth=1.5, alpha=0.9)\n",
    "ax0.set_title('Aggregated membership and result (line)')\n",
    "\n",
    "# Turn off top/right axes\n",
    "for ax in (ax0,):\n",
    "    ax.spines['top'].set_visible(False)\n",
    "    ax.spines['right'].set_visible(False)\n",
    "    ax.get_xaxis().tick_bottom()\n",
    "    ax.get_yaxis().tick_left()\n",
    "\n",
    "plt.tight_layout()\n",
    "print(\"Agregasi : \", aggregated)"
   ]
  },
  {
   "cell_type": "code",
   "execution_count": 22,
   "metadata": {},
   "outputs": [
    {
     "data": {
      "text/plain": [
       "4799.202821976035"
      ]
     },
     "execution_count": 22,
     "metadata": {},
     "output_type": "execute_result"
    }
   ],
   "source": [
    "harga"
   ]
  },
  {
   "cell_type": "markdown",
   "metadata": {},
   "source": [
    "Terdapat Perbedaan Nilai dengan hitung manual dan hitung phyton yang dimana \n",
    "\n",
    "manual mendapatkan nilai = 4803.6 sedangkan phyton 4799.202821976035"
   ]
  },
  {
   "cell_type": "markdown",
   "metadata": {},
   "source": [
    "## Kesimpulan"
   ]
  },
  {
   "cell_type": "markdown",
   "metadata": {},
   "source": [
    "Penentuan harga gabah ini dapat diterapkan logika fuzzy mamdani.\n",
    "Dengan ini para petani ataupun pembeli dapat menggunakan sistem ini\n",
    "sebagai refensi untuk membantu menentukan harga gabahnya, karena harga\n",
    "yang dihasilkan pada sistem ini sudah bisa dikatakan sesuai dengan harga\n",
    "gabah di pasaran. Jadi jika petani maupun pembeli menerapkan harga dari\n",
    "sistem ini harga yang diterapkan sudah sesuai dengan kualitas gabah yang\n",
    "akan dijual."
   ]
  },
  {
   "cell_type": "code",
   "execution_count": null,
   "metadata": {},
   "outputs": [],
   "source": []
  }
 ],
 "metadata": {
  "kernelspec": {
   "display_name": "Python 3",
   "language": "python",
   "name": "python3"
  },
  "language_info": {
   "codemirror_mode": {
    "name": "ipython",
    "version": 3
   },
   "file_extension": ".py",
   "mimetype": "text/x-python",
   "name": "python",
   "nbconvert_exporter": "python",
   "pygments_lexer": "ipython3",
   "version": "3.6.5"
  }
 },
 "nbformat": 4,
 "nbformat_minor": 2
}
