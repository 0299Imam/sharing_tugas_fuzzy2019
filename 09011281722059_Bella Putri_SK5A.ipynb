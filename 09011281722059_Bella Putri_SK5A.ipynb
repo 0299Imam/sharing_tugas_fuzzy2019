{
 "cells": [
  {
   "cell_type": "markdown",
   "metadata": {},
   "source": [
    "# Kesesuaian Minat Mahasiswa dengan Judul Tesis Mahasiswa Menggunakan Metode Fuzzy Mamdani"
   ]
  },
  {
   "cell_type": "markdown",
   "metadata": {},
   "source": [
    "Di Jurusan Teknik Elektro dan Teknologi Informasi (JTETI) Universitas Gadjah Mada khususnya pascasarjana telah terbentuk tiga grup riset. Grup riset tersebut terbentuk sebagai tujuan membantu mahasiswa yang mempunyai minat pada suatu bidang yang sama. Adapun grup riset yang telah terbentuk yaitu, I-Sys research (ISys), E-System Lab research (E-Sys) dan EGovernment research (EGov). Mahasiswa yang bergabung dalam grup riset tersebut memiliki judul tesis atau proposal tesis pada bidang yang sama. Sehingga dapat dikatakan grup riset sama dengan bidang peminatan tesis mahasiswa.\n",
    "\n",
    "Penelitian untuk memprediksi prestasi mahasiswa berdasar motivasi, minat dantingkat kedisiplinannya. Penelitian ini menggunakan metode fuzzy Mamdani. Data input diperoleh dari hasil kuesioner dan nilai IPK mahasiswa. Kuesioner dibagikan kepada 157 mahasiswa Universitas Muhammadiyah Purwokerto (UMP). Kuesioner digunakan untuk mendapatkan nilai motivasi, minat dan disiplin mahasiswa. Hasil dari kuesioner kemudian dianalisis dengan analisis regresi,dan diketahui bahwa tingkat disiplin tidak signifikan dalam mempengaruhi hasil prestasi belajar siswa. Jadi apa pun tingkat disiplin siswa di UMP tidak akan mempengaruhi IPK yang diperoleh. Mengacu dari hasil analisis tersebut kemudian dibuat fungsi keanggotaan dengan motivasi, minat dan disiplin sebagai variabel input dan prestasi belajar sebagai variabel output. Hasil dari penelitian dengan menggunakan fuzzy inferensi Mamdani ini dapat memprediksi prestasi belajar siswa berdasarkan tingkat motivasi,disiplin, dan minat siswa dalam belajar."
   ]
  },
  {
   "cell_type": "markdown",
   "metadata": {},
   "source": [
    "# FUZZYFIKASI"
   ]
  },
  {
   "cell_type": "markdown",
   "metadata": {},
   "source": [
    "### Menentukan Himpunan Fuzzy"
   ]
  },
  {
   "cell_type": "markdown",
   "metadata": {},
   "source": [
    "- Dari hasil data kuisioner dibuat himpunan fuzzy minat tesis mahasiswa yang terdiri dari empat variable input dan tiga variable output."
   ]
  },
  {
   "cell_type": "markdown",
   "metadata": {},
   "source": [
    "| Fungsi       | Nama Variabel |Semesta Pembicaraan     | \n",
    "|---------     |---------------|------------------------|\n",
    "|Input         |   ISys        |         {1;24}         |     \n",
    "|              |   ESys        |         {1;24}         |   \n",
    "|              |   EGov        |         {1;20}         |   \n",
    "|Output        |   Minat ISys  |         {1;24}         |   \n",
    "|              |   Minat ESys  |         {1;24}         |  \n",
    "|              |   Minat EGov  |         {1;20}         |  "
   ]
  },
  {
   "cell_type": "markdown",
   "metadata": {},
   "source": [
    "### Tabel Himpunan Fuzzy"
   ]
  },
  {
   "cell_type": "raw",
   "metadata": {},
   "source": [
    "Selanjutnya, menentukan fungsi keanggotaan dari masing-masing variabel."
   ]
  },
  {
   "cell_type": "markdown",
   "metadata": {},
   "source": [
    "| Variabel     | Himpunan      | Domain      | Fungsi Keanggotan     | \n",
    "|---------     |---------------|-------------|-----------------------|\n",
    "|ISys          |   Tidak Minat |   {1;10}    |   Bahu Kiri           |     \n",
    "|              |   Biasa       |   {8;18}    |   Segitiga            |   \n",
    "|              |   Minat       |   {16;24}   |   Bahu Kanan          |  \n",
    "|ESys          |   Tidak Minat |   {1;10}    |   Bahu Kiri           |   \n",
    "|              |   Biasa       |   {8;18}    |   Segitiga            |   \n",
    "|              |   Minat       |   {16;24}   |   Bahu Kanan          |   \n",
    "|EGov          |   Tidak Minat |   {1;10}    |   Bahu Kiri           |  \n",
    "|              |   Biasa       |   {7;16}    |   Segitiga            |   \n",
    "|              |   Minat       |   {13;20}   |   Bahu Kanan          |   \n",
    "| Minat  ISys  |   Rendah      |   {1;10}    |   Bahu Kiri           |  \n",
    "|              |   Sedang      |   {6;18}    |   Segitiga            |   \n",
    "|              |   Tinggi      |   {16;24}   |   Bahu Kanan          |   \n",
    "| Minat E-Sys  |   Rendah      |   {1;10}    |   Bahu Kiri           |  \n",
    "|              |   Sedang      |   {6;18}    |   Segitiga            | \n",
    "|              |   Tinggi      |   {16;24}   |   Bahu Kanan          |   \n",
    "| Minat E-Gov  |   Rendah      |   {1;8}     |   Bahu Kiri           |   \n",
    "|              |   Sedang      |   {6;16}    |   Segitiga            |   \n",
    "|              |   Tinggi      |   {14;20}   |   Bahu Kanan          |   "
   ]
  },
  {
   "cell_type": "markdown",
   "metadata": {},
   "source": [
    "### Nilai Linguistik"
   ]
  },
  {
   "cell_type": "markdown",
   "metadata": {},
   "source": [
    "#### Input\n",
    "\n",
    "#### a. Nilai Linguistik pada Variabel ISys ada 3, yaitu: \n",
    "\n",
    "- Tidak Minat\n",
    "$$ Tidak Minat [x] = \n",
    "\\begin{cases}\n",
    "    1 & ; 1 \\leq  x \\leq\\ 6 \\\\\n",
    "    \\frac{10-x}{4} & ; 6 \\leq  x \\leq\\ 10 \\\\\n",
    "    1 & ; x 1 |leq x \\geq 10 \\\\\n",
    "\\end{cases}\n",
    "$$\n",
    "- Biasa\n",
    "$$ Biasa [x] = \n",
    "\\begin{cases}\n",
    "    1 & ; x \\leq 8 \\geq\\ 18 \\\\ \n",
    "    \\frac{x-8}{5} & ; 8 \\leq x \\leq\\ 13 \\\\\n",
    "    \\frac{18-x}{5} & ; 13 \\leq  x \\leq\\ 18 \\\\\n",
    "\\end{cases}\n",
    "$$\n",
    "- Minat\n",
    "$$ Minat [x] = \n",
    "\\begin{cases}\n",
    "    1 & ; x \\leq 16 \\geq\\ 24 \\\\\n",
    "    \\frac{x-16}{(4} & ; 16 \\leq x \\leq\\ 20 \\\\\n",
    "     1 & ; 20 \\leq x \\leq\\ 24 \\\\\n",
    "\\end{cases}\n",
    "$$\n",
    "\n",
    "#### b. Nilai Linguistik pada Variabel ESys ada 3, yaitu:\n",
    "\n",
    "- Tidak Minat\n",
    "$$ Tidak Minat [x] = \n",
    "\\begin{cases}\n",
    "    1 & ; 1 \\leq  x \\leq\\ 6 \\\\\n",
    "    \\frac{10-x}{4} & ; 6 \\leq  x \\leq\\ 10 \\\\\n",
    "    1 & ; x 1 |leq x \\geq 10 \\\\\n",
    "\\end{cases}\n",
    "$$\n",
    "- Biasa\n",
    "$$ Biasa [x] = \n",
    "\\begin{cases}\n",
    "    1 & ; x \\leq 8 \\geq\\ 18 \\\\ \n",
    "    \\frac{x-8}{5} & ; 8 \\leq x \\leq\\ 13 \\\\\n",
    "    \\frac{18-x}{5} & ; 13 \\leq  x \\leq\\ 18 \\\\\n",
    "\\end{cases}\n",
    "$$\n",
    "- Minat\n",
    "$$ Minat [x] = \n",
    "\\begin{cases}\n",
    "    1 & ; x \\leq 16 \\geq\\ 24 \\\\\n",
    "    \\frac{x-16}{(4} & ; 16 \\leq x \\leq\\ 20 \\\\\n",
    "     1 & ; 20 \\leq x \\leq\\ 24 \\\\\n",
    "\\end{cases}\n",
    "$$\n",
    "\n",
    "#### c. Nilai Linguistik pada Variabel EGov ada 3, yaitu:\n",
    "\n",
    "- Tidak Minat\n",
    "$$ Tidak Minat [x] = \n",
    "\\begin{cases}\n",
    "    1 & ; 1 \\leq  x \\leq\\ 6 \\\\\n",
    "    \\frac{10-x}{4} & ; 6 \\leq  x \\leq\\ 10 \\\\\n",
    "    1 & ; x 1 |leq x \\geq 10 \\\\\n",
    "\\end{cases}\n",
    "$$\n",
    "- Biasa\n",
    "$$ Biasa [x] = \n",
    "\\begin{cases}\n",
    "    1 & ; x \\leq 7 \\geq\\ 16 \\\\ \n",
    "    \\frac{x-7}{2} & ; 7 \\leq x \\leq\\ 9 \\\\\n",
    "    \\frac{16-x}{2} & ; 9 \\leq  x \\leq\\ 16 \\\\\n",
    "\\end{cases}\n",
    "$$\n",
    "- Minat\n",
    "$$ Minat [x] = \n",
    "\\begin{cases}\n",
    "    1 & ; x \\leq 13 \\geq\\ 20 \\\\\n",
    "    \\frac{x-13}{(4} & ; 13 \\leq x \\leq\\ 17 \\\\\n",
    "     1 & ; 17 \\leq x \\leq\\ 20 \\\\\n",
    "\\end{cases}\n",
    "$$"
   ]
  },
  {
   "cell_type": "markdown",
   "metadata": {},
   "source": [
    "#### Output\n",
    "\n",
    "#### a. Nilai Linguistik pada Variabel Minat ISys ada 3, yaitu: \n",
    "\n",
    "- Rendah\n",
    "$$ Rendah [x] = \n",
    "\\begin{cases}\n",
    "    1 & ; 1 \\leq  x \\leq\\ 6 \\\\\n",
    "    \\frac{10-x}{4} & ; 6 \\leq  x \\leq\\ 10 \\\\\n",
    "    1 & ; x 1 |leq x \\geq 10 \\\\\n",
    "\\end{cases}\n",
    "$$\n",
    "- Sedang\n",
    "$$ Sedang [x] = \n",
    "\\begin{cases}\n",
    "    1 & ; x \\leq 6 \\geq\\ 18 \\\\ \n",
    "    \\frac{x-6}{6} & ; 6 \\leq x \\leq\\ 12 \\\\\n",
    "    \\frac{18-x}{6} & ; 12 \\leq  x \\leq\\ 18 \\\\\n",
    "\\end{cases}\n",
    "$$\n",
    "- Tinggi\n",
    "$$ Tinggi [x] = \n",
    "\\begin{cases}\n",
    "    1 & ; x \\leq 16 \\geq\\ 24 \\\\\n",
    "    \\frac{x-16}{(4} & ; 16 \\leq x \\leq\\ 20 \\\\\n",
    "     1 & ; 20 \\leq x \\leq\\ 24 \\\\\n",
    "\\end{cases}\n",
    "$$\n",
    "\n",
    "#### b. Nilai Linguistik pada Variabel Minat ESys ada 3, yaitu:\n",
    "\n",
    "- Rendah\n",
    "$$ Rendah [x] = \n",
    "\\begin{cases}\n",
    "    1 & ; 1 \\leq  x \\leq\\ 6 \\\\\n",
    "    \\frac{10-x}{4} & ; 6 \\leq  x \\leq\\ 10 \\\\\n",
    "    1 & ; x 1 |leq x \\geq 10 \\\\\n",
    "\\end{cases}\n",
    "$$\n",
    "- Sedang\n",
    "$$ Sedang [x] = \n",
    "\\begin{cases}\n",
    "    1 & ; x \\leq 6 \\geq\\ 18 \\\\ \n",
    "    \\frac{x-6}{6} & ; 6 \\leq x \\leq\\ 12 \\\\\n",
    "    \\frac{18-x}{6} & ; 12 \\leq  x \\leq\\ 18 \\\\\n",
    "\\end{cases}\n",
    "$$\n",
    "- Tinggi\n",
    "$$ Tinggi [x] = \n",
    "\\begin{cases}\n",
    "    1 & ; x \\leq 16 \\geq\\ 24 \\\\\n",
    "    \\frac{x-16}{(4} & ; 16 \\leq x \\leq\\ 20 \\\\\n",
    "     1 & ; 20 \\leq x \\leq\\ 24 \\\\\n",
    "\\end{cases}\n",
    "$$\n",
    "\n",
    "#### c. Nilai Linguistik pada Variabel Minat EGov ada 3, yaitu:\n",
    "\n",
    "- Rendah\n",
    "$$ Rendah [x] = \n",
    "\\begin{cases}\n",
    "    1 & ; 1 \\leq  x \\leq\\ 5 \\\\\n",
    "    \\frac{8-x}{3} & ; 5 \\leq  x \\leq\\ 8 \\\\\n",
    "    1 & ; x 1 |leq x \\geq 8 \\\\\n",
    "\\end{cases}\n",
    "$$\n",
    "- Sedang\n",
    "$$ Sedang [x] = \n",
    "\\begin{cases}\n",
    "    1 & ; x \\leq 6 \\geq\\ 16 \\\\ \n",
    "    \\frac{x-6}{5} & ; 6 \\leq x \\leq\\ 11 \\\\\n",
    "    \\frac{16-x}{6} & ; 11 \\leq  x \\leq\\ 16 \\\\\n",
    "\\end{cases}\n",
    "$$\n",
    "- Tinggi\n",
    "$$ Tinggi [x] = \n",
    "\\begin{cases}\n",
    "    1 & ; x \\leq 14 \\geq\\ 20 \\\\\n",
    "    \\frac{x-14}{(3} & ; 14 \\leq x \\leq\\ 17 \\\\\n",
    "     1 & ; 17 \\leq x \\leq\\ 20 \\\\\n",
    "\\end{cases}\n",
    "$$"
   ]
  },
  {
   "cell_type": "markdown",
   "metadata": {},
   "source": [
    "### Impor Library "
   ]
  },
  {
   "cell_type": "code",
   "execution_count": 32,
   "metadata": {},
   "outputs": [],
   "source": [
    "import numpy as np\n",
    "import skfuzzy as fuzz\n",
    "import matplotlib.pyplot as plt\n",
    "from skfuzzy import control as ctrl"
   ]
  },
  {
   "cell_type": "markdown",
   "metadata": {},
   "source": [
    "### Variabel dan Semesta Pembicaraan"
   ]
  },
  {
   "cell_type": "code",
   "execution_count": 33,
   "metadata": {},
   "outputs": [],
   "source": [
    "#input\n",
    "ISys = ctrl.Antecedent(np.arange(1,24,1),'ISys')\n",
    "ESys = ctrl.Antecedent(np.arange(1,24,1),'ESys')\n",
    "EGov = ctrl.Antecedent(np.arange(1,20,1),'EGov')\n",
    "#Untuk Plot Terpisah\n",
    "ISys1 = np.arange(1,24,1)\n",
    "ESys1 = np.arange(1,24,1)\n",
    "EGov1 = np.arange(1,20,1)\n",
    "\n",
    "#output\n",
    "Minat_ISys = ctrl.Consequent(np.arange(1,24,1),'Minat ISys')\n",
    "Minat_ESys = ctrl.Consequent(np.arange(1,24,1),'Minat ESys')\n",
    "Minat_EGov = ctrl.Consequent(np.arange(1,20,1),'Minat EGov')\n",
    "#Untuk Plot Terpisah\n",
    "Minat_ISys1 = np.arange(1,24,1)\n",
    "Minat_ESys1 = np.arange(1,24,1)\n",
    "Minat_EGov1 = np.arange(1,20,1)"
   ]
  },
  {
   "cell_type": "markdown",
   "metadata": {},
   "source": [
    "### Membership Function\n",
    "- Membership function yang digunakan yaitu fungsi segitiga atau triangular (trimf) dan fungsi trapesium (trapmf)."
   ]
  },
  {
   "cell_type": "markdown",
   "metadata": {},
   "source": [
    "Variabel    |     Fungsi Keanggotan   | \n",
    "----------- |-------------------------|\n",
    "ISys        |       Bahu Kiri         |  \n",
    "            |        Segitiga         |\n",
    "            |       Bahu Kanan        |\n",
    "ESys        |       Bahu Kiri         |\n",
    "            |        Segitiga         |\n",
    "            |       Bahu Kanan        |\n",
    "EGov        |       Bahu Kiri         |  \n",
    "            |        Segitiga         |\n",
    "            |       Bahu Kanan        | \n",
    "Minat ISys  |       Bahu Kiri         |\n",
    "            |        Segitiga         | \n",
    "            |       Bahu Kanan        |\n",
    "Minat ESys  |       Bahu Kiri         |\n",
    "            |        Segitiga         |\n",
    "            |       Bahu Kanan        |\n",
    "Minat EGov  |       Bahu Kiri         | \n",
    "            |        Segitiga         | \n",
    "            |       Bahu Kanan        | "
   ]
  },
  {
   "cell_type": "markdown",
   "metadata": {},
   "source": [
    "#### Membership Function dari Variabel Input"
   ]
  },
  {
   "cell_type": "code",
   "execution_count": 34,
   "metadata": {},
   "outputs": [],
   "source": [
    "ISys['Tidak Minat'] = fuzz.trapmf(ISys.universe, [1, 1, 8, 10])\n",
    "ISys['Biasa'] = fuzz.trimf(ISys.universe, [8, 13, 18])\n",
    "ISys['Minat'] = fuzz.trapmf(ISys.universe, [16, 20, 24, 24])\n",
    "\n",
    "#Untuk plot terpisah\n",
    "ISys1_tidakminat = fuzz.trapmf(ISys1, [1, 1, 8, 10])\n",
    "ISys1_biasa = fuzz.trimf(ISys1, [8, 13, 18])\n",
    "ISys1_minat = fuzz.trapmf(ISys1, [16, 20, 24, 24])"
   ]
  },
  {
   "cell_type": "code",
   "execution_count": 35,
   "metadata": {},
   "outputs": [],
   "source": [
    "ESys['Tidak Minat'] = fuzz.trapmf(ESys.universe,[1, 1, 8, 10])\n",
    "ESys['Biasa'] = fuzz.trimf(ESys.universe,[8, 13, 18])\n",
    "ESys['Minat'] = fuzz.trapmf(ESys.universe,[16, 20, 24, 24])\n",
    "\n",
    "#Untuk plot terpisah\n",
    "ESys1_tidakminat = fuzz.trapmf(ESys1,[1, 1, 8, 10])\n",
    "ESys1_biasa = fuzz.trimf(ESys1,[8, 13, 18])\n",
    "ESys1_minat = fuzz.trapmf(ESys1,[16, 20, 24, 24])"
   ]
  },
  {
   "cell_type": "code",
   "execution_count": 36,
   "metadata": {},
   "outputs": [],
   "source": [
    "EGov['Tidak Minat'] = fuzz.trapmf(EGov.universe,[1, 1, 8, 10])\n",
    "EGov['Biasa'] = fuzz.trimf(EGov.universe,[7, 12, 16])\n",
    "EGov['Minat'] = fuzz.trapmf(EGov.universe,[13, 17, 20, 20])\n",
    "\n",
    "#Untuk plot terpisah\n",
    "EGov1_tidakminat = fuzz.trapmf(EGov1,[1, 1, 8, 10])\n",
    "EGov1_biasa = fuzz.trimf(EGov1,[7, 12, 16])\n",
    "EGov1_minat = fuzz.trapmf(EGov1,[13, 17, 20, 20])"
   ]
  },
  {
   "cell_type": "markdown",
   "metadata": {},
   "source": [
    "#### Membership Function dari Variabel Output"
   ]
  },
  {
   "cell_type": "code",
   "execution_count": 37,
   "metadata": {},
   "outputs": [],
   "source": [
    "Minat_ISys['Rendah'] = fuzz.trapmf(Minat_ISys.universe,[1, 1, 8, 10])\n",
    "Minat_ISys['Sedang'] = fuzz.trimf(Minat_ISys.universe,[8, 13, 18])\n",
    "Minat_ISys['Tinggi'] = fuzz.trapmf(Minat_ISys.universe,[16, 20, 24, 24])\n",
    "\n",
    "#Untuk plot terpisah\n",
    "Minat_ISys1_rendah = fuzz.trapmf(Minat_ISys1,[1, 1, 8, 10])\n",
    "Minat_ISys1_sedang = fuzz.trimf(Minat_ISys1,[8, 13, 18])\n",
    "Minat_ISys1_tinggi = fuzz.trapmf(Minat_ISys1,[16, 20, 24, 24])"
   ]
  },
  {
   "cell_type": "code",
   "execution_count": 38,
   "metadata": {},
   "outputs": [],
   "source": [
    "Minat_ESys['Rendah'] = fuzz.trapmf(Minat_ESys.universe,[1, 1, 8, 10])\n",
    "Minat_ESys['Sedang'] = fuzz.trimf(Minat_ESys.universe,[8, 13, 18])\n",
    "Minat_ESys['Tinggi'] = fuzz.trapmf(Minat_ESys.universe,[16, 20, 24, 24])\n",
    "\n",
    "#Untuk plot terpisah\n",
    "Minat_ESys1_rendah = fuzz.trapmf(Minat_ESys1,[1, 1, 8, 10])\n",
    "Minat_ESys1_sedang = fuzz.trimf(Minat_ESys1,[8, 13, 18])\n",
    "Minat_ESys1_tinggi = fuzz.trapmf(Minat_ESys1,[16, 20, 24, 24])"
   ]
  },
  {
   "cell_type": "code",
   "execution_count": 39,
   "metadata": {},
   "outputs": [],
   "source": [
    "Minat_EGov['Rendah'] = fuzz.trapmf(EGov.universe,[1,1,8,10])\n",
    "Minat_EGov['Sedang'] = fuzz.trimf(EGov.universe,[7,12,16])\n",
    "Minat_EGov['Tinggi'] = fuzz.trapmf(EGov.universe,[13,17,20,20])\n",
    "\n",
    "#Untuk plot terpisah\n",
    "Minat_EGov1_rendah = fuzz.trapmf(Minat_EGov1,[1, 1, 8, 10])\n",
    "Minat_EGov1_sedang = fuzz.trimf(Minat_EGov1,[7, 12, 16])\n",
    "Minat_EGov1_tinggi = fuzz.trapmf(Minat_EGov1,[13, 17, 20, 20])"
   ]
  },
  {
   "cell_type": "markdown",
   "metadata": {},
   "source": [
    "### Grafik Masing-Masing Himpunan Fuzzy"
   ]
  },
  {
   "cell_type": "code",
   "execution_count": 40,
   "metadata": {},
   "outputs": [
    {
     "data": {
      "text/plain": [
       "<matplotlib.legend.Legend at 0x21ab1dd55f8>"
      ]
     },
     "execution_count": 40,
     "metadata": {},
     "output_type": "execute_result"
    },
    {
     "data": {
      "image/png": "[encoded data removed]",
      "text/plain": [
       "<Figure size 576x216 with 1 Axes>"
      ]
     },
     "metadata": {},
     "output_type": "display_data"
    }
   ],
   "source": [
    "fig, (ax0) = plt.subplots(nrows=1, figsize=(8, 3))\n",
    "\n",
    "ax0.plot(ISys1,ISys1_tidakminat, 'b', linewidth=1.5, label='TidakMinat')\n",
    "ax0.set_title('ISys')\n",
    "ax0.legend()"
   ]
  },
  {
   "cell_type": "code",
   "execution_count": 41,
   "metadata": {},
   "outputs": [
    {
     "data": {
      "text/plain": [
       "<matplotlib.legend.Legend at 0x21ab2328dd8>"
      ]
     },
     "execution_count": 41,
     "metadata": {},
     "output_type": "execute_result"
    },
    {
     "data": {
      "image/png": "[encoded data removed]",
      "text/plain": [
       "<Figure size 576x216 with 1 Axes>"
      ]
     },
     "metadata": {},
     "output_type": "display_data"
    },
    {
     "data": {
      "image/png": "[encoded data removed]",
      "text/plain": [
       "<Figure size 576x216 with 1 Axes>"
      ]
     },
     "metadata": {},
     "output_type": "display_data"
    },
    {
     "data": {
      "image/png": "[encoded data removed]",
      "text/plain": [
       "<Figure size 576x216 with 1 Axes>"
      ]
     },
     "metadata": {},
     "output_type": "display_data"
    }
   ],
   "source": [
    "fig, (ax3) = plt.subplots(nrows=1, figsize=(8, 3))\n",
    "\n",
    "ax3.plot(ESys1,ESys1_tidakminat, 'b', linewidth=1.5, label='TidakMinat')\n",
    "ax3.set_title('ESys')\n",
    "ax3.legend()\n",
    "\n",
    "fig, (ax4) = plt.subplots(nrows=1, figsize=(8, 3))\n",
    "\n",
    "ax4.plot(ESys1,ESys1_biasa, 'b', linewidth=1.5, label='Biasa')\n",
    "ax4.set_title('ESys')\n",
    "ax4.legend()\n",
    "\n",
    "fig, (ax5) = plt.subplots(nrows=1, figsize=(8, 3))\n",
    "\n",
    "ax5.plot(ESys1,ESys1_minat, 'b', linewidth=1.5, label='Minat')\n",
    "ax5.set_title('ESys')\n",
    "ax5.legend()"
   ]
  },
  {
   "cell_type": "markdown",
   "metadata": {},
   "source": [
    "- Menampilkan Grafik Masing-masing Himpunan Fuzzy"
   ]
  },
  {
   "cell_type": "code",
   "execution_count": 42,
   "metadata": {},
   "outputs": [
    {
     "data": {
      "text/plain": [
       "<matplotlib.legend.Legend at 0x21ab24b1ba8>"
      ]
     },
     "execution_count": 42,
     "metadata": {},
     "output_type": "execute_result"
    },
    {
     "data": {
      "image/png": "[encoded data removed]",
      "text/plain": [
       "<Figure size 576x216 with 1 Axes>"
      ]
     },
     "metadata": {},
     "output_type": "display_data"
    },
    {
     "data": {
      "image/png": "[encoded data removed]",
      "text/plain": [
       "<Figure size 576x216 with 1 Axes>"
      ]
     },
     "metadata": {},
     "output_type": "display_data"
    },
    {
     "data": {
      "image/png": "[encoded data removed]",
      "text/plain": [
       "<Figure size 576x216 with 1 Axes>"
      ]
     },
     "metadata": {},
     "output_type": "display_data"
    }
   ],
   "source": [
    "fig, (ax6) = plt.subplots(nrows=1, figsize=(8, 3))\n",
    "\n",
    "ax6.plot(Minat_ISys1,Minat_ISys1_rendah, 'b', linewidth=1.5, label='Rendah')\n",
    "ax6.set_title('Minat_ISys1')\n",
    "ax6.legend()\n",
    "\n",
    "fig, (ax7) = plt.subplots(nrows=1, figsize=(8, 3))\n",
    "\n",
    "ax7.plot(Minat_ISys1,Minat_ISys1_sedang, 'b', linewidth=1.5, label='Sedang')\n",
    "ax7.set_title('Minat_ISys1')\n",
    "ax7.legend()\n",
    "\n",
    "fig, (ax8) = plt.subplots(nrows=1, figsize=(8, 3))\n",
    "\n",
    "ax8.plot(Minat_ISys1,Minat_ISys1_tinggi, 'b', linewidth=1.5, label='Tinggi')\n",
    "ax8.set_title('Minat_ISys1')\n",
    "ax8.legend()"
   ]
  },
  {
   "cell_type": "markdown",
   "metadata": {},
   "source": [
    "### Grafik Fungsi Keanggotaan"
   ]
  },
  {
   "cell_type": "markdown",
   "metadata": {},
   "source": [
    "#### Input"
   ]
  },
  {
   "cell_type": "markdown",
   "metadata": {},
   "source": [
    "- Variabel ISys"
   ]
  },
  {
   "cell_type": "code",
   "execution_count": 43,
   "metadata": {},
   "outputs": [
    {
     "name": "stderr",
     "output_type": "stream",
     "text": [
      "C:\\ProgramData\\Anaconda3\\lib\\site-packages\\matplotlib\\figure.py:459: UserWarning: matplotlib is currently using a non-GUI backend, so cannot show the figure\n",
      "  \"matplotlib is currently using a non-GUI backend, \"\n"
     ]
    },
    {
     "data": {
      "image/png": "[encoded data removed]",
      "text/plain": [
       "<Figure size 432x288 with 1 Axes>"
      ]
     },
     "metadata": {},
     "output_type": "display_data"
    }
   ],
   "source": [
    "ISys.view()"
   ]
  },
  {
   "cell_type": "markdown",
   "metadata": {},
   "source": [
    "* Variabel ESys"
   ]
  },
  {
   "cell_type": "code",
   "execution_count": 44,
   "metadata": {},
   "outputs": [
    {
     "name": "stderr",
     "output_type": "stream",
     "text": [
      "C:\\ProgramData\\Anaconda3\\lib\\site-packages\\matplotlib\\figure.py:459: UserWarning: matplotlib is currently using a non-GUI backend, so cannot show the figure\n",
      "  \"matplotlib is currently using a non-GUI backend, \"\n"
     ]
    },
    {
     "data": {
      "image/png": "[encoded data removed]",
      "text/plain": [
       "<Figure size 432x288 with 1 Axes>"
      ]
     },
     "metadata": {},
     "output_type": "display_data"
    }
   ],
   "source": [
    "ESys.view()"
   ]
  },
  {
   "cell_type": "markdown",
   "metadata": {},
   "source": [
    "* Variabel EGov"
   ]
  },
  {
   "cell_type": "code",
   "execution_count": 45,
   "metadata": {},
   "outputs": [
    {
     "name": "stderr",
     "output_type": "stream",
     "text": [
      "C:\\ProgramData\\Anaconda3\\lib\\site-packages\\matplotlib\\figure.py:459: UserWarning: matplotlib is currently using a non-GUI backend, so cannot show the figure\n",
      "  \"matplotlib is currently using a non-GUI backend, \"\n"
     ]
    },
    {
     "data": {
      "image/png": "[encoded data removed]",
      "text/plain": [
       "<Figure size 432x288 with 1 Axes>"
      ]
     },
     "metadata": {},
     "output_type": "display_data"
    }
   ],
   "source": [
    "EGov.view()"
   ]
  },
  {
   "cell_type": "markdown",
   "metadata": {},
   "source": [
    "#### Output "
   ]
  },
  {
   "cell_type": "markdown",
   "metadata": {},
   "source": [
    "* Variabel Minat ISys"
   ]
  },
  {
   "cell_type": "code",
   "execution_count": 46,
   "metadata": {},
   "outputs": [
    {
     "name": "stderr",
     "output_type": "stream",
     "text": [
      "C:\\ProgramData\\Anaconda3\\lib\\site-packages\\matplotlib\\figure.py:459: UserWarning: matplotlib is currently using a non-GUI backend, so cannot show the figure\n",
      "  \"matplotlib is currently using a non-GUI backend, \"\n"
     ]
    },
    {
     "data": {
      "image/png": "[encoded data removed]",
      "text/plain": [
       "<Figure size 432x288 with 1 Axes>"
      ]
     },
     "metadata": {},
     "output_type": "display_data"
    }
   ],
   "source": [
    "Minat_ISys.view()"
   ]
  },
  {
   "cell_type": "markdown",
   "metadata": {},
   "source": [
    "* Variabel Minat ESys"
   ]
  },
  {
   "cell_type": "code",
   "execution_count": 47,
   "metadata": {},
   "outputs": [
    {
     "name": "stderr",
     "output_type": "stream",
     "text": [
      "C:\\ProgramData\\Anaconda3\\lib\\site-packages\\matplotlib\\figure.py:459: UserWarning: matplotlib is currently using a non-GUI backend, so cannot show the figure\n",
      "  \"matplotlib is currently using a non-GUI backend, \"\n"
     ]
    },
    {
     "data": {
      "image/png": "[encoded data removed]",
      "text/plain": [
       "<Figure size 432x288 with 1 Axes>"
      ]
     },
     "metadata": {},
     "output_type": "display_data"
    }
   ],
   "source": [
    "Minat_ESys.view()"
   ]
  },
  {
   "cell_type": "markdown",
   "metadata": {},
   "source": [
    "* Variabel Minat EGov"
   ]
  },
  {
   "cell_type": "code",
   "execution_count": 48,
   "metadata": {},
   "outputs": [
    {
     "name": "stderr",
     "output_type": "stream",
     "text": [
      "C:\\ProgramData\\Anaconda3\\lib\\site-packages\\matplotlib\\figure.py:459: UserWarning: matplotlib is currently using a non-GUI backend, so cannot show the figure\n",
      "  \"matplotlib is currently using a non-GUI backend, \"\n"
     ]
    },
    {
     "data": {
      "image/png": "[encoded data removed]",
      "text/plain": [
       "<Figure size 432x288 with 1 Axes>"
      ]
     },
     "metadata": {},
     "output_type": "display_data"
    }
   ],
   "source": [
    "Minat_EGov.view()"
   ]
  },
  {
   "cell_type": "markdown",
   "metadata": {},
   "source": [
    "# RULE BASE"
   ]
  },
  {
   "cell_type": "code",
   "execution_count": 49,
   "metadata": {},
   "outputs": [],
   "source": [
    "rule1 = ctrl.Rule(ISys['Tidak Minat'] & ESys['Tidak Minat'] & EGov['Tidak Minat'],(Minat_ISys['Rendah'],Minat_ESys['Rendah'],Minat_EGov['Rendah']))\n",
    "rule2 = ctrl.Rule(ISys['Tidak Minat'] & ESys['Tidak Minat'] & EGov['Biasa'],(Minat_ISys['Rendah'],Minat_ESys['Rendah'],Minat_EGov['Sedang']))\n",
    "rule3 = ctrl.Rule(ISys['Tidak Minat'] & ESys['Tidak Minat'] & EGov['Minat'],(Minat_ISys['Rendah'],Minat_ESys['Rendah'],Minat_EGov['Tinggi']))\n",
    "rule4 = ctrl.Rule(ISys['Tidak Minat'] & ESys['Biasa'] & EGov['Tidak Minat'],(Minat_ISys['Rendah'],Minat_ESys['Sedang'],Minat_EGov['Rendah']))\n",
    "rule5 = ctrl.Rule(ISys['Tidak Minat'] & ESys['Biasa'] & EGov['Biasa'],(Minat_ISys['Rendah'],Minat_ESys['Sedang'],Minat_EGov['Sedang']))\n",
    "rule6 = ctrl.Rule(ISys['Tidak Minat'] & ESys['Biasa'] & EGov['Minat'],(Minat_ISys['Rendah'],Minat_ESys['Sedang'],Minat_EGov['Tinggi']))\n",
    "rule7 = ctrl.Rule(ISys['Tidak Minat'] & ESys['Minat'] & EGov['Tidak Minat'],(Minat_ISys['Rendah'],Minat_ESys['Tinggi'],Minat_EGov['Rendah']))\n",
    "rule8 = ctrl.Rule(ISys['Tidak Minat'] & ESys['Minat'] & EGov['Biasa'],(Minat_ISys['Rendah'],Minat_ESys['Tinggi'],Minat_EGov['Sedang']))\n",
    "rule9 = ctrl.Rule(ISys['Tidak Minat'] & ESys['Minat'] & EGov['Minat'],(Minat_ISys['Rendah'],Minat_ESys['Tinggi'],Minat_EGov['Tinggi']))\n",
    "rule10 = ctrl.Rule(ISys['Biasa'] & ESys['Tidak Minat'] & EGov['Tidak Minat'],(Minat_ISys['Sedang'],Minat_ESys['Rendah'],Minat_EGov['Rendah']))\n",
    "rule11 = ctrl.Rule(ISys['Biasa'] & ESys['Tidak Minat'] & EGov['Biasa'],(Minat_ISys['Sedang'],Minat_ESys['Rendah'],Minat_EGov['Sedang']))\n",
    "rule12 = ctrl.Rule(ISys['Biasa'] & ESys['Tidak Minat'] & EGov['Minat'],(Minat_ISys['Sedang'],Minat_ESys['Rendah'],Minat_EGov['Tinggi']))\n",
    "rule13 = ctrl.Rule(ISys['Biasa'] & ESys['Biasa'] & EGov['Tidak Minat'],(Minat_ISys['Sedang'],Minat_ESys['Sedang'],Minat_EGov['Rendah']))\n",
    "rule14 = ctrl.Rule(ISys['Biasa'] & ESys['Biasa'] & EGov['Biasa'],(Minat_ISys['Sedang'],Minat_ESys['Sedang'],Minat_EGov['Sedang']))\n",
    "rule15 = ctrl.Rule(ISys['Biasa'] & ESys['Biasa'] & EGov['Minat'],(Minat_ISys['Sedang'],Minat_ESys['Sedang'],Minat_EGov['Tinggi']))\n",
    "rule16 = ctrl.Rule(ISys['Biasa'] & ESys['Minat'] & EGov['Tidak Minat'],(Minat_ISys['Sedang'],Minat_ESys['Tinggi'],Minat_EGov['Rendah']))\n",
    "rule17 = ctrl.Rule(ISys['Biasa'] & ESys['Minat'] & EGov['Biasa'],(Minat_ISys['Sedang'],Minat_ESys['Tinggi'],Minat_EGov['Sedang']))\n",
    "rule18 = ctrl.Rule(ISys['Biasa'] & ESys['Minat'] & EGov['Minat'],(Minat_ISys['Sedang'],Minat_ESys['Tinggi'],Minat_EGov['Tinggi']))\n",
    "rule19 = ctrl.Rule(ISys['Minat'] & ESys['Tidak Minat'] & EGov['Tidak Minat'],(Minat_ISys['Tinggi'],Minat_ESys['Rendah'],Minat_EGov['Rendah']))\n",
    "rule20 = ctrl.Rule(ISys['Minat'] & ESys['Tidak Minat'] & EGov['Biasa'],(Minat_ISys['Tinggi'],Minat_ESys['Rendah'],Minat_EGov['Sedang']))\n",
    "rule21 = ctrl.Rule(ISys['Minat'] & ESys['Tidak Minat'] & EGov['Minat'],(Minat_ISys['Tinggi'],Minat_ESys['Rendah'],Minat_EGov['Tinggi']))\n",
    "rule22 = ctrl.Rule(ISys['Minat'] & ESys['Biasa'] & EGov['Tidak Minat'],(Minat_ISys['Tinggi'],Minat_ESys['Sedang'],Minat_EGov['Rendah']))\n",
    "rule23 = ctrl.Rule(ISys['Minat'] & ESys['Biasa'] & EGov['Biasa'],(Minat_ISys['Tinggi'],Minat_ESys['Sedang'],Minat_EGov['Sedang']))\n",
    "rule24 = ctrl.Rule(ISys['Minat'] & ESys['Biasa'] & EGov['Minat'],(Minat_ISys['Tinggi'],Minat_ESys['Sedang'],Minat_EGov['Tinggi']))\n",
    "rule25 = ctrl.Rule(ISys['Minat'] & ESys['Minat'] & EGov['Tidak Minat'],(Minat_ISys['Tinggi'],Minat_ESys['Tinggi'],Minat_EGov['Rendah']))\n",
    "rule26 = ctrl.Rule(ISys['Minat'] & ESys['Minat'] & EGov['Biasa'],(Minat_ISys['Tinggi'],Minat_ESys['Tinggi'],Minat_EGov['Sedang']))\n",
    "rule27 = ctrl.Rule(ISys['Minat'] & ESys['Minat'] & EGov['Minat'],(Minat_ISys['Tinggi'],Minat_ESys['Tinggi'],Minat_EGov['Tinggi']))"
   ]
  },
  {
   "cell_type": "code",
   "execution_count": 50,
   "metadata": {},
   "outputs": [
    {
     "data": {
      "text/plain": [
       "(<Figure size 432x288 with 1 Axes>,\n",
       " <matplotlib.axes._subplots.AxesSubplot at 0x21ab37d6f28>)"
      ]
     },
     "execution_count": 50,
     "metadata": {},
     "output_type": "execute_result"
    },
    {
     "data": {
      "image/png": "[encoded data removed]",
      "text/plain": [
       "<Figure size 432x288 with 1 Axes>"
      ]
     },
     "metadata": {},
     "output_type": "display_data"
    }
   ],
   "source": [
    "rule1.view()"
   ]
  },
  {
   "cell_type": "markdown",
   "metadata": {},
   "source": [
    "# DEFUZZYFIKASI"
   ]
  },
  {
   "cell_type": "markdown",
   "metadata": {},
   "source": [
    "### Menggunakan Mode Simulasi"
   ]
  },
  {
   "cell_type": "code",
   "execution_count": 51,
   "metadata": {},
   "outputs": [],
   "source": [
    "simulasi_Minat_ISys = ctrl.ControlSystem([rule1, rule2, rule3, rule4, rule5, rule6, rule7, rule8, rule9, rule10, rule11, rule12, rule13, rule14, rule15, rule16, rule17, rule18, rule19, rule20, rule21, rule22, rule23, rule24, rule25, rule26, rule27])\n",
    "simulasi_Minat_ESys = ctrl.ControlSystem([rule1, rule2, rule3, rule4, rule5, rule6, rule7, rule8, rule9, rule10, rule11, rule12, rule13, rule14, rule15, rule16, rule17, rule18, rule19, rule20, rule21, rule22, rule23, rule24, rule25, rule26, rule27])\n",
    "simulasi_Minat_EGov = ctrl.ControlSystem([rule1, rule2, rule3, rule4, rule5, rule6, rule7, rule8, rule9, rule10, rule11, rule12, rule13, rule14, rule15, rule16, rule17, rule18, rule19, rule20, rule21, rule22, rule23, rule24, rule25, rule26, rule27])"
   ]
  },
  {
   "cell_type": "markdown",
   "metadata": {},
   "source": [
    "### Simulasi dengan Memasukan Nilai pada variabel Input"
   ]
  },
  {
   "cell_type": "code",
   "execution_count": 52,
   "metadata": {},
   "outputs": [],
   "source": [
    "prediksi_Minat_ISys = ctrl.ControlSystemSimulation(simulasi_Minat_ISys)\n",
    "prediksi_Minat_ESys = ctrl.ControlSystemSimulation(simulasi_Minat_ESys)\n",
    "prediksi_Minat_EGov = ctrl.ControlSystemSimulation(simulasi_Minat_EGov)"
   ]
  },
  {
   "cell_type": "markdown",
   "metadata": {},
   "source": [
    "### Simulasi dengan Memasukan Nilai pada Variabel Input"
   ]
  },
  {
   "cell_type": "code",
   "execution_count": 53,
   "metadata": {},
   "outputs": [],
   "source": [
    "prediksi_Minat_ISys.input['ISys'] = 15\n",
    "prediksi_Minat_ESys.input['ESys'] = 14\n",
    "prediksi_Minat_EGov.input['EGov'] = 14"
   ]
  },
  {
   "cell_type": "markdown",
   "metadata": {},
   "source": [
    "Karena di atas kita sudah melakukan proses fuzzyfikasi, selanjutnya kita akan cocokkan dengan perhitungan manualnya"
   ]
  },
  {
   "cell_type": "code",
   "execution_count": 54,
   "metadata": {},
   "outputs": [
    {
     "name": "stdout",
     "output_type": "stream",
     "text": [
      "Perhitungan hasil komputasi = 13.000\n"
     ]
    }
   ],
   "source": [
    "prediksi_akhir = prediksi_Minat_ISys.compute()\n",
    "prediksi_akhir = prediksi_Minat_ISys.output['Minat ISys']\n",
    "print (\"Perhitungan hasil komputasi = %.3f\" % prediksi_akhir)"
   ]
  },
  {
   "cell_type": "code",
   "execution_count": 55,
   "metadata": {},
   "outputs": [
    {
     "name": "stdout",
     "output_type": "stream",
     "text": [
      "Perhitungan hasil komputasi = 13.00\n"
     ]
    }
   ],
   "source": [
    "prediksi_akhir = prediksi_Minat_ESys.compute()\n",
    "prediksi_akhir = prediksi_Minat_ESys.output['Minat ESys']\n",
    "print (\"Perhitungan hasil komputasi = %.2f\" % prediksi_akhir)"
   ]
  },
  {
   "cell_type": "code",
   "execution_count": 56,
   "metadata": {},
   "outputs": [
    {
     "name": "stdout",
     "output_type": "stream",
     "text": [
      "Perhitungan hasil komputasi = 12.77\n"
     ]
    }
   ],
   "source": [
    "prediksi_akhir = prediksi_Minat_EGov.compute()\n",
    "prediksi_akhir = prediksi_Minat_EGov.output['Minat EGov']\n",
    "print (\"Perhitungan hasil komputasi = %.2f\" % prediksi_akhir)"
   ]
  },
  {
   "cell_type": "markdown",
   "metadata": {},
   "source": [
    "### Grafik Hasil Inferensi dan Defuzzyfikasi"
   ]
  },
  {
   "cell_type": "code",
   "execution_count": 57,
   "metadata": {},
   "outputs": [
    {
     "name": "stderr",
     "output_type": "stream",
     "text": [
      "C:\\ProgramData\\Anaconda3\\lib\\site-packages\\matplotlib\\figure.py:459: UserWarning: matplotlib is currently using a non-GUI backend, so cannot show the figure\n",
      "  \"matplotlib is currently using a non-GUI backend, \"\n"
     ]
    },
    {
     "data": {
      "image/png": "[encoded data removed]",
      "text/plain": [
       "<Figure size 432x288 with 1 Axes>"
      ]
     },
     "metadata": {},
     "output_type": "display_data"
    },
    {
     "data": {
      "image/png": "[encoded data removed]",
      "text/plain": [
       "<Figure size 432x288 with 1 Axes>"
      ]
     },
     "metadata": {},
     "output_type": "display_data"
    },
    {
     "data": {
      "image/png": "[encoded data removed]",
      "text/plain": [
       "<Figure size 432x288 with 1 Axes>"
      ]
     },
     "metadata": {},
     "output_type": "display_data"
    }
   ],
   "source": [
    "Minat_ISys.view(sim = prediksi_Minat_ISys)\n",
    "Minat_ESys.view(sim = prediksi_Minat_ESys)\n",
    "Minat_EGov.view(sim = prediksi_Minat_EGov)"
   ]
  },
  {
   "cell_type": "markdown",
   "metadata": {},
   "source": [
    "## Perhitungan Manual"
   ]
  },
  {
   "cell_type": "markdown",
   "metadata": {},
   "source": [
    "\\begin{equation}\n",
    "    ISys = 15 \\\\\n",
    "    Masukkan\\,nilai\\,ISys\\,ke\\,dalam\\,masing-masing\\,fungsi\\,keanggotaan\\,ISys\\\\\n",
    "  ISys['Tidak Minat'] = \\mu ISysTidakMinat(x)=\\begin{cases}\n",
    "    1 & ; 1 \\leq  x \\leq\\ 6 \\\\\n",
    "    \\frac{10-x}{4} & ; 6 \\leq  x \\leq\\ 10 \\\\\n",
    "    1 & ; x 1 |leq x \\geq 10 \\\\\n",
    "  \\end{cases}\n",
    "  \\\\\n",
    "  ISys['Biasa'] = \\mu ISysBiasa(x)=\\begin{cases}\n",
    "    1 & ; x \\leq 8 \\geq\\ 18 \\\\ \n",
    "    \\frac{x-8}{5} & ; 8 \\leq x \\leq\\ 13 \\\\\n",
    "    \\frac{18-x}{5} & ; 13 \\leq  x \\leq\\ 18 \\\\\n",
    "  \\end{cases}\n",
    "  \\\\\n",
    "    ISys ['Minat'] = \\mu ISysMinat(x)=\\begin{cases}\n",
    "    1 & ; x \\leq 16 \\geq\\ 24 \\\\\n",
    "    \\frac{x-16}{(4} & ; 16 \\leq x \\leq\\ 20 \\\\\n",
    "     1 & ; 20 \\leq x \\leq\\ 24 \\\\\n",
    "  \\end{cases}\n",
    "\\end{equation}"
   ]
  },
  {
   "cell_type": "markdown",
   "metadata": {},
   "source": [
    "\\begin{equation}\n",
    "    ESys = 14 \\\\\n",
    "    Masukkan\\,nilai\\,ESys\\,ke\\,dalam\\,masing-masing\\,fungsi\\,keanggotaan\\,ESys\\\\\n",
    "  ESys['Tidak Minat'] = \\mu ESysTidakMinat(x)=\\begin{cases}\n",
    "    1 & ; 1 \\leq  x \\leq\\ 6 \\\\\n",
    "    \\frac{10-x}{4} & ; 6 \\leq  x \\leq\\ 10 \\\\\n",
    "    1 & ; x 1 |leq x \\geq 10 \\\\\n",
    "  \\end{cases}\n",
    "  \\\\\n",
    "  ESys['Biasa'] = \\mu ESysBiasa(x)=\\begin{cases}\n",
    "    1 & ; x \\leq 8 \\geq\\ 18 \\\\ \n",
    "    \\frac{x-8}{5} & ; 8 \\leq x \\leq\\ 13 \\\\\n",
    "    \\frac{18-x}{5} & ; 13 \\leq  x \\leq\\ 18 \\\\\n",
    "  \\end{cases}\n",
    "  \\\\\n",
    "    ESys ['Minat'] = \\mu ESysMinat(x)=\\begin{cases}\n",
    "    1 & ; x \\leq 16 \\geq\\ 24 \\\\\n",
    "    \\frac{x-16}{(4} & ; 16 \\leq x \\leq\\ 20 \\\\\n",
    "     1 & ; 20 \\leq x \\leq\\ 24 \\\\\n",
    "  \\end{cases}\n",
    "\\end{equation}"
   ]
  },
  {
   "cell_type": "markdown",
   "metadata": {},
   "source": [
    "\\begin{equation}\n",
    "    EGov = 14 \\\\\n",
    "    Masukkan\\,nilai\\,EGov\\,ke\\,dalam\\,masing-masing\\,fungsi\\,keanggotaan\\,EGov\\\\\n",
    "  EGov['Tidak Minat'] = \\mu EGovTidakMinat(x)=\\begin{cases}\n",
    "    1 & ; 1 \\leq  x \\leq\\ 6 \\\\\n",
    "    \\frac{10-x}{4} & ; 6 \\leq  x \\leq\\ 10 \\\\\n",
    "    1 & ; x 1 |leq x \\geq 10 \\\\\n",
    "  \\end{cases}\n",
    "  \\\\\n",
    "  EGov['Biasa'] = \\mu EGovBiasa(x)=\\begin{cases}\n",
    "    1 & ; x \\leq 7 \\geq\\ 16 \\\\ \n",
    "    \\frac{x-7}{2} & ; 7 \\leq x \\leq\\ 9 \\\\\n",
    "    \\frac{16-x}{2} & ; 9 \\leq  x \\leq\\ 16 \\\\\n",
    "  \\end{cases}\n",
    "  \\\\\n",
    "    EGov['Minat'] = \\mu EGovMinat(x)=\\begin{cases}\n",
    "    1 & ; x \\leq 13 \\geq\\ 20 \\\\\n",
    "    \\frac{x-13}{(4} & ; 13 \\leq x \\leq\\ 17 \\\\\n",
    "     1 & ; 17 \\leq x \\leq\\ 20 \\\\\n",
    "  \\end{cases}\n",
    "\\end{equation}"
   ]
  },
  {
   "cell_type": "markdown",
   "metadata": {},
   "source": [
    "## Perhitungan"
   ]
  },
  {
   "cell_type": "markdown",
   "metadata": {},
   "source": [
    "#### Mencari nilai a dan b"
   ]
  },
  {
   "cell_type": "markdown",
   "metadata": {},
   "source": [
    "- Minat ISys"
   ]
  },
  {
   "cell_type": "markdown",
   "metadata": {},
   "source": [
    "$$\n",
    "0,5 = \\frac{a - 7,5}{12,5 - 7,5}\n",
    "$$"
   ]
  },
  {
   "cell_type": "markdown",
   "metadata": {},
   "source": [
    "$$\n",
    "0,5 x 5 = a - 7,5\n",
    "$$"
   ]
  },
  {
   "cell_type": "markdown",
   "metadata": {},
   "source": [
    "$$\n",
    "2,5 + 7,5 = a\n",
    "$$"
   ]
  },
  {
   "cell_type": "markdown",
   "metadata": {},
   "source": [
    "$$\n",
    "a = 10\n",
    "$$"
   ]
  },
  {
   "cell_type": "markdown",
   "metadata": {},
   "source": [
    "$$\n",
    "0,5 = \\frac{17,5 - b}{17,5 - 12,5}\n",
    "$$"
   ]
  },
  {
   "cell_type": "markdown",
   "metadata": {},
   "source": [
    "$$\n",
    "0,5x5 = 17,5 - b\n",
    "$$"
   ]
  },
  {
   "cell_type": "markdown",
   "metadata": {},
   "source": [
    "$$\n",
    "b = 17,5 - b\n",
    "$$"
   ]
  },
  {
   "cell_type": "markdown",
   "metadata": {},
   "source": [
    "$$\n",
    "b = 15\n",
    "$$"
   ]
  },
  {
   "cell_type": "markdown",
   "metadata": {},
   "source": [
    "- Minat ESys"
   ]
  },
  {
   "cell_type": "markdown",
   "metadata": {},
   "source": [
    "$$\n",
    "0,5 = \\frac{a - 7,5}{12,5 - 7,5}\n",
    "$$"
   ]
  },
  {
   "cell_type": "markdown",
   "metadata": {},
   "source": [
    "$$\n",
    "0,5 x 5 = a - 7,5\n",
    "$$"
   ]
  },
  {
   "cell_type": "markdown",
   "metadata": {},
   "source": [
    "$$\n",
    "2,5 + 7,5 = a\n",
    "$$"
   ]
  },
  {
   "cell_type": "markdown",
   "metadata": {},
   "source": [
    "$$\n",
    "a = 10\n",
    "$$"
   ]
  },
  {
   "cell_type": "markdown",
   "metadata": {},
   "source": [
    "$$\n",
    "0,5 = \\frac{17,5 - b}{17,5 - 12,5}\n",
    "$$"
   ]
  },
  {
   "cell_type": "markdown",
   "metadata": {},
   "source": [
    "$$\n",
    "0,5x5 = 17,5 - b\n",
    "$$"
   ]
  },
  {
   "cell_type": "markdown",
   "metadata": {},
   "source": [
    "$$\n",
    "b = 17,5 - b\n",
    "$$"
   ]
  },
  {
   "cell_type": "markdown",
   "metadata": {},
   "source": [
    "$$\n",
    "b = 15\n",
    "$$"
   ]
  },
  {
   "cell_type": "markdown",
   "metadata": {},
   "source": [
    "- Minat EGov"
   ]
  },
  {
   "cell_type": "markdown",
   "metadata": {},
   "source": [
    "$$\n",
    "0,5 = \\frac{a - 7}{13 - 7}\n",
    "$$"
   ]
  },
  {
   "cell_type": "markdown",
   "metadata": {},
   "source": [
    "$$\n",
    "0,5 x 6 = a - 7\n",
    "$$"
   ]
  },
  {
   "cell_type": "markdown",
   "metadata": {},
   "source": [
    "$$\n",
    "3 + 7 = a\n",
    "$$"
   ]
  },
  {
   "cell_type": "markdown",
   "metadata": {},
   "source": [
    "$$\n",
    "a = 10\n",
    "$$"
   ]
  },
  {
   "cell_type": "markdown",
   "metadata": {},
   "source": [
    "$$\n",
    "0,5 = \\frac{16 - b}{16 - 13}\n",
    "$$"
   ]
  },
  {
   "cell_type": "markdown",
   "metadata": {},
   "source": [
    "$$\n",
    "0,5x30 = 16 - 6\n",
    "$$"
   ]
  },
  {
   "cell_type": "markdown",
   "metadata": {},
   "source": [
    "$$\n",
    "b = 16 - 1,5\n",
    "$$"
   ]
  },
  {
   "cell_type": "markdown",
   "metadata": {},
   "source": [
    "$$\n",
    "b = 14,5\n",
    "$$"
   ]
  },
  {
   "cell_type": "markdown",
   "metadata": {},
   "source": [
    "#### Menghitung X1, X2 dan X3"
   ]
  },
  {
   "cell_type": "markdown",
   "metadata": {},
   "source": [
    "- Minat ISys"
   ]
  },
  {
   "cell_type": "markdown",
   "metadata": {},
   "source": [
    "- X1"
   ]
  },
  {
   "cell_type": "markdown",
   "metadata": {},
   "source": [
    "$$\n",
    "X1 = {7,5 + 1,7 }\n",
    "$$"
   ]
  },
  {
   "cell_type": "markdown",
   "metadata": {},
   "source": [
    "$$\n",
    "= 9,2\n",
    "$$"
   ]
  },
  {
   "cell_type": "markdown",
   "metadata": {},
   "source": [
    "- X2"
   ]
  },
  {
   "cell_type": "markdown",
   "metadata": {},
   "source": [
    "$$\n",
    "X2 = \\frac{3,75}{2}  \n",
    "$$"
   ]
  },
  {
   "cell_type": "markdown",
   "metadata": {},
   "source": [
    "$$\n",
    "= 1,875\n",
    "$$"
   ]
  },
  {
   "cell_type": "markdown",
   "metadata": {},
   "source": [
    "- X3"
   ]
  },
  {
   "cell_type": "markdown",
   "metadata": {},
   "source": [
    "$$\n",
    "X1 = {17,5 + 2,5 }\n",
    "$$"
   ]
  },
  {
   "cell_type": "markdown",
   "metadata": {},
   "source": [
    "$$\n",
    "= 20\n",
    "$$"
   ]
  },
  {
   "cell_type": "markdown",
   "metadata": {},
   "source": [
    "- Minat ESys"
   ]
  },
  {
   "cell_type": "markdown",
   "metadata": {},
   "source": [
    "- X1"
   ]
  },
  {
   "cell_type": "markdown",
   "metadata": {},
   "source": [
    "$$\n",
    "X1 = {7,5 + 1,7 }\n",
    "$$"
   ]
  },
  {
   "cell_type": "markdown",
   "metadata": {},
   "source": [
    "$$\n",
    "= 9,2\n",
    "$$"
   ]
  },
  {
   "cell_type": "markdown",
   "metadata": {},
   "source": [
    "- X2"
   ]
  },
  {
   "cell_type": "markdown",
   "metadata": {},
   "source": [
    "$$\n",
    "X2 = \\frac{3,75}{2}  \n",
    "$$"
   ]
  },
  {
   "cell_type": "markdown",
   "metadata": {},
   "source": [
    "$$\n",
    "= 1,875\n",
    "$$"
   ]
  },
  {
   "cell_type": "markdown",
   "metadata": {},
   "source": [
    "- X3"
   ]
  },
  {
   "cell_type": "markdown",
   "metadata": {},
   "source": [
    "$$\n",
    "X1 = {17,5 + 2,5 }\n",
    "$$"
   ]
  },
  {
   "cell_type": "markdown",
   "metadata": {},
   "source": [
    "$$\n",
    "= 20\n",
    "$$"
   ]
  },
  {
   "cell_type": "markdown",
   "metadata": {},
   "source": [
    "- Minat EGov"
   ]
  },
  {
   "cell_type": "markdown",
   "metadata": {},
   "source": [
    "- X1"
   ]
  },
  {
   "cell_type": "markdown",
   "metadata": {},
   "source": [
    "$$\n",
    "X1 = {7 + 2 }\n",
    "$$"
   ]
  },
  {
   "cell_type": "markdown",
   "metadata": {},
   "source": [
    "$$\n",
    "= 9\n",
    "$$"
   ]
  },
  {
   "cell_type": "markdown",
   "metadata": {},
   "source": [
    "- X2"
   ]
  },
  {
   "cell_type": "markdown",
   "metadata": {},
   "source": [
    "$$\n",
    "X2 = \\frac{6}{2}  \n",
    "$$"
   ]
  },
  {
   "cell_type": "markdown",
   "metadata": {},
   "source": [
    "$$\n",
    "= 3\n",
    "$$"
   ]
  },
  {
   "cell_type": "markdown",
   "metadata": {},
   "source": [
    "- X3"
   ]
  },
  {
   "cell_type": "markdown",
   "metadata": {},
   "source": [
    "$$\n",
    "X1 = {16 + 2}\n",
    "$$"
   ]
  },
  {
   "cell_type": "markdown",
   "metadata": {},
   "source": [
    "$$\n",
    "= 18\n",
    "$$"
   ]
  },
  {
   "cell_type": "markdown",
   "metadata": {},
   "source": [
    "#### Menghitung luas area (A)"
   ]
  },
  {
   "cell_type": "markdown",
   "metadata": {},
   "source": [
    "- Minat ISys"
   ]
  },
  {
   "cell_type": "markdown",
   "metadata": {},
   "source": [
    "- A1"
   ]
  },
  {
   "cell_type": "markdown",
   "metadata": {},
   "source": [
    "$$\n",
    "A1  = {1,25 x 0.5 }\n",
    "    = 0.625\n",
    "$$"
   ]
  },
  {
   "cell_type": "markdown",
   "metadata": {},
   "source": [
    "- A2"
   ]
  },
  {
   "cell_type": "markdown",
   "metadata": {},
   "source": [
    "$$\n",
    "A2  = {7,5 x 0.5 }\n",
    "    = 3,75\n",
    "$$"
   ]
  },
  {
   "cell_type": "markdown",
   "metadata": {},
   "source": [
    "- A3"
   ]
  },
  {
   "cell_type": "markdown",
   "metadata": {},
   "source": [
    "$$\n",
    "A3  = {1,25 x 0.5 }\n",
    "    = 0.625\n",
    "$$"
   ]
  },
  {
   "cell_type": "markdown",
   "metadata": {},
   "source": [
    "- Minat ESys"
   ]
  },
  {
   "cell_type": "markdown",
   "metadata": {},
   "source": [
    "- AI"
   ]
  },
  {
   "cell_type": "markdown",
   "metadata": {},
   "source": [
    "$$\n",
    "A1  = {1,25 x 0.5 }\n",
    "    = 0.625\n",
    "$$"
   ]
  },
  {
   "cell_type": "markdown",
   "metadata": {},
   "source": [
    "- A2"
   ]
  },
  {
   "cell_type": "markdown",
   "metadata": {},
   "source": [
    "$$\n",
    "A2  = {7,5 x 0.5 }\n",
    "    = 3,75\n",
    "$$"
   ]
  },
  {
   "cell_type": "markdown",
   "metadata": {},
   "source": [
    "- A3"
   ]
  },
  {
   "cell_type": "markdown",
   "metadata": {},
   "source": [
    "$$\n",
    "A3  = {1,25 x 0.5 }\n",
    "    = 0.625\n",
    "$$"
   ]
  },
  {
   "cell_type": "markdown",
   "metadata": {},
   "source": [
    "- Minat EGov"
   ]
  },
  {
   "cell_type": "markdown",
   "metadata": {},
   "source": [
    "- A1"
   ]
  },
  {
   "cell_type": "markdown",
   "metadata": {},
   "source": [
    "$$\n",
    "A1  = {1,5 x 0.5 }\n",
    "    = 0.75\n",
    "$$"
   ]
  },
  {
   "cell_type": "markdown",
   "metadata": {},
   "source": [
    "- A2"
   ]
  },
  {
   "cell_type": "markdown",
   "metadata": {},
   "source": [
    "$$\n",
    "A2  = {6 x 0.5 }\n",
    "    = 3\n",
    "$$"
   ]
  },
  {
   "cell_type": "markdown",
   "metadata": {},
   "source": [
    "- A3"
   ]
  },
  {
   "cell_type": "markdown",
   "metadata": {},
   "source": [
    "$$\n",
    "A3  = {0,75 x 0.5 }\n",
    "    = 0.375\n",
    "$$"
   ]
  },
  {
   "cell_type": "markdown",
   "metadata": {},
   "source": [
    "#### Mencari Nilai Defuzzyfikasi"
   ]
  },
  {
   "cell_type": "markdown",
   "metadata": {},
   "source": [
    "- Minat ISys"
   ]
  },
  {
   "cell_type": "markdown",
   "metadata": {},
   "source": [
    "$$\n",
    "Z^* = \\frac{(X1 x A1) + (X2 x A2) + (X3 x A3)}{A1 + A2 + A3}\n",
    "$$"
   ]
  },
  {
   "cell_type": "markdown",
   "metadata": {},
   "source": [
    "$$\n",
    "= \\frac{(92 x 0.625) + (1,875 x 3,75) + (20 x 0.625)}{0.625 + 3,75 + 0.625}\n",
    "$$"
   ]
  },
  {
   "cell_type": "markdown",
   "metadata": {},
   "source": [
    "$$\n",
    "= \\frac{5,75 + 7.031 + 12,5}{5}\n",
    "$$"
   ]
  },
  {
   "cell_type": "markdown",
   "metadata": {},
   "source": [
    "$$\n",
    "= 5,056\n",
    "$$"
   ]
  },
  {
   "cell_type": "markdown",
   "metadata": {},
   "source": [
    "Hasil output yang dikeluarkan menggunakan code python sebesar 13.000 sedangkan perhitungan manual sebesar 5,056.\n",
    "Terdapat perbedaan sebesar 7.944."
   ]
  },
  {
   "cell_type": "markdown",
   "metadata": {},
   "source": [
    "- Minat ESys"
   ]
  },
  {
   "cell_type": "markdown",
   "metadata": {},
   "source": [
    "$$\n",
    "Z^* = \\frac{(X1 x A1) + (X2 x A2) + (X3 x A3)}{A1 + A2 + A3}\n",
    "$$"
   ]
  },
  {
   "cell_type": "markdown",
   "metadata": {},
   "source": [
    "$$\n",
    "= \\frac{(92 x 0.625) + (1,875 x 3,75) + (20 x 0.625)}{0.625 + 3,75 + 0.625}\n",
    "$$"
   ]
  },
  {
   "cell_type": "markdown",
   "metadata": {},
   "source": [
    "$$\n",
    "= \\frac{5,75 + 7.031 + 12,5}{5}\n",
    "$$"
   ]
  },
  {
   "cell_type": "markdown",
   "metadata": {},
   "source": [
    "$$\n",
    "= 5,056\n",
    "$$"
   ]
  },
  {
   "cell_type": "markdown",
   "metadata": {},
   "source": [
    "Hasil output yang dikeluarkan menggunakan code python sebesar 13.000 sedangkan perhitungan manual sebesar 5,056.\n",
    "Terdapat perbedaan sebesar 7.944."
   ]
  },
  {
   "cell_type": "markdown",
   "metadata": {},
   "source": [
    "- Minat EGov"
   ]
  },
  {
   "cell_type": "markdown",
   "metadata": {},
   "source": [
    "$$\n",
    "Z^* = \\frac{(X1 x A1) + (X2 x A2) + (X3 x A3)}{A1 + A2 + A3}\n",
    "$$"
   ]
  },
  {
   "cell_type": "markdown",
   "metadata": {},
   "source": [
    "$$\n",
    "= \\frac{(9 x 0,75) + (3 x 3) + (18 + 0,375)}{0,75 + 3 + 0.375}\n",
    "$$"
   ]
  },
  {
   "cell_type": "markdown",
   "metadata": {},
   "source": [
    "$$\n",
    "= \\frac{6,75 + 9 + 6,75}{4,125}\n",
    "$$"
   ]
  },
  {
   "cell_type": "markdown",
   "metadata": {},
   "source": [
    "$$\n",
    "= 5,454\n",
    "$$"
   ]
  },
  {
   "cell_type": "markdown",
   "metadata": {},
   "source": [
    "Hasil output yang dikeluarkan menggunakan code python sebesar 12.770 sedangkan perhitungan manual sebesar 5,454.\n",
    "Terdapat perbedaan sebesar 7.316."
   ]
  },
  {
   "cell_type": "code",
   "execution_count": null,
   "metadata": {},
   "outputs": [],
   "source": []
  },
  {
   "cell_type": "code",
   "execution_count": null,
   "metadata": {},
   "outputs": [],
   "source": []
  }
 ],
 "metadata": {
  "kernelspec": {
   "display_name": "Python 3",
   "language": "python",
   "name": "python3"
  },
  "language_info": {
   "codemirror_mode": {
    "name": "ipython",
    "version": 3
   },
   "file_extension": ".py",
   "mimetype": "text/x-python",
   "name": "python",
   "nbconvert_exporter": "python",
   "pygments_lexer": "ipython3",
   "version": "3.6.5"
  }
 },
 "nbformat": 4,
 "nbformat_minor": 2
}
