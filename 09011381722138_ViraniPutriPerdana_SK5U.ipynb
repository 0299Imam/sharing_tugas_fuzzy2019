{
 "cells": [
  {
   "cell_type": "markdown",
   "metadata": {},
   "source": [
    "### NAMA : VIRANI PUTRI PERDANA\n",
    "### NIM     : 09011381722138\n",
    "### KELAS:SK 5 BUKIT "
   ]
  },
  {
   "cell_type": "markdown",
   "metadata": {},
   "source": [
    "## \"Klasifikasi Kecamatan-Kecamatan Di Kota Yogyakarta Berdasarkan Pola dan Struktur Pertumbuhan Ekonomi Menggunakan  Logika Fuzzy\" "
   ]
  },
  {
   "cell_type": "markdown",
   "metadata": {},
   "source": [
    "Penelitian ini bertujuan untuk mengklasifikasikan kecamatan-kecamatan di kota Yogyakarta berdasarkan pola dan struktur pertumbuhan ekonomi menggunakan logika fuzzy. Data yang digunakan adalah data PDRB perkapita berdasar harga berlaku dan pertumbuhan PDRB dari kecamatan-kecamatan di Yogyakarta . Data tersebut dijadikan sebagai input dengan outputnya yaitu pola dan struktur pertumbuhan ekonomi ."
   ]
  },
  {
   "cell_type": "markdown",
   "metadata": {},
   "source": [
    "## 1. import library fuzzy\n",
    "di sini menjelaskan tentang :\n",
    "- Numpy berfungsi untuk menampung data yang akan di proses\n",
    "- SkFuzzy berfungsi untuk memproses logika fuzzynya\n",
    "- matplotlib.pylot untuk memplot hasil logika fuzzy yang akan menghasilkan gambar"
   ]
  },
  {
   "cell_type": "code",
   "execution_count": 1,
   "metadata": {},
   "outputs": [],
   "source": [
    "import numpy as np\n",
    "import skfuzzy as fuzz\n",
    "import matplotlib.pyplot as plt\n",
    "from skfuzzy import control as ctrl"
   ]
  },
  {
   "cell_type": "markdown",
   "metadata": {},
   "source": [
    "## 2.Fuzzyfikasi\n",
    "##### PDRB_perkapita\n",
    "\n",
    "merupakan variabel Input yang memiliki nilai dari 0 sampai 70 "
   ]
  },
  {
   "cell_type": "code",
   "execution_count": 2,
   "metadata": {},
   "outputs": [],
   "source": [
    "PDRB_perkapita= ctrl.Antecedent(np.arange(0,70,1),'PDRB_perkapita')\n",
    "PDRB_perkapita_plot = np.arange(0,70,1) #untuk plotting saja"
   ]
  },
  {
   "cell_type": "markdown",
   "metadata": {},
   "source": [
    "Dengan fungsi keanggotaan  untuk seluruh PDRB_perkapita\n",
    "\\begin{equation}\n",
    "  PDRBPerkapita ['Rendah'] = \\mu PDRBPerkapitaRendah(x)=\\begin{cases}\n",
    "    1, & \\text{$0\\leq x\\leq10$}.\\\\\n",
    "    (30 - x)/(30 - 10) , & \\text{$10 \\leq x \\leq 30$}.\\\\\n",
    "    0, & \\text{$x\\geq 30$}.\n",
    "  \\end{cases}\n",
    "  \\\\\n",
    "  PDRBPerkapita ['Sedang'] = \\mu PDRBPerkapitaSedang(x)=\\begin{cases}\n",
    "    0, & \\text{$x\\leq10$ atau $x\\geq55$}.\\\\\n",
    "    (x - 10)/(30 - 10) , & \\text{$10 \\leq x \\leq 30$}.\\\\\n",
    "    (55 - x)/(55 - 30) , & \\text{$30 \\leq x \\leq 55$}.\\\\\n",
    "  \\end{cases}\n",
    "  \\\\\n",
    "   PDRBPerkapita['Tinggi'] = \\mu PDRBPerkapitaTinggi(x)=\\begin{cases}\n",
    "    0, & \\text{$ x\\leq50$}.\\\\\n",
    "    (x - 50)/(60 - 50) , & \\text{$50 \\leq x \\leq 60$}.\\\\\n",
    "     1, & \\text{$x\\geq 60$}.\n",
    "  \\end{cases}\n",
    "\\end{equation}"
   ]
  },
  {
   "cell_type": "markdown",
   "metadata": {},
   "source": [
    "PDRB_perkapita terdiri dari :\n",
    "- PDRB_perkapita Rendah ketika nilainya 0 sampai 30\n",
    "- PDRB_perkapita Sedang ketika nilainya 10 sampai 55\n",
    "- PDRB_perkapita Tinggi ketika nilainya 50 sampai 70"
   ]
  },
  {
   "cell_type": "code",
   "execution_count": 27,
   "metadata": {},
   "outputs": [],
   "source": [
    "PDRB_perkapita['Rendah'] = fuzz.trapmf(PDRB_perkapita.universe,[0, 0, 10, 30])\n",
    "PDRB_perkapita['Sedang'] = fuzz.trimf(PDRB_perkapita.universe, [10, 30, 55])\n",
    "PDRB_perkapita['Tinggi'] = fuzz.trapmf(PDRB_perkapita.universe,[50, 60, 70, 70])"
   ]
  },
  {
   "cell_type": "markdown",
   "metadata": {},
   "source": [
    "Persamaan dibawah untuk PDRBPerkapita Rendah\n",
    "\n",
    "\\begin{equation}\n",
    "  PDRBPerkapita ['Rendah'] = \\mu PDRBPerkapitaRendah(x)=\\begin{cases}\n",
    "    1, & \\text{$0\\leq x\\leq10$}.\\\\\n",
    "    (30 - x)/(30 - 10) , & \\text{$10 \\leq x \\leq 30$}.\\\\\n",
    "    0, & \\text{$x\\geq 30$}.\n",
    "  \\end{cases}\n",
    "\\end{equation} "
   ]
  },
  {
   "cell_type": "markdown",
   "metadata": {},
   "source": [
    "Untuk Menampilkan hasil Plot PDRB perkapita Rendah dengan menggunakan Fuzzy.trimf atau triangle\n"
   ]
  },
  {
   "cell_type": "code",
   "execution_count": 4,
   "metadata": {},
   "outputs": [
    {
     "data": {
      "text/plain": [
       "Text(0.5,1,'PDRB_perkapita')"
      ]
     },
     "execution_count": 4,
     "metadata": {},
     "output_type": "execute_result"
    },
    {
     "data": {
      "image/png": "[encoded data removed]",
      "text/plain": [
       "<matplotlib.figure.Figure at 0x284ba78aac8>"
      ]
     },
     "metadata": {},
     "output_type": "display_data"
    }
   ],
   "source": [
    "PDRB_perkapita_rendah = fuzz.trapmf(PDRB_perkapita_plot,[0, 0, 10, 30])\n",
    "fig, (ax0) = plt.subplots(nrows=1,figsize=(6,6))\n",
    "ax0.plot(PDRB_perkapita_plot,PDRB_perkapita_rendah,'blue')\n",
    "ax0.set_title('PDRB_perkapita')"
   ]
  },
  {
   "cell_type": "markdown",
   "metadata": {},
   "source": [
    "Persamaan dibawah untuk PDRBperkapita sedang\n",
    "\n",
    "\\begin{equation}\n",
    "PDRBPerkapita ['Sedang'] = \\mu PDRBPerkapitaSedang(x)=\\begin{cases}\n",
    "    0, & \\text{$x\\leq10$ atau $x\\geq55$}.\\\\\n",
    "    (x - 10)/(30 - 10) , & \\text{$10 \\leq x \\leq 30$}.\\\\\n",
    "    (55 - x)/(55 - 30) , & \\text{$30 \\leq x \\leq 55$}.\\\\\n",
    "  \\end{cases}\n",
    "\\end{equation}"
   ]
  },
  {
   "cell_type": "markdown",
   "metadata": {},
   "source": [
    "untuk menampilkan hasil plot PDRB perkapita Sedang dengan menggunakan Fuzzy Trimf atau triangle"
   ]
  },
  {
   "cell_type": "code",
   "execution_count": 5,
   "metadata": {},
   "outputs": [
    {
     "data": {
      "text/plain": [
       "Text(0.5,1,'PDRB_perkapita')"
      ]
     },
     "execution_count": 5,
     "metadata": {},
     "output_type": "execute_result"
    },
    {
     "data": {
      "image/png": "[encoded data removed]",
      "text/plain": [
       "<matplotlib.figure.Figure at 0x284ba7bd6a0>"
      ]
     },
     "metadata": {},
     "output_type": "display_data"
    }
   ],
   "source": [
    "PDRB_perkapita_sedang = fuzz.trimf(PDRB_perkapita_plot,[10,30,55])\n",
    "fig, (ax0) = plt.subplots(nrows=1,figsize=(6,6))\n",
    "ax0.plot(PDRB_perkapita_plot,PDRB_perkapita_sedang,'yellow')\n",
    "ax0.set_title('PDRB_perkapita')"
   ]
  },
  {
   "cell_type": "markdown",
   "metadata": {},
   "source": [
    "Persamaan dibawah untuk PDRBperkapita Tinggi\n",
    "\n",
    "\\begin{equation}\n",
    " PDRBPerkapita['Tinggi'] = \\mu PDRBPerkapitaTinggi(x)=\\begin{cases}\n",
    "    0, & \\text{$ x\\leq50$}.\\\\\n",
    "    (x - 50)/(60 - 50) , & \\text{$50 \\leq x \\leq 60$}.\\\\\n",
    "     1, & \\text{$x\\geq 60$}.\n",
    "  \\end{cases}\n",
    "\\end{equation}"
   ]
  },
  {
   "cell_type": "markdown",
   "metadata": {},
   "source": [
    "untuk menampilkan hasil plot PDRB perkapita Sedang dengan menggunakan Fuzzy trapmf atau trafesium"
   ]
  },
  {
   "cell_type": "code",
   "execution_count": 6,
   "metadata": {},
   "outputs": [
    {
     "data": {
      "text/plain": [
       "Text(0.5,1,'PDRB_perkapita')"
      ]
     },
     "execution_count": 6,
     "metadata": {},
     "output_type": "execute_result"
    },
    {
     "data": {
      "image/png": "[encoded data removed]",
      "text/plain": [
       "<matplotlib.figure.Figure at 0x284ba8cdac8>"
      ]
     },
     "metadata": {},
     "output_type": "display_data"
    }
   ],
   "source": [
    "PDRB_perkapita_tinggi = fuzz.trapmf(PDRB_perkapita_plot,[50, 60, 70, 70])\n",
    "fig, (ax0) = plt.subplots(nrows=1,figsize=(6,6))\n",
    "ax0.plot(PDRB_perkapita_plot,PDRB_perkapita_tinggi,'red')\n",
    "ax0.set_title('PDRB_perkapita')"
   ]
  },
  {
   "cell_type": "markdown",
   "metadata": {},
   "source": [
    "Menampilkan seluruh hasil ploting untuk PDRB_perkapita"
   ]
  },
  {
   "cell_type": "code",
   "execution_count": 7,
   "metadata": {},
   "outputs": [
    {
     "name": "stderr",
     "output_type": "stream",
     "text": [
      "C:\\Users\\10\\Anaconda3\\lib\\site-packages\\matplotlib\\figure.py:418: UserWarning: matplotlib is currently using a non-GUI backend, so cannot show the figure\n",
      "  \"matplotlib is currently using a non-GUI backend, \"\n"
     ]
    },
    {
     "data": {
      "image/png": "[encoded data removed]",
      "text/plain": [
       "<matplotlib.figure.Figure at 0x284ba7dc160>"
      ]
     },
     "metadata": {},
     "output_type": "display_data"
    }
   ],
   "source": [
    "PDRB_perkapita.view()"
   ]
  },
  {
   "cell_type": "markdown",
   "metadata": {},
   "source": [
    "##### Pertumbuhan PDRB\n",
    "merupakan variabel input yang terdiri dari 0 sampai 10"
   ]
  },
  {
   "cell_type": "code",
   "execution_count": 8,
   "metadata": {},
   "outputs": [],
   "source": [
    "Pertumbuhan_PDRB = ctrl.Antecedent(np.arange(0,10,1),'Pertumbuhan_PDRB')\n",
    "Pertumbuhan_PDRB_plot = np.arange(0,10,1) #untuk plotting saja"
   ]
  },
  {
   "cell_type": "markdown",
   "metadata": {},
   "source": [
    "Dengan fungsi keanggotaan PertumbuhanPDRB\n",
    "\\begin{equation}\n",
    "  PertumbuhanPDRB ['Rendah'] = \\mu PertumbuhanPDRBRendah(x)=\\begin{cases}\n",
    "    1, & \\text{$0\\leq x\\leq2$}.\\\\\n",
    "    (4 - x)/(4 - 2) , & \\text{$2 \\leq x \\leq 4$}.\\\\\n",
    "    0, & \\text{$x\\geq 4$}.\n",
    "  \\end{cases}\n",
    "  \\\\\n",
    "  PertumbuhanPDRB ['Sedang'] = \\mu PertumbuhanPDRBSedang(x)=\\begin{cases}\n",
    "    0, & \\text{$x\\leq2$ atau $x\\geq6$}.\\\\\n",
    "    (x - 2)/(4 - 2) , & \\text{$2 \\leq x \\leq 4$}.\\\\\n",
    "    (6 - x)/(6 - 4) , & \\text{$4 \\leq x \\leq 6$}.\\\\\n",
    "  \\end{cases}\n",
    "  \\\\\n",
    "   PertumbuhanPDRB ['Tinggi'] = \\mu PertumbuhanPDRBTinggi(x)=\\begin{cases}\n",
    "    0, & \\text{$ x\\leq4$}.\\\\\n",
    "    (x - 4)/(6 - 4) , & \\text{$4 \\leq x \\leq 6$}.\\\\\n",
    "     1, & \\text{$x\\geq 6$}.\n",
    "  \\end{cases}\n",
    "\\end{equation}"
   ]
  },
  {
   "cell_type": "markdown",
   "metadata": {},
   "source": [
    "Pertumbuhan_PDRB terdiri dari \n",
    "\n",
    "- Pertumbuhan_PDRB Rendah ketika nilainya 0 sampai 4\n",
    "- Pertumbuhan_PDRB Sedang ketika nilainya 2 sampai 6\n",
    "- Pertumbuhan_PDRB Tinggi ketika nilainya 4 sampai 9"
   ]
  },
  {
   "cell_type": "code",
   "execution_count": 9,
   "metadata": {},
   "outputs": [],
   "source": [
    "Pertumbuhan_PDRB['Rendah'] = fuzz.trapmf(Pertumbuhan_PDRB.universe,[0, 0, 2, 4])\n",
    "Pertumbuhan_PDRB['Sedang'] = fuzz.trimf(Pertumbuhan_PDRB.universe, [2, 4, 6])\n",
    "Pertumbuhan_PDRB['Tinggi'] = fuzz.trapmf(Pertumbuhan_PDRB.universe,[4, 6, 9, 9])"
   ]
  },
  {
   "cell_type": "markdown",
   "metadata": {},
   "source": [
    "Persamaan di bawah untuk PertumbuhanPDRB rendah \n",
    "\\begin{equation}\n",
    "  PertumbuhanPDRB ['Rendah'] = \\mu PertumbuhanPDRBRendah(x)=\\begin{cases}\n",
    "    1, & \\text{$0\\leq x\\leq2$}.\\\\\n",
    "    (4 - x)/(4 - 2) , & \\text{$2 \\leq x \\leq 4$}.\\\\\n",
    "    0, & \\text{$x\\geq 4$}.\n",
    "  \\end{cases}\n",
    "\\end{equation}"
   ]
  },
  {
   "cell_type": "markdown",
   "metadata": {},
   "source": [
    "untuk menampilkan hasil plot PertumbuhanPDRB Rendah dengan menggunakan Fuzzy trapmf atau trafesium"
   ]
  },
  {
   "cell_type": "code",
   "execution_count": 10,
   "metadata": {},
   "outputs": [
    {
     "data": {
      "text/plain": [
       "Text(0.5,1,'Pertumbuhan_PDRB')"
      ]
     },
     "execution_count": 10,
     "metadata": {},
     "output_type": "execute_result"
    },
    {
     "data": {
      "image/png": "[encoded data removed]",
      "text/plain": [
       "<matplotlib.figure.Figure at 0x284bb956ba8>"
      ]
     },
     "metadata": {},
     "output_type": "display_data"
    }
   ],
   "source": [
    "Pertumbuhan_PDRB_rendah = fuzz.trapmf(Pertumbuhan_PDRB_plot,[0, 0, 2, 4])\n",
    "fig, (ax0) = plt.subplots(nrows=1,figsize=(6,6))\n",
    "ax0.plot(Pertumbuhan_PDRB_plot,Pertumbuhan_PDRB_rendah,'blue')\n",
    "ax0.set_title('Pertumbuhan_PDRB')"
   ]
  },
  {
   "cell_type": "markdown",
   "metadata": {},
   "source": [
    "persamaan di bawah untuk Pertumbuhan PDRB Sedang\n",
    "\\begin{equation}\n",
    "PertumbuhanPDRB ['Sedang'] = \\mu PertumbuhanPDRBSedang(x)=\\begin{cases}\n",
    "    0, & \\text{$x\\leq2$ atau $x\\geq6$}.\\\\\n",
    "    (x - 2)/(4 - 2) , & \\text{$2 \\leq x \\leq 4$}.\\\\\n",
    "    (6 - x)/(6 - 4) , & \\text{$4 \\leq x \\leq 6$}.\\\\\n",
    "  \\end{cases}\n",
    "\\end{equation}"
   ]
  },
  {
   "cell_type": "markdown",
   "metadata": {},
   "source": [
    "untuk menampilkan hasil plot PertumbuhanPDRB Rendah dengan menggunakan Fuzzy trimf atau triangle"
   ]
  },
  {
   "cell_type": "code",
   "execution_count": 11,
   "metadata": {},
   "outputs": [
    {
     "data": {
      "text/plain": [
       "Text(0.5,1,'Pertumbuhan_PDRB')"
      ]
     },
     "execution_count": 11,
     "metadata": {},
     "output_type": "execute_result"
    },
    {
     "data": {
      "image/png": "[encoded data removed]",
      "text/plain": [
       "<matplotlib.figure.Figure at 0x284bba01c18>"
      ]
     },
     "metadata": {},
     "output_type": "display_data"
    }
   ],
   "source": [
    "Pertumbuhan_PDRB_sedang = fuzz.trimf(Pertumbuhan_PDRB_plot,[2,4,6])\n",
    "fig, (ax0) = plt.subplots(nrows=1,figsize=(6,6))\n",
    "ax0.plot(Pertumbuhan_PDRB_plot,Pertumbuhan_PDRB_sedang,'yellow')\n",
    "ax0.set_title('Pertumbuhan_PDRB')"
   ]
  },
  {
   "cell_type": "markdown",
   "metadata": {},
   "source": [
    "Persamaan di bawah untuk PertumbuhanPDRB Tinggi\n",
    "\\begin{equation}\n",
    "PertumbuhanPDRB ['Tinggi'] = \\mu PertumbuhanPDRBTinggi(x)=\\begin{cases}\n",
    "    0, & \\text{$ x\\leq4$}.\\\\\n",
    "    (x - 4)/(6 - 4) , & \\text{$4 \\leq x \\leq 6$}.\\\\\n",
    "     1, & \\text{$x\\geq 6$}.\n",
    "  \\end{cases}\n",
    "\\end{equation}"
   ]
  },
  {
   "cell_type": "markdown",
   "metadata": {},
   "source": [
    "untuk menampilkan hasil plot Pertumbuhan PDRB Tinggi dengan menggunakan fuzzy trapmf atau trapesium"
   ]
  },
  {
   "cell_type": "code",
   "execution_count": 12,
   "metadata": {},
   "outputs": [
    {
     "data": {
      "text/plain": [
       "Text(0.5,1,'Pertumbuhan_PDRB')"
      ]
     },
     "execution_count": 12,
     "metadata": {},
     "output_type": "execute_result"
    },
    {
     "data": {
      "image/png": "[encoded data removed]",
      "text/plain": [
       "<matplotlib.figure.Figure at 0x284bba5a668>"
      ]
     },
     "metadata": {},
     "output_type": "display_data"
    }
   ],
   "source": [
    "Pertumbuhan_PDRB_tinggi = fuzz.trapmf(Pertumbuhan_PDRB_plot,[4, 6, 9, 9])\n",
    "fig, (ax0) = plt.subplots(nrows=1,figsize=(6,6))\n",
    "ax0.plot(Pertumbuhan_PDRB_plot,Pertumbuhan_PDRB_tinggi,'red')\n",
    "ax0.set_title('Pertumbuhan_PDRB')"
   ]
  },
  {
   "cell_type": "markdown",
   "metadata": {},
   "source": [
    "Menampilkan seluruh hasil ploting untuk Pertumbuhan_PDRB"
   ]
  },
  {
   "cell_type": "code",
   "execution_count": 13,
   "metadata": {
    "scrolled": true
   },
   "outputs": [
    {
     "name": "stderr",
     "output_type": "stream",
     "text": [
      "C:\\Users\\10\\Anaconda3\\lib\\site-packages\\matplotlib\\figure.py:418: UserWarning: matplotlib is currently using a non-GUI backend, so cannot show the figure\n",
      "  \"matplotlib is currently using a non-GUI backend, \"\n"
     ]
    },
    {
     "data": {
      "image/png": "[encoded data removed]",
      "text/plain": [
       "<matplotlib.figure.Figure at 0x284bb9bceb8>"
      ]
     },
     "metadata": {},
     "output_type": "display_data"
    }
   ],
   "source": [
    "Pertumbuhan_PDRB.view ()"
   ]
  },
  {
   "cell_type": "markdown",
   "metadata": {},
   "source": [
    "##### Pola Struktur Pertumbuhan Ekonomi\n",
    "Pola Struktur Pertumbuhan ekonomi merupakan variabel output yang terdiri dari 0 sampai 14"
   ]
  },
  {
   "cell_type": "code",
   "execution_count": 14,
   "metadata": {},
   "outputs": [],
   "source": [
    "Pola_Struktur_pertumbuhan_ekonomi = ctrl.Consequent(np.arange(0,15,1),'Pola_Struktur_pertumbuhan_ekonomi')\n",
    "Pola_Struktur_pertumbuhan_ekonomi_plot = np.arange(0,15,1)"
   ]
  },
  {
   "cell_type": "markdown",
   "metadata": {},
   "source": [
    "Dengan fungsi keanggotaan Pola Struktur pertumbuhan ekonomi :\n",
    "\\begin{equation}\n",
    "  Polastrukturpertumbuhanekonomi['Tertinggal'] = \n",
    "  \\mu Polastrukturpertumbuhanekonomi(x)=\\begin{cases}\n",
    "     1, & \\text{$x\\leq 2$}.\\\\\n",
    "    (4 - x)/(4 - 2) , & \\text{$2 \\leq x \\leq 4$}.\\\\\n",
    "    0, & \\text{$x\\geq 4$}.\n",
    "  \\end{cases}\n",
    "  \\\\\n",
    "  Polastrukturpertumbuhanekonomi['Berkembang'] = \n",
    "  \\mu Polastrukturpertumbuhanekonomi(x)=\\begin{cases}\n",
    "    0, & \\text{$x\\leq 2$ atau $x\\geq7$}.\\\\\n",
    "    (x - 2)/(4 - 2) , & \\text{$2 \\leq x \\leq 4$}.\\\\\n",
    "    (7 - x)/(7 - 4) , & \\text{$4 \\leq x \\leq 7$}.\\\\\n",
    "  \\end{cases}\n",
    "  \\\\\n",
    "   Polastrukturpertumbuhanekonomi['Maju tapi tertekan'] = \n",
    "   \\mu Polastrukturpertumbuhanekonomi(x)=\\begin{cases}\n",
    "    0, & \\text{$x\\leq 4$ atau $x\\geq10$}.\\\\\n",
    "    (x - 4)/(7 - 4) , & \\text{$4 \\leq x \\leq 7$}.\\\\\n",
    "    (9 - x)/(9 - 7) , & \\text{$7 \\leq x \\leq 10$}.\\\\\n",
    "  \\end{cases}\n",
    "  \\\\\n",
    "    Polastrukturpertumbuhanekonomi['Maju'] = \n",
    "    \\mu Polastrukturpertumbuhanekonomi(x)=\\begin{cases}\n",
    "    0, & \\text{$x\\leq 7$}.\\\\\n",
    "    (x - 7)/(10 - 7) , & \\text{$7 \\leq x \\leq 10$}.\\\\\n",
    "    1, & \\text{$x\\geq 10$}.\n",
    "  \\end{cases}\n",
    "\\end{equation}\n"
   ]
  },
  {
   "cell_type": "markdown",
   "metadata": {},
   "source": [
    "Pola struktur pertumbuhan ekonomi terdiri dari :\n",
    "\n",
    "- Pola struktur pertumbuhan ekonomi Tertinggal nilainya 0 sampai 4\n",
    "- Pola struktur pertumbuhan ekonomi Berkembang nilainya 2 sampai 7\n",
    "- Pola struktur pertumbuhan ekonomi Maju tapi tertekan nilainya 4 sampai 10\n",
    "- Pola struktur pertumbuhan ekonomi Maju nilainya 7 sampai 15"
   ]
  },
  {
   "cell_type": "code",
   "execution_count": 15,
   "metadata": {},
   "outputs": [],
   "source": [
    "Pola_Struktur_pertumbuhan_ekonomi['Tertinggal'] = fuzz.trapmf(Pola_Struktur_pertumbuhan_ekonomi.universe,[0, 0, 2, 4])\n",
    "Pola_Struktur_pertumbuhan_ekonomi['Berkembang'] = fuzz.trimf(Pola_Struktur_pertumbuhan_ekonomi.universe, [2, 4, 7])\n",
    "Pola_Struktur_pertumbuhan_ekonomi['Maju tapi tertekan'] = fuzz.trimf(Pola_Struktur_pertumbuhan_ekonomi.universe,[4,7,10])\n",
    "Pola_Struktur_pertumbuhan_ekonomi['maju'] = fuzz.trapmf(Pola_Struktur_pertumbuhan_ekonomi.universe,[7,10,15,15])"
   ]
  },
  {
   "cell_type": "markdown",
   "metadata": {},
   "source": [
    "persamaan dibawah untuk Pola struktur pertumbuhan ekonomi tertinggal \n",
    "\\begin{equation}\n",
    "  Polastrukturpertumbuhanekonomi['Tertinggal'] = \n",
    "  \\mu Polastrukturpertumbuhanekonomi(x)=\\begin{cases}\n",
    "     1, & \\text{$x\\leq 2$}.\\\\\n",
    "    (4 - x)/(4 - 2) , & \\text{$2 \\leq x \\leq 4$}.\\\\\n",
    "    0, & \\text{$x\\geq 4$}.\n",
    "  \\end{cases}\n",
    "\\end{equation}"
   ]
  },
  {
   "cell_type": "markdown",
   "metadata": {},
   "source": [
    "untuk menghasilkan hasil ploting pola struktur pertumbuhan ekonomi tertinggal dengan menggunakan fuzzy.trapmf atau trafesium"
   ]
  },
  {
   "cell_type": "code",
   "execution_count": 16,
   "metadata": {},
   "outputs": [
    {
     "data": {
      "text/plain": [
       "Text(0.5,1,'Pola_Struktur_pertumbuhan_ekonomi')"
      ]
     },
     "execution_count": 16,
     "metadata": {},
     "output_type": "execute_result"
    },
    {
     "data": {
      "image/png": "[encoded data removed]",
      "text/plain": [
       "<matplotlib.figure.Figure at 0x284ba7f3278>"
      ]
     },
     "metadata": {},
     "output_type": "display_data"
    }
   ],
   "source": [
    "Pola_Struktur_pertumbuhan_ekonomi_tertinggal = fuzz.trapmf(Pola_Struktur_pertumbuhan_ekonomi_plot,[0, 0, 2, 4])\n",
    "fig, (ax0) = plt.subplots(nrows=1,figsize=(6,6))\n",
    "ax0.plot(Pola_Struktur_pertumbuhan_ekonomi_plot,Pola_Struktur_pertumbuhan_ekonomi_tertinggal,'Blue')\n",
    "ax0.set_title('Pola_Struktur_pertumbuhan_ekonomi')"
   ]
  },
  {
   "cell_type": "markdown",
   "metadata": {},
   "source": [
    "Persamaan dibaawah untukPola struktur pertumbuhan ekonomi Berkembang :\n",
    "\\begin{equation}\n",
    "Polastrukturpertumbuhanekonomi['Berkembang']=\n",
    "  \\mu Polastrukturpertumbuhanekonomi(x)=\\begin{cases}\n",
    "    0, & \\text{$x\\leq 2$ atau $x\\geq7$}.\\\\\n",
    "    (x - 2)/(4 - 2) , & \\text{$2 \\leq x \\leq 4$}.\\\\\n",
    "    (7 - x)/(7 - 4) , & \\text{$4 \\leq x \\leq 7$}.\\\\\n",
    "  \\end{cases}\n",
    "  \\\\\n",
    "\\end{equation}"
   ]
  },
  {
   "cell_type": "markdown",
   "metadata": {},
   "source": [
    "untuk menghasilkan hasil ploting pola struktur pertumbuhan ekonomi Berkembang dengan menggunakan fuzzy.trimf atau triangle"
   ]
  },
  {
   "cell_type": "code",
   "execution_count": 17,
   "metadata": {},
   "outputs": [
    {
     "data": {
      "text/plain": [
       "Text(0.5,1,'Pola_Struktur_pertumbuhan_ekonomi')"
      ]
     },
     "execution_count": 17,
     "metadata": {},
     "output_type": "execute_result"
    },
    {
     "data": {
      "image/png": "[encoded data removed]",
      "text/plain": [
       "<matplotlib.figure.Figure at 0x284bbbbb668>"
      ]
     },
     "metadata": {},
     "output_type": "display_data"
    }
   ],
   "source": [
    "Pola_Struktur_pertumbuhan_ekonomi_Berkembang = fuzz.trimf(Pola_Struktur_pertumbuhan_ekonomi_plot,[2,4,7])\n",
    "fig, (ax0) = plt.subplots(nrows=1,figsize=(6,6))\n",
    "ax0.plot(Pola_Struktur_pertumbuhan_ekonomi_plot,Pola_Struktur_pertumbuhan_ekonomi_Berkembang,'yellow')\n",
    "ax0.set_title('Pola_Struktur_pertumbuhan_ekonomi')"
   ]
  },
  {
   "cell_type": "markdown",
   "metadata": {},
   "source": [
    "Persamaan di bawah untuk pola struktur pertumbuhan ekonomi maju tapi tertekan :\n",
    "\\begin{equation}\n",
    "Polastrukturpertumbuhanekonomi['Maju tapi tertekan'] = \n",
    "   \\mu Polastrukturpertumbuhanekonomi(x)=\\begin{cases}\n",
    "    0, & \\text{$x\\leq 4$ atau $x\\geq10$}.\\\\\n",
    "    (x - 4)/(7 - 4) , & \\text{$4 \\leq x \\leq 7$}.\\\\\n",
    "    (9 - x)/(9 - 7) , & \\text{$7 \\leq x \\leq 10$}.\\\\\n",
    "  \\end{cases}\n",
    "\\end{equation}"
   ]
  },
  {
   "cell_type": "markdown",
   "metadata": {},
   "source": [
    "Untuk menghasilkan hasil ploting Pola struktur pertumbuhan ekonomi maju tapi tertekan menggunakan fuzzy trimf atau Triangle"
   ]
  },
  {
   "cell_type": "code",
   "execution_count": 18,
   "metadata": {},
   "outputs": [
    {
     "data": {
      "text/plain": [
       "Text(0.5,1,'Pola_Struktur_pertumbuhan_ekonomi')"
      ]
     },
     "execution_count": 18,
     "metadata": {},
     "output_type": "execute_result"
    },
    {
     "data": {
      "image/png": "[encoded data removed]",
      "text/plain": [
       "<matplotlib.figure.Figure at 0x284bbbf2470>"
      ]
     },
     "metadata": {},
     "output_type": "display_data"
    }
   ],
   "source": [
    "Pola_Struktur_pertumbuhan_ekonomi_maju_tapi_tertekan = fuzz.trimf(Pola_Struktur_pertumbuhan_ekonomi_plot,[4,7,10])\n",
    "fig, (ax0) = plt.subplots(nrows=1,figsize=(6,6))\n",
    "ax0.plot(Pola_Struktur_pertumbuhan_ekonomi_plot,Pola_Struktur_pertumbuhan_ekonomi_maju_tapi_tertekan,'red')\n",
    "ax0.set_title('Pola_Struktur_pertumbuhan_ekonomi')"
   ]
  },
  {
   "cell_type": "markdown",
   "metadata": {},
   "source": [
    "Persamaan dibawah menjelaskan pola struktur ekonomi maju :\n",
    "\n",
    "\\begin{equation}\n",
    "Polastrukturpertumbuhanekonomi['Maju'] = \n",
    "    \\mu Polastrukturpertumbuhanekonomi(x)=\\begin{cases}\n",
    "    0, & \\text{$x\\leq 7$}.\\\\\n",
    "    (x - 7)/(10 - 7) , & \\text{$7 \\leq x \\leq 10$}.\\\\\n",
    "    1, & \\text{$x\\geq 10$}.\n",
    "  \\end{cases}\n",
    "\\end{equation}"
   ]
  },
  {
   "cell_type": "markdown",
   "metadata": {},
   "source": [
    "untuk menghasilkan hasil ploting pola struktur pertumbuhan ekonomi maju dengan fuzzy.trapmf atau trafesium"
   ]
  },
  {
   "cell_type": "code",
   "execution_count": 19,
   "metadata": {},
   "outputs": [
    {
     "data": {
      "text/plain": [
       "Text(0.5,1,'Pola_Struktur_pertumbuhan_ekonomi')"
      ]
     },
     "execution_count": 19,
     "metadata": {},
     "output_type": "execute_result"
    },
    {
     "data": {
      "image/png": "[encoded data removed]",
      "text/plain": [
       "<matplotlib.figure.Figure at 0x284bbc49898>"
      ]
     },
     "metadata": {},
     "output_type": "display_data"
    }
   ],
   "source": [
    "Pola_Struktur_pertumbuhan_ekonomi_maju = fuzz.trapmf(Pola_Struktur_pertumbuhan_ekonomi_plot,[7,10,15,15])\n",
    "fig, (ax0) = plt.subplots(nrows=1,figsize=(6,6))\n",
    "ax0.plot(Pola_Struktur_pertumbuhan_ekonomi_plot,Pola_Struktur_pertumbuhan_ekonomi_maju,'pink')\n",
    "ax0.set_title('Pola_Struktur_pertumbuhan_ekonomi')"
   ]
  },
  {
   "cell_type": "markdown",
   "metadata": {},
   "source": [
    "menampilkan seluruh hasil ploting untuk pola struktur pertumbuhan ekonomi "
   ]
  },
  {
   "cell_type": "code",
   "execution_count": 20,
   "metadata": {},
   "outputs": [
    {
     "name": "stderr",
     "output_type": "stream",
     "text": [
      "C:\\Users\\10\\Anaconda3\\lib\\site-packages\\matplotlib\\figure.py:418: UserWarning: matplotlib is currently using a non-GUI backend, so cannot show the figure\n",
      "  \"matplotlib is currently using a non-GUI backend, \"\n"
     ]
    },
    {
     "data": {
      "image/png": "[encoded data removed]",
      "text/plain": [
       "<matplotlib.figure.Figure at 0x284bbb30fd0>"
      ]
     },
     "metadata": {},
     "output_type": "display_data"
    }
   ],
   "source": [
    "Pola_Struktur_pertumbuhan_ekonomi.view()"
   ]
  },
  {
   "cell_type": "markdown",
   "metadata": {},
   "source": [
    "## 3. RULE BASE\n",
    "\n",
    " Aturan Fuzzy pada penelitian ini menggunakan Fuzzy Inferensi system berbentu IF-THEN dengan kombinasi variable sebanyak 9 aturan.\n",
    " berikut beberapa aturan kombinasi fuzzy : \n",
    " - IF PDRB_perkapita RENDAH dan Pertumbuhan_PDRB RENDAH THEN Pola struktur pertumbuhan ekonomi TERTINGGAL\n",
    " - IF PDRB_perkapita RENDAH dan Pertumbuhan_PDRB SEDANG THEN Pola struktur pertumbuhan ekonomi TERTINGGAL\n",
    " - IF PDRB_perkapita RENDAH dan Pertumbuhan_PDRB TINGGI THEN Pola struktur pertumbuhan ekonomi BERKEMBANG\n",
    " - IF PDRB_perkapita SEDANG dan Pertumbuhan_PDRB RENDAH THEN Pola struktur pertumbuhan ekonomi TERTINGGAL\n",
    " - IF PDRB_perkapita SEDANG dan Pertumbuhan_PDRB SEDANG THEN Pola struktur pertumbuhan ekonomi BERKEMBANG\n",
    " - IF PDRB_perkapita SEDANG dan Pertumbuhan_PDRB TINGGI THEN Pola struktur pertumbuhan ekonomi BERKEMBANG\n",
    " - IF PDRB_perkapita TINGGI dan Pertumbuhan_PDRB RENDAH THEN Pola struktur pertumbuhan ekonomi MAJU TAPI TERTEKAN \n",
    " - IF PDRB_perkapita TINGGI dan Pertumbuhan_PDRB SEDANG THEN Pola struktur pertumbuhan ekonomi MAJU TAPI TERTEKAN \n",
    " - IF PDRB_perkapita TINGGI dan Pertumbuhan_PDRB TINGGI THEN Pola struktur pertumbuhan ekonomi MAJU\n",
    " "
   ]
  },
  {
   "cell_type": "code",
   "execution_count": 21,
   "metadata": {},
   "outputs": [],
   "source": [
    "rule1 = ctrl.Rule(PDRB_perkapita['Rendah'] & Pertumbuhan_PDRB['Rendah'] ,Pola_Struktur_pertumbuhan_ekonomi['Tertinggal'])\n",
    "rule2 = ctrl.Rule(PDRB_perkapita['Rendah'] & Pertumbuhan_PDRB['Sedang'] ,Pola_Struktur_pertumbuhan_ekonomi['Tertinggal'])\n",
    "rule3 = ctrl.Rule(PDRB_perkapita['Rendah'] & Pertumbuhan_PDRB['Tinggi'] ,Pola_Struktur_pertumbuhan_ekonomi['Berkembang'])\n",
    "rule4 = ctrl.Rule(PDRB_perkapita['Sedang'] & Pertumbuhan_PDRB['Rendah'] ,Pola_Struktur_pertumbuhan_ekonomi['Tertinggal'])\n",
    "rule5 = ctrl.Rule(PDRB_perkapita['Sedang'] & Pertumbuhan_PDRB['Sedang'] ,Pola_Struktur_pertumbuhan_ekonomi['Berkembang'])\n",
    "rule6 = ctrl.Rule(PDRB_perkapita['Sedang'] & Pertumbuhan_PDRB['Tinggi'] ,Pola_Struktur_pertumbuhan_ekonomi['Berkembang'])\n",
    "rule7 = ctrl.Rule(PDRB_perkapita['Tinggi'] & Pertumbuhan_PDRB['Rendah'] ,Pola_Struktur_pertumbuhan_ekonomi['Maju tapi tertekan'])\n",
    "rule8 = ctrl.Rule(PDRB_perkapita['Tinggi'] & Pertumbuhan_PDRB['Sedang'] ,Pola_Struktur_pertumbuhan_ekonomi['Maju tapi tertekan'])\n",
    "rule9 = ctrl.Rule(PDRB_perkapita['Tinggi'] & Pertumbuhan_PDRB['Tinggi'] ,Pola_Struktur_pertumbuhan_ekonomi['maju'])"
   ]
  },
  {
   "cell_type": "markdown",
   "metadata": {},
   "source": [
    "## Rule Evaluasi"
   ]
  },
  {
   "cell_type": "code",
   "execution_count": 22,
   "metadata": {},
   "outputs": [],
   "source": [
    "Nilai_ctrl = ctrl.ControlSystem([rule1, rule2, rule3, rule4, rule5, rule6, rule7, rule8, rule9])"
   ]
  },
  {
   "cell_type": "markdown",
   "metadata": {},
   "source": [
    "## 4.Defuzzifikasi"
   ]
  },
  {
   "cell_type": "code",
   "execution_count": 23,
   "metadata": {},
   "outputs": [],
   "source": [
    "Nilai = ctrl.ControlSystemSimulation(Nilai_ctrl)"
   ]
  },
  {
   "cell_type": "markdown",
   "metadata": {},
   "source": [
    "Untuk menentukan nilai input yang dimasukkan "
   ]
  },
  {
   "cell_type": "code",
   "execution_count": 24,
   "metadata": {},
   "outputs": [],
   "source": [
    "Nilai.input['PDRB_perkapita'] = 27\n",
    "Nilai.input['Pertumbuhan_PDRB'] = 5"
   ]
  },
  {
   "cell_type": "markdown",
   "metadata": {},
   "source": [
    "input masukan nilai defuzzifikasi"
   ]
  },
  {
   "cell_type": "code",
   "execution_count": 25,
   "metadata": {},
   "outputs": [],
   "source": [
    "Nilai.compute()  "
   ]
  },
  {
   "cell_type": "markdown",
   "metadata": {},
   "source": [
    "Menampilkan hasil output dari defuzzifikasi"
   ]
  },
  {
   "cell_type": "code",
   "execution_count": 26,
   "metadata": {},
   "outputs": [
    {
     "name": "stdout",
     "output_type": "stream",
     "text": [
      "3.8685185185185182\n"
     ]
    },
    {
     "name": "stderr",
     "output_type": "stream",
     "text": [
      "C:\\Users\\10\\Anaconda3\\lib\\site-packages\\matplotlib\\figure.py:418: UserWarning: matplotlib is currently using a non-GUI backend, so cannot show the figure\n",
      "  \"matplotlib is currently using a non-GUI backend, \"\n"
     ]
    },
    {
     "data": {
      "image/png": "[encoded data removed]",
      "text/plain": [
       "<matplotlib.figure.Figure at 0x284bbd47278>"
      ]
     },
     "metadata": {},
     "output_type": "display_data"
    }
   ],
   "source": [
    "print(Nilai.output['Pola_Struktur_pertumbuhan_ekonomi'])\n",
    "Pola_Struktur_pertumbuhan_ekonomi.view(sim=Nilai)"
   ]
  },
  {
   "cell_type": "markdown",
   "metadata": {},
   "source": [
    "## Perhitungan Manual\n",
    "PDRB_perkapita \n",
    "\\begin{equation}\n",
    "    PDRB\\,perkapita = 27 \\\\\n",
    "     Masukkan\\,nilai\\,PDRB\\,perkapita\\,ke\\,dalam\\,masing\\,fungsi\\,keanggotaan\\,PDRB\\, perkapita\\, :\\\\\n",
    "  PDRBPerkapita ['Rendah'] = \\mu PDRBPerkapitaRendah(x)=\\begin{cases}\n",
    "    1, & \\text{$0\\leq x\\leq10$}.\\\\\n",
    "    (30 - x)/(30 - 10) , & \\text{$10 \\leq x \\leq 30$}.\\checkmark\\\\\n",
    "    0, & \\text{$x\\geq 30$}.\\\\\n",
    "  \\end{cases}\n",
    "  \\\\\n",
    "  PDRBPerkapita ['Sedang'] = \\mu PDRBPerkapitaSedang(x)=\\begin{cases}\n",
    "    0, & \\text{$x\\leq10$ atau $x\\geq55$}.\\\\\n",
    "    (x - 10)/(30 - 10) , & \\text{$10 \\leq x \\leq 30$}.\\checkmark\\\\\n",
    "    (55 - x)/(55 - 30) , & \\text{$30 \\leq x \\leq 55$}.\\\\\n",
    "  \\end{cases}\n",
    "  \\\\\n",
    "   PDRBPerkapita['Tinggi'] = \\mu PDRBPerkapitaTinggi(x)=\\begin{cases}\n",
    "    0, & \\text{$ x\\leq50$}.\\\\\n",
    "    (x - 50)/(60 - 50) , & \\text{$50 \\leq x \\leq 60$}.\\\\\n",
    "     1, & \\text{$x\\geq 60$}.\n",
    "  \\end{cases}\n",
    "\\end{equation}\n",
    "\n"
   ]
  },
  {
   "cell_type": "markdown",
   "metadata": {},
   "source": [
    "\\begin{equation}\n",
    "    \\mu PDRBPerkapitaRendah(27) = (30 - 27) / (30 - 10) \\\\\n",
    "    \\mu PDRBPerkapitaRendah(27) = 3/20 \\\\ \n",
    "    \\mu PDRBPerkapitaRendah(27) = 0.15 \\\\\n",
    "    \\mu PDRBPerkapitaSedang(27) = (27- 10) / (30 - 10) \\\\\n",
    "    \\mu PDRBPerkapitaSedang(27) = 17/20 \\\\ \n",
    "    \\mu PDRBPerkapitaSedang(27) = 0.85 \\\\\n",
    "\\end{equation}"
   ]
  },
  {
   "cell_type": "markdown",
   "metadata": {},
   "source": [
    "Pertumbuhan_PDRB \n",
    "\\begin{equation}\n",
    "Pertumbuhan\\,PDRB = 5 \\\\\n",
    "     Masukkan\\,nilai\\,Pertumbuhan\\,PDRB\\,ke\\,dalam\\,masing\\,fungsi\\,keanggotaan\\,Pertumbuhan\\,PDRB\\, :\\\\\n",
    "  PertumbuhanPDRB ['Rendah'] = \\mu PertumbuhanPDRBRendah(x)=\\begin{cases}\n",
    "    1, & \\text{$0\\leq x\\leq2$}.\\\\\n",
    "    (4 - x)/(4 - 2) , & \\text{$2 \\leq x \\leq 4$}.\\\\\n",
    "    0, & \\text{$x\\geq 4$}.\\checkmark\n",
    "  \\end{cases}\n",
    "  \\\\\n",
    "  PertumbuhanPDRB ['Sedang'] = \\mu PertumbuhanPDRBSedang(x)=\\begin{cases}\n",
    "    0, & \\text{$x\\leq2$ atau $x\\geq6$}.\\\\\n",
    "    (x - 2)/(4 - 2) , & \\text{$2 \\leq x \\leq 4$}.\\\\\n",
    "    (6 - x)/(6 - 4) , & \\text{$4 \\leq x \\leq 6$}.\\checkmark\n",
    "  \\end{cases}\n",
    "  \\\\\n",
    "   PertumbuhanPDRB ['Tinggi'] = \\mu PertumbuhanPDRBTinggi(x)=\\begin{cases}\n",
    "    0, & \\text{$ x\\leq4$}.\\\\\n",
    "    (x - 4)/(6 - 4) , & \\text{$4 \\leq x \\leq 6$}.\\checkmark\\\\\n",
    "     1, & \\text{$x\\geq 6$}.\n",
    "  \\end{cases}\n",
    "\\end{equation}"
   ]
  },
  {
   "cell_type": "markdown",
   "metadata": {},
   "source": [
    "\\begin{equation}\n",
    "    \\mu PertumbuhanPDRBSedang(5) = (6 - 5) / (6 - 4) \\\\\n",
    "    \\mu PertumbuhanPDRBSedang(5) = 1/2 \\\\ \n",
    "    \\mu PertumbuhanPDRBSedang(5) = 0.5 \\\\\n",
    "    \\mu PertumbuhanPDRBTinggi(5) = (5 - 4) / (6 - 4) \\\\\n",
    "    \\mu PertumbuhanPDRBTinggi(5) = 1/2 \\\\\n",
    "    \\mu PertumbuhanPDRBTinggi(5) = 0.5 \\\\\n",
    "\\end{equation}"
   ]
  },
  {
   "cell_type": "markdown",
   "metadata": {},
   "source": [
    "Lalu kita cari nilai z untuk setiap aturan dengan menggunakan fungsi MIN karena menggunakan rule AND\n",
    "\n",
    "1 IF PDRB Perkapita Rendah AND Pertumbuhan PDRB Rendah THEN Pola struktur pertumbuhan ekonomi Tertinggal\n",
    "\n",
    "$$ \\\\ \\alpha(predikat_1) = \\mu PDRBPerkapitaRendah \\cap \\mu PertumbuhanPDRBRendah $$\n",
    "$$\\alpha(predikat_1)   = min (\\mu  PDRBPerkapitaRendah[27], \\mu  PertumbuhanPDRBRendah[5]) $$\n",
    "$$ \\alpha(predikat_1) = min (0.15; 0) $$\n",
    "$$ \\alpha(predikat_1) = 0 $$\n",
    "\n",
    "Lalu lihat himpunan Pola struktur pertumbuhan ekonomi Tertinggal\n",
    "\n",
    "$$\n",
    "   Polastrukturpertumbuhanekonomi['Tertinggal'] = \\mu(x)=\\begin{cases}\n",
    "     1, & \\text{$x\\leq 2$}.\\\\\n",
    "    (4 - x)/(4 - 2) , & \\text{$2 \\leq x \\leq 4$}.\\\\\n",
    "    0, & \\text{$x\\geq 4$}.\n",
    "  \\end{cases}\n",
    "$$\n",
    " \n",
    "Maka nilai $ Z_1 = 0 $\n",
    "\n",
    "=================================================================================================================\n",
    "\n",
    "2 IF PDRB Perkapita Rendah AND Pertumbuhan PDRB Sedang THEN Pola struktur pertumbuhan ekonomi Tertinggal\n",
    "\n",
    "$$ \\\\ \\alpha(predikat_2) = \\mu  PDRB Perkapita Rendah \\cap \\mu  Pertumbuhan PDRB Sedang $$\n",
    "$$\\alpha(predikat_2)   = min (\\mu PDRB Perkapita Rendah [27], \\mu Pertumbuhan PDRB Sedang [5]) $$\n",
    "$$ \\alpha(predikat_2) = min (0.15; 0.5) $$\n",
    "$$ \\alpha(predikat_2) = 0.15 $$\n",
    "\n",
    "Lalu lihat himpunan Pola struktur pertumbuhan ekonomi Tertinggal\n",
    "$$\n",
    "    Polastrukturpertumbuhanekonomi['Tertinggal'] = \\mu(x)=\\begin{cases}\n",
    "     1, & \\text{$x\\leq 2$}.\\\\\n",
    "    (4 - x)/(4 - 2) , & \\text{$2 \\leq x \\leq 4$}.\\\\\n",
    "    0, & \\text{$x\\geq 4$}.\n",
    "  \\end{cases}\n",
    "$$\n",
    "Terdapat 1 nilai keanggotaan maka kita uji satu persatu\n",
    " $$(4- x) / (4 - 2) = 0.15 $$\n",
    " $$ 4 - x = 0.15 \\times 2 $$\n",
    " $$ 4 - x = 0.3 $$\n",
    " $$ -x = -3.7$$\n",
    " $$ x = 3.7 $$\n",
    " \n",
    "Maka nilai $ Z_2 = 3.7 $\n",
    "\n",
    "=================================================================================================================\n",
    "\n",
    "3 IF PDRB Perkapita Rendah AND Pertumbuhan PDRB Tinggi THEN Pola struktur pertumbuhan ekonomi Berkembang\n",
    "\n",
    "$$ \\\\ \\alpha(predikat_3) = \\mu  PDRB Perkapita Rendah \\cap \\mu  Pertumbuhan PDRB Tinggi $$\n",
    "$$\\alpha(predikat_3)   = min (\\mu PDRB Perkapita Rendah [27], \\mu Pertumbuhan PDRB Tinggi [5]) $$\n",
    "$$ \\alpha(predikat_3) = min (0.15; 0.5) $$\n",
    "$$ \\alpha(predikat_3) = 0.15 $$\n",
    "\n",
    "\n",
    "Lalu lihat himpunan pola Struktur pertumbuhan ekonomi Berkembang\n",
    "$$\n",
    "  \\\\\n",
    "   Polastrukturpertumbuhanekonomi['Berkembang'] = \\mu(x)=\\begin{cases}\n",
    "   0, & \\text{$x\\leq 1$ atau $x\\geq7$}.\\\\\n",
    "    (x - 2)/(4 - 2) , & \\text{$2 \\leq x \\leq 4$}.\\\\\n",
    "    (7 - x)/(7 - 4) , & \\text{$4 \\leq x \\leq 7$}.\\\\\n",
    "  \\end{cases}\n",
    "  \\\\\n",
    "$$\n",
    "Terdapat 2 nilai keanggotaan maka kita uji satu persatu\n",
    " $$(x- 2) / (4 - 2) = 0.15 $$\n",
    " $$ x - 2 = 0.15 \\times 2 $$\n",
    " $$ x - 4 = 0.3 $$\n",
    " $$ x = 4.3$$\n",
    " \n",
    " $$ (7 -x) / (7 -4) = 0.15 $$\n",
    " $$ (10 - x) = 0.15\\times 3 $$\n",
    " $$ 10 - x = 0.45 $$\n",
    " $$ x = 9.55 $$\n",
    "Maka nilai $ Z_3 = 4.3 $\n",
    "\n",
    "\n",
    "=================================================================================================================\n",
    "\n",
    "4 IF PDRB Perkapita Sedang AND Pertumbuhan PDRB Rendah THEN Pola struktur pertumbuhan ekonomi Tertinggal\n",
    "\n",
    "\n",
    "$$ \\\\ \\alpha(predikat_4) = \\mu  PDRB Perkapita Sedang \\cap \\mu  Pertumbuhan PDRB Rendah $$\n",
    "$$\\alpha(predikat_4)   = min (\\mu PDRB Perkapita Sedang [27], \\mu Pertumbuhan PDRB Rendah [5]) $$\n",
    "$$ \\alpha(predikat_4) = min (0.85; 0) $$\n",
    "$$ \\alpha(predikat_4) = 0 $$\n",
    "\n",
    "Lalu lihat Pola Struktur pertumbuhan ekonomi Tertinggal \n",
    "$$  Polastrukturpertumbuhanekonomi['Tertinggal'] = \\mu(x)=\\begin{cases}\n",
    "    1, & \\text{$x\\leq 2$}.\\\\\n",
    "    (4 - x)/(4 - 0) , & \\text{$0 \\leq x \\leq 4$}.\\\\\n",
    "    0, & \\text{$x\\geq 4$}.\n",
    "  \\end{cases}\n",
    "$$\n",
    "\n",
    "Maka nilai Z$_4$ = 0 $\n",
    "\n",
    "\n",
    "=================================================================================================================\n",
    "\n",
    "5 IF PDRB Perkapita Sedang AND Pertumbuhan PDRB Sedang THEN Pola struktur pertumbuhan ekonomi Berkembang\n",
    "\n",
    "$$ \\\\ \\alpha(predikat_5) = \\mu  PDRB Perkapita Sedang \\cap \\mu  Pertumbuhan PDRB Sedang $$\n",
    "$$\\alpha(predikat_5)   = min (\\mu PDRB Perkapita Sedang [27], \\mu Pertumbuhan PDRB Sedang [5]) $$\n",
    "$$ \\alpha(predikat_5) = min (0.85; 0.5) $$\n",
    "$$ \\alpha(predikat_5) = 0.5 $$\n",
    "\n",
    "Lalu lihat himpunan pola struktur pertumbuhan ekonomi Berkembang\n",
    "$$\n",
    "  \\\\\n",
    "   Polastrukturpertumbuhanekonomi['Berkembang'] = \\mu(x)=\\begin{cases}\n",
    "   0, & \\text{$x\\leq 2$ atau $x\\geq7$}.\\\\\n",
    "    (x - 2)/(4 - 2) , & \\text{$2 \\leq x \\leq 4$}.\\\\\n",
    "    (7 - x)/(7 - 4) , & \\text{$4 \\leq x \\leq 7$}.\\\\\n",
    "  \\end{cases}\n",
    "  \\\\\n",
    "$$\n",
    "Terdapat 2 nilai keanggotaan maka kita uji satu persatu\n",
    " $$(x- 2) / (4 - 2) = 0.5 $$\n",
    " $$ x - 2 = 0.5 \\times 2 $$\n",
    " $$ x - 2 = 1 $$\n",
    " $$ x = 3 $$\n",
    " \n",
    " $$ (7 -x) / (7 -4) = 0.5 $$\n",
    " $$ (7 - x) = 0.5\\times 3 $$\n",
    " $$ - x = -5.5 $$\n",
    " $$ x = 5.5 $$\n",
    "Akan diambil nilai terkecil\n",
    "Maka nilai $ Z_5 = 3 $\n",
    "\n",
    "\n",
    "=================================================================================================================\n",
    "\n",
    "6 IF PDRB Perkapita Sedang AND Pertumbuhan PDRB Tinggi THEN Pola struktur pertumbuhan ekonomi Berkembang\n",
    "\n",
    "\n",
    "$$ \\\\ \\alpha(predikat_6) = \\mu  PDRB Perkapita Sedang \\cap \\mu  Pertumbuhan PDRB Tinggi $$\n",
    "$$\\alpha(predikat_6)   = min (\\mu PDRB Perkapita Sedang [27], \\mu Pertumbuhan PDRB Tinggi [5]) $$\n",
    "$$ \\alpha(predikat_6) = min (0.85; 0.5) $$\n",
    "$$ \\alpha(predikat_6) = 0.5 $$\n",
    "\n",
    "Lalu lihat himpunan Pola struktur pertumbuhan ekonomi Berkembang\n",
    "$$\n",
    "  \\\\\n",
    "   Polastrukturpertumbuhanekonomi['Berkembang'] = \\mu(x)=\\begin{cases}\n",
    "   0, & \\text{$x\\leq 2$ atau $x\\geq7$}.\\\\\n",
    "    (x - 2)/(4 - 2) , & \\text{$2 \\leq x \\leq 4$}.\\\\\n",
    "    (7 - x)/(7 - 4) , & \\text{$4 \\leq x \\leq 7$}.\\\\\n",
    "  \\end{cases}\n",
    "  \\\\\n",
    "$$\n",
    "Terdapat 2 nilai keanggotaan maka kita uji satu persatu\n",
    " $$(x- 2) / (4 - 2) = 0.5 $$\n",
    " $$ x - 2 = 0.5 \\times 2 $$\n",
    " $$ x - 2 = 1 $$\n",
    " $$ x = 3 $$\n",
    " \n",
    " $$ (7 -x) / (7 -4) = 0.5 $$\n",
    " $$ (7 - x) = 0.5\\times 3 $$\n",
    " $$ - x = -5.5 $$\n",
    " $$ x = 5.5 $$\n",
    "Akan diambil nilai terkecil\n",
    "Maka nilai $ Z_5 = 3 $\n",
    "\n",
    "=================================================================================================================\n",
    "\n",
    "7 IF PDRB Perkapita Tinggi AND Pertumbuhan PDRB Rendah THEN Pola struktur pertumbuhan ekonomi Maju tapi tertekan\n",
    "\n",
    "$$ \\\\ \\alpha(predikat_7) = \\mu  PDRB Perkapita Tinggi \\cap \\mu  Pertumbuhan PDRB Rendah $$\n",
    "$$\\alpha(predikat_7)   = min (\\mu PDRB Perkapita Tinggi [27], \\mu Pertumbuhan PDRB Rendah [5]) $$\n",
    "$$ \\alpha(predikat_7) = min (0; 0) $$\n",
    "$$ \\alpha(predikat_7) = 0 $$\n",
    "\n",
    "Lalu lihat himpunan Pola struktur pertumbuhan ekonomi Maju tapi tertekan\n",
    "$$\n",
    "  \\\\\n",
    "   Polastrukturpertumbuhanekonomi['Majutapitertekan'] = \\mu(x)=\\begin{cases}\n",
    "  0, & \\text{$x\\leq 4$ atau $x\\geq9$}.\\\\\n",
    "    (x - 4)/(7 - 4) , & \\text{$4 \\leq x \\leq 7$}.\\\\\n",
    "    (10 - x)/(10 - 7) , & \\text{$7 \\leq x \\leq 10$}.\\\\\n",
    "  \\end{cases}\n",
    "  \\\\\n",
    "$$\n",
    "Maka nilai Z$_7$ = 0 $$\n",
    "\n",
    "=================================================================================================================\n",
    "\n",
    "8 IF PDRB Perkapita Tinggi AND Pertumbuhan PDRB Sedang THEN Pola struktur pertumbuhan ekonomi Maju tapi tertekan\n",
    "\n",
    "$$ \\\\ \\alpha(predikat_8) = \\mu  PDRB Perkapita Tinggi \\cap \\mu  Pertumbuhan PDRB Sedang $$\n",
    "$$\\alpha(predikat_8)   = min (\\mu PDRB Perkapita Tinggi [27], \\mu Pertumbuhan PDRB Sedang [5]) $$\n",
    "$$ \\alpha(predikat_8) = min (0; 0.5) $$\n",
    "$$ \\alpha(predikat_8) = 0 $$\n",
    "\n",
    "Lalu lihat himpunan Pola struktur pertumbuhan ekonomi Maju tapi tertekan\n",
    "$$\n",
    "  \\\\\n",
    "   Polastrukturpertumbuhanekonomi['Majutapitertekan'] = \\mu(x)=\\begin{cases}\n",
    "  0, & \\text{$x\\leq 5$ atau $x\\geq10$}.\\\\\n",
    "    (x - 4)/(7 - 4) , & \\text{$4 \\leq x \\leq 7$}.\\\\\n",
    "    (10 - x)/(10 - 7) , & \\text{$7 \\leq x \\leq 10$}.\\\\\n",
    "  \\end{cases}\n",
    "  \\\\\n",
    "$$\n",
    "\n",
    "Maka nilai Z$_8$ = 0 $$\n",
    "\n",
    "\n",
    "=================================================================================================================\n",
    "\n",
    "9 IF PDRB Perkapita Tinggi AND Pertumbuhan PDRB Tinggi THEN Pola struktur pertumbuhan ekonomi Maju \n",
    "\n",
    "$$ \\\\ \\alpha(predikat_9) = \\mu  PDRB Perkapita Tinggi \\cap \\mu  Pertumbuhan PDRB Tinggi $$\n",
    "$$\\alpha(predikat_9)   = min (\\mu PDRB Perkapita Tinggi [27], \\mu Pertumbuhan PDRB Tinggi [5]) $$\n",
    "$$ \\alpha(predikat_9) = min (0 ; 0.5) $$\n",
    "$$ \\alpha(predikat_9) = 0 $$\n",
    "\n",
    "Lalu lihat himpunan Pola struktur pertumbuhan ekonomi Maju \n",
    "$$\n",
    "  \\\\\n",
    "   Polastrukturpertumbuhanekonomi['Maju'] = \\mu(x)=\\begin{cases}\n",
    " 0, & \\text{$x\\leq 7$}.\\\\\n",
    "    (x - 7)/(10 - 7) , & \\text{$7 \\leq x \\leq 10$}.\\\\\n",
    "    1, & \\text{$x\\geq 10$}.\n",
    "  \\end{cases}\n",
    "  \\\\  \n",
    "$$\n",
    "Maka nilai Z$_9$ = 0 $"
   ]
  },
  {
   "cell_type": "markdown",
   "metadata": {},
   "source": [
    "Z =$$ \\frac{\\alpha predikat_1 \\times Z_1 +\n",
    "\\alpha predikat_2 \\times Z_2 +\n",
    "\\alpha predikat_3 \\times Z_3 +\n",
    "\\alpha predikat_4 \\times Z_4 +\n",
    "\\alpha predikat_5 \\times Z_5 +\n",
    "\\alpha predikat_6 \\times Z_6 +\n",
    "\\alpha predikat_7 \\times Z_7 +\n",
    "\\alpha predikat_8 \\times Z_8 +\n",
    "\\alpha predikat_9 \\times Z_9 }\n",
    "{\\alpha predikat_1 + \\alpha predikat_2 +\n",
    "\\alpha predikat_3 + \\alpha predikat_4 +\n",
    "\\alpha predikat_5 + \\alpha predikat_6 +\n",
    "\\alpha predikat_7 + \\alpha predikat_8 +\n",
    "\\alpha predikat_9 }$$"
   ]
  },
  {
   "cell_type": "markdown",
   "metadata": {},
   "source": [
    "$$Z = \\frac{0 + (0.15\\times 3.7) + (0.15\\times 4.3) + 0 +( 0.5\\times 3)+( 0.5 \\times 3) + 0 + 0 + 0}{0 + 0.15 + 0.15 + 0 + 0.5 + 0.5 + 0 + 0 + 0} $$\n",
    " \n",
    " $$ Z = \\frac{4.2}{1.3} $$\n",
    " $$ Z = 3.2307 \\,  $$"
   ]
  },
  {
   "cell_type": "markdown",
   "metadata": {},
   "source": [
    "### Kesimpulan\n",
    "Jadi hasil Output yang di keluarkan oleh python sebesar 3.8685185185185182 sedangkan pada perhitungan manual sebesar 3.230769230769230 \n",
    "Terdapat nilai selisih Mesin pyhton dengan Perhitungan Manual, yaitu :0,63\n"
   ]
  },
  {
   "cell_type": "markdown",
   "metadata": {},
   "source": [
    "### Referensi jurnal di dapat dari :\n",
    "http://seminar.uny.ac.id/semnasmatematika/sites/seminar.uny.ac.id.semnasmatematika/files/banner/T-21.pdf\n"
   ]
  },
  {
   "cell_type": "code",
   "execution_count": null,
   "metadata": {},
   "outputs": [],
   "source": []
  },
  {
   "cell_type": "code",
   "execution_count": null,
   "metadata": {},
   "outputs": [],
   "source": []
  },
  {
   "cell_type": "code",
   "execution_count": null,
   "metadata": {},
   "outputs": [],
   "source": []
  },
  {
   "cell_type": "code",
   "execution_count": null,
   "metadata": {},
   "outputs": [],
   "source": []
  }
 ],
 "metadata": {
  "kernelspec": {
   "display_name": "Python 3",
   "language": "python",
   "name": "python3"
  },
  "language_info": {
   "codemirror_mode": {
    "name": "ipython",
    "version": 3
   },
   "file_extension": ".py",
   "mimetype": "text/x-python",
   "name": "python",
   "nbconvert_exporter": "python",
   "pygments_lexer": "ipython3",
   "version": "3.6.4"
  }
 },
 "nbformat": 4,
 "nbformat_minor": 2
}
