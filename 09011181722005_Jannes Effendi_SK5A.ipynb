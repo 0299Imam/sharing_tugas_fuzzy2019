{
 "cells": [
  {
   "cell_type": "markdown",
   "metadata": {},
   "source": [
    "# Nama : Jannes Effendi\n",
    "\n",
    "# NIM &ensp; : 09011181722005\n",
    "\n",
    "# Kelas : SK5A \n",
    "\n",
    "# MK    : Artificial Intelligence   "
   ]
  },
  {
   "cell_type": "markdown",
   "metadata": {},
   "source": [
    "# Sistem Kendali Pompa untuk Mengatur Ph dan Kelembaban tanah \n",
    "\n",
    "Kesuburan tanah sangat penting bagi keberhasilan petani dalam bercocok tanam. Tugas petani adalah\n",
    "mengidentifikasi semua faktor pembatas hasil, dan menghilangkan atau meminimalkannya sehingga usahanya\n",
    "menguntungkan. Skala Ph adalah 1 - 12 dan untuk Skala kelembaban tanah yang digunakan adalah 1 - 70. Pompa akan mengeluarkan air atau kapur secara otomatis dari 1 - 15."
   ]
  },
  {
   "cell_type": "code",
   "execution_count": 1,
   "metadata": {},
   "outputs": [],
   "source": [
    "import numpy as np\n",
    "import skfuzzy as fuzz\n",
    "import matplotlib.pyplot as plt\n",
    "from skfuzzy import control as ctrl"
   ]
  },
  {
   "attachments": {},
   "cell_type": "markdown",
   "metadata": {},
   "source": [
    "# 1. Fuzzifikasi\n",
    "Fuzzyfikasi adalah proses untuk mengubah nilai crisp yang diterima menjadi nilai fuzzy (memiliki nilai diantara 0 dan 1). Hal ini dapat dilakukan dengan memasukkan nilai crisp kedalam himpunan fuzzy yang memiliki beberapa kondisi dengan derajat keanggotaannya masing masing.\n",
    "\n",
    "## 1.1 Menentukan Semesta Pembicaraan dari semua Variable\n",
    "Semesta pembicaraan adalah semua nilai yang terlibat dalam variable fuzzy. Nilai tersebut akan dioperasikan untuk mendapatkan nilai keanggotaaan pada himpunan fuzzy.\n",
    "\n",
    "\n",
    "Pada sistem kendali pompa untuk mengendalikan ph dan kelembaban tanah, ada 4 variable fuzzy yang ditentukan yaitu Ph, Kelembaban, Pompa Air dan Pompa Kapur.\n",
    "\n",
    "|     Variable     \t| Semesta Pembicaraan \t|\n",
    "|:----------------:\t|:-------------------:\t|\n",
    "|     Ph Tanah     \t|        1 - 12       \t|\n",
    "| Kelembapan Tanah \t|        1 - 70       \t|\n",
    "|     Pompa Air    \t|        1 - 15       \t|\n",
    "|    Pompa Kapur   \t|        1 - 15       \t|\n"
   ]
  },
  {
   "cell_type": "code",
   "execution_count": 2,
   "metadata": {},
   "outputs": [],
   "source": [
    "ph = ctrl.Antecedent(np.arange(1, 13), 'Ph Tanah')\n",
    "kelembapan = ctrl.Antecedent(np.arange(1, 71), 'Kelembapan Tanah')\n",
    "pompa_air = ctrl.Consequent(np.arange(1, 16), 'Pompa Air')\n",
    "pompa_kapur = ctrl.Consequent(np.arange(1, 16), 'Pompa Kapur')"
   ]
  },
  {
   "cell_type": "markdown",
   "metadata": {},
   "source": [
    "### Penjelasan Code\n",
    "Pada modules **skfuzzy** yaitu class **Control** memiliki fungsi **Antecendent**, Yang bisa menghimpun variable **Input**, dan **Consequent** , Untuk menghimpun variable **Output**. Himpunan ini disimpan dalam Numpy Array dengan fungsi **arange(Start,Stop,Step)**."
   ]
  },
  {
   "attachments": {},
   "cell_type": "markdown",
   "metadata": {},
   "source": [
    "## 1.2 Menentukan Domain Himpunan Fuzzy\n",
    "\n",
    "Penentuan Himpunan fuzzy dilakukan dengan membagi variable menjadi 2 atribut yaitu : \n",
    "- Lingustik, Penamaan pada himpunan yang mewakili suatu kondisi dengan bahasa manusia\n",
    "- Numerik, Nilai yang merepresentasikan ukuran suatu keadaan.\n",
    "\n",
    "## Input\n",
    "\n",
    "**Ph Tanah**\n",
    "    1. Asam    : 0 - 6\n",
    "    2. Normal  : 5 - 9\n",
    "    3. Basa    : 8 - 12\n",
    "    \n",
    "**Kelembapan Tanah**\n",
    "    1. Kering  : 1  - 30\n",
    "    2. Lembab  : 20 - 70\n",
    "    3. Basah   : 60 - 70\n",
    "    \n",
    "## Output\n",
    "**Pompa Air**\n",
    "    \n",
    "    1. Sangat Sedikit : 1  - 5\n",
    "    2. Sedikit        : 5  - 10\n",
    "    3. Sedang         : 5  - 15\n",
    "    4. Banyak         : 10 - 15\n",
    "    \n",
    "**Pompa Kapur**\n",
    "  \n",
    "    1. Sangat Sedikit : 1  - 5\n",
    "    2. Sedikit        : 5  - 10\n",
    "    3. Sedang         : 5  - 15\n",
    "    4. Banyak         : 10 - 15\n",
    "\n",
    "## 1.2.1 Penentuan Fungsi Keanggotaan\n",
    "\n",
    "  Penentuan Membership function dilakukan dengan memetakan titik input data kedalam nilai keanggotaan. Untuk mendapatkan nilai keanggotaan ini dapat dilakukan dengan pendekatan fungsi matematika seperti **Representasi Linear, Segitiga, Segitiga SIku, Trapesium dll**.\n",
    "\n",
    "Dalam Kendali PH dan Kelembaban tanah ini ,Membership function di representasikan dengan `Segitiga Siku`\n",
    "!["
   ]
  },
  {
   "cell_type": "markdown",
   "metadata": {},
   "source": [
    "## Penjelasan Kode\n",
    "\n",
    "\n",
    "### a. Fungsi Keanggotaan\n",
    "Dalam module Skfuzzy, terdapat fungsi untuk memetakan bahasa linguistik dalam himpunan fuzzy kedalam angka. Fungsi yang dipakai adalah `fuzz.trapmf()` dan `fuzz.trimf()`.\n",
    "\n",
    "   1. **fuzz.trapmf( universe, [ titik_awal, titik_kiri, titik_kanan, titik_akhir )   :** Digunakan untuk merepresentasikan fungsi keanggotaan dengan kurva trapesium. Fungsi ini memiliki parameter `universe` dan menerima `4 titik` untuk membentuk domain trapesium.\n",
    "   2. **fuzz.trimf( universe, [ titik_awal, titik_tengah, titik_akhir )               :** Berfungsi untuk menggambarkan fungsi keanggotaan dengan kurva segitiga siku. Fungsi ini memiliki parameter `universe` dan menerima `3 titik` untuk membentuk domain segitiga siku.\n",
    "   \n",
    "### b. Menampilkan Grafik\n",
    "Untuk menampilkan grafik dari fungsi keanggotaan , dapat digunakan fungsi `view()`. Untuk mengubah judul atau nama dari y maupun x axis, dapat digunakan module matplotlib. "
   ]
  },
  {
   "cell_type": "markdown",
   "metadata": {},
   "source": [
    "#### Fungsi keanggotaan Ph Tanah"
   ]
  },
  {
   "cell_type": "code",
   "execution_count": 3,
   "metadata": {},
   "outputs": [],
   "source": [
    "ph[\"asam\"] = fuzz.trapmf(ph.universe,[1,1,5,6])\n",
    "ph['normal'] = fuzz.trapmf(ph.universe,[5,6,8,9])\n",
    "ph['basa'] = fuzz.trapmf(ph.universe,[8,9,12,12])"
   ]
  },
  {
   "cell_type": "markdown",
   "metadata": {},
   "source": [
    "Fungsi keanggotaan Ph tanah direpresentasikan dengan kurva trapesium.\n",
    "\n",
    "                                            Persamaan Fungsi keanggotaan Ph Tanah\n",
    "\n",
    "$$\\normalsize\n",
    " \\mu asam\\left[x\\right]=\n",
    "  \\begin{cases}0  &; x \\geq 6\\\\\n",
    "  (6-x)  & ; 5<x < 6\\\\\n",
    "  1  &; x \\leq 5\n",
    "  \\end{cases} \n",
    "$$\n",
    "\n",
    ".\n",
    ".\n",
    "$$\\normalsize \n",
    " \\mu normal\\left[x\\right]= \n",
    "  \\begin{cases}0  &; \\text{$x\\leq 5$ atau $x\\geq 9$}\\\\\n",
    "  (x-5) &; 5<x <6\\\\\n",
    "  (9-x) &; 8<x <9\\\\\n",
    "  1  &; x \\geq 9\n",
    "  \\end{cases} $$\n",
    ".\n",
    ".\n",
    "$$\\normalsize \n",
    " \\mu basa\\left[x\\right]= \n",
    "  \\begin{cases}0  &; x \\leq 8\\\\\n",
    "  (x-8) &; 8<x <9\\\\\n",
    "  1  &; x \\geq 9\n",
    "  \\end{cases} $$"
   ]
  },
  {
   "cell_type": "markdown",
   "metadata": {},
   "source": [
    "**Grafik Ph Asam**"
   ]
  },
  {
   "cell_type": "code",
   "execution_count": 18,
   "metadata": {},
   "outputs": [
    {
     "data": {
      "text/plain": [
       "Text(0.5, 1.0, 'Fungsi Keanggotaan Ph Tanah')"
      ]
     },
     "execution_count": 18,
     "metadata": {},
     "output_type": "execute_result"
    },
    {
     "data": {
      "image/png": "[encoded data removed]",
      "text/plain": [
       "<Figure size 432x288 with 1 Axes>"
      ]
     },
     "metadata": {
      "needs_background": "light"
     },
     "output_type": "display_data"
    }
   ],
   "source": [
    "ph.view()\n",
    "plt.ylabel('Derajat Keanggotaan')\n",
    "plt.title(\"Fungsi Keanggotaan Ph Tanah\")"
   ]
  },
  {
   "cell_type": "code",
   "execution_count": 5,
   "metadata": {},
   "outputs": [],
   "source": [
    "kelembapan[\"kering\"] = fuzz.trapmf(kelembapan.universe,[1,1,20,30])\n",
    "kelembapan[\"lembab\"] = fuzz.trapmf(kelembapan.universe,[20,30,60,70])\n",
    "kelembapan[\"basah\"] = fuzz.trimf(kelembapan.universe,[60,70,70])"
   ]
  },
  {
   "cell_type": "markdown",
   "metadata": {},
   "source": [
    "Fungsi keanggotaan `kelembapan tanah` direpresentasikan dengan `kurva trapesium`.\n",
    "\n",
    "                                            Persamaan Fungsi keanggotaan Kelembapan Tanah\n",
    "\n",
    "$$\\normalsize\n",
    " \\mu kering\\left[x\\right]=\n",
    "  \\begin{cases}1  &; x \\leq 20\\\\\n",
    "  \\large \\text{$30 - x$} \\over {10} & ; 20<x < 30\\\\\n",
    "  0  &; x \\geq 30\n",
    "  \\end{cases} \n",
    "$$\n",
    "\n",
    ".\n",
    ".\n",
    "$$\\normalsize \n",
    " \\mu lembab\\left[x\\right]= \n",
    "  \\begin{cases}0  &; \\text{$x\\leq 20$ atau $x\\geq 70$}\\\\\n",
    "  \\large (x-20) \\over {10} &; 20<x <30\\\\\n",
    "  \\large (70-x) \\over {10}&; 60<x <70\\\\\n",
    "  1  &; \\text{$ 30 \\leq x \\leq 60$}\n",
    "  \\end{cases} $$\n",
    ".\n",
    ".\n",
    "$$\\normalsize \n",
    " \\mu basah\\left[x\\right]= \n",
    "  \\begin{cases}0  &; x \\leq 60\\\\\n",
    "  \\large (x-60) \\over{10}&; 60<x <70\\\\\n",
    "  1  &; x \\geq 70\n",
    "  \\end{cases} $$"
   ]
  },
  {
   "cell_type": "code",
   "execution_count": 6,
   "metadata": {
    "scrolled": true
   },
   "outputs": [
    {
     "data": {
      "text/plain": [
       "Text(0.5, 1.0, 'Fungsi Keanggotaan Kelembapan Tanah')"
      ]
     },
     "execution_count": 6,
     "metadata": {},
     "output_type": "execute_result"
    },
    {
     "data": {
      "image/png": "[encoded data removed]",
      "text/plain": [
       "<Figure size 432x288 with 1 Axes>"
      ]
     },
     "metadata": {
      "needs_background": "light"
     },
     "output_type": "display_data"
    }
   ],
   "source": [
    "kelembapan.view()\n",
    "plt.ylabel('Derajat Keanggotaan')\n",
    "plt.title(\"Fungsi Keanggotaan Kelembapan Tanah\")"
   ]
  },
  {
   "cell_type": "code",
   "execution_count": 7,
   "metadata": {},
   "outputs": [],
   "source": [
    "pompa_air[\"sangat sedikit\"] = fuzz.trimf(pompa_air.universe,[1,1,5])\n",
    "pompa_air[\"sedikit\"] = fuzz.trimf(pompa_air.universe,[1,5,10])\n",
    "pompa_air[\"sedang\"] = fuzz.trimf(pompa_air.universe,[5,10,15])\n",
    "pompa_air[\"banyak\"] = fuzz.trimf(pompa_air.universe,[10,15,15])"
   ]
  },
  {
   "cell_type": "markdown",
   "metadata": {},
   "source": [
    "Fungsi keanggotaan `pompa air` direpresentasikan dengan `kurva segitiga siku`.\n",
    "\n",
    "                                            Persamaan Fungsi keanggotaan Pompa Air\n",
    "$$\\normalsize\n",
    " \\mu SangatSedikit\\left[x\\right]=\n",
    "  \\begin{cases}1  &; x \\leq 1\\\\\n",
    "  \\large \\text{$(5 - x)$} \\over {4} & ; 1<x < 5\\\\\n",
    "  0  &; x \\geq 5\n",
    "  \\end{cases} \n",
    "$$\n",
    "\n",
    ".\n",
    ".\n",
    "$$\\normalsize \n",
    " \\mu Sedikit\\left[x\\right]= \n",
    "  \\begin{cases}0  &; \\text{$x\\leq 1$ atau $x\\geq 10$}\\\\\n",
    "  \\large (x-1) \\over {4} &; \\text{$1<x \\leq 5$}\\\\\n",
    "  \\large (10-x) \\over {5}&; 5<x <10\n",
    "  \\end{cases} $$\n",
    ".\n",
    ".\n",
    "$$\\normalsize \n",
    " \\mu Sedang\\left[x\\right]= \n",
    "  \\begin{cases}0  &; \\text{$x\\leq 5$ atau $x\\geq 15$}\\\\\n",
    "  \\large (x-5) \\over {5} &; \\text{$5<x \\leq 10$}\\\\\n",
    "  \\large (15-x) \\over {5}&; 10<x <15\n",
    "  \\end{cases} $$\n",
    ".\n",
    ".\n",
    "$$\\normalsize \n",
    " \\mu Banyak\\left[x\\right]= \n",
    "  \\begin{cases}0  &; x \\leq 10\\\\\n",
    "  \\large (x-10) \\over{5}&; 10<x <15\\\\\n",
    "  1  &; x \\geq 15\n",
    "  \\end{cases} $$"
   ]
  },
  {
   "cell_type": "code",
   "execution_count": 8,
   "metadata": {
    "scrolled": false
   },
   "outputs": [
    {
     "data": {
      "text/plain": [
       "Text(0.5, 1.0, 'Fungsi Keanggotaan Pompa Air')"
      ]
     },
     "execution_count": 8,
     "metadata": {},
     "output_type": "execute_result"
    },
    {
     "data": {
      "image/png": "[encoded data removed]",
      "text/plain": [
       "<Figure size 432x288 with 1 Axes>"
      ]
     },
     "metadata": {
      "needs_background": "light"
     },
     "output_type": "display_data"
    }
   ],
   "source": [
    "pompa_air.view()\n",
    "plt.ylabel('Derajat Keanggotaan')\n",
    "plt.title(\"Fungsi Keanggotaan Pompa Air\")"
   ]
  },
  {
   "cell_type": "code",
   "execution_count": 9,
   "metadata": {
    "scrolled": true
   },
   "outputs": [],
   "source": [
    "pompa_kapur[\"sangat sedikit\"] = fuzz.trimf(pompa_kapur.universe,[1,1,5])\n",
    "pompa_kapur[\"sedikit\"] = fuzz.trimf(pompa_kapur.universe,[1,5,10])\n",
    "pompa_kapur[\"sedang\"] = fuzz.trimf(pompa_kapur.universe,[5,10,15])\n",
    "pompa_kapur[\"banyak\"] = fuzz.trimf(pompa_kapur.universe,[10,15,15])"
   ]
  },
  {
   "cell_type": "markdown",
   "metadata": {},
   "source": [
    "Fungsi keanggotaan `pompa kapur` direpresentasikan dengan `kurva segitiga siku`.\n",
    "\n",
    "                                            Persamaan Fungsi keanggotaan Pompa Kapur\n",
    "$$\\normalsize\n",
    " \\mu SangatSedikit\\left[x\\right]=\n",
    "  \\begin{cases}1  &; x \\leq 1\\\\\n",
    "  \\large \\text{$(5 - x)$} \\over {4} & ; 1<x < 5\\\\\n",
    "  0  &; x \\geq 5\n",
    "  \\end{cases} \n",
    "$$\n",
    "\n",
    ".\n",
    ".\n",
    "$$\\normalsize \n",
    " \\mu Sedikit\\left[x\\right]= \n",
    "  \\begin{cases}0  &; \\text{$x\\leq 1$ atau $x\\geq 10$}\\\\\n",
    "  \\large (x-1) \\over {4} &; \\text{$1<x \\leq 5$}\\\\\n",
    "  \\large (10-x) \\over {5}&; 5<x <10\n",
    "  \\end{cases} $$\n",
    ".\n",
    ".\n",
    "$$\\normalsize \n",
    " \\mu Sedang\\left[x\\right]= \n",
    "  \\begin{cases}0  &; \\text{$x\\leq 5$ atau $x\\geq 15$}\\\\\n",
    "  \\large (x-5) \\over {5} &; \\text{$5<x \\leq 10$}\\\\\n",
    "  \\large (15-x) \\over {5}&; 10<x <15\n",
    "  \\end{cases} $$\n",
    ".\n",
    ".\n",
    "$$\\normalsize \n",
    " \\mu Banyak\\left[x\\right]= \n",
    "  \\begin{cases}0  &; x \\leq 10\\\\\n",
    "  \\large (x-10) \\over{5}&; 10<x <15\\\\\n",
    "  1  &; x \\geq 15\n",
    "  \\end{cases} $$"
   ]
  },
  {
   "cell_type": "code",
   "execution_count": 10,
   "metadata": {},
   "outputs": [
    {
     "data": {
      "text/plain": [
       "Text(0.5, 1.0, 'Fungsi Keanggotaan Pompa Kapur')"
      ]
     },
     "execution_count": 10,
     "metadata": {},
     "output_type": "execute_result"
    },
    {
     "data": {
      "image/png": "[encoded data removed]",
      "text/plain": [
       "<Figure size 432x288 with 1 Axes>"
      ]
     },
     "metadata": {
      "needs_background": "light"
     },
     "output_type": "display_data"
    }
   ],
   "source": [
    "pompa_kapur.view()\n",
    "plt.ylabel('Derajat Keanggotaan')\n",
    "plt.title(\"Fungsi Keanggotaan Pompa Kapur\")"
   ]
  },
  {
   "attachments": {},
   "cell_type": "markdown",
   "metadata": {},
   "source": [
    "# 2. Penentuan Aturan Fuzzy\n",
    "**Basis Aturan Kendali Fuzzy**\n",
    "1. Rule 1 : Jika Ph **Asam** dan Kelembapan **kering** ,maka Pompa Kapur **Sangat Sedikit** dan Pompa **Air **Banyak**\n",
    "2. Rule 2 : Jika Ph **Asam** dan Kelembapan **lembab** ,maka Pompa Kapur **Sedang** dan Pompa Air **Sangat Sedikit**\n",
    "3. Rule 3 : Jika Ph **Asam** dan Kelembapan **Basah** ,maka Pompa Kapur **Sedikit** dan Pompa Air **Sangat Sedikit**\n",
    "4. Rule 4 : Jika Ph **Normal** dan Kelembapan **kering** ,maka Pompa Kapur **Banyak** dan Pompa Air **Sangat Sedikit**\n",
    "5. Rule 5 : Jika Ph **Normal** dan Kelembapan **lembab** ,maka Pompa Kapur **Sangat Sedikit** dan Pompa Air **Sedang**\n",
    "6. Rule 6 : Jika Ph **Normal** dan Kelembapan **Basah** ,maka Pompa Kapur **Sangat Sedikit** dan Pompa Air **Sangat Sedikit**\n",
    "7. Rule 7 : Jika Ph **Basa** dan Kelembapan **kering** ,maka Pompa Kapur **Banyak** dan Pompa Air **Sangat Sedikit**\n",
    "8. Rule 8 : Jika Ph **Basa** dan Kelembapan **lembab** ,maka Pompa Kapur **Sangat Sedikit** dan Pompa Air **Sedang**\n",
    "9. Rule 9 : Jika Ph **Basa** dan Kelembapan **Basah** ,maka Pompa Kapur **Sangat Sedikit** dan Pompa Air **Sangat Sedikit**\n",
    "    "
   ]
  },
  {
   "cell_type": "code",
   "execution_count": 11,
   "metadata": {},
   "outputs": [],
   "source": [
    "rule1 = ctrl.Rule(ph['asam'] & kelembapan['kering'], (pompa_kapur['banyak'], pompa_air['sangat sedikit']))\n",
    "rule2 = ctrl.Rule(ph['asam']& kelembapan['lembab'], (pompa_kapur[\"sedang\"],pompa_air['sangat sedikit']))\n",
    "rule3 = ctrl.Rule(ph['asam'] & kelembapan['basah'], (pompa_kapur['sedikit'],pompa_air['sangat sedikit']))\n",
    "rule4 = ctrl.Rule(ph['normal'] & kelembapan['kering'], (pompa_air['banyak'],pompa_kapur['sangat sedikit']))\n",
    "rule5 = ctrl.Rule(ph['normal']& kelembapan['lembab'], (pompa_air[\"sedang\"],pompa_kapur['sangat sedikit']))\n",
    "rule6 = ctrl.Rule(ph['normal'] & kelembapan['basah'], (pompa_air['sangat sedikit'],pompa_kapur['sangat sedikit']))\n",
    "rule7 = ctrl.Rule(ph['basa'] & kelembapan['kering'], (pompa_air['banyak'],pompa_kapur['sangat sedikit']))\n",
    "rule8 = ctrl.Rule(ph['basa']& kelembapan['lembab'], (pompa_air[\"sedang\"],pompa_kapur['sangat sedikit']))\n",
    "rule9 = ctrl.Rule(ph['basa'] & kelembapan['basah'], (pompa_air['sangat sedikit'],pompa_kapur['sangat sedikit']))"
   ]
  },
  {
   "cell_type": "markdown",
   "metadata": {},
   "source": [
    "# 3. Mekanisme Inferensi\n",
    "\n",
    "## 3.1 Fungsi Implikasi pada Aturan Fuzzy\n",
    "Pada metode `Mamdani` , Fungsi implikasi yang diimplementasikan pada aturan fuzzy adalah `MIN`.\n",
    "\n",
    "## 3.2 Aggregat Aturan Fuzzy\n",
    "Pada `Mamdani` , Penggabungan semua aturan yang aktif dilakukan dengan fungsi `MAX` pada setiap output yang mempunyai kondisi yang sama.\n"
   ]
  },
  {
   "cell_type": "code",
   "execution_count": 12,
   "metadata": {},
   "outputs": [],
   "source": [
    "kendali_pompa = ctrl.ControlSystem([rule1, rule2, rule3,rule4,rule5,rule6,rule7,rule8,rule9])"
   ]
  },
  {
   "cell_type": "code",
   "execution_count": 13,
   "metadata": {},
   "outputs": [],
   "source": [
    "pompa = ctrl.ControlSystemSimulation(kendali_pompa)"
   ]
  },
  {
   "cell_type": "markdown",
   "metadata": {},
   "source": [
    "## Penjelasan Code\n",
    "\n",
    "1. **ControlSystem( [list_rule] )** \n",
    "        Fungsi ini akan secara otomatis mengimplikasi rule dan menggabungkan semua nilai rule.\n",
    "2. **ControlSystemSimulation( ControlSystem )**\n",
    "        Fungsi ini mensimulasi sistem kontrol sesuai dengan gabungan rule yang diberikan oleh ControlSystem.\n",
    "3. **input['Variable_Input']**\n",
    "        Fungsi input akan memberikan nilai kepada variable input untuk disimulasikan pada ControlSystem."
   ]
  },
  {
   "cell_type": "code",
   "execution_count": 14,
   "metadata": {},
   "outputs": [],
   "source": [
    "pompa.input['Ph Tanah'] = 5\n",
    "pompa.input['Kelembapan Tanah'] = 25"
   ]
  },
  {
   "cell_type": "markdown",
   "metadata": {},
   "source": [
    "# 4. Defuzzifikasi\n",
    "\n",
    "Tahap ini akan menerjemahkan nilai fuzzy menjadi nilai crisp sebagai hasil akhir. Pada `Metode Mamdani` terdapat 5 metode yang dapat digunakan yaitu :\n",
    "\n",
    "    a.\tMetode Centroid\n",
    "    b.\tMetode Bisektor\n",
    "    c.\tMetode Mean of Maximum\n",
    "    d.\tMetode Largest of Maximum\n",
    "    e.\tMetode Smallest of Maximum\n",
    "    \n",
    "Dalam sistem kendali Ph melalui pompa air dan kapur ini, metode defuzzifikasi yang digunakan adalah **Metode Centroid**.\n",
    "Metode ini bekerja dengan mencari *Center Of Gravity* dari hasil aggregat aturan fuzzy.\n",
    "\n",
    "    Rumus dari Centroid adalah : \n",
    "$$ \\large Centroid = \\frac{\\sum_{i}^{n}XiAi}{\\sum_{i}^{n}Ai} $$"
   ]
  },
  {
   "cell_type": "code",
   "execution_count": 15,
   "metadata": {
    "scrolled": true
   },
   "outputs": [
    {
     "data": {
      "text/plain": [
       "OrderedDict([('Pompa Kapur', 10.595238095238097),\n",
       "             ('Pompa Air', 2.555555555555556)])"
      ]
     },
     "execution_count": 15,
     "metadata": {},
     "output_type": "execute_result"
    }
   ],
   "source": [
    "pompa.compute()\n",
    "pompa.output"
   ]
  },
  {
   "cell_type": "markdown",
   "metadata": {},
   "source": [
    "## Penjelasan Code\n",
    "1. **compute()** \n",
    "        Fungsi ini menghitung nilai defuzzifikasi sesuai dengan nilai aggregat yang sudah dihitung pada ControlSystem.\n",
    "2. **output**\n",
    "        Fungsi ini menampilkan nilai defuzzifikasi yang sudah dihitung dengan \"compute()\"."
   ]
  },
  {
   "cell_type": "markdown",
   "metadata": {},
   "source": [
    "# Hitung Manual\n",
    "\n",
    "## Input\n",
    "    - Ph Tanah         : 5\n",
    "    - Kelembapan tanah : 25\n",
    "    \n",
    "## A. Penentuan Derajat Keanggotaan\n",
    "### 1. Ph Tanah\n",
    "- **Asam**\n",
    "\n",
    "$\\normalsize\n",
    " \\mu asam\\left[x\\right]=\n",
    "  \\begin{cases}0  &; x \\geq 6\\\\\n",
    "  (6-x)  & ; 5<x < 6\\\\\n",
    "  \\color{red} {\\bf 1}  &\\color{red}{\\bf ;x \\leq 5} \\qquad \\qquad \\qquad  \\text{<<<------Input \"5\" Masuk disini}\n",
    "  \\end{cases} \n",
    "$\n",
    "\n",
    "$\n",
    "\\normalsize \\mu asam\\left[5\\right]= 1 \n",
    "$\n",
    "\n",
    "### 2. Kelembapan Tanah\n",
    "- **Kering**\n",
    "\n",
    "$\\normalsize\n",
    " \\mu kering\\left[x\\right]=\n",
    "  \\begin{cases}1  &; x \\leq 20\\\\\n",
    "  \\color{red}{\\bf \\text{$30 - x$} \\over {10}} & \\color{red}{\\bf ; 20<x < 30}\\qquad \\qquad \\qquad  \\text{<<<------Input \"25\" Masuk disini}\\\\\n",
    "  0  &; x \\geq 30\n",
    "  \\end{cases} \n",
    "$\n",
    "\n",
    "$\n",
    "\\normalsize \\mu kering\\left[5\\right]= \\large \\frac{30-25}{10}\\\\\n",
    "\\normalsize \\mu kering\\left[5\\right]= \\large \\frac{5}{10}\\\\\n",
    "\\normalsize \\mu kering\\left[5\\right]= 0.5 \n",
    "$\n",
    "\n",
    "\n",
    ".\n",
    ".\n",
    "- **lembab**\n",
    "\n",
    "$\\normalsize \n",
    " \\mu lembab\\left[x\\right]= \n",
    "  \\begin{cases}0  &; \\text{$x\\leq 20$ atau $x\\geq 70$}\\\\\n",
    "  \\color{red}{\\bf (x-20) \\over {10}} &\\color{red}{\\bf ; 20<x <30}\\qquad \\qquad \\qquad  \\text{<<<------Input \"25\" Masuk disini}\\\\ \n",
    "  (70-x) \\over {10}&; 60<x <70\\\\\n",
    "  1  &; \\text{$ 30 \\leq x \\leq 60$}\n",
    "  \\end{cases} \n",
    "$\n",
    "\n",
    "$\n",
    "\\normalsize \\mu kering\\left[5\\right]= \\large \\frac{25-20}{10}\\\\\n",
    "\\normalsize \\mu kering\\left[5\\right]= \\large \\frac{5}{10}\\\\\n",
    "\\normalsize \\mu kering\\left[5\\right]= 0.5 \n",
    "$\n",
    "\n",
    "## B. Evaluasi Rule dengan Implikasi MIN\n",
    "Evaluasi rule dilakukan dengan implikasi **MIN**. Sesuai dengan input yang diberikan, **Ada 2 Rule yang Aktif**\n",
    "\n",
    "Rule 1 : If Ph `Asam`(1) & Kelembapan `Kering`(0.5), maka Pompa Kapur `Banyak`, Pompa Air `Sangat Sedikit`\n",
    "     \n",
    "         min(1,0.5) = Pompa Air Sangat Sedikit(0,5)\n",
    "         min(1,0.5) = Pompa Kapur Banyak(0,5)\n",
    "\n",
    "Rule 2 : If Ph `Asam`(1) & Kelembapan `Lembab`(0.5), maka Pompa Kapur `Sedang`, Pompa Air `Sangat Sedikit`\n",
    "         \n",
    "         min(1,0.5) = Pompa Air Sangat Sedikit(0,5)\n",
    "         min(1,0.5) = Pompa Kapur Sedang(0,5)"
   ]
  },
  {
   "attachments": {},
   "cell_type": "markdown",
   "metadata": {},
   "source": [
    "## Aggregasi Rule\n",
    "Setelah didapatkan hasil implikasi `MIN` pada setiap Rule yang aktif. Maka setiap rule akan digabungkan untuk setiap output yang berbeda. Aggregasi Untuk Kondisi yang Sejenis memakai fungsi **MAX**\n",
    "\n",
    "### Pompa Air\n",
    "1. Pompa Air Sangat Sedikit(0,5)\n",
    "2. Pompa Air Sangat Sedikit(0,5)\n",
    "\n",
    "        Aggregasi = Pompa Air Sangat Sedikit(0,5)\n",
    "\n",
    "### Pompa Kapur\n",
    "1. Pompa Kapur Banyak(0,5)\n",
    "2. Pompa Kapur Sedang(0,5)\n",
    "    \n",
    "        Aggregasi = Pompa Kapur Banyak(0,5) & Pompa Kapur Sedang(0,5)"
   ]
  },
  {
   "attachments": {},
   "cell_type": "markdown",
   "metadata": {},
   "source": [
    "## Defuzzifikasi\n",
    "\n",
    "### ------- Pompa Air----------\n",
    "\n",
    "### 1. Menghitung Masing Masing nilai Xi dan Ai\n",
    "### X1\n",
    "$$\\normalsize X1 = \\frac{1}{2}*(a+b)\\\\\n",
    "X1 = \\frac{1}{2}*(3+1)\\\\\n",
    "\\color{red}{\\bf X1 = 2}$$\n",
    "\n",
    "=================================================================================================================\n",
    "\n",
    "### X2\n",
    "$$\\normalsize X2 =a + \\frac{1}{3}(b-a)\\\\\n",
    "X2 = 3+ \\frac{1}{3}(5-3)\\\\\n",
    "X2 = 3 + 0.667\\\\\n",
    "\\color{red}{\\bf X2 = 3.667}$$\n",
    "\n",
    "=================================================================================================================\n",
    "### A1\n",
    "$$\\normalsize A1 = Panjang*Lebar\\\\\n",
    "A1 = 2 * 0.5\\\\\n",
    "\\color{red}{\\bf A1 = 1}$$\n",
    "\n",
    "=================================================================================================================\n",
    "### A2\n",
    "$$\\normalsize A2 = \\frac{1}{2}Alas*Tinggi\\\\\n",
    "A2 = \\frac{1}{2}(2*0.5)\\\\\n",
    "\\color{red}{\\bf A2 = 0.5}$$\n",
    "\n",
    "=================================================================================================================\n",
    "\n",
    "### 2. Menghitung Hasil Defuzzifikasi\n",
    "$$ Centroid\\;Pompa\\;Air = \\frac{A1X1 + A2X2}{A1+A2}$$\n",
    "\n",
    "$$CentroidPompaAir =  \\frac{(1*2) + (0.5*3.667)}{(1+0.5)}$$\n",
    "\n",
    "$$CentroidPompaAir =  \\frac{3.8335}{1.5}$$\n",
    "\n",
    "$$ \\normalsize \\bf CentroidPompaAir = 2.5567$$\n",
    "\n"
   ]
  },
  {
   "attachments": {},
   "cell_type": "markdown",
   "metadata": {},
   "source": [
    "### --------------Pompa Kapur----------------\n",
    "### 1. Menghitung Masing Masing nilai Xi dan Ai\n",
    "\n",
    "### X1\n",
    "$$\\normalsize X1 = a + \\frac{2}{3}(b-a)\\\\\n",
    "X1 = 3+ \\frac{2}{3}(7.5-5)\\\\\n",
    "X1 = 3 + 1.667\\\\\n",
    "\\color{red}{\\bf X1 = 4.667}$$\n",
    "\n",
    "=================================================================================================================\n",
    "\n",
    "### X2\n",
    "$$\\normalsize X2 = \\frac{1}{2}*(a+b)\\\\\n",
    "X2 = \\frac{1}{2}*(7.5 +15)\\\\\n",
    "\\color{red}{\\bf X2 = 11,25}$$\n",
    "\n",
    "=================================================================================================================\n",
    "### A1\n",
    "$$\\normalsize A1 = \\frac{1}{2}Alas*Tinggi\\\\\n",
    "A1 = \\frac{1}{2}(2.5*0.5)\\\\\n",
    "\\color{red}{\\bf A1 = 0.625}$$\n",
    "\n",
    "=================================================================================================================\n",
    "### A2\n",
    "$$\\normalsize A2 = Panjang*Lebar\\\\\n",
    "A2 = (7.5 * 0.5)\\\\\n",
    "\\color{red}{\\bf A2 = 3.75}$$\n",
    "\n",
    "### 2. Menghitung Hasil Defuzzifikasi\n",
    "$$ CentroidPompaKapur = \\frac{A1X1 + A2X2}{A1+A2}$$\n",
    "\n",
    "$$CentroidPompaKapur =  \\frac{(0.625*4.667) + (11.25*3.75)}{(0.625+3.75)}$$\n",
    "\n",
    "$$CentroidPompaKapur =  \\frac{45.12}{4.375}$$\n",
    "\n",
    "$$\\normalsize {\\bf CentroidPompaKapur = 10.313}$$"
   ]
  },
  {
   "cell_type": "markdown",
   "metadata": {},
   "source": [
    "### Grafik Hasil Defuzzifikasi untuk Pompa Air"
   ]
  },
  {
   "cell_type": "code",
   "execution_count": 16,
   "metadata": {
    "scrolled": false
   },
   "outputs": [
    {
     "data": {
      "text/plain": [
       "2.555555555555556"
      ]
     },
     "execution_count": 16,
     "metadata": {},
     "output_type": "execute_result"
    },
    {
     "data": {
      "image/png": "[encoded data removed]",
      "text/plain": [
       "<Figure size 432x288 with 1 Axes>"
      ]
     },
     "metadata": {
      "needs_background": "light"
     },
     "output_type": "display_data"
    }
   ],
   "source": [
    "pompa_air.view(sim=pompa)\n",
    "plt.ylabel(\"Derajat Keanggotaan\")\n",
    "pompa.output[\"Pompa Air\"]"
   ]
  },
  {
   "cell_type": "markdown",
   "metadata": {},
   "source": [
    "Untuk Output pertama yaitu **Pompa Air**, Seperti pada gambar diatas, Nilai hasil defuzzifikasi untuk **pompa air** adalah **2.55**. Sesuai dengan gambar, bisa dilihat bahwa untuk nilai **2.55** akan menghasilkan pompa air yang **sangat sedikit**.\n",
    "\n",
    "Untuk Hasil output pertama python memiliki nilai sebesar 2,55556 detik sedangkan pada perhitungan manual memiliki nilai 2,5567 detik.\n",
    "Selisih Antara hitung manual dengan program python adalah **0,0012**"
   ]
  },
  {
   "cell_type": "markdown",
   "metadata": {},
   "source": [
    "### Grafik Hasil Defuzzifikasi untuk Pompa Kapur"
   ]
  },
  {
   "cell_type": "code",
   "execution_count": 17,
   "metadata": {},
   "outputs": [
    {
     "data": {
      "text/plain": [
       "10.595238095238097"
      ]
     },
     "execution_count": 17,
     "metadata": {},
     "output_type": "execute_result"
    },
    {
     "data": {
      "image/png": "[encoded data removed]",
      "text/plain": [
       "<Figure size 432x288 with 1 Axes>"
      ]
     },
     "metadata": {
      "needs_background": "light"
     },
     "output_type": "display_data"
    }
   ],
   "source": [
    "pompa_kapur.view(sim=pompa)\n",
    "plt.ylabel(\"Derajat Keanggotaan\")\n",
    "pompa.output[\"Pompa Kapur\"]"
   ]
  },
  {
   "cell_type": "markdown",
   "metadata": {},
   "source": [
    "Untuk Output kedua yaitu **Pompa Kapur**.\n",
    "\n",
    "Seperti pada gambar diatas, Nilai hasil defuzzifikasi untuk **pompa kapur** adalah **10.595238095238097**. Sesuai dengan gambar, bisa dilihat bahwa untuk nilai **10.6** akan menghasilkan pompa kapur yang **sedang**.\n",
    "\n",
    "Untuk Hasil output pertama python memiliki nilai sebesar 10.595238095238097 detik sedangkan pada perhitungan manual memiliki nilai 10,313 detik.\n",
    "Selisih Antara hitung manual dengan program python adalah sekitar **0,30**"
   ]
  },
  {
   "cell_type": "markdown",
   "metadata": {},
   "source": [
    "# Referensi Paper\n",
    "\n",
    "    J. Martin, E. Susanto, and S. T. M. T. P. D, KENDALI PH DAN KELEMBABAN TANAH BERBASIS LOGIKA FUZZY MENGGUNAKAN MIKROKONTROLLER ( ARRANGEMENT PH AND HUMIDITY OF SOIL BASED ON FUZZY LOGIC USING MICROCONTROLLER ),â€ vol. 2, no. 2, pp. 2236â€“2245, 2015."
   ]
  }
 ],
 "metadata": {
  "kernelspec": {
   "display_name": "Python 3",
   "language": "python",
   "name": "python3"
  },
  "language_info": {
   "codemirror_mode": {
    "name": "ipython",
    "version": 3
   },
   "file_extension": ".py",
   "mimetype": "text/x-python",
   "name": "python",
   "nbconvert_exporter": "python",
   "pygments_lexer": "ipython3",
   "version": "3.7.3"
  }
 },
 "nbformat": 4,
 "nbformat_minor": 2
}
