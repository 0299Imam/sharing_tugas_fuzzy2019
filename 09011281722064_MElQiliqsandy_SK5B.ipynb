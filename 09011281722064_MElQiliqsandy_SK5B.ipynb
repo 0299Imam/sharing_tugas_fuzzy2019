{
 "cells": [
  {
   "cell_type": "markdown",
   "metadata": {},
   "source": [
    "<html>\n",
    "    <h1 align='center'>Peramalan Jumlah Kasus Demam Berdarah di\n",
    "        Kabupaten Malang Menggunakan Metode Fuzzy\n",
    "        Inference System</h1>\n",
    "</html>"
   ]
  },
  {
   "cell_type": "markdown",
   "metadata": {},
   "source": [
    "Penelitian ini menggunaan metode Fuzzy Inference\n",
    "System dalam meramalkan jumlah kasus Demam Berdarah di\n",
    "Kabupaten Malang dengan melibatkan variabel kepadatan\n",
    "penduduk."
   ]
  },
  {
   "cell_type": "markdown",
   "metadata": {},
   "source": [
    "## Import Modul\n",
    "<html>\n",
    "    <div><br>Implementasi fuzzy untuk memprediksi jumlah kasus demam berdarah dengan bahasa python menggunakan modul:\n",
    "    <ul>\n",
    "        <li><b>Sci-Kit Fuzzy</b>, berisi metode-metode operasi logika fuzzy</li>\n",
    "        <img src=\"https://pythonhosted.org/scikit-fuzzy/_static/img/logo.png\" alt=\"Logo SKFuzzy\" width=200><img>\n",
    "        <li><b>Matplotlib</b>, berisi alat untuk visualisasi logika fuzzy</li>\n",
    "        <img src=\"https://matplotlib.org/_static/logo2.png\" alt=\"Logo Matplotlib \" width=200><img>\n",
    "        <li><b>Numpy</b>, untuk pengoperasian matematika yang dimudahkan</li>\n",
    "        <img src=\"https://static.javatpoint.com/tutorial/numpy/images/numpy-tutorial.png\" alt=\"Logo Numpy\"><img>\n",
    "        </ul>\n",
    "    </div>\n",
    "</html>"
   ]
  },
  {
   "cell_type": "code",
   "execution_count": 1,
   "metadata": {},
   "outputs": [],
   "source": [
    "import matplotlib.pyplot as plt\n",
    "import skfuzzy as fuzz\n",
    "from skfuzzy import control as ctrl\n",
    "import numpy as np"
   ]
  },
  {
   "cell_type": "markdown",
   "metadata": {},
   "source": [
    "Sistem fuzzy secara umum terdapat 5 langkah dalam melakukan penalaran, yaitu:\n",
    "\n",
    "1. Fuzzyfikasi\n",
    "2. Inference Method\n",
    "3. Defuzzyfikasi"
   ]
  },
  {
   "cell_type": "markdown",
   "metadata": {},
   "source": [
    "<h2>Fuzzyfikasi</h2>\n",
    "    <div><br>Dalam Sistem Fuzzy, diperlukan nilai input, output dan model fuzzy. Disini dideklarasikan sebuah deret bilangan <i>\"dbd\"</i> dan <i>\"penduduk\"</i> yang akan digunakan sebagai lintasan pada fungsi keanggotaan fuzzy.</div>"
   ]
  },
  {
   "cell_type": "code",
   "execution_count": 2,
   "metadata": {},
   "outputs": [],
   "source": [
    "dbd=np.arange(0,251,1)\n",
    "penduduk=np.arange(240,291,1)"
   ]
  },
  {
   "cell_type": "markdown",
   "metadata": {},
   "source": [
    "<html>\n",
    "    <div>\n",
    "        Di dalam modul SKFuzzy, terdapat modul bernama control yang berfungsi untuk mengendalikan sistem fuzzy. Terdapat fungsi Antecedent yang mendeklarasikan input, lalu Consequent yang mendeklarasikan output. \n",
    "    </div><br>\n",
    "    <div>lvl adalah jumlah kasus demam berdarah, grow adalah pertumbuhan penduduk, prediksi adalah prediksi jumlah kasus demma berdarah berdasarkan hasil komputasi fuzzy. Jumlah kasus dibagi menjadi 7 level dari very very low sampai very very high</div>\n",
    "</html>"
   ]
  },
  {
   "cell_type": "code",
   "execution_count": 3,
   "metadata": {},
   "outputs": [],
   "source": [
    "lvl=ctrl.Antecedent(dbd,'lvl')\n",
    "grow=ctrl.Antecedent(penduduk,'grow')\n",
    "prediksi=ctrl.Consequent(dbd,'prediksi')"
   ]
  },
  {
   "cell_type": "markdown",
   "metadata": {},
   "source": [
    "<html>\n",
    "    <div>\n",
    "        Di bawah terdapat fungsi keanggotaan menggunakan <i>SKFuzzy Membership Function</i> dengan bermacam bentuk yaitu segitiga(trimf), trapezoid(trapmf), dan sigmoid(sigmf).\n",
    "    </div>\n",
    "</html>"
   ]
  },
  {
   "cell_type": "markdown",
   "metadata": {},
   "source": [
    "\\begin{aligned}VVL=\\begin{cases} \n",
    "      1 & x\\leq 5 \\\\\n",
    "      \\frac{10-x}{5} & 5 < x < 10 \\\\\n",
    "      0 & x\\geq 10 \n",
    "  \\end{cases}\n",
    "  \\end{aligned}"
   ]
  },
  {
   "cell_type": "markdown",
   "metadata": {},
   "source": [
    "\\begin{aligned}VL=\\begin{cases} \n",
    "      0 & x\\leq 7.5 \\text{ or } x\\geq20 \\\\\n",
    "      \\frac{x-7.5}{6.25} & 7.5 < x \\leq 13.75 \\\\\n",
    "      \\frac{20-x}{6.25} & 13.75<x< 20 \n",
    "   \\end{cases}\n",
    "   \\end{aligned}"
   ]
  },
  {
   "cell_type": "markdown",
   "metadata": {},
   "source": [
    "\\begin{aligned}L=\\begin{cases} \n",
    "      0 & x\\leq 17.5 \\text{ or } x\\geq30 \\\\\n",
    "      \\frac{x-17.5}{6.25} & 17.5 < x \\leq 23.75 \\\\\n",
    "      \\frac{30-x}{6.25} & 23.75<x< 30 \n",
    "   \\end{cases}\n",
    "   \\end{aligned}"
   ]
  },
  {
   "cell_type": "markdown",
   "metadata": {},
   "source": [
    "\\begin{aligned}N=\\begin{cases} \n",
    "      0 & x\\leq 25 \\text{ or } x\\geq50 \\\\\n",
    "      \\frac{x-25}{12.5} & 25 < x \\leq 37.5 \\\\\n",
    "      \\frac{50-x}{12.5} & 37.5<x< 50 \n",
    "   \\end{cases}\n",
    "   \\end{aligned}"
   ]
  },
  {
   "cell_type": "markdown",
   "metadata": {},
   "source": [
    "\\begin{aligned}H=\\begin{cases} \n",
    "      0 & x\\leq 40\\text{ or } x\\geq90\\\\\n",
    "      \\frac{x-40}{25} & 40< x \\leq 65 \\\\\n",
    "      \\frac{90-x}{25} & 65<x< 90\n",
    "   \\end{cases}\n",
    "   \\end{aligned}"
   ]
  },
  {
   "cell_type": "markdown",
   "metadata": {},
   "source": [
    "\\begin{aligned}VH=\\begin{cases} \n",
    "      0 & x\\leq 80 \\text{ or } x\\geq160 \\\\\n",
    "      \\frac{x-80}{40} & 80 < x \\leq 120 \\\\\n",
    "      \\frac{160-x}{40} & 120<x< 160\n",
    "   \\end{cases}\n",
    "   \\end{aligned}"
   ]
  },
  {
   "cell_type": "markdown",
   "metadata": {},
   "source": [
    "\\begin{aligned}VVH=\\begin{cases} \n",
    "      0 & x\\leq 150 \\\\\n",
    "      \\frac{x-150}{50} &150<x<200 \\\\\n",
    "      1 & x\\geq200\n",
    "   \\end{cases}\n",
    "   \\end{aligned}"
   ]
  },
  {
   "cell_type": "markdown",
   "metadata": {},
   "source": [
    "$$Grow=\\frac{1}{1+e^{-0.4(x-266.3042)}}$$"
   ]
  },
  {
   "cell_type": "code",
   "execution_count": 4,
   "metadata": {},
   "outputs": [],
   "source": [
    "VVL=fuzz.trapmf(dbd,[1,1,5,10])\n",
    "VL=fuzz.trimf(dbd,[7.5,13.75,20])\n",
    "L=fuzz.trimf(dbd,[17.5,23.75,30])\n",
    "N=fuzz.trimf(dbd,[25,37.5,50])\n",
    "H=fuzz.trimf(dbd,[40,65,90])\n",
    "VH=fuzz.trimf(dbd,[80,120,160])\n",
    "VVH=fuzz.trapmf(dbd,[150,200,249,249])\n",
    "grw=fuzz.sigmf(penduduk,266.3042,0.4)"
   ]
  },
  {
   "cell_type": "markdown",
   "metadata": {},
   "source": [
    "Alasan digunakannya trapezoid untuk \"Very Very Low\" dan \"Very Very High\" adalah dikarenakan kedua fungsi yang ekstrim sehingga perbedaan nilai tidak berpengaruh besar. Digunakan sigmoid untuk pertumbuhan masyarakat dikarenakan pertumbuhan masyarakat termasuk ke fungsi kompleks-natural"
   ]
  },
  {
   "cell_type": "markdown",
   "metadata": {},
   "source": [
    "<h2>Visualisasi dari pada fungsi keanggotaan</h2>\n",
    "<p>Dari 2 input berikutlah nilai fuzzy dihitung</p>"
   ]
  },
  {
   "cell_type": "code",
   "execution_count": 5,
   "metadata": {
    "scrolled": false
   },
   "outputs": [
    {
     "data": {
      "image/png": "[encoded data removed]",
      "text/plain": [
       "<Figure size 1080x720 with 2 Axes>"
      ]
     },
     "metadata": {
      "needs_background": "light"
     },
     "output_type": "display_data"
    }
   ],
   "source": [
    "fig,(ax1,ax2)=plt.subplots(nrows=2,figsize=(15,10))\n",
    "ax1.plot(dbd,VVL,'red',linewidth=1.5,label='VVL')\n",
    "ax1.plot(dbd,VL,'orange',linewidth=1.5,label='VL')\n",
    "ax1.plot(dbd,L,'yellow',linewidth=1.5,label='L')\n",
    "ax1.plot(dbd,N,'green',linewidth=1.5,label='N')\n",
    "ax1.plot(dbd,H,'blue',linewidth=1.5,label='H')\n",
    "ax1.plot(dbd,VH,'cyan',linewidth=1.5,label='VH')\n",
    "ax1.plot(dbd,VVH,'purple',linewidth=1.5,label='VVH')\n",
    "ax2.plot(penduduk,grw,'black',linewidth=1.5,label='grow')\n",
    "ax1.set_ybound(-0.05,1.05)\n",
    "ax1.set_xbound(0,250)\n",
    "ax2.set_ybound(-0.05,1.05)\n",
    "ax2.set_xbound(240,290)\n",
    "ax1.set_title('input1 = kasus DBD dat.rendah')\n",
    "ax2.set_title('input2 = kepadatan penduduk *1.000')\n",
    "ax1.legend()\n",
    "plt.show()"
   ]
  },
  {
   "cell_type": "markdown",
   "metadata": {},
   "source": [
    "Selanjutnya memasukkan fungsi keanggotaan kedalam input fuzzy"
   ]
  },
  {
   "cell_type": "code",
   "execution_count": 6,
   "metadata": {},
   "outputs": [],
   "source": [
    "lvl['VVL']=VVL\n",
    "lvl['VL']=VL\n",
    "lvl['L']=L\n",
    "lvl['N']=N\n",
    "lvl['H']=H\n",
    "lvl['VH']=VH\n",
    "lvl['VVH']=VVH\n",
    "grow['pertumbuhan']=grw"
   ]
  },
  {
   "cell_type": "markdown",
   "metadata": {},
   "source": [
    "## Fungsi Keluaran\n",
    "Menggunakan metode Mamdani, fungsi output sudah ditetapkan sebelum perhitungan. Fungsi keluaran dalam kasus ini sama seperti fungsi keanggotaan input 1."
   ]
  },
  {
   "cell_type": "code",
   "execution_count": 7,
   "metadata": {},
   "outputs": [
    {
     "name": "stderr",
     "output_type": "stream",
     "text": [
      "C:\\Users\\User\\Anaconda3\\lib\\site-packages\\matplotlib\\figure.py:459: UserWarning: matplotlib is currently using a non-GUI backend, so cannot show the figure\n",
      "  \"matplotlib is currently using a non-GUI backend, \"\n"
     ]
    },
    {
     "data": {
      "image/png": "[encoded data removed]",
      "text/plain": [
       "<Figure size 432x288 with 1 Axes>"
      ]
     },
     "metadata": {
      "needs_background": "light"
     },
     "output_type": "display_data"
    }
   ],
   "source": [
    "prediksi['VVL']=fuzz.trapmf(dbd,[1,1,5,10])\n",
    "prediksi['VL']=fuzz.trimf(dbd,[7.5,13.75,20])\n",
    "prediksi['L']=fuzz.trimf(dbd,[17.5,23.75,30])\n",
    "prediksi['N']=fuzz.trimf(dbd,[25,37.5,50])\n",
    "prediksi['H']=fuzz.trimf(dbd,[40,65,90])\n",
    "prediksi['VH']=fuzz.trimf(dbd,[80,120,160])\n",
    "prediksi['VVH']=fuzz.trapmf(dbd,[150,200,249,249])\n",
    "prediksi.view()"
   ]
  },
  {
   "cell_type": "markdown",
   "metadata": {},
   "source": [
    "## Rules\n",
    "Membuat rule/aturan yang digunakan sistem fuzzy untuk komputasi keluaran berdasarkan input yang diberikan:\n",
    "\n",
    "|No.    |Input 1 |Input 2 |Prediksi |\n",
    "|---|---|---|---|\n",
    "|1|VVL|Grow|VVL|\n",
    "|2|VL|Grow|VL|\n",
    "|3|L|Grow|VVL|\n",
    "|4|N|Grow|VL|\n",
    "|5|H|Grow|VVL|\n",
    "|6|VH|Grow|VL|\n",
    "|7|VVH|Grow|VVL|"
   ]
  },
  {
   "cell_type": "code",
   "execution_count": 8,
   "metadata": {},
   "outputs": [],
   "source": [
    "r1=ctrl.Rule(lvl['VVL'] & grow['pertumbuhan'], prediksi['VVL'])\n",
    "r2=ctrl.Rule(lvl['VL'] & grow['pertumbuhan'], prediksi['VL'])\n",
    "r3=ctrl.Rule(lvl['L'] & grow['pertumbuhan'], prediksi['L'])\n",
    "r4=ctrl.Rule(lvl['N'] & grow['pertumbuhan'], prediksi['N'])\n",
    "r5=ctrl.Rule(lvl['H'] & grow['pertumbuhan'], prediksi['H'])\n",
    "r6=ctrl.Rule(lvl['VH'] & grow['pertumbuhan'], prediksi['VH'])\n",
    "r7=ctrl.Rule(lvl['VVH'] & grow['pertumbuhan'], prediksi['VVH'])"
   ]
  },
  {
   "cell_type": "markdown",
   "metadata": {},
   "source": [
    "Semua rule kemudian dikumpulkan kedalam satu kontrol sistem untuk mendapatkan hasil"
   ]
  },
  {
   "cell_type": "code",
   "execution_count": 9,
   "metadata": {},
   "outputs": [],
   "source": [
    "hasil=ctrl.ControlSystem([r1,r2,r3,r4,r5,r6,r7])"
   ]
  },
  {
   "cell_type": "markdown",
   "metadata": {},
   "source": [
    "## Defuzzyfikasi\n",
    "Sistem sekarang bisa dicoba menggunakan data input atau testcase"
   ]
  },
  {
   "cell_type": "code",
   "execution_count": 10,
   "metadata": {},
   "outputs": [],
   "source": [
    "TestCase=ctrl.ControlSystemSimulation(hasil)"
   ]
  },
  {
   "cell_type": "code",
   "execution_count": 11,
   "metadata": {},
   "outputs": [],
   "source": [
    "TestCase.input['lvl']=45\n",
    "TestCase.input['grow']=266.3042"
   ]
  },
  {
   "cell_type": "markdown",
   "metadata": {},
   "source": [
    "Dicoba menggunakan jumlah kasus berdarah sebanyak 45 kasus dan jumlah penduduk 2.663.042 orang.\n",
    "\n",
    "Dari fungsi keanggotan di atas, bisa diketahui bahwa jumlah kasus 45 masuk ke daerah keanggotaan lvl[N] dan lvl[H]. Selain dari itu bernilai 0."
   ]
  },
  {
   "cell_type": "markdown",
   "metadata": {},
   "source": [
    "\\begin{equation}\n",
    "    \\mu lvl[N]=\\frac{50-45}{12.5}\\\\\n",
    "    \\mu lvl[N]=\\frac{5}{12.5}\\\\\n",
    "    \\mu lvl[N]=0.4\\\\\\\\\n",
    "    \\end{equation}\n",
    "    <br>\n",
    "\\begin{equation}\n",
    "    \\mu lvl[H]=\\frac{45-40}{25}\\\\\n",
    "    \\mu lvl[H]=\\frac{5}{25}\\\\\n",
    "    \\mu lvl[H]=0.2\\\\\n",
    "\\end{equation}"
   ]
  },
  {
   "cell_type": "markdown",
   "metadata": {},
   "source": [
    "\\begin{equation}\n",
    "    \\mu grow=\\frac{1}{1+e^{-0.4(266.3042-266.3042)}}\\\\\n",
    "    \\mu grow=\\frac{1}{1+e^{-0.4(0)}}\\\\\n",
    "   \\end{equation}"
   ]
  },
  {
   "cell_type": "markdown",
   "metadata": {},
   "source": [
    "\\begin{equation}\n",
    "    \\mu grow=\\frac{1}{1+e^{0}}\\\\\n",
    "    \\mu grow=\\frac{1}{1+1}\\\\\n",
    "\\end{equation}\n",
    "\\begin{equation}\n",
    "    \\mu grow=\\frac{1}{2}\\\\\n",
    "    \\mu grow=0,5\n",
    "\\end{equation}"
   ]
  },
  {
   "cell_type": "markdown",
   "metadata": {},
   "source": [
    "Dimasukkan ke dalam rules satu persatu"
   ]
  },
  {
   "cell_type": "markdown",
   "metadata": {},
   "source": [
    "1. IF lvl[VVL] AND grow[pertumbuhan] THEN prediksi[VVL]\n",
    "\\begin{equation}\n",
    "    \\alpha(predikat_1)=\\mu lvl[VVL] \\cap \\mu grow[pertumbuhan]\\\\\n",
    "    \\alpha(predikat_1)=min(\\mu lvl[VVL][45] \\cap \\mu grow[pertumbuhan][266.3042])\\\\\n",
    "    \\alpha(predikat_1)=min(0;0.5)\\\\\n",
    "    \\alpha(predikat_1)=0\\\\\n",
    "    z_1=0\n",
    "\\end{equation}"
   ]
  },
  {
   "cell_type": "markdown",
   "metadata": {},
   "source": [
    "2. IF lvl[VL] AND grow[pertumbuhan] THEN prediksi[VL]\n",
    "\\begin{equation}\n",
    "    \\alpha(predikat_2)=\\mu lvl[VL] \\cap \\mu grow[pertumbuhan]\\\\\n",
    "    \\alpha(predikat_2)=min(\\mu lvl[VL][45] \\cap \\mu grow[pertumbuhan][266.3042])\\\\\n",
    "    \\alpha(predikat_2)=min(0;0.5)\\\\\n",
    "    \\alpha(predikat_2)=0\\\\\n",
    "    z_2=0\n",
    "\\end{equation}"
   ]
  },
  {
   "cell_type": "markdown",
   "metadata": {},
   "source": [
    "3. IF lvl[L] AND grow[pertumbuhan] THEN prediksi[L]\n",
    "\\begin{equation}\n",
    "    \\alpha(predikat_3)=\\mu lvl[L] \\cap \\mu grow[pertumbuhan]\\\\\n",
    "    \\alpha(predikat_3)=min(\\mu lvl[L][45] \\cap \\mu grow[pertumbuhan][266.3042])\\\\\n",
    "    \\alpha(predikat_3)=min(0;0.5)\\\\\n",
    "    \\alpha(predikat_3)=0\\\\\n",
    "    z_3=0\n",
    "\\end{equation}"
   ]
  },
  {
   "cell_type": "markdown",
   "metadata": {},
   "source": [
    "4. IF lvl[N] AND grow[pertumbuhan] THEN prediksi[N]\n",
    "\\begin{equation}\n",
    "    \\alpha(predikat_4)=\\mu lvl[N] \\cap \\mu grow[pertumbuhan]\\\\\n",
    "    \\alpha(predikat_4)=min(\\mu lvl[N][45] \\cap \\mu grow[pertumbuhan][266.3042])\\\\\n",
    "    \\alpha(predikat_4)=min(0.4;0.5)\\\\\n",
    "    \\alpha(predikat_4)=0.4\\\\\n",
    "\\end{equation}\n",
    "Masukkan ke fungsi keluaran prediksi[N]\n",
    "\\begin{equation}prediksi[N]=\\begin{cases} \n",
    "      0 & x\\leq 25 \\text{ or } x\\geq50 \\\\\n",
    "      \\frac{x-25}{12.5} & 25 < x \\leq 37.5 \\\\\n",
    "      \\frac{50-x}{12.5} & 37.5<x< 50 \n",
    "   \\end{cases}\n",
    "\\end{equation}"
   ]
  },
  {
   "cell_type": "markdown",
   "metadata": {},
   "source": [
    "Ada 2 persamaan yang memenuhi, ambil nilai x terkecil\n",
    "\\begin{equation}\n",
    "    \\frac{x-25}{12.5}=0.4\\\\\n",
    "    x-25=5\\\\\n",
    "    x=30\\\\\n",
    "    \\end{equation}\n",
    "    <br>\n",
    "\\begin{equation}\n",
    "    \\frac{50-x}{12.5}=0.4\\\\\n",
    "    50-x=5\\\\\n",
    "    x=45\\\\\n",
    "\\end{equation}\n",
    "<br>\n",
    "\\begin{equation}\n",
    "    z_4=30\\\\\n",
    "\\end{equation}"
   ]
  },
  {
   "cell_type": "markdown",
   "metadata": {},
   "source": [
    "5. IF lvl[H] AND grow[pertumbuhan] THEN prediksi[H]\n",
    "\\begin{equation}\n",
    "    \\alpha(predikat_5)=\\mu lvl[H] \\cap \\mu grow[pertumbuhan]\\\\\n",
    "    \\alpha(predikat_5)=min(\\mu lvl[H][45] \\cap \\mu grow[pertumbuhan][266.3042])\\\\\n",
    "    \\alpha(predikat_5)=min(0.2;0.5)\\\\\n",
    "    \\alpha(predikat_5)=0.2\\\\\n",
    "\\end{equation}\n",
    "Masukkan ke fungsi keluaran prediksi[H]\n",
    "\\begin{aligned}prediksi[H]=\\begin{cases} \n",
    "      0 & x\\leq 40\\text{ or } x\\geq90\\\\\n",
    "      \\frac{x-40}{25} & 40< x \\leq 65 \\\\\n",
    "      \\frac{90-x}{25} & 65<x< 90\n",
    "   \\end{cases}\n",
    "   \\end{aligned}"
   ]
  },
  {
   "cell_type": "markdown",
   "metadata": {},
   "source": [
    "Ada 2 persamaan yang memenuhi, ambil nilai x terkecil\n",
    "\\begin{equation}\n",
    "    \\frac{x-40}{25}=0.2\\\\\n",
    "    x-40=5\\\\\n",
    "    x=45\\\\\n",
    "    \\end{equation}\n",
    "    <br>\n",
    "\\begin{equation}\n",
    "    \\frac{90-x}{25}=0.2\\\\\n",
    "    90-x=5\\\\\n",
    "    x=85\\\\\n",
    "\\end{equation}\n",
    "<br>\n",
    "\\begin{equation}\n",
    "    z_5=45\\\\\n",
    "\\end{equation}"
   ]
  },
  {
   "cell_type": "markdown",
   "metadata": {},
   "source": [
    "6. IF lvl[VH] AND grow[pertumbuhan] THEN prediksi[VH]\n",
    "\\begin{equation}\n",
    "    \\alpha(predikat_6)=\\mu lvl[VH] \\cap \\mu grow[pertumbuhan]\\\\\n",
    "    \\alpha(predikat_6)=min(\\mu lvl[VH][45] \\cap \\mu grow[pertumbuhan][266.3042])\\\\\n",
    "    \\alpha(predikat_6)=min(0;0.5)\\\\\n",
    "    z_6=0\n",
    "\\end{equation}"
   ]
  },
  {
   "cell_type": "markdown",
   "metadata": {},
   "source": [
    "7. IF lvl[VVH] AND grow[pertumbuhan] THEN prediksi[VVH]\n",
    "\\begin{equation}\n",
    "    \\alpha(predikat_7)=\\mu lvl[VVH] \\cap \\mu grow[pertumbuhan]\\\\\n",
    "    \\alpha(predikat_7)=min(\\mu lvl[VVH][45] \\cap \\mu grow[pertumbuhan][266.3042])\\\\\n",
    "    \\alpha(predikat_7)=min(0;0.5)\\\\\n",
    "    z_7=0\n",
    "\\end{equation}"
   ]
  },
  {
   "cell_type": "markdown",
   "metadata": {},
   "source": [
    "Mencari nilai Z dengan sigma<br>\n",
    "\\begin{equation}\n",
    "    z=\\frac{\n",
    "    \\alpha predikat_1 \\times Z_1 +\n",
    "    \\alpha predikat_2 \\times Z_2 +\n",
    "    \\alpha predikat_3 \\times Z_3 +\n",
    "    \\alpha predikat_4 \\times Z_4 +\n",
    "    \\alpha predikat_5 \\times Z_5 +\n",
    "    \\alpha predikat_6 \\times Z_6 +\n",
    "    \\alpha predikat_7 \\times Z_7\n",
    "    }{\n",
    "    \\alpha predikat_1 + \n",
    "    \\alpha predikat_2 +\n",
    "    \\alpha predikat_3 + \n",
    "    \\alpha predikat_4 +\n",
    "    \\alpha predikat_5 + \n",
    "    \\alpha predikat_6 +\n",
    "    \\alpha predikat_7\n",
    "    }\n",
    "\\end{equation}"
   ]
  },
  {
   "cell_type": "markdown",
   "metadata": {},
   "source": [
    "\\begin{equation}\n",
    "    z=\\frac{\n",
    "    0+0+0+\n",
    "    0.4\\times 30 +0.2 \\times 45\n",
    "    +0+0\n",
    "    }{\n",
    "    0+0+0+0.4+0.2+0+0\n",
    "    }\n",
    "\\end{equation}"
   ]
  },
  {
   "cell_type": "markdown",
   "metadata": {},
   "source": [
    "\\begin{equation}\n",
    "    z=\\frac{21}{0.6}\\\\\n",
    "    z=33.88\n",
    "\\end{equation}"
   ]
  },
  {
   "cell_type": "markdown",
   "metadata": {},
   "source": [
    "Jauh sekali dari hasil prediksi berdasarkan modul SKFuzzy"
   ]
  },
  {
   "cell_type": "markdown",
   "metadata": {},
   "source": [
    "Sudah diketahui nilai prediksi lvl[N] dan lvl[H] masing-masing adalah 0,4 dan 0,2 maka bisa digambarkan sebagai bangun datar"
   ]
  },
  {
   "cell_type": "code",
   "execution_count": 31,
   "metadata": {
    "scrolled": false
   },
   "outputs": [
    {
     "data": {
      "image/png": "[encoded data removed]",
      "text/plain": [
       "<Figure size 432x288 with 1 Axes>"
      ]
     },
     "metadata": {
      "needs_background": "light"
     },
     "output_type": "display_data"
    }
   ],
   "source": [
    "plt.axes()\n",
    "rectangle = plt.Rectangle((30,0), 15, 0.4, fc='r')\n",
    "plt.gca().add_patch(rectangle)\n",
    "rectangle = plt.Rectangle((45,0), 40, 0.2, fc='b')\n",
    "plt.gca().add_patch(rectangle)\n",
    "triangle=plt.Polygon([[25,0],[30,0.4],[30,0]],fc='g')\n",
    "plt.gca().add_patch(triangle)\n",
    "triangle=plt.Polygon([[45,0.4],[45,0.2],[47.5,0.2]],fc='c')\n",
    "plt.gca().add_patch(triangle)\n",
    "triangle=plt.Polygon([[85,0],[85,0.2],[90,0]],fc='y')\n",
    "plt.gca().add_patch(triangle)\n",
    "plt.axis('auto')\n",
    "plt.show()"
   ]
  },
  {
   "attachments": {},
   "cell_type": "markdown",
   "metadata": {},
   "source": [
    "Bisa dihitung dengan menggunakan Centroid\n",
    "\n",
    "|Area|Luas|x|y|ax|ay|\n",
    "|---|---|---|---|---|---|\n",
    "|1\t|1\t|3,333333333\t|0,133333333\t|3,333333333\t|0,133333333|\n",
    "|2\t|6\t|12,5\t|0,2\t|75\t|1,2|\n",
    "|3\t|0,25\t|20,83333333\t|0,266666667\t|5,208333333\t|0,066666667|\n",
    "|4\t|8\t|40\t|0,1\t|320\t|0,8|\n",
    "|5\t|0,5\t|61,66666667\t|0,066666667\t|30,83333333\t|0,033333333|\n",
    "|Total\t|15,75\t||\t\t|434,375\t|2,233333333|\n",
    "\n",
    "$$ ax= Luas \\times y\\\\ay= Luas \\times x \\\\Cx = \\frac{axTotal}{Luas}$$\n",
    "$$Cx=\\frac{434,375}{15,75}$$\n",
    "$$Cx=27,57937$$\n",
    "Karena titik x dimajukan sejauh 25, maka \n",
    "$$Cx=27,57937+25 \\\\ Cx=52,57937$$"
   ]
  },
  {
   "cell_type": "code",
   "execution_count": 12,
   "metadata": {},
   "outputs": [],
   "source": [
    "TestCase.compute()"
   ]
  },
  {
   "cell_type": "code",
   "execution_count": 13,
   "metadata": {},
   "outputs": [
    {
     "name": "stdout",
     "output_type": "stream",
     "text": [
      "52.57614213197977\n"
     ]
    },
    {
     "name": "stderr",
     "output_type": "stream",
     "text": [
      "C:\\Users\\User\\Anaconda3\\lib\\site-packages\\matplotlib\\figure.py:459: UserWarning: matplotlib is currently using a non-GUI backend, so cannot show the figure\n",
      "  \"matplotlib is currently using a non-GUI backend, \"\n"
     ]
    },
    {
     "data": {
      "image/png": "[encoded data removed]",
      "text/plain": [
       "<Figure size 432x288 with 1 Axes>"
      ]
     },
     "metadata": {
      "needs_background": "light"
     },
     "output_type": "display_data"
    }
   ],
   "source": [
    "print(TestCase.output['prediksi'])\n",
    "prediksi.view(sim=TestCase)"
   ]
  },
  {
   "cell_type": "markdown",
   "metadata": {},
   "source": [
    "Didapatkanlah keluaran dalam bentuk fuzzy mamdani dengan nilai 52.576"
   ]
  },
  {
   "cell_type": "markdown",
   "metadata": {},
   "source": [
    "<html>\n",
    "    <p><cite>Sumber:<a href=\"http://www.ejurnal.its.ac.id/index.php/teknik/article/viewFile/14114/2543\">Peramalan Jumlah Kasus Demam Berdarah di Kabupaten Malang Menggunakan Metode Fuzzy Inference System</a></cite> </p>\n",
    "</html>"
   ]
  },
  {
   "cell_type": "markdown",
   "metadata": {},
   "source": [
    "<html>\n",
    "    <a href=\"http://www.unsri.ac.id/?act=detil_mahasiswa&mhs=09011281722064-9-10003&akt=2017\" target=\"_blank\">Mohammad El Qiliqsandy<br>09011281722064<br><img src=\"https://akademik.unsri.ac.id/images/foto_mhs/2017/09011281722064.jpg\" width=100 align=\"left\"><img></a>\n",
    "    <a href=\"http://unsri.ac.id\"><img src=\"https://upload.wikimedia.org/wikipedia/en/9/92/UNSRI_Logo.png\" align=\"right\" width=140></img></a>\n",
    "</html>"
   ]
  }
 ],
 "metadata": {
  "kernelspec": {
   "display_name": "Python 3",
   "language": "python",
   "name": "python3"
  },
  "language_info": {
   "codemirror_mode": {
    "name": "ipython",
    "version": 3
   },
   "file_extension": ".py",
   "mimetype": "text/x-python",
   "name": "python",
   "nbconvert_exporter": "python",
   "pygments_lexer": "ipython3",
   "version": "3.6.5"
  }
 },
 "nbformat": 4,
 "nbformat_minor": 2
}
