{
 "cells": [
  {
   "cell_type": "markdown",
   "metadata": {},
   "source": [
    "NAMA : IKA ELVINA MULYANA \n",
    "\n",
    "NIM  : 09011381722110"
   ]
  },
  {
   "cell_type": "markdown",
   "metadata": {},
   "source": [
    "## PENILAIAN PRESTASI KINERJA PEGAWAI MENGGUNAKAN FUZZY TSUKOMOTO"
   ]
  },
  {
   "cell_type": "markdown",
   "metadata": {},
   "source": [
    "Sebuah institusi ingin menilai kinerja seorang pegawai dengan kriteria penilaiannya adalah Tanggung Jawab dan Kedisiplinan. Proses ini mengeluarkan penilaian Sangat Buruk, Buruk, Cukup, Baik, dan Sangat Baik dengan rentang nilai dari 0 sampai 100.  "
   ]
  },
  {
   "cell_type": "markdown",
   "metadata": {},
   "source": [
    "#### Import Library\n",
    "sebelum memulai proses pemograman, kita harus melakukan import library dimana dibawah ini merupakan library yang digunakan. \n",
    "- import numpy adalah berguna untuk menulis rentang nilai pada variabel\n",
    "- import skfuzzy (scikit-fuzzy) as fuzz adalah kumpulan algoritma logika fuzzy \n",
    "- from skfuzzy import control as ctrl \n",
    "- import matplotlib.pyplot as plt, untuk menampilkan plot yang di hasilkan dari membershipfunction "
   ]
  },
  {
   "cell_type": "code",
   "execution_count": 115,
   "metadata": {},
   "outputs": [],
   "source": [
    "import numpy as np\n",
    "import skfuzzy as fuzz\n",
    "from skfuzzy import control as ctrl\n",
    "import matplotlib.pyplot as plt"
   ]
  },
  {
   "cell_type": "markdown",
   "metadata": {},
   "source": [
    "## FUZZYFIKASI\n",
    "\n",
    "#### A. Input : Kriteria penilaian\n",
    "\n",
    "Terdapat control antecedent untuk inputan. Dan angka-angka di dalam kurung tersebut adalah batas-batasnya yang formatnya adalah (batas awal, batas akhir, kelipatan). Lalu diberikan label dengan nama variabelnya.\n",
    "\n",
    "Penilaian di bagi menjadi 2 Kriteria, yaitu :\n",
    "\n",
    "###### a. Tanggung Jawab dengan menggunakan rentang 0,100,1 \n",
    "\n",
    "untuk ploting, menggunakan TanggungJawab_x dengan arange 0,100,1 juga."
   ]
  },
  {
   "cell_type": "code",
   "execution_count": 116,
   "metadata": {},
   "outputs": [],
   "source": [
    "TanggungJawab = ctrl.Antecedent(np.arange(0, 100, 1),'TanggungJawab')\n",
    "TanggungJawab_x = np.arange(0,100,1) #untuk plotting saja"
   ]
  },
  {
   "cell_type": "markdown",
   "metadata": {},
   "source": [
    "Nilai Linguistik untuk input Tanggung Jawab fungsi keanggotaannya dibagi menjadi 3 bagian yang sama, yaitu :\n",
    "\n",
    "\n",
    "$$ Buruk (x) =\n",
    "\\begin{cases}\n",
    "    1 & ; 0 \\leq x \\leq 30\\\\\n",
    "    \\frac{30-x}{(40-30)} & ; 30 \\leq x \\leq 40 \\\\\n",
    "    0 & ; x \\geq 40\n",
    "\\end{cases}\n",
    "$$\n",
    "\n",
    "$$ Cukup (x) =\n",
    "\\begin{cases}\n",
    "    1 & ; 40 \\leq x \\leq 70\\\\\n",
    "    \\frac{x-30}{(40-30)} & ; 30 \\leq x \\leq 40 \\\\\n",
    "    \\frac{80-x}{(80-70)} & ; 70 \\leq x \\leq 80 \\\\\n",
    "    0 & ; x \\leq 30 \\ atau \\ x \\geq 80\n",
    "\\end{cases}\n",
    "$$\n",
    "\n",
    "\n",
    "$$ Baik (x) =\n",
    "\\begin{cases}\n",
    "    0 & ; x \\leq 70\\\\\n",
    "    \\frac{x-70}{(80-70)} & ; 70 \\leq x \\leq 80 \\\\\n",
    "    1 & ; x \\geq 80\n",
    "\\end{cases}\n",
    "$$"
   ]
  },
  {
   "cell_type": "markdown",
   "metadata": {},
   "source": [
    "_** Menampilkan membership fucntion**_\n",
    "\n",
    "untuk menampilkan kurva menggunakan fungsi trapmf (trapesium membership function) dan plot nya akan menampilkan kurva berbentuk trapesium."
   ]
  },
  {
   "cell_type": "markdown",
   "metadata": {},
   "source": [
    "Membership Function dari Tanggung Jawab"
   ]
  },
  {
   "cell_type": "code",
   "execution_count": 117,
   "metadata": {},
   "outputs": [],
   "source": [
    "TanggungJawab ['Buruk']= fuzz.trapmf(TanggungJawab.universe, [0,0, 30, 40])\n",
    "TanggungJawab ['Cukup']= fuzz.trapmf(TanggungJawab.universe, [30, 40, 70, 80])\n",
    "TanggungJawab ['Baik']= fuzz.trapmf(TanggungJawab.universe, [70, 80, 100,100]) "
   ]
  },
  {
   "cell_type": "markdown",
   "metadata": {},
   "source": [
    "- Plot Membership Function dari Tanggung Jawab Buruk"
   ]
  },
  {
   "cell_type": "code",
   "execution_count": 118,
   "metadata": {
    "scrolled": false
   },
   "outputs": [
    {
     "data": {
      "text/plain": [
       "Text(0.5,1,'Tanggung Jawab Buruk')"
      ]
     },
     "execution_count": 118,
     "metadata": {},
     "output_type": "execute_result"
    },
    {
     "data": {
      "image/png": "[encoded data removed]",
      "text/plain": [
       "<matplotlib.figure.Figure at 0x14624d52860>"
      ]
     },
     "metadata": {},
     "output_type": "display_data"
    }
   ],
   "source": [
    "TanggungJawab_Buruk = fuzz.trapmf(TanggungJawab_x,[0,0,30,40])\n",
    "fig, (ax0) = plt.subplots(nrows=1,figsize=(4,4))\n",
    "ax0.plot(TanggungJawab_x,TanggungJawab_Buruk,'blue')\n",
    "ax0.set_title('Tanggung Jawab Buruk')"
   ]
  },
  {
   "cell_type": "markdown",
   "metadata": {},
   "source": [
    "- Plot Membership Function dari Tanggung Jawab Cukup"
   ]
  },
  {
   "cell_type": "code",
   "execution_count": 119,
   "metadata": {
    "scrolled": true
   },
   "outputs": [
    {
     "data": {
      "text/plain": [
       "Text(0.5,1,'Tanggung Jawab Cukup')"
      ]
     },
     "execution_count": 119,
     "metadata": {},
     "output_type": "execute_result"
    },
    {
     "data": {
      "image/png": "[encoded data removed]",
      "text/plain": [
       "<matplotlib.figure.Figure at 0x14624dae080>"
      ]
     },
     "metadata": {},
     "output_type": "display_data"
    }
   ],
   "source": [
    "TanggungJawab_Cukup = fuzz.trapmf(TanggungJawab_x,[30,40,70,80])\n",
    "fig, (ax0) = plt.subplots(nrows=1,figsize=(4,4))\n",
    "ax0.plot(TanggungJawab_x,TanggungJawab_Cukup,'orange')\n",
    "ax0.set_title('Tanggung Jawab Cukup')"
   ]
  },
  {
   "cell_type": "markdown",
   "metadata": {},
   "source": [
    "- Plot Membership Function dari Tanggung Jawab Baik"
   ]
  },
  {
   "cell_type": "code",
   "execution_count": 120,
   "metadata": {
    "scrolled": true
   },
   "outputs": [
    {
     "data": {
      "text/plain": [
       "Text(0.5,1,'Tanggung Jawab Baik')"
      ]
     },
     "execution_count": 120,
     "metadata": {},
     "output_type": "execute_result"
    },
    {
     "data": {
      "image/png": "[encoded data removed]",
      "text/plain": [
       "<matplotlib.figure.Figure at 0x14624e0df60>"
      ]
     },
     "metadata": {},
     "output_type": "display_data"
    }
   ],
   "source": [
    "TanggungJawab_Baik = fuzz.trapmf(TanggungJawab_x,[70,80,100,100])\n",
    "fig, (ax0) = plt.subplots(nrows=1,figsize=(4,4))\n",
    "ax0.plot(TanggungJawab_x,TanggungJawab_Baik,'Green')\n",
    "ax0.set_title('Tanggung Jawab Baik')"
   ]
  },
  {
   "cell_type": "markdown",
   "metadata": {},
   "source": [
    "- Gabungan Plotting ketiga fungsi anggota Tanggung Jawab"
   ]
  },
  {
   "cell_type": "code",
   "execution_count": 121,
   "metadata": {
    "scrolled": true
   },
   "outputs": [
    {
     "name": "stderr",
     "output_type": "stream",
     "text": [
      "C:\\Users\\A 456 U\\Anaconda3\\lib\\site-packages\\matplotlib\\figure.py:418: UserWarning: matplotlib is currently using a non-GUI backend, so cannot show the figure\n",
      "  \"matplotlib is currently using a non-GUI backend, \"\n"
     ]
    },
    {
     "data": {
      "image/png": "[encoded data removed]",
      "text/plain": [
       "<matplotlib.figure.Figure at 0x14624d2f860>"
      ]
     },
     "metadata": {},
     "output_type": "display_data"
    }
   ],
   "source": [
    "TanggungJawab.view()"
   ]
  },
  {
   "cell_type": "markdown",
   "metadata": {},
   "source": [
    "##### b. Kedisiplinan dengan menggunakan rentang 0,100,1\n",
    "\n",
    "untuk ploting, menggunakan Kedisiplinan_x dengan arange 0,100,1 juga."
   ]
  },
  {
   "cell_type": "code",
   "execution_count": 122,
   "metadata": {},
   "outputs": [],
   "source": [
    "Kedisiplinan = ctrl.Antecedent(np.arange(0, 101, 1),'Kedisiplinan')\n",
    "Kedisiplinan_x = np.arange(0,101,1) #untuk plotting saja"
   ]
  },
  {
   "cell_type": "markdown",
   "metadata": {},
   "source": [
    "Nilai Linguistik untuk input Kedisiplinan fungsi keanggotaannya dibagi menjadi 3 bagian yang sama, yaitu :\n",
    "\n",
    "\n",
    "$$ Buruk (x) =\n",
    "\\begin{cases}\n",
    "    1 & ; 0 \\leq x \\leq 30\\\\\n",
    "    \\frac{30-x}{(40-30)} & ; 30 \\leq x \\leq 40 \\\\\n",
    "    0 & ; x \\geq 40\n",
    "\\end{cases}\n",
    "$$\n",
    "\n",
    "$$ Cukup (x) =\n",
    "\\begin{cases}\n",
    "    1 & ; 40 \\leq x \\leq 70\\\\\n",
    "    \\frac{x-30}{(40-30)} & ; 30 \\leq x \\leq 40 \\\\\n",
    "    \\frac{80-x}{(80-70)} & ; 70 \\leq x \\leq 80 \\\\\n",
    "    0 & ; x \\leq 30 \\ atau \\ x \\geq 80\n",
    "\\end{cases}\n",
    "$$\n",
    "\n",
    "\n",
    "$$ Baik (x) =\n",
    "\\begin{cases}\n",
    "    0 & ; x \\leq 70\\\\\n",
    "    \\frac{x-70}{(80-70)} & ; 70 \\leq x \\leq 80 \\\\\n",
    "    1 & ; x \\geq 80\n",
    "\\end{cases}\n",
    "$$"
   ]
  },
  {
   "cell_type": "markdown",
   "metadata": {},
   "source": [
    "_** Menampilkan membership fucntion**_\n",
    "\n",
    "untuk menampilkan kurva menggunakan fungsi trapmf (trapesium membership function) dan plot nya akan menampilkan kurva berbentuk trapesium."
   ]
  },
  {
   "cell_type": "markdown",
   "metadata": {},
   "source": [
    "Membership Function dari Kedisiplinan (Input)"
   ]
  },
  {
   "cell_type": "code",
   "execution_count": 123,
   "metadata": {},
   "outputs": [],
   "source": [
    "Kedisiplinan ['Buruk'] = fuzz.trapmf(Kedisiplinan.universe, [0,0, 30, 40])\n",
    "Kedisiplinan ['Cukup'] = fuzz.trapmf(Kedisiplinan.universe, [30, 40, 70, 80])\n",
    "Kedisiplinan ['Baik'] = fuzz.trapmf(Kedisiplinan.universe, [70, 80, 100,100])"
   ]
  },
  {
   "cell_type": "markdown",
   "metadata": {},
   "source": [
    "- Plot Membership Function dari Kedisiplinan Buruk"
   ]
  },
  {
   "cell_type": "code",
   "execution_count": 124,
   "metadata": {},
   "outputs": [
    {
     "data": {
      "text/plain": [
       "Text(0.5,1,'Kedisiplinan Buruk')"
      ]
     },
     "execution_count": 124,
     "metadata": {},
     "output_type": "execute_result"
    },
    {
     "data": {
      "image/png": "[encoded data removed]",
      "text/plain": [
       "<matplotlib.figure.Figure at 0x14625ed06d8>"
      ]
     },
     "metadata": {},
     "output_type": "display_data"
    }
   ],
   "source": [
    "Kedisiplinan_Buruk = fuzz.trapmf(Kedisiplinan_x,[0,0,30,40])\n",
    "fig, (ax0) = plt.subplots(nrows=1,figsize=(4,4))\n",
    "ax0.plot(Kedisiplinan_x,Kedisiplinan_Buruk,'blue')\n",
    "ax0.set_title('Kedisiplinan Buruk')"
   ]
  },
  {
   "cell_type": "markdown",
   "metadata": {},
   "source": [
    "- Plot Membership Function dari Kedisiplinan Cukup"
   ]
  },
  {
   "cell_type": "code",
   "execution_count": 125,
   "metadata": {},
   "outputs": [
    {
     "data": {
      "text/plain": [
       "Text(0.5,1,'Kedisiplinan Cukup')"
      ]
     },
     "execution_count": 125,
     "metadata": {},
     "output_type": "execute_result"
    },
    {
     "data": {
      "image/png": "[encoded data removed]",
      "text/plain": [
       "<matplotlib.figure.Figure at 0x14625f1a358>"
      ]
     },
     "metadata": {},
     "output_type": "display_data"
    }
   ],
   "source": [
    "Kedisiplinan_Cukup = fuzz.trapmf(Kedisiplinan_x,[30,40,70,80])\n",
    "fig, (ax0) = plt.subplots(nrows=1,figsize=(4,4))\n",
    "ax0.plot(Kedisiplinan_x,Kedisiplinan_Cukup,'orange')\n",
    "ax0.set_title('Kedisiplinan Cukup')"
   ]
  },
  {
   "cell_type": "markdown",
   "metadata": {},
   "source": [
    "- Plot Membership Function dari Kedisiplinan Baik"
   ]
  },
  {
   "cell_type": "code",
   "execution_count": 126,
   "metadata": {
    "scrolled": true
   },
   "outputs": [
    {
     "data": {
      "text/plain": [
       "Text(0.5,1,'KedisiplinanBaik')"
      ]
     },
     "execution_count": 126,
     "metadata": {},
     "output_type": "execute_result"
    },
    {
     "data": {
      "image/png": "[encoded data removed]",
      "text/plain": [
       "<matplotlib.figure.Figure at 0x14625e94e48>"
      ]
     },
     "metadata": {},
     "output_type": "display_data"
    }
   ],
   "source": [
    "Kedisiplinan_Baik = fuzz.trapmf(Kedisiplinan_x,[70,80,100,100])\n",
    "fig, (ax0) = plt.subplots(nrows=1,figsize=(4,4))\n",
    "ax0.plot(Kedisiplinan_x,Kedisiplinan_Baik,'Green')\n",
    "ax0.set_title('KedisiplinanBaik')"
   ]
  },
  {
   "cell_type": "markdown",
   "metadata": {},
   "source": [
    "- Gabungan Plotting ketiga fungsi anggota Kedisiplinan"
   ]
  },
  {
   "cell_type": "code",
   "execution_count": 127,
   "metadata": {},
   "outputs": [
    {
     "name": "stderr",
     "output_type": "stream",
     "text": [
      "C:\\Users\\A 456 U\\Anaconda3\\lib\\site-packages\\matplotlib\\figure.py:418: UserWarning: matplotlib is currently using a non-GUI backend, so cannot show the figure\n",
      "  \"matplotlib is currently using a non-GUI backend, \"\n"
     ]
    },
    {
     "data": {
      "image/png": "[encoded data removed]",
      "text/plain": [
       "<matplotlib.figure.Figure at 0x14625ee4f28>"
      ]
     },
     "metadata": {},
     "output_type": "display_data"
    }
   ],
   "source": [
    "Kedisiplinan.view()"
   ]
  },
  {
   "cell_type": "markdown",
   "metadata": {},
   "source": [
    "\n",
    "##### B. Output : besar nilai yang di berikan kepada karyawan dari kriteria penilaian\n",
    "\n",
    "terdapat control consequent untuk outputan. Dan angka-angka di dalam kurung tersebut adalah batas-batasnya yang formatnya adalah (batas awal, batas akhir, kelipatan). Lalu diberikan label dengan nama variabelnya.\n",
    "\n",
    "- Nilai dengan rentang (0,120,1)\n",
    "\n",
    "untuk ploting, menggunakan nilai_x dengan arange 0,100,1 juga."
   ]
  },
  {
   "cell_type": "code",
   "execution_count": 128,
   "metadata": {},
   "outputs": [],
   "source": [
    "Nilai = ctrl.Consequent(np.arange(0, 101, 1), 'Nilai')\n",
    "Nilai_x = np.arange(0,101,1) #untuk plotting saja"
   ]
  },
  {
   "cell_type": "markdown",
   "metadata": {},
   "source": [
    "Nilai Linguistik untuk Output Nilai dibagi menjadi 5, yaitu :\n",
    "\n",
    "$$ Sangat Buruk (x) =\n",
    "\\begin{cases}\n",
    "    1 & ; x \\leq 20\\\\\n",
    "    \\frac{30-x}{(30-20)} & ; 20 \\leq x \\leq 30 \\\\\n",
    "    0 & ; x \\geq 30\n",
    "\\end{cases}\n",
    "$$\n",
    "\n",
    "\n",
    "$$ Buruk (x) =\n",
    "\\begin{cases}\n",
    "    0 & ; x \\leq 20 \\ atau \\ x \\geq 40\\\\\n",
    "    \\frac{x-20}{(30-20)} & ; 20 \\leq x \\leq 30 \\\\\n",
    "     \\frac{40-x}{(40-30)} & ; 30 \\leq x \\leq 40 \\\\    \n",
    "\\end{cases}\n",
    "$$\n",
    "\n",
    "\n",
    "$$ Cukup (x) =\n",
    "\\begin{cases}\n",
    "    0 & ; x \\leq 40 \\ atau \\ x \\geq 60\\\\\n",
    "    \\frac{x-40}{(50-40)} & ; 40 \\leq x \\leq 50 \\\\\n",
    "     \\frac{60-x}{(60-50)} & ; 50 \\leq x \\leq 60 \\\\\n",
    "\\end{cases}\n",
    "$$\n",
    "\n",
    "$$ Baik (x) =\n",
    "\\begin{cases}\n",
    "    0 & ; x \\leq 60 \\ atau \\ x \\geq 80\\\\\n",
    "    \\frac{x-60}{(70-60)} & ; 60 \\leq x \\leq 70 \\\\\n",
    "     \\frac{80-x}{(80-70)} & ; 70 \\leq x \\leq 80 \\\\\n",
    "\\end{cases}\n",
    "$$\n",
    "\n",
    "\n",
    "$$ Sangat Baik (x) =\n",
    "\\begin{cases}\n",
    "    0 & ; x \\leq 80\\\\\n",
    "    \\frac{x-80}{(90-80)} & ; 80 \\leq x \\leq 90 \\\\\n",
    "    1 & ; x \\geq 90\n",
    "\\end{cases}\n",
    "$$"
   ]
  },
  {
   "cell_type": "markdown",
   "metadata": {},
   "source": [
    "_** Menampilkan membership function**_\n",
    "\n",
    "\n",
    "untuk menampilkan kurva menggunakan 2 fungsi, yaitu : \n",
    "- trapmf (trapesium membership function) dan plot nya akan menampilkan kurva berbentuk trapesium.\n",
    "- trimf (triangle membership function) dan plot nya akan menampilkan kurva berbentuk segitiga."
   ]
  },
  {
   "cell_type": "markdown",
   "metadata": {},
   "source": [
    "Membership Function dari Nilai (Output)"
   ]
  },
  {
   "cell_type": "code",
   "execution_count": 129,
   "metadata": {},
   "outputs": [],
   "source": [
    "Nilai ['Sangat Buruk'] = fuzz.trapmf(Nilai.universe,[0, 0, 20, 30])\n",
    "Nilai ['Buruk'] = fuzz.trimf(Nilai.universe, [20, 30, 40])\n",
    "Nilai ['Cukup'] = fuzz.trimf(Nilai.universe, [40, 50, 60])\n",
    "Nilai ['Baik'] = fuzz.trimf(Nilai.universe, [60, 70, 80])\n",
    "Nilai ['Sangat Baik'] = fuzz.trapmf(Nilai.universe, [80, 90, 100, 100])"
   ]
  },
  {
   "cell_type": "markdown",
   "metadata": {},
   "source": [
    "- Plot Membership Function dari Nilai Sangat Buruk"
   ]
  },
  {
   "cell_type": "code",
   "execution_count": 130,
   "metadata": {},
   "outputs": [
    {
     "data": {
      "text/plain": [
       "Text(0.5,1,'Nilai Sangat Buruk')"
      ]
     },
     "execution_count": 130,
     "metadata": {},
     "output_type": "execute_result"
    },
    {
     "data": {
      "image/png": "[encoded data removed]",
      "text/plain": [
       "<matplotlib.figure.Figure at 0x1462482a748>"
      ]
     },
     "metadata": {},
     "output_type": "display_data"
    }
   ],
   "source": [
    "Nilai_SangatBuruk = fuzz.trapmf(Nilai_x,[0,0,20,30])\n",
    "fig, (ax0) = plt.subplots(nrows=1,figsize=(4,4))\n",
    "ax0.plot(Nilai_x,Nilai_SangatBuruk,'blue')\n",
    "ax0.set_title('Nilai Sangat Buruk')"
   ]
  },
  {
   "cell_type": "markdown",
   "metadata": {},
   "source": [
    "- Plot Membership Function dari Kedisiplinan Buruk"
   ]
  },
  {
   "cell_type": "code",
   "execution_count": 131,
   "metadata": {},
   "outputs": [
    {
     "data": {
      "text/plain": [
       "Text(0.5,1,'Nilai Buruk')"
      ]
     },
     "execution_count": 131,
     "metadata": {},
     "output_type": "execute_result"
    },
    {
     "data": {
      "image/png": "[encoded data removed]",
      "text/plain": [
       "<matplotlib.figure.Figure at 0x14624831358>"
      ]
     },
     "metadata": {},
     "output_type": "display_data"
    }
   ],
   "source": [
    "Nilai_Buruk = fuzz.trimf(Nilai_x,[20,30,40])\n",
    "fig, (ax0) = plt.subplots(nrows=1,figsize=(4,4))\n",
    "ax0.plot(Nilai_x,Nilai_Buruk,'orange')\n",
    "ax0.set_title('Nilai Buruk')"
   ]
  },
  {
   "cell_type": "markdown",
   "metadata": {},
   "source": [
    "- Plot Membership Function dari Kedisiplinan Cukup"
   ]
  },
  {
   "cell_type": "code",
   "execution_count": 132,
   "metadata": {},
   "outputs": [
    {
     "data": {
      "text/plain": [
       "Text(0.5,1,'Nilai Cukup')"
      ]
     },
     "execution_count": 132,
     "metadata": {},
     "output_type": "execute_result"
    },
    {
     "data": {
      "image/png": "[encoded data removed]",
      "text/plain": [
       "<matplotlib.figure.Figure at 0x14624d744e0>"
      ]
     },
     "metadata": {},
     "output_type": "display_data"
    }
   ],
   "source": [
    "Nilai_Cukup = fuzz.trimf(Nilai_x,[40,50,60])\n",
    "fig, (ax0) = plt.subplots(nrows=1,figsize=(4,4))\n",
    "ax0.plot(Nilai_x,Nilai_Cukup,'green')\n",
    "ax0.set_title('Nilai Cukup')"
   ]
  },
  {
   "cell_type": "markdown",
   "metadata": {},
   "source": [
    "- Plot Membership Function dari Kedisiplinan Baik"
   ]
  },
  {
   "cell_type": "code",
   "execution_count": 133,
   "metadata": {},
   "outputs": [
    {
     "data": {
      "text/plain": [
       "Text(0.5,1,'Nilai Baik')"
      ]
     },
     "execution_count": 133,
     "metadata": {},
     "output_type": "execute_result"
    },
    {
     "data": {
      "image/png": "[encoded data removed]",
      "text/plain": [
       "<matplotlib.figure.Figure at 0x14625f6b0f0>"
      ]
     },
     "metadata": {},
     "output_type": "display_data"
    }
   ],
   "source": [
    "Nilai_Baik = fuzz.trimf(Nilai_x,[60,70,80])\n",
    "fig, (ax0) = plt.subplots(nrows=1,figsize=(4,4))\n",
    "ax0.plot(Nilai_x,Nilai_Baik,'red')\n",
    "ax0.set_title('Nilai Baik')"
   ]
  },
  {
   "cell_type": "markdown",
   "metadata": {},
   "source": [
    "- Plot Membership Function dari Kedisiplinan Sangat Baik"
   ]
  },
  {
   "cell_type": "code",
   "execution_count": 134,
   "metadata": {},
   "outputs": [
    {
     "data": {
      "text/plain": [
       "Text(0.5,1,'Nilai Sangat Baik')"
      ]
     },
     "execution_count": 134,
     "metadata": {},
     "output_type": "execute_result"
    },
    {
     "data": {
      "image/png": "[encoded data removed]",
      "text/plain": [
       "<matplotlib.figure.Figure at 0x14625fbfe48>"
      ]
     },
     "metadata": {},
     "output_type": "display_data"
    }
   ],
   "source": [
    "Nilai_SangatBaik = fuzz.trapmf(Nilai_x,[80,90,100,100])\n",
    "fig, (ax0) = plt.subplots(nrows=1,figsize=(4,4))\n",
    "ax0.plot(Nilai_x,Nilai_SangatBaik,'purple')\n",
    "ax0.set_title('Nilai Sangat Baik')"
   ]
  },
  {
   "cell_type": "markdown",
   "metadata": {},
   "source": [
    "- Gabungan Plotting kelima fungsi anggota Nilai"
   ]
  },
  {
   "cell_type": "code",
   "execution_count": 135,
   "metadata": {},
   "outputs": [
    {
     "name": "stderr",
     "output_type": "stream",
     "text": [
      "C:\\Users\\A 456 U\\Anaconda3\\lib\\site-packages\\matplotlib\\figure.py:418: UserWarning: matplotlib is currently using a non-GUI backend, so cannot show the figure\n",
      "  \"matplotlib is currently using a non-GUI backend, \"\n"
     ]
    },
    {
     "data": {
      "image/png": "[encoded data removed]",
      "text/plain": [
       "<matplotlib.figure.Figure at 0x146247565c0>"
      ]
     },
     "metadata": {},
     "output_type": "display_data"
    }
   ],
   "source": [
    "Nilai.view()"
   ]
  },
  {
   "cell_type": "markdown",
   "metadata": {},
   "source": [
    "## INFERENSI\n",
    "\n",
    "Pada tahap inferensi, membuat aturan-aturan fuzzy dalam bentuk IF .... THEN ....\n",
    "\n",
    "1. IF Tangung Jawab BAIK dan Kedisiplinan BAIK THEN Nilai SANGAT BAIK\n",
    "2. IF Tanggung Jawab CUKUP dan Kedisiplinan BAIK THEN Nilai BAIK\n",
    "3. IF Tanggung Jawab BURUK dan Kedisiplinan BAIK THEN Nilai CUKUP\n",
    "\n",
    "4. IF Tanggung Jawab BAIK dan Kedisiplinan CUKUP THEN Nilai SANGAT BAIK\n",
    "5. IF Tanggung Jawab CUKUP dan Kedisiplinan CUKUP THEN Nilai BAIK\n",
    "6. IF Tanggung Jawab BURUK dan Kedisiplinan CUKUP THEN Nilai BURUK\n",
    "\n",
    "7. IF Tanggung Jawab BAIK dan Kedisiplinan BURUK THEN Nilai CUKUP\n",
    "8. IF Tanggung Jawab CUKUP dan Kedisiplinan BURUK THEN Nilai BURUK\n",
    "9. IF Tanggung Jawab BURUK dan Kedisiplinan BURUK THEN Nilai SANGAT BURUK"
   ]
  },
  {
   "cell_type": "markdown",
   "metadata": {},
   "source": [
    "- tabel rule base\n",
    "\n",
    "<img src=\"tabel1.png\" style= width:400px;height:300px/>"
   ]
  },
  {
   "cell_type": "code",
   "execution_count": 168,
   "metadata": {},
   "outputs": [],
   "source": [
    "rule1 = ctrl.Rule(TanggungJawab['Baik'] & Kedisiplinan ['Baik'] , Nilai ['Sangat Baik'])\n",
    "rule2 = ctrl.Rule(TanggungJawab['Cukup'] & Kedisiplinan ['Baik'] , Nilai ['Baik'])\n",
    "rule3 = ctrl.Rule(TanggungJawab['Buruk'] & Kedisiplinan ['Baik'] , Nilai ['Cukup'])\n",
    "\n",
    "rule4 = ctrl.Rule(TanggungJawab['Baik'] & Kedisiplinan ['Cukup'], Nilai ['Sangat Baik'])\n",
    "rule5 = ctrl.Rule(TanggungJawab['Cukup'] & Kedisiplinan ['Cukup'], Nilai ['Baik'])\n",
    "rule6 = ctrl.Rule(TanggungJawab['Buruk'] & Kedisiplinan ['Cukup'], Nilai ['Buruk'])\n",
    "\n",
    "rule7 = ctrl.Rule(TanggungJawab['Baik'] & Kedisiplinan ['Buruk'], Nilai ['Cukup'])\n",
    "rule8 = ctrl.Rule(TanggungJawab['Cukup'] & Kedisiplinan ['Buruk'], Nilai ['Buruk'])\n",
    "rule9 = ctrl.Rule(TanggungJawab['Buruk'] & Kedisiplinan ['Buruk'], Nilai ['Sangat Buruk'])"
   ]
  },
  {
   "cell_type": "markdown",
   "metadata": {},
   "source": [
    "- tabel perhitungan berdasarkan rule base\n",
    "\n",
    "<img src=\"tabelrule2.png\" style= width:400px;height:200px/>"
   ]
  },
  {
   "cell_type": "markdown",
   "metadata": {},
   "source": [
    "- Menggabungkan Rule Base\n",
    "\n",
    "Dibawah ini adalah menggabungkan rule base untuk sebagai control system"
   ]
  },
  {
   "cell_type": "code",
   "execution_count": 169,
   "metadata": {},
   "outputs": [],
   "source": [
    "GabunganNilai_ctrl = ctrl.ControlSystem ([rule1,rule2,rule3,rule4,rule5,rule6,rule7,rule8,rule8])"
   ]
  },
  {
   "cell_type": "markdown",
   "metadata": {},
   "source": [
    "## DEFUZZYFIKASI PYTHON"
   ]
  },
  {
   "cell_type": "code",
   "execution_count": 170,
   "metadata": {},
   "outputs": [],
   "source": [
    "HasilNilai = ctrl.ControlSystemSimulation (GabunganNilai_ctrl)"
   ]
  },
  {
   "cell_type": "markdown",
   "metadata": {},
   "source": [
    "Sebagai contoh, dibawah ini menggunakan inputan variabel TanggungJawab sebesar 79 dan variabel Kedisiplinan 75."
   ]
  },
  {
   "cell_type": "code",
   "execution_count": 190,
   "metadata": {},
   "outputs": [],
   "source": [
    "HasilNilai.input ['TanggungJawab'] = 78\n",
    "HasilNilai.input ['Kedisiplinan'] = 75"
   ]
  },
  {
   "cell_type": "markdown",
   "metadata": {},
   "source": [
    "Berikut adalah perhitungan komputasi pyhton dari variabel inputan di atas"
   ]
  },
  {
   "cell_type": "code",
   "execution_count": 191,
   "metadata": {},
   "outputs": [],
   "source": [
    "HasilNilai.compute()"
   ]
  },
  {
   "cell_type": "markdown",
   "metadata": {},
   "source": [
    "Dan dibawah ini adalah hasil perhitungan pyhton sebesar 87.41001564945226"
   ]
  },
  {
   "cell_type": "code",
   "execution_count": 192,
   "metadata": {},
   "outputs": [
    {
     "name": "stdout",
     "output_type": "stream",
     "text": [
      "85.01349527665317\n"
     ]
    }
   ],
   "source": [
    "\n",
    "print (HasilNilai.output['Nilai'])"
   ]
  },
  {
   "cell_type": "markdown",
   "metadata": {},
   "source": [
    "## PERHITUNGAN MANUAL"
   ]
  },
  {
   "cell_type": "markdown",
   "metadata": {},
   "source": [
    "\\begin{equation}\n",
    "    Tanggung Jawab = 78 \\\\\n",
    "    Masukkan\\,nilai\\,Tanggung\\,Jawab\\,ke\\,dalam\\,masing-masing\\,fungsi\\,keanggotaan\\,Tanggung\\,Jawab\\\\\n",
    "  Tanggung Jawab ['Buruk'] = \\mu Tanggung Jawab(x)=\\begin{cases}\n",
    "    1, & \\text{$x\\leq 30$}.\\\\\n",
    "    \\frac {30 - x}{40 - 30} , & \\text{$30 \\leq x \\leq 40$}.\\\\\n",
    "    0, & \\text{$x\\geq 40 $ }.\\checkmark\n",
    "  \\end{cases}\n",
    "  \\\\\n",
    " Tanggung Jawab ['Cukup'] = \\mu Tanggung Jawab (x)=\\begin{cases}\n",
    "    1, & \\text{$40 < x > 70$}.\\\\\n",
    "    \\frac {x- 30}{40 - 30} , & \\text{$30 \\leq x \\leq 40$}\\\\\n",
    "    \\frac {80-x}{80 - 70} , & \\text{$70 \\leq x \\leq 80$}.\\checkmark \\\\ \n",
    "    0, & \\text{$x \\leq 30 \\ atau \\  x \\geq 80 $ }\n",
    "  \\end{cases}\n",
    "  \\\\\n",
    "  Tanggung Jawab ['Baik'] = \\mu Tanggung Jawab(x)=\\begin{cases}\n",
    "    0, & \\text{$x \\leq 70$}.\\\\\n",
    "    \\frac {x-70}{80 - 70} , & \\text{$70 \\leq x \\leq 80$}.\\checkmark \\\\\n",
    "    1, & \\text{$x \\geq 80 $ }\n",
    "  \\end{cases}\n",
    "  \\\\\n",
    "\\end{equation}"
   ]
  },
  {
   "cell_type": "markdown",
   "metadata": {},
   "source": [
    "\\begin{equation}\n",
    "    \\mu Tanggung Jawab Cukup (78) = \\frac {80 - 78}{80 - 70} \\\\\n",
    "    \\mu Tanggung Jawab Cukup (78)= 2/10 \\\\ \n",
    "    \\mu Tanggung Jawab Cukup (78)= 0.2 \\\\\n",
    "    \\mu Tanggung Jawab Baik (78) = \\frac {78 - 70}{80 - 70} \\\\\n",
    "    \\mu Tanggung Jawab Baik (78)= 8/10 \\\\ \n",
    "    \\mu Tanggung Jawab Baik (78)= 0.8 \\\\\n",
    "\\end{equation}"
   ]
  },
  {
   "cell_type": "markdown",
   "metadata": {},
   "source": [
    "\\begin{equation}\n",
    "    Kedisiplinan = 75 \\\\\n",
    "    Masukkan\\,nilai\\,Kedisiplinan\\,ke\\,dalam\\,masing-masing\\,fungsi\\,keanggotaan\\,Kedisiplinan\\\\\n",
    "  Kedisiplinan ['Buruk'] = \\mu Kedisiplinan(x)=\\begin{cases}\n",
    "    1, & \\text{$x\\leq 30$}.\\\\\n",
    "    \\frac {30 - x}{40 - 30} , & \\text{$30 \\leq x \\leq 40$}.\\\\\n",
    "    0, & \\text{$x\\geq 40 $ }.\\checkmark\n",
    "  \\end{cases}\n",
    "  \\\\\n",
    "  Kedisiplinan ['Cukup'] = \\mu Kedisiplinan(x)=\\begin{cases}\n",
    "    1, & \\text{$40 < x > 70$}.\\\\\n",
    "    \\frac {x- 30}{40 - 30} , & \\text{$30 \\leq x \\leq 40$}\\\\\n",
    "    \\frac {80-x}{80 - 70} , & \\text{$70 \\leq x \\leq 80$}.\\checkmark \\\\ \n",
    "    0, & \\text{$x \\leq 30 \\ atau \\  x \\geq 80 $ }\n",
    "  \\end{cases}\n",
    "  \\\\\n",
    "  Kedisiplinan ['Baik'] = \\mu Kedisiplinan(x)=\\begin{cases}\n",
    "    0, & \\text{$x \\leq 70$}.\\\\\n",
    "    \\frac {x-70}{80 - 70} , & \\text{$70 \\leq x \\leq 80$}.\\checkmark \\\\\n",
    "    1, & \\text{$x \\geq 80 $ }\n",
    "  \\end{cases}\n",
    "  \\\\\n",
    "\\end{equation}"
   ]
  },
  {
   "cell_type": "markdown",
   "metadata": {},
   "source": [
    "\\begin{equation}\n",
    "    \\mu Kedisiplinan Cukup (75) = \\frac {80 - 75}{80 - 70} \\\\\n",
    "    \\mu Kedisiplinan Cukup (75)= 5/10 \\\\ \n",
    "    \\mu Kedisiplinan Cukup (75)= 0.5 \\\\\n",
    "    \\mu Kedisiplinan Baik (75) = \\frac {75 - 70}{80 - 70} \\\\\n",
    "    \\mu Kedisiplinan Baik (75)= 5/10 \\\\ \n",
    "    \\mu Kedisiplinan Baik (75)= 0.5 \\\\\n",
    "\\end{equation}"
   ]
  },
  {
   "cell_type": "markdown",
   "metadata": {},
   "source": [
    "Kemudian mencari nilai Z untuk setiap rulebase dengan menggunakan fungsi MIN karena  rulebase nya menggunakan AND\n",
    "\n",
    "a. IF Tanggung Jawab BAIK AND Kedisiplinan BAIK THEN Nilai SANGAT BAIK\n",
    "\n",
    "$$ \\\\ \\alpha(predikat_1) = \\mu TanggungJawabBaik \\cap \\mu KedisiplinanBaik $$\n",
    "$$\\alpha(predikat_1)   = min (\\mu TanggungJawabBaik[78], \\mu KedisiplinanBaik[75]) $$\n",
    "$$ \\alpha(predikat_1) = min (0.8; 0.5) $$\n",
    "$$ \\alpha(predikat_1) = 0.5 $$\n",
    "\n",
    "himpunan Nilai SANGAT BAIK\n",
    "$$\n",
    "\\begin{cases}\n",
    "    0 & ; x \\leq 80\\\\\n",
    "    \\frac{x-80}{(90-80)} & ; 80 \\leq x \\leq 90 \\\\\n",
    "    1 & ; x \\geq 90\n",
    "\\end{cases}\n",
    " $$\n",
    " \n",
    "Menurut  fungsi  keanggotaan  himpunan  Nilai SANGAT BAIK pada persamaan di atas maka diperoleh persamaan berikut.\n",
    "\n",
    "\n",
    "$$ \\frac{(Zmax-Z1)}{Zmax-Zmin} = \\alpha1 $$\n",
    "$$ Z1 = Zmax - \\alpha1 (Zmax - Zmin) $$\n",
    "$$ Z1 = 90 - 0.5 (90-80) $$\n",
    "$$ Z1 = 90 - 0.5 (10) $$\n",
    "$$ Z1 = 90 - 5 $$\n",
    "$$ Z1 = 85 $$\n",
    "\n",
    "\n",
    "Maka nilai $ Z_1 = 85 $\n",
    "\n",
    "=================================================================================================================\n",
    "\n",
    "b. IF Tanggung Jawab CUKUP AND Kedisiplinan BAIK THEN Nilai BAIK\n",
    "\n",
    "$$ \\\\ \\alpha(predikat_2) = \\mu TanggungJawabCukup \\cap \\mu KedisiplinanBaik $$\n",
    "$$\\alpha(predikat_2)   = min (\\mu TanggungJawabCukup[78], \\mu KedisiplinanBaik[75]) $$\n",
    "$$ \\alpha(predikat_2) = min (0.2; 0.5) $$\n",
    "$$ \\alpha(predikat_2) = 0.2 $$\n",
    "\n",
    "Lalu lihat himpunan Nilai BAIK\n",
    "$$\n",
    "\\begin{cases}\n",
    "    0 & ; x \\leq 60 \\ atau \\ x \\geq 80\\\\\n",
    "    \\frac{x-60}{(70-60)} & ; 60 \\leq x \\leq 70 \\\\\n",
    "     \\frac{80-x}{(80-70)} & ; 70 \\leq x \\leq 80 \\\\\n",
    "\\end{cases}\n",
    " $$\n",
    " \n",
    " Menurut  fungsi  keanggotaan  himpunan  Nilai BAIK pada persamaan di atas maka diperoleh persamaan berikut.\n",
    "\n",
    " $$ \\frac{Zmax-Z2}{Zmax-Zmin} = \\alpha2 $$\n",
    " $$ Z2 = Zmax - \\alpha2 (Zmax - Zmin) $$\n",
    " $$ Z2 = 80 - 0.2 (80-60) $$\n",
    " $$ Z2 = 80 - 0.2 (20) $$\n",
    " $$ Z2 = 80 - 4 $$\n",
    " $$ Z2 = 76 $$\n",
    "\n",
    "Maka nilai $ Z_2 = 76 $\n",
    "\n",
    "=================================================================================================================\n",
    "\n",
    "c. IF Tanggung Jawab BURUK AND Kedisiplinan BAIK THEN Nilai CUKUP\n",
    "\n",
    "$$ \\\\ \\alpha(predikat_3) = \\mu TanggungJawabBuruk \\cap \\mu KedisiplinanBaik $$\n",
    "$$\\alpha(predikat_3)   = min (\\mu TanggungJawabBuruk[78], \\mu KedisiplinanBaik[75]) $$\n",
    "$$ \\alpha(predikat_3) = min (0; 0.5) $$\n",
    "$$ \\alpha(predikat_3) = 0 $$\n",
    "\n",
    "Lalu lihat himpunan Nilai CUKUP\n",
    "\n",
    "$$\n",
    "\\begin{cases}\n",
    "    0 & ; x \\leq 40 \\ atau \\ x \\geq 60\\\\\n",
    "    \\frac{x-40}{(50-40)} & ; 40 \\leq x \\leq 50 \\\\\n",
    "     \\frac{60-x}{(60-50)} & ; 50 \\leq x \\leq 60 \\\\\n",
    "\\end{cases}\n",
    "$$\n",
    "\n",
    "Menurut  fungsi  keanggotaan  himpunan  Nilai CUKUP pada persamaan di atas maka diperoleh persamaan berikut.\n",
    "\n",
    "\n",
    "$$ \\frac{(Zmax-Z3)}{Zmax-Zmin} = \\alpha3 $$\n",
    "$$ Z3 = Zmax - \\alpha3 (Zmax - Zmin) $$\n",
    "$$ Z3 = 60 - 0 (60-40) $$\n",
    "$$ Z3 = 60 $$\n",
    "\n",
    "Maka nilai $ Z_3 = 60 $\n",
    "\n",
    "\n",
    "=================================================================================================================\n",
    "\n",
    "d. IF Tanggung Jawab BAIK AND Kedisiplinan CUKUP THEN Nilai SANGAT BAIK\n",
    "\n",
    "$$ \\\\ \\alpha(predikat_4) = \\mu TanggungJawabBaik \\cap \\mu KedisiplinanCukup $$\n",
    "$$\\alpha(predikat_4)   = min (\\mu TanggungJawabBaik[798, \\mu KedisiplinanCukup[75]) $$\n",
    "$$ \\alpha(predikat_4) = min (0.8; 0.5) $$\n",
    "$$ \\alpha(predikat_4) = 0.5 $$\n",
    "\n",
    "Lalu lihat himpunan Nilai SANGAT BAIK\n",
    "$$\n",
    "\\begin{cases}\n",
    "    0 & ; x \\leq 80\\\\\n",
    "    \\frac{x-80}{(90-80)} & ; 80 \\leq x \\leq 90 \\\\\n",
    "    1 & ; x \\geq 90\n",
    "\\end{cases}\n",
    " $$\n",
    " \n",
    "Menurut  fungsi  keanggotaan  himpunan  Nilai SANGAT BAIK pada persamaan di atas maka diperoleh persamaan berikut.\n",
    "\n",
    "\n",
    "$$ \\frac{Zmax-Z4}{Zmax-Zmin} = \\alpha4 $$\n",
    "$$ Z4 = Zmax - \\alpha4 (Zmax - Zmin) $$\n",
    "$$ Z4 = 90 - 0.5 (90-80) $$\n",
    "$$ Z4 = 90 - 0.5 (10) $$\n",
    "$$ Z4 = 90 - 5 $$\n",
    "$$ Z4 = 85 $$\n",
    "\n",
    "\n",
    "Maka nilai $ Z_4 = 85 $\n",
    "\n",
    "=================================================================================================================\n",
    "\n",
    "e. IF Tanggung Jawab CUKUP AND Kedisiplinan CUKUP THEN Nilai BAIK\n",
    "\n",
    "$$ \\\\ \\alpha(predikat_5) = \\mu TanggungJawabCukup \\cap \\mu KedisiplinanCukup $$\n",
    "$$\\alpha(predikat_5)   = min (\\mu TanggungJawabCukup[78], \\mu KedisiplinanCukup[75]) $$\n",
    "$$ \\alpha(predikat_5) = min (0.2; 0.5) $$\n",
    "$$ \\alpha(predikat_5) = 0.2 $$\n",
    "\n",
    "Lalu lihat himpunan Nilai BAIK\n",
    "$$\n",
    "\\begin{cases}\n",
    "    0 & ; x \\leq 60 \\ atau \\ x \\geq 80\\\\\n",
    "    \\frac{x-60}{(70-60)} & ; 60 \\leq x \\leq 70 \\\\\n",
    "     \\frac{80-x}{(80-70)} & ; 70 \\leq x \\leq 80 \\\\\n",
    "\\end{cases}\n",
    " $$\n",
    "Menurut  fungsi  keanggotaan  himpunan  Nilai BAIK pada persamaan di atas maka diperoleh persamaan berikut.\n",
    "\n",
    "\n",
    " $$ \\frac{Zmax-Z5}{Zmax-Zmin} = \\alpha5 $$\n",
    " $$ Z5 = Zmax - \\alpha5 (Zmax - Zmin) $$\n",
    " $$ Z5 = 80 - 0.2 (80-60) $$\n",
    " $$ Z5 = 90 - 0.2 (20) $$\n",
    " $$ Z5 = 90 - 4 $$\n",
    " $$ Z5 = 86 $$\n",
    " \n",
    "Maka nilai $ Z_5 = 86 $\n",
    "\n",
    "=================================================================================================================\n",
    "\n",
    "f. IF Tanggung Jawab BURUK AND Kedisiplinan CUKUP THEN Nilai BURUK\n",
    "\n",
    "$$ \\\\ \\alpha(predikat_6) = \\mu TanggungJawabBuruk \\cap \\mu KedisiplinanCukup $$\n",
    "$$\\alpha(predikat_6)   = min (\\mu TanggungJawabBuruk[78], \\mu KedisiplinanCukup[75]) $$\n",
    "$$ \\alpha(predikat_6) = min (0; 0.5) $$\n",
    "$$ \\alpha(predikat_6) = 0 $$\n",
    "\n",
    "Lalu lihat himpunan Nilai BURUK\n",
    "$$\n",
    "\\begin{cases}\n",
    "    0 & ; x \\leq 20 \\ atau \\ x \\geq 40\\\\\n",
    "    \\frac{x-20}{(30-20)} & ; 20 \\leq x \\leq 30 \\\\\n",
    "     \\frac{40-x}{(40-30)} & ; 30 \\leq x \\leq 40 \\\\  \n",
    "\\end{cases}\n",
    " $$\n",
    "\n",
    "Menurut  fungsi  keanggotaan  himpunan  Nilai BURUK pada persamaan di atas maka diperoleh persamaan berikut.\n",
    "\n",
    "\n",
    " $$ \\frac{Zmax-Z6}{Zmax-Zmin} = \\alpha6 $$\n",
    " $$ Z6 = Zmax - \\alpha6 (Zmax - Zmin) $$\n",
    " $$ Z6 = 40 - 0 (40-20) $$\n",
    " $$ Z6 = 40 $$\n",
    "\n",
    "\n",
    "Maka nilai $ Z_6 = 40 $\n",
    "\n",
    "=================================================================================================================\n",
    "\n",
    "g. IF Tanggung Jawab BAIK AND Kedisiplinan BURUK THEN Nilai CUKUP\n",
    "\n",
    "$$ \\\\ \\alpha(predikat_7) = \\mu TanggungJawabBaik \\cap \\mu KedisiplinanBuruk $$\n",
    "$$ \\alpha(predikat_7)   = min (\\mu TanggungJawabBaik[78], \\mu KedisiplinanBuruk[75]) $$\n",
    "$$ \\alpha(predikat_7) = min (0.9; 0) $$\n",
    "$$ \\alpha(predikat_7) = 0 $$\n",
    "\n",
    "Lalu lihat himpunan Nilai CUKUP\n",
    "$$\n",
    "\\begin{cases}\n",
    "    0 & ; x \\leq 40 \\ atau \\ x \\geq 60\\\\\n",
    "    \\frac{x-40}{(50-40)} & ; 40 \\leq x \\leq 50 \\\\\n",
    "     \\frac{60-x}{(60-50)} & ; 50 \\leq x \\leq 60 \\\\\n",
    "\\end{cases}\n",
    " $$\n",
    "\n",
    "\n",
    "Menurut  fungsi  keanggotaan  himpunan  Nilai CUKUP pada persamaan di atas maka diperoleh persamaan berikut.\n",
    "\n",
    "\n",
    "$$ \\frac{Zmax-Z7}{Zmax-Zmin}  = \\alpha7 $$\n",
    "$$ Z7 = Zmax - \\alpha7 (Zmax - Zmin) $$\n",
    "$$ Z7 = 60 - 0 (60-40) $$\n",
    "$$ Z7 = 60 $$\n",
    "\n",
    "Maka nilai $ Z_7 = 60 $\n",
    "\n",
    "\n",
    "=================================================================================================================\n",
    "\n",
    "h. IF Tanggung Jawab CUKUP AND Kedisiplinan BURUK THEN Nilai BURUK\n",
    "\n",
    "$$ \\\\ \\alpha(predikat_8) = \\mu TanggungJawabCukup \\cap \\mu KedisiplinanBuruk $$\n",
    "$$\\alpha(predikat_8)   = min (\\mu TanggungJawabCukup[78], \\mu KedisiplinanBuruk[75]) $$\n",
    "$$ \\alpha(predikat_8) = min (0.2; 0) $$\n",
    "$$ \\alpha(predikat_8) = 0 $$\n",
    "\n",
    "Lalu lihat himpunan Nilai CUKUP\n",
    "$$\n",
    "\\begin{cases}\n",
    "    0 & ; x \\leq 20 \\ atau \\ x \\geq 40\\\\\n",
    "    \\frac{x-20}{(30-20)} & ; 20 \\leq x \\leq 30 \\\\\n",
    "     \\frac{40-x}{(40-30)} & ; 30 \\leq x \\leq 40 \\\\ \n",
    "\\end{cases}\n",
    " $$\n",
    "\n",
    "Menurut  fungsi  keanggotaan  himpunan  Nilai BAIK pada persamaan di atas maka diperoleh persamaan berikut.\n",
    "\n",
    "\n",
    "$$ \\frac{Zmax- Z8}{Zmax-Zmin}  = \\alpha8 $$\n",
    "$$ Z8 = Zmax - \\alpha8 (Zmax - Zmin) $$\n",
    "$$ Z8 = 40 - 0 (40-20) $$\n",
    "$$ Z8 = 40 $$\n",
    "\n",
    "Maka nilai $ Z_8 = 40  $\n",
    "\n",
    "=================================================================================================================\n",
    "\n",
    "i. IF Tanggung Jawab BURUK AND Kedisiplinan BURUK THEN Nilai SANGAT BURUK\n",
    "\n",
    "$$ \\\\ \\alpha(predikat_9) = \\mu TanggungJawabBuruk \\cap \\mu KedisiplinanBuruk $$\n",
    "$$\\alpha(predikat_9)   = min (\\mu TanggungJawabBuruk[78], \\mu KedisiplinanBuruk[75]) $$\n",
    "$$ \\alpha(predikat_9) = min (0; 0) $$\n",
    "$$ \\alpha(predikat_9) = 0 $$\n",
    "\n",
    "Lalu lihat himpunan Nilai SANGAT BURUK\n",
    "\n",
    "$$\n",
    "\\begin {cases}\n",
    "    1 & ; x \\leq 20\\\\\n",
    "    \\frac{30-x}{(30-20)} & ; 20 \\leq x \\leq 30 \\\\\n",
    "    0 & ; x \\geq 30\n",
    "\\end{cases}\n",
    "$$\n",
    "\n",
    "\n",
    "Menurut  fungsi  keanggotaan  himpunan  Nilai BAIK pada persamaan di atas maka diperoleh persamaan berikut.\n",
    "\n",
    "\n",
    " $$ \\frac{Zmax-Z9}{Zmax-Zmin}  = \\alpha9$$\n",
    " $$ Z9 = Zmax - \\alpha9 (Zmax - Zmin) $$\n",
    " $$ Z9 = 30 - 0 (30-20)$$\n",
    " $$ Z9 = 30$$\n",
    "\n",
    "\n",
    "Maka nilai $ Z_9 = 30  $\n",
    "\n"
   ]
  },
  {
   "cell_type": "markdown",
   "metadata": {},
   "source": [
    "Berikut adalah hasil dari defuzzyfikasi hitungan manual :\n",
    "\n",
    "Z  = $$ \\frac{\\alpha predikat_1 \\times Z_1 + \n",
    "\\alpha predikat_2 \\times Z_2 +\n",
    "\\alpha predikat_3 \\times Z_3 +\n",
    "\\alpha predikat_4 \\times Z_4 +\n",
    "\\alpha predikat_5 \\times Z_5 +\n",
    "\\alpha predikat_6 \\times Z_6 +\n",
    "\\alpha predikat_7 \\times Z_7 +\n",
    "\\alpha predikat_8 \\times Z_8 +\n",
    "\\alpha predikat_9 \\times Z_9 }\n",
    "{\\alpha predikat_1 + \\alpha predikat_2 +\n",
    "\\alpha predikat_3 + \\alpha predikat_4 +\n",
    "\\alpha predikat_5 + \\alpha predikat_6 +\n",
    "\\alpha predikat_7 + \\alpha predikat_8 +\n",
    "\\alpha predikat_9} $$"
   ]
  },
  {
   "cell_type": "markdown",
   "metadata": {},
   "source": [
    " $$Z = \\frac{0.5 \\times 85 + 0.2 \\times 76 + 0 + 0.5 \\times 85 + 0.2 \\times 86 + 0 + 0 + 0 + 0}{0.5 + 0.2 +  0 + 0.5 + 0.2 + 0 + 0 + 0 + 0} $$\n",
    " \n",
    " $$ Z = \\frac{117,7}{1,2} $$\n",
    " $$ Z =  \\,84.071428571  $$"
   ]
  },
  {
   "cell_type": "markdown",
   "metadata": {},
   "source": [
    "Kesimpulan \n",
    "- Hasil nilai yang di dapatkan adalah dari perhitungan komputasi python sebesar 85.01349527665317 sedangkan \n",
    "- Hasil nilai yang di dapatkan dari perhitungan manual dari setiap rule base adalah 84.071428571\n",
    "\n",
    "Dari kedua perhitungan tersebut memiliki selisih sebesar 0,94206670565317 atau jika di persentase kan sebesar 1,108137834572584%"
   ]
  },
  {
   "cell_type": "markdown",
   "metadata": {},
   "source": [
    "##### Referensi Paper\n",
    "\n",
    "1. [PENILAIAN PRESTASI KINERJA PEGAWAI MENGGUNAKAN FUZZY TSUKOMOTO](http://jtiik.ub.ac.id/index.php/jtiik/article/view/129/pdf)"
   ]
  }
 ],
 "metadata": {
  "kernelspec": {
   "display_name": "Python 3",
   "language": "python",
   "name": "python3"
  },
  "language_info": {
   "codemirror_mode": {
    "name": "ipython",
    "version": 3
   },
   "file_extension": ".py",
   "mimetype": "text/x-python",
   "name": "python",
   "nbconvert_exporter": "python",
   "pygments_lexer": "ipython3",
   "version": "3.6.4"
  }
 },
 "nbformat": 4,
 "nbformat_minor": 2
}
