{
 "cells": [
  {
   "cell_type": "markdown",
   "metadata": {},
   "source": [
    "### Nama : Ahmad Naufal Irfan\n",
    "### Nim    : 09011381722102\n",
    "### Kelas : SK 5 Palembang"
   ]
  },
  {
   "cell_type": "code",
   "execution_count": null,
   "metadata": {},
   "outputs": [],
   "source": []
  },
  {
   "cell_type": "markdown",
   "metadata": {},
   "source": [
    "## PENUNJANG KEPUTUSAN PENENTUAN LULUSAN TERBAIK"
   ]
  },
  {
   "cell_type": "markdown",
   "metadata": {},
   "source": [
    "Lulusan di kampus merupakan aset yang penting karena dapat menjadi kebanggaan untuk kampus.  Lulusan  terbaik  dilihat  berdasarkan  beberapa  kriteria  seperti  IPK  ,  Nilai Absensi  dan Nilai TA .  Dengan  fuzzy  tahani,  hasil  akhir  yang diharapkan  adalah  sebuah  sistem  pendukung  keputusan  yang  dapat  digunakan  untuk menentukan lulusan terbaik. "
   ]
  },
  {
   "cell_type": "code",
   "execution_count": 32,
   "metadata": {},
   "outputs": [],
   "source": [
    "import numpy as np\n",
    "import skfuzzy as fuzz\n",
    "from skfuzzy import control as ctrl\n",
    "import matplotlib.pyplot as plt"
   ]
  },
  {
   "cell_type": "markdown",
   "metadata": {},
   "source": [
    "## FUZZIFIKASI"
   ]
  },
  {
   "cell_type": "markdown",
   "metadata": {},
   "source": [
    "Inputnya :\n",
    "\n",
    " IPK :\n",
    "- Amat Baik (3.5 - 4.0)\n",
    "- Baik (3.0 - 3.5)\n",
    "- Cukup (2.5 - 3.0)\n",
    "\n",
    "\n",
    "Absensi :\n",
    "- Amat baik (85 - 100)\n",
    "- Baik (70 - 85)\n",
    "- Cukup (50 - 70)\n",
    "\n",
    "nilai TA :\n",
    "- Amat baik (85 - 100)\n",
    "- Baik (70 - 85)\n",
    "- Cukup (50 - 70)\n",
    "\n",
    "Outputnya :\n",
    "\n",
    "Lulusan Terbaik dari sebuah universitas :\n",
    "- Cumlaude (3.5 - 4.0)\n",
    "- Sangat Memuaskan (3.0 - 3.5)\n",
    "- Memuaskan (2.5 - 3.0)"
   ]
  },
  {
   "cell_type": "code",
   "execution_count": null,
   "metadata": {},
   "outputs": [],
   "source": []
  },
  {
   "cell_type": "code",
   "execution_count": 33,
   "metadata": {},
   "outputs": [],
   "source": [
    "ipk = ctrl.Antecedent(np.arange(0, 4.5, 0.5), 'ipk')\n",
    "absensi = ctrl.Antecedent(np.arange(0, 100.5, 0.5), 'absensi')\n",
    "nilaita = ctrl.Antecedent(np.arange(0, 100.5, 0.5), 'nilaita')\n",
    "lulusanterbaik = ctrl.Consequent(np.arange(0, 4.5, 0.5), 'lulusanterbaik')"
   ]
  },
  {
   "cell_type": "code",
   "execution_count": 34,
   "metadata": {},
   "outputs": [],
   "source": [
    "ipk_plot = np.arange(0, 4.5, 0.5)\n",
    "absensi_plot = np.arange(0, 100.5, 0.5)\n",
    "nilaita_plot = np.arange(0, 100.5, 0.5)\n",
    "lulusanterbaik_plot = np.arange(0, 4.5, 0.5)"
   ]
  },
  {
   "cell_type": "markdown",
   "metadata": {},
   "source": [
    "## IPK\n",
    "\n",
    "Variabel Inputan : Amatbaik(A), Baik(B), Cukup(C)\n",
    "Dengan fungsi keanggotaan ipk\n",
    "\n",
    "\\begin{equation}\n",
    "  \\mu Cukup(a)=\\begin{cases}\n",
    "    1, & \\text{$ 0 \\leq a\\leq2.5$}.\\\\\n",
    "    (3.0 - a) / ( 0.5 ) , & \\text{$ 2.5 \\leq a \\leq 3.0 $}.\\\\\n",
    "    0, & \\text{$a\\geq 3.0$}.\n",
    "  \\end{cases}\n",
    "  \\\\\n",
    "  \\mu Baik(a)=\\begin{cases}\n",
    "    0, & \\text{$a\\leq 2.5$ atau $a\\geq3.5$}.\\\\\n",
    "    (a - 2.5)/(3.0-2.5) , & \\text{$2.5 \\leq a \\leq 3.0$}.\\\\\n",
    "    (3 - a)/(3.5-3.0) , & \\text{$3.0 \\leq a \\leq 3.5$}.\\\\\n",
    "  \\end{cases}\n",
    "  \\\\\n",
    "    \\mu AmatBaik(a)=\\begin{cases}\n",
    "    0, & \\text{$ 3.0 \\leq a\\leq3.5$}.\\\\\n",
    "    (4.0 - a)/(4.0-3.5) , & \\text{$3.5 \\leq a \\leq 4.0$}.\\\\\n",
    "    1, & \\text{$a\\geq 4$}.\n",
    "  \\end{cases}\n",
    "\\end{equation}\n",
    "\n"
   ]
  },
  {
   "cell_type": "code",
   "execution_count": 35,
   "metadata": {},
   "outputs": [],
   "source": [
    "ipk['C'] = fuzz.trapmf(ipk.universe, [0, 0, 2.5, 3.0])\n",
    "ipk['B'] = fuzz.trimf(ipk.universe, [2.5, 3.0, 3.5])\n",
    "ipk['A'] = fuzz.trapmf(ipk.universe, [3.0, 3.5, 4.0, 4.0])"
   ]
  },
  {
   "cell_type": "markdown",
   "metadata": {},
   "source": [
    "## PLOTTING IPK"
   ]
  },
  {
   "cell_type": "markdown",
   "metadata": {},
   "source": [
    "Dibawah ini adalah plot fungsi keanggotaan dari nilai IPK \"Cukup\""
   ]
  },
  {
   "cell_type": "code",
   "execution_count": null,
   "metadata": {},
   "outputs": [],
   "source": []
  },
  {
   "cell_type": "code",
   "execution_count": 36,
   "metadata": {},
   "outputs": [
    {
     "data": {
      "text/plain": [
       "Text(0.5, 1.0, 'Cukup')"
      ]
     },
     "execution_count": 36,
     "metadata": {},
     "output_type": "execute_result"
    },
    {
     "data": {
      "image/png": "[encoded data removed]",
      "text/plain": [
       "<Figure size 432x432 with 1 Axes>"
      ]
     },
     "metadata": {
      "needs_background": "light"
     },
     "output_type": "display_data"
    }
   ],
   "source": [
    "ipk_C = fuzz.trapmf(ipk_plot, [0, 0, 2.5, 3.0])\n",
    "fig, (ax0) = plt.subplots(nrows=1,figsize=(6,6))\n",
    "ax0.plot(ipk_plot,ipk_C,'red')\n",
    "ax0.set_title('Cukup')"
   ]
  },
  {
   "cell_type": "markdown",
   "metadata": {},
   "source": [
    "Dibawah ini adalah plot fungsi keanggotaan dari nilai IPK \"Baik\""
   ]
  },
  {
   "cell_type": "code",
   "execution_count": 37,
   "metadata": {},
   "outputs": [
    {
     "data": {
      "text/plain": [
       "Text(0.5, 1.0, 'Baik')"
      ]
     },
     "execution_count": 37,
     "metadata": {},
     "output_type": "execute_result"
    },
    {
     "data": {
      "image/png": "[encoded data removed]",
      "text/plain": [
       "<Figure size 432x432 with 1 Axes>"
      ]
     },
     "metadata": {
      "needs_background": "light"
     },
     "output_type": "display_data"
    }
   ],
   "source": [
    "ipk_B = fuzz.trimf(ipk.universe, [2.5, 3.0, 3.5])\n",
    "fig, (ax0) = plt.subplots(nrows=1,figsize=(6,6))\n",
    "ax0.plot(ipk_plot,ipk_B,'blue')\n",
    "ax0.set_title('Baik')"
   ]
  },
  {
   "cell_type": "markdown",
   "metadata": {},
   "source": [
    "Dibawah ini adalah plot fungsi keanggotaan dari nilai IPK \"Amat Baik\""
   ]
  },
  {
   "cell_type": "code",
   "execution_count": 38,
   "metadata": {},
   "outputs": [
    {
     "data": {
      "text/plain": [
       "Text(0.5, 1.0, 'Amat Baik')"
      ]
     },
     "execution_count": 38,
     "metadata": {},
     "output_type": "execute_result"
    },
    {
     "data": {
      "image/png": "[encoded data removed]",
      "text/plain": [
       "<Figure size 432x432 with 1 Axes>"
      ]
     },
     "metadata": {
      "needs_background": "light"
     },
     "output_type": "display_data"
    }
   ],
   "source": [
    "ipk_A = fuzz.trapmf(ipk.universe, [3.0, 3.5, 4.0, 4.0])\n",
    "fig, (ax0) = plt.subplots(nrows=1,figsize=(6,6))\n",
    "ax0.plot(ipk_plot,ipk_A,'purple')\n",
    "ax0.set_title('Amat Baik')"
   ]
  },
  {
   "cell_type": "markdown",
   "metadata": {},
   "source": [
    "Dibawah adalah plot gabungan dari ketiga fungsi keanggotaan IPK diatas"
   ]
  },
  {
   "cell_type": "code",
   "execution_count": 39,
   "metadata": {
    "scrolled": false
   },
   "outputs": [
    {
     "data": {
      "image/png": "[encoded data removed]",
      "text/plain": [
       "<Figure size 432x288 with 1 Axes>"
      ]
     },
     "metadata": {
      "needs_background": "light"
     },
     "output_type": "display_data"
    }
   ],
   "source": [
    "ipk.view()"
   ]
  },
  {
   "cell_type": "markdown",
   "metadata": {},
   "source": [
    "Grafik fungsi keanggotaan IPK: Garis biru menandakan bahwa nilai IPKnya Cukup 2.5 , Garis oren menandakan bahwa nilai IPKnya Baik 3.5 , Garis hijau menandakan bahwa nilai IPKnya Amat Baik 4.0\n",
    "\n",
    "\n"
   ]
  },
  {
   "cell_type": "markdown",
   "metadata": {},
   "source": [
    "## Absensi\n",
    "\n",
    "Variabel Inputan : Amat Baik(A), Baik(B), Cukup(C)\n",
    "Dengan fungsi keanggotaan Absensi\n",
    "\n",
    "\\begin{equation}\n",
    "  \\mu Cukup(a)=\\begin{cases}\n",
    "    1, & \\text{$ 0 \\leq a\\leq50$}.\\\\\n",
    "    (70 - a) / ( 70-50 ) , & \\text{$ 50 \\leq a \\leq 70 $}.\\\\\n",
    "    0, & \\text{$a\\geq 70$}.\n",
    "  \\end{cases}\n",
    "  \\\\\n",
    "  \\mu Baik(a)=\\begin{cases}\n",
    "    0, & \\text{$a\\leq 50$ atau $a\\geq85$}.\\\\\n",
    "    (a - 50)/(70-50) , & \\text{$50 \\leq a \\leq 70$}.\\\\\n",
    "    (70 - a)/(85-70) , & \\text{$70 \\leq a \\leq 85$}.\\\\\n",
    "  \\end{cases}\n",
    "  \\\\\n",
    "    \\mu AmatBaik(a)=\\begin{cases}\n",
    "    0, & \\text{$ 70 \\leq a\\leq85$}.\\\\\n",
    "    (100 - a)/(100-85) , & \\text{$85 \\leq a \\leq 100$}.\\\\\n",
    "    1, & \\text{$a\\geq 100$}.\n",
    "  \\end{cases}\n",
    "\\end{equation}"
   ]
  },
  {
   "cell_type": "code",
   "execution_count": 40,
   "metadata": {},
   "outputs": [],
   "source": [
    "absensi['C'] = fuzz.trapmf(absensi.universe, [0, 0, 50, 70])\n",
    "absensi['B'] = fuzz.trimf(absensi.universe, [50, 70, 85])\n",
    "absensi['A'] = fuzz.trapmf(absensi.universe, [70, 85, 100, 100])"
   ]
  },
  {
   "cell_type": "markdown",
   "metadata": {},
   "source": [
    "## PLOTTING ABSENSI"
   ]
  },
  {
   "cell_type": "markdown",
   "metadata": {},
   "source": [
    "Dibawah ini adalah plot fungsi keanggotaan dari nilai Absensi \"Cukup\""
   ]
  },
  {
   "cell_type": "code",
   "execution_count": 41,
   "metadata": {},
   "outputs": [
    {
     "data": {
      "text/plain": [
       "Text(0.5, 1.0, 'Cukup')"
      ]
     },
     "execution_count": 41,
     "metadata": {},
     "output_type": "execute_result"
    },
    {
     "data": {
      "image/png": "[encoded data removed]",
      "text/plain": [
       "<Figure size 432x432 with 1 Axes>"
      ]
     },
     "metadata": {
      "needs_background": "light"
     },
     "output_type": "display_data"
    }
   ],
   "source": [
    "absensi_C = fuzz.trapmf(absensi.universe, [0, 0, 50, 70])\n",
    "fig, (ax0) = plt.subplots(nrows=1,figsize=(6,6))\n",
    "ax0.plot(absensi_plot,absensi_C,'red')\n",
    "ax0.set_title('Cukup')"
   ]
  },
  {
   "cell_type": "markdown",
   "metadata": {},
   "source": [
    "Dibawah ini adalah plot fungsi keanggotaan dari nilai Absensi \"Baik\""
   ]
  },
  {
   "cell_type": "code",
   "execution_count": 42,
   "metadata": {},
   "outputs": [
    {
     "data": {
      "text/plain": [
       "Text(0.5, 1.0, 'Baik')"
      ]
     },
     "execution_count": 42,
     "metadata": {},
     "output_type": "execute_result"
    },
    {
     "data": {
      "image/png": "[encoded data removed]",
      "text/plain": [
       "<Figure size 432x432 with 1 Axes>"
      ]
     },
     "metadata": {
      "needs_background": "light"
     },
     "output_type": "display_data"
    }
   ],
   "source": [
    "absensi_B = fuzz.trimf(absensi.universe, [50, 70, 85])\n",
    "fig, (ax0) = plt.subplots(nrows=1,figsize=(6,6))\n",
    "ax0.plot(absensi_plot,absensi_B,'blue')\n",
    "ax0.set_title('Baik')"
   ]
  },
  {
   "cell_type": "markdown",
   "metadata": {},
   "source": [
    "Dibawah ini adalah plot fungsi keanggotaan dari nilai Absensi \"Amat Baik\""
   ]
  },
  {
   "cell_type": "code",
   "execution_count": 43,
   "metadata": {},
   "outputs": [
    {
     "data": {
      "text/plain": [
       "Text(0.5, 1.0, 'Amat Baik')"
      ]
     },
     "execution_count": 43,
     "metadata": {},
     "output_type": "execute_result"
    },
    {
     "data": {
      "image/png": "[encoded data removed]",
      "text/plain": [
       "<Figure size 432x432 with 1 Axes>"
      ]
     },
     "metadata": {
      "needs_background": "light"
     },
     "output_type": "display_data"
    }
   ],
   "source": [
    "absensi_A = fuzz.trapmf(absensi.universe, [70, 85, 100, 100])\n",
    "fig, (ax0) = plt.subplots(nrows=1,figsize=(6,6))\n",
    "ax0.plot(absensi_plot,absensi_A,'purple')\n",
    "ax0.set_title('Amat Baik')"
   ]
  },
  {
   "cell_type": "markdown",
   "metadata": {},
   "source": [
    "Dibawah adalah plot gabungan dari ketiga fungsi keanggotaan Absensi diatas"
   ]
  },
  {
   "cell_type": "code",
   "execution_count": 44,
   "metadata": {
    "scrolled": true
   },
   "outputs": [
    {
     "data": {
      "image/png": "[encoded data removed]",
      "text/plain": [
       "<Figure size 432x288 with 1 Axes>"
      ]
     },
     "metadata": {
      "needs_background": "light"
     },
     "output_type": "display_data"
    }
   ],
   "source": [
    "absensi.view()"
   ]
  },
  {
   "cell_type": "markdown",
   "metadata": {},
   "source": [
    "Grafik fungsi keanggotaan Absensi: Garis biru menandakan bahwa nilai Absensinya C (55) , Garis oren menandakan bahwa nilai Absensinya\n",
    "B (75) , Garis hijau menandakan bahwa nilai Absensinya A (100)"
   ]
  },
  {
   "cell_type": "markdown",
   "metadata": {},
   "source": [
    "## Nilai TA\n",
    "\n",
    "Variabel Inputan : Amat Baik(A), Baik(B), Cukup(C)\n",
    "Dengan fungsi keanggotaan Absensi\n",
    "\n",
    "\\begin{equation}\n",
    "  \\mu Cukup(a)=\\begin{cases}\n",
    "    1, & \\text{$ 0 \\leq a\\leq50$}.\\\\\n",
    "    (70 - a) / ( 70-50 ) , & \\text{$ 50 \\leq a \\leq 70 $}.\\\\\n",
    "    0, & \\text{$a\\geq 70$}.\n",
    "  \\end{cases}\n",
    "  \\\\\n",
    "  \\mu Baik(a)=\\begin{cases}\n",
    "    0, & \\text{$a\\leq 50$ atau $a\\geq85$}.\\\\\n",
    "    (a - 50)/(70-50) , & \\text{$50 \\leq a \\leq 70$}.\\\\\n",
    "    (70 - a)/(85-70) , & \\text{$70 \\leq a \\leq 85$}.\\\\\n",
    "  \\end{cases}\n",
    "  \\\\\n",
    "    \\mu AmatBaik(a)=\\begin{cases}\n",
    "    0, & \\text{$ 70 \\leq a\\leq85$}.\\\\\n",
    "    (100 - a)/(100-85) , & \\text{$85 \\leq a \\leq 100$}.\\\\\n",
    "    1, & \\text{$a\\geq 100$}.\n",
    "  \\end{cases}\n",
    "\\end{equation}"
   ]
  },
  {
   "cell_type": "code",
   "execution_count": 45,
   "metadata": {},
   "outputs": [],
   "source": [
    "nilaita['C'] = fuzz.trapmf(nilaita.universe, [0, 0, 55, 75])\n",
    "nilaita['B'] = fuzz.trimf(nilaita.universe, [55, 75, 85])\n",
    "nilaita['A'] = fuzz.trapmf(nilaita.universe, [75, 85, 100, 100])"
   ]
  },
  {
   "cell_type": "markdown",
   "metadata": {},
   "source": [
    "## PLOTTING NILAI TA"
   ]
  },
  {
   "cell_type": "markdown",
   "metadata": {},
   "source": [
    "Dibawah ini adalah plot fungsi keanggotaan dari nilai TA \"Cukup\""
   ]
  },
  {
   "cell_type": "code",
   "execution_count": 46,
   "metadata": {},
   "outputs": [
    {
     "data": {
      "text/plain": [
       "Text(0.5, 1.0, 'Cukup')"
      ]
     },
     "execution_count": 46,
     "metadata": {},
     "output_type": "execute_result"
    },
    {
     "data": {
      "image/png": "[encoded data removed]",
      "text/plain": [
       "<Figure size 432x432 with 1 Axes>"
      ]
     },
     "metadata": {
      "needs_background": "light"
     },
     "output_type": "display_data"
    }
   ],
   "source": [
    "nilaita_C = fuzz.trapmf(absensi.universe, [0, 0, 55, 75])\n",
    "fig, (ax0) = plt.subplots(nrows=1,figsize=(6,6))\n",
    "ax0.plot(nilaita_plot,nilaita_C,'red')\n",
    "ax0.set_title('Cukup')"
   ]
  },
  {
   "cell_type": "markdown",
   "metadata": {},
   "source": [
    "Dibawah ini adalah plot fungsi keanggotaan dari nilai TA \"Baik\""
   ]
  },
  {
   "cell_type": "code",
   "execution_count": 47,
   "metadata": {},
   "outputs": [
    {
     "data": {
      "text/plain": [
       "Text(0.5, 1.0, 'Baik')"
      ]
     },
     "execution_count": 47,
     "metadata": {},
     "output_type": "execute_result"
    },
    {
     "data": {
      "image/png": "[encoded data removed]",
      "text/plain": [
       "<Figure size 432x432 with 1 Axes>"
      ]
     },
     "metadata": {
      "needs_background": "light"
     },
     "output_type": "display_data"
    }
   ],
   "source": [
    "nilaita_B= fuzz.trimf(nilaita.universe, [55, 75, 85])\n",
    "fig, (ax0) = plt.subplots(nrows=1,figsize=(6,6))\n",
    "ax0.plot(nilaita_plot,nilaita_B,'blue')\n",
    "ax0.set_title('Baik')"
   ]
  },
  {
   "cell_type": "markdown",
   "metadata": {},
   "source": [
    "Dibawah ini adalah plot fungsi keanggotaan dari nilai TA \"Amat Baik\""
   ]
  },
  {
   "cell_type": "code",
   "execution_count": 48,
   "metadata": {},
   "outputs": [
    {
     "data": {
      "text/plain": [
       "Text(0.5, 1.0, 'Amat Baik')"
      ]
     },
     "execution_count": 48,
     "metadata": {},
     "output_type": "execute_result"
    },
    {
     "data": {
      "image/png": "[encoded data removed]",
      "text/plain": [
       "<Figure size 432x432 with 1 Axes>"
      ]
     },
     "metadata": {
      "needs_background": "light"
     },
     "output_type": "display_data"
    }
   ],
   "source": [
    "nilaita_A = fuzz.trapmf(nilaita.universe, [75, 85, 100, 100])\n",
    "fig, (ax0) = plt.subplots(nrows=1,figsize=(6,6))\n",
    "ax0.plot(nilaita_plot,nilaita_A,'PURPLE')\n",
    "ax0.set_title('Amat Baik')"
   ]
  },
  {
   "cell_type": "markdown",
   "metadata": {},
   "source": [
    "Dibawah adalah plot gabungan dari ketiga fungsi keanggotaan Nilai TA diatas"
   ]
  },
  {
   "cell_type": "code",
   "execution_count": 49,
   "metadata": {
    "scrolled": true
   },
   "outputs": [
    {
     "data": {
      "image/png": "[encoded data removed]",
      "text/plain": [
       "<Figure size 432x288 with 1 Axes>"
      ]
     },
     "metadata": {
      "needs_background": "light"
     },
     "output_type": "display_data"
    }
   ],
   "source": [
    "nilaita.view()"
   ]
  },
  {
   "cell_type": "markdown",
   "metadata": {},
   "source": [
    "Grafik fungsi keanggotaan Nilai TA: Garis biru menandakan bahwa nilai TAnya C (55 - 75) , Garis oren menandakan bahwa nilai TAnya\n",
    "B (75 - 85) , Garis hijau menandakan bahwa nilai TAnya A (85 - 100)"
   ]
  },
  {
   "cell_type": "markdown",
   "metadata": {},
   "source": [
    "## Lulusan Terbaik"
   ]
  },
  {
   "cell_type": "markdown",
   "metadata": {},
   "source": [
    "Variabel Inputan : Cumlaude, Sangat Memuaskan, Memuaskan\n",
    "Dengan fungsi keanggotaan lulusan terbaik\n",
    "\n",
    "\\begin{equation}\n",
    "  \\mu Memuaskan(a)=\\begin{cases}\n",
    "    1, & \\text{$ 0 \\leq a\\leq2.8$}.\\\\\n",
    "    (3.0 - a) / ( 3.0-2.8 ) , & \\text{$ 2.8 \\leq a \\leq 3.0 $}.\\\\\n",
    "    0, & \\text{$a\\geq 3.0$}.\n",
    "  \\end{cases}\n",
    "  \\\\\n",
    "  \\mu Sangat memuaskan(a)=\\begin{cases}\n",
    "    0, & \\text{$a\\leq 2.8$ atau $a\\geq3.5$}.\\\\\n",
    "    (a - 2.8)/(3.0-2.8) , & \\text{$2.8 \\leq a \\leq 3.0$}.\\\\\n",
    "    (3.5 - a)/(3.5-3.0) , & \\text{$3.0 \\leq a \\leq 3.5$}.\\\\\n",
    "  \\end{cases}\n",
    "  \\\\\n",
    "    \\mu Cumlaude(a)=\\begin{cases}\n",
    "    0, & \\text{$ 3.0 \\leq a\\leq3.5$}.\\\\\n",
    "    (4.0 - a)/(4.0-3.5) , & \\text{$3.5 \\leq a \\leq 4.0$}.\\\\\n",
    "    1, & \\text{$a\\geq 4$}.\n",
    "  \\end{cases}\n",
    "\\end{equation}"
   ]
  },
  {
   "cell_type": "code",
   "execution_count": 50,
   "metadata": {},
   "outputs": [],
   "source": [
    "lulusanterbaik ['memuaskan'] = fuzz.trapmf(lulusanterbaik.universe, [0, 0, 2.8, 3.0])\n",
    "lulusanterbaik ['sangatmemuaskan'] = fuzz.trimf(lulusanterbaik.universe, [2.8, 3.0, 3.5])\n",
    "lulusanterbaik ['cumlaude'] = fuzz.trapmf(lulusanterbaik.universe, [3.0, 3.5, 4.0, 4.0])"
   ]
  },
  {
   "cell_type": "code",
   "execution_count": 51,
   "metadata": {},
   "outputs": [
    {
     "data": {
      "image/png": "[encoded data removed]",
      "text/plain": [
       "<Figure size 432x288 with 1 Axes>"
      ]
     },
     "metadata": {
      "needs_background": "light"
     },
     "output_type": "display_data"
    }
   ],
   "source": [
    "lulusanterbaik.view()"
   ]
  },
  {
   "cell_type": "markdown",
   "metadata": {},
   "source": [
    "# INTERFERENCING"
   ]
  },
  {
   "cell_type": "markdown",
   "metadata": {},
   "source": [
    "Aturan fuzzy pada tahap interferencing dinyatakan dalam bentuk IF... THEN...\n",
    "\n",
    "jumlah fuzzifikasi dari nilai IPK, absensi, dan nilai TA ini berjumlah 27 Rule\n",
    "\n",
    "1. IF ipk A absensi A nilai ta A THEN lulusan terbaik CUMLAUDE\n",
    "2. IF ipk A absensi A nilai ta B THEN lulusan terbaik CUMLAUDE\n",
    "3. IF ipk A absensi A nilai ta C THEN lulusan terbaik SANGAT MEMUASKAN\n",
    "4. IF ipk A absensi B nilai ta A THEN lulusan terbaik CUMLAUDE\n",
    "5. IF ipk A absensi B nilai ta B THEN lulusan terbaik CUMLAUDE\n",
    "6. IF ipk A absensi B nilai ta C THEN lulusan terbaik SANGAT MEMUASKAN\n",
    "7. IF ipk A absensi C nilai ta A THEN lulusan terbaik SANGAT MEMUASKAN\n",
    "8. IF ipk A absensi C nilai ta B THEN lulusan terbaik SANGAT MEMUASKAN\n",
    "9. IF ipk A absensi C nilai ta C THEN lulusan terbaik MEMUASKAN\n",
    "10. IF ipk B absensi A nilai ta A THEN lulusan terbaik CUMLAUDE\n",
    "11. IF ipk B absensi A nilai ta B THEN lulusan terbaik CUMLAUDE\n",
    "12. IF ipk B absensi A nilai ta C THEN lulusan terbaik SANGAT MEMUASKAN\n",
    "13. IF ipk B absensi B nilai ta A THEN lulusan terbaik CUMLAUDE\n",
    "14. IF ipk B absensi B nilai ta B THEN lulusan terbaik SANGAT MEMUASKAN\n",
    "15. IF ipk B absensi B nilai ta C THEN lulusan terbaik MEMUASKAN\n",
    "16. IF ipk B absensi C nilai ta A THEN lulusan terbaik SANGAT MEMUASKAN\n",
    "17. IF ipk B absensi C nilai ta B THEN lulusan terbaik MEMUASKAN\n",
    "18. IF ipk B absensi C nilai ta C THEN lulusan terbaik MEMUASKAN\n",
    "19. IF ipk C absensi A nilai ta A THEN lulusan terbaik SANGAT MEMUASKAN\n",
    "20. IF ipk C absensi A nilai ta B THEN lulusan terbaik SANGAT MEMUASKAN\n",
    "21. IF ipk C absensi A nilai ta C THEN lulusan terbaik MEMUASKAN\n",
    "22. IF ipk C absensi B nilai ta A THEN lulusan terbaik SANGAT MEMUASKAN\n",
    "23. IF ipk C absensi B nilai ta B THEN lulusan terbaik MEMUASKAN\n",
    "24. IF ipk C absensi B nilai ta C THEN lulusan terbaik MEMUASKAN\n",
    "25. IF ipk C absensi C nilai ta A THEN lulusan terbaik MEMUASKAN\n",
    "26. IF ipk C absensi C nilai ta B THEN lulusan terbaik MEMUASKAN\n",
    "27. IF ipk C absensi C nilai ta C THEN lulusan terbaik MEMUASKAN"
   ]
  },
  {
   "cell_type": "code",
   "execution_count": 52,
   "metadata": {},
   "outputs": [],
   "source": [
    "rule1 = ctrl.Rule(ipk['A'] & absensi['A'] & nilaita['A'], lulusanterbaik['cumlaude'])\n",
    "rule2 = ctrl.Rule(ipk['A'] & absensi['A'] & nilaita['B'], lulusanterbaik['cumlaude'])\n",
    "rule3 = ctrl.Rule(ipk['A'] & absensi['A'] & nilaita['C'], lulusanterbaik['sangatmemuaskan'])\n",
    "rule4 = ctrl.Rule(ipk['A'] & absensi['B'] & nilaita['A'], lulusanterbaik['cumlaude'])\n",
    "rule5 = ctrl.Rule(ipk['A'] & absensi['B'] & nilaita['B'], lulusanterbaik['cumlaude'])\n",
    "\n",
    "rule6 = ctrl.Rule(ipk['A'] & absensi['B'] & nilaita['C'], lulusanterbaik['sangatmemuaskan'])\n",
    "rule7 = ctrl.Rule(ipk['A'] & absensi['C'] & nilaita['A'], lulusanterbaik['sangatmemuaskan'])\n",
    "rule8 = ctrl.Rule(ipk['A'] & absensi['C'] & nilaita['B'], lulusanterbaik['sangatmemuaskan'])\n",
    "rule9 = ctrl.Rule(ipk['A'] & absensi['C'] & nilaita['C'], lulusanterbaik['memuaskan'])\n",
    "rule10 = ctrl.Rule(ipk['B'] & absensi['A'] & nilaita['A'], lulusanterbaik['cumlaude'])\n",
    "\n",
    "rule11 = ctrl.Rule(ipk['B'] & absensi['A'] & nilaita['B'], lulusanterbaik['cumlaude'])\n",
    "rule12 = ctrl.Rule(ipk['B'] & absensi['A'] & nilaita['C'], lulusanterbaik['sangatmemuaskan'])\n",
    "rule13 = ctrl.Rule(ipk['B'] & absensi['B'] & nilaita['A'], lulusanterbaik['cumlaude'])\n",
    "rule14 = ctrl.Rule(ipk['B'] & absensi['B'] & nilaita['B'], lulusanterbaik['sangatmemuaskan'])\n",
    "rule15 = ctrl.Rule(ipk['B'] & absensi['B'] & nilaita['C'], lulusanterbaik['memuaskan'])\n",
    "\n",
    "rule16 = ctrl.Rule(ipk['B'] & absensi['C'] & nilaita['A'], lulusanterbaik['sangatmemuaskan'])\n",
    "rule17 = ctrl.Rule(ipk['B'] & absensi['C'] & nilaita['B'], lulusanterbaik['memuaskan'])\n",
    "rule18 = ctrl.Rule(ipk['B'] & absensi['C'] & nilaita['C'], lulusanterbaik['memuaskan'])\n",
    "rule19 = ctrl.Rule(ipk['C'] & absensi['A'] & nilaita['A'], lulusanterbaik['sangatmemuaskan'])\n",
    "rule20 = ctrl.Rule(ipk['C'] & absensi['A'] & nilaita['B'], lulusanterbaik['sangatmemuaskan'])\n",
    "\n",
    "rule21 = ctrl.Rule(ipk['C'] & absensi['A'] & nilaita['C'], lulusanterbaik['memuaskan'])\n",
    "rule22 = ctrl.Rule(ipk['C'] & absensi['B'] & nilaita['A'], lulusanterbaik['sangatmemuaskan'])\n",
    "rule23 = ctrl.Rule(ipk['C'] & absensi['B'] & nilaita['B'], lulusanterbaik['memuaskan'])\n",
    "rule24 = ctrl.Rule(ipk['C'] & absensi['B'] & nilaita['C'], lulusanterbaik['memuaskan'])\n",
    "rule25 = ctrl.Rule(ipk['C'] & absensi['C'] & nilaita['A'], lulusanterbaik['memuaskan'])\n",
    "\n",
    "rule26 = ctrl.Rule(ipk['C'] & absensi['C'] & nilaita['B'], lulusanterbaik['memuaskan'])\n",
    "rule27 = ctrl.Rule(ipk['C'] & absensi['C'] & nilaita['C'], lulusanterbaik['memuaskan'])"
   ]
  },
  {
   "cell_type": "markdown",
   "metadata": {},
   "source": [
    "## RULE EVALUATION"
   ]
  },
  {
   "cell_type": "code",
   "execution_count": 53,
   "metadata": {},
   "outputs": [],
   "source": [
    "brake_ctrl = ctrl.ControlSystem(\n",
    "[rule1, rule2, rule3, rule4, rule5, rule6, rule7, rule8, rule9, rule10, rule11, rule12, rule13, rule14, rule15, rule16, rule17, rule18, rule19, rule20, rule21, rule22, rule23, rule24, rule25, rule26, rule27])"
   ]
  },
  {
   "cell_type": "markdown",
   "metadata": {},
   "source": [
    "### Defuzzifikasi"
   ]
  },
  {
   "cell_type": "code",
   "execution_count": 54,
   "metadata": {},
   "outputs": [
    {
     "name": "stdout",
     "output_type": "stream",
     "text": [
      "3.3542446941323343\n"
     ]
    },
    {
     "data": {
      "image/png": "[encoded data removed]",
      "text/plain": [
       "<Figure size 432x288 with 1 Axes>"
      ]
     },
     "metadata": {
      "needs_background": "light"
     },
     "output_type": "display_data"
    }
   ],
   "source": [
    "braking = ctrl.ControlSystemSimulation(brake_ctrl)\n",
    "\n",
    "braking.input['ipk'] = 3.1\n",
    "braking.input['absensi'] = 80\n",
    "braking.input['nilaita'] = 80\n",
    "\n",
    "braking.compute()\n",
    "\n",
    "print(braking.output['lulusanterbaik'])\n",
    "\n",
    "lulusanterbaik.view(sim=braking)\n",
    "\n",
    "plt.show()"
   ]
  },
  {
   "cell_type": "markdown",
   "metadata": {},
   "source": [
    "## PERHITUNGAN MANUAL"
   ]
  },
  {
   "cell_type": "markdown",
   "metadata": {},
   "source": [
    "$$ ipk= 3.1 $$\n",
    "\\begin{equation}\n",
    "  \\mu Cukup(a)=\\begin{cases}\n",
    "    1, & \\text{$ 0 \\leq a\\leq2.5$}.\\\\\n",
    "    (3.0 - a) / ( 3.0-2.5 ) , & \\text{$ 2.5 \\leq a \\leq 3.0 $}.\\\\\n",
    "    0, & \\text{$a\\geq 3.0$}.\\checkmark\\\\\n",
    "  \\end{cases}\n",
    "  \\\\\n",
    "  \\mu Baik(a)=\\begin{cases}\n",
    "    0, & \\text{$a\\leq 2.5$ atau $a\\geq3.5$}.\\\\\n",
    "    (a - 2.5)/(3.0-2.5) , & \\text{$2.5 \\leq a \\leq 3.0$}.\\\\    (3.5 - a)/(3.5-3.0) , & \\text{$3.0 \\leq a \\leq 3.5$}.\\checkmark\\\\\n",
    "  \\end{cases}\n",
    "  \\\\\n",
    "    \\mu AmatBaik(a)=\\begin{cases}\n",
    "    0, & \\text{$ a\\leq3.5$}.\\checkmark\\\\\n",
    "    (4.0 - a)/(4.0-3.5) , & \\text{$3.5 \\leq a \\leq 4.0$}.\\\\\n",
    "    1, & \\text{$a\\geq 4.0$}.\n",
    "  \\end{cases}\n",
    "\\end{equation}"
   ]
  },
  {
   "cell_type": "markdown",
   "metadata": {},
   "source": [
    "\\begin{equation}\n",
    "    \\mu Baik(3.1) = (3.5 - 3.1) / (3.5-3.1) \\\\\n",
    "    \\mu Baik(3.1) = 0.4/0.5 \\\\\n",
    "    \\mu Baik(3.1) = 0.8 \\\\\n",
    "\\end{equation}"
   ]
  },
  {
   "cell_type": "markdown",
   "metadata": {},
   "source": [
    "$$ absensi=80 $$\n",
    "\\begin{equation}\n",
    "  \\mu Cukup(a)=\\begin{cases}\n",
    "    1, & \\text{$ 0 \\leq a\\leq50$}.\\\\\n",
    "    (70 - a) / ( 70-50 ) , & \\text{$ 50 \\leq a \\leq 70 $}.\\\\\n",
    "    0, & \\text{$a\\geq 70$}.\\checkmark\\\\\n",
    "  \\end{cases}\n",
    "  \\\\\n",
    "  \\mu Baik(a)=\\begin{cases}\n",
    "    0, & \\text{$a\\leq 50$ atau $a\\geq70$}.\\\\\n",
    "    (a - 50)/(70-50) , & \\text{$50 \\leq a \\leq 70$}.\\\\\n",
    "    (85 - a)/(85-70) , & \\text{$70 \\leq a \\leq 85$}.\\checkmark\\\\\n",
    "  \\end{cases}\n",
    "  \\\\\n",
    "    \\mu AmatBaik(a)=\\begin{cases}\n",
    "    0, & \\text{$ a\\leq85$}.\\checkmark\\\\\n",
    "    (100 - a)/(100-85) , & \\text{$85 \\leq a \\leq 100$}.\\\\\n",
    "    1, & \\text{$a\\geq 100$}.\n",
    "  \\end{cases}\n",
    "\\end{equation}"
   ]
  },
  {
   "cell_type": "markdown",
   "metadata": {},
   "source": [
    "\\begin{equation}\n",
    "    \\mu Baik(80) = (85 - 80) / (85-100) \\\\\n",
    "    \\mu Baik(80) = 5/15 \\\\\n",
    "    \\mu Baik(80) = 0.3 \\\\\n",
    "\\end{equation}"
   ]
  },
  {
   "cell_type": "markdown",
   "metadata": {},
   "source": [
    "$$ nilaita=80 $$\n",
    "\\begin{equation}\n",
    "  \\mu Cukup(a)=\\begin{cases}\n",
    "    1, & \\text{$ 0 \\leq a\\leq50$}.\\\\\n",
    "    (70 - a) / ( 70-50 ) , & \\text{$ 50 \\leq a \\leq 70 $}.\\\\\n",
    "    0, & \\text{$a\\geq 70$}. \\checkmark\\\\\n",
    "  \\end{cases}\n",
    "  \\\\\n",
    "  \\mu Baik(a)=\\begin{cases}\n",
    "    0, & \\text{$a\\leq 50$ atau $a\\geq85$}.\\\\\n",
    "    (a - 50)/(70-50) , & \\text{$50 \\leq a \\leq 70$}.\\\\\n",
    "    (85 - a)/(85-70) , & \\text{$70 \\leq a \\leq 85$}.\\checkmark\\\\\n",
    "  \\end{cases}\n",
    "  \\\\\n",
    "    \\mu AmatBaik(a)=\\begin{cases}\n",
    "    0, & \\text{$ a\\leq85$}.\\checkmark\\\\\n",
    "    (100 - a)/(100-85) , & \\text{$85 \\leq a \\leq 100$}.\\\\\n",
    "    1, & \\text{$a\\geq 100$}.\n",
    "  \\end{cases}\n",
    "\\end{equation}"
   ]
  },
  {
   "cell_type": "markdown",
   "metadata": {},
   "source": [
    "\\begin{equation}\n",
    "    \\mu Baik(80) = (85 - 80) / (85-100) \\\\\n",
    "    \\mu Baik(80) = 5/15 \\\\\n",
    "    \\mu Baik(80) = 0.3 \\\\\n",
    "\\end{equation}"
   ]
  },
  {
   "cell_type": "markdown",
   "metadata": {},
   "source": [
    "Lalu kita cari nilai z untuk setiap aturan dengan menggunakan fungsi MIN karena menggunakan rule AND\n",
    "\n",
    "1 IF ipk A AND absensi A AND Nilai TA A THEN Lulusan terbaik CUMLAUDE\n",
    "\n",
    "$$ \\\\ \\alpha(predikat_1) = \\mu IPK \\cap \\mu Absensi\\cap \\mu NilaiTA $$\n",
    "$$\\alpha(predikat_1)   = min (\\mu IPK[3.1], \\mu Absensi[80], \\mu NilaiTA [80]) $$\n",
    "$$ \\alpha(predikat_1) = min (0; 0; 0) $$\n",
    "$$ \\alpha(predikat_1) = 0 $$\n",
    "\n",
    "Lalu lihat himpunan lulusan terbaik \n",
    "$$\n",
    "   \\ Cumlaude(a)=\\begin{cases}\n",
    "    0, & \\text{$ 3.0 \\leq a\\leq3.5$}.\\\\\n",
    "    (4.0 - a)/(4.0-3.5) , & \\text{$3.5 \\leq a \\leq 4.0$}.\\\\\n",
    "    1, & \\text{$a\\geq 4$}.\n",
    "  \\end{cases}\n",
    " $$\n",
    "Maka nilai $ Z_1 = 0 $"
   ]
  },
  {
   "cell_type": "markdown",
   "metadata": {},
   "source": [
    "-----------------------------------------------------------------------------"
   ]
  },
  {
   "cell_type": "markdown",
   "metadata": {},
   "source": [
    "2. IF ipk A AND absensi A AND Nilai TA B THEN Lulusan terbaik CUMLAUDE\n",
    "\n",
    "$$ \\\\ \\alpha(predikat_2) = \\mu IPK \\cap \\mu Absensi\\cap \\mu NilaiTA $$\n",
    "$$\\alpha(predikat_2)   = min (\\mu IPK[3.1], \\mu Absensi[80], \\mu NilaiTA [80]) $$\n",
    "$$ \\alpha(predikat_2) = min (0; 0; 0.3) $$\n",
    "$$ \\alpha(predikat_2) = 0 $$\n",
    "\n",
    "Lalu lihat himpunan lulusan terbaik \n",
    "$$\n",
    "   \\ Cumlaude(a)=\\begin{cases}\n",
    "    0, & \\text{$ 3.0 \\leq a\\leq3.5$}.\\\\\n",
    "    (4.0 - a)/(4.0-3.5) , & \\text{$3.5 \\leq a \\leq 4.0$}.\\\\\n",
    "    1, & \\text{$a\\geq 4$}.\n",
    "  \\end{cases}\n",
    " $$\n",
    "Maka nilai $ Z_2 = 0 $"
   ]
  },
  {
   "cell_type": "markdown",
   "metadata": {},
   "source": [
    "3. IF ipk A AND absensi A AND Nilai TA C THEN Lulusan terbaik SANGAT MEMUASKAN\n",
    "\n",
    "$$ \\\\ \\alpha(predikat_3) = \\mu IPK \\cap \\mu Absensi\\cap \\mu NilaiTA $$\n",
    "$$\\alpha(predikat_3)   = min (\\mu IPK[2.7], \\mu Absensi[80], \\mu NilaiTA [80]) $$\n",
    "$$ \\alpha(predikat_3) = min (0; 0; 0) $$\n",
    "$$ \\alpha(predikat_3) = 0 $$\n",
    "\n",
    "Lalu lihat himpunan lulusan terbaik \n",
    "$$\n",
    "   \\ Sangat memuaskan(a)=\\begin{cases}\n",
    "    0, & \\text{$a\\leq 2.8$ atau $a\\geq3.5$}.\\\\\n",
    "    (a - 2.8)/(3.0-2.8) , & \\text{$2.8 \\leq a \\leq 3.0$}.\\\\\n",
    "    (3.5 - a)/(3.5-3.0) , & \\text{$3.0 \\leq a \\leq 3.5$}.\\\\\n",
    "  \\end{cases}\n",
    " $$\n",
    "Maka nilai $ Z_3 = 0 $"
   ]
  },
  {
   "cell_type": "markdown",
   "metadata": {},
   "source": [
    "4. IF ipk A AND absensi B AND Nilai TA A THEN Lulusan terbaik CUMLAUDE\n",
    "\n",
    "$$ \\\\ \\alpha(predikat_4) = \\mu IPK \\cap \\mu Absensi\\cap \\mu NilaiTA $$\n",
    "$$\\alpha(predikat_4)   = min (\\mu IPK[3.1], \\mu Absensi[80], \\mu NilaiTA [80]) $$\n",
    "$$ \\alpha(predikat_4) = min (0; 0.3; 0) $$\n",
    "$$ \\alpha(predikat_4) = 0 $$\n",
    "\n",
    "Lalu lihat himpunan lulusan terbaik \n",
    "$$\n",
    "   \\ Cumlaude(a)=\\begin{cases}\n",
    "    0, & \\text{$ 3.0 \\leq a\\leq3.5$}.\\\\\n",
    "    (4.0 - a)/(4.0-3.5) , & \\text{$3.5 \\leq a \\leq 4.0$}.\\\\\n",
    "    1, & \\text{$a\\geq 4$}.\n",
    "  \\end{cases}\n",
    " $$\n",
    "Maka nilai $ Z_4 = 0 $"
   ]
  },
  {
   "cell_type": "markdown",
   "metadata": {},
   "source": [
    "5. IF ipk A AND absensi B AND Nilai TA B THEN Lulusan terbaik CUMLAUDE\n",
    "\n",
    "$$ \\\\ \\alpha(predikat_5) = \\mu IPK \\cap \\mu Absensi\\cap \\mu NilaiTA $$\n",
    "$$\\alpha(predikat_5)   = min (\\mu IPK[3.1], \\mu Absensi[80], \\mu NilaiTA [80]) $$\n",
    "$$ \\alpha(predikat_5) = min (0; 0.3; 0.3) $$\n",
    "$$ \\alpha(predikat_5) = 0 $$\n",
    "\n",
    "Lalu lihat himpunan lulusan terbaik \n",
    "$$\n",
    "   \\ Cumlaude(a)=\\begin{cases}\n",
    "    0, & \\text{$ 3.0 \\leq a\\leq3.5$}.\\\\\n",
    "    (4.0 - a)/(4.0-3.5) , & \\text{$3.5 \\leq a \\leq 4.0$}.\\\\\n",
    "    1, & \\text{$a\\geq 4$}.\n",
    "  \\end{cases}\n",
    " $$\n",
    "Maka nilai $ Z_5 = 0 $"
   ]
  },
  {
   "cell_type": "markdown",
   "metadata": {},
   "source": [
    "6. IF ipk A AND absensi B AND Nilai TA C THEN Lulusan terbaik SANGAT MEMUASKAN\n",
    "\n",
    "$$ \\\\ \\alpha(predikat_6) = \\mu IPK \\cap \\mu Absensi\\cap \\mu NilaiTA $$\n",
    "$$\\alpha(predikat_6)   = min (\\mu IPK[3.1], \\mu Absensi[80], \\mu NilaiTA [80]) $$\n",
    "$$ \\alpha(predikat_6) = min (0; 0.3; 0) $$\n",
    "$$ \\alpha(predikat_6) = 0 $$\n",
    "\n",
    "Lalu lihat himpunan lulusan terbaik \n",
    "$$\n",
    "   \\ Sangat memuaskan(a)=\\begin{cases}\n",
    "    0, & \\text{$a\\leq 2.8$ atau $a\\geq3.5$}.\\\\\n",
    "    (a - 2.8)/(3.0-2.8) , & \\text{$2.8 \\leq a \\leq 3.0$}.\\\\\n",
    "    (3.5 - a)/(3.5-3.0) , & \\text{$3.0 \\leq a \\leq 3.5$}.\\\\\n",
    "  \\end{cases}\n",
    " $$\n",
    "Maka nilai $ Z_6 = 0 $"
   ]
  },
  {
   "cell_type": "markdown",
   "metadata": {},
   "source": [
    "7. IF ipk A AND absensi C AND Nilai TA A THEN Lulusan terbaik SANGAT MEMUASKAN\n",
    "\n",
    "$$ \\\\ \\alpha(predikat_7) = \\mu IPK \\cap \\mu Absensi\\cap \\mu NilaiTA $$\n",
    "$$\\alpha(predikat_7)   = min (\\mu IPK[3.1], \\mu Absensi[80], \\mu NilaiTA [80]) $$\n",
    "$$ \\alpha(predikat_7) = min (0; 0; 0) $$\n",
    "$$ \\alpha(predikat_7) = 0 $$\n",
    "\n",
    "Lalu lihat himpunan lulusan terbaik \n",
    "$$\n",
    "   \\ Sangat memuaskan(a)=\\begin{cases}\n",
    "    0, & \\text{$a\\leq 2.8$ atau $a\\geq3.5$}.\\\\\n",
    "    (a - 2.8)/(3.0-2.8) , & \\text{$2.8 \\leq a \\leq 3.0$}.\\\\\n",
    "    (3.5 - a)/(3.5-3.0) , & \\text{$3.0 \\leq a \\leq 3.5$}.\\\\\n",
    "  \\end{cases}\n",
    " $$\n",
    "Maka nilai $ Z_7 = 0 $"
   ]
  },
  {
   "cell_type": "markdown",
   "metadata": {},
   "source": [
    "8. IF ipk A AND absensi C AND Nilai TA B THEN Lulusan terbaik SANGAT MEMUASKAN\n",
    "\n",
    "$$ \\\\ \\alpha(predikat_8) = \\mu IPK \\cap \\mu Absensi\\cap \\mu NilaiTA $$\n",
    "$$\\alpha(predikat_8)   = min (\\mu IPK[3.1], \\mu Absensi[80], \\mu NilaiTA [80]) $$\n",
    "$$ \\alpha(predikat_8) = min (0; 0; 0.3) $$\n",
    "$$ \\alpha(predikat_8) = 0 $$\n",
    "\n",
    "Lalu lihat himpunan lulusan terbaik \n",
    "$$\n",
    "   \\ Sangat memuaskan(a)=\\begin{cases}\n",
    "    0, & \\text{$a\\leq 2.8$ atau $a\\geq3.5$}.\\\\\n",
    "    (a - 2.8)/(3.0-2.8) , & \\text{$2.8 \\leq a \\leq 3.0$}.\\\\\n",
    "    (3.5 - a)/(3.5-3.0) , & \\text{$3.0 \\leq a \\leq 3.5$}.\\\\\n",
    "  \\end{cases}\n",
    " $$\n",
    "Maka nilai $ Z_8 = 0 $"
   ]
  },
  {
   "cell_type": "markdown",
   "metadata": {},
   "source": [
    "9. IF ipk A AND absensi C AND Nilai TA C THEN Lulusan terbaik MEMUASKAN\n",
    "\n",
    "$$ \\\\ \\alpha(predikat_9) = \\mu IPK \\cap \\mu Absensi\\cap \\mu NilaiTA $$\n",
    "$$\\alpha(predikat_9)   = min (\\mu IPK[3.1], \\mu Absensi[80], \\mu NilaiTA [80]) $$\n",
    "$$ \\alpha(predikat_9) = min (0; 0.3; 0) $$\n",
    "$$ \\alpha(predikat_9) = 0 $$\n",
    "\n",
    "Lalu lihat himpunan lulusan terbaik \n",
    "$$\n",
    "   \\  Memuaskan(a)=\\begin{cases}\n",
    "    1, & \\text{$ 0 \\leq a\\leq2.8$}.\\\\\n",
    "    (3.0 - a) / ( 3.0-2.8 ) , & \\text{$ 2.8 \\leq a \\leq 3.0 $}.\\\\\n",
    "    0, & \\text{$a\\geq 3.0$}.\n",
    "  \\end{cases}\n",
    " $$\n",
    "Maka nilai $ Z_9 = 0 $"
   ]
  },
  {
   "cell_type": "markdown",
   "metadata": {},
   "source": [
    "10. IF ipk B AND absensi A AND Nilai TA A THEN Lulusan terbaik CUMLAUDE\n",
    "\n",
    "$$ \\\\ \\alpha(predikat_1\\,_0) = \\mu IPK \\cap \\mu Absensi\\cap \\mu NilaiTA $$\n",
    "$$\\alpha(predikat_1\\,_0)   = min (\\mu IPK[3.1], \\mu Absensi[80], \\mu NilaiTA [80]) $$\n",
    "$$ \\alpha(predikat_1\\,_0) = min (0.4; 0; 0) $$\n",
    "$$ \\alpha(predikat_1\\,_0) = 0 $$\n",
    "\n",
    "Lalu lihat himpunan lulusan terbaik \n",
    "$$\n",
    "   \\ Cumlaude(a)=\\begin{cases}\n",
    "    0, & \\text{$ 3.0 \\leq a\\leq3.5$}.\\\\\n",
    "    (4.0 - a)/(4.0-3.5) , & \\text{$3.5 \\leq a \\leq 4.0$}.\\\\\n",
    "    1, & \\text{$a\\geq 4$}.\n",
    "  \\end{cases}\n",
    " $$\n",
    "Maka nilai  Z$_1$$_0$ = 0 "
   ]
  },
  {
   "cell_type": "markdown",
   "metadata": {},
   "source": [
    "11. IF ipk B AND absensi A AND Nilai TA B THEN Lulusan terbaik CUMLAUDE\n",
    "\n",
    "$$ \\\\ \\alpha(predikat_1\\,_1) = \\mu IPK \\cap \\mu Absensi\\cap \\mu NilaiTA $$\n",
    "$$\\alpha(predikat_1\\,_1)   = min (\\mu IPK[3.1], \\mu Absensi[80], \\mu NilaiTA [80]) $$\n",
    "$$ \\alpha(predikat_1\\,_1) = min (0.4; 0; 0.3) $$\n",
    "$$ \\alpha(predikat_1\\,_1) = 0 $$\n",
    "\n",
    "Lalu lihat himpunan lulusan terbaik \n",
    "$$\n",
    "   \\ Cumlaude(a)=\\begin{cases}\n",
    "    0, & \\text{$ 3.0 \\leq a\\leq3.5$}.\\\\\n",
    "    (4.0 - a)/(4.0-3.5) , & \\text{$3.5 \\leq a \\leq 4.0$}.\\\\\n",
    "    1, & \\text{$a\\geq 4$}.\n",
    "  \\end{cases}\n",
    " $$\n",
    "Maka nilai  Z$_1$$_1$ = 0 "
   ]
  },
  {
   "cell_type": "markdown",
   "metadata": {},
   "source": [
    "12. IF ipk B AND absensi A AND Nilai TA C THEN Lulusan terbaik SANGAT MEMUASKAN\n",
    "\n",
    "$$ \\\\ \\alpha(predikat_1\\,_2) = \\mu IPK \\cap \\mu Absensi\\cap \\mu NilaiTA $$\n",
    "$$\\alpha(predikat_1\\,_2)   = min (\\mu IPK[3.1], \\mu Absensi[80], \\mu NilaiTA [80]) $$\n",
    "$$ \\alpha(predikat_1\\,_2) = min (0.4; 0; 0) $$\n",
    "$$ \\alpha(predikat_1\\,_2) = 0 $$\n",
    "\n",
    "Lalu lihat himpunan lulusan terbaik \n",
    "$$\n",
    "   \\ Sangat memuaskan(a)=\\begin{cases}\n",
    "    0, & \\text{$a\\leq 2.8$ atau $a\\geq3.5$}.\\\\\n",
    "    (a - 2.8)/(3.0-2.8) , & \\text{$2.8 \\leq a \\leq 3.0$}.\\\\\n",
    "    (3 - a)/(3.5-3.0) , & \\text{$3.0 \\leq a \\leq 3.5$}.\\\\\n",
    "  \\end{cases}\n",
    " $$\n",
    "Maka nilai  Z$_1$$_2$ = 0 "
   ]
  },
  {
   "cell_type": "markdown",
   "metadata": {},
   "source": [
    "13. IF ipk B AND absensi B AND Nilai TA A THEN Lulusan terbaik CUMLAUDE\n",
    "\n",
    "$$ \\\\ \\alpha(predikat_1\\,_3) = \\mu IPK \\cap \\mu Absensi\\cap \\mu NilaiTA $$\n",
    "$$\\alpha(predikat_1\\,_3)   = min (\\mu IPK[3.1], \\mu Absensi[80], \\mu NilaiTA [80]) $$\n",
    "$$ \\alpha(predikat_1\\,_3) = min (0.4; 0.3; 0) $$\n",
    "$$ \\alpha(predikat_1\\,_3) = 0 $$\n",
    "\n",
    "Lalu lihat himpunan lulusan terbaik \n",
    "$$\n",
    "   \\ Cumlaude(a)=\\begin{cases}\n",
    "    0, & \\text{$ 3.0 \\leq a\\leq3.5$}.\\\\\n",
    "    (4.0 - a)/(4.0-3.5) , & \\text{$3.5 \\leq a \\leq 4.0$}.\\\\\n",
    "    1, & \\text{$a\\geq 4$}.\n",
    "  \\end{cases}\n",
    " $$\n",
    "Maka nilai  Z$_1$$_3$ = 0 "
   ]
  },
  {
   "cell_type": "markdown",
   "metadata": {},
   "source": [
    "14. IF ipk B AND absensi B AND Nilai TA B THEN Lulusan terbaik SANGAT MEMUASKAN\n",
    "\n",
    "$$ \\\\ \\alpha(predikat_1\\,_4) = \\mu IPK \\cap \\mu Absensi\\cap \\mu NilaiTA $$\n",
    "$$\\alpha(predikat_1\\,_4)   = min (\\mu IPK[3.1], \\mu Absensi[80], \\mu NilaiTA [80]) $$\n",
    "$$ \\alpha(predikat_1\\,_4) = min (0.8; 0.3; 0.3) $$\n",
    "$$ \\alpha(predikat_1\\,_4) = 0.3 $$\n",
    "\n",
    "Lalu lihat himpunan lulusan terbaik \n",
    "$$\n",
    "   \\ Sangat memuaskan(a)=\\begin{cases}\n",
    "    0, & \\text{$a\\leq 2.8$ atau $a\\geq3.5$}.\\\\\n",
    "    (a - 2.8)/(3.0-2.8) , & \\text{$2.8 \\leq a \\leq 3.0$}.\\\\\n",
    "    (3.5 - a)/(3.5-3.0) , & \\text{$3.0 \\leq a \\leq 3.5$}.\\\\\n",
    "  \\end{cases}\n",
    " $$\n",
    " \n",
    " Terdapat 2 nilai keanggotaan maka kita uji satu persatu\n",
    " \n",
    " $$(a- 2.8) / (3.0 - 2.8) = 0.3 $$\n",
    " $$ a - 2.8 = 0.3 \\times 0.5 $$\n",
    " $$ a - 2.8 = 0.15 $$\n",
    " $$ a = 2.95 $$\n",
    " \n",
    " $$ (3.5 -a) / (3.5 -3.0) = 0.3 $$\n",
    " $$ (3.5 - a) = 0.15 $$\n",
    " $$ - a = -3.35 $$\n",
    " $$ a = 3.35 $$\n",
    "Maka nilai  Z$_1$$_4$ = 2.95"
   ]
  },
  {
   "cell_type": "markdown",
   "metadata": {},
   "source": [
    "15. IF ipk B AND absensi B AND Nilai TA C THEN Lulusan terbaik MEMUASKAN\n",
    "\n",
    "$$ \\\\ \\alpha(predikat_1\\,_5) = \\mu IPK \\cap \\mu Absensi\\cap \\mu NilaiTA $$\n",
    "$$\\alpha(predikat_1\\,_5)   = min (\\mu IPK[3.1], \\mu Absensi[80], \\mu NilaiTA [80]) $$\n",
    "$$ \\alpha(predikat_1\\,_5) = min (0.4; 0.3; 0) $$\n",
    "$$ \\alpha(predikat_1\\,_5) = 0 $$\n",
    "\n",
    "Lalu lihat himpunan lulusan terbaik \n",
    "$$\n",
    "   \\ Memuaskan(a)=\\begin{cases}\n",
    "    1, & \\text{$ 0 \\leq a\\leq2.8$}.\\\\\n",
    "    (3.0 - a) / ( 3.0-2.8 ) , & \\text{$ 2.8 \\leq a \\leq 3.0 $}.\\\\\n",
    "    0, & \\text{$a\\geq 3.0$}.\n",
    "  \\end{cases}\n",
    " $$\n",
    "Maka nilai  Z$_1$$_5$ = 0 "
   ]
  },
  {
   "cell_type": "markdown",
   "metadata": {},
   "source": [
    "16. IF ipk B AND absensi C AND Nilai TA A THEN Lulusan terbaik SANGAT MEMUASKAN\n",
    "\n",
    "$$ \\\\ \\alpha(predikat_1\\,_6) = \\mu IPK \\cap \\mu Absensi\\cap \\mu NilaiTA $$\n",
    "$$\\alpha(predikat_1\\,_6)   = min (\\mu IPK[3.1], \\mu Absensi[80], \\mu NilaiTA [80]) $$\n",
    "$$ \\alpha(predikat_1\\,_6) = min (0.4; 0; 0) $$\n",
    "$$ \\alpha(predikat_1\\,_6) = 0 $$\n",
    "\n",
    "Lalu lihat himpunan lulusan terbaik \n",
    "$$\n",
    "   \\ Sangat memuaskan(a)=\\begin{cases}\n",
    "    0, & \\text{$a\\leq 2.8$ atau $a\\geq3.5$}.\\\\\n",
    "    (a - 2.8)/(3.0-2.8) , & \\text{$2.8 \\leq a \\leq 3.0$}.\\\\\n",
    "    (3.5 - a)/(3.5-3.0) , & \\text{$3.0 \\leq a \\leq 3.5$}.\\\\\n",
    "  \\end{cases}\n",
    " $$\n",
    "Maka nilai  Z$_1$$_6$ = 0"
   ]
  },
  {
   "cell_type": "markdown",
   "metadata": {},
   "source": [
    "17. IF ipk B AND absensi C AND Nilai TA B THEN Lulusan terbaik MEMUASKAN\n",
    "\n",
    "$$ \\\\ \\alpha(predikat_1\\,_7) = \\mu IPK \\cap \\mu Absensi\\cap \\mu NilaiTA $$\n",
    "$$\\alpha(predikat_1\\,_7)   = min (\\mu IPK[3.1], \\mu Absensi[80], \\mu NilaiTA [80]) $$\n",
    "$$ \\alpha(predikat_1\\,_7) = min (0.4; 0; 0.3) $$\n",
    "$$ \\alpha(predikat_1\\,_7) = 0 $$\n",
    "\n",
    "Lalu lihat himpunan lulusan terbaik \n",
    "$$\n",
    "   \\ Memuaskan(a)=\\begin{cases}\n",
    "    1, & \\text{$ 0 \\leq a\\leq2.8$}.\\\\\n",
    "    (3.0 - a) / ( 3.0-2.8 ) , & \\text{$ 2.8 \\leq a \\leq 3.0 $}.\\\\\n",
    "    0, & \\text{$a\\geq 3.0$}.\n",
    "  \\end{cases}\n",
    " $$\n",
    "Maka nilai  Z$_1$$_7$ = 0 "
   ]
  },
  {
   "cell_type": "markdown",
   "metadata": {},
   "source": [
    "18. IF ipk B AND absensi C AND Nilai TA C THEN Lulusan terbaik MEMUASKAN\n",
    "\n",
    "$$ \\\\ \\alpha(predikat_1\\,_8) = \\mu IPK \\cap \\mu Absensi\\cap \\mu NilaiTA $$\n",
    "$$\\alpha(predikat_1\\,_8)   = min (\\mu IPK[3.1], \\mu Absensi[80], \\mu NilaiTA [80]) $$\n",
    "$$ \\alpha(predikat_1\\,_8) = min (0.4; 0; 0) $$\n",
    "$$ \\alpha(predikat_1\\,_8) = 0 $$\n",
    "\n",
    "Lalu lihat himpunan lulusan terbaik \n",
    "$$\n",
    "   \\ Memuaskan(a)=\\begin{cases}\n",
    "    1, & \\text{$ 0 \\leq a\\leq2.8$}.\\\\\n",
    "    (3.0 - a) / ( 3.0-2.8 ) , & \\text{$ 2.8 \\leq a \\leq 3.0 $}.\\\\\n",
    "    0, & \\text{$a\\geq 3.0$}.\n",
    "  \\end{cases}\n",
    " $$\n",
    "Maka nilai  Z$_1$$_8$ = 0 "
   ]
  },
  {
   "cell_type": "markdown",
   "metadata": {},
   "source": [
    "19. IF ipk C AND absensi A AND Nilai TA A THEN Lulusan terbaik SANGAT MEMUASKAN\n",
    "\n",
    "$$ \\\\ \\alpha(predikat_1\\,_9) = \\mu IPK \\cap \\mu Absensi\\cap \\mu NilaiTA $$\n",
    "$$\\alpha(predikat_1\\,_9)   = min (\\mu IPK[3.1], \\mu Absensi[80], \\mu NilaiTA [80]) $$\n",
    "$$ \\alpha(predikat_1\\,_9) = min (0.6; 0; 0) $$\n",
    "$$ \\alpha(predikat_1\\,_9) = 0 $$\n",
    "\n",
    "Lalu lihat himpunan lulusan terbaik \n",
    "$$\n",
    "   \\ Sangat memuaskan(a)=\\begin{cases}\n",
    "    0, & \\text{$a\\leq 2.8$ atau $a\\geq3.5$}.\\\\\n",
    "    (a - 2.8)/(3.0-2.8) , & \\text{$2.8 \\leq a \\leq 3.0$}.\\\\\n",
    "    (3.5 - a)/(3.5-3.0) , & \\text{$3.0 \\leq a \\leq 3.5$}.\\\\\n",
    "  \\end{cases}\n",
    " $$\n",
    "Maka nilai  Z$_1$$_9$ = 0 "
   ]
  },
  {
   "cell_type": "markdown",
   "metadata": {},
   "source": [
    "20. IF ipk C AND absensi A AND Nilai TA B THEN Lulusan terbaik SANGAT MEMUASKAN\n",
    "\n",
    "$$ \\\\ \\alpha(predikat_2\\,_0) = \\mu IPK \\cap \\mu Absensi\\cap \\mu NilaiTA $$\n",
    "$$\\alpha(predikat_2\\,_0)   = min (\\mu IPK[3.1], \\mu Absensi[80], \\mu NilaiTA [80]) $$\n",
    "$$ \\alpha(predikat_2\\,_0) = min (0.6; 0; 0.3) $$\n",
    "$$ \\alpha(predikat_2\\,_0) = 0 $$\n",
    "\n",
    "Lalu lihat himpunan lulusan terbaik \n",
    "$$\n",
    "   \\ Sangat memuaskan(a)=\\begin{cases}\n",
    "    0, & \\text{$a\\leq 2.5$ atau $a\\geq3.5$}.\\\\\n",
    "    (a - 2.8)/(3.0-2.8) , & \\text{$2.8 \\leq a \\leq 3.0$}.\\\\\n",
    "    (3.5 - a)/(3.5-3.0) , & \\text{$3.0 \\leq a \\leq 3.5$}.\\\\\n",
    "  \\end{cases}\n",
    " $$\n",
    "Maka nilai  Z$_2$$_0$ = 0 "
   ]
  },
  {
   "cell_type": "markdown",
   "metadata": {},
   "source": [
    "21. IF ipk C AND absensi A AND Nilai TA C THEN Lulusan terbaik MEMUASKAN\n",
    "\n",
    "$$ \\\\ \\alpha(predikat_2\\,_1) = \\mu IPK \\cap \\mu Absensi\\cap \\mu NilaiTA $$\n",
    "$$\\alpha(predikat_2\\,_1)   = min (\\mu IPK[3.1], \\mu Absensi[80], \\mu NilaiTA [80]) $$\n",
    "$$ \\alpha(predikat_2\\,_1) = min (0.6; 0; 0) $$\n",
    "$$ \\alpha(predikat_2\\,_1) = 0 $$\n",
    "\n",
    "Lalu lihat himpunan lulusan terbaik \n",
    "$$\n",
    "   \\ Memuaskan(a)=\\begin{cases}\n",
    "    1, & \\text{$ 0 \\leq a\\leq2.8$}.\\\\\n",
    "    (3.0 - a) / ( 3.0-2.8 ) , & \\text{$ 2.8 \\leq a \\leq 3.0 $}.\\\\\n",
    "    0, & \\text{$a\\geq 3.0$}.\n",
    "  \\end{cases}\n",
    " $$\n",
    "Maka nilai  Z$_2$$_1$ = 0 "
   ]
  },
  {
   "cell_type": "markdown",
   "metadata": {},
   "source": [
    "22. IF ipk C AND absensi B AND Nilai TA A THEN Lulusan terbaik SANGAT MEMUASKAN\n",
    "\n",
    "$$ \\\\ \\alpha(predikat_2\\,_2) = \\mu IPK \\cap \\mu Absensi\\cap \\mu NilaiTA $$\n",
    "$$\\alpha(predikat_2\\,_2)   = min (\\mu IPK[3.1], \\mu Absensi[80], \\mu NilaiTA [80]) $$\n",
    "$$ \\alpha(predikat_2\\,_2) = min (0.6; 0.3; 0) $$\n",
    "$$ \\alpha(predikat_2\\,_2) = 0 $$\n",
    "\n",
    "Lalu lihat himpunan lulusan terbaik \n",
    "$$\n",
    "   \\ Sangat memuaskan(a)=\\begin{cases}\n",
    "    0, & \\text{$a\\leq 2.8$ atau $a\\geq3.5$}.\\\\\n",
    "    (a - 2.8)/(3.0-2.8) , & \\text{$2.8 \\leq a \\leq 3.0$}.\\\\\n",
    "    (3.5 - a)/(3.5-3.0) , & \\text{$3.0 \\leq a \\leq 3.5$}.\\\\\n",
    "  \\end{cases}\n",
    " $$\n",
    "Maka nilai  Z$_2$$_2$ = 0 "
   ]
  },
  {
   "cell_type": "markdown",
   "metadata": {},
   "source": [
    "23. IF ipk C AND absensi B AND Nilai TA B THEN Lulusan terbaik MEMUASKAN\n",
    "\n",
    "$$ \\\\ \\alpha(predikat_2\\,_3) = \\mu IPK \\cap \\mu Absensi\\cap \\mu NilaiTA $$\n",
    "$$\\alpha(predikat_2\\,_3)   = min (\\mu IPK[3.1], \\mu Absensi[80], \\mu NilaiTA [80]) $$\n",
    "$$ \\alpha(predikat_2\\,_3) = min (0; 0.3; 0.3) $$\n",
    "$$ \\alpha(predikat_2\\,_3) = 0.3 $$\n",
    "\n",
    "Lalu lihat himpunan lulusan terbaik \n",
    "$$\n",
    "   \\ Memuaskan(a)=\\begin{cases}\n",
    "    1, & \\text{$ 0 \\leq a\\leq2.8$}.\\\\\n",
    "    (3.0 - a) / ( 3.0-2.8 ) , & \\text{$ 2.8 \\leq a \\leq 3.0 $}.\\\\\n",
    "    0, & \\text{$a\\geq 3.0$}.\n",
    "  \\end{cases}\n",
    " $$\n",
    "Maka nilai  Z$_2$$_3$ = 0 "
   ]
  },
  {
   "cell_type": "markdown",
   "metadata": {},
   "source": [
    "24. IF ipk C AND absensi B AND Nilai TA C THEN Lulusan terbaik MEMUASKAN\n",
    "\n",
    "$$ \\\\ \\alpha(predikat_2\\,_4) = \\mu IPK \\cap \\mu Absensi\\cap \\mu NilaiTA $$\n",
    "$$\\alpha(predikat_2\\,_4)   = min (\\mu IPK[3.1], \\mu Absensi[80], \\mu NilaiTA [80]) $$\n",
    "$$ \\alpha(predikat_2\\,_4) = min (0.6; 0.3; 0) $$\n",
    "$$ \\alpha(predikat_2\\,_4) = 0 $$\n",
    "\n",
    "Lalu lihat himpunan lulusan terbaik \n",
    "$$\n",
    "   \\ Memuaskan(a)=\\begin{cases}\n",
    "    1, & \\text{$ 0 \\leq a\\leq2.8$}.\\\\\n",
    "    (3.0 - a) / ( 3.0-2.8 ) , & \\text{$ 2.8 \\leq a \\leq 3.0 $}.\\\\\n",
    "    0, & \\text{$a\\geq 3.0$}.\n",
    "  \\end{cases}\n",
    " $$\n",
    " \n",
    "Maka nilai  Z$_2$$_4$ = 0"
   ]
  },
  {
   "cell_type": "markdown",
   "metadata": {},
   "source": [
    "25. IF ipk C AND absensi C AND Nilai TA A THEN Lulusan terbaik MEMUASKAN\n",
    "\n",
    "$$ \\\\ \\alpha(predikat_2\\,_5) = \\mu IPK \\cap \\mu Absensi\\cap \\mu NilaiTA $$\n",
    "$$\\alpha(predikat_2\\,_5)   = min (\\mu IPK[3.1], \\mu Absensi[80], \\mu NilaiTA [80]) $$\n",
    "$$ \\alpha(predikat_2\\,_5) = min (0.6; 0; 0) $$\n",
    "$$ \\alpha(predikat_2\\,_5) = 0 $$\n",
    "\n",
    "Lalu lihat himpunan lulusan terbaik \n",
    "$$\n",
    "   \\ Memuaskan(a)=\\begin{cases}\n",
    "    1, & \\text{$ 0 \\leq a\\leq2.8$}.\\\\\n",
    "    (3.0 - a) / ( 3.0-2.8 ) , & \\text{$ 2.8 \\leq a \\leq 3.0 $}.\\\\\n",
    "    0, & \\text{$a\\geq 3.0$}.\n",
    "  \\end{cases}\n",
    " $$\n",
    "Maka nilai  Z$_2$$_5$ = 0 "
   ]
  },
  {
   "cell_type": "markdown",
   "metadata": {},
   "source": [
    "26. IF ipk C AND absensi C AND Nilai TA B THEN Lulusan terbaik MEMUASKAN\n",
    "\n",
    "$$ \\\\ \\alpha(predikat_2\\,_6) = \\mu IPK \\cap \\mu Absensi\\cap \\mu NilaiTA $$\n",
    "$$\\alpha(predikat_2\\,_6)   = min (\\mu IPK[3.1], \\mu Absensi[80], \\mu NilaiTA [80]) $$\n",
    "$$ \\alpha(predikat_2\\,_6) = min (0.6; 0; 0.3) $$\n",
    "$$ \\alpha(predikat_2\\,_6) = 0 $$\n",
    "\n",
    "Lalu lihat himpunan lulusan terbaik \n",
    "$$\n",
    "   \\ Memuaskan(a)=\\begin{cases}\n",
    "    1, & \\text{$ 0 \\leq a\\leq2.8$}.\\\\\n",
    "    (3.0 - a) / ( 3.0-2.8 ) , & \\text{$ 2.8 \\leq a \\leq 3.0 $}.\\\\\n",
    "    0, & \\text{$a\\geq 3.0$}.\n",
    "  \\end{cases}\n",
    " $$\n",
    "Maka nilai  Z$_2$$_6$ = 0"
   ]
  },
  {
   "cell_type": "markdown",
   "metadata": {},
   "source": [
    "27. IF ipk C AND absensi C AND Nilai TA C THEN Lulusan terbaik MEMUASKAN\n",
    "\n",
    "$$ \\\\ \\alpha(predikat_2\\,_7) = \\mu IPK \\cap \\mu Absensi\\cap \\mu NilaiTA $$\n",
    "$$\\alpha(predikat_2\\,_7)   = min (\\mu IPK[3.1], \\mu Absensi[80], \\mu NilaiTA [80]) $$\n",
    "$$ \\alpha(predikat_2\\,_7) = min (0.6; 0; 0) $$\n",
    "$$ \\alpha(predikat_2\\,_7) = 0 $$\n",
    "\n",
    "Lalu lihat himpunan lulusan terbaik \n",
    "$$\n",
    "   \\ Memuaskan(a)=\\begin{cases}\n",
    "    1, & \\text{$ 0 \\leq a\\leq2.8$}.\\\\\n",
    "    (3.0 - a) / ( 3.0-2.8 ) , & \\text{$ 2.8 \\leq a \\leq 3.0 $}.\\\\\n",
    "    0, & \\text{$a\\geq 3.0$}.\n",
    "  \\end{cases}\n",
    " $$\n",
    "Maka nilai  Z$_2$$_7$ = 0 "
   ]
  },
  {
   "cell_type": "markdown",
   "metadata": {},
   "source": [
    "Cari nilai Z"
   ]
  },
  {
   "cell_type": "markdown",
   "metadata": {},
   "source": [
    "Z =$$ \\frac{\\alpha predikat_1 \\times Z_1 +\n",
    "\\alpha predikat_2 \\times Z_2 +\n",
    "\\alpha predikat_3 \\times Z_3 +\n",
    "\\alpha predikat_4 \\times Z_4 +\n",
    "\\alpha predikat_5 \\times Z_5 +\n",
    "\\alpha predikat_6 \\times Z_6 +\n",
    "\\alpha predikat_7 \\times Z_7 +\n",
    "\\alpha predikat_8 \\times Z_8 +\n",
    "\\alpha predikat_9 \\times Z_9 +\n",
    "\\alpha predikat_1\\,_0 \\times Z_1\\,_0 +\n",
    "\\alpha predikat_1\\,_1 \\times Z_1\\,_1 +\n",
    "\\alpha predikat_1\\,_2 \\times Z_1\\,_2 +\n",
    "\\alpha predikat_1\\,_3 \\times Z_1\\,_3 +\n",
    "\\alpha predikat_1\\,_4 \\times Z_1\\,_4 +\n",
    "\\alpha predikat_1\\,_5 \\times Z_1\\,_5 +\n",
    "\\alpha predikat_1\\,_6 \\times Z_1\\,_6 +\n",
    "\\alpha predikat_1\\,_7 \\times Z_1\\,_7 +\n",
    "\\alpha predikat_1\\,_8 \\times Z_1\\,_8 +\n",
    "\\alpha predikat_1\\,_9 \\times Z_1\\,_9 +\n",
    "\\alpha predikat_2\\,_0 \\times Z_2\\,_0 +\n",
    "\\alpha predikat_2\\,_1 \\times Z_2\\,_1 +\n",
    "\\alpha predikat_2\\,_2 \\times Z_2\\,_2 +\n",
    "\\alpha predikat_2\\,_3 \\times Z_2\\,_3 +\n",
    "\\alpha predikat_2\\,_4 \\times Z_2\\,_4 +\n",
    "\\alpha predikat_2\\,_5 \\times Z_2\\,_5 +\n",
    "\\alpha predikat_2\\,_6 \\times Z_2\\,_6 +\n",
    "\\alpha predikat_2\\,_7 \\times Z_2\\,_7}\n",
    "{\\alpha predikat_1 + \\alpha predikat_2 +\n",
    "\\alpha predikat_3 + \\alpha predikat_4 +\n",
    "\\alpha predikat_5 + \\alpha predikat_6 +\n",
    "\\alpha predikat_7 + \\alpha predikat_8 +\n",
    "\\alpha predikat_9 + \\alpha predikat_1\\,_0 +\n",
    "\\alpha predikat_1\\,_1 + \\alpha predikat_1\\,_2+\n",
    "\\alpha predikat_1\\,_3 + \\alpha predikat_1\\,_4+\n",
    "\\alpha predikat_1\\,_5 + \\alpha predikat_1\\,_6+\n",
    "\\alpha predikat_1\\,_7 + \\alpha predikat_1\\,_8+\n",
    "\\alpha predikat_1\\,_9 + \\alpha predikat_2\\,_0+\n",
    "\\alpha predikat_2\\,_1 + \\alpha predikat_2\\,_2+\n",
    "\\alpha predikat_2\\,_3 + \\alpha predikat_2\\,_4+\n",
    "\\alpha predikat_2\\,_5 + \\alpha predikat_2\\,_6+\n",
    "\\alpha predikat_2\\,_7}$$"
   ]
  },
  {
   "cell_type": "markdown",
   "metadata": {},
   "source": [
    " $$Z = \\frac{0 + 0 + 0 + 0 + 0 + 0 + 0 + 0 + 0 + 0 + 0 + 0 + 0 + 0.3 \\times 2.95 + 0 + 0 + 0 + 0 + 0 + 0 + 0 + 0 + 0 + 0 + 0 + 0 + 0}{0 + 0 + 0 + 0 + 0 + 0 + 0 + 0 + 0 +0 +0 +0 + 0 + 0.3 + 0 + 0 + 0 + 0 + 0 + 0 + 0 + 0 + 0 + 0 + 0 + 0 + 0} $$\n",
    " \n",
    " $$ Z = \\frac{0.885}{0.3} $$\n",
    " $$ Z = 2.95 \\, $$"
   ]
  },
  {
   "cell_type": "markdown",
   "metadata": {},
   "source": [
    "Hasil output yg dikeluarkan menggunakan python adalah 3.35 dan di perhitungan manual sebesar 2.95, perbedaannya adalah sebesar 0.4"
   ]
  },
  {
   "cell_type": "markdown",
   "metadata": {},
   "source": [
    "http://ejournal.bsi.ac.id/ejurnal/index.php/ji/article/view/265"
   ]
  },
  {
   "cell_type": "code",
   "execution_count": null,
   "metadata": {},
   "outputs": [],
   "source": []
  }
 ],
 "metadata": {
  "kernelspec": {
   "display_name": "Python 3",
   "language": "python",
   "name": "python3"
  },
  "language_info": {
   "codemirror_mode": {
    "name": "ipython",
    "version": 3
   },
   "file_extension": ".py",
   "mimetype": "text/x-python",
   "name": "python",
   "nbconvert_exporter": "python",
   "pygments_lexer": "ipython3",
   "version": "3.7.3"
  }
 },
 "nbformat": 4,
 "nbformat_minor": 2
}
