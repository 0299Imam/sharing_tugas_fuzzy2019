{
 "cells": [
  {
   "cell_type": "markdown",
   "metadata": {},
   "source": [
    "> # NAMA  : VANISSA WANIKA SIBURIAN\n",
    "# NIM      : 09011381722094\n",
    "# KELAS : SK5 BUKIT"
   ]
  },
  {
   "cell_type": "markdown",
   "metadata": {},
   "source": [
    "## PENENTUAN JUMLAH PRODUKSI DENGAN APLIKASI METODE FUZZY – MAMDANI  \n",
    "\n",
    "Suatu perusahaan ingin menentukan jumlah produksi mereka berdasarkan jumlah permintaan dan persediaan.  Dari jumlah permintaan dan persediaan maka akan dihasilkan jumlah produksinya sedikit, sedang atau banyak."
   ]
  },
  {
   "cell_type": "markdown",
   "metadata": {},
   "source": [
    "Sebelum masuk kedalam fuzzy masukan terlebih dahuli beberapa library, seperti :\n",
    "1. skfuzzy = digunakan untuk memanggil fungsi fuzzy\n",
    "2. matplotlib = digunakan untuk mem-plot grafik\n",
    "3. numpy = untuk membuat range data"
   ]
  },
  {
   "cell_type": "code",
   "execution_count": 1,
   "metadata": {},
   "outputs": [],
   "source": [
    "import numpy as np\n",
    "import skfuzzy as fuzz\n",
    "from skfuzzy import control as ctrl\n",
    "import matplotlib.pyplot as plt"
   ]
  },
  {
   "cell_type": "markdown",
   "metadata": {},
   "source": [
    "## 1. Fuzzifikasi"
   ]
  },
  {
   "cell_type": "markdown",
   "metadata": {},
   "source": [
    "Data yang dikumpulkan dalam penelitian ini meliputi : \n",
    "1. data permintaan, \n",
    "2. data persediaan dan \n",
    "3. data jumlah produksi\n",
    "\n",
    "Untuk yang menjadi inputan adalah data permintaan dan data persediaa sedangkan yang menjadi outputnya adalah jumlah produksi"
   ]
  },
  {
   "cell_type": "markdown",
   "metadata": {},
   "source": [
    "Masukan nilai semesta setiap variabel dengan nilai sebagai beriku :\n",
    "![](AI/semesta.png)"
   ]
  },
  {
   "cell_type": "code",
   "execution_count": 2,
   "metadata": {},
   "outputs": [],
   "source": [
    "permintaan = ctrl.Antecedent(np.arange(14868, 23432,1), 'permintaan')\n",
    "persediaan = ctrl.Antecedent(np.arange(1170, 3190,1), 'persediaan' )\n",
    "JumlahProduksi = ctrl.Consequent(np.arange(14105, 25000, 1), 'jumlah_produksi')"
   ]
  },
  {
   "cell_type": "markdown",
   "metadata": {},
   "source": [
    "Lalu masukan fungsi untuk memploting grafik"
   ]
  },
  {
   "cell_type": "code",
   "execution_count": 3,
   "metadata": {},
   "outputs": [],
   "source": [
    "permintaan_x = np.arange(14868, 23432,1)\n",
    "persediaan_x = np.arange(1170, 3190,1)\n",
    "JumlahProduksi_x = np.arange(14105, 25000, 1)"
   ]
  },
  {
   "cell_type": "markdown",
   "metadata": {},
   "source": [
    "### Fungsi keanggotaan"
   ]
  },
  {
   "cell_type": "markdown",
   "metadata": {},
   "source": [
    "### 1.Permintaan\n",
    "\n",
    "Untuk permintaan, fungsi keanggotan dibagi menjadi 3 yaitu: \n",
    "![](AI/permintaan.png)"
   ]
  },
  {
   "cell_type": "code",
   "execution_count": 4,
   "metadata": {
    "scrolled": true
   },
   "outputs": [],
   "source": [
    "permintaan['sedikit'] = fuzz.trapmf(permintaan.universe,[14868, 14868, 18000, 19150])\n",
    "permintaan['sedang'] = fuzz.trimf(permintaan.universe,[18000, 19150 , 21291])\n",
    "permintaan['banyak'] = fuzz.trapmf(permintaan.universe,[19150, 21291, 23432, 23432])"
   ]
  },
  {
   "cell_type": "markdown",
   "metadata": {},
   "source": [
    "###### Maka fungsi keanggotaannya"
   ]
  },
  {
   "cell_type": "markdown",
   "metadata": {},
   "source": [
    "##### ~ Permintaan Sedikit"
   ]
  },
  {
   "cell_type": "markdown",
   "metadata": {},
   "source": [
    "\\begin{equation}\n",
    "  Permintaan['sedikit'] = \\mu PermintaanSedikit(x)=\\begin{cases}\n",
    "    1, & \\text{$14868\\leq x\\leq18000$}.\\\\\n",
    "    (18000 - x)/(19150 - 18000) , & \\text{$18000 \\leq x \\leq 19150$}.\\\\\n",
    "    0, & \\text{$x\\geq 19150$}.\n",
    "  \\end{cases}\n",
    " \\end{equation}"
   ]
  },
  {
   "cell_type": "code",
   "execution_count": 5,
   "metadata": {},
   "outputs": [
    {
     "data": {
      "text/plain": [
       "Text(0.5,1,'Permintaan Sedikit')"
      ]
     },
     "execution_count": 5,
     "metadata": {},
     "output_type": "execute_result"
    },
    {
     "data": {
      "image/png": "[encoded data removed]",
      "text/plain": [
       "<matplotlib.figure.Figure at 0x1f8c71e90f0>"
      ]
     },
     "metadata": {},
     "output_type": "display_data"
    }
   ],
   "source": [
    "permintaan_sedikit = fuzz.trapmf(permintaan_x,[14868, 14868, 18000, 19150])\n",
    "fig, (ax0) = plt.subplots(nrows=1,figsize=(6,6))\n",
    "ax0.plot(permintaan_x,permintaan_sedikit,'blue')\n",
    "ax0.set_title('Permintaan Sedikit')"
   ]
  },
  {
   "cell_type": "markdown",
   "metadata": {},
   "source": [
    "##### ~ Permintaan Sedang"
   ]
  },
  {
   "cell_type": "markdown",
   "metadata": {},
   "source": [
    "\\begin{equation}\n",
    " Permintaan['sedang'] = \\mu PermintaanSedang(x)=\\begin{cases}\n",
    "    0, & \\text{$x\\leq 18000$ atau $x\\geq21291$}.\\\\\n",
    "    (x - 18000)/(19150 - 18000) , & \\text{$18000 \\leq x \\leq 19150$}.\\\\\n",
    "    (21291 - x)/(21291 - 19150) , & \\text{$19150 \\leq x \\leq 21291$}.\\\\\n",
    "  \\end{cases}\n",
    "\\end{equation}"
   ]
  },
  {
   "cell_type": "code",
   "execution_count": 23,
   "metadata": {},
   "outputs": [
    {
     "data": {
      "text/plain": [
       "Text(0.5,1,'Permintaan Sedang')"
      ]
     },
     "execution_count": 23,
     "metadata": {},
     "output_type": "execute_result"
    },
    {
     "data": {
      "image/png": "[encoded data removed]",
      "text/plain": [
       "<matplotlib.figure.Figure at 0x1f8c898f0f0>"
      ]
     },
     "metadata": {},
     "output_type": "display_data"
    }
   ],
   "source": [
    "permintaan_sedang = fuzz.trimf(permintaan_x,[18000, 19150 , 21291])\n",
    "fig, (ax0) = plt.subplots(nrows=1,figsize=(6,6))\n",
    "ax0.plot(permintaan_x,permintaan_sedang,'orange')\n",
    "ax0.set_title('Permintaan Sedang')"
   ]
  },
  {
   "cell_type": "markdown",
   "metadata": {},
   "source": [
    "##### ~ Permintaan Banyak"
   ]
  },
  {
   "cell_type": "markdown",
   "metadata": {},
   "source": [
    "\\begin{equation}\n",
    " Permintaan['banyak'] = \\mu PermintaanBanyak(x)=\\begin{cases}\n",
    "    0, & \\text{$x\\leq 19150$}.\\\\\n",
    "    (x - 19150)/(23432 - 19150) , & \\text{$19150 \\leq x \\leq 23432$}.\\\\\n",
    "    1, & \\text{$x\\geq 23432$}.\n",
    "  \\end{cases}\n",
    "\\end{equation}"
   ]
  },
  {
   "cell_type": "code",
   "execution_count": 24,
   "metadata": {},
   "outputs": [
    {
     "data": {
      "text/plain": [
       "Text(0.5,1,'Permintaan Sedikit')"
      ]
     },
     "execution_count": 24,
     "metadata": {},
     "output_type": "execute_result"
    },
    {
     "data": {
      "image/png": "[encoded data removed]",
      "text/plain": [
       "<matplotlib.figure.Figure at 0x1f8c87d57b8>"
      ]
     },
     "metadata": {},
     "output_type": "display_data"
    }
   ],
   "source": [
    "permintaan_sedikit = fuzz.trapmf(permintaan_x,[19150, 21291, 23432, 23432])\n",
    "fig, (ax0) = plt.subplots(nrows=1,figsize=(6,6))\n",
    "ax0.plot(permintaan_x,permintaan_sedikit,'green')\n",
    "ax0.set_title('Permintaan Sedikit')"
   ]
  },
  {
   "cell_type": "markdown",
   "metadata": {},
   "source": [
    "##### ~ Plotting ketiga fungsi keanggotaan permintaan"
   ]
  },
  {
   "cell_type": "code",
   "execution_count": 8,
   "metadata": {
    "scrolled": true
   },
   "outputs": [
    {
     "name": "stderr",
     "output_type": "stream",
     "text": [
      "C:\\Users\\User\\Anaconda3\\lib\\site-packages\\matplotlib\\figure.py:418: UserWarning: matplotlib is currently using a non-GUI backend, so cannot show the figure\n",
      "  \"matplotlib is currently using a non-GUI backend, \"\n"
     ]
    },
    {
     "data": {
      "image/png": "[encoded data removed]",
      "text/plain": [
       "<matplotlib.figure.Figure at 0x1f8c71aee48>"
      ]
     },
     "metadata": {},
     "output_type": "display_data"
    }
   ],
   "source": [
    "permintaan.view()"
   ]
  },
  {
   "cell_type": "markdown",
   "metadata": {},
   "source": [
    "### 2. Persediaan\n",
    "\n",
    "Untuk persediaan, fungsi keanggotan dibagi menjadi 3 yaitu:\n",
    "![](AI/persediaan.png)"
   ]
  },
  {
   "cell_type": "code",
   "execution_count": 9,
   "metadata": {},
   "outputs": [],
   "source": [
    "persediaan['sedikit'] = fuzz.trapmf(persediaan.universe,[1170, 1170, 1675, 2180])\n",
    "persediaan['sedang'] = fuzz.trimf(persediaan.universe,[1675, 2180 , 2685])\n",
    "persediaan['banyak'] = fuzz.trapmf(persediaan.universe,[2180, 2685, 3190, 3190])"
   ]
  },
  {
   "cell_type": "markdown",
   "metadata": {},
   "source": [
    "##### ~ Persediaan Sedikit"
   ]
  },
  {
   "cell_type": "markdown",
   "metadata": {},
   "source": [
    "\\begin{equation}\n",
    "  Persediaan['sedikit'] = \\mu PersediaanSedikit(x)=\\begin{cases}\n",
    "    1, & \\text{$1170\\leq x\\leq1675$}.\\\\\n",
    "    (1675 - x)/(2180 - 1675) , & \\text{$1675 \\leq x \\leq 2180$}.\\\\\n",
    "    0, & \\text{$x\\geq 2.180$}.\n",
    "  \\end{cases}\n",
    "\\end{equation}"
   ]
  },
  {
   "cell_type": "code",
   "execution_count": 10,
   "metadata": {},
   "outputs": [
    {
     "data": {
      "text/plain": [
       "Text(0.5,1,'Persediaan Sedikit')"
      ]
     },
     "execution_count": 10,
     "metadata": {},
     "output_type": "execute_result"
    },
    {
     "data": {
      "image/png": "[encoded data removed]",
      "text/plain": [
       "<matplotlib.figure.Figure at 0x1f8c8609b38>"
      ]
     },
     "metadata": {},
     "output_type": "display_data"
    }
   ],
   "source": [
    "persediaan_sedikit = fuzz.trapmf(persediaan_x,[1170, 1170, 1675, 2180])\n",
    "fig, (ax0) = plt.subplots(nrows=1,figsize=(6,6))\n",
    "ax0.plot(persediaan_x,persediaan_sedikit,'blue')\n",
    "ax0.set_title('Persediaan Sedikit')"
   ]
  },
  {
   "cell_type": "markdown",
   "metadata": {},
   "source": [
    "##### ~ Persediaan Sedikit"
   ]
  },
  {
   "cell_type": "markdown",
   "metadata": {},
   "source": [
    "\\begin{equation}\n",
    "   Persediaan['sedang'] = \\mu PersediaanSedang(x)=\\begin{cases}\n",
    "    0, & \\text{$x\\leq 1675$ atau $x\\geq2685$}.\\\\\n",
    "    (x - 1675)/(2180 - 1675) , & \\text{$1675 \\leq x \\leq 2180$}.\\\\\n",
    "    (2685 - x)/(2685 - 2180) , & \\text{$2180 \\leq x \\leq 2685$}.\\\\\n",
    "  \\end{cases}\n",
    "\\end{equation}"
   ]
  },
  {
   "cell_type": "code",
   "execution_count": 26,
   "metadata": {},
   "outputs": [
    {
     "data": {
      "text/plain": [
       "Text(0.5,1,'Persediaan Sedikit')"
      ]
     },
     "execution_count": 26,
     "metadata": {},
     "output_type": "execute_result"
    },
    {
     "data": {
      "image/png": "[encoded data removed]",
      "text/plain": [
       "<matplotlib.figure.Figure at 0x1f8c883f9b0>"
      ]
     },
     "metadata": {},
     "output_type": "display_data"
    }
   ],
   "source": [
    "persediaan_sedang = fuzz.trimf(persediaan_x,[1675, 2180 , 2685])\n",
    "fig, (ax0) = plt.subplots(nrows=1,figsize=(6,6))\n",
    "ax0.plot(persediaan_x,persediaan_sedang,'orange')\n",
    "ax0.set_title('Persediaan Sedikit')"
   ]
  },
  {
   "cell_type": "markdown",
   "metadata": {},
   "source": [
    "##### ~ Persediaan Banyak"
   ]
  },
  {
   "cell_type": "markdown",
   "metadata": {},
   "source": [
    "\\begin{equation}\n",
    "  Persediaan['banyak'] = \\mu PersediaanBanyak(x)=\\begin{cases}\n",
    "    0, & \\text{$x\\leq 2180$}.\\\\\n",
    "    (x - 2180)/(3190 - 2180) , & \\text{$2180 \\leq x \\leq 3190$}.\\\\\n",
    "    1, & \\text{$x\\geq 3190$}.\n",
    "  \\end{cases}\n",
    "\\end{equation}"
   ]
  },
  {
   "cell_type": "code",
   "execution_count": 28,
   "metadata": {},
   "outputs": [
    {
     "data": {
      "text/plain": [
       "Text(0.5,1,'Persediaan Banyak')"
      ]
     },
     "execution_count": 28,
     "metadata": {},
     "output_type": "execute_result"
    },
    {
     "data": {
      "image/png": "[encoded data removed]",
      "text/plain": [
       "<matplotlib.figure.Figure at 0x1f8c99fa3c8>"
      ]
     },
     "metadata": {},
     "output_type": "display_data"
    }
   ],
   "source": [
    "persediaan_banyak = fuzz.trapmf(persediaan_x,[2180, 2685, 3190, 3190])\n",
    "fig, (ax0) = plt.subplots(nrows=1,figsize=(6,6))\n",
    "ax0.plot(persediaan_x,persediaan_banyak,'green')\n",
    "ax0.set_title('Persediaan Banyak')"
   ]
  },
  {
   "cell_type": "markdown",
   "metadata": {},
   "source": [
    "##### ~ Plotting ke tiga fungsi keanggotaan persediaan"
   ]
  },
  {
   "cell_type": "code",
   "execution_count": 13,
   "metadata": {},
   "outputs": [
    {
     "name": "stderr",
     "output_type": "stream",
     "text": [
      "C:\\Users\\User\\Anaconda3\\lib\\site-packages\\matplotlib\\figure.py:418: UserWarning: matplotlib is currently using a non-GUI backend, so cannot show the figure\n",
      "  \"matplotlib is currently using a non-GUI backend, \"\n"
     ]
    },
    {
     "data": {
      "image/png": "[encoded data removed]",
      "text/plain": [
       "<matplotlib.figure.Figure at 0x1f8c87038d0>"
      ]
     },
     "metadata": {},
     "output_type": "display_data"
    }
   ],
   "source": [
    "persediaan.view()"
   ]
  },
  {
   "cell_type": "markdown",
   "metadata": {},
   "source": [
    "#### Jumlah Produksi\n",
    "\n",
    "Untuk jumlah produksi, fungsi keanggotan dibagi menjadi 3 yaitu:\n",
    "![](AI/produksi.png)"
   ]
  },
  {
   "cell_type": "code",
   "execution_count": 14,
   "metadata": {},
   "outputs": [],
   "source": [
    "JumlahProduksi['sedikit'] = fuzz.trapmf(JumlahProduksi.universe,[14105, 14105, 16828, 19552])\n",
    "JumlahProduksi['sedang'] = fuzz.trimf(JumlahProduksi.universe,[16828, 19100, 22000])\n",
    "JumlahProduksi['banyak'] = fuzz.trapmf(JumlahProduksi.universe,[19552, 22000, 25000, 25000])"
   ]
  },
  {
   "cell_type": "markdown",
   "metadata": {},
   "source": [
    "##### ~ Jumlah Produksi Sedikit"
   ]
  },
  {
   "cell_type": "markdown",
   "metadata": {},
   "source": [
    "\\begin{equation}\n",
    "  Jumlah Produksi['sedikit'] = \\mu JumlahProduksiSedikit(x)=\\begin{cases}\n",
    "    1, & \\text{$14105\\leq x\\leq16828$}.\\\\\n",
    "    (16828 - x)/(19552 - 16828) , & \\text{$16828 \\leq x \\leq 19552$}.\\\\\n",
    "    0, & \\text{$x\\geq 19552$}.\n",
    "  \\end{cases}\n",
    "\\end{equation}"
   ]
  },
  {
   "cell_type": "code",
   "execution_count": 15,
   "metadata": {},
   "outputs": [
    {
     "data": {
      "text/plain": [
       "Text(0.5,1,'Jumlah Produksi Sedikit')"
      ]
     },
     "execution_count": 15,
     "metadata": {},
     "output_type": "execute_result"
    },
    {
     "data": {
      "image/png": "[encoded data removed]",
      "text/plain": [
       "<matplotlib.figure.Figure at 0x1f8c8610518>"
      ]
     },
     "metadata": {},
     "output_type": "display_data"
    }
   ],
   "source": [
    "JumlahProduksi_sedikit = fuzz.trapmf(JumlahProduksi_x,[14105, 14105, 16828, 19552])\n",
    "fig, (ax0) = plt.subplots(nrows=1,figsize=(6,6))\n",
    "ax0.plot(JumlahProduksi_x,JumlahProduksi_sedikit,'blue')\n",
    "ax0.set_title('Jumlah Produksi Sedikit')"
   ]
  },
  {
   "cell_type": "markdown",
   "metadata": {},
   "source": [
    "##### ~ Jumlah Produksi Sedang"
   ]
  },
  {
   "cell_type": "markdown",
   "metadata": {},
   "source": [
    "\\begin{equation}\n",
    "  Jumlah Produksi['sedang'] = \\mu JumlahProduksiSedang(x)=\\begin{cases}\n",
    "    0, & \\text{$x\\leq 16828$ atau $x\\geq22000$}.\\\\\n",
    "    (x - 16828)/(19100 - 16828) , & \\text{$16828 \\leq x \\leq 19100$}.\\\\\n",
    "    (25000 - x)/(22000 - 19100) , & \\text{$19100 \\leq x \\leq 22000$}.\\\\\n",
    "  \\end{cases}\n",
    "\\end{equation}"
   ]
  },
  {
   "cell_type": "code",
   "execution_count": 29,
   "metadata": {},
   "outputs": [
    {
     "data": {
      "text/plain": [
       "Text(0.5,1,'Jumlah Produksi Sedikit')"
      ]
     },
     "execution_count": 29,
     "metadata": {},
     "output_type": "execute_result"
    },
    {
     "data": {
      "image/png": "[encoded data removed]",
      "text/plain": [
       "<matplotlib.figure.Figure at 0x1f8c9b1e3c8>"
      ]
     },
     "metadata": {},
     "output_type": "display_data"
    }
   ],
   "source": [
    "JumlahProduksi_sedang = fuzz.trimf(JumlahProduksi_x,[16828, 19100, 22000])\n",
    "fig, (ax0) = plt.subplots(nrows=1,figsize=(6,6))\n",
    "ax0.plot(JumlahProduksi_x,JumlahProduksi_sedang,'orange')\n",
    "ax0.set_title('Jumlah Produksi Sedikit')"
   ]
  },
  {
   "cell_type": "markdown",
   "metadata": {},
   "source": [
    "##### ~ Jumlah Produksi Banyak"
   ]
  },
  {
   "cell_type": "markdown",
   "metadata": {},
   "source": [
    "\\begin{equation}\n",
    "  Jumlah Produksi['banyak'] = \\mu JumlahProduksiBanyak(x)=\\begin{cases}\n",
    "    0, & \\text{$x\\leq 19552$}.\\\\\n",
    "    (x - 19552)/(25000 - 19552) , & \\text{$19552 \\leq x \\leq 25000$}.\\\\\n",
    "    1, & \\text{$x\\geq 25000$}.\n",
    "  \\end{cases}\n",
    "\\end{equation}"
   ]
  },
  {
   "cell_type": "code",
   "execution_count": 30,
   "metadata": {},
   "outputs": [
    {
     "data": {
      "text/plain": [
       "Text(0.5,1,'Jumlah Produksi Banyak')"
      ]
     },
     "execution_count": 30,
     "metadata": {},
     "output_type": "execute_result"
    },
    {
     "data": {
      "image/png": "[encoded data removed]",
      "text/plain": [
       "<matplotlib.figure.Figure at 0x1f8c9af76a0>"
      ]
     },
     "metadata": {},
     "output_type": "display_data"
    }
   ],
   "source": [
    "JumlahProduksi_banyak = fuzz.trapmf(JumlahProduksi_x,[19552, 22000, 25000, 25000])\n",
    "fig, (ax0) = plt.subplots(nrows=1,figsize=(6,6))\n",
    "ax0.plot(JumlahProduksi_x,JumlahProduksi_banyak,'green')\n",
    "ax0.set_title('Jumlah Produksi Banyak')"
   ]
  },
  {
   "cell_type": "markdown",
   "metadata": {},
   "source": [
    "##### ~ Plotting ketiga fungsi keanggotaan Jumlah Produksi"
   ]
  },
  {
   "cell_type": "code",
   "execution_count": 18,
   "metadata": {},
   "outputs": [
    {
     "name": "stderr",
     "output_type": "stream",
     "text": [
      "C:\\Users\\User\\Anaconda3\\lib\\site-packages\\matplotlib\\figure.py:418: UserWarning: matplotlib is currently using a non-GUI backend, so cannot show the figure\n",
      "  \"matplotlib is currently using a non-GUI backend, \"\n"
     ]
    },
    {
     "data": {
      "image/png": "[encoded data removed]",
      "text/plain": [
       "<matplotlib.figure.Figure at 0x1f8c87e6cc0>"
      ]
     },
     "metadata": {},
     "output_type": "display_data"
    }
   ],
   "source": [
    "JumlahProduksi.view()"
   ]
  },
  {
   "cell_type": "markdown",
   "metadata": {},
   "source": [
    "## Rule Base\n",
    "\n",
    "Rule yang saya gunakan ada sebanyak 15 rule :\n",
    "\n",
    "1. if (Permintaan is Sedikit) and (Persediaan is Sedikit) then (Jumlah Produksi is Sedikit) \n",
    "2. if (Permintaan is Sedikit) and (Persediaan is Sedang) then (Jumlah Produksi is Sedikit) \n",
    "3. if (Permintaan is Sedikit) and (Persediaan is Sedang) then (Jumlah Produksi is Sedang) \n",
    "4. if (Permintaan is Sedikit) and (Persediaan is Banyak) then (Jumlah Produksi is Sedikit) \n",
    "5. if (Permintaan is Sedikit) and (Persediaan is Banyak) then (Jumlah Produksi is Sedang) \n",
    "6. if (Permintaan is Sedang) and (Persediaan is Sedikit) then (Jumlah Produksi is Sedikit) \n",
    "7. if (Permintaan is Sedang) and (Persediaan is Sedikit) then (Jumlah Produksi is Sedang)  \n",
    "8. if (Permintaan is Sedang) and (Persediaan is Sedang) then (Jumlah Produksi is Sedang) \n",
    "9. if (Permintaan is Sedang) and (Persediaan is Banyak) then (Jumlah Produksi is Sedang) \n",
    "10. if (Permintaan is Sedang) and (Persediaan is Banyak) then (Jumlah Produksi is Banyak) \n",
    "11. if (Permintaan is Banyak) and (Persediaan is Sedikit) then (Jumlah Produksi is Sedikit) \n",
    "12. if (Permintaan is Banyak) and (Persediaan is Sedikit) then (Jumlah Produksi is Sedang) \n",
    "13. if (Permintaan is Banyak) and (Persediaan is Sedang) then (Jumlah Produksi is Sedang) \n",
    "14. if (Permintaan is Banyak) and (Persediaan is Sedang) then (Jumlah Produksi is Banyak)\n",
    "15. if (Permintaan is Banyak) and (Persediaan is Banyak) then (Jumlah Produksi is Banyak) "
   ]
  },
  {
   "cell_type": "code",
   "execution_count": 19,
   "metadata": {},
   "outputs": [],
   "source": [
    "rule1 = ctrl.Rule(permintaan['sedikit'] & persediaan['sedikit'], JumlahProduksi['sedikit'])\n",
    "rule2 = ctrl.Rule(permintaan['sedikit'] & persediaan['sedang'], JumlahProduksi['sedikit'])\n",
    "rule3 = ctrl.Rule(permintaan['sedikit'] & persediaan['sedang'], JumlahProduksi['sedang'])\n",
    "rule4 = ctrl.Rule(permintaan['sedikit'] & persediaan['banyak'], JumlahProduksi['sedikit'])\n",
    "rule5 = ctrl.Rule(permintaan['sedikit'] & persediaan['banyak'], JumlahProduksi['sedang'])\n",
    "\n",
    "rule6 = ctrl.Rule(permintaan['sedang'] & persediaan['sedikit'], JumlahProduksi['sedikit'])\n",
    "rule7 = ctrl.Rule(permintaan['sedang'] & persediaan['sedikit'], JumlahProduksi['sedang'])\n",
    "rule8 = ctrl.Rule(permintaan['sedang'] & persediaan['sedang'], JumlahProduksi['sedang'])\n",
    "rule9 = ctrl.Rule(permintaan['sedang'] & persediaan['banyak'], JumlahProduksi['sedang'])\n",
    "rule10 = ctrl.Rule(permintaan['sedang'] & persediaan['banyak'], JumlahProduksi['banyak'])\n",
    "\n",
    "rule11 = ctrl.Rule(permintaan['banyak'] & persediaan['sedikit'], JumlahProduksi['sedikit'])\n",
    "rule12 = ctrl.Rule(permintaan['banyak'] & persediaan['sedikit'], JumlahProduksi['sedang'])\n",
    "rule13 = ctrl.Rule(permintaan['banyak'] & persediaan['sedang'], JumlahProduksi['sedang'])\n",
    "rule14 = ctrl.Rule(permintaan['banyak'] & persediaan['sedang'], JumlahProduksi['banyak'])\n",
    "rule15 = ctrl.Rule(permintaan['banyak'] & persediaan['banyak'], JumlahProduksi['banyak'])"
   ]
  },
  {
   "cell_type": "markdown",
   "metadata": {},
   "source": [
    "Setelah memasukan rule maka kita akan memanggil rule tersebut untuk melihat hasil outputnya"
   ]
  },
  {
   "cell_type": "code",
   "execution_count": 20,
   "metadata": {},
   "outputs": [],
   "source": [
    "produksi_ctrl = ctrl.ControlSystem(\n",
    "    [rule1, rule2, rule3, rule4, rule5, rule6, rule7, rule8, rule9, rule10, rule11, rule12, rule13, rule14, rule15])\n",
    "\n",
    "produksi = ctrl.ControlSystemSimulation(produksi_ctrl)"
   ]
  },
  {
   "cell_type": "markdown",
   "metadata": {},
   "source": [
    "Untuk pembuktian rule kita mencoba memasukan datanya."
   ]
  },
  {
   "cell_type": "markdown",
   "metadata": {},
   "source": [
    "Percobaannya kita memasukan nilai permintaan 21000 dan persediaan 1700"
   ]
  },
  {
   "cell_type": "code",
   "execution_count": 21,
   "metadata": {},
   "outputs": [],
   "source": [
    "produksi.input['permintaan'] = 21000\n",
    "produksi.input['persediaan'] = 1700\n",
    "produksi.compute()"
   ]
  },
  {
   "cell_type": "markdown",
   "metadata": {},
   "source": [
    "Dari data yang kita masukkan didapatkanlah hasil seperti berikut"
   ]
  },
  {
   "cell_type": "code",
   "execution_count": 22,
   "metadata": {},
   "outputs": [
    {
     "name": "stdout",
     "output_type": "stream",
     "text": [
      "17602.246443104115\n"
     ]
    },
    {
     "name": "stderr",
     "output_type": "stream",
     "text": [
      "C:\\Users\\User\\Anaconda3\\lib\\site-packages\\matplotlib\\figure.py:418: UserWarning: matplotlib is currently using a non-GUI backend, so cannot show the figure\n",
      "  \"matplotlib is currently using a non-GUI backend, \"\n"
     ]
    },
    {
     "data": {
      "image/png": "[encoded data removed]",
      "text/plain": [
       "<matplotlib.figure.Figure at 0x1f8c89b5e48>"
      ]
     },
     "metadata": {},
     "output_type": "display_data"
    }
   ],
   "source": [
    "print(produksi.output['jumlah_produksi'])\n",
    "JumlahProduksi.view(sim=produksi)\n",
    "plt.show()"
   ]
  },
  {
   "cell_type": "markdown",
   "metadata": {},
   "source": [
    "##### Analisa\n",
    "Dari data yang kita masukan tadi, didapatkanlah hasil dimonan pada jumlah produksi sedikit dengan hasil perhitungan python sebesar 17602.246443104115. Untuk membuktikkannya kita akan menghitung secara manual setiap fungsi keanggotaan"
   ]
  },
  {
   "cell_type": "markdown",
   "metadata": {},
   "source": [
    "### Perhitungan Manual"
   ]
  },
  {
   "cell_type": "markdown",
   "metadata": {},
   "source": [
    "\\begin{equation}\n",
    "    Permintaan = 21000 \\\\\n",
    "    Masukkan\\,nilai\\,permintaan\\,ke\\,dalam\\,masing-masing\\,fungsi\\,keanggotaan\\,permintaan\\\\\n",
    "  Permintaan['sedikit'] = \\mu PermintaanSedikit(x)=\\begin{cases}\n",
    "    1, & \\text{$14868\\leq x\\leq18000$}.\\\\\n",
    "    (18000 - x)/(19150 - 14868) , & \\text{$18000 \\leq x \\leq 19150$}.\\\\\n",
    "    0, & \\text{$x\\geq 19150$}.\\checkmark\\\\\n",
    "  \\end{cases}\n",
    "  \\\\\n",
    "  Permintaan['sedang'] = \\mu PermintaanSedang(x)=\\begin{cases}\n",
    "    0, & \\text{$x\\leq 18000$ atau $x\\geq21291$}.\\\\\n",
    "    (x - 18000)/(19150 - 18000) , & \\text{$18000 \\leq x \\leq 19150$}.\\\\\n",
    "    (21291 - x)/(21291 - 19150) , & \\text{$19150 \\leq x \\leq 21291$}.\\checkmark\\\\\n",
    "  \\end{cases}\n",
    "  \\\\\n",
    "   Permintaan['banyak'] = \\mu PermintaanBanyak(x)=\\begin{cases}\n",
    "    0, & \\text{$x\\leq 19150$}.\\\\\n",
    "    (x - 19150)/(23432 - 19150) , & \\text{$19150 \\leq x \\leq 23432$}.\\checkmark\\\\\n",
    "    1, & \\text{$x\\geq 23432$}.\\\\\n",
    "  \\end{cases}\n",
    "\\end{equation}"
   ]
  },
  {
   "cell_type": "markdown",
   "metadata": {},
   "source": [
    "\\begin{equation}\n",
    "    \\mu PermintaanSedang(21000) = (21291−21000)/(21291−19150) \\\\\n",
    "    \\mu PermintaanSedang(21000) = 291/2141 \\\\ \n",
    "    \\mu PermintaanSedang(21000) = 0.13 \\\\\n",
    "    \\mu PermintaanBanyak(21000) = (21000−19150)/(23432−19150) \\\\\n",
    "    \\mu PermintaanBanyak(21000) = 1850/4282 \\\\ \n",
    "    \\mu PermintaanBanyak(21000) = 0.43 \\\\\n",
    "\\end{equation}"
   ]
  },
  {
   "cell_type": "markdown",
   "metadata": {},
   "source": [
    "\\begin{equation}\n",
    "    Persediaan = 1700\\\\\n",
    "    Masukkan\\,nilai\\,persediaan\\,ke\\,dalam\\,masing-masing\\,fungsi\\,keanggotaan\\,persediaan\\\\\n",
    "  Persediaan['sedikit'] = \\mu PersediaanSedikit(x)=\\begin{cases}\n",
    "    1, & \\text{$1170\\leq x\\leq1675$}.\\\\\n",
    "    (1675 - x)/(2180 - 1170) , & \\text{$1675 \\leq x \\leq 2180$}.\\checkmark\\\\\n",
    "    0, & \\text{$x\\geq 2.180$}.\n",
    "  \\end{cases}\n",
    "  \\\\\n",
    "  Persediaan['sedang'] = \\mu PersediaanSedang(x)=\\begin{cases}\n",
    "    0, & \\text{$x\\leq 1675$ atau $x\\geq2685$}.\\\\\n",
    "    (x - 1675)/(2180 - 1675) , & \\text{$1675 \\leq x \\leq 2180$}.\\checkmark\\\\\n",
    "    (2685 - x)/(2685 - 2180) , & \\text{$2180 \\leq x \\leq 2685$}.\\\\\n",
    "  \\end{cases}\n",
    "  \\\\\n",
    "   Persediaan['banyak'] = \\mu PersediaanBanyak(x)=\\begin{cases}\n",
    "    0, & \\text{$x\\leq 2180$}.\\checkmark\\\\\n",
    "    (x - 2180)/(3190 - 2180) , & \\text{$2180 \\leq x \\leq 3190$}.\\\\\n",
    "    1, & \\text{$x\\geq 3190$}.\n",
    "  \\end{cases}\n",
    "\\end{equation}"
   ]
  },
  {
   "cell_type": "markdown",
   "metadata": {},
   "source": [
    "\\begin{equation}\n",
    "    \\mu PersediaanSedikit(1300) = (1675−1300)/(2180−1170) \\\\\n",
    "    \\mu PersediaanSedikit(1300) = 375/1010 \\\\ \n",
    "    \\mu PersediaanSedikit(1300) = 0.37 \\\\\n",
    "    \\mu PersediaanSedang(1300) = (1700−1675)/(2180−1675) \\\\\n",
    "    \\mu PersediaanSedang(1300) = 25/505 \\\\ \n",
    "    \\mu PersediaanSedang(1300) = 0.049 \\\\\n",
    "\\end{equation}"
   ]
  },
  {
   "cell_type": "markdown",
   "metadata": {},
   "source": [
    "Lalu kita cari nilai z untuk setiap aturan dengan menggunakan fungsi MIN karena menggunakan rule AND\n",
    "\n",
    "\n",
    "1 if (Permintaan is Sedikit) and (Persediaan is Sedikit) then (Jumlah Produksi is Sedikit) \n",
    "\n",
    "$$ \\\\ \\alpha(predikat_1) = \\mu PermintaanSedikit \\cap \\mu PersediaanSedikit $$\n",
    "$$\\alpha(predikat_1)   = min (\\mu PermintaanSedikit[21000], \\mu PersediaanSedikit[1700]) $$\n",
    "$$ \\alpha(predikat_1) = min (0; 0.37) $$\n",
    "$$ \\alpha(predikat_1) = 0 $$\n",
    "\n",
    "Lalu lihat himpunan Jumlah Produksi sedikit \n",
    "$$\n",
    "   JumlahProduksi['sedikit'] = \\mu(x)=\\begin{cases}\n",
    "   1, & \\text{$14105\\leq x\\leq16828$}.\\\\\n",
    "   \\left.(16828 - x)\\, \\right/(19552 - 16828) , & \\text{$16828 \\leq x \\leq 19552$}.\\\\\n",
    "   0, & \\text{$x\\geq 19552$}.\n",
    "  \\end{cases}\n",
    " $$\n",
    " \n",
    "Maka nilai keanggotaan yang memenuhi adalah 0.\n",
    "Maka nilai $ Z_1 = 0 $\n",
    "\n",
    "=================================================================================================================\n",
    "\n",
    "2 if (Permintaan is Sedikit) and (Persediaan is Sedang) then (Jumlah Produksi is Sedikit) \n",
    "\n",
    "$$ \\\\ \\alpha(predikat_2) = \\mu PermintaanSedikit \\cap \\mu PersediaanSedang $$\n",
    "$$\\alpha(predikat_2) = min (\\mu PermintaanSedikit[21000], \\mu PersediaanSedang[1700]) $$\n",
    "$$ \\alpha(predikat_2) = min (0; 0.049) $$\n",
    "$$ \\alpha(predikat_2) = 0 $$\n",
    "\n",
    "Lalu lihat himpunan Jumlah Produksi sedikit\n",
    "$$\n",
    "   JumlahProduksi['sedikit'] = \\mu(x)=\\begin{cases}\n",
    "   1, & \\text{$14105\\leq x\\leq16828$}.\\\\\n",
    "   \\left.(16828 - x)\\, \\right/(19552 - 16828) , & \\text{$16828 \\leq x \\leq 19552$}.\\\\\n",
    "   0, & \\text{$x\\geq 19552$}.\n",
    "  \\end{cases}\n",
    " $$\n",
    " \n",
    "Maka nilai keanggotaan yang memenuhi adalah 0\n",
    "Maka nilai $ Z_2 = 0 $\n",
    "\n",
    "=================================================================================================================\n",
    "\n",
    "3 if (Permintaan is Sedikit) and (Persediaan is Sedang) then (Jumlah Produksi is Sedang)\n",
    "\n",
    "$$ \\\\ \\alpha(predikat_3) = \\mu PermintaanSedikit \\cap \\mu PersediaanSedang $$\n",
    "$$\\alpha(predikat_3) = min (\\mu PermintaanSedikit[21000], \\mu PersediaanSedang[1700]) $$\n",
    "$$ \\alpha(predikat_3) = min (0; 0.049) $$\n",
    "$$ \\alpha(predikat_3) = 0 $$\n",
    "\n",
    "Lalu lihat himpunan Jumlah Produksi sedang \n",
    "$$\n",
    "   JumlahProduksi['sedang'] = \\mu(x)=\\begin{cases}\n",
    "   0, & \\text{$x\\leq 16828$ atau $x\\geq22000$}.\\\\\n",
    "   \\left.(x - 16828)\\, \\right/(19100 - 16828) , & \\text{$16828 \\leq x \\leq 19100$}.\\\\\n",
    "   \\left.(22000 - x)\\, \\right/(22000 - 19100) , & \\text{$19100 \\leq x \\leq 22000$}.\\\\\n",
    " \\end{cases}   \n",
    "$$\n",
    "\n",
    "Maka nilai keanggotaan yang memenuhi adalah 0\n",
    "Maka nilai $ Z_3 = 0 $\n",
    "\n",
    "=================================================================================================================\n",
    "\n",
    "4 if (Permintaan is Sedikit) and (Persediaan is Banyak) then (Jumlah Produksi is Sedikit) \n",
    "\n",
    "$$ \\\\ \\alpha(predikat_4) = \\mu PermintaanSedikit \\cap \\mu PersediaanBanyak $$\n",
    "$$\\alpha(predikat_4) = min (\\mu PermintaanSedikit[21000], \\mu PersediaanBanyak[1700]) $$\n",
    "$$ \\alpha(predikat_4) = min (0; 0) $$\n",
    "$$ \\alpha(predikat_4) = 0 $$\n",
    "\n",
    "Lalu lihat himpunan Jumlah Produksi sedikit \n",
    "$$\n",
    "   JumlahProduksi['sedikit'] = \\mu(x)=\\begin{cases}\n",
    "   1, & \\text{$14105\\leq x\\leq16828$}.\\\\\n",
    "   \\left.(16828 - x)\\, \\right/(19552 - 16828) , & \\text{$16828 \\leq x \\leq 19552$}.\\\\\n",
    "   0, & \\text{$x\\geq 19552$}.\n",
    "  \\end{cases}\n",
    " $$\n",
    "\n",
    "Maka nilai keanggotaan yang memenuhi adalah 0\n",
    "Maka nilai $ Z_4= 0 $\n",
    "\n",
    "=================================================================================================================\n",
    "\n",
    "5 if (Permintaan is Sedikit) and (Persediaan is Banyak) then (Jumlah Produksi is Sedang)\n",
    "\n",
    "$$ \\\\ \\alpha(predikat_5) = \\mu PermintaanSedikit \\cap \\mu PersediaanBanyak $$\n",
    "$$\\alpha(predikat_5) = min (\\mu PermintaanSedikit[21000], \\mu PersediaanBanyak[1700]) $$\n",
    "$$ \\alpha(predikat_5) = min (0; 0) $$\n",
    "$$ \\alpha(predikat_5) = 0 $$\n",
    "\n",
    "Lalu lihat himpunan Jumlah Produksi sedang\n",
    "$$\n",
    "   JumlahProduksi['sedang'] = \\mu(x)=\\begin{cases}\n",
    "   0, & \\text{$x\\leq 16828$ atau $x\\geq22000$}.\\\\\n",
    "   \\left.(x - 16828)\\, \\right/(19100 - 16828) , & \\text{$16828 \\leq x \\leq 19100$}.\\\\\n",
    "   \\left.(22000 - x)\\, \\right/(22000 - 19100) , & \\text{$19100 \\leq x \\leq 22000$}.\\\\\n",
    " \\end{cases}   \n",
    "$$\n",
    "\n",
    "Maka nilai keanggotaan yang memenuhi adalah 0\n",
    "Maka nilai $ Z_5= 0 $\n",
    "\n",
    "=================================================================================================================\n",
    "\n",
    "6 if (Permintaan is Sedang) and (Persediaan is Sedikit) then (Jumlah Produksi is Sedikit)\n",
    "\n",
    "$$ \\\\ \\alpha(predikat_6) = \\mu PermintaanSedang \\cap \\mu PersediaanSedikit $$\n",
    "$$\\alpha(predikat_6) = min (\\mu PermintaanSedang[21000], \\mu PersediaanSedikit[1700]) $$\n",
    "$$ \\alpha(predikat_6) = min (0.13; 0.37) $$\n",
    "$$ \\alpha(predikat_6) = 0.13 $$\n",
    "\n",
    "Lalu lihat himpunan Jumlah Produksi sedikit\n",
    "$$\n",
    "   JumlahProduksi['sedikit'] = \\mu(x)=\\begin{cases}\n",
    "   1, & \\text{$14105\\leq x\\leq16828$}.\\\\\n",
    "   \\left.(16828 - x)\\, \\right/(19552 - 16828) , & \\text{$16828 \\leq x \\leq 19552$}.\\\\\n",
    "   0, & \\text{$x\\geq 19552$}.\n",
    "  \\end{cases}\n",
    "$$\n",
    "Terdapat 1 nilai keanggotaan yang akan di uji\n",
    " $$(16828 − x)/(19552 − 16828) = 0.13 $$\n",
    " $$ 16828 − x = 0.13 \\times 2724 $$\n",
    " $$ 16828 − x = 354.12 $$\n",
    " $$ - x = - 16473.38 $$\n",
    " $$ x = 16473.38$$\n",
    "\n",
    "Maka nilai keanggotaan yang memenuhi adalah 16501.12\n",
    "Maka nilai $ Z_6= 16501.12 $\n",
    "\n",
    "=================================================================================================================\n",
    "\n",
    "7 if (Permintaan is Sedang) and (Persediaan is Sedikit) then (Jumlah Produksi is Sedang)\n",
    "\n",
    "$$ \\\\ \\alpha(predikat_7) = \\mu PermintaanSedang \\cap \\mu PersediaanSedikit $$\n",
    "$$\\alpha(predikat_7) = min (\\mu PermintaanSedang[21000], \\mu PersediaanSedikit[1700]) $$\n",
    "$$ \\alpha(predikat_7) = min (0.12; 0.37) $$\n",
    "$$ \\alpha(predikat_7) = 0.13 $$\n",
    "\n",
    "Lalu lihat himpunan Jumlah Produksi sedang\n",
    "$$\n",
    "   JumlahProduksi['sedang'] = \\mu(x)=\\begin{cases}\n",
    "   0, & \\text{$x\\leq 16828$ atau $x\\geq22000$}.\\\\\n",
    "   \\left.(x - 16828)\\, \\right/(19100 - 16828) , & \\text{$16828 \\leq x \\leq 19100$}.\\\\\n",
    "   \\left.(22000 - x)\\, \\right/(22000 - 19100) , & \\text{$19100 \\leq x \\leq 22000$}.\\\\\n",
    " \\end{cases}   \n",
    "$$\n",
    "\n",
    "Terdapat 2 nilai keanggotaan maka kita uji satu persatu\n",
    " $$(x - 16828)/(19100 - 16828) = 0.13 $$\n",
    " $$ x - 16828 = 0.13 \\times 2272 $$\n",
    " $$ x - 16828 = 295.36 $$\n",
    " $$ x = 17123.36 $$\n",
    " $$(22000 - x)/(22000 - 19100) = 0.13 $$\n",
    " $$ 22000 - x = 0.13 \\times 2900 $$\n",
    " $$ 22000 - x = 377 $$\n",
    " $$ - x = - 21623 $$\n",
    " $$ x = 21623 $$\n",
    "\n",
    "Akan diambil nilai terkecil\n",
    "Maka nilai $ Z_7= 17123.36 $\n",
    "\n",
    "\n",
    "=================================================================================================================\n",
    "\n",
    "8 if (Permintaan is Sedang) and (Persediaan is Sedang) then (Jumlah Produksi is Sedang)\n",
    "\n",
    "$$ \\\\ \\alpha(predikat_8) = \\mu PermintaanSedang \\cap \\mu PersediaanSedang$$\n",
    "$$\\alpha(predikat_8) = min (\\mu PermintaanSedang[21000], \\mu PersediaanSedang[1700]) $$\n",
    "$$ \\alpha(predikat_8) = min (0.13; 0.049) $$\n",
    "$$ \\alpha(predikat_8) = 0.049 $$\n",
    "\n",
    "Lalu lihat himpunan Jumlah Produksi sedang\n",
    "$$\n",
    "   JumlahProduksi['sedang'] = \\mu(x)=\\begin{cases}\n",
    "   0, & \\text{$x\\leq 14105$ atau $x\\geq25000$}.\\\\\n",
    "   \\left.(x - 14105)\\, \\right/(19100 - 14105) , & \\text{$14105 \\leq x \\leq 19100$}.\\\\\n",
    "   \\left.(25000 - x)\\, \\right/(25000 - 19100) , & \\text{$19100 \\leq x \\leq 25000$}.\\\\\n",
    " \\end{cases}   \n",
    "$$\n",
    "\n",
    "Terdapat 2 nilai keanggotaan maka kita uji satu persatu\n",
    " $$(x - 16828)/(19100 - 16828) = 0.049$$\n",
    " $$ x - 16828 = 0.049 \\times 2272 $$\n",
    " $$ x - 16828 = 111.328 $$\n",
    " $$ x = 16939.328 $$\n",
    " $$(22000 - x)/(22000 - 19100) = 0.049 $$\n",
    " $$ 22000 - x = 0.049 \\times 2900 $$\n",
    " $$ 22000 - x = 142.1 $$\n",
    " $$ - x = - 21857.9 $$\n",
    " $$ x = 21857.9 $$\n",
    "\n",
    "Akan diambil nilai terkecil\n",
    "Maka nilai $ Z_8 = 16939.328 $\n",
    "\n",
    "=================================================================================================================\n",
    "\n",
    "9 if (Permintaan is Sedang) and (Persediaan is Banyak) then (Jumlah Produksi is Sedang)\n",
    "\n",
    "$$ \\\\ \\alpha(predikat_9) = \\mu PermintaanSedang \\cap \\mu PersediaanBanyak$$\n",
    "$$\\alpha(predikat_9) = min (\\mu PermintaanSedang[21000], \\mu PersediaanBanyak[1700]) $$\n",
    "$$ \\alpha(predikat_9) = min (0.12; 0) $$\n",
    "$$ \\alpha(predikat_9) = 0 $$\n",
    "\n",
    "Lalu lihat himpunan Jumlah Produksi sedang\n",
    "$$\n",
    "   JumlahProduksi['sedang'] = \\mu(x)=\\begin{cases}\n",
    "   0, & \\text{$x\\leq 16828$ atau $x\\geq22000$}.\\\\\n",
    "   \\left.(x - 16828)\\, \\right/(19100 - 16828) , & \\text{$16828 \\leq x \\leq 19100$}.\\\\\n",
    "   \\left.(22000 - x)\\, \\right/(22000 - 19100) , & \\text{$19100 \\leq x \\leq 22000$}.\\\\\n",
    " \\end{cases}   \n",
    "$$\n",
    "\n",
    "Maka nilai keanggotaan yang memenuhi adalah 0\n",
    "Maka nilai $ Z_9= 0 $\n",
    "\n",
    "=================================================================================================================\n",
    "\n",
    "10 if (Permintaan is Sedang) and (Persediaan is Banyak) then (Jumlah Produksi is Banyak)\n",
    "\n",
    "$$ \\\\ \\alpha(predikat_1\\,_0) = \\mu PermintaanSedang \\cap \\mu PersediaanBanyak$$\n",
    "$$\\alpha(predikat_1\\,_0) = min (\\mu PermintaanSedang[21000], \\mu PersediaanBanyak[1700]) $$\n",
    "$$ \\alpha(predikat_1\\,_0) = min (0.12; 0) $$\n",
    "$$ \\alpha(predikat_1\\,_0) = 0 $$\n",
    "\n",
    "Lalu lihat himpunan Jumlah Produksi banyak\n",
    "$$\n",
    "   JumlahProduksi['banyak'] = \\mu(x)=\\begin{cases}\n",
    "   0, & \\text{$x\\leq 19552$}.\\\\\n",
    "   \\left.(x - 19552)\\, \\right/(25000 - 19552) , & \\text{$19552 \\leq x \\leq 25000$}.\\\\\n",
    "    1, & \\text{$x\\geq 25000$}.\n",
    " \\end{cases}   \n",
    "$$\n",
    "\n",
    "Maka nilai keanggotaan yang memenuhi adalah 0\n",
    "Maka nilai $ Z_1$$_0 = 0 $\n",
    "\n",
    "=================================================================================================================\n",
    "\n",
    "11 if (Permintaan is Banyak) and (Persediaan is Sedikit) then (Jumlah Produksi is Sedikit)\n",
    "\n",
    "$$ \\\\ \\alpha(predikat_1\\,_1) = \\mu PermintaanBanyak \\cap \\mu PersediaanSedikit$$\n",
    "$$\\alpha(predikat_1\\,_1) = min (\\mu PermintaanBanyak[21000], \\mu PersediaanSedikit[1700]) $$\n",
    "$$ \\alpha(predikat_1\\,_1) = min (0.43; 1) $$\n",
    "$$ \\alpha(predikat_1\\,_1) = 0.43 $$\n",
    "\n",
    "Lalu lihat himpunan Jumlah Produksi sedikit\n",
    "$$\n",
    "   JumlahProduksi['sedikit'] = \\mu(x)=\\begin{cases}\n",
    "   1, & \\text{$14105\\leq x\\leq16828$}.\\\\\n",
    "   \\left.(16828 - x)\\, \\right/(19552 - 16828) , & \\text{$16828 \\leq x \\leq 19552$}.\\\\\n",
    "   0, & \\text{$x\\geq 19552$}.\n",
    "  \\end{cases}\n",
    " $$\n",
    "\n",
    "Terdapat 1 nilai keanggotaan yang akan di uji\n",
    " $$(16828−x)/(19552−16828) = 0.43 $$\n",
    " $$ x - 14105 = 0.43 \\times 2724 $$\n",
    " $$ x - 14105 = 1171.32 $$\n",
    " $$ x =  15276.32$$\n",
    "\n",
    "Maka nilai $ Z_1$$_1= 15276.32 $\n",
    "\n",
    "=================================================================================================================\n",
    "\n",
    "12 if (Permintaan is Banyak) and (Persediaan is Sedikit) then (Jumlah Produksi is Sedang)\n",
    "\n",
    "$$ \\\\ \\alpha(predikat_1\\,_2) = \\mu PermintaanBanyak \\cap \\mu PersediaanSedikit$$\n",
    "$$\\alpha(predikat_1\\,_2) = min (\\mu PermintaanBanyak[21000], \\mu PersediaanSedikit[1700]) $$\n",
    "$$ \\alpha(predikat_1\\,_2) = min (0.43; 0.37) $$\n",
    "$$ \\alpha(predikat_1\\,_2) = 0.37 $$\n",
    "\n",
    "Lalu lihat himpunan Jumlah Produksi sedang\n",
    "$$\n",
    "   JumlahProduksi['sedang'] = \\mu(x)=\\begin{cases}\n",
    "   0, & \\text{$x\\leq 16828$ atau $x\\geq22000$}.\\\\\n",
    "   \\left.(x - 16828)\\, \\right/(19100 - 16828) , & \\text{$16828 \\leq x \\leq 19100$}.\\\\\n",
    "   \\left.(22000 - x)\\, \\right/(22000 - 19100) , & \\text{$19100 \\leq x \\leq 22000$}.\\\\\n",
    " \\end{cases}   \n",
    "$$\n",
    "\n",
    "Terdapat 2 nilai keanggotaan maka kita uji satu persatu\n",
    " $$(x - 16828)/(19100 - 16828) = 0.37 $$\n",
    " $$ x - 16828 = 0.37 \\times 2272 $$\n",
    " $$ x - 16828 = 840.64 $$\n",
    " $$ x =  17668.64 $$\n",
    " $$(22000 - x)/(22000 - 19100) = 0.37 $$\n",
    " $$ 22000 - x = 0.37 \\times 2900 $$\n",
    " $$ 22000 - x = 1073 $$\n",
    " $$ - x = - 20927 $$\n",
    " $$ x = 20927 $$\n",
    "\n",
    "\n",
    "Maka nilai keanggotaan yang memenuhi adalah 17668.64\n",
    "Maka nilai $ Z_1$$_2= 17668.64 $\n",
    "\n",
    "=================================================================================================================\n",
    "\n",
    "13 if (Permintaan is Banyak) and (Persediaan is Sedang) then (Jumlah Produksi is Sedang)\n",
    "\n",
    "$$ \\\\ \\alpha(predikat_1\\,_3) = \\mu PermintaanBanyak \\cap \\mu PersediaanSedang$$\n",
    "$$\\alpha(predikat_1\\,_3) = min (\\mu PermintaanBanyak[21000], \\mu PersediaanSedang[1700]) $$\n",
    "$$ \\alpha(predikat_1\\,_3) = min (0.43; 0.049) $$\n",
    "$$ \\alpha(predikat_1\\,_3) = 0.049 $$\n",
    "\n",
    "Lalu lihat himpunan Jumlah Produksi sedang\n",
    "$$\n",
    "   JumlahProduksi['sedang'] = \\mu(x)=\\begin{cases}\n",
    "   0, & \\text{$x\\leq 16828$ atau $x\\geq22000$}.\\\\\n",
    "   \\left.(x - 16828)\\, \\right/(19100 - 16828) , & \\text{$16828 \\leq x \\leq 19100$}.\\\\\n",
    "   \\left.(22000 - x)\\, \\right/(22000 - 19100) , & \\text{$19100 \\leq x \\leq 22000$}.\\\\\n",
    " \\end{cases}   \n",
    "$$\n",
    "\n",
    "Terdapat 2 nilai keanggotaan maka kita uji satu persatu\n",
    " $$(x - 16828)/(19100 - 16828) = 0.049$$\n",
    " $$ x - 16828 = 0.049 \\times 2272 $$\n",
    " $$ x - 16828 = 111.328 $$\n",
    " $$ x = 16939.328 $$\n",
    " $$(22000 - x)/(22000 - 19100) = 0.049 $$\n",
    " $$ 22000 - x = 0.049 \\times 2900 $$\n",
    " $$ 22000 - x = 142.1 $$\n",
    " $$ - x = - 21857.9 $$\n",
    " $$ x = 21857.9 $$\n",
    "\n",
    "Akan diambil nilai terkecil\n",
    "Maka nilai $ Z_1$$_3= 16939.328 $\n",
    "\n",
    "=================================================================================================================\n",
    "\n",
    "14 if (Permintaan is Banyak) and (Persediaan is Sedang) then (Jumlah Produksi is Banyak)\n",
    "\n",
    "$$ \\\\ \\alpha(predikat_1\\,_4) = \\mu PermintaanBanyak \\cap \\mu PersediaanSedang$$\n",
    "$$\\alpha(predikat_1\\,_4) = min (\\mu PermintaanBanyak[21000], \\mu PersediaanSedang[1700]) $$\n",
    "$$ \\alpha(predikat_1\\,_4) = min (0.43; 0.049) $$\n",
    "$$ \\alpha(predikat_1\\,_4) = 0.049 $$\n",
    "\n",
    "Lalu lihat himpunan Jumlah Produksi banyak\n",
    "$$\n",
    "   JumlahProduksi['banyak'] = \\mu(x)=\\begin{cases}\n",
    "   0, & \\text{$x\\leq 19552$}.\\\\\n",
    "   \\left.(x - 19552)\\, \\right/(25000 - 19552) , & \\text{$19552 \\leq x \\leq 25000$}.\\\\\n",
    "    1, & \\text{$x\\geq 25000$}.\n",
    " \\end{cases}   \n",
    "$$\n",
    "\n",
    "Terdapat 1 nilai keanggotaan yang akan di uji\n",
    " $$ (x - 19552)/(25000 - 19552) = 0.049$$\n",
    " $$ x - 19552 = 0.049 \\times 5448 $$\n",
    " $$ x - 19552 = 266.952 $$\n",
    " $$ x = 19818.952 $$\n",
    "\n",
    "Maka nilai keanggotaan yang memenuhi adalah 19818.952\n",
    "Maka nilai $ Z_1$$_4= 19818.952 $\n",
    "\n",
    "=================================================================================================================\n",
    "\n",
    "15 if (Permintaan is Banyak) and (Persediaan is Banyak) then (Jumlah Produksi is Banyak) \n",
    "\n",
    "$$ \\\\ \\alpha(predikat_1\\,_5) = \\mu PermintaanBanyak \\cap \\mu PersediaanBanyak$$\n",
    "$$\\alpha(predikat_1\\,_5) = min (\\mu PermintaanBanyak[21000], \\mu PersediaanBanyak[1700]) $$\n",
    "$$ \\alpha(predikat_1\\,_5) = min (0.89; 0) $$\n",
    "$$ \\alpha(predikat_1\\,_5) = 0 $$\n",
    "\n",
    "Lalu lihat himpunan Jumlah Produksi banyak\n",
    "$$\n",
    "   JumlahProduksi['banyak'] = \\mu(x)=\\begin{cases}\n",
    "   0, & \\text{$x\\leq 19552$}.\\\\\n",
    "   \\left.(x - 19552)\\, \\right/(25000 - 19552) , & \\text{$19552 \\leq x \\leq 25000$}.\\\\\n",
    "    1, & \\text{$x\\geq 25000$}.\n",
    " \\end{cases}   \n",
    "$$\n",
    "\n",
    "Maka nilai keanggotaan yang memenuhi adalah 0\n",
    "Maka nilai $ Z_1$$_5= 0 $\n"
   ]
  },
  {
   "cell_type": "markdown",
   "metadata": {},
   "source": [
    "Dari sini kita dapat mencari nilai z, yaitu :"
   ]
  },
  {
   "cell_type": "markdown",
   "metadata": {},
   "source": [
    "Z =$$ \\frac{\\alpha predikat_1 \\times Z_1 +\n",
    "\\alpha predikat_2 \\times Z_2 +\n",
    "\\alpha predikat_3 \\times Z_3 +\n",
    "\\alpha predikat_4 \\times Z_4 +\n",
    "\\alpha predikat_5 \\times Z_5 +\n",
    "\\alpha predikat_6 \\times Z_6 +\n",
    "\\alpha predikat_7 \\times Z_7 +\n",
    "\\alpha predikat_8 \\times Z_8 +\n",
    "\\alpha predikat_9 \\times Z_9 +\n",
    "\\alpha predikat_1\\,_0 \\times Z_1\\,_1 +\n",
    "\\alpha predikat_1\\,_1 \\times Z_1\\,_2 +\n",
    "\\alpha predikat_1\\,_2 \\times Z_1\\,_2 +\n",
    "\\alpha predikat_1\\,_3 \\times Z_1\\,_3 +\n",
    "\\alpha predikat_1\\,_4 \\times Z_1\\,_4 +\n",
    "\\alpha predikat_1\\,_5 \\times Z_1\\,_5 +}\n",
    "{\\alpha predikat_1 + \\alpha predikat_2 +\n",
    "\\alpha predikat_3 + \\alpha predikat_4 +\n",
    "\\alpha predikat_5 + \\alpha predikat_6 +\n",
    "\\alpha predikat_7 + \\alpha predikat_8 +\n",
    "\\alpha predikat_9 + \\alpha predikat_1\\,_0 +\n",
    "\\alpha predikat_1\\,_1 + \\alpha predikat_1\\,_2 +\n",
    "\\alpha predikat_1\\,_3 + \\alpha predikat_1\\,_4 +\n",
    "\\alpha predikat_1\\,_5 }$$"
   ]
  },
  {
   "cell_type": "markdown",
   "metadata": {},
   "source": [
    " $$Z = \\frac{0 + 0 + 0 + 0 + 0 + 0.13 \\times 16473.88 + 0.13 \\times 17123.36 + 0.049 \\times 16939.328 + 0 + 0 + 0.43 \\times 15276.32 + 0.37 \\times 17668.64 + 0.049 \\times 16939.328 + 0.049 \\times 19818.952 + 0}{0 + 0 + 0 + 0 + 0 + 0.13 + 0.13 + 0.049 + 0 + 0 + 0.43 + 0.37 + 0.049 + 0.049 + 0} $$\n",
    " \n",
    " $$ Z = \\frac{2141.604 + 2226.037 + 830.027 + 5278.818 + 6537.397 + 830.027 + 971.122}{1.207} $$\n",
    " $$ Z = \\frac{18815.022}{1.207} $$\n",
    " $$ Z = 15588.253521126\\, $$"
   ]
  },
  {
   "cell_type": "markdown",
   "metadata": {},
   "source": [
    "#### Kesimpulan"
   ]
  },
  {
   "cell_type": "markdown",
   "metadata": {},
   "source": [
    "Hasil output yang dikeluarkan menggunakan code python sebesar 17602.246443104 sedangkan perhitungan manual sebesar 15588.253521126.\n",
    "Terdapat perbedaan sebesar 2013.992921978 atau sebesar 11.44%"
   ]
  },
  {
   "cell_type": "markdown",
   "metadata": {},
   "source": [
    "### Referensi\n",
    "\n",
    "1. http://journals.ums.ac.id/index.php/jiti/article/view/1368"
   ]
  },
  {
   "cell_type": "code",
   "execution_count": null,
   "metadata": {},
   "outputs": [],
   "source": []
  }
 ],
 "metadata": {
  "kernelspec": {
   "display_name": "Python 3",
   "language": "python",
   "name": "python3"
  },
  "language_info": {
   "codemirror_mode": {
    "name": "ipython",
    "version": 3
   },
   "file_extension": ".py",
   "mimetype": "text/x-python",
   "name": "python",
   "nbconvert_exporter": "python",
   "pygments_lexer": "ipython3",
   "version": "3.6.4"
  }
 },
 "nbformat": 4,
 "nbformat_minor": 2
}
