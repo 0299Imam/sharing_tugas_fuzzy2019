{
 "cells": [
  {
   "cell_type": "markdown",
   "metadata": {},
   "source": [
    "# <center>Penilaian Prestasi Kinerja Pegawai Menggunakan Fuzzy Tsukamoto\n",
    "    \n",
    "- __NAMA  : Ahmad Fansyuri__\n",
    "- __NIM   : 09011281722052__\n",
    "- __KELAS : SK5B__\n",
    "- __MK    : Artificial Intelligence__"
   ]
  },
  {
   "cell_type": "markdown",
   "metadata": {},
   "source": [
    "## Abstrak\n",
    "\n",
    "<div style=\"text-align: justify\\n\"> Pengukuran kinerja pegawai pada suatu perusahaan merupakan hal yang sangat penting untuk evaluasi dan perencanaan perusahaan di masa datang. Setiap perusahaan mempunyai cara yang berbeda dalam melakukan penilaian kinerja pegawai. Penilaian kinerja harus dilakukan dengan metode yang baik dan tepat sehingga dapat menjamin perlakuan yang adil serta memuaskan bagi para pegawai yang dinilai. Hal ini dapat menumbuhkan loyalitas dan semangat kerja pegawai. Pada makalah ini dibahas pembuatan sistem penilaian kinerja pegawai menggunakan Sistem Inferensi Fuzzy Tsukamoto. Parameter yang digunakan untuk batasan fungsi keanggotaan fuzzy berdasarkan pendapat pakar yaitu tanggung jawab, kedisiplinan dan faktor pengurang. Akurasi Sistem dihitung dengan membandingkan keluaran sistem dengan penilaian pakar. Hasil uji coba menunjukkan bahwa sistem yang dibangun menghasilkan akurasi 84%. </div>"
   ]
  },
  {
   "cell_type": "code",
   "execution_count": 1,
   "metadata": {},
   "outputs": [],
   "source": [
    "#Memanggil Library\n",
    "#numpy berfungsi untuk menampung nilai membership function di dalam array\n",
    "# #Matplotlib.pyplot digunakan untuk menampilkan grafik membership function untuk setiap variabel\n",
    "#skfuzzy adalah library yang khusus untuk menghitung nilai fuzzy\n",
    "\n",
    "import numpy as np\n",
    "import matplotlib.pyplot as plt\n",
    "import skfuzzy as fuzz\n",
    "%matplotlib inline"
   ]
  },
  {
   "cell_type": "markdown",
   "metadata": {},
   "source": [
    "#### FUZZYFIKASI\n",
    "\n",
    "Fuzzyfikasi merupakan proses untuk mengubah input sistem yang mempunyai nilai tegas menjadi variabel linguistik munggunakan fungsi keanggotaan yang disimpan dalam basis pengetahuan fuzzy. Dalam hal ini, terdapat 3 variabel, yaitu 2 variabel input dan 1 variabel output.\n",
    "\n",
    "inputan terdiri dari dua variabel yaitu permintaan dan persediaan, dimana setiap variabel akan disusun domain himpunan fuzzynya, setelah itu akan ditentukan fungsi keanggotaan dari masing-masing variabel.\n",
    "\n",
    "## Variabel Input  :\n",
    "untuk 2 variabel input pada pemintaan terdapat tiga nilai linguistik yaitu buruk(1 - 40), cukup(30 - 80), dan baik(70 - 100).\n",
    "\n",
    "## Variabel Output\n",
    "untuk variabel output nya diberi nama Hasil Penilaian dan memiliki lima(5) kriteria yaitu sangat buruk(1-30), buruk(20-50), cukup(40-70), baik(60-90), Sangat baik(80-100)."
   ]
  },
  {
   "cell_type": "markdown",
   "metadata": {},
   "source": [
    "|    Fungsi   |     Nama Variabe     |      Rentang    | \n",
    "|-------------|----------------------|-----------------|\n",
    "|    Input    |     Tanggung Jawab   |     [0 - 100]   |\n",
    "|             |      Kedisiplinan    |     [0 - 100]   |\n",
    "|-------------|----------------------|-----------------|\n",
    "|    Output   |    Hasil Penilaian   |     [0 - 100]   | "
   ]
  },
  {
   "cell_type": "code",
   "execution_count": 2,
   "metadata": {},
   "outputs": [],
   "source": [
    "#Membuat variabel-variabel universal\n",
    "x_tanggungj = np.arange(0, 100, 1)\n",
    "x_disiplin = np.arange(0, 100, 1)\n",
    "x_hasilpenilaian = np.arange(0, 100, 1)"
   ]
  },
  {
   "cell_type": "markdown",
   "metadata": {},
   "source": [
    "## 1. Membuat membership function untuk 2 variabel"
   ]
  },
  {
   "cell_type": "code",
   "execution_count": 3,
   "metadata": {},
   "outputs": [],
   "source": [
    "#Membuat fungsi keanggotaan fuzzy\n",
    "tanggungj_bad = fuzz.trapmf(x_tanggungj, [0,0,30,40])\n",
    "tanggungj_nor = fuzz.trapmf(x_tanggungj, [30,40,70,80])\n",
    "tanggungj_god = fuzz.trapmf(x_tanggungj, [70,80,100,100])\n",
    "\n",
    "disiplin_bad = fuzz.trapmf(x_disiplin, [0,0,30,40])\n",
    "disiplin_nor = fuzz.trapmf(x_disiplin, [30,40,70,80])\n",
    "disiplin_god = fuzz.trapmf(x_disiplin, [70,80,100,100])\n",
    "\n",
    "hasil_buruk= fuzz.trapmf(x_hasilpenilaian, [0,0,30,50])\n",
    "hasil_cukup = fuzz.trimf(x_hasilpenilaian, [30,50,70])\n",
    "hasil_baik = fuzz.trapmf(x_hasilpenilaian, [50,70,100,100])"
   ]
  },
  {
   "cell_type": "markdown",
   "metadata": {},
   "source": [
    "$tanggungj[bad] =\n",
    "\\left\\{\n",
    "    \\begin {array}{ll}\n",
    "        1 & \\mbox{; } x\\leq 30\\\\\n",
    "        {40-x \\over 40-30} & \\mbox{; } 30 < x \\space||\\space x > 40 \\\\\n",
    "        0 & \\mbox{; } x \\geq 40\n",
    "     \\end {array}\n",
    "\\right.$\n",
    "\n",
    "$tanggungj[nor] =\n",
    "\\left\\{\n",
    "    \\begin {array}{l1}\n",
    "        1 & \\mbox{; } x\\leq 40 < x < 70\\\\\n",
    "        {x-40 \\over 40-30} & \\mbox{; } 30 < x < 40 \\\\\n",
    "         {80-x \\over 80-70} & \\mbox{; } 70 \\leq  x \\leq 80\\\\\n",
    "        0 & \\mbox{; } 30 < x \\space||\\space x > 40 \\\\\n",
    "      \\end {array}\n",
    "\\right.$\n",
    "\n",
    "$tanggungj[god] =\n",
    "\\left\\{\n",
    "    \\begin {array}{ll}\n",
    "        0 & \\mbox{; } x\\leq 70\\\\\n",
    "        {x-70 \\over 80-70} & \\mbox{; } 70 < x < 80 \\\\\n",
    "        1 & \\mbox{; } x \\geq 80\n",
    "     \\end {array}\n",
    "\\right.$\n",
    "\n",
    "### Persamaan di atas berlaku pula untuk himpunan fuzzy x_disiplin\n",
    "\n",
    "Sedangkan untuk Outputnya sebagai berikut : \n",
    "\n",
    "$hasilpenilaian[bad] =\n",
    "\\left\\{\n",
    "    \\begin {array}{ll}\n",
    "        1 & \\mbox{; } x < 30\\\\\n",
    "        {x-30 \\over 50-20} & \\mbox{; } 30 \\geq x \\leq 40 \\\\\n",
    "        0 & \\mbox{; } x > 40\n",
    "     \\end {array}\n",
    "\\right.$\n",
    "\n",
    "$hasilpenilaian[nor] =\n",
    "\\left\\{\n",
    "    \\begin {array}{l1}\n",
    "        {x-50 \\over 70-50} & \\mbox{; } 50 < x < 70 \\\\\n",
    "         {70-x \\over 80-70} & \\mbox{; } 70 \\leq  x \\leq 80\\\\\n",
    "        0 & \\mbox{; } x > 70 \\space||\\space x < 30 \\\\\n",
    "      \\end {array}\n",
    "\\right.$\n",
    "\n",
    "$hasilpenilaian[god] =\n",
    "\\left\\{\n",
    "    \\begin {array}{ll}\n",
    "        0 & \\mbox{; } x < 50\\\\\n",
    "        {x-50 \\over 70-50} & \\mbox{; } 50 < x < 70 \\\\\n",
    "        1 & \\mbox{; } x > 70\n",
    "     \\end {array}\n",
    "\\right.$"
   ]
  },
  {
   "cell_type": "code",
   "execution_count": 4,
   "metadata": {
    "scrolled": false
   },
   "outputs": [
    {
     "data": {
      "text/plain": [
       "<function matplotlib.pyplot.tight_layout(pad=1.08, h_pad=None, w_pad=None, rect=None)>"
      ]
     },
     "execution_count": 4,
     "metadata": {},
     "output_type": "execute_result"
    },
    {
     "data": {
      "image/png": "[encoded data removed]",
      "text/plain": [
       "<Figure size 648x792 with 3 Axes>"
      ]
     },
     "metadata": {},
     "output_type": "display_data"
    }
   ],
   "source": [
    "### Visualisasi fungsi semesta dan fungsi keanggotaan fuzzy\n",
    "fig, (ax0, ax1, ax2) = plt.subplots(nrows=3, figsize=(9, 11))\n",
    "\n",
    "ax0.plot(x_tanggungj, tanggungj_bad, 'r', linewidth=1.5, label='Buruk')\n",
    "ax0.plot(x_tanggungj, tanggungj_nor, 'g', linewidth=1.5, label='Cukup')\n",
    "ax0.plot(x_tanggungj, tanggungj_god, 'b', linewidth=1.5, label='Baik')\n",
    "\n",
    "ax0.set_title('Tanggung Jawab')\n",
    "ax0.legend()\n",
    "\n",
    "ax1.plot(x_disiplin, disiplin_bad, 'r', linewidth=1.5, label='Buruk')\n",
    "ax1.plot(x_disiplin, disiplin_nor, 'g', linewidth=1.5, label='cukup')\n",
    "ax1.plot(x_disiplin, disiplin_god, 'b', linewidth=1.5, label='Baik')\n",
    "\n",
    "ax1.set_title('Disiplin')\n",
    "ax1.legend()\n",
    "\n",
    "ax2.plot(x_hasilpenilaian, hasil_buruk, 'r', linewidth=1.5, label='Buruk')\n",
    "ax2.plot(x_hasilpenilaian, hasil_cukup, 'g', linewidth=1.5, label='Cukup')\n",
    "ax2.plot(x_hasilpenilaian, hasil_baik, 'b', linewidth=1.5, label='Baik')\n",
    "\n",
    "\n",
    "ax2.set_title('Hasil Penilaian Kinerja')\n",
    "ax2.legend()\n",
    "\n",
    "for ax in(ax0, ax1, ax2):\n",
    "    ax.spines['top'].set_visible(False)\n",
    "    ax.spines['right'].set_visible(False)\n",
    "    ax.get_xaxis().tick_bottom()\n",
    "    ax.get_yaxis().tick_left()\n",
    "    \n",
    "plt.tight_layout"
   ]
  },
  {
   "cell_type": "markdown",
   "metadata": {},
   "source": [
    "### Simulasi contoh kasus\n",
    "\n",
    "<justify>Pada kolom fuzzifikasi fungsi in1[] dan in2[] adalah sebuah variabel array untuk menampung hasil penghitungan dari fungsi derajat keanggotaan. in1[] akan menggunakan 3 alamat memori yaitu contoh : in1[1...3].</justify>"
   ]
  },
  {
   "cell_type": "code",
   "execution_count": 123,
   "metadata": {},
   "outputs": [],
   "source": [
    "#Input\n",
    "\n",
    "in_tanggungjawab = 38\n",
    "in_disiplin = 31"
   ]
  },
  {
   "cell_type": "code",
   "execution_count": 124,
   "metadata": {},
   "outputs": [
    {
     "name": "stdout",
     "output_type": "stream",
     "text": [
      "Derajat Keanggotaan Tanggung Jawab\n",
      "Buruk : 0.2\n",
      "Cukup  : 0.8\n",
      "\n",
      "Derajat Keanggotaan Kedisiplinan\n",
      "Buruk : 0.9\n",
      "Cukup  : 0.1\n"
     ]
    }
   ],
   "source": [
    "## Fuzzyfication #Tsukamoto\n",
    "in1 = []\n",
    "in1.append(fuzz.interp_membership(x_tanggungj, tanggungj_bad, in_tanggungjawab))\n",
    "in1.append(fuzz.interp_membership(x_tanggungj, tanggungj_nor, in_tanggungjawab))\n",
    "in1.append(fuzz.interp_membership(x_tanggungj, tanggungj_god, in_tanggungjawab))\n",
    "in2 = []\n",
    "in2.append(fuzz.interp_membership(x_disiplin, disiplin_bad, in_disiplin))\n",
    "in2.append(fuzz.interp_membership(x_disiplin, disiplin_nor, in_disiplin))\n",
    "in2.append(fuzz.interp_membership(x_disiplin, disiplin_god, in_disiplin))\n",
    "\n",
    "print(\"Derajat Keanggotaan Tanggung Jawab\")\n",
    "if in1[0]>0 :\n",
    "    print(\"Buruk : \"+ str(in1[0]))\n",
    "if in1[1]>0 :\n",
    "    print(\"Cukup  : \"+ str(in1[1]))\n",
    "if in1[2]>0 :\n",
    "    print(\"Baik : \"+ str(in1[2]))\n",
    "\n",
    "print(\"\")\n",
    "print(\"Derajat Keanggotaan Kedisiplinan\")\n",
    "if in2[0]>0 :\n",
    "    print(\"Buruk : \"+ str(in2[0]))\n",
    "if in2[1]>0 :\n",
    "    print(\"Cukup  : \"+ str(in2[1]))\n",
    "if in2[2]>0 :\n",
    "    print(\"Baik : \"+ str(in2[2]))"
   ]
  },
  {
   "cell_type": "markdown",
   "metadata": {},
   "source": [
    "## Pada metode tsukamoto rumus nya adalah\n",
    "\n",
    "$$Z = \\sum_{i=0}^{\\infty} \\frac{(\\alpha_i*Z_i)}{\\alpha_i}$$\n",
    "    \n",
    "dimana nilai z dapat dicari dari persamaan \n",
    "\n",
    "fungsi turun =$$\\alpha = \\frac{(z-x)}{x-y}$$\n",
    "\n",
    "dan fungsi naik =$$\\alpha = \\frac{(z-x)}{x-y}$$\n",
    "\n",
    "dimana nilai $\\alpha$ adalah nilai minimum dari perbandingan tiap himpunan derajat keanggotaan.\n",
    "\n",
    "$----------------------------------------------------------------$\n",
    "\n",
    "<justify>Pada pendefinisian rule base di bawah apred1 hingga seterusnya adalah nilai alfa predikat atau yang kita sebut sebaga nilai minimum tersebut. z1 adalah rumus mencari nilai z pada tsukamoto yang didapatkan dari persamaan diatas. terdapat 9 rule </justify>\n",
    "\n",
    "| No | Tanggung Jawab|   Disiplin  |   Kinerja   | \n",
    "|----|---------------|-------------|-------------|\n",
    "| 1  |    Baik       |    Baik     |    Baik     |\n",
    "| 2  |    Baik       |    Cukup    |    Cukup    |\n",
    "| 3  |    Baik       |    Buruk    |    Buruk    | \n",
    "| 4  |    Cukup      |    Baik     |    Cukup    |\n",
    "| 5  |    Cukup      |    Cukup    |    Cukup    | \n",
    "| 6  |    Cukup      |    Buruk    |    Buruk    | \n",
    "| 7  |    Buruk      |    Baik     |    Buruk    | \n",
    "| 8  |    Buruk      |    Cukup    |    Buruk    | \n",
    "| 9  |    Buruk      |    Buruk    |    Buruk    | \n",
    "\n",
    "<center>__Aturan Fuzzy__\n",
    "    \n",
    "Dimana nilai Baik didefinisikan sebagai 2, cukup 1, dan buruk 0. Contoh : apred1  = np.fmin(in1[2], in2[2]), pada array in1[x], nilai x tersebut adalah nilai linguistiknya."
   ]
  },
  {
   "cell_type": "code",
   "execution_count": 128,
   "metadata": {},
   "outputs": [],
   "source": [
    "## Pendefinisian Rule Base\n",
    "\n",
    "apred1  = np.fmin(in1[2], in2[2])\n",
    "z1      = 50 + (apred1*20)\n",
    "\n",
    "apred2  = np.fmin(in1[2], in2[1])\n",
    "z2      = (70+(20*apred2))\n",
    "\n",
    "apred3  = np.fmin(in1[2], in2[0])\n",
    "z3      = 50 - (20*apred3)\n",
    "\n",
    "apred4  = np.fmin(in1[1], in2[2])\n",
    "z4      = (70+(20*apred2))\n",
    "\n",
    "apred5  = np.fmin(in1[1], in2[1])\n",
    "z5      = (70+(20*apred2))\n",
    "\n",
    "apred6  = np.fmin(in1[1], in2[0])\n",
    "z6      = 50 - (20*apred6)\n",
    "\n",
    "apred7  = np.fmin(in1[0], in2[2])\n",
    "z7      = 50 - (20*apred7)\n",
    "\n",
    "apred8  = np.fmin(in1[0], in2[1])\n",
    "z8      = 50 - (20*apred8)\n",
    "\n",
    "apred9  = np.fmin(in1[0], in2[0])\n",
    "z9      = 50 - (20*apred9)"
   ]
  },
  {
   "cell_type": "markdown",
   "metadata": {},
   "source": [
    "#### Pada defuzzifikasi tinggal memasukkan rumus $$Z = \\sum_{i=0}^{\\infty} \\frac{(\\alpha_i*Z_i)}{\\alpha_i}$$"
   ]
  },
  {
   "cell_type": "code",
   "execution_count": 127,
   "metadata": {},
   "outputs": [
    {
     "name": "stdout",
     "output_type": "stream",
     "text": [
      "50.0 70.0 50.0 70.0 70.0 34.0 50.0 48.0 46.0\n",
      "Kinerja Pegawai : 40\n"
     ]
    }
   ],
   "source": [
    "print(z1,z2,z3,z4,z5,z6,z7,z8,z9)\n",
    "## Defuzzyfication\n",
    "\n",
    "z = (apred1*z1 + apred2*z2 + apred3*z3 + apred4*z4 + apred5*z5 + apred6*z6 + apred7*z7 +apred8*z8 + apred9*z9)/ (apred1 + apred2+ apred3 + apred4 + apred5 + apred6 + apred7 + apred8 + apred9)\n",
    "print(\"Kinerja Pegawai : \"+ str(int((z))) )"
   ]
  },
  {
   "cell_type": "markdown",
   "metadata": {},
   "source": [
    "### Aktivasi Fungsi dari rule-rule yang telah dibuat"
   ]
  },
  {
   "cell_type": "code",
   "execution_count": 126,
   "metadata": {
    "scrolled": false
   },
   "outputs": [
    {
     "data": {
      "image/png": "[encoded data removed]",
      "text/plain": [
       "<Figure size 576x216 with 1 Axes>"
      ]
     },
     "metadata": {},
     "output_type": "display_data"
    }
   ],
   "source": [
    "act_tanggungj_bad  = fuzz.interp_membership(x_tanggungj, tanggungj_bad, in_tanggungjawab)\n",
    "act_tanggungj_nor  = fuzz.interp_membership(x_tanggungj, tanggungj_nor, in_tanggungjawab)\n",
    "act_tanggungj_god  = fuzz.interp_membership(x_tanggungj, tanggungj_god, in_tanggungjawab)\n",
    "\n",
    "act_disiplin_bad = fuzz.interp_membership(x_disiplin, disiplin_bad, in_disiplin)\n",
    "act_disiplin_nor = fuzz.interp_membership(x_disiplin, disiplin_nor, in_disiplin)\n",
    "act_disiplin_god = fuzz.interp_membership(x_disiplin, disiplin_god, in_disiplin)\n",
    "\n",
    "active_rule1 = np.fmax(act_tanggungj_god, act_disiplin_god)\n",
    "act_hasil_baik = np.fmin(active_rule1, hasil_baik)\n",
    "\n",
    "active_rule2 = np.fmax(act_tanggungj_god, act_disiplin_nor)\n",
    "act_hasil_cukup = np.fmin(active_rule2, hasil_cukup)\n",
    "\n",
    "active_rule3 = np.fmax(act_tanggungj_god, act_disiplin_bad)\n",
    "act_hasil_buruk= np.fmin(active_rule3, hasil_buruk)\n",
    "\n",
    "active_rule4 = np.fmax(act_tanggungj_nor, act_disiplin_god)\n",
    "act_hasil_cukup2 = np.fmin(active_rule4, hasil_cukup)\n",
    "\n",
    "active_rule5 = np.fmax(act_tanggungj_nor, act_disiplin_nor)\n",
    "act_hasil_cukup3 = np.fmin(active_rule5, hasil_cukup)\n",
    "\n",
    "active_rule6 = np.fmax(act_tanggungj_nor, act_disiplin_bad)\n",
    "act_hasil_buruk2 = np.fmin(active_rule6, hasil_buruk)\n",
    "\n",
    "active_rule7 = np.fmax(act_tanggungj_bad, act_disiplin_god)\n",
    "act_hasil_buruk3 = np.fmin(active_rule7, hasil_buruk)\n",
    "\n",
    "active_rule8 = np.fmax(act_tanggungj_bad, act_disiplin_nor)\n",
    "act_hasil_buruk4 = np.fmin(active_rule8, hasil_buruk)\n",
    "\n",
    "active_rule9 = np.fmax(act_tanggungj_bad, act_disiplin_bad)\n",
    "act_hasil_buruk5 = np.fmin(active_rule9, hasil_buruk)\n",
    "\n",
    "\n",
    "tip0 = np.zeros_like(x_hasilpenilaian)\n",
    "\n",
    "# Visualize this\n",
    "fig, ax0 = plt.subplots(figsize=(8, 3))\n",
    "\n",
    "ax0.fill_between(x_hasilpenilaian, tip0, act_hasil_buruk, facecolor='b', alpha=0.7)\n",
    "ax0.plot(x_hasilpenilaian, hasil_buruk, 'r', linewidth=0.5, linestyle='--', )\n",
    "\n",
    "ax0.fill_between(x_hasilpenilaian, tip0, act_hasil_cukup, facecolor='g', alpha=0.7)\n",
    "ax0.plot(x_hasilpenilaian, hasil_cukup, 'y', linewidth=0.5, linestyle='--')\n",
    "\n",
    "ax0.fill_between(x_hasilpenilaian, tip0, act_hasil_baik, facecolor='r', alpha=0.7)\n",
    "ax0.plot(x_hasilpenilaian, hasil_baik, 'g', linewidth=0.5, linestyle='--', )\n",
    "\n",
    "ax0.set_title('Output membership activity')\n",
    "\n",
    "# Turn off top/right axes\n",
    "for ax in (ax0,):\n",
    "    ax.spines['top'].set_visible(False)\n",
    "    ax.spines['right'].set_visible(False)\n",
    "    ax.get_xaxis().tick_bottom()\n",
    "    ax.get_yaxis().tick_left()\n",
    "\n",
    "plt.tight_layout()"
   ]
  }
 ],
 "metadata": {
  "kernelspec": {
   "display_name": "Python 3",
   "language": "python",
   "name": "python3"
  },
  "language_info": {
   "codemirror_mode": {
    "name": "ipython",
    "version": 3
   },
   "file_extension": ".py",
   "mimetype": "text/x-python",
   "name": "python",
   "nbconvert_exporter": "python",
   "pygments_lexer": "ipython3",
   "version": "3.6.5"
  }
 },
 "nbformat": 4,
 "nbformat_minor": 2
}
