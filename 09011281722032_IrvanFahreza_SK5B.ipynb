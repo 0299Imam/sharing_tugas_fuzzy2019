{
 "cells": [
  {
   "cell_type": "markdown",
   "metadata": {},
   "source": [
    "Nama  : Irvan Fahreza <br>\n",
    "NIM   : 09011281722032 <br>\n",
    "Kelas : SK5B <br>\n",
    "Matkul: Kecerdasan Buatan"
   ]
  },
  {
   "cell_type": "markdown",
   "metadata": {},
   "source": [
    "# <center> Fuzzy Mamdani Dalam Menentukan Tingkat Keberhasilan Dosen Mengajar"
   ]
  },
  {
   "cell_type": "markdown",
   "metadata": {},
   "source": [
    "# 1. Pendahuluan"
   ]
  },
  {
   "cell_type": "markdown",
   "metadata": {},
   "source": [
    "Menentukan tingkat keberhasilan dosen mengajar merupakan evaluasi yang sangat diperlukan AMIK Tunas Bangsa untuk memonitoring hasil perkuliahan per semester. Nilai-nilai dari variabel yang telah ditentukan merupakan nilai yang bersifat ambigu atau tidak pasti. Untuk itu diperlukan sebuah metode logika fuzzy untuk mengatasi permasalahan ini.\n",
    "\n",
    "Logika fuzzy merupakan salah satu komponen pembentuk soft computing. Logika fuzzy pertama kali diperkenalkan oleh Prof. Lotfi A. Zadeh pada tahun 1965. Dasar logika fuzzy adalah teori himpunan fuzzy. Pada teori himpunan fuzzy, peranan derajat keanggotaan sebagai penentu keberadaan elemen dalam suatu himpunan sangatlah penting. Nilai keanggotaan atau derajat keanggotaan atau membership function menjadi ciri utama dari penalaran dengan logika fuzzy tersebut (Kusumadewi, 2010).\n",
    "\n",
    "Logika fuzzy merupakan konsep dasar dari sistem fuzzy yang dapat digunakan untuk melakukan perhitungan terhadap suatu variabel input berdasarkan nilai kesamarannya. Dalam teori himpunan samar, samar dinyatakan dalam derajat keanggotaan dan derajat dari kebenaran, sehingga sesuatu dapat dikatakan sebagian benar dan sebagian salah dalam waktu yang bersamaan (Kusumadewi, 2004).\n",
    "\n",
    "Logika fuzzy mamdani merupakan salah satu metode yang sangat fleksibel dan memiliki toleransi pada data yang ada. Fuzzy mamdani memiliki kelebihan yakni, lebih intuitif, diterima oleh banyak pihak. Penggunaan fuzzy mamdani ini sama halnya dengan penggunaan metode peramalan pada bidang statistik. Penentuan analisis berdasarkan pendekatan fuzzy lebih efisien dalam pendekatan menggunakan angka dibanding dengan metode peramalan. Peramalan dalam statistik dapat menghasilkan galat error lebih besar dari pendekatan fuzzy. Dengan melakukan pendekatan fuzzy menghasilkan out put yang lebih dekat dengan keadaan sebenarnya.\n",
    "\n",
    "Terdapat tiga variabel yang digunakan dalam menentukan tingkat keberhasilan dosen mengajar, yaitu variabel dosen, variable nilai dan variable tingkat. Penelitian ini nantinya diharapkan dapat memberikan informasi yang akurat dalam menghitung tingkat keberhasilan dosen mengajar."
   ]
  },
  {
   "cell_type": "markdown",
   "metadata": {},
   "source": [
    "# 2. Pembahasan"
   ]
  },
  {
   "cell_type": "markdown",
   "metadata": {},
   "source": [
    "###### 2.1 Pertama, Import beberapa Library yang dibutuhkan"
   ]
  },
  {
   "cell_type": "code",
   "execution_count": 1,
   "metadata": {},
   "outputs": [],
   "source": [
    "import numpy as np\n",
    "import skfuzzy as fuzz\n",
    "import matplotlib.pyplot as plt\n",
    "from tabulate import tabulate\n",
    "%matplotlib inline"
   ]
  },
  {
   "cell_type": "markdown",
   "metadata": {},
   "source": [
    "###### 2.2 Inisiasi Range variabel dari setiap Input dan Output"
   ]
  },
  {
   "cell_type": "code",
   "execution_count": 2,
   "metadata": {},
   "outputs": [],
   "source": [
    "# Inisiasi Range\n",
    "\n",
    "# Input 'dosen' dengan start 1, stop 76, dan step 1\n",
    "dosen = np.arange(1,76,1)\n",
    "\n",
    "# Input 'dosen' dengan start 1, stop 101, dan step 1\n",
    "nilai = np.arange(1,101,1)\n",
    "\n",
    "# Output 'tingkat' dengan start 1, stop 101, dan step 1\n",
    "tingkat = np.arange(1,101,1)"
   ]
  },
  {
   "cell_type": "markdown",
   "metadata": {},
   "source": [
    "###### 2.3 Fuzifikasi"
   ]
  },
  {
   "cell_type": "markdown",
   "metadata": {},
   "source": [
    "#### Input"
   ]
  },
  {
   "cell_type": "markdown",
   "metadata": {},
   "source": [
    "###### Dosen"
   ]
  },
  {
   "cell_type": "markdown",
   "metadata": {},
   "source": [
    "|  Semesta pembicaraan  | Dosen |  Domain Himpunan   |\n",
    "|-----------------------|-------|--------------------|\n",
    "|        [1,75]         | Buruk |        1-20        |\n",
    "|        [1,75]         | Cukup |        20-60       |\n",
    "|        [1,75]         | Baik  |        40-75       |"
   ]
  },
  {
   "cell_type": "markdown",
   "metadata": {},
   "source": [
    "Semesta Pembicara untuk Variabel Dosen : [1 75]\n",
    "- Domain Himpunan Fuzzy :\n",
    "    - Buruk = [1 20]\n",
    "    - Cukup = [20 60]\n",
    "    - Baik = [40 75]"
   ]
  },
  {
   "cell_type": "markdown",
   "metadata": {},
   "source": [
    "###### Nilai"
   ]
  },
  {
   "cell_type": "markdown",
   "metadata": {},
   "source": [
    "|  Semesta pembicaraan  | Nilai |  Domain Himpunan   |\n",
    "|-----------------------|-------|--------------------|\n",
    "|        [1,100]        | Buruk |        1-50        |\n",
    "|        [1,100]        | Cukup |       50-70        |\n",
    "|        [1,100]        | Baik  |       40-75        |"
   ]
  },
  {
   "cell_type": "markdown",
   "metadata": {},
   "source": [
    "Semesta Pembicara untuk Variabel Nilai : [1 100]\n",
    "\n",
    "- Domain Himpunan Fuzzy :\n",
    "    - Buruk = [1 50]\n",
    "    - Cukup = [50 70]\n",
    "    - Baik = [40 75]"
   ]
  },
  {
   "cell_type": "markdown",
   "metadata": {},
   "source": [
    "#### Output"
   ]
  },
  {
   "cell_type": "markdown",
   "metadata": {},
   "source": [
    "###### Tingkat"
   ]
  },
  {
   "cell_type": "markdown",
   "metadata": {},
   "source": [
    "|  Semesta pembicaraan  | Tingkat |  Domain Himpunan   |\n",
    "|-----------------------|---------|--------------------|\n",
    "|        [1,100]        |  Rendah |        1-50        |\n",
    "|        [1,100]        |  Sedang |       50-70        |\n",
    "|        [1,100]        |  Tinggi |       40-75        |"
   ]
  },
  {
   "cell_type": "markdown",
   "metadata": {},
   "source": [
    "Semesta Pembicara untuk Variabel Tingkat : [1 100]\n",
    "\n",
    "- Domain Himpunan Fuzzy :\n",
    "    - Rendah = [1 50]\n",
    "    - Sedang = [50 70]\n",
    "    - Tinggi = [40 75]"
   ]
  },
  {
   "cell_type": "markdown",
   "metadata": {},
   "source": [
    "##### Inisiasi Range Variabel dari setiap Input dan Outputnya"
   ]
  },
  {
   "cell_type": "markdown",
   "metadata": {},
   "source": [
    "###### 2.3.1 Membuat Himpunan Fungsi Keanggotaan serta membuat Visualisasi dari Fungsi Keanggotaannya"
   ]
  },
  {
   "cell_type": "markdown",
   "metadata": {},
   "source": [
    "### Dosen"
   ]
  },
  {
   "cell_type": "markdown",
   "metadata": {},
   "source": [
    "$Dosen [Buruk] = \n",
    "\\left\\{\n",
    "    \\begin{array}{ll}\n",
    "       1 & \\mbox{; } x \\leq 20 \\\\\n",
    "       {40-x \\over 40-20} & \\mbox{; } 20 < x < 40 \\\\\n",
    "       0 & \\mbox{; } x \\geq 40\n",
    "    \\end{array}\n",
    "\\right.$ \n",
    "\n",
    "$Dosen [Cukup] = \n",
    "\\left\\{\n",
    "    \\begin{array}{ll}\n",
    "       0 & \\mbox{; } x \\leq 20 &atau& x \\geq 60 \\\\\n",
    "       {x-20 \\over 40-20} & \\mbox{; } 20 < x < 40 \\\\\n",
    "       {60-x \\over 60-40} & \\mbox{; } 40 \\leq x < 60\n",
    "    \\end{array}\n",
    "\\right.$\n",
    "\n",
    "$Dosen [Baik] = \n",
    "\\left\\{\n",
    "    \\begin{array}{ll}\n",
    "       0 & \\mbox{; } x \\leq 40 \\\\\n",
    "       {x-40 \\over 60-40} & \\mbox{; } 40 < x < 60 \\\\\n",
    "       1 & \\mbox{; } x \\geq 60\n",
    "    \\end{array}\n",
    "\\right.$\n"
   ]
  },
  {
   "cell_type": "markdown",
   "metadata": {},
   "source": [
    "### Nilai"
   ]
  },
  {
   "cell_type": "markdown",
   "metadata": {},
   "source": [
    "$Nilai [Buruk] = \n",
    "\\left\\{\n",
    "    \\begin{array}{ll}\n",
    "       1 & \\mbox{; } y \\leq 50 \\\\\n",
    "       {60-y \\over 60-50} & \\mbox{; } 50 < y < 60 \\\\\n",
    "       0 & \\mbox{; } y \\geq 60\n",
    "    \\end{array}\n",
    "\\right.$\n",
    "\n",
    "$Nilai [Cukup] = \n",
    "\\left\\{\n",
    "    \\begin{array}{ll}\n",
    "       0 & \\mbox{; } y \\leq 50 &atau & y \\geq 70 \\\\\n",
    "       {y-50 \\over 60-50} & \\mbox{; } 50 < y < 60 \\\\\n",
    "       {70-y \\over 70-60} & \\mbox{; } 60 \\leq y < 70\n",
    "    \\end{array}\n",
    "\\right.$\n",
    "\n",
    "$Nilai [Baik] = \n",
    "\\left\\{\n",
    "    \\begin{array}{ll}\n",
    "       0 & \\mbox{; } y \\leq 60 \\\\\n",
    "       {y-60 \\over 70-60} & \\mbox{; } 60 < y < 70 \\\\\n",
    "       1 & \\mbox{; } y \\geq 70\n",
    "    \\end{array}\n",
    "\\right.$\n",
    "\n"
   ]
  },
  {
   "cell_type": "markdown",
   "metadata": {},
   "source": [
    "### Tingkat"
   ]
  },
  {
   "cell_type": "markdown",
   "metadata": {},
   "source": [
    "$Tingkat [Rendah] = \n",
    "\\left\\{\n",
    "    \\begin{array}{ll}\n",
    "       1 & \\mbox{; } z \\leq 50 \\\\\n",
    "       {60-z \\over 60-50} & \\mbox{; } 50 < z < 60 \\\\\n",
    "       0 & \\mbox{; } z \\geq 60\n",
    "    \\end{array}\n",
    "\\right.$\n",
    "\n",
    "$Tingkat [Sedang] = \n",
    "\\left\\{\n",
    "    \\begin{array}{ll}\n",
    "       0 & \\mbox{; } z \\leq 50 &atau & z \\geq 70 \\\\\n",
    "       {z-50 \\over 60-50} & \\mbox{; } 50 < z < 60 \\\\\n",
    "       {70-z \\over 70-60} & \\mbox{; } 60 \\leq z < 70\n",
    "    \\end{array}\n",
    "\\right.$\n",
    "\n",
    "$Tingkat [Tinggi] = \n",
    "\\left\\{\n",
    "    \\begin{array}{ll}\n",
    "       0 & \\mbox{; } z \\leq 60 \\\\\n",
    "       {z-60 \\over 70-60} & \\mbox{; } 60 < z < 70 \\\\\n",
    "       1 & \\mbox{; } z \\geq 70\n",
    "    \\end{array}\n",
    "\\right.$"
   ]
  },
  {
   "cell_type": "markdown",
   "metadata": {},
   "source": [
    "# 3. Fungsi Keanggotaan"
   ]
  },
  {
   "cell_type": "markdown",
   "metadata": {},
   "source": [
    "##### - Dosen"
   ]
  },
  {
   "cell_type": "code",
   "execution_count": 3,
   "metadata": {},
   "outputs": [],
   "source": [
    "dosen_buruk = fuzz.trapmf(dosen, [1, 1, 20, 40])\n",
    "dosen_cukup = fuzz.trimf(dosen, [20, 40, 60])\n",
    "dosen_baik = fuzz.trapmf(dosen, [40, 60, 75, 75])"
   ]
  },
  {
   "cell_type": "markdown",
   "metadata": {},
   "source": [
    "##### - Nilai"
   ]
  },
  {
   "cell_type": "code",
   "execution_count": 4,
   "metadata": {},
   "outputs": [],
   "source": [
    "nilai_buruk = fuzz.trapmf(nilai, [1, 1, 50, 60])\n",
    "nilai_cukup = fuzz.trimf(nilai, [50, 60, 70])\n",
    "nilai_baik = fuzz.trapmf(nilai, [60, 70, 100, 100])\n"
   ]
  },
  {
   "cell_type": "markdown",
   "metadata": {},
   "source": [
    "##### - Tingkat"
   ]
  },
  {
   "cell_type": "code",
   "execution_count": 5,
   "metadata": {},
   "outputs": [],
   "source": [
    "tingkat_rendah = fuzz.trapmf(tingkat, [1, 1, 50, 60])\n",
    "tingkat_sedang = fuzz.trimf(tingkat, [50, 60, 70])\n",
    "tingkat_tinggi = fuzz.trapmf(tingkat, [60, 70, 100, 100])"
   ]
  },
  {
   "cell_type": "code",
   "execution_count": 6,
   "metadata": {},
   "outputs": [
    {
     "data": {
      "image/png": "[encoded data removed]",
      "text/plain": [
       "<Figure size 576x648 with 3 Axes>"
      ]
     },
     "metadata": {
      "needs_background": "light"
     },
     "output_type": "display_data"
    }
   ],
   "source": [
    "#visualisasi Grafik dari Input dan Outputnya\n",
    "fig, (ax0, ax1, ax2) = plt.subplots(nrows=3, figsize=(8, 9))\n",
    "\n",
    "ax0.plot(dosen, dosen_buruk, 'b', linewidth=1.5, label='Buruk')\n",
    "ax0.plot(dosen, dosen_cukup, 'g', linewidth=1.5, label='Cukup')\n",
    "ax0.plot(dosen, dosen_baik, 'r', linewidth=1.5, label='Baik')\n",
    "ax0.set_title('Variabel Dosen')\n",
    "ax0.legend()\n",
    "\n",
    "ax1.plot(nilai, nilai_buruk, 'b', linewidth=1.5, label='Buruk')\n",
    "ax1.plot(nilai, nilai_cukup, 'g', linewidth=1.5, label='Cukup')\n",
    "ax1.plot(nilai, nilai_baik, 'r', linewidth=1.5, label='Baik')\n",
    "ax1.set_title('Variabel Nilai')\n",
    "ax1.legend()\n",
    "\n",
    "ax2.plot(tingkat, tingkat_rendah, 'b', linewidth=1.5, label='Rendah')\n",
    "ax2.plot(tingkat, tingkat_sedang, 'g', linewidth=1.5, label='Sedang')\n",
    "ax2.plot(tingkat, tingkat_tinggi, 'r', linewidth=1.5, label='Tinggi')\n",
    "ax2.set_title('Tingkat Keberhasilan')\n",
    "ax2.legend()\n",
    "\n",
    "#Turn on/off right axes\n",
    "for ax in (ax0, ax1, ax2):\n",
    "    ax.spines['top'].set_visible(False)\n",
    "    ax.spines['right'].set_visible(False)\n",
    "    ax.get_xaxis().tick_bottom()\n",
    "    ax.get_yaxis().tick_left()\n",
    "    \n",
    "plt.tight_layout()"
   ]
  },
  {
   "cell_type": "markdown",
   "metadata": {},
   "source": [
    "###### 3.1 RULES"
   ]
  },
  {
   "cell_type": "markdown",
   "metadata": {},
   "source": [
    "- RULE 1 = Jika value Dosen = BURUK dan value Nilai = BURUK, maka value TINGKAT = RENDAH\n",
    "\n",
    "- RULE 2 = Jika value Dosen = BURUK dan value Nilai = CUKUP, maka value TINGKAT = SEDANG\n",
    "\n",
    "- RULE 3 = Jika value Dosen = BURUK dan value Nilai = BAIK, maka value TINGKAT = TINGGI\n",
    "\n",
    "- RULE 4 = Jika value Dosen = CUKUP dan value Nilai = BURUK, maka value TINGKAT = RENDAH\n",
    "\n",
    "- RULE 5 = Jika value Dosen = CUKUP dan value Nilai = CUKUP, maka value TINGKAT = SEDANG\n",
    "\n",
    "- RULE 6 = Jika value Dosen = CUKUP dan value Nilai = BAIK, maka value TINGKAT = TINGGI\n",
    "\n",
    "- RULE 7 = Jika value Dosen = BAIK dan value Nilai = BURUK, maka value TINGKAT = RENDAH\n",
    "\n",
    "- RULE 8 = Jika value Dosen = BAIK dan value Nilai = CUKUP, maka value TINGKAT = SEDANG\n",
    "\n",
    "- RULE 9 = Jika value Dosen = BAIK dan value Nilai = BAIK, maka value TINGKAT = TINGGI"
   ]
  },
  {
   "cell_type": "markdown",
   "metadata": {},
   "source": [
    "Rule| Dosen | Nilai | Tingkat |\n",
    "-|-------|:-------|---------|\n",
    "1| Buruk | Buruk | Rendah  |\n",
    "2| Buruk | Cukup | Sedang  |\n",
    "3| Buruk | Baik  | Tinggi  |\n",
    "4| Cukup | Buruk | Rendah  |\n",
    "5| Cukup | Cukup | Sedang  |\n",
    "6| Cukup | Baik  | Tinggi  |\n",
    "7| Baik  | Buruk | Rendah  |\n",
    "8| Baik  | Cukup | Sedang  |\n",
    "9| Baik  | Baik  | Tinggi  |"
   ]
  },
  {
   "cell_type": "markdown",
   "metadata": {},
   "source": [
    "# 4.  Contoh Kasus\n",
    "\n",
    "   ### 1. Diharapkan tingkat keberhasilan dosen mengajar adalah minimal 60. Berapa nilai tingkat keberhasilan dosen mengajar, jika nilai dari variabel dosennya 55 dan nilai dari variabel nilainya 65 ?"
   ]
  },
  {
   "cell_type": "code",
   "execution_count": 7,
   "metadata": {},
   "outputs": [],
   "source": [
    "dosen_level_buruk = fuzz.interp_membership(dosen, dosen_buruk, 55)\n",
    "dosen_level_cukup = fuzz.interp_membership(dosen, dosen_cukup, 55)\n",
    "dosen_level_baik = fuzz.interp_membership(dosen, dosen_baik, 55)\n",
    "\n",
    "nilai_level_buruk = fuzz.interp_membership(nilai, nilai_buruk, 65)\n",
    "nilai_level_cukup = fuzz.interp_membership(nilai, nilai_cukup, 65)\n",
    "nilai_level_baik = fuzz.interp_membership(nilai, nilai_baik, 65)"
   ]
  },
  {
   "cell_type": "markdown",
   "metadata": {},
   "source": [
    "###### A. Mencari Derajat Keanggotaan berdasarkan Nilai yang ingin diinput"
   ]
  },
  {
   "cell_type": "code",
   "execution_count": 8,
   "metadata": {
    "scrolled": true
   },
   "outputs": [
    {
     "name": "stdout",
     "output_type": "stream",
     "text": [
      "Derajat Keanggotaan Variabel Dosen\n",
      "0.0\n",
      "0.25\n",
      "0.75\n",
      "\n",
      "Derajat Keanggotaan Variabel Nilai\n",
      "0.0\n",
      "0.5\n",
      "0.5\n"
     ]
    }
   ],
   "source": [
    "print(\"Derajat Keanggotaan Variabel Dosen\")\n",
    "print(dosen_level_buruk)\n",
    "print(dosen_level_cukup)\n",
    "print(dosen_level_baik)\n",
    "print(\"\")\n",
    "print(\"Derajat Keanggotaan Variabel Nilai\")\n",
    "print(nilai_level_buruk)\n",
    "print(nilai_level_cukup)\n",
    "print(nilai_level_baik)"
   ]
  },
  {
   "cell_type": "markdown",
   "metadata": {},
   "source": [
    "##### Perhitungan Manual\n",
    "Derajat Keanggotaan Variabel Dosen\n",
    "- $μDosen [Buruk] = 0 $\n",
    "\n",
    "\n",
    "- $μDosen [Cukup] = \n",
    "\\left\\{\n",
    "    \\begin{array}{ll}\n",
    "       {60-55 \\over 60-40} & \\mbox{; } 40 \\leq x < 60\n",
    "    \\end{array}\n",
    "\\right.$\n",
    " \n",
    "- $μDosen [Cukup] >>\n",
    "    \\begin{array}{ll}\n",
    "       {5 \\over 20} & \\mbox{= }\n",
    "    \\end{array} 0,25 $\n",
    "\n",
    "\n",
    "- $μDosen [Baik] = \n",
    "\\left\\{\n",
    "    \\begin{array}{ll}\n",
    "       {55-40 \\over 60-40} & \\mbox{; } 40 < x < 60 \\\\\n",
    "    \\end{array}\n",
    "\\right.$\n",
    "\n",
    "- $μDosen [Baik] >>\n",
    "    \\begin{array}{ll}\n",
    "       {15 \\over 20} & \\mbox{= }\n",
    "    \\end{array}0,75 $\n",
    "\n",
    "\n",
    "Derajat Keanggotaan Variabel Nilai\n",
    "- $μNilai [Buruk] = 0$\n",
    "\n",
    "\n",
    "- $μNilai [Cukup] = \n",
    "\\left\\{\n",
    "    \\begin{array}{ll}\n",
    "       {70-65 \\over 70-60} & \\mbox{; } 60 \\leq y < 70\n",
    "    \\end{array}\n",
    "\\right.$\n",
    "\n",
    "- $μNilai [Cukup] >>\n",
    "    \\begin{array}{ll}\n",
    "       {5 \\over 10} & \\mbox{= }\n",
    "    \\end{array}0,5 $\n",
    "    \n",
    "    \n",
    "- $Nilai [Baik] = \n",
    "\\left\\{\n",
    "    \\begin{array}{ll}\n",
    "       {65-60 \\over 70-60} & \\mbox{; } 60 < y < 70 \\\\\n",
    "    \\end{array}\n",
    "\\right.$\n",
    "\n",
    "- $Nilai [Baik] >> \n",
    "    \\begin{array}{ll}\n",
    "       {5 \\over 10} & \\mbox{= }\n",
    "    \\end{array}0,5 $"
   ]
  },
  {
   "cell_type": "markdown",
   "metadata": {},
   "source": [
    "###### B. Menentukan Fungsi Implikasi berdasarkan RULES\n",
    "\n",
    "Pada metode mamdani ini, fungsi implikasi yang digunakan adalah minimum (karena menggunakan operator AND pada RULES nya). Cara Manual mencari fungsi implikasi yaitu dengan mengikuti kaidah rulenya (misalnya pada kasus ini, pada rule 1, mencari nilai minimum dari fungsi keanggotaan dari dosen_level_buruk dengan nilai_level_buruk dan seterusnya sampai rule yang terakhir)."
   ]
  },
  {
   "cell_type": "code",
   "execution_count": 9,
   "metadata": {
    "scrolled": false
   },
   "outputs": [
    {
     "name": "stdout",
     "output_type": "stream",
     "text": [
      "Fungsi Implikasinya\n",
      "\n",
      "RULE 1 = 0.0\n",
      "RULE 2 = 0.0\n",
      "RULE 3 = 0.0\n",
      "RULE 4 = 0.0\n",
      "RULE 5 = 0.25\n",
      "RULE 6 = 0.25\n",
      "RULE 7 = 0.0\n",
      "RULE 8 = 0.5\n",
      "RULE 9 = 0.5\n"
     ]
    }
   ],
   "source": [
    "rule1 = np.fmin(dosen_level_buruk, nilai_level_buruk)\n",
    "rule2 = np.fmin(dosen_level_buruk, nilai_level_cukup)\n",
    "rule3 = np.fmin(dosen_level_buruk, nilai_level_baik)\n",
    "\n",
    "rule4 = np.fmin(dosen_level_cukup, nilai_level_buruk)\n",
    "rule5 = np.fmin(dosen_level_cukup, nilai_level_cukup)\n",
    "rule6 = np.fmin(dosen_level_cukup, nilai_level_baik)\n",
    "\n",
    "rule7 = np.fmin(dosen_level_baik, nilai_level_buruk)\n",
    "rule8 = np.fmin(dosen_level_baik, nilai_level_cukup)\n",
    "rule9 = np.fmin(dosen_level_baik, nilai_level_baik)\n",
    "\n",
    "print(\"Fungsi Implikasinya\")\n",
    "print(\"\")\n",
    "print(\"RULE 1 =\", rule1)\n",
    "print(\"RULE 2 =\", rule2)\n",
    "print(\"RULE 3 =\", rule3)\n",
    "print(\"RULE 4 =\", rule4)\n",
    "print(\"RULE 5 =\", rule5)\n",
    "print(\"RULE 6 =\", rule6)\n",
    "print(\"RULE 7 =\", rule7)\n",
    "print(\"RULE 8 =\", rule8)\n",
    "print(\"RULE 9 =\", rule9)"
   ]
  },
  {
   "cell_type": "markdown",
   "metadata": {},
   "source": [
    "###### C. Membuat Visualisasi hasil RULEnya dan juga menampilkan hasil dari Derajat Keanggotaan yang telah dicari tadi."
   ]
  },
  {
   "cell_type": "code",
   "execution_count": 10,
   "metadata": {
    "scrolled": false
   },
   "outputs": [
    {
     "data": {
      "image/png": "[encoded data removed]",
      "text/plain": [
       "<Figure size 648x648 with 1 Axes>"
      ]
     },
     "metadata": {
      "needs_background": "light"
     },
     "output_type": "display_data"
    }
   ],
   "source": [
    "#Visualisasi\n",
    "tingkat_activation_rendah = np.fmin(rule1, tingkat_rendah)\n",
    "tingkat_activation_sedang = np.fmin(rule2, tingkat_sedang)\n",
    "tingkat_activation_tinggi = np.fmin(rule3, tingkat_tinggi)\n",
    "\n",
    "tingkat_activation_rendah = np.fmin(rule4, tingkat_rendah)\n",
    "tingkat_activation_sedang = np.fmin(rule5, tingkat_sedang)\n",
    "tingkat_activation_tinggi = np.fmin(rule6, tingkat_tinggi)\n",
    "\n",
    "tingkat_activation_rendah = np.fmin(rule7, tingkat_rendah)\n",
    "tingkat_activation_sedang = np.fmin(rule8, tingkat_sedang)\n",
    "tingkat_activation_tinggi = np.fmin(rule9, tingkat_tinggi)\n",
    "tingkat0 = np.zeros_like(tingkat)\n",
    "\n",
    "fig, ax0 = plt.subplots(figsize=(9,9))\n",
    "\n",
    "ax0.fill_between(tingkat, tingkat0, tingkat_activation_rendah, facecolor='b', alpha=0.7)\n",
    "ax0.plot(tingkat, tingkat_rendah, 'b', linewidth=1, linestyle='-', )\n",
    "ax0.fill_between(tingkat, tingkat0, tingkat_activation_sedang, facecolor='g', alpha=0.7)\n",
    "ax0.plot(tingkat, tingkat_sedang, 'g', linewidth=1, linestyle='-')\n",
    "ax0.fill_between(tingkat, tingkat0, tingkat_activation_tinggi, facecolor='r', alpha=0.7)\n",
    "ax0.plot(tingkat, tingkat_tinggi, 'r', linewidth=1, linestyle='-')\n",
    "ax0.set_title(\"Output\")\n",
    "\n",
    "for ax in (ax0, ):\n",
    "    ax.spines['top'].set_visible(False)\n",
    "    ax.spines['right'].set_visible(False)\n",
    "    ax.get_xaxis().tick_bottom()\n",
    "    ax.get_yaxis().tick_left()\n",
    "    \n",
    "plt.tight_layout()"
   ]
  },
  {
   "cell_type": "markdown",
   "metadata": {},
   "source": [
    "###### D. Menghitung Defuzifikasi dengan Metode Centroid\n",
    "\n",
    "Meng-agregasi (mengkombinasikan dari keluaran semua rule)."
   ]
  },
  {
   "cell_type": "code",
   "execution_count": 11,
   "metadata": {},
   "outputs": [],
   "source": [
    "agregasi = np.fmax(tingkat_activation_rendah,\n",
    "                    np.fmax(tingkat_activation_sedang, tingkat_activation_tinggi))"
   ]
  },
  {
   "cell_type": "markdown",
   "metadata": {},
   "source": [
    "Input dari proses defuzzy adalah suatu himpunan fuzzy yang diperoleh dari komposisi aturan-aturan\n",
    "fuzzy, sedangkan output yang dihasilkan merupakan suatu bilangan pada domain himpunan fuzzy\n",
    "tersebut. Sehingga jika diberikan suatu himpunan fuzzy dengan range tertentu, maka harus dapat diambil\n",
    "suatu nilai crisp tertentu sebagai output. Ada beberapa metode defuzzy yang bias digunakan pada\n",
    "komposisi aturan mamadani, yaitu centroid, bosektor, mean of maximum, largest of maximum dan\n",
    "smallest of maximum. Saya akan menggunakan aturan Centroid.\n",
    "\n",
    "Pada  metode Centroid ini, solusi crisp diperoleh dengan cara   mengambil   titik   pusat   daerah   fuzzy."
   ]
  },
  {
   "cell_type": "code",
   "execution_count": 12,
   "metadata": {
    "scrolled": false
   },
   "outputs": [
    {
     "name": "stdout",
     "output_type": "stream",
     "text": [
      "Total rentang panjang agregasinya =  100\n",
      "Agregasinya adalah berikut : \n",
      " [0.  0.  0.  0.  0.  0.  0.  0.  0.  0.  0.  0.  0.  0.  0.  0.  0.  0.\n",
      " 0.  0.  0.  0.  0.  0.  0.  0.  0.  0.  0.  0.  0.  0.  0.  0.  0.  0.\n",
      " 0.  0.  0.  0.  0.  0.  0.  0.  0.  0.  0.  0.  0.  0.  0.1 0.2 0.3 0.4\n",
      " 0.5 0.5 0.5 0.5 0.5 0.5 0.5 0.5 0.5 0.5 0.5 0.5 0.5 0.5 0.5 0.5 0.5 0.5\n",
      " 0.5 0.5 0.5 0.5 0.5 0.5 0.5 0.5 0.5 0.5 0.5 0.5 0.5 0.5 0.5 0.5 0.5 0.5\n",
      " 0.5 0.5 0.5 0.5 0.5 0.5 0.5 0.5 0.5 0.5]\n"
     ]
    },
    {
     "data": {
      "image/png": "[encoded data removed]",
      "text/plain": [
       "<Figure size 648x648 with 1 Axes>"
      ]
     },
     "metadata": {
      "needs_background": "light"
     },
     "output_type": "display_data"
    }
   ],
   "source": [
    "print(\"Total rentang panjang agregasinya = \", len(agregasi))\n",
    "tingkatnya = fuzz.defuzz(tingkat, agregasi, 'centroid')\n",
    "tingkat_activation = fuzz.interp_membership(tingkat, agregasi, tingkatnya)\n",
    "\n",
    "#Visualisasi\n",
    "fig, ax3 = plt.subplots(figsize=(9,9))\n",
    "\n",
    "ax3.plot(tingkat, tingkat_rendah, 'b', linewidth=1, linestyle='-', )\n",
    "ax3.plot(tingkat, tingkat_sedang, 'g', linewidth=1, linestyle='-')\n",
    "ax3.plot(tingkat, tingkat_tinggi, 'r', linewidth=1, linestyle='-')\n",
    "ax3.fill_between(tingkat, tingkat0, agregasi, facecolor='orange', alpha=1)\n",
    "ax3.plot([tingkatnya, tingkatnya], [0, tingkat_activation],'k', linewidth=1.5, alpha=0.9)\n",
    "ax3.set_title(\"Hasil\")\n",
    "\n",
    "for ax in (ax3, ):\n",
    "    ax.spines['top'].set_visible(False)\n",
    "    ax.spines['right'].set_visible(False)\n",
    "    ax.get_xaxis().tick_bottom()\n",
    "    ax.get_yaxis().tick_left()\n",
    "    \n",
    "plt.tight_layout()\n",
    "print(\"Agregasinya adalah berikut : \\n\", agregasi)"
   ]
  },
  {
   "cell_type": "markdown",
   "metadata": {},
   "source": [
    "### Perhitungan manual berdasarkan Grafik Agregasi\n",
    "\n",
    "Metode penegasan yang akan kita gunakan adalah metode centroid technique. Metode ini mencari centre of gravity (COG) dari aggregate (agregasi) set."
   ]
  },
  {
   "cell_type": "markdown",
   "metadata": {},
   "source": [
    "-  $ COG =\n",
    "    \\begin{array}{ll}\n",
    "    {(1+2+...+49+50)x0+(51x0,1)+(52x0,2)+(53x0,3)+(54x0,4)+(55+57+...+99+100)x0,5 \\over (0x50)+0,1+0,2+0,3+0,4+(0,5x46)}\n",
    "    \\end{array}$\n",
    "    $=\n",
    "   \\begin{array}{ll}\n",
    "   {0+5,1+10,4+15,9+21,6+(3565 x 0,5) \\over 1+23}\n",
    "   \\end{array}$\n",
    "   $=\n",
    "   \\begin{array}{ll}\n",
    "   {53+1782,5 \\over 24}\n",
    "   \\end{array}$\n",
    "   $=\n",
    "   \\begin{array}{ll}\n",
    "   {1835,5 \\over 24}\n",
    "   \\end{array} = 76,4791 $"
   ]
  },
  {
   "cell_type": "markdown",
   "metadata": {},
   "source": [
    "### Menampilkan hasil perhitungan yang telah di program diatas (dengan menggunakan library 'centroid')"
   ]
  },
  {
   "cell_type": "code",
   "execution_count": 13,
   "metadata": {},
   "outputs": [
    {
     "data": {
      "text/plain": [
       "76.2280701754386"
      ]
     },
     "execution_count": 13,
     "metadata": {},
     "output_type": "execute_result"
    }
   ],
   "source": [
    "tingkatnya"
   ]
  },
  {
   "cell_type": "markdown",
   "metadata": {},
   "source": [
    "# 5. Kesimpulan"
   ]
  },
  {
   "cell_type": "markdown",
   "metadata": {},
   "source": [
    "Penelitian ini menghasilkan beberapa kesimpulan sebagai berikut :\n",
    "\n",
    "a. Diperoleh suatu model yang dapat memperlihatkan aturan keterhubungan antara motivasi dosen, persiapan mengajar dosen dan pelaksanaan perkuliahan dengan nilai mahasiswa.\n",
    "\n",
    "b. Sebagian besar dosen memperoleh predikat tingkat keberhasilan dosen mengajar buruk, apabila nilai mahasiswa yang diampunya pada satu matakuliah bernilai buruk juga Mahasiswa memperoleh nilai buruk,\n",
    "juga memiliki korelasi dengan motivasi dosen, persiapan mengajar dosen dan pelaksanaan perkuliahan.\n",
    "\n",
    "c. Logika fuzzy membantu dalam memberikan hasil yang tidak crisp dengan menggunakan konsep sifat kesamaran suatu nilai.\n",
    "\n",
    "d. Penelitian ini telah menunjukkan korelasi variabel dosen dengan variabel nilai, dalam menentukan tingkat keberhasilan dosen mengajar"
   ]
  },
  {
   "cell_type": "code",
   "execution_count": null,
   "metadata": {},
   "outputs": [],
   "source": []
  }
 ],
 "metadata": {
  "kernelspec": {
   "display_name": "Python 3",
   "language": "python",
   "name": "python3"
  },
  "language_info": {
   "codemirror_mode": {
    "name": "ipython",
    "version": 3
   },
   "file_extension": ".py",
   "mimetype": "text/x-python",
   "name": "python",
   "nbconvert_exporter": "python",
   "pygments_lexer": "ipython3",
   "version": "3.6.5"
  }
 },
 "nbformat": 4,
 "nbformat_minor": 2
}
