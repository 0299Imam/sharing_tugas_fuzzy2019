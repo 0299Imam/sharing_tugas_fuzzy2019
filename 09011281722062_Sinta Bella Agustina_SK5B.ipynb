{
 "cells": [
  {
   "cell_type": "markdown",
   "metadata": {},
   "source": [
    "<div class=\"alert alert-info\">\n",
    "<h2> <center> Sinta Bella Agustina \n",
    "<h2> <center> 09011281722062\n",
    "<h2> <center>  SK5B                                             "
   ]
  },
  {
   "cell_type": "markdown",
   "metadata": {},
   "source": [
    "<div class=\"alert alert-info\">\n",
    "<h2> <center> Design Methodology of Fuzzy Expert System for the Diagnosis and Control of Obesity "
   ]
  },
  {
   "cell_type": "markdown",
   "metadata": {},
   "source": [
    "   Obesitas adalah suatu gangguan yang melibatkan lemak tubuh berlebihan yang meningkatkan resiko masalah kesehatan. Obesitas sering terjadi karena kalori yang masuk lebih banyak daripada yang dibakar melalui olahraga dan kegiatan normal            sehari-hari.\n",
    "\n",
    "   Dalam makalah ini kami merancang metodologi sistem pakar fuzzy untuk mendiagnosis dan memantau obesitas pada orang    pada tahap awal. obesitas disini ditentukan dengan melihat index massa tubuh, lemak tubuh dan lingkar pinggang. Studi ini akan membantu mengurangi pertumbuhan cepat obesitas di masyarakat kita dan dunia pada umumnya."
   ]
  },
  {
   "cell_type": "markdown",
   "metadata": {},
   "source": [
    "<div class=\"alert alert-info\">\n",
    "<h2> <center>Langkah-langkah membuat kontrol sistem fuzzy :"
   ]
  },
  {
   "cell_type": "markdown",
   "metadata": {},
   "source": [
    "step 1 : membuat variabel input dan output\n",
    "\n",
    "step 2 : membuat Membership Function (MF) untuk setiap variabel (fuzzyfikasi)\n",
    "\n",
    "step 3 : membuat Rules Set"
   ]
  },
  {
   "cell_type": "code",
   "execution_count": 1,
   "metadata": {},
   "outputs": [],
   "source": [
    "import numpy as np\n",
    "import skfuzzy as fuzz\n",
    "import matplotlib.pyplot as plt\n",
    "from skfuzzy import control as ctrl"
   ]
  },
  {
   "cell_type": "markdown",
   "metadata": {},
   "source": [
    "<div class=\"alert alert-info\">\n",
    "<h2> <center>Step1 : membuat variabel input dan ouput"
   ]
  },
  {
   "cell_type": "markdown",
   "metadata": {},
   "source": [
    "Adapun input dalam membuat system kontrol fuzzy adalah :\n",
    "    1. Body Mass Index (BMI)\n",
    "    Body mass index atau indeks massa tubuh adalah angka yang menentukan apakah berat tubuh seseorang itu ideal, kurang,     atau berlebihan. Dalam input BMI terdapat 3 Membership yaitu LOW, MODERATE, dan HIGH. Adapun range dalam input ini adalah sebagai berikut:\n",
    "                        1. low (1Kg/M^2 - 22Kg/M^2)\n",
    "                        2. Moderate (15Kg/M^2 - 29Kg/M^2)\n",
    "                        3. High (22Kg/M^2 - 35Kg/M^2)\n",
    "\n",
    "\n",
    "\n",
    "    2. Body Fat (BF)\n",
    "    Body Fat atau lemak tubuh ialah lemak yang tedapat dalam tubuh seseorang. Dimana jika lemak tubuh seseorang ini berlebihan maka akan menimbulkan resiko penyakit obesitas. Dalam  input BF terdapat 3 Membership yaitu LOW , MODERATE, HIGH. Adapun range dalam input ini adalah sebagai berikut :\n",
    "                        1. Low (1% - 22%)\n",
    "                        2. Moderate (15% -29%)\n",
    "                        3. High (22% - 35%)\n",
    "\n",
    "\n",
    "\n",
    "    3. Waist Circumference (WC) \n",
    "    waist circumference atau lingkar pinggang yang menentukan apakah seseorang tersebut mengalami terkena obesitas atau tidak dengan melihat dari BMI dan BF seseorang tersebut. Dalam input WC terdapat 3 Membership yaitu SMALL, MEDIUM, LARGE. Adapun range dalam input ini adalah sebagai berikut :\n",
    "                        1. Small (1CM - 60CM)\n",
    "                        2. Medium (30CM - 90CM)\n",
    "                        3. Large (60CM - 120CM)"
   ]
  },
  {
   "cell_type": "markdown",
   "metadata": {},
   "source": [
    "\n",
    "\n",
    "Adapun Output dalam membuat kontrol sistem obesitas adalah\n",
    "    1. Level Obesitas (LO)\n",
    "    Level obesitas adalah level yang menentukan apakah orang tersebut terkena obesitas atau tidak. Dalam output LO terdapat 3 membership yaitu HEALTHY, OVERWEIGHT, OBESE. Adapun range dalam output ini ialah sebgai berikut :\n",
    "                        1. Healthy (1 - 40)\n",
    "                        2. Overwight (30 - 70)\n",
    "                        3. Obese (60 - 100)"
   ]
  },
  {
   "cell_type": "code",
   "execution_count": 2,
   "metadata": {},
   "outputs": [],
   "source": [
    "BMI = ctrl.Antecedent(np.arange(1,35,1),'BMI') #input variabel BMI\n",
    "BF = ctrl.Antecedent(np.arange(1,35,1),'BF') #input variabel BF\n",
    "WC = ctrl.Antecedent(np.arange(1,120,1),'WC') #input variabel WC\n",
    "LO = ctrl.Consequent(np.arange(1,100,1),'LO') #output variable LO"
   ]
  },
  {
   "cell_type": "markdown",
   "metadata": {},
   "source": [
    "<div class=\"alert alert-info\">\n",
    "<h2> <center>Step2 :  (Fuzzyfikasi) membuat Membership Functions (MF) untuk setiap variabel"
   ]
  },
  {
   "cell_type": "markdown",
   "metadata": {},
   "source": [
    "# 1. BODY MASS INDEX (BMI)"
   ]
  },
  {
   "cell_type": "code",
   "execution_count": 3,
   "metadata": {},
   "outputs": [],
   "source": [
    "BMI['LOW'] = fuzz.trapmf(BMI.universe,[1, 1, 15, 22]) # 1-22Kg/M^2\n",
    "BMI['MODERATE'] = fuzz.trimf(BMI.universe,[15, 22, 29]) # 15-29Kg/M^2\n",
    "BMI['HIGH'] = fuzz.trapmf(BMI.universe,[22, 29, 35, 35]) #22-35Kg/m^2"
   ]
  },
  {
   "cell_type": "code",
   "execution_count": 4,
   "metadata": {},
   "outputs": [
    {
     "name": "stderr",
     "output_type": "stream",
     "text": [
      "C:\\Users\\USER\\Anaconda3\\lib\\site-packages\\matplotlib\\figure.py:459: UserWarning: matplotlib is currently using a non-GUI backend, so cannot show the figure\n",
      "  \"matplotlib is currently using a non-GUI backend, \"\n"
     ]
    },
    {
     "data": {
      "image/png": "[encoded data removed]",
      "text/plain": [
       "<Figure size 432x288 with 1 Axes>"
      ]
     },
     "metadata": {},
     "output_type": "display_data"
    }
   ],
   "source": [
    "BMI.view()\n",
    "plt.show()"
   ]
  },
  {
   "cell_type": "markdown",
   "metadata": {},
   "source": [
    "#Membership Functions Body Mess Index (BMI)\n",
    "\n",
    "\\begin{equation}\n",
    "  BMI['LOW'] = \\mu BMI'LOW'(x)=\\begin{cases}\n",
    "    1, & \\text{ $1 \\leq x\\leq 15$}.\\\\\n",
    "    (22 - x)/(22 - 15) , & \\text{$15 < x < 22$}.\\\\\n",
    "    0, & \\text{$x\\geq 22$}.\\\\\n",
    "  \\end{cases}\n",
    "  \\\\\n",
    "  BMI['MODERATE'] = \\mu BMI'MODERATE'(x)=\\begin{cases}\n",
    "    0, & \\text{$x\\leq 15$ atau $x\\geq29$}.\\\\\n",
    "    (x - 15)/(22 - 15) , & \\text{$15 <  x \\leq 22$}.\\\\\n",
    "    (29 - x)/(29 - 22) , & \\text{$22 < x < 29$}.\\\\\n",
    "  \\end{cases}\n",
    "  \\\\\n",
    "    BMI['HIGH'] = \\mu BMI'HIGH'(x)=\\begin{cases}\n",
    "    0, & \\text{$x\\leq 22$}.\\\\\n",
    "    (x - 22)/(29 - 22) , & \\text{$22 < x < 29$}.\\\\\n",
    "    1, & \\text{ $29 \\leq x \\leq 35$ }.\n",
    "  \\end{cases}\n",
    "\\end{equation}"
   ]
  },
  {
   "cell_type": "markdown",
   "metadata": {},
   "source": [
    "# 2. BODY FAT (BF)"
   ]
  },
  {
   "cell_type": "code",
   "execution_count": 5,
   "metadata": {},
   "outputs": [],
   "source": [
    "BF['LOW'] = fuzz.trapmf(BF.universe,[1, 1, 15, 22]) #dari 1 - 22 %\n",
    "BF['NORMAL'] = fuzz.trimf(BF.universe,[15, 22, 29]) #dari 15 - 29 %\n",
    "BF['HIGH'] = fuzz.trapmf(BF.universe,[22, 29, 35,35]) #dari 22 - 35 %"
   ]
  },
  {
   "cell_type": "code",
   "execution_count": 6,
   "metadata": {},
   "outputs": [
    {
     "name": "stderr",
     "output_type": "stream",
     "text": [
      "C:\\Users\\USER\\Anaconda3\\lib\\site-packages\\matplotlib\\figure.py:459: UserWarning: matplotlib is currently using a non-GUI backend, so cannot show the figure\n",
      "  \"matplotlib is currently using a non-GUI backend, \"\n"
     ]
    },
    {
     "data": {
      "image/png": "[encoded data removed]",
      "text/plain": [
       "<Figure size 432x288 with 1 Axes>"
      ]
     },
     "metadata": {},
     "output_type": "display_data"
    }
   ],
   "source": [
    "BF.view()\n",
    "plt.show()"
   ]
  },
  {
   "cell_type": "markdown",
   "metadata": {},
   "source": [
    "#Membership Functions Body Fat (BF)\n",
    "\n",
    "\\begin{equation}\n",
    "  BF['LOW'] = \\mu BF'LOW'(x)=\\begin{cases}\n",
    "    1, & \\text{$1 \\leq x \\leq 15$}.\\\\\n",
    "    (22 - x)/(22 - 15) , & \\text{$15 < x < 22$}.\\\\\n",
    "    0, & \\text{$x \\geq 22$}.\\\\\n",
    "  \\end{cases}\n",
    "  \\\\\n",
    "  BF['NORMAL'] = \\mu BF'NORMAL'(x)=\\begin{cases}\n",
    "    0, & \\text{$x\\leq 15$ atau $x\\geq29$}.\\\\\n",
    "    (x - 15)/(22 - 15) , & \\text{$15 < x \\leq 22$}.\\\\\n",
    "    (29 - x)/(29 - 22) , & \\text{$22 < x < 29$}.\\\\\n",
    "  \\end{cases}\n",
    "  \\\\\n",
    "    BF['HIGH'] = \\mu BF'HIGH'(x)=\\begin{cases}\n",
    "    0, & \\text{$x\\leq 22$}.\\\\\n",
    "    (x - 22)/(29 - 22) , & \\text{$22 < x < 29$}.\\\\\n",
    "    1, & \\text{$29 \\leq x\\leq 35$}.\n",
    "  \\end{cases}\n",
    "\\end{equation}"
   ]
  },
  {
   "cell_type": "markdown",
   "metadata": {},
   "source": [
    "# 3. WAIST CIRCUMFERENCE (WC)"
   ]
  },
  {
   "cell_type": "code",
   "execution_count": 7,
   "metadata": {},
   "outputs": [],
   "source": [
    "WC['SMALL'] = fuzz.trapmf(WC.universe,[1, 1, 30, 60]) #dari 1 - 60 cm\n",
    "WC['MEDIUM'] = fuzz.trimf(WC.universe,[30, 60, 90]) #dari 30 - 90 cm\n",
    "WC['LARGE'] = fuzz.trapmf(WC.universe,[60, 90, 120, 120]) #dari 60 - 120 cm"
   ]
  },
  {
   "cell_type": "code",
   "execution_count": 8,
   "metadata": {},
   "outputs": [
    {
     "name": "stderr",
     "output_type": "stream",
     "text": [
      "C:\\Users\\USER\\Anaconda3\\lib\\site-packages\\matplotlib\\figure.py:459: UserWarning: matplotlib is currently using a non-GUI backend, so cannot show the figure\n",
      "  \"matplotlib is currently using a non-GUI backend, \"\n"
     ]
    },
    {
     "data": {
      "image/png": "[encoded data removed]",
      "text/plain": [
       "<Figure size 432x288 with 1 Axes>"
      ]
     },
     "metadata": {},
     "output_type": "display_data"
    }
   ],
   "source": [
    "WC.view()\n",
    "plt.show()"
   ]
  },
  {
   "cell_type": "markdown",
   "metadata": {},
   "source": [
    "#Membership Functions Waist Circumference (WC)\n",
    "\n",
    "\\begin{equation}\n",
    "  WC['SMALL'] = \\mu WC'SMALL'(x)=\\begin{cases}\n",
    "    1, & \\text{$1  \\leq x \\leq 30$}.\\\\\n",
    "    (60 - x)/(60 - 30) , & \\text{$30 < x < 60$}.\\\\\n",
    "    0, & \\text{$x\\geq 60$}.\n",
    "  \\end{cases}\n",
    "  \\\\\n",
    "  WC['MEDIUM'] = \\mu WC'MEDIUM'(x)=\\begin{cases}\n",
    "    0, & \\text{$x\\leq 30$ atau $x \\geq 90$}.\\\\\n",
    "    (x -30)/(60 - 30) , & \\text{$30 < x \\leq 60$}.\\\\\n",
    "    (90 - x)/(90 - 60) , & \\text{$60 < x < 90$}.\\\\\n",
    "  \\end{cases}\n",
    "  \\\\\n",
    "    WC['LARGE'] = \\mu WC'LARGE'(x)=\\begin{cases}\n",
    "    0, & \\text{$x \\leq 60$}.\\\\\n",
    "    (x - 60)/(90 - 60) , & \\text{$60 < x < 90$}.\\\\\n",
    "    1, & \\text{$90 \\leq x \\leq 120$}.\n",
    "  \\end{cases}\n",
    "\\end{equation}"
   ]
  },
  {
   "cell_type": "markdown",
   "metadata": {},
   "source": [
    "# 4. LEVEL OBESITAS (LO)"
   ]
  },
  {
   "cell_type": "code",
   "execution_count": 9,
   "metadata": {},
   "outputs": [],
   "source": [
    "LO['HEALTHY'] = fuzz.trapmf(LO.universe,[1, 1, 20, 40]) #dari 1 - 40\n",
    "LO['OVERWEIGHT'] = fuzz.trimf(LO.universe,[30, 50, 70]) #dari 30 - 70\n",
    "LO['OBESE'] = fuzz.trapmf(LO.universe,[60, 80, 100, 100]) #dari 60 - 100"
   ]
  },
  {
   "cell_type": "code",
   "execution_count": 10,
   "metadata": {},
   "outputs": [
    {
     "name": "stderr",
     "output_type": "stream",
     "text": [
      "C:\\Users\\USER\\Anaconda3\\lib\\site-packages\\matplotlib\\figure.py:459: UserWarning: matplotlib is currently using a non-GUI backend, so cannot show the figure\n",
      "  \"matplotlib is currently using a non-GUI backend, \"\n"
     ]
    },
    {
     "data": {
      "image/png": "[encoded data removed]",
      "text/plain": [
       "<Figure size 432x288 with 1 Axes>"
      ]
     },
     "metadata": {},
     "output_type": "display_data"
    }
   ],
   "source": [
    "LO.view()\n",
    "plt.show()"
   ]
  },
  {
   "cell_type": "markdown",
   "metadata": {},
   "source": [
    "#Membership Functions Waist Circumference (WC)\n",
    "\n",
    "\\begin{equation}\n",
    "  LO['HEALTHY'] = \\mu LO'HEALTHY'(x)=\\begin{cases}\n",
    "    1, & \\text{$1 \\leq x \\leq 20$}.\\\\\n",
    "    (40 - x)/(40 - 20) , & \\text{$20 < x < 40$}.\\\\\n",
    "    0, & \\text{$x\\geq 40$}.\n",
    "  \\end{cases}\n",
    "  \\\\\n",
    "  LO['OVERWEIGHT'] = \\mu LO'OVERWEIGHT'(x)=\\begin{cases}\n",
    "    0, & \\text{$x \\leq 30$ atau $x \\geq90$}.\\\\\n",
    "    (x -30)/(50 - 30) , & \\text{$30 < x \\leq 50$}.\\\\\n",
    "    (70 - x)/(70 - 50) , & \\text{$50 < x < 70$}.\\\\\n",
    "  \\end{cases}\n",
    "  \\\\\n",
    "    LO['OBESE'] = \\mu LO'OBESE'(x)=\\begin{cases}\n",
    "    0, & \\text{$x\\leq 60$}.\\\\\n",
    "    (x - 60)/(80 - 60) , & \\text{$60 < x < 80$}.\\\\\n",
    "    1, & \\text{$80 \\leq x \\leq 120$}.\n",
    "  \\end{cases}\n",
    "\\end{equation}"
   ]
  },
  {
   "cell_type": "markdown",
   "metadata": {},
   "source": [
    "<div class=\"alert alert-info\">\n",
    "<h2> <center>Step3 : membuat Rules Set"
   ]
  },
  {
   "cell_type": "markdown",
   "metadata": {},
   "source": [
    "Berdasarkan jumlah Membership Functions (MF) pada masing-masing variabel, kita dapat menentukan jumlah rules yg ada. Pada sistem diagnosa obesitas ini terdapat 27 rules dimana 3 MF dari BMI, 3 MF dari BF, dan 3 MF dari WC. Yaitu 3 MF x 3 MF x 3 MF = 27 Rules Set. "
   ]
  },
  {
   "cell_type": "markdown",
   "metadata": {},
   "source": [
    "1. IF BMI ['LOW'] & BF ['LOW'] & WC ['SMALL'], THEN LO ['HEALTHY']\n",
    "2. IF BMI ['LOW'] & BF ['LOW'] & WC ['MEDIUM'], THEN LO ['HEALTHY']\n",
    "3. IF BMI ['LOW'] & BF ['LOW'] & WC ['LARGE'], THEN LO ['HEALTHY']\n",
    "4. IF BMI ['LOW'] & BF ['NORMAL'] & WC ['SMALL'], THEN LO ['HEALTHY']\n",
    "5. IF BMI ['LOW'] & BF ['NORMAL'] & WC ['MEDIUM'], THEN LO ['OVERWEIGHT']\n",
    "6. IF BMI ['LOW'] & BF ['NORMAL'] & WC ['LARGE'], THEN LO ['OBESE']\n",
    "7. IF BMI ['LOW'] & BF ['HIGH'] & WC ['SMALL'], THEN LO ['HEALTHY']\n",
    "8. IF BMI ['LOW'] & BF ['HIGH'] & WC ['MEDIUM'], THEN LO ['OVERWEIGHT']\n",
    "9. IF BMI ['LOW'] & BF ['HIGH'] & WC ['LARGE'], THEN LO ['OBESE']\n",
    "10. IF BMI ['MODERATE'] & BF ['LOW'] & WC ['SMALL'], THEN LO ['HEALTHY']\n",
    "11. IF BMI ['MODERATE'] & BF ['LOW'] & WC ['MEDIUM'], THEN LO ['HEALTHY']\n",
    "12. IF BMI ['MODERATE'] & BF ['LOW'] & WC ['LARGE'], THEN LO ['OBESE']\n",
    "13. IF BMI ['MODERATE'] & BF ['NORMAL'] & WC ['SMALL'], THEN LO ['OVERWEIGHT']\n",
    "14. IF BMI ['MODERATE'] & BF ['NORMAL'] & WC ['MEDIUM'], THEN LO ['OVERWEIGHT']\n",
    "15. IF BMI ['MODERATE'] & BF ['NORMAL'] & WC ['LARGE'], THEN LO ['OBESE']\n",
    "16. IF BMI ['MODERATE'] & BF ['HIGH'] & WC ['SMALL'], THEN LO ['OVERWEIGHT']\n",
    "17. IF BMI ['MODERATE'] & BF ['HIGH'] & WC ['MEDIUM'], THEN LO ['OBESE']\n",
    "18. IF BMI ['MODERATE'] & BF ['HIGH'] & WC ['LARGE'], THEN LO ['OBESE']\n",
    "19. IF BMI ['HIGH'] & BF ['LOW'] & WC ['SMALL'], THEN LO ['HEALTHY']\n",
    "20. IF BMI ['HIGH'] & BF ['LOW'] & WC ['MEDIUM'], THEN LO ['HEALTHY']\n",
    "21. IF BMI ['HIGH'] & BF ['LOW'] & WC ['LARGE'], THEN LO ['OVERWEIGHT']\n",
    "22. IF BMI ['HIGH'] & BF ['NORMAL'] & WC ['SMALL'], THEN LO ['OVERWEIGHT']\n",
    "23. IF BMI ['HIGH'] & BF ['NORMAL'] & WC ['MEDIUM'], THEN LO ['OBESE']\n",
    "24. IF BMI ['HIGH'] & BF ['NORMAL'] & WC ['LARGE'], THEN LO ['OBESE']\n",
    "25. IF BMI ['HIGH'] & BF ['HIGH'] & WC ['SMALL'], THEN LO ['OVERWEIGHT']\n",
    "26. IF BMI ['HIGH'] & BF ['HIGH'] & WC ['MEDIUM'], THEN LO ['OBESE']\n",
    "27. IF BMI ['HIGH'] & BF ['HIGH'] & WC ['LARGE'], THEN LO ['OBESE']"
   ]
  },
  {
   "cell_type": "code",
   "execution_count": 11,
   "metadata": {},
   "outputs": [
    {
     "data": {
      "text/plain": [
       "(<Figure size 432x288 with 1 Axes>,\n",
       " <matplotlib.axes._subplots.AxesSubplot at 0x9d87cc0>)"
      ]
     },
     "execution_count": 11,
     "metadata": {},
     "output_type": "execute_result"
    },
    {
     "data": {
      "image/png": "[encoded data removed]",
      "text/plain": [
       "<Figure size 432x288 with 1 Axes>"
      ]
     },
     "metadata": {},
     "output_type": "display_data"
    }
   ],
   "source": [
    "rule1 = ctrl.Rule(BMI ['LOW'] & BF ['LOW'] & WC ['SMALL'], LO ['HEALTHY'])\n",
    "rule2 = ctrl.Rule(BMI ['LOW'] & BF ['LOW'] & WC ['MEDIUM'], LO ['HEALTHY'])\n",
    "rule3 = ctrl.Rule(BMI ['LOW'] & BF ['LOW'] & WC ['LARGE'], LO ['HEALTHY'])\n",
    "\n",
    "rule4 = ctrl.Rule(BMI ['LOW'] & BF ['NORMAL'] & WC ['SMALL'], LO ['HEALTHY'])\n",
    "rule5 = ctrl.Rule(BMI ['LOW'] & BF ['NORMAL'] & WC ['MEDIUM'], LO ['OVERWEIGHT'])\n",
    "rule6 = ctrl.Rule(BMI ['LOW'] & BF ['NORMAL'] & WC ['LARGE'], LO ['OBESE'])\n",
    "\n",
    "rule7 = ctrl.Rule(BMI ['LOW'] & BF ['HIGH'] & WC ['SMALL'], LO ['HEALTHY'])\n",
    "rule8 = ctrl.Rule(BMI ['LOW'] & BF ['HIGH'] & WC ['MEDIUM'], LO ['OVERWEIGHT'])\n",
    "rule9 = ctrl.Rule(BMI ['LOW'] & BF ['HIGH'] & WC ['LARGE'], LO ['OBESE'])\n",
    "\n",
    "rule10 = ctrl.Rule(BMI ['MODERATE'] & BF ['LOW'] & WC ['SMALL'], LO ['HEALTHY'])\n",
    "rule11 = ctrl.Rule(BMI ['MODERATE'] & BF ['LOW'] & WC ['MEDIUM'], LO ['HEALTHY'])\n",
    "rule12 = ctrl.Rule(BMI ['MODERATE'] & BF ['LOW'] & WC ['LARGE'], LO ['OBESE'])\n",
    "\n",
    "rule13 = ctrl.Rule(BMI ['MODERATE'] & BF ['NORMAL'] & WC ['SMALL'], LO ['OVERWEIGHT'])\n",
    "rule14 = ctrl.Rule(BMI ['MODERATE'] & BF ['NORMAL'] & WC ['MEDIUM'], LO ['OVERWEIGHT'])\n",
    "rule15 = ctrl.Rule(BMI ['MODERATE'] & BF ['NORMAL'] & WC ['LARGE'], LO ['OBESE'])\n",
    "\n",
    "rule16 = ctrl.Rule(BMI ['MODERATE'] & BF ['HIGH'] & WC ['SMALL'], LO ['OVERWEIGHT'])\n",
    "rule17 = ctrl.Rule(BMI ['MODERATE'] & BF ['HIGH'] & WC ['MEDIUM'], LO ['OBESE'])\n",
    "rule18 = ctrl.Rule(BMI ['MODERATE'] & BF ['HIGH'] & WC ['LARGE'], LO ['OBESE'])\n",
    "\n",
    "rule19 = ctrl.Rule(BMI ['HIGH'] & BF ['LOW'] & WC ['SMALL'], LO ['HEALTHY'])\n",
    "rule20 = ctrl.Rule(BMI ['HIGH'] & BF ['LOW'] & WC ['MEDIUM'], LO ['HEALTHY'])\n",
    "rule21 = ctrl.Rule(BMI ['HIGH'] & BF ['LOW'] & WC ['LARGE'], LO ['OVERWEIGHT'])\n",
    "\n",
    "rule22 = ctrl.Rule(BMI ['HIGH'] & BF ['NORMAL'] & WC ['SMALL'], LO ['OVERWEIGHT'])\n",
    "rule23 = ctrl.Rule(BMI ['HIGH'] & BF ['NORMAL'] & WC ['MEDIUM'], LO ['OBESE'])\n",
    "rule24 = ctrl.Rule(BMI ['HIGH'] & BF ['NORMAL'] & WC ['LARGE'], LO ['OBESE'])\n",
    "\n",
    "rule25 = ctrl.Rule(BMI ['HIGH'] & BF ['HIGH'] & WC ['SMALL'], LO ['OVERWEIGHT'])\n",
    "rule26 = ctrl.Rule(BMI ['HIGH'] & BF ['HIGH'] & WC ['MEDIUM'], LO ['OBESE'])\n",
    "rule27 = ctrl.Rule(BMI ['HIGH'] & BF ['HIGH'] & WC ['LARGE'], LO ['OBESE'])\n",
    "\n",
    "rule1.view()"
   ]
  },
  {
   "cell_type": "markdown",
   "metadata": {},
   "source": [
    "<div class=\"alert alert-info\">\n",
    "<h2> <center>Rule Evaluation"
   ]
  },
  {
   "cell_type": "code",
   "execution_count": 12,
   "metadata": {},
   "outputs": [],
   "source": [
    "nilai_ctrl = ctrl.ControlSystem([rule1,rule2,rule3,rule4,rule5,rule6,rule7,rule8,rule9,rule10,rule11,rule12,rule13,rule14,rule15,rule16,rule17,rule18,rule19,rule20,rule21,rule22,rule23,rule24,rule25,rule26,rule27])"
   ]
  },
  {
   "cell_type": "markdown",
   "metadata": {},
   "source": [
    "<div class=\"alert alert-info\">\n",
    "<h2> <center>Defuzzyfikasi"
   ]
  },
  {
   "cell_type": "markdown",
   "metadata": {},
   "source": [
    "Diketahui Body Mass Index seseorang ialah 20Kg/m^2, Body fat 30%, dan Waist Circumference 90 CM. "
   ]
  },
  {
   "cell_type": "code",
   "execution_count": 13,
   "metadata": {},
   "outputs": [],
   "source": [
    "hasil = ctrl.ControlSystemSimulation(nilai_ctrl)"
   ]
  },
  {
   "cell_type": "code",
   "execution_count": 14,
   "metadata": {},
   "outputs": [],
   "source": [
    "hasil.input['BMI'] = 20\n",
    "hasil.input['BF'] = 25\n",
    "hasil.input['WC'] = 90"
   ]
  },
  {
   "cell_type": "code",
   "execution_count": 15,
   "metadata": {},
   "outputs": [],
   "source": [
    "hasil.compute()"
   ]
  },
  {
   "cell_type": "code",
   "execution_count": 16,
   "metadata": {},
   "outputs": [
    {
     "name": "stdout",
     "output_type": "stream",
     "text": [
      "82.19364398119762\n"
     ]
    }
   ],
   "source": [
    "print(hasil.output['LO'])"
   ]
  },
  {
   "cell_type": "code",
   "execution_count": 17,
   "metadata": {},
   "outputs": [
    {
     "name": "stderr",
     "output_type": "stream",
     "text": [
      "C:\\Users\\USER\\Anaconda3\\lib\\site-packages\\matplotlib\\figure.py:459: UserWarning: matplotlib is currently using a non-GUI backend, so cannot show the figure\n",
      "  \"matplotlib is currently using a non-GUI backend, \"\n"
     ]
    },
    {
     "data": {
      "image/png": "[encoded data removed]",
      "text/plain": [
       "<Figure size 432x288 with 1 Axes>"
      ]
     },
     "metadata": {},
     "output_type": "display_data"
    }
   ],
   "source": [
    "BMI.view(sim=hasil)\n",
    "plt.show()"
   ]
  },
  {
   "cell_type": "code",
   "execution_count": 18,
   "metadata": {},
   "outputs": [
    {
     "name": "stderr",
     "output_type": "stream",
     "text": [
      "C:\\Users\\USER\\Anaconda3\\lib\\site-packages\\matplotlib\\figure.py:459: UserWarning: matplotlib is currently using a non-GUI backend, so cannot show the figure\n",
      "  \"matplotlib is currently using a non-GUI backend, \"\n"
     ]
    },
    {
     "data": {
      "image/png": "[encoded data removed]",
      "text/plain": [
       "<Figure size 432x288 with 1 Axes>"
      ]
     },
     "metadata": {},
     "output_type": "display_data"
    }
   ],
   "source": [
    "BF.view(sim=hasil)\n",
    "plt.show()"
   ]
  },
  {
   "cell_type": "code",
   "execution_count": 19,
   "metadata": {},
   "outputs": [
    {
     "name": "stderr",
     "output_type": "stream",
     "text": [
      "C:\\Users\\USER\\Anaconda3\\lib\\site-packages\\matplotlib\\figure.py:459: UserWarning: matplotlib is currently using a non-GUI backend, so cannot show the figure\n",
      "  \"matplotlib is currently using a non-GUI backend, \"\n"
     ]
    },
    {
     "data": {
      "image/png": "[encoded data removed]",
      "text/plain": [
       "<Figure size 432x288 with 1 Axes>"
      ]
     },
     "metadata": {},
     "output_type": "display_data"
    }
   ],
   "source": [
    "WC.view(sim=hasil)\n",
    "plt.show()"
   ]
  },
  {
   "cell_type": "code",
   "execution_count": 20,
   "metadata": {},
   "outputs": [
    {
     "name": "stderr",
     "output_type": "stream",
     "text": [
      "C:\\Users\\USER\\Anaconda3\\lib\\site-packages\\matplotlib\\figure.py:459: UserWarning: matplotlib is currently using a non-GUI backend, so cannot show the figure\n",
      "  \"matplotlib is currently using a non-GUI backend, \"\n"
     ]
    },
    {
     "data": {
      "image/png": "[encoded data removed]",
      "text/plain": [
       "<Figure size 432x288 with 1 Axes>"
      ]
     },
     "metadata": {},
     "output_type": "display_data"
    }
   ],
   "source": [
    "LO.view(sim=hasil)\n",
    "plt.show()"
   ]
  },
  {
   "cell_type": "markdown",
   "metadata": {},
   "source": [
    "<div class=\"alert alert-info\">\n",
    "<h2> <center>Perhitungan Manual"
   ]
  },
  {
   "cell_type": "markdown",
   "metadata": {},
   "source": [
    "# Range Nilai Membership Functions Body Mass Index (BMI)"
   ]
  },
  {
   "cell_type": "markdown",
   "metadata": {},
   "source": [
    "\\begin{equation}\n",
    "    BMI = 20 \\\\\n",
    "    BMI['LOW'] = \\mu BMI'LOW'(x)=\\begin{cases}\n",
    "    1, & \\text{$1 \\leq x\\leq 15$}.\\\\\n",
    "    (22 - x)/(22 - 15) , & \\text{$15 < x < 22$}.\\checkmark\\\\\n",
    "    0, & \\text{$x\\geq 22$}.\\\\\n",
    "  \\end{cases}\n",
    "  \\\\\n",
    "  BMI['MODERATE'] = \\mu BMI'MODERATE'(x)=\\begin{cases}\n",
    "    0, & \\text{$x \\leq 15$ atau $x \\geq 29$}.\\\\\n",
    "    (x - 15)/(22 - 15) , & \\text{$15 < x \\leq 22$}.\\checkmark\\\\\n",
    "    (29 - x)/(29 - 22) , & \\text{$22 < x < 29$}.\\\\\n",
    "  \\end{cases}\n",
    "  \\\\\n",
    "    BMI['HIGH'] = \\mu BMI'HIGH'(x)=\\begin{cases}\n",
    "    0, & \\text{$x\\leq 22$}.\\checkmark\\\\\n",
    "    (x - 22)/(29 - 22) , & \\text{$22 < x < 29$}.\\\\\n",
    "    1, & \\text{$29 \\leq x \\geq 35$}.\n",
    "  \\end{cases}\n",
    "\\end{equation}"
   ]
  },
  {
   "cell_type": "markdown",
   "metadata": {},
   "source": [
    "*Untuk nilai BMI LOW dengan Range nilai 20\n",
    "\n",
    "    (22 - x)/(22 - 15)\n",
    "   \n",
    "\\begin{equation}\n",
    "    \\mu BMI'LOW'(20) = (22 - 20) / (22 - 15) \\\\\n",
    "    \\mu BMI'LOW'(20) = 2/7 \\\\ \n",
    "    \\mu BMI'LOW'(20) = 0.28 \\\\ \n",
    "\\end{equation}\n",
    "\n",
    "*Untuk nilai BMI MODERATE dengan Range nilai 20\n",
    "\n",
    "    (x - 15)/(22 - 15)\n",
    "    \n",
    "\\begin{equation}\n",
    "    \\mu BMI'MODERATE'(20) = (20 - 15) / (22 - 15) \\\\\n",
    "    \\mu BMI'MODERATE'(20) = 5/7 \\\\ \n",
    "    \\mu BMI'MODERATE'(20) = 0.71 \\\\\n",
    "\\end{equation}\n",
    "\n",
    "*Untuk nilai BMI HIGH dengan Range nilai 20\n",
    "    \n",
    "\\begin{equation}\n",
    "    \\mu BMI'HIGH'(x) = 0\n",
    "\\end{equation}"
   ]
  },
  {
   "cell_type": "markdown",
   "metadata": {},
   "source": [
    "# Range Nilai Membership Functions Body Fat (BF)"
   ]
  },
  {
   "cell_type": "markdown",
   "metadata": {},
   "source": [
    "\\begin{equation}\n",
    "    BF = 25 \\\\\n",
    "  BF['LOW'] = \\mu BF'LOW'(x)=\\begin{cases}\n",
    "    1, & \\text{$1 \\leq x \\leq 15$}.\\\\\n",
    "    (22 - x)/(22 - 15) , & \\text{$15 < x < 22$}.\\\\\n",
    "    0, & \\text{$x \\geq 22$}.\\checkmark\\\\\n",
    "  \\end{cases}\n",
    "  \\\\\n",
    "  BF['NORMAL'] = \\mu BF'NORMAL'(x)=\\begin{cases}\n",
    "    0, & \\text{$x\\leq 15$ atau $x \\geq 29$}.\\\\\n",
    "    (x - 15)/(22 - 15) , & \\text{$15 < x \\leq 22$}.\\\\\n",
    "    (29 - x)/(29 - 22) , & \\text{$22 < x < 29$}.\\checkmark\\\\\n",
    "  \\end{cases}\n",
    "  \\\\\n",
    "    BF['HIGH'] = \\mu BF'HIGH'(x)=\\begin{cases}\n",
    "    0, & \\text{$x\\leq 22$}.\\\\\n",
    "    (x - 22)/(29 - 22) , & \\text{$22 < x < 29$}.\\checkmark\\\\\n",
    "    1, & \\text{$29 \\leq x\\leq 35$}.\n",
    "  \\end{cases}\n",
    "\\end{equation}"
   ]
  },
  {
   "cell_type": "markdown",
   "metadata": {},
   "source": [
    "*Untuk nilai BF LOW dengan Range nilai 25\n",
    "\n",
    "\\begin{equation}\n",
    "    \\mu BF'LOW'(x) = 0\n",
    "\\end{equation}\n",
    "\n",
    "*Untuk nilai BF NORMAL dengan Range nilai 25\n",
    "\n",
    "    (29 - x)/(29 - 22)\n",
    "    \n",
    "\\begin{equation}\n",
    "    \\mu BF'NORMAL'(25) = (29 - 25) / (29 - 22) \\\\\n",
    "    \\mu BF'NORMAL'(25) = 4/7 \\\\ \n",
    "    \\mu BF'NORMAL'(25) = 0.57 \\\\\n",
    "\\end{equation}\n",
    "\n",
    "*Untuk nilai BF HIGH dengan Range nilai 25\n",
    "\n",
    "    (x - 22)/(29 - 22)\n",
    "    \n",
    "\\begin{equation}\n",
    "    \\mu BF'HIGH'(25) = (25 - 22) / (29 - 22) \\\\\n",
    "    \\mu BF'HIGH'(25) = 3/7 \\\\ \n",
    "    \\mu BF'HIGH'(25) = 0.42 \\\\\n",
    "\\end{equation}"
   ]
  },
  {
   "cell_type": "markdown",
   "metadata": {},
   "source": [
    "# Range Nilai Membership Functions Waist Circumference (WC)"
   ]
  },
  {
   "cell_type": "markdown",
   "metadata": {},
   "source": [
    "\\begin{equation}\n",
    "  WC = 90 \\\\\n",
    "  WC['SMALL'] = \\mu WC'SMALL'(x)=\\begin{cases}\n",
    "    1, & \\text{$1 \\leq x \\leq 30$}.\\\\\n",
    "    (60 - x)/(60 - 30) , & \\text{$30 < x < 60$}.\\\\\n",
    "    0, & \\text{$x\\geq 60$}. \\checkmark\n",
    "  \\end{cases}\n",
    "  \\\\\n",
    "  WC['MEDIUM'] = \\mu WC'MEDIUM'(x)=\\begin{cases}\n",
    "    0, & \\text{$x\\leq 30$ atau $x \\geq 90$}.\\checkmark\\\\\n",
    "    (x -30)/(60 - 30) , & \\text{$30 < x \\leq 60$}.\\\\\n",
    "    (90 - x)/(90 - 60) , & \\text{$60 < x < 90$}. \\\\\n",
    "  \\end{cases}\n",
    "  \\\\\n",
    "    WC['LARGE'] = \\mu WC'LARGE'(x)=\\begin{cases}\n",
    "    0, & \\text{$x \\leq 60$}.\\\\\n",
    "    (x - 60)/(90 - 60) , & \\text{$60 < x < 90$}. \\\\\n",
    "    1, & \\text{$90 \\leq x \\leq 120$}.\\checkmark\\\\\n",
    "  \\end{cases}\n",
    "\\end{equation}"
   ]
  },
  {
   "cell_type": "markdown",
   "metadata": {},
   "source": [
    "*Untuk nilai WC SMALL dengan Range nilai 90\n",
    "\n",
    "\\begin{equation}\n",
    "    \\mu WC'SMALL'(x) = 0\n",
    "\\end{equation}\n",
    "\n",
    "*Untuk nilai WC MEDIUM dengan Range nilai 90\n",
    "\n",
    "   \n",
    "\\begin{equation}\n",
    "    \\mu WC'MEDIUM'(x) = 0\n",
    "    \\end{equation}\n",
    "\n",
    "*Untuk nilai WC LARGE dengan Range nilai 90\n",
    "\n",
    "   \n",
    "\\begin{equation}\n",
    "    \\mu WC'LARGE'(x) = 1\n",
    "    \\end{equation}"
   ]
  },
  {
   "cell_type": "markdown",
   "metadata": {},
   "source": [
    "<div class=\"alert alert-info\">\n",
    "<h2> <center>Mencari Nilai Z"
   ]
  },
  {
   "cell_type": "markdown",
   "metadata": {},
   "source": [
    "Lalu kita cari nilai z untuk setiap aturan dengan menggunakan fungsi MIN karena menggunakan rule AND\n",
    "\n",
    "[1] IF BMI ['LOW'] AND BF ['LOW'] AND WC ['SMALL'] THEN LO ['HEALTHY']\n",
    "\n",
    "$$ \\\\ \\alpha(predikat_1) = \\mu BMI'LOW' \\cap \\mu BF'LOW' \\cap \\mu WC'SMALL' $$\n",
    "$$\\alpha(predikat_1)   = min (\\mu BMI'LOW'[20], \\mu BF'LOW'[25], \\mu WC'SMALL'[90]) $$\n",
    "$$ \\alpha(predikat_1) = min (0.28; 0; 0) $$\n",
    "$$ \\alpha(predikat_1) = 0 $$\n",
    "\n",
    "Lalu Lihat Himpunan LO['HEALTHY']\n",
    "$$\n",
    "   LO['HEALTHY'] = \\mu LO'HEALTHY'(x)=\\begin{cases}\n",
    "    1, & \\text{$1 \\leq x \\leq 20$}.\\\\\n",
    "    (40 - x)/(40 - 20) , & \\text{$20 < x < 40$}.\\\\\n",
    "    0, & \\text{$x\\geq 40$}.\n",
    "  \\end{cases}\n",
    "$$\n",
    "\n",
    "Maka nilai keanggotaan yang memenuhi adalah 0\n",
    "\n",
    "Maka nilai $ Z_1 = 0 $                                                                                                            \n",
    "\n",
    "============================================================================================================================="
   ]
  },
  {
   "cell_type": "markdown",
   "metadata": {},
   "source": [
    "[2] IF BMI ['LOW'] AND BF ['LOW'] AND WC ['MEDIUM'] THEN LO ['HEALTHY']\n",
    "\n",
    "$$ \\\\ \\alpha(predikat_2) = \\mu BMI'LOW' \\cap \\mu BF'LOW' \\cap \\mu WC'MEDIUM' $$\n",
    "$$\\alpha(predikat_2)   = min (\\mu BMI'LOW'[20], \\mu BF'LOW'[25], \\mu WC'MEDIUM'[90]) $$\n",
    "$$ \\alpha(predikat_2) = min (0.28; 0; 0) $$\n",
    "$$ \\alpha(predikat_2) = 0 $$\n",
    "\n",
    "Lalu Lihat Himpunan LO['HEALTHY']\n",
    "$$\n",
    "   LO['HEALTHY'] = \\mu LO'HEALTHY'(x)=\\begin{cases}\n",
    "    1, & \\text{$1 \\leq x \\leq 20$}.\\\\\n",
    "    (40 - x)/(40 - 20) , & \\text{$20 < x < 40$}.\\\\\n",
    "    0, & \\text{$x\\geq 40$}.\n",
    "  \\end{cases}\n",
    "$$\n",
    "\n",
    "Maka nilai keanggotaan yang memenuhi adalah 0\n",
    "\n",
    "Maka nilai $ Z_2 = 0 $\n",
    "\n",
    "============================================================================================================================="
   ]
  },
  {
   "cell_type": "markdown",
   "metadata": {},
   "source": [
    "[3] IF BMI ['LOW'] AND BF ['LOW'] AND WC ['LARGE'] THEN LO ['HEALTHY']\n",
    "\n",
    "$$ \\\\ \\alpha(predikat_3) = \\mu BMI'LOW' \\cap \\mu BF'LOW' \\cap \\mu WC'LARGE' $$\n",
    "$$\\alpha(predikat_3)   = min (\\mu BMI'LOW'[20], \\mu BF'LOW'[25], \\mu WC'LARGE'[90]) $$\n",
    "$$ \\alpha(predikat_3) = min (0.28; 0; 1) $$\n",
    "$$ \\alpha(predikat_3) = 0 $$\n",
    "\n",
    "Lalu Lihat Himpunan LO['HEALTHY']\n",
    "$$\n",
    "   LO['HEALTHY'] = \\mu LO'HEALTHY'(x)=\\begin{cases}\n",
    "    1, & \\text{$1 \\leq x \\leq 20$}.\\\\\n",
    "    (40 - x)/(40 - 20) , & \\text{$20 < x < 40$}.\\\\\n",
    "    0, & \\text{$x\\geq 40$}.\n",
    "  \\end{cases}\n",
    "$$\n",
    "Maka nilai keanggotaan yang memenuhi adalah 0\n",
    "\n",
    "Maka nilai $ Z_3 = 0 $\n",
    "\n",
    "============================================================================================================================="
   ]
  },
  {
   "cell_type": "markdown",
   "metadata": {},
   "source": [
    "[4] IF BMI ['LOW'] AND BF ['NORMAL'] AND WC ['SMALL'] THEN LO ['HEALTHY']\n",
    "\n",
    "$$ \\\\ \\alpha(predikat_4) = \\mu BMI'LOW' \\cap \\mu BF'NORMAL' \\cap \\mu WC'SMALL' $$\n",
    "$$\\alpha(predikat_4)   = min (\\mu BMI'LOW'[20], \\mu BF'NORMAL'[25], \\mu WC'SMALL'[90]) $$\n",
    "$$ \\alpha(predikat_4) = min (0.28; 0.57; 0) $$\n",
    "$$ \\alpha(predikat_4) = 0 $$\n",
    "\n",
    "Lalu Lihat Himpunan LO['HEALTHY']\n",
    "$$\n",
    "   LO['HEALTHY'] = \\mu LO'HEALTHY'(x)=\\begin{cases}\n",
    "    1, & \\text{$1 \\leq x \\leq 20$}.\\\\\n",
    "    (40 - x)/(40 - 20) , & \\text{$20 < x < 40$}.\\\\\n",
    "    0, & \\text{$x\\geq 40$}.\n",
    "  \\end{cases}\n",
    "$$\n",
    "\n",
    "Maka nilai keanggotaan yang memenuhi adalah 0\n",
    "\n",
    "Maka nilai $ Z_4 = 0 $\n",
    "\n",
    "============================================================================================================================="
   ]
  },
  {
   "cell_type": "markdown",
   "metadata": {},
   "source": [
    "[5] IF BMI ['LOW'] AND BF ['NORMAL'] AND WC ['MEDIUM'] THEN LO ['OVERWIGHT']\n",
    "\n",
    "$$ \\\\ \\alpha(predikat_5) = \\mu BMI'LOW' \\cap \\mu BF'NORMAL' \\cap \\mu WC'MEDIUM' $$\n",
    "$$\\alpha(predikat_5)   = min (\\mu BMI'LOW'[20], \\mu BF'NORMAL'[25], \\mu WC'MEDIUM'[90]) $$\n",
    "$$ \\alpha(predikat_5) = min (0.28; 0.57; 0) $$\n",
    "$$ \\alpha(predikat_5) = 0 $$\n",
    "\n",
    "Lalu Lihat Himpunan LO['OVERWIGHT']\n",
    "$$\n",
    "   LO['OVERWEIGHT'] = \\mu LO'OVERWEIGHT'(x)=\\begin{cases}\n",
    "    0, & \\text{$x \\leq 30$ atau $x \\geq90$}.\\\\\n",
    "    (x -30)/(50 - 30) , & \\text{$30 < x \\leq 50$}.\\\\\n",
    "    (70 - x)/(70 - 50) , & \\text{$50 < x < 70$}.\\\\\n",
    "  \\end{cases}\n",
    "$$\n",
    "\n",
    "Maka nilai keanggotaan yang memenuhi adalah 0\n",
    "Maka nilai $ Z_5 = 0 $\n",
    "\n",
    "============================================================================================================================="
   ]
  },
  {
   "cell_type": "markdown",
   "metadata": {},
   "source": [
    "[6] IF BMI ['LOW'] AND BF ['NORMAL'] AND WC ['LARGE'] THEN LO ['OBESE']\n",
    "\n",
    "$$ \\\\ \\alpha(predikat_6) = \\mu BMI'LOW' \\cap \\mu BF'NORMAL' \\cap \\mu WC'LARGE' $$\n",
    "$$\\alpha(predikat_6)   = min (\\mu BMI'LOW'[20], \\mu BF'NORMAL'[25], \\mu WC'LARGE'[90]) $$\n",
    "$$ \\alpha(predikat_6) = min (0.28; 0.57; 1) $$\n",
    "$$ \\alpha(predikat_6) = 0.28 $$\n",
    "\n",
    "Lalu Lihat Himpunan LO['OBESE']\n",
    "$$\n",
    "  LO['OBESE'] = \\mu LO'OBESE'(x)=\\begin{cases}\n",
    "    0, & \\text{$x\\leq 60$}.\\\\\n",
    "    (x - 60)/(80 - 60) , & \\text{$60 < x < 80$}.\\\\\n",
    "    1, & \\text{$80 \\leq x \\leq 120$}.\n",
    "  \\end{cases}\n",
    "$$\n",
    "Terdapat 1 nilai keanggotaan yang akan kita masukkan nilainya\n",
    " $$(x- 60) / (80 - 60) = 0.28 $$\n",
    " $$ x - 60 = 0.28 \\times 20 $$\n",
    " $$ x - 60 = 5.6 $$\n",
    " $$ x = 65.6 $$\n",
    " \n",
    "\n",
    "Maka nilai $ Z_6 = 65.6 $\n",
    "\n",
    "============================================================================================================================="
   ]
  },
  {
   "cell_type": "markdown",
   "metadata": {},
   "source": [
    "[7] IF BMI ['LOW'] AND BF ['HIGH'] AND WC ['SMALL'] THEN LO ['HEALTHY']\n",
    "\n",
    "$$ \\\\ \\alpha(predikat_7) = \\mu BMI'LOW' \\cap \\mu BF'HIGH' \\cap \\mu WC'SMALL' $$\n",
    "$$\\alpha(predikat_7)   = min (\\mu BMI'LOW'[20], \\mu BF'HIGH'[25], \\mu WC'SMALL'[90]) $$\n",
    "$$ \\alpha(predikat_7) = min (0.28; 0.42; 0) $$\n",
    "$$ \\alpha(predikat_7) = 0 $$\n",
    "\n",
    "Lalu Lihat Himpunan LO['HEALTHY']\n",
    "$$\n",
    "   LO['HEALTHY'] = \\mu LO'HEALTHY'(x)=\\begin{cases}\n",
    "    1, & \\text{$1 \\leq x \\leq 20$}.\\\\\n",
    "    (40 - x)/(40 - 20) , & \\text{$20 < x < 40$}.\\\\\n",
    "    0, & \\text{$x\\geq 40$}.\n",
    "  \\end{cases}\n",
    "$$\n",
    "\n",
    "Maka nilai keanggotaan yang memenuhi adalah 0\n",
    "\n",
    "Maka nilai $ Z_7 = 0 $\n",
    "\n",
    "============================================================================================================================="
   ]
  },
  {
   "cell_type": "markdown",
   "metadata": {},
   "source": [
    "[8] IF BMI ['LOW'] AND BF ['HIGH'] AND WC ['MEDIUM'] THEN LO ['OVERWIGHT']\n",
    "\n",
    "$$ \\\\ \\alpha(predikat_8) = \\mu BMI'LOW' \\cap \\mu BF'HIGH' \\cap \\mu WC'MEDIUM' $$\n",
    "$$\\alpha(predikat_8)   = min (\\mu BMI'LOW'[20], \\mu BF'HIGH'[25], \\mu WC'MEDIUM'[90]) $$\n",
    "$$ \\alpha(predikat_8) = min (0.28; 0.42; 0) $$\n",
    "$$ \\alpha(predikat_8) = 0 $$\n",
    "\n",
    "Lalu Lihat Himpunan LO['OVERWIGHT']\n",
    "$$\n",
    "   LO['OVERWEIGHT'] = \\mu LO'OVERWEIGHT'(x)=\\begin{cases}\n",
    "    0, & \\text{$x \\leq 30$ atau $x \\geq90$}.\\\\\n",
    "    (x -30)/(50 - 30) , & \\text{$30 < x \\leq 50$}.\\\\\n",
    "    (70 - x)/(70 - 50) , & \\text{$50 < x < 70$}.\\\\\n",
    "  \\end{cases}\n",
    "$$\n",
    "\n",
    "Maka nilai keanggotaan yang memenuhi adalah 0\n",
    "\n",
    "Maka nilai $ Z_8 = 0 $\n",
    "\n",
    "============================================================================================================================="
   ]
  },
  {
   "cell_type": "markdown",
   "metadata": {},
   "source": [
    "[9] IF BMI ['LOW'] AND BF ['HIGH'] AND WC ['LARGE'] THEN LO ['OBESE']\n",
    "\n",
    "$$ \\\\ \\alpha(predikat_9) = \\mu BMI'LOW' \\cap \\mu BF'HIGH' \\cap \\mu WC'LARGE' $$\n",
    "$$\\alpha(predikat_9)   = min (\\mu BMI'LOW'[20], \\mu BF'HIGH'[25], \\mu WC'LARGE'[90]) $$\n",
    "$$ \\alpha(predikat_9) = min (0.28; 0.42; 1) $$\n",
    "$$ \\alpha(predikat_9) = 0.28 $$\n",
    "\n",
    "Lalu Lihat Himpunan LO['OBESE']\n",
    "$$\n",
    "  LO['OBESE'] = \\mu LO'OBESE'(x)=\\begin{cases}\n",
    "    0, & \\text{$x\\leq 60$}.\\\\\n",
    "    (x - 60)/(80 - 60) , & \\text{$60 < x < 80$}.\\\\\n",
    "    1, & \\text{$80 \\leq x \\leq 120$}.\n",
    "  \\end{cases}\n",
    "$$\n",
    "Terdapat 1 nilai keanggotaan yang akan kita masukkan nilainya\n",
    " $$(x- 60) / (80 - 60) = 0.28 $$\n",
    " $$ x - 60 = 0.28 \\times 20 $$\n",
    " $$ x - 60 = 5.6 $$\n",
    " $$ x = 65.6 $$\n",
    " \n",
    "\n",
    "Maka nilai $ Z_9 = 65.6 $\n",
    "\n",
    "============================================================================================================================="
   ]
  },
  {
   "cell_type": "markdown",
   "metadata": {},
   "source": [
    "[10] IF BMI ['MODERATE'] AND BF ['LOW'] AND WC ['SMALL'] THEN LO ['HEALTHY']\n",
    "\n",
    "$$ \\\\ \\alpha(predikat_1\\,_0) = \\mu BMI'MODERATE' \\cap \\mu BF'LOW' \\cap \\mu WC'SMALL' $$\n",
    "$$\\alpha(predikat_1\\,_0)   = min (\\mu BMI'MODERATE'[20], \\mu BF'LOW'[25], \\mu WC'SMALL'[90]) $$\n",
    "$$ \\alpha(predikat_1\\,_0) = min (0.71; 0; 0) $$\n",
    "$$ \\alpha(predikat_1\\,_0) = 0 $$\n",
    "\n",
    "Lalu Lihat Himpunan LO['HEALTHY']\n",
    "$$\n",
    "   LO['HEALTHY'] = \\mu LO'HEALTHY'(x)=\\begin{cases}\n",
    "    1, & \\text{$1 \\leq x \\leq 20$}.\\\\\n",
    "    (40 - x)/(40 - 20) , & \\text{$20 < x < 40$}.\\\\\n",
    "    0, & \\text{$x\\geq 40$}.\n",
    "  \\end{cases}\n",
    "$$\n",
    "\n",
    "Maka nilai keanggotaan yang memenuhi adalah 0\n",
    "\n",
    "Maka nilai  Z$_1$$_0$ = 0 \n",
    "\n",
    "============================================================================================================================="
   ]
  },
  {
   "cell_type": "markdown",
   "metadata": {},
   "source": [
    "[11] IF BMI ['MODERATE'] AND BF ['LOW'] AND WC ['MEDIUM'] THEN LO ['HEALTHY']\n",
    "\n",
    "$$ \\\\ \\alpha(predikat_1\\,_1) = \\mu BMI'MODERATE' \\cap \\mu BF'LOW' \\cap \\mu WC'MEDIUM' $$\n",
    "$$\\alpha(predikat_1\\,_1)   = min (\\mu BMI'MODERATE'[20], \\mu BF'LOW'[25], \\mu WC'MEDIUM'[90]) $$\n",
    "$$ \\alpha(predikat_1\\,_1) = min (0.71; 0; 0) $$\n",
    "$$ \\alpha(predikat_1\\,_1) = 0 $$\n",
    "\n",
    "Lalu Lihat Himpunan LO['HEALTHY']\n",
    "$$\n",
    "   LO['HEALTHY'] = \\mu LO'HEALTHY'(x)=\\begin{cases}\n",
    "    1, & \\text{$1 \\leq x \\leq 20$}.\\\\\n",
    "    (40 - x)/(40 - 20) , & \\text{$20 < x < 40$}.\\\\\n",
    "    0, & \\text{$x\\geq 40$}.\n",
    "  \\end{cases}\n",
    "$$\n",
    "\n",
    "Maka nilai keanggotaan yang memenuhi adalah 0\n",
    "\n",
    "Maka nilai  Z$_1$$_1$ = 0 \n",
    "\n",
    "============================================================================================================================="
   ]
  },
  {
   "cell_type": "markdown",
   "metadata": {},
   "source": [
    "[12] IF BMI ['MODERATE'] AND BF ['LOW'] AND WC ['LARGE'] THEN LO ['OBESE']\n",
    "\n",
    "$$ \\\\ \\alpha(predikat_1\\,_2) = \\mu BMI'MODERATE' \\cap \\mu BF'LOW' \\cap \\mu WC'LARGE' $$\n",
    "$$\\alpha(predikat_1\\,_2)   = min (\\mu BMI'MODERATE'[20], \\mu BF'LOW'[25], \\mu WC'LARGE'[90]) $$\n",
    "$$ \\alpha(predikat_1\\,_2) = min (0.71; 0; 1) $$\n",
    "$$ \\alpha(predikat_1\\,_2) = 0 $$\n",
    "\n",
    "Lalu Lihat Himpunan LO['OBESE']\n",
    "$$\n",
    "  LO['OBESE'] = \\mu LO'OBESE'(x)=\\begin{cases}\n",
    "    0, & \\text{$x\\leq 60$}.\\\\\n",
    "    (x - 60)/(80 - 60) , & \\text{$60 < x < 80$}.\\\\\n",
    "    1, & \\text{$80 \\leq x \\leq 120$}.\n",
    "  \\end{cases}\n",
    "$$\n",
    "\n",
    "Maka nilai keanggotaan yang memenuhi adalah 0\n",
    "\n",
    "Maka nilai Z$_1$$_2$ = 0 \n",
    "\n",
    "============================================================================================================================="
   ]
  },
  {
   "cell_type": "markdown",
   "metadata": {},
   "source": [
    "[13] IF BMI ['MODERATE'] AND BF ['NORMAL'] AND WC ['SMALL'] THEN LO ['OVERWIGHT']\n",
    "\n",
    "$$ \\\\ \\alpha(predikat_1\\,_3) = \\mu BMI'MODERATE' \\cap \\mu BF'NORMAL' \\cap \\mu WC'SMALL' $$\n",
    "$$\\alpha(predikat_1\\,_3)   = min (\\mu BMI'MODERATE'[20], \\mu BF'NORMAL'[25], \\mu WC'SMALL'[90]) $$\n",
    "$$ \\alpha(predikat_1\\,_3) = min (0.71 ; 0.57; 0) $$\n",
    "$$ \\alpha(predikat_1\\,_3) = 0 $$\n",
    "\n",
    "Lalu Lihat Himpunan LO['OVERWIGHT']\n",
    "$$\n",
    "   LO['OVERWEIGHT'] = \\mu LO'OVERWEIGHT'(x)=\\begin{cases}\n",
    "    0, & \\text{$x \\leq 30$ atau $x \\geq90$}.\\\\\n",
    "    (x -30)/(50 - 30) , & \\text{$30 < x \\leq 50$}.\\\\\n",
    "    (70 - x)/(70 - 50) , & \\text{$50 < x < 70$}.\\\\\n",
    "  \\end{cases}\n",
    "$$\n",
    "\n",
    "Maka nilai keanggotaan yang memenuhi adalah 0\n",
    "\n",
    "Maka nilai Z$_1$$_3$ = 0 \n",
    "\n",
    "============================================================================================================================="
   ]
  },
  {
   "cell_type": "markdown",
   "metadata": {},
   "source": [
    "[14] IF BMI ['MODERATE'] AND BF ['NORMAL'] AND WC ['MEDIUM'] THEN LO ['OVERWIGHT']\n",
    "\n",
    "$$ \\\\ \\alpha(predikat_1\\,_4) = \\mu BMI'MODERATE' \\cap \\mu BF'NORMAL' \\cap \\mu WC'MEDIUM' $$\n",
    "$$\\alpha(predikat_1\\,_4)   = min (\\mu BMI'MODERATE'[20], \\mu BF'NORMAL'[25], \\mu WC'MEDIUM'[90]) $$\n",
    "$$ \\alpha(predikat_1\\,_4) = min (0.71 ; 0.57; 0) $$\n",
    "$$ \\alpha(predikat_1\\,_4) = 0 $$\n",
    "\n",
    "Lalu Lihat Himpunan LO['OVERWIGHT']\n",
    "$$\n",
    "   LO['OVERWEIGHT'] = \\mu LO'OVERWEIGHT'(x)=\\begin{cases}\n",
    "    0, & \\text{$x \\leq 30$ atau $x \\geq90$}.\\\\\n",
    "    (x -30)/(50 - 30) , & \\text{$30 < x \\leq 50$}.\\\\\n",
    "    (70 - x)/(70 - 50) , & \\text{$50 < x < 70$}.\\\\\n",
    "  \\end{cases}\n",
    "$$\n",
    "\n",
    "Maka nilai keanggotaan yang memenuhi adalah 0\n",
    "\n",
    "Maka nilai  Z$_1$$_4$ = 0 \n",
    "\n",
    "============================================================================================================================="
   ]
  },
  {
   "cell_type": "markdown",
   "metadata": {},
   "source": [
    "[15] IF BMI ['MODERATE'] AND BF ['NORMAL'] AND WC ['LARGE'] THEN LO ['OBESE']\n",
    "\n",
    "$$ \\\\ \\alpha(predikat_1\\,_5) = \\mu BMI'MODERATE' \\cap \\mu BF'NORMAL' \\cap \\mu WC'LARGE' $$\n",
    "$$\\alpha(predikat_1\\,_5)   = min (\\mu BMI'MODERATE'[20], \\mu BF'NORMAL'[25], \\mu WC'LARGE'[90]) $$\n",
    "$$ \\alpha(predikat_1\\,_5) = min (0.71; 0.57; 1) $$\n",
    "$$ \\alpha(predikat_1\\,_5) = 0.57 $$\n",
    "\n",
    "Lalu Lihat Himpunan LO['OBESE']\n",
    "$$\n",
    "  LO['OBESE'] = \\mu LO'OBESE'(x)=\\begin{cases}\n",
    "    0, & \\text{$x\\leq 60$}.\\\\\n",
    "    (x - 60)/(80 - 60) , & \\text{$60 < x < 80$}.\\\\\n",
    "    1, & \\text{$80 \\leq x \\leq 120$}.\n",
    "  \\end{cases}\n",
    "$$\n",
    "Terdapat 1 nilai keanggotaan yang akan kita masukkan nilainya\n",
    " $$(x- 60) / (80 - 60) = 0.57 $$\n",
    " $$ x - 60 = 0.57 \\times 20 $$\n",
    " $$ x - 60 = 11.4 $$\n",
    " $$ x = 71.4 $$\n",
    " \n",
    "\n",
    "Maka nilai  Z$_1$$_5$ = 71.4 \n",
    "\n",
    "============================================================================================================================="
   ]
  },
  {
   "cell_type": "markdown",
   "metadata": {},
   "source": [
    "[16] IF BMI ['MODERATE'] AND BF ['HIGH'] AND WC ['SMALL'] THEN LO ['OVERWIGHT']\n",
    "\n",
    "$$ \\\\ \\alpha(predikat_1\\,_6) = \\mu BMI'MODERATE' \\cap \\mu BF'HIGH' \\cap \\mu WC'SMALL' $$\n",
    "$$\\alpha(predikat_1\\,_6)   = min (\\mu BMI'MODERATE'[20], \\mu BF'HIGH'[25], \\mu WC'SMALL'[90]) $$\n",
    "$$ \\alpha(predikat_1\\,_6) = min (0.71 ; 0.42; 0) $$\n",
    "$$ \\alpha(predikat_1\\,_6) = 0 $$\n",
    "\n",
    "Lalu Lihat Himpunan LO['OVERWIGHT']\n",
    "$$\n",
    "   LO['OVERWEIGHT'] = \\mu LO'OVERWEIGHT'(x)=\\begin{cases}\n",
    "    0, & \\text{$x \\leq 30$ atau $x \\geq90$}.\\\\\n",
    "    (x -30)/(50 - 30) , & \\text{$30 < x \\leq 50$}.\\\\\n",
    "    (70 - x)/(70 - 50) , & \\text{$50 < x < 70$}.\\\\\n",
    "  \\end{cases}\n",
    "$$\n",
    "\n",
    "Maka nilai keanggotaan yang memenuhi adalah 0\n",
    "\n",
    "Maka nilai  Z$_1$$_6$ = 0 \n",
    "\n",
    "============================================================================================================================="
   ]
  },
  {
   "cell_type": "markdown",
   "metadata": {},
   "source": [
    "[17] IF BMI ['MODERATE'] AND BF ['HIGH'] AND WC ['MEDIUM'] THEN LO ['OBESE']\n",
    "\n",
    "$$ \\\\ \\alpha(predikat_1\\,_7) = \\mu BMI'MODERATE' \\cap \\mu BF'HIGH' \\cap \\mu WC'MEDIUM' $$\n",
    "$$\\alpha(predikat_1\\,_7)   = min (\\mu BMI'MODERATE'[20], \\mu BF'HIGH'[25], \\mu WC'MEDIUM'[90]) $$\n",
    "$$ \\alpha(predikat_1\\,_7) = min (0.71; 0.42; 0) $$\n",
    "$$ \\alpha(predikat_1\\,_7) = 0 $$\n",
    "\n",
    "Lalu Lihat Himpunan LO['OBESE']\n",
    "$$\n",
    "  LO['OBESE'] = \\mu LO'OBESE'(x)=\\begin{cases}\n",
    "    0, & \\text{$x\\leq 60$}.\\\\\n",
    "    (x - 60)/(80 - 60) , & \\text{$60 < x < 80$}.\\\\\n",
    "    1, & \\text{$80 \\leq x \\leq 120$}.\n",
    "  \\end{cases}\n",
    "$$\n",
    " \n",
    "Maka nilai keanggotaan yang memenuhi adalah 0\n",
    "\n",
    "Maka nilai  Z$_1$$_7$ = 0 \n",
    "\n",
    "============================================================================================================================="
   ]
  },
  {
   "cell_type": "markdown",
   "metadata": {},
   "source": [
    "[18] IF BMI ['MODERATE'] AND BF ['HIGH'] AND WC ['LARGE'] THEN LO ['OBESE']\n",
    "\n",
    "$$ \\\\ \\alpha(predikat_1\\,_8) = \\mu BMI'MODERATE' \\cap \\mu BF'HIGH' \\cap \\mu WC'LARGE' $$\n",
    "$$\\alpha(predikat_1\\,_8)   = min (\\mu BMI'MODERATE'[20], \\mu BF'HIGH'[25], \\mu WC'LARGE'[90]) $$\n",
    "$$ \\alpha(predikat_1\\,_8) = min (0.71; 0.42; 1) $$\n",
    "$$ \\alpha(predikat_1\\,_8) = 0.42 $$\n",
    "\n",
    "Lalu Lihat Himpunan LO['OBESE']\n",
    "$$\n",
    "  LO['OBESE'] = \\mu LO'OBESE'(x)=\\begin{cases}\n",
    "    0, & \\text{$x\\leq 60$}.\\\\\n",
    "    (x - 60)/(80 - 60) , & \\text{$60 < x < 80$}.\\\\\n",
    "    1, & \\text{$80 \\leq x \\leq 120$}.\n",
    "  \\end{cases}\n",
    "$$\n",
    "Terdapat 1 nilai keanggotaan yang akan kita masukkan nilainya\n",
    " $$(x- 60) / (80 - 60) = 0.42 $$\n",
    " $$ x - 60 = 0.42 \\times 20 $$\n",
    " $$ x - 60 = 8.4 $$\n",
    " $$ x = 68.4 $$\n",
    " \n",
    "\n",
    "Maka nilai  Z$_1$$_8$ = 68.4 \n",
    "\n",
    "============================================================================================================================="
   ]
  },
  {
   "cell_type": "markdown",
   "metadata": {},
   "source": [
    "[19] IF BMI ['HIGH'] AND BF ['LOW'] AND WC ['SMALL'] THEN LO ['HEALTHY']\n",
    "\n",
    "$$ \\\\ \\alpha(predikat_1\\,_9) = \\mu BMI'HIGH' \\cap \\mu BF'LOW' \\cap \\mu WC'SMALL' $$\n",
    "$$\\alpha(predikat_1\\,_9)   = min (\\mu BMI'HIGH'[20], \\mu BF'LOW'[25], \\mu WC'SMALL'[90]) $$\n",
    "$$ \\alpha(predikat_1\\,_9) = min (0; 0; 0) $$\n",
    "$$ \\alpha(predikat_1\\,_9) = 0 $$\n",
    "\n",
    "Lalu Lihat Himpunan LO['HEALTHY']\n",
    "$$\n",
    "   LO['HEALTHY'] = \\mu LO'HEALTHY'(x)=\\begin{cases}\n",
    "    1, & \\text{$1 \\leq x \\leq 20$}.\\\\\n",
    "    (40 - x)/(40 - 20) , & \\text{$20 < x < 40$}.\\\\\n",
    "    0, & \\text{$x\\geq 40$}.\n",
    "  \\end{cases}\n",
    "$$\n",
    "\n",
    "Maka nilai keanggotaan yang memenuhi adalah 0\n",
    "\n",
    "Maka nilai  Z$_1$$_9$ = 0 \n",
    "\n",
    "============================================================================================================================="
   ]
  },
  {
   "cell_type": "markdown",
   "metadata": {},
   "source": [
    "[20] IF BMI ['HIGH'] AND BF ['LOW'] AND WC ['MEDIUM'] THEN LO ['HEALTHY']\n",
    "\n",
    "$$ \\\\ \\alpha(predikat_2\\,_0) = \\mu BMI'HIGH' \\cap \\mu BF'LOW' \\cap \\mu WC'MEDIUM' $$\n",
    "$$\\alpha(predikat_2\\,_0)   = min (\\mu BMI'HIGH'[20], \\mu BF'LOW'[25], \\mu WC'MEDIUM'[90]) $$\n",
    "$$ \\alpha(predikat_2\\,_0) = min (0; 0; 0) $$\n",
    "$$ \\alpha(predikat_2\\,_0) = 0 $$\n",
    "\n",
    "Lalu Lihat Himpunan LO['HEALTHY']\n",
    "$$\n",
    "   LO['HEALTHY'] = \\mu LO'HEALTHY'(x)=\\begin{cases}\n",
    "    1, & \\text{$1 \\leq x \\leq 20$}.\\\\\n",
    "    (40 - x)/(40 - 20) , & \\text{$20 < x < 40$}.\\\\\n",
    "    0, & \\text{$x\\geq 40$}.\n",
    "  \\end{cases}\n",
    "$$\n",
    "\n",
    "Maka nilai keanggotaan yang memenuhi adalah 0\n",
    "\n",
    "Maka nilai  Z$_2$$_0$ = 0 \n",
    "\n",
    "============================================================================================================================="
   ]
  },
  {
   "cell_type": "markdown",
   "metadata": {},
   "source": [
    "[21] IF BMI ['HIGH'] AND BF ['LOW'] AND WC ['LARGE'] THEN LO ['OVERWIGHT']\n",
    "\n",
    "$$ \\\\ \\alpha(predikat_2\\,_1) = \\mu BMI'HIGH' \\cap \\mu BF'LOW' \\cap \\mu WC'LARGE' $$\n",
    "$$\\alpha(predikat_2\\,_1)   = min (\\mu BMI'HIGH'[20], \\mu BF'LOW'[25], \\mu WC'LARGE'[90]) $$\n",
    "$$ \\alpha(predikat_2\\,_1) = min (0 ; 0; 1) $$\n",
    "$$ \\alpha(predikat_2\\,_1) = 0 $$\n",
    "\n",
    "Lalu Lihat Himpunan LO['OVERWIGHT']\n",
    "$$\n",
    "   LO['OVERWEIGHT'] = \\mu LO'OVERWEIGHT'(x)=\\begin{cases}\n",
    "    0, & \\text{$x \\leq 30$ atau $x \\geq90$}.\\\\\n",
    "    (x -30)/(50 - 30) , & \\text{$30 < x \\leq 50$}.\\\\\n",
    "    (70 - x)/(70 - 50) , & \\text{$50 < x < 70$}.\\\\\n",
    "  \\end{cases}\n",
    "$$\n",
    "\n",
    "Maka nilai keanggotaan yang memenuhi adalah 0\n",
    "\n",
    "Maka nilai  Z$_2$$_1$ = 0 \n",
    "\n",
    "============================================================================================================================="
   ]
  },
  {
   "cell_type": "markdown",
   "metadata": {},
   "source": [
    "[22] IF BMI ['HIGH'] AND BF ['NORMAL'] AND WC ['SMALL'] THEN LO ['OVERWIGHT']\n",
    "\n",
    "$$ \\\\ \\alpha(predikat_2\\,_2) = \\mu BMI'HIGH' \\cap \\mu BF'NORMAL' \\cap \\mu WC'SMALL' $$\n",
    "$$\\alpha(predikat_2\\,_2)   = min (\\mu BMI'HIGH'[20], \\mu BF'NORMAL'[25], \\mu WC'SMALL'[90]) $$\n",
    "$$ \\alpha(predikat_2\\,_2) = min (0 ; 0.57; 0) $$\n",
    "$$ \\alpha(predikat_2\\,_2) = 0 $$\n",
    "\n",
    "Lalu Lihat Himpunan LO['OVERWIGHT']\n",
    "$$\n",
    "   LO['OVERWEIGHT'] = \\mu LO'OVERWEIGHT'(x)=\\begin{cases}\n",
    "    0, & \\text{$x \\leq 30$ atau $x \\geq90$}.\\\\\n",
    "    (x -30)/(50 - 30) , & \\text{$30 < x \\leq 50$}.\\\\\n",
    "    (70 - x)/(70 - 50) , & \\text{$50 < x < 70$}.\\\\\n",
    "  \\end{cases}\n",
    "$$\n",
    "\n",
    "Maka nilai keanggotaan yang memenuhi adalah 0\n",
    "\n",
    "Maka nilai  Z$_2$$_2$ = 0 \n",
    "\n",
    "============================================================================================================================="
   ]
  },
  {
   "cell_type": "markdown",
   "metadata": {},
   "source": [
    "[23] IF BMI ['HIGH'] AND BF ['NORMAL'] AND WC ['MEDIUM'] THEN LO ['OBESE']\n",
    "\n",
    "$$ \\\\ \\alpha(predikat_2\\,_3) = \\mu BMI'HIGH' \\cap \\mu BF'NORMAL' \\cap \\mu WC'MEDIUM' $$\n",
    "$$\\alpha(predikat_2\\,_3)   = min (\\mu BMI'HIGH'[20], \\mu BF'NORMAL'[25], \\mu WC'MEDIUM'[90]) $$\n",
    "$$ \\alpha(predikat_2\\,_3) = min (0; 0.57; 0) $$\n",
    "$$ \\alpha(predikat_2\\,_3) = 0 $$\n",
    "\n",
    "Lalu Lihat Himpunan LO['OBESE']\n",
    "$$\n",
    "  LO['OBESE'] = \\mu LO'OBESE'(x)=\\begin{cases}\n",
    "    0, & \\text{$x\\leq 60$}.\\\\\n",
    "    (x - 60)/(80 - 60) , & \\text{$60 < x < 80$}.\\\\\n",
    "    1, & \\text{$80 \\leq x \\leq 120$}.\n",
    "  \\end{cases}\n",
    "$$\n",
    " \n",
    "Maka nilai keanggotaan yang memenuhi adalah 0\n",
    "\n",
    "Maka nilai  Z$_2$$_3$ = 0 \n",
    "\n",
    "============================================================================================================================="
   ]
  },
  {
   "cell_type": "markdown",
   "metadata": {},
   "source": [
    "[24] IF BMI ['HIGH'] AND BF ['NORMAL'] AND WC ['LARGE'] THEN LO ['OBESE']\n",
    "\n",
    "$$ \\\\ \\alpha(predikat_2\\,_4) = \\mu BMI'HIGH' \\cap \\mu BF'NORMAL' \\cap \\mu WC'LARGE' $$\n",
    "$$\\alpha(predikat_2\\,_4)   = min (\\mu BMI'HIGH'[20], \\mu BF'NORMAL'[25], \\mu WC'LARGE'[90]) $$\n",
    "$$ \\alpha(predikat_2\\,_4) = min (0; 0.57; 1) $$\n",
    "$$ \\alpha(predikat_2\\,_4) = 0 $$\n",
    "\n",
    "Lalu Lihat Himpunan LO['OBESE']\n",
    "$$\n",
    "  LO['OBESE'] = \\mu LO'OBESE'(x)=\\begin{cases}\n",
    "    0, & \\text{$x\\leq 60$}.\\\\\n",
    "    (x - 60)/(80 - 60) , & \\text{$60 < x < 80$}.\\\\\n",
    "    1, & \\text{$80 \\leq x \\leq 120$}.\n",
    "  \\end{cases}\n",
    "$$\n",
    " \n",
    "Maka nilai keanggotaan yang memenuhi adalah 0\n",
    "\n",
    "Maka nilai  Z$_2$$_4$ = 0 \n",
    "\n",
    "============================================================================================================================="
   ]
  },
  {
   "cell_type": "markdown",
   "metadata": {},
   "source": [
    "[25] IF BMI ['HIGH'] AND BF ['HIGH'] AND WC ['SMALL'] THEN LO ['OVERWIGHT']\n",
    "\n",
    "$$ \\\\ \\alpha(predikat_2\\,_5) = \\mu BMI'HIGH' \\cap \\mu BF'HIGH' \\cap \\mu WC'SMALL' $$\n",
    "$$\\alpha(predikat_2\\,_5)   = min (\\mu BMI'HIGH'[20], \\mu BF'HIGH'[25], \\mu WC'SMALL'[90]) $$\n",
    "$$ \\alpha(predikat_2\\,_5) = min (0 ; 0.42; 0) $$\n",
    "$$ \\alpha(predikat_2\\,_5) = 0 $$\n",
    "\n",
    "Lalu Lihat Himpunan LO['OVERWIGHT']\n",
    "$$\n",
    "   LO['OVERWEIGHT'] = \\mu LO'OVERWEIGHT'(x)=\\begin{cases}\n",
    "    0, & \\text{$x \\leq 30$ atau $x \\geq90$}.\\\\\n",
    "    (x -30)/(50 - 30) , & \\text{$30 < x \\leq 50$}.\\\\\n",
    "    (70 - x)/(70 - 50) , & \\text{$50 < x < 70$}.\\\\\n",
    "  \\end{cases}\n",
    "$$\n",
    "\n",
    "Maka nilai keanggotaan yang memenuhi adalah 0\n",
    "\n",
    "Maka nilai  Z$_2$$_5$ = 0 \n",
    "\n",
    "============================================================================================================================="
   ]
  },
  {
   "cell_type": "markdown",
   "metadata": {},
   "source": [
    "[26] IF BMI ['HIGH'] AND BF ['HIGH'] AND WC ['MEDIUM'] THEN LO ['OBESE']\n",
    "\n",
    "$$ \\\\ \\alpha(predikat_2\\,_6) = \\mu BMI'HIGH' \\cap \\mu BF'HIGH' \\cap \\mu WC'MEDIUM' $$\n",
    "$$\\alpha(predikat_2\\,_6)   = min (\\mu BMI'HIGH'[20], \\mu BF'HIGH'[25], \\mu WC'MEDIUM'[90]) $$\n",
    "$$ \\alpha(predikat_2\\,_6) = min (0 ; 0.42; 0) $$\n",
    "$$ \\alpha(predikat_2\\,_6) = 0 $$\n",
    "\n",
    "Lalu Lihat Himpunan LO['OBESE']\n",
    "$$\n",
    "  LO['OBESE'] = \\mu LO'OBESE'(x)=\\begin{cases}\n",
    "    0, & \\text{$x\\leq 60$}.\\\\\n",
    "    (x - 60)/(80 - 60) , & \\text{$60 < x < 80$}.\\\\\n",
    "    1, & \\text{$80 \\leq x \\leq 120$}.\n",
    "  \\end{cases}\n",
    "$$\n",
    "\n",
    "Maka nilai keanggotaan yang memenuhi adalah 0\n",
    "\n",
    "Maka nilai  Z$_2$$_6$ = 0 \n",
    "\n",
    "============================================================================================================================="
   ]
  },
  {
   "cell_type": "markdown",
   "metadata": {},
   "source": [
    "[27] IF BMI ['HIGH'] AND BF ['HIGH'] AND WC ['LARGE'] THEN LO ['OBESE']\n",
    "\n",
    "$$ \\\\ \\alpha(predikat_2\\,_7) = \\mu BMI'HIGH' \\cap \\mu BF'HIGH' \\cap \\mu WC'LARGE' $$\n",
    "$$\\alpha(predikat_2\\,_7)   = min (\\mu BMI'HIGH'[20], \\mu BF'HIGH'[25], \\mu WC'LARGE'[90]) $$\n",
    "$$ \\alpha(predikat_2\\,_7) = min (0 ; 0.42; 1) $$\n",
    "$$ \\alpha(predikat_2\\,_7) = 0 $$\n",
    "\n",
    "Lalu Lihat Himpunan LO['OBESE']\n",
    "$$\n",
    "  LO['OBESE'] = \\mu LO'OBESE'(x)=\\begin{cases}\n",
    "    0, & \\text{$x\\leq 60$}.\\\\\n",
    "    (x - 60)/(80 - 60) , & \\text{$60 < x < 80$}.\\\\\n",
    "    1, & \\text{$80 \\leq x \\leq 120$}.\n",
    "  \\end{cases}\n",
    "$$\n",
    "\n",
    "Maka nilai keanggotaan yang memenuhi adalah 0\n",
    "\n",
    "Maka nilai  Z$_2$$_7$ = 0 \n",
    "\n",
    "============================================================================================================================="
   ]
  },
  {
   "cell_type": "markdown",
   "metadata": {},
   "source": [
    " Z = $$ \\frac{(\\alpha predikat_1 \\times Z_1 )+\n",
    "(\\alpha predikat_2 \\times Z_2) +\n",
    "(\\alpha predikat_3 \\times Z_3) +\n",
    "(\\alpha predikat_4 \\times Z_4) +\n",
    "(\\alpha predikat_5 \\times Z_5) +\n",
    "(\\alpha predikat_6 \\times Z_6) +\n",
    "(\\alpha predikat_7 \\times Z_7) +\n",
    "(\\alpha predikat_8 \\times Z_8) +\n",
    "(\\alpha predikat_9 \\times Z_9) +\n",
    "(\\alpha predikat_1\\,_0 \\times Z_1\\,_0) +\n",
    "(\\alpha predikat_1\\,_1 \\times Z_1\\,_1) +\n",
    "(\\alpha predikat_1\\,_2 \\times Z_1\\,_2) +\n",
    "(\\alpha predikat_1\\,_3 \\times Z_1\\,_3) +\n",
    "(\\alpha predikat_1\\,_4 \\times Z_1\\,_4) +\n",
    "(\\alpha predikat_1\\,_5 \\times Z_1\\,_5) +\n",
    "(\\alpha predikat_1\\,_6 \\times Z_1\\,_6) +\n",
    "(\\alpha predikat_1\\,_7 \\times Z_1\\,_7) +\n",
    "(\\alpha predikat_1\\,_8 \\times Z_1\\,_8) +\n",
    "(\\alpha predikat_1\\,_9 \\times Z_1\\,_9) +\n",
    "(\\alpha predikat_2\\,_0 \\times Z_2\\,_0) +\n",
    "(\\alpha predikat_2\\,_1 \\times Z_2\\,_1) +\n",
    "(\\alpha predikat_2\\,_2 \\times Z_2\\,_2) +\n",
    "(\\alpha predikat_2\\,_3 \\times Z_2\\,_3) +\n",
    "(\\alpha predikat_2\\,_4 \\times Z_2\\,_4) +\n",
    "(\\alpha predikat_2\\,_5 \\times Z_2\\,_5) +\n",
    "(\\alpha predikat_2\\,_6 \\times Z_2\\,_6) +\n",
    "(\\alpha predikat_2\\,_7 \\times Z_2\\,_7) }\n",
    "{(\\alpha predikat_1 + \\alpha predikat_2 +\n",
    "\\alpha predikat_3 + \\alpha predikat_4 +\n",
    "\\alpha predikat_5 + \\alpha predikat_6 +\n",
    "\\alpha predikat_7 + \\alpha predikat_8 +\n",
    "\\alpha predikat_9 + \\alpha predikat_1\\,_0 +\n",
    "\\alpha predikat_1\\,_1 + \\alpha predikat_1\\,_2 +\n",
    "\\alpha predikat_1\\,_3 + \\alpha predikat_1\\,_4 +\n",
    "\\alpha predikat_1\\,_5 + \\alpha predikat_1\\,_6 +\n",
    "\\alpha predikat_1\\,_7 + \\alpha predikat_1\\,_8 +\n",
    "\\alpha predikat_1\\,_9 + \\alpha predikat_2\\,_0 +\n",
    "\\alpha predikat_2\\,_1 + \\alpha predikat_2\\,_2 +\n",
    "\\alpha predikat_2\\,_3 + \\alpha predikat_2\\,_4 +\n",
    "\\alpha predikat_2\\,_5 + \\alpha predikat_2\\,_6 +\n",
    "\\alpha predikat_2\\,_7)}$$\n",
    "\n"
   ]
  },
  {
   "cell_type": "markdown",
   "metadata": {},
   "source": [
    " $$Z= \\frac{(0 \\times 0) + (0 \\times 0) + (0 \\times 0) + (0 \\times 0) + (0 \\times 0) + (0.28 \\times 65.6) + (0 \\times 0) + (0 \\times 0) + (0.28 \\times 65.6) + (0 \\times 0) + (0 \\times 0) + (0 \\times 0) + (0 \\times 0) + (0 \\times 0) + (0.57 \\times 71.4) + (0 \\times 0) + (0 \\times 0) + (0.42 \\times 68.4) + (0 \\times 0) + (0 \\times 0) + (0 \\times 0) + (0 \\times 0) + (0 \\times 0) + (0 \\times 0) + (0 \\times 0) + (0 \\times 0) + (0 \\times 0)}{0 + 0 + 0 + 0 + 0 + 0.28 + 0 + 0 + 0.28 + 0 + 0 + 0 + 0 + 0 + 0.57 + 0 + 0 + 0.42 + 0 + 0 + 0 + 0 + 0 + 0 + 0 + 0 + 0} $$\n",
    " $$ Z = \\frac{0 + 0 + 0 + 0 + 0 + 18.368 + 0 + 0 + 18.368 + 0 + 0 + 0 + 0 + 0 + 40.698 + 0 + 0 + 28.728 + 0 + 0 + 0 + 0 + 0 + 0 + 0 + 0 + 0}{} $$\n",
    " \n",
    " $$ Z = \\frac{106.162}{1.55} $$\n",
    " \n",
    " $$ Z = 68,49161290322581 , $$\n",
    " "
   ]
  },
  {
   "cell_type": "markdown",
   "metadata": {},
   "source": [
    "<div class=\"alert alert-info\">\n",
    "<h2> <center>Perbandingan Nilai Sistem dengan Perhitungan Manual"
   ]
  },
  {
   "cell_type": "markdown",
   "metadata": {},
   "source": [
    "Hasil perbandingan nilai dari sistem dengan perhitungan manual adalah :\n",
    "Sistem menghasilkan nilai = 82.19364398119762\n",
    "sedangkan dari Perhitungan Manual didapatkan nilai = 68.49161290322581\n",
    "dimana terdapat selisih nilai sebanyak 13.70203107797181"
   ]
  }
 ],
 "metadata": {
  "kernelspec": {
   "display_name": "Python 3",
   "language": "python",
   "name": "python3"
  },
  "language_info": {
   "codemirror_mode": {
    "name": "ipython",
    "version": 3
   },
   "file_extension": ".py",
   "mimetype": "text/x-python",
   "name": "python",
   "nbconvert_exporter": "python",
   "pygments_lexer": "ipython3",
   "version": "3.6.5"
  }
 },
 "nbformat": 4,
 "nbformat_minor": 2
}
