{
 "cells": [
  {
   "cell_type": "markdown",
   "metadata": {},
   "source": [
    "# Nama : M.Syafiq Prayuda\n",
    "# NIM : 09011381722089    \n",
    "# Kelas : SK 5 "
   ]
  },
  {
   "cell_type": "markdown",
   "metadata": {},
   "source": [
    "# PERANCANGAN SISTEM PERAMALAN BERBASIS LOGIKA FUZZY"
   ]
  },
  {
   "cell_type": "markdown",
   "metadata": {},
   "source": [
    "    Untuk memperkirakan cuaca dapat menerapkan logika fuzzy dan melakukan pengujian akurasi. Adapun batasan masalah hanya mencakup data perancangan peramalan cuaca berbasis logika fuzzy. Maka yang dijadikan input adalah suhu (0 - 40), kelembaban (0 - 100), dan angin (0 - 15)."
   ]
  },
  {
   "cell_type": "code",
   "execution_count": 1,
   "metadata": {},
   "outputs": [],
   "source": [
    "import numpy as np\n",
    "import skfuzzy as fuzz\n",
    "from skfuzzy import control as ctrl\n",
    "import matplotlib.pyplot as plt"
   ]
  },
  {
   "cell_type": "markdown",
   "metadata": {},
   "source": [
    "<font color='blue'>\n",
    "SKFUZZY yaitu class CONTROL memiliki fungsi ANTECEDENT, yang bisa menghimpun variable INPUT, dan CONSEQUENT , Untuk menghimpun variable OUTPUT. Himpunan ini disimpan dalam Numpy Array dengan fungsi (Start,Stop,Step)."
   ]
  },
  {
   "cell_type": "markdown",
   "metadata": {},
   "source": [
    "# Fuzzyfikasi"
   ]
  },
  {
   "cell_type": "markdown",
   "metadata": {},
   "source": [
    "<font color='blue'>\n",
    "Fuzzyfikasi adalah proses mengubah nilai crisp yang diterima menjadi nilai fuzzy, nilainya diantara 0 dan 1. Dengan memasukkan nilai crisp kedalam himpunan fuzzy."
   ]
  },
  {
   "cell_type": "markdown",
   "metadata": {},
   "source": [
    "# Menentukan Semesta Dari Semua Variable"
   ]
  },
  {
   "cell_type": "markdown",
   "metadata": {},
   "source": [
    "<font color='blue'>\n",
    "Semesta adalah nilai yang terlibat divariabel fuzzy. Nilai itu kemudian akan dijalankan untuk mendapatkan nilai keanggotaaan himpunan fuzzy."
   ]
  },
  {
   "cell_type": "markdown",
   "metadata": {},
   "source": [
    " <div class=\"alert alert-success\">\n",
    "<div>\n",
    "Input : Suhu ada 3 yaitu :\n",
    "        \n",
    "   - Dingin (0 - 22)\n",
    "   - Sedang (23 - 26)\n",
    "   - Panas (26 - 40)\n",
    "        \n",
    "   Kelembaban ada 3 yaitu :\n",
    "        \n",
    "   - Lembab (0 - 79)\n",
    "   - Sedang (80 - 88)\n",
    "   - Tidak Lembab (88-100)\n",
    "   \n",
    "   \n",
    "         \n",
    "        \n",
    "        \n",
    "Output : Cuaca yang dibagi menjadi 3 yaitu :\n",
    "        \n",
    "  - Cuaca besok cerah dengan nilai (0 - 5)\n",
    "  - Cuaca besok mendung dengan nilai (5 - 20)\n",
    "  - Cuaca besok hujan dengan nilai (20 - 50)\n",
    "       "
   ]
  },
  {
   "cell_type": "markdown",
   "metadata": {},
   "source": [
    "<font color='blue'>\n",
    "Suhu memiliki rentang nilai 0 - 40"
   ]
  },
  {
   "cell_type": "code",
   "execution_count": 2,
   "metadata": {},
   "outputs": [],
   "source": [
    "suhu = ctrl.Antecedent(np.arange(0, 40, 1), 'suhu')\n",
    "suhu_x = np.arange(0, 40, 1) #untuk plot"
   ]
  },
  {
   "cell_type": "markdown",
   "metadata": {},
   "source": [
    "<font color='blue'>\n",
    "ANTECEDENT adalah inputnya yang digunakan, dan CONSEQUENT sebagai outputnya. Angka yang ada didalam kurung adalah batas awal, batas akhir, dan kelipatannya (START,STOP,STRIDE)."
   ]
  },
  {
   "cell_type": "markdown",
   "metadata": {},
   "source": [
    "# Fuzzifikasi Suhu"
   ]
  },
  {
   "cell_type": "markdown",
   "metadata": {},
   "source": [
    " <div class=\"alert alert-success\">\n",
    "<div>\n",
    "Suhu dibagi menjadi 3 yaitu :\n",
    "$$ Suhu $$\n",
    "$$ Dingin = 0 - 22$$\n",
    "$$ Sedang = 11 - 26$$\n",
    "$$ Panas = 22 - 40$$\n"
   ]
  },
  {
   "cell_type": "markdown",
   "metadata": {},
   "source": [
    " <div class=\"alert alert-success\">\n",
    "<div>\n",
    "Dengan fungsi suhu \n",
    "\n",
    "\\begin{equation}\n",
    "  Suhu['Dingin'] = \\mu SuhuDingin(x)=\\begin{cases}\n",
    "    1, & \\text{$0\\leq 22$}.\\\\\n",
    "    (22 - x)/(22) , & \\text{$11\\leq x \\leq 22$}.\\\\\n",
    "  \\end{cases}\n",
    "  \\\\\n",
    "  Suhu['Sedang'] = \\mu SuhuSedang(x)=\\begin{cases}\n",
    "    (x - 11)/22 - 11) , & \\text{$11 \\leq x \\leq 22$}.\\\\\n",
    "    (26 - x)/(26 - 22) , & \\text{$22 \\leq x \\geq 26$}.\\\\\n",
    "  \\end{cases}\n",
    "  \\\\\n",
    "    Suhu['Panas'] = \\mu SuhuPanas(x)=\\begin{cases}\n",
    "    (x - 22)/(40 -22) , & \\text{$22 \\leq x \\leq 40$}.\\\\\n",
    "    1 , & \\text{$ x \\geq 40$}.\\\\\n",
    "  \\end{cases}\n",
    "\\end{equation}"
   ]
  },
  {
   "cell_type": "code",
   "execution_count": 3,
   "metadata": {},
   "outputs": [],
   "source": [
    "suhu['dingin'] = fuzz.trapmf(suhu.universe, [0, 0, 11, 22])\n",
    "suhu['sedang'] = fuzz.trimf(suhu.universe, [11, 22, 26])\n",
    "suhu['panas'] = fuzz.trapmf(suhu.universe, [22, 26, 40, 40])"
   ]
  },
  {
   "cell_type": "markdown",
   "metadata": {},
   "source": [
    "# PLOTTING MEMBERSHIP FUNCTION SUHU"
   ]
  },
  {
   "cell_type": "markdown",
   "metadata": {},
   "source": [
    "<font color='blue'>\n",
    "Plotting fungsi keanggotaan $\\mu SuhuDingin(x)$"
   ]
  },
  {
   "cell_type": "code",
   "execution_count": 4,
   "metadata": {},
   "outputs": [
    {
     "data": {
      "text/plain": [
       "Text(0.5, 1.0, 'suhu_dingin')"
      ]
     },
     "execution_count": 4,
     "metadata": {},
     "output_type": "execute_result"
    },
    {
     "data": {
      "image/png": "[encoded data removed]",
      "text/plain": [
       "<Figure size 432x432 with 1 Axes>"
      ]
     },
     "metadata": {
      "needs_background": "light"
     },
     "output_type": "display_data"
    }
   ],
   "source": [
    "suhu_dingin = fuzz.trapmf(suhu_x,[0, 0, 11,22])\n",
    "fig, (ax0) = plt.subplots(nrows=1,figsize=(6,6))\n",
    "ax0.plot(suhu_x,suhu_dingin, 'blue')\n",
    "ax0.set_title('suhu_dingin')"
   ]
  },
  {
   "cell_type": "markdown",
   "metadata": {},
   "source": [
    "<font color='blue'>\n",
    "Plotting fungsi keanggotaan $\\mu SuhuSedang(x)$"
   ]
  },
  {
   "cell_type": "code",
   "execution_count": 5,
   "metadata": {},
   "outputs": [
    {
     "data": {
      "text/plain": [
       "Text(0.5, 1.0, 'suhu_sedang')"
      ]
     },
     "execution_count": 5,
     "metadata": {},
     "output_type": "execute_result"
    },
    {
     "data": {
      "image/png": "[encoded data removed]",
      "text/plain": [
       "<Figure size 432x432 with 1 Axes>"
      ]
     },
     "metadata": {
      "needs_background": "light"
     },
     "output_type": "display_data"
    }
   ],
   "source": [
    "suhu_sedang = fuzz.trimf(suhu_x,[11,22,26])\n",
    "fig, (ax0) = plt.subplots(nrows=1,figsize=(6,6))\n",
    "ax0.plot(suhu_x,suhu_sedang, 'orange')\n",
    "ax0.set_title('suhu_sedang')"
   ]
  },
  {
   "cell_type": "markdown",
   "metadata": {},
   "source": [
    "<font color='blue'>\n",
    "Plotting fungsi keanggotaan $\\mu SuhuPanas(x) $"
   ]
  },
  {
   "cell_type": "code",
   "execution_count": 6,
   "metadata": {},
   "outputs": [
    {
     "data": {
      "text/plain": [
       "Text(0.5, 1.0, 'suhu_panas')"
      ]
     },
     "execution_count": 6,
     "metadata": {},
     "output_type": "execute_result"
    },
    {
     "data": {
      "image/png": "[encoded data removed]",
      "text/plain": [
       "<Figure size 432x432 with 1 Axes>"
      ]
     },
     "metadata": {
      "needs_background": "light"
     },
     "output_type": "display_data"
    }
   ],
   "source": [
    "suhu_panas = fuzz.trapmf(suhu_x,[22, 26, 40, 40])\n",
    "fig, (ax0) = plt.subplots(nrows=1,figsize=(6,6))\n",
    "ax0.plot(suhu_x,suhu_panas,'green')\n",
    "ax0.set_title('suhu_panas')"
   ]
  },
  {
   "cell_type": "markdown",
   "metadata": {},
   "source": [
    "<font color='blue'>\n",
    "Plotting ke empat fungsi keanggotaan suhu"
   ]
  },
  {
   "cell_type": "code",
   "execution_count": 7,
   "metadata": {},
   "outputs": [
    {
     "name": "stderr",
     "output_type": "stream",
     "text": [
      "C:\\Users\\user\\Anaconda3\\lib\\site-packages\\skfuzzy\\control\\fuzzyvariable.py:122: UserWarning: Matplotlib is currently using module://ipykernel.pylab.backend_inline, which is a non-GUI backend, so cannot show the figure.\n",
      "  fig.show()\n"
     ]
    },
    {
     "data": {
      "image/png": "[encoded data removed]",
      "text/plain": [
       "<Figure size 432x288 with 1 Axes>"
      ]
     },
     "metadata": {
      "needs_background": "light"
     },
     "output_type": "display_data"
    }
   ],
   "source": [
    "suhu.view()"
   ]
  },
  {
   "cell_type": "markdown",
   "metadata": {},
   "source": [
    "# Fuzzifikasi Kelembaban"
   ]
  },
  {
   "cell_type": "code",
   "execution_count": 8,
   "metadata": {},
   "outputs": [],
   "source": [
    "kelembaban = ctrl.Antecedent(np.arange(0, 100, 1), 'kelembaban')\n",
    "kelembaban_x = np.arange(0,100,1)"
   ]
  },
  {
   "cell_type": "markdown",
   "metadata": {},
   "source": [
    "<font color='blue'>\n",
    "ANTECEDENT adalah inputnya yang digunakan, dan CONSEQUENT sebagai outputnya. Angka yang ada didalam kurung adalah batas awal, batas akhir, dan kelipatannya (START,STOP,STRIDE)."
   ]
  },
  {
   "cell_type": "markdown",
   "metadata": {},
   "source": [
    " <div class=\"alert alert-success\">\n",
    "<div>\n",
    "Kelembaban dibagi menjadi 3 yaitu :\n",
    "$$ Kelembaban $$\n",
    "$$ Lembab = 0 - 79$$\n",
    "$$ Sedang = 39 - 88$$\n",
    "$$ TidakLembab = 79 - 100$$\n"
   ]
  },
  {
   "cell_type": "markdown",
   "metadata": {},
   "source": [
    " <div class=\"alert alert-success\">\n",
    "<div>\n",
    "Dengan fungsi keanggotaan suhu udara\n",
    "\n",
    "\\begin{equation}\n",
    "  Kelembaban['Lembab'] = \\mu Lembab(x)=\\begin{cases}\n",
    "    1, & \\text{$x\\leq 79$}.\\\\\n",
    "    (79 - x)/(79) , & \\text{$ 0\\leq x \\leq 79$}.\\\\\n",
    "    \\end{cases}\n",
    "  \\\\\n",
    "  Kelembaban['Sedang'] = \\mu KelembabanSedang(x)=\\begin{cases}\n",
    "    (x - 39)/79 - 39) , & \\text{$39 \\leq x \\leq 79$}.\\\\\n",
    "    (88 - x)/(88 - 79) , & \\text{$79 \\leq x \\geq 88$}.\\\\\n",
    "  \\end{cases}\n",
    "  \\\\\n",
    "    Kelembaban['TidakLembab'] = \\mu KelembabanTidakLembab(x)=\\begin{cases}\n",
    "    (x - 79)/(100 -79) , & \\text{$79 \\leq x \\leq 100$}.\\\\\n",
    "    1 , & \\text{$ x \\geq 100$}.\\\\\n",
    "  \\end{cases}\n",
    "\\end{equation}"
   ]
  },
  {
   "cell_type": "code",
   "execution_count": 9,
   "metadata": {},
   "outputs": [],
   "source": [
    "kelembaban['lembab'] = fuzz.trapmf(kelembaban.universe, [0, 0, 39, 79])\n",
    "kelembaban['sedang'] = fuzz.trimf(kelembaban.universe, [39, 79, 88])\n",
    "kelembaban['tidaklembab'] = fuzz.trapmf(kelembaban.universe, [79, 88, 100, 100])"
   ]
  },
  {
   "cell_type": "markdown",
   "metadata": {},
   "source": [
    "<font color='blue'>\n",
    "Plotting fungsi keanggotaan $\\mu kelembabanlembab(x)$"
   ]
  },
  {
   "cell_type": "code",
   "execution_count": 10,
   "metadata": {},
   "outputs": [
    {
     "data": {
      "text/plain": [
       "Text(0.5, 1.0, 'kelembaban lembab')"
      ]
     },
     "execution_count": 10,
     "metadata": {},
     "output_type": "execute_result"
    },
    {
     "data": {
      "image/png": "[encoded data removed]",
      "text/plain": [
       "<Figure size 432x432 with 1 Axes>"
      ]
     },
     "metadata": {
      "needs_background": "light"
     },
     "output_type": "display_data"
    }
   ],
   "source": [
    "kelembaban_lembab = fuzz.trapmf(kelembaban_x,[0,0,39,79])\n",
    "fig, (ax0) = plt.subplots(nrows=1,figsize=(6,6))\n",
    "ax0.plot(kelembaban_x,kelembaban_lembab)\n",
    "ax0.set_title('kelembaban lembab')"
   ]
  },
  {
   "cell_type": "markdown",
   "metadata": {},
   "source": [
    "<font color='blue'>\n",
    "Plotting fungsi keanggotaan $\\mu kelembabansedang(x)$"
   ]
  },
  {
   "cell_type": "code",
   "execution_count": 11,
   "metadata": {},
   "outputs": [
    {
     "data": {
      "text/plain": [
       "Text(0.5, 1.0, 'kelembaban sedang')"
      ]
     },
     "execution_count": 11,
     "metadata": {},
     "output_type": "execute_result"
    },
    {
     "data": {
      "image/png": "[encoded data removed]",
      "text/plain": [
       "<Figure size 432x432 with 1 Axes>"
      ]
     },
     "metadata": {
      "needs_background": "light"
     },
     "output_type": "display_data"
    }
   ],
   "source": [
    "kelembaban_sedang = fuzz.trimf(kelembaban_x,[39,79,88])\n",
    "fig, (ax0) = plt.subplots(nrows=1,figsize=(6,6))\n",
    "ax0.plot(kelembaban_x,kelembaban_sedang,'orange')\n",
    "ax0.set_title('kelembaban sedang')"
   ]
  },
  {
   "cell_type": "markdown",
   "metadata": {},
   "source": [
    "<font color='blue'>\n",
    "Plotting fungsi keanggotaan $\\mu kelembabantidaklembab(x)$"
   ]
  },
  {
   "cell_type": "code",
   "execution_count": 12,
   "metadata": {},
   "outputs": [
    {
     "data": {
      "text/plain": [
       "Text(0.5, 1.0, 'kelembaban tidaklembab')"
      ]
     },
     "execution_count": 12,
     "metadata": {},
     "output_type": "execute_result"
    },
    {
     "data": {
      "image/png": "[encoded data removed]",
      "text/plain": [
       "<Figure size 432x432 with 1 Axes>"
      ]
     },
     "metadata": {
      "needs_background": "light"
     },
     "output_type": "display_data"
    }
   ],
   "source": [
    "kelembaban_tidaklembab = fuzz.trapmf(kelembaban_x,[79,88,100,100])\n",
    "fig, (ax0) = plt.subplots(nrows=1,figsize=(6,6))\n",
    "ax0.plot(kelembaban_x,kelembaban_tidaklembab,'green')\n",
    "ax0.set_title('kelembaban tidaklembab')"
   ]
  },
  {
   "cell_type": "markdown",
   "metadata": {},
   "source": [
    "<font color='blue'>\n",
    "Plotting ke empat fungsi keanggotaan suhu"
   ]
  },
  {
   "cell_type": "code",
   "execution_count": 13,
   "metadata": {},
   "outputs": [
    {
     "data": {
      "image/png": "[encoded data removed]",
      "text/plain": [
       "<Figure size 432x288 with 1 Axes>"
      ]
     },
     "metadata": {
      "needs_background": "light"
     },
     "output_type": "display_data"
    }
   ],
   "source": [
    "kelembaban.view()"
   ]
  },
  {
   "cell_type": "markdown",
   "metadata": {},
   "source": [
    "# Fuzzifikasi Cuaca"
   ]
  },
  {
   "cell_type": "code",
   "execution_count": 14,
   "metadata": {},
   "outputs": [],
   "source": [
    "cuaca = ctrl.Consequent(np.arange(0,50,1), 'cuaca')\n",
    "cuaca_x = np.arange(0,50,1)"
   ]
  },
  {
   "cell_type": "markdown",
   "metadata": {},
   "source": [
    "<font color='blue'>\n",
    "CONSEQUENT sebagai outputnya. Angka yang ada didalam kurung adalah batas awal, batas akhir, dan kelipatannya (START,STOP,STRIDE)."
   ]
  },
  {
   "cell_type": "markdown",
   "metadata": {},
   "source": [
    " <div class=\"alert alert-success\">\n",
    "<div>\n",
    "Cuaca dibagi menjadi 3 yaitu :\n",
    "$$ cuaca $$\n",
    "$$ cerah = 0 - 5$$\n",
    "$$ mendung = 3 - 20$$\n",
    "$$ hujan = 5 - 50$$"
   ]
  },
  {
   "cell_type": "markdown",
   "metadata": {},
   "source": [
    " <div class=\"alert alert-success\">\n",
    "<div>\n",
    "Dengan fungsi keanggotaan cuaca\n",
    "\n",
    "\\begin{equation}\n",
    "  cuaca['cerah'] = \\mu cuacacerah(x)=\\begin{cases}\n",
    "    1, & \\text{$x\\leq 5$}.\\\\\n",
    "    (5 - x)/(5) , & \\text{$ 0\\leq x \\leq 5$}.\\\\\n",
    "  \\end{cases}\n",
    "  \\\\\n",
    "  cuaca['mendung'] = \\mu cuacamendung(x)=\\begin{cases}\n",
    "    (x - 3)/5 - 3) , & \\text{$3 \\leq x \\leq 5$}.\\\\\n",
    "    (20 - x)/(20 - 5) , & \\text{$5 \\leq x \\geq 20$}.\\\\\n",
    "  \\end{cases}\n",
    "  \\\\\n",
    "    cuaca['hujan'] = \\mu cuacahujan(x)=\\begin{cases}\n",
    "    (x - 5)/(50 -5) , & \\text{$5 \\leq x \\leq 50$}.\\\\\n",
    "    1 , & \\text{$ x \\geq 50$}.\\\\\n",
    "  \\end{cases}\n",
    "\\end{equation}"
   ]
  },
  {
   "cell_type": "code",
   "execution_count": 15,
   "metadata": {},
   "outputs": [],
   "source": [
    "cuaca['cerah'] = fuzz.trapmf(cuaca.universe, [0, 0, 3, 5])\n",
    "cuaca['mendung'] = fuzz.trimf(cuaca.universe, [3, 5, 20])\n",
    "cuaca['hujan'] = fuzz.trapmf(cuaca.universe, [5, 20, 50, 50])"
   ]
  },
  {
   "cell_type": "markdown",
   "metadata": {},
   "source": [
    "<font color='blue'>\n",
    "Plotting fungsi keanggotaan $\\mu cuacacerah(x)$"
   ]
  },
  {
   "cell_type": "code",
   "execution_count": 16,
   "metadata": {},
   "outputs": [
    {
     "data": {
      "text/plain": [
       "[<matplotlib.lines.Line2D at 0x15d293e14e0>]"
      ]
     },
     "execution_count": 16,
     "metadata": {},
     "output_type": "execute_result"
    },
    {
     "data": {
      "image/png": "[encoded data removed]",
      "text/plain": [
       "<Figure size 432x432 with 1 Axes>"
      ]
     },
     "metadata": {
      "needs_background": "light"
     },
     "output_type": "display_data"
    }
   ],
   "source": [
    "cuaca_cerah = fuzz.trapmf(cuaca_x,[0,0,3,5])\n",
    "fig,(ax0)= plt.subplots(nrows=1,figsize=(6,6))\n",
    "ax0.plot(cuaca_x,cuaca_cerah,'blue')"
   ]
  },
  {
   "cell_type": "markdown",
   "metadata": {},
   "source": [
    "<font color='blue'>\n",
    "Plot fungsi keanggotaan $\\mu cuacamendung(x) $"
   ]
  },
  {
   "cell_type": "code",
   "execution_count": 17,
   "metadata": {},
   "outputs": [
    {
     "data": {
      "text/plain": [
       "[<matplotlib.lines.Line2D at 0x15d2834ac18>]"
      ]
     },
     "execution_count": 17,
     "metadata": {},
     "output_type": "execute_result"
    },
    {
     "data": {
      "image/png": "[encoded data removed]",
      "text/plain": [
       "<Figure size 432x432 with 1 Axes>"
      ]
     },
     "metadata": {
      "needs_background": "light"
     },
     "output_type": "display_data"
    }
   ],
   "source": [
    "cuaca_mendung = fuzz.trimf(cuaca_x,[3,5,20])\n",
    "fig,(ax0)= plt.subplots(nrows=1,figsize=(6,6))\n",
    "ax0.plot(cuaca_x,cuaca_mendung,'orange')"
   ]
  },
  {
   "cell_type": "markdown",
   "metadata": {},
   "source": [
    "<font color='blue'>\n",
    "Plot fungsi keanggotaan $\\mu cuacahujan(x) $"
   ]
  },
  {
   "cell_type": "code",
   "execution_count": 18,
   "metadata": {},
   "outputs": [
    {
     "data": {
      "text/plain": [
       "[<matplotlib.lines.Line2D at 0x15d2947bfd0>]"
      ]
     },
     "execution_count": 18,
     "metadata": {},
     "output_type": "execute_result"
    },
    {
     "data": {
      "image/png": "[encoded data removed]",
      "text/plain": [
       "<Figure size 432x432 with 1 Axes>"
      ]
     },
     "metadata": {
      "needs_background": "light"
     },
     "output_type": "display_data"
    }
   ],
   "source": [
    "cuaca_hujan = fuzz.trapmf(cuaca_x,[5,20,50,50])\n",
    "fig,(ax0)= plt.subplots(nrows=1,figsize=(6,6))\n",
    "ax0.plot(cuaca_x,cuaca_hujan,'green')"
   ]
  },
  {
   "cell_type": "markdown",
   "metadata": {},
   "source": [
    "<font color='blue'>\n",
    "Plotting 3 fungsi keanggotaan cuaca"
   ]
  },
  {
   "cell_type": "code",
   "execution_count": 19,
   "metadata": {},
   "outputs": [
    {
     "data": {
      "image/png": "[encoded data removed]",
      "text/plain": [
       "<Figure size 432x288 with 1 Axes>"
      ]
     },
     "metadata": {
      "needs_background": "light"
     },
     "output_type": "display_data"
    }
   ],
   "source": [
    "cuaca.view()"
   ]
  },
  {
   "cell_type": "markdown",
   "metadata": {},
   "source": [
    "# INFERENCING\n"
   ]
  },
  {
   "cell_type": "markdown",
   "metadata": {},
   "source": [
    "<font color='blue'>\n",
    "Pada tahap inferencing, membuat aturan fuzzy yang dinyatakan dalam bentuk IF .... THEN ...."
   ]
  },
  {
   "cell_type": "markdown",
   "metadata": {},
   "source": [
    "<font color='blue'>\n",
    "Sistem ini berdasarkan jumlah fuzzifikasi dari variabel suhu yang berjumlah 3 dan fuzzifikasi dari variabel kelembaban yang berjumlah 3, maka rule yang dibuat berjumlah 3 x 3 = 9 rule"
   ]
  },
  {
   "cell_type": "markdown",
   "metadata": {},
   "source": [
    "<font color='blue'>\n",
    "    \n",
    "1. IF suhu dingin dan kelembaban lembab THEN cuaca hujan\n",
    "2. IF suhu sedang dan kelembaban lembab THEN cuaca hujan\n",
    "3. IF suhu panas dan kelembaban lembab THEN cuaca hujan\n",
    "\n",
    "4. IF suhu dingin dan kelembaban sedang THEN cuaca mendung\n",
    "5. IF suhu sedang dan kelembaban sedang THEN cuaca mendung\n",
    "6. IF suhu panas dan kelembaban sedang THEN cuaca mendung\n",
    "\n",
    "7. IF suhu dingin dan kelembaban tidaklembab THEN cuaca cerah\n",
    "8. IF suhu sedang dan kelembaban tidaklembab THEN cuaca cerah\n",
    "9. IF suhu panas dan kelembaban tidaklembab THEN cuaca cerah"
   ]
  },
  {
   "cell_type": "code",
   "execution_count": 20,
   "metadata": {},
   "outputs": [],
   "source": [
    "rule1 = ctrl.Rule(suhu['dingin'] & kelembaban['lembab'] , cuaca['hujan'])\n",
    "rule2 = ctrl.Rule(suhu['sedang'] & kelembaban['lembab'] , cuaca['hujan'])\n",
    "rule3 = ctrl.Rule(suhu['panas'] & kelembaban['lembab'] , cuaca['hujan'])\n",
    "\n",
    "rule4 = ctrl.Rule(suhu['dingin'] & kelembaban['sedang'] , cuaca['mendung'])\n",
    "rule5 = ctrl.Rule(suhu['sedang'] & kelembaban['sedang'] , cuaca['mendung'])\n",
    "rule6 = ctrl.Rule(suhu['panas'] & kelembaban['sedang'] , cuaca['mendung'])\n",
    "\n",
    "rule7 = ctrl.Rule(suhu['dingin'] & kelembaban['tidaklembab'] , cuaca['cerah'])\n",
    "rule8 = ctrl.Rule(suhu['sedang'] & kelembaban['tidaklembab'] , cuaca['cerah'])\n",
    "rule9 = ctrl.Rule(suhu['panas'] & kelembaban['tidaklembab'] , cuaca['cerah'])"
   ]
  },
  {
   "cell_type": "markdown",
   "metadata": {},
   "source": [
    "# RULE EVALUATION"
   ]
  },
  {
   "cell_type": "code",
   "execution_count": 21,
   "metadata": {},
   "outputs": [],
   "source": [
    "ramal_ctrl = ctrl.ControlSystem([rule1, rule2, rule3, rule4, rule5, rule6, rule7, rule8, rule9])"
   ]
  },
  {
   "cell_type": "markdown",
   "metadata": {},
   "source": [
    "# DEFUZZIFIKASI"
   ]
  },
  {
   "cell_type": "code",
   "execution_count": 22,
   "metadata": {},
   "outputs": [],
   "source": [
    "ramall = ctrl.ControlSystemSimulation(ramal_ctrl)"
   ]
  },
  {
   "cell_type": "markdown",
   "metadata": {},
   "source": [
    "<font color='blue'>\n",
    "Suhu akan kita masukan 25 dan kelembaban 83"
   ]
  },
  {
   "cell_type": "code",
   "execution_count": 23,
   "metadata": {},
   "outputs": [],
   "source": [
    "ramall.input['suhu'] = 25\n",
    "ramall.input['kelembaban'] = 83"
   ]
  },
  {
   "cell_type": "markdown",
   "metadata": {},
   "source": [
    "<font color='blue'>\n",
    "Perhitungan Defuzzifikasi"
   ]
  },
  {
   "cell_type": "code",
   "execution_count": 24,
   "metadata": {},
   "outputs": [],
   "source": [
    "ramall.compute()"
   ]
  },
  {
   "cell_type": "markdown",
   "metadata": {},
   "source": [
    "<font color='blue'>\n",
    "Mencetak Hasil Output Defuzzifikasi"
   ]
  },
  {
   "cell_type": "code",
   "execution_count": 25,
   "metadata": {},
   "outputs": [
    {
     "name": "stdout",
     "output_type": "stream",
     "text": [
      "8.40983651300527\n"
     ]
    }
   ],
   "source": [
    "print(ramall.output['cuaca'])"
   ]
  },
  {
   "cell_type": "markdown",
   "metadata": {},
   "source": [
    "<font color='blue'>\n",
    "Plotting Fungsi Keangggotaan Suhu Setelah Dimasukkan Input Nilai Pada Suhu"
   ]
  },
  {
   "cell_type": "code",
   "execution_count": 26,
   "metadata": {},
   "outputs": [
    {
     "data": {
      "image/png": "[encoded data removed]",
      "text/plain": [
       "<Figure size 432x288 with 1 Axes>"
      ]
     },
     "metadata": {
      "needs_background": "light"
     },
     "output_type": "display_data"
    }
   ],
   "source": [
    "suhu.view(sim=ramall)"
   ]
  },
  {
   "cell_type": "markdown",
   "metadata": {},
   "source": [
    "<font color='blue'>\n",
    "Plotting Fungsi Keangggotaan Suhu Setelah Dimasukkan Input Nilai Pada Kelembaban"
   ]
  },
  {
   "cell_type": "code",
   "execution_count": 27,
   "metadata": {},
   "outputs": [
    {
     "data": {
      "image/png": "[encoded data removed]",
      "text/plain": [
       "<Figure size 432x288 with 1 Axes>"
      ]
     },
     "metadata": {
      "needs_background": "light"
     },
     "output_type": "display_data"
    }
   ],
   "source": [
    "kelembaban.view(sim=ramall)"
   ]
  },
  {
   "cell_type": "markdown",
   "metadata": {},
   "source": [
    "<font color='blue'>\n",
    "Plotting Fungsi Keangggotaan Cuaca Setelah Dilakukan Perhitungan Defuzzifikasi Output Nilai Pada Cuaca"
   ]
  },
  {
   "cell_type": "code",
   "execution_count": 28,
   "metadata": {},
   "outputs": [
    {
     "data": {
      "image/png": "[encoded data removed]",
      "text/plain": [
       "<Figure size 432x288 with 1 Axes>"
      ]
     },
     "metadata": {
      "needs_background": "light"
     },
     "output_type": "display_data"
    }
   ],
   "source": [
    "cuaca.view(sim=ramall)"
   ]
  },
  {
   "cell_type": "markdown",
   "metadata": {},
   "source": [
    "# PERHITUNGAN MANUAL"
   ]
  },
  {
   "cell_type": "markdown",
   "metadata": {},
   "source": [
    " <div class=\"alert alert-success\">\n",
    "<div>\n",
    "\\begin{equation}\n",
    "  Suhu = 25\\\\\n",
    "  Masukkan\\,nilai\\,suhu\\,ke\\,dalam\\,masing-masing\\,fungsi\\,keanggotaan\\,suhu\\\\\n",
    "  Suhu['Dingin'] = \\mu SuhuDingin(x)=\\begin{cases}\n",
    "    1, & \\text{$x\\leq 22$}.\\\\\n",
    "    (22 - x)/(22) , & \\text{$ 0\\leq x \\leq 22$}.\\\\\n",
    "  \\end{cases}\n",
    "  \\\\\n",
    "  Suhu['Sedang'] = \\mu SuhuSedang(x)=\\begin{cases}\n",
    "    (x - 11)/22 - 11) , & \\text{$11 \\leq x \\leq 22$}.\\\\\n",
    "    (26 - x)/(26 - 22) , & \\text{$22 \\leq x \\geq 26$}.\\checkmark\\\\\n",
    "  \\end{cases}\n",
    "  \\\\\n",
    "    Suhu['Panas'] = \\mu SuhuPanas(x)=\\begin{cases}\n",
    "    (x - 22)/(40 -22) , & \\text{$22 \\leq x \\leq 40$}.\\checkmark\\\\\n",
    "    1 , & \\text{$ x \\geq 40$}.\\\\\n",
    "  \\end{cases}\n",
    "\\end{equation}"
   ]
  },
  {
   "cell_type": "markdown",
   "metadata": {},
   "source": [
    " <div class=\"alert alert-success\">\n",
    "<div>\n",
    "\\begin{equation}\n",
    "    \\mu SuhuSedang(25) = (26 - 25) / (26 - 22) \\\\\n",
    "    \\mu SuhuSedang(25) = 1/4 \\\\ \n",
    "    \\mu SuhuSedang(25) = 0.25 \\\\\n",
    "    \\mu SuhuPanas(25) = (25 - 22) / (40-22) \\\\\n",
    "    \\mu SuhuPanas(25) = 3/8 \\\\\n",
    "    \\mu SuhuPanas(25) = 0.375 \\\\\n",
    "\\end{equation}"
   ]
  },
  {
   "cell_type": "markdown",
   "metadata": {},
   "source": [
    " <div class=\"alert alert-success\">\n",
    "<div>\n",
    "\\begin{equation}\n",
    "    Kelembaban = 83\\\\\n",
    "  Kelembaban['Lembab'] = \\mu Lembab(x)=\\begin{cases}\n",
    "    1, & \\text{$x\\leq 79$}.\\\\\n",
    "    (79 - x)/(79) , & \\text{$ 0\\leq x \\leq 79$}.\\\\\n",
    "  \\end{cases}\n",
    "  \\\\\n",
    "  Kelembaban['Sedang'] = \\mu KelembabanSedang(x)=\\begin{cases}\n",
    "    (x - 39)/79 - 39) , & \\text{$39 \\leq x \\leq 79$}.\\\\\n",
    "    (88 - x)/(88 - 79) , & \\text{$79 \\leq x \\geq 88$}.\\checkmark\\\\\n",
    "  \\end{cases}\n",
    "  \\\\\n",
    "    Kelembaban['TidakLembab'] = \\mu KelembabanTidakLembab(x)=\\begin{cases}\n",
    "    (x - 79)/(100 -79) , & \\text{$79 \\leq x \\leq 100$}.\\checkmark\\\\\n",
    "    1 , & \\text{$ x \\geq 100$}.\\\\\n",
    "  \\end{cases}\n",
    "\\end{equation}"
   ]
  },
  {
   "cell_type": "markdown",
   "metadata": {},
   "source": [
    " <div class=\"alert alert-success\">\n",
    "<div>\n",
    "\\begin{equation}\n",
    "    \\mu KelembabanSedang(83) = (88 - 83) / (88 - 79) \\\\\n",
    "    \\mu KelembabanSedang(83) = 5/9 \\\\ \n",
    "    \\mu KelembabanSedang(83) = 0.55 \\\\\n",
    "    \\mu KelembabanTidakLembab(83) = (83 - 79) / (100-79) \\\\\n",
    "    \\mu KelembabanTidakLembab(83) = 4/21 \\\\\n",
    "    \\mu KelembabanTidakLembab(83) = 0.1904 \\\\\n",
    "\\end{equation}"
   ]
  },
  {
   "cell_type": "markdown",
   "metadata": {},
   "source": [
    " <div class=\"alert alert-success\">\n",
    "<div>\n",
    "Cari nilai z untuk setiap aturan dengan menggunakan fungsi MIN karena menggunakan rule AND\n",
    "\n",
    "1 IF Suhu Dingin AND Kelembaban Lembab THEN Cuaca Hujan\n",
    "\n",
    "$$ \\\\ \\alpha(predikat_1) = \\mu SuhuDingin \\cap \\mu KelembabanLembab $$\n",
    "$$\\alpha(predikat_1)   = min (\\mu SuhuDingin[25], \\mu KelembabanLembab[83]) $$\n",
    "$$ \\alpha(predikat_1) = min (0; 0) $$\n",
    "$$ \\alpha(predikat_1) = 0 $$\n",
    "\n",
    "Kemudian lihat himpunan Cuaca Hujan \n",
    "$$\n",
    "   Cuaca['Hujan'] = \\mu(x)=\\begin{cases}\n",
    "    (x - 5)/(50 -5) , & \\text{$5 \\leq x \\leq 50$}.\\\\\n",
    "    1 , & \\text{$ x \\geq 50$}.\\\\\n",
    "  \\end{cases}\n",
    " $$\n",
    "Maka nilai $ Z_1 = 0 $\n",
    "\n",
    "=================================================================================================================\n",
    "\n",
    "2 IF Suhu Sedang AND Kelembaban Lembab THEN Cuaca Hujan\n",
    "\n",
    "$$ \\\\ \\alpha(predikat_2) = \\mu SuhuSedang \\cap \\mu KelembabanLembab $$\n",
    "$$\\alpha(predikat_2)   = min (\\mu SuhuSedang[25], \\mu KelembabanLembab[83]) $$\n",
    "$$ \\alpha(predikat_2) = min (0; 0) $$\n",
    "$$ \\alpha(predikat_2) = 0 $$\n",
    "\n",
    "Kemudian lihat himpunan Cuaca Hujan\n",
    "$$\n",
    "   Cuaca['Hujan'] = \\mu(x)=\\begin{cases}\n",
    "    (x - 5)/(50 -5) , & \\text{$5 \\leq x \\leq 50$}.\\\\\n",
    "    1 , & \\text{$ x \\geq 50$}.\\\\\n",
    "  \\end{cases}\n",
    "$$\n",
    "\n",
    "Maka nilai $ Z_2 = 0 $\n",
    "\n",
    "=================================================================================================================\n",
    "\n",
    "3 IF Suhu Panas AND Kelembaban Lembab THEN Cuaca Hujan\n",
    "\n",
    "$$ \\\\ \\alpha(predikat_3) = \\mu SuhuPanas \\cap \\mu KelembabanLembab $$\n",
    "$$\\alpha(predikat_3)   = min (\\mu SuhuPanas[25], \\mu KelembabanLembab[83]) $$\n",
    "$$ \\alpha(predikat_3) = min (0.375; 0) $$\n",
    "$$ \\alpha(predikat_3) = 0.375 $$\n",
    "\n",
    "Kemudian lihat himpunan Cuaca Hujan\n",
    "$$\n",
    " Cuaca['Hujan'] = \\mu(x)=\\begin{cases}\n",
    "    (x - 5)/(50 -5) , & \\text{$5 \\leq x \\leq 50$}.\\\\\n",
    "    1 , & \\text{$ x \\geq 50$}.\\\\\n",
    "  \\end{cases}\n",
    "$$\n",
    "\n",
    "Maka nilai $ Z_3 = 0 $\n",
    "\n",
    "\n",
    "=================================================================================================================\n",
    "\n",
    "4 IF Suhu Dingin dan Kelembaban Sedang THEN Durasi Cuaca Mendung\n",
    "\n",
    "$$ \\\\ \\alpha(predikat_4) = \\mu SuhuDingin \\cap \\mu KelembabanSedang $$\n",
    "$$\\alpha(predikat_4)   = min (\\mu SuhuDingin[25], \\mu KelembabanSedang[83]) $$\n",
    "$$ \\alpha(predikat_4) = min (0; 0.55) $$\n",
    "$$ \\alpha(predikat_4) = 0 $$\n",
    "\n",
    "Kemudian lihat himpunan Cuaca Mendung\n",
    "$$ Cuaca['Mendung'] = \\mu(x)=\\begin{cases}\n",
    "    (x - 3)/5 - 3) , & \\text{$3 \\leq x \\leq 5$}.\\\\\n",
    "    (20 - x)/(20 - 5) , & \\text{$5 \\leq x \\geq 20$}.\\\\\n",
    "  \\end{cases}\n",
    "$$\n",
    "\n",
    "Maka nilai $ Z_4 = 0 $\n",
    "\n",
    "\n",
    "=================================================================================================================\n",
    "\n",
    "5 IF Suhu Sedang dan Kelembaban Sedang THEN Cuaca Mendung\n",
    "\n",
    "$$ \\\\ \\alpha(predikat_5) = \\mu SuhuSedang \\cap \\mu KelembabanSedang $$\n",
    "$$\\alpha(predikat_5)   = min (\\mu SuhuSedang[25], \\mu KelembabanSedang[83]) $$\n",
    "$$ \\alpha(predikat_5) = min (0.25; 0.55) $$\n",
    "$$ \\alpha(predikat_5) = 0.45 $$\n",
    "\n",
    "Kemudian lihat himpunan Cuaca Mendung\n",
    "$$ Cuaca['Mendung'] = \\mu(x)=\\begin{cases}\n",
    "    (x - 3)/5 - 3) , & \\text{$3 \\leq x \\leq 5$}.\\\\\n",
    "    (20 - x)/(20 - 5) , & \\text{$5 \\leq x \\geq 20$}.\\\\\n",
    "  \\end{cases}\n",
    "$$\n",
    "\n",
    "Terdapat 2 nilai keanggotaan maka kita uji satu persatu\n",
    " $$(x- 3) / (5 - 3) = 0.45 $$\n",
    " $$ x - 3 = 0.45 \\times 2 $$\n",
    " $$ x - 3 = 0.9 $$\n",
    " $$ x = 3.9 $$\n",
    " \n",
    " $$ (20 -x) / (20 -5) = 0.45 $$\n",
    " $$ 20 - x = 0.45 \\times 15$$\n",
    " $$ 20 - x = 6.75 $$\n",
    " $$ - x = -13.25 $$\n",
    " $$ x = 13.25 $$\n",
    "Akan diambil nilai terkecil\n",
    "Maka nilai $ Z_5 = 3.9 $\n",
    "\n",
    "=================================================================================================================\n",
    "\n",
    "6 IF Suhu Panas dan Kelembaban Sedang THEN Cuaca Mendung\n",
    "\n",
    "$$ \\\\ \\alpha(predikat_6) = \\mu SuhuPanas \\cap \\mu KelembabanSedang $$\n",
    "$$\\alpha(predikat_6)   = min (\\mu SuhuPanas[25], \\mu KelembabanSedang[83]) $$\n",
    "$$ \\alpha(predikat_6) = min (0.375; 0.55) $$\n",
    "$$ \\alpha(predikat_6) = 0.68 $$\n",
    "\n",
    "Kemudian lihat himpunan Cuaca Mendung\n",
    "$$\n",
    "    Cuaca['Mendung'] = \\mu(x)=\\begin{cases}\n",
    "    (x - 3)/5 - 3) , & \\text{$3 \\leq x \\leq 5$}.\\\\\n",
    "    (20 - x)/(20 - 5) , & \\text{$5 \\leq x \\geq 20$}.\\\\\n",
    "  \\end{cases}\n",
    "$$\n",
    "\n",
    "Terdapat 2 nilai keanggotaan maka kita uji satu persatu\n",
    " $$(x- 3) / (5 - 3) = 0.68 $$\n",
    " $$ x - 3 = 0.68 \\times 2 $$\n",
    " $$ x - 3 = 1.36 $$\n",
    " $$ x = 4.36 $$\n",
    " \n",
    " $$ (20 -x) / (20 -5) = 0.68 $$\n",
    " $$ 20 - x = 0.68 \\times 15$$\n",
    " $$ 20 - x = 10.2 $$\n",
    " $$ - x = -9.8 $$\n",
    " $$ x = 9.8 $$\n",
    "Akan diambil nilai terkecil\n",
    "Maka nilai $ Z_6 = 4.36 $\n",
    "\n",
    "=================================================================================================================\n",
    "\n",
    "7 IF Suhu Dingin dan Kelembaban Tidak Lembab THEN Cuaca Cerah\n",
    "$$ \\\\ \\alpha(predikat_7) = \\mu SuhuDingin \\cap \\mu KelembabanTidakLembab $$\n",
    "$$\\alpha(predikat_7)   = min (\\mu SuhuDingin[25], \\mu KelembabanTidakLembab[83]) $$\n",
    "$$ \\alpha(predikat_7) = min (0; 0.1904) $$\n",
    "$$ \\alpha(predikat_7) = 0 $$\n",
    "\n",
    "Kemudian lihat himpunan Cuaca Cerah\n",
    "\n",
    "$$\n",
    "   Cuaca['Cerah'] = \\mu CuacaCerah(x)=\\begin{cases}\n",
    "    1, & \\text{$x\\leq 5$}.\\\\\n",
    "    (5 - x)/(5) , & \\text{$ 0\\leq x \\leq 5$}.\\\\\n",
    "  \\end{cases}\n",
    "$$\n",
    "\n",
    "Maka nilai keanggotaan yang memenuhi adalah 0\n",
    "Maka nilai Z$_7$ = 0\n",
    "\n",
    "=================================================================================================================\n",
    "\n",
    "8 IF Suhu Sedang dan Kelembaban Tidak Lembab THEN Cuaca Cerah\n",
    "$$ \\\\ \\alpha(predikat_8) = \\mu SuhuSedang \\cap \\mu KelembabanTidakLembab $$\n",
    "$$\\alpha(predikat_8)   = min (\\mu SuhuSedang[25], \\mu KelembabanTidakLembab[83]) $$\n",
    "$$ \\alpha(predikat_8) = min (0.25; 0.1904) $$\n",
    "$$ \\alpha(predikat_8) = 0.0475 $$\n",
    "\n",
    "Kemudian lihat himpunan Cuaca Cerah\n",
    "$$\n",
    "  \\\\\n",
    "   Cuaca['Cerah'] = \\mu(x)=\\begin{cases}\n",
    "    1, & \\text{$x\\leq 5$}.\\\\\n",
    "    (5 - x)/(5) , & \\text{$ 0\\leq x \\leq 5$}.\\\\\n",
    "  \\end{cases}\n",
    "  \\\\\n",
    "$$\n",
    "\n",
    "Terdapat 1 nilai keanggotaan yang akan kita masukkan nilainya\n",
    "\n",
    "$$\n",
    "(5-x) / (5) = 0.0475 \\\\\n",
    "(5-x) = 0.2375 \\\\\n",
    "-x = -0.2375\\\\\n",
    "x = 4.765 \\\\\n",
    "$$\n",
    "\n",
    "Maka nilai Z$_8$ = 4.765\n",
    "\n",
    "=================================================================================================================\n",
    "\n",
    "9 IF Suhu Panas dan Kelembaban Tidak Lembab THEN Cuaca Cerah\n",
    "$$ \\\\ \\alpha(predikat_9) = \\mu SuhuPanas \\cap \\mu KelembabanTidakLembab $$\n",
    "$$\\alpha(predikat_9)   = min (\\mu SuhuPanas[25], \\mu KelembabanTidakLembab[83]) $$\n",
    "$$ \\alpha(predikat_9) = min (0.375; 0.1904) $$\n",
    "$$ \\alpha(predikat_9) = 0.07125 $$\n",
    "\n",
    "Kemudian lihat himpunan Durasi Sangat Cepat\n",
    "$$ Cuaca['Cerah'] = \\mu(x)=\\begin{cases}\n",
    "    1, & \\text{$x\\leq 5$}.\\\\\n",
    "    (5 - x)/(5) , & \\text{$ 0\\leq x \\leq 5$}.\\\\\n",
    "  \\end{cases}\n",
    "  \\\\\n",
    "$$\n",
    "\n",
    "Terdapat 1 nilai keanggotaan yang akan kita masukkan nilainya\n",
    "\n",
    "$$\n",
    "(5-x) / (5) = 0.07125 \\\\\n",
    "(5-x) = 0.35625 \\\\\n",
    "-x = -0.35625\\\\\n",
    "x = 4.64375 \\\\\n",
    "$$\n",
    "\n",
    "Maka nilai Z$_9$ = 4.64375"
   ]
  },
  {
   "cell_type": "markdown",
   "metadata": {},
   "source": [
    "<font color='blue'>\n",
    "Dari sini kita dapat mencari nilai z, yaitu :"
   ]
  },
  {
   "cell_type": "markdown",
   "metadata": {},
   "source": [
    " <div class=\"alert alert-success\">\n",
    "<div>\n",
    " Z =\n",
    "$$ \\frac{\\alpha predikat_1 \\times Z_1 +\n",
    "\\alpha predikat_2 \\times Z_2 +\n",
    "\\alpha predikat_3 \\times Z_3 +\n",
    "\\alpha predikat_4 \\times Z_4 +\n",
    "\\alpha predikat_5 \\times Z_5 +\n",
    "\\alpha predikat_6 \\times Z_6 +\n",
    "\\alpha predikat_7 \\times Z_7 +\n",
    "\\alpha predikat_8 \\times Z_8 +\n",
    "\\alpha predikat_9 \\times Z_9 +\n",
    "\\alpha predikat_1\\,_0 \\times Z_1\\,_1 +\n",
    "\\alpha predikat_1\\,_1 \\times Z_1\\,_2 +\n",
    "\\alpha predikat_1\\,_2 \\times Z_1\\,_2 +}\n",
    "{\\alpha predikat_1 + \\alpha predikat_2 +\n",
    "\\alpha predikat_3 + \\alpha predikat_4 +\n",
    "\\alpha predikat_5 + \\alpha predikat_6 +\n",
    "\\alpha predikat_7 + \\alpha predikat_8 +\n",
    "\\alpha predikat_9 + \\alpha predikat_1\\,_0 +\n",
    "\\alpha predikat_1\\,_1 + \\alpha predikat_1\\,_2}$$"
   ]
  },
  {
   "cell_type": "markdown",
   "metadata": {},
   "source": [
    " <div class=\"alert alert-success\">\n",
    "<div>\n",
    "$$Z = \\frac{0 + 0 + 0 + 0 + 1 \\times 4 + 1 \\times 4.5 + 0 + 0.05 \\times 5 + 0.1 \\times 5}{0 + 0 + 0 + 0 + 0.45 + 0.68 + 0 + 0.0475 + 0.07125} $$\n",
    " \n",
    " $$ Z = \\frac{4 + 4.5 + 0.25 + 0.5}{1.24875} $$\n",
    " $$ Z = 7.407407407407407 $$"
   ]
  },
  {
   "cell_type": "markdown",
   "metadata": {},
   "source": [
    "<font color='blue'>\n",
    "Output yang dihasilkan menggunakan code python sebesar 8.40983651300527, sedangkan perhitungan manual sebesar 7.407407407407407.\n",
    "\n",
    "Terdapat perbedaan sebesar 1.002429105597863‬"
   ]
  },
  {
   "cell_type": "markdown",
   "metadata": {},
   "source": [
    "# Referensi Paper\n",
    "\n",
    "    Jurnal Media Infotama Vol. 12 No. 1, Februari 2016\n",
    "    Perancangan Sistem Peramalan… ISSN 1858 – 2680\n",
    "    PERANCANGAN SISTEM PERAMALAN CUACA\n",
    "    BERBASIS LOGIKA FUZZY\n",
    "    Ema Sastri Puspita, Liza Yulianti"
   ]
  },
  {
   "cell_type": "code",
   "execution_count": null,
   "metadata": {},
   "outputs": [],
   "source": []
  }
 ],
 "metadata": {
  "kernelspec": {
   "display_name": "Python 3",
   "language": "python",
   "name": "python3"
  },
  "language_info": {
   "codemirror_mode": {
    "name": "ipython",
    "version": 3
   },
   "file_extension": ".py",
   "mimetype": "text/x-python",
   "name": "python",
   "nbconvert_exporter": "python",
   "pygments_lexer": "ipython3",
   "version": "3.7.3"
  }
 },
 "nbformat": 4,
 "nbformat_minor": 2
}
