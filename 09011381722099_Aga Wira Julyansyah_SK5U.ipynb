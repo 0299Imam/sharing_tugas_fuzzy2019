{
 "cells": [
  {
   "cell_type": "markdown",
   "metadata": {},
   "source": [
    "# KECERDASAN BUATAN"
   ]
  },
  {
   "cell_type": "markdown",
   "metadata": {},
   "source": [
    "### Aga Wira Julyansyah | 09011381722099 | SK 17"
   ]
  },
  {
   "cell_type": "markdown",
   "metadata": {},
   "source": [
    "### SELEKSI CALON KARYAWAN MENGGUNAKAN METODE FUZZY TSUKAMOTO"
   ]
  },
  {
   "cell_type": "markdown",
   "metadata": {},
   "source": [
    "    Penerimaan Karyawan di Suatu perusahaan diolah menggunakan Fuzzy Logic Tsukamoto. Pada Kasus ini, hasil seleksi calon karyawan akan dilihat dari 2 aspek yaitu berdasarkan Test Tertulis dan Test Wawancara.  Tujuannya adalah untuk mengambil keputusan dalam membantu menentukan calon karyawan lulus/ cadangan / tidak lulus berdasarkan himpunan anggota yang telah ditentukan.\n"
   ]
  },
  {
   "cell_type": "markdown",
   "metadata": {},
   "source": [
    "# A. Fuzzifikasi"
   ]
  },
  {
   "cell_type": "markdown",
   "metadata": {},
   "source": [
    "    Tahapan Fuzzyfikasi merupakan perhitungan nilai variabel input menjadi derajat keanggotaan. Perhitungan Fuzzifikasi ini diambil berdasarkan batas himpunan keanggotaan\n",
    "    \n",
    "    Pada Data ini, tahapan Fuzzyfikasi memliki 2 Variabel linguistik sebagai input dan 1 variabel sebagai output. Pada proses ini, telah digunakan himpunan fuzzy dalam 2 variabel linguistik dan 1 output. \n",
    "\n",
    "    2 Variabel Input Tesebut adalah:\n",
    "\n",
    "    Variabel          ||  Himpunan\n",
    "\n",
    "    Tes Tertulis      || kecil | sedang | kecil\n",
    "\n",
    "    Tes Wawancara     || Sangat Memuaskan | Memuaskan | Mengecewakan\n",
    "   \n",
    "\n",
    "    1 Variabel Output :\n",
    "     \n",
    "    Variabel          ||  Himpunan\n",
    "\n",
    "    Hasil Seleksi     ||  Lulus | Cadangan | Tidak Lulus"
   ]
  },
  {
   "cell_type": "code",
   "execution_count": 1,
   "metadata": {},
   "outputs": [],
   "source": [
    "import numpy as np\n",
    "import skfuzzy as fuzz\n",
    "from skfuzzy import control as ctrl\n",
    "import matplotlib.pyplot as plt"
   ]
  },
  {
   "cell_type": "markdown",
   "metadata": {},
   "source": [
    "    1. Numpy adalah library Python yang digunakan para data scientist. Berguna untuk  menjalanka operasi matrik atau array.Numpy merupakan salah satu library yang digunakan oleh library lain seperti Scikit-Learn untuk keperluan analisis data.\n",
    "\n",
    "    2. skfuzzy berfungsi sebagai library fuzzy pada python.\n",
    "\n",
    "    3. matplotlib berfungsi untuk merapikan hasil grafik."
   ]
  },
  {
   "cell_type": "markdown",
   "metadata": {},
   "source": [
    "## 1. Variabel Input (Test Tertulis)"
   ]
  },
  {
   "cell_type": "markdown",
   "metadata": {},
   "source": [
    " Dengan Keanggotaan kecil:\n",
    " \\begin{equation}\n",
    "  test tertulis['kecil'] = \\mu test tertulis\\,kecil(x)=\\begin{cases}\n",
    "   1, & \\text{$x\\leq 25$}\\\\\n",
    "    (50 - x)/(50 - 25), & \\text{$25\\leq x\\leq50$}.\\\\\n",
    "    0, & \\text{$x\\geq 50$}\\\\\n",
    "  \\end{cases}\n",
    "  \\\\\n",
    "  \\end{equation}\n",
    "    \n",
    "Dengan Keanggotaan sedang:\n",
    " \\begin{equation}\n",
    "  test tertulis['sedang'] = \\mu test tertulis\\,sedang (x)=\\begin{cases}\n",
    "   0, & \\text{$x\\leq 25\\,atau\\,x\\geq75$}\\\\\n",
    "    (x-25)/(50-25), & \\text{$25\\leq x\\leq50$}.\\\\\n",
    "    (75-x)/(75-50), & \\text{$50\\leq x\\leq75$}.\\\\\n",
    "  \\end{cases}\n",
    "  \\\\\n",
    "  \\end{equation}   \n",
    "    \n",
    "Dengan Keanggotaan besar:\n",
    " \\begin{equation}\n",
    "  test tertulis['besar'] = \\mu test tertulis\\,besar(x)=\\begin{cases}\n",
    "   0, & \\text{$x\\leq 50$}\\\\\n",
    "    (x - 50)/(75 - 50), & \\text{$50\\leq x\\leq75$}.\\\\\n",
    "    1, & \\text{$x\\geq 75$}\\\\\n",
    "  \\end{cases}\n",
    "  \\\\\n",
    "  \\end{equation}"
   ]
  },
  {
   "cell_type": "markdown",
   "metadata": {},
   "source": [
    "## a. Fungsi keanggotaan \"Kecil\""
   ]
  },
  {
   "cell_type": "markdown",
   "metadata": {},
   "source": [
    "Dengan Keanggotaan kecil:\n",
    "\\begin{equation}\n",
    "  test tertulis['kecil'] = \\mu test tertulis\\,kecil(x)=\\begin{cases}\n",
    "   1, & \\text{$x\\leq 25$}\\\\\n",
    "    (50 - x)/(50 - 25), & \\text{$25\\leq x\\leq50$}.\\\\\n",
    "    0, & \\text{$x\\geq 50$}\\\\\n",
    "  \\end{cases}\n",
    "  \\\\\n",
    "  \\end{equation}\n"
   ]
  },
  {
   "cell_type": "markdown",
   "metadata": {},
   "source": [
    "### Plotiting Membership Function Permintaan pada Himpunan \"Kecil\" :\n",
    "\n",
    "Pada variabel input memiliki himpunan kecil dengan domain {0 , 0, 25, 75}. dengan bentuk grafik yang menurun."
   ]
  },
  {
   "cell_type": "code",
   "execution_count": 2,
   "metadata": {},
   "outputs": [
    {
     "data": {
      "text/plain": [
       "Text(0.5,1,'kecil')"
      ]
     },
     "execution_count": 2,
     "metadata": {},
     "output_type": "execute_result"
    },
    {
     "data": {
      "image/png": "[encoded data removed]",
      "text/plain": [
       "<Figure size 576x288 with 1 Axes>"
      ]
     },
     "metadata": {},
     "output_type": "display_data"
    }
   ],
   "source": [
    "tes_tulis = np.arange(0, 100, 1)\n",
    "\n",
    "test_tertulis_kecil = fuzz.trapmf(tes_tulis, [0, 0, 25, 50])\n",
    "\n",
    "fig, (ax0) = plt.subplots(nrows=1, facecolor='Green', figsize=(8,4))\n",
    "ax0.plot(tes_tulis, test_tertulis_kecil, 'black' , linewidth = 1, label = 'kecil')\n",
    "\n",
    "ax0.set_title('kecil')"
   ]
  },
  {
   "cell_type": "markdown",
   "metadata": {},
   "source": [
    "## b. Fungsi keanggotaan \"Sedang\""
   ]
  },
  {
   "cell_type": "markdown",
   "metadata": {},
   "source": [
    "Dengan Keanggotaan sedang:\n",
    " \\begin{equation}\n",
    "  test tertulis['sedang'] = \\mu test tertulis\\,sedang (x)=\\begin{cases}\n",
    "   0, & \\text{$x\\leq 25\\,atau\\,x\\geq75$}\\\\\n",
    "    (x-25)/(50-25), & \\text{$25\\leq x\\leq50$}.\\\\\n",
    "    (75-x)/(75-50), & \\text{$50\\leq x\\leq75$}.\\\\\n",
    "  \\end{cases}\n",
    "  \\\\\n",
    "  \\end{equation}   \n",
    "    "
   ]
  },
  {
   "cell_type": "markdown",
   "metadata": {},
   "source": [
    "### Plotiting Membership Function Permintaan pada Himpunan \" Sedang \" :\n",
    "\n",
    "Pada variabel input memiliki himpunan sedang  dengan domain {25, 50 , 75}. dengan bentuk grafik segitiga. dan memiliki nilai awal, tengah, dan akhr."
   ]
  },
  {
   "cell_type": "code",
   "execution_count": 3,
   "metadata": {},
   "outputs": [
    {
     "data": {
      "text/plain": [
       "Text(0.5,1,'sedang')"
      ]
     },
     "execution_count": 3,
     "metadata": {},
     "output_type": "execute_result"
    },
    {
     "data": {
      "image/png": "[encoded data removed]",
      "text/plain": [
       "<Figure size 576x288 with 1 Axes>"
      ]
     },
     "metadata": {},
     "output_type": "display_data"
    }
   ],
   "source": [
    "tes_tulis = np.arange(0, 100, 1)\n",
    "\n",
    "test_tertulis_sedang = fuzz.trimf(tes_tulis, [25, 50, 75])\n",
    "\n",
    "fig, (ax1) = plt.subplots(nrows=1, facecolor='Green', figsize=(8,4))\n",
    "ax1.plot(tes_tulis, test_tertulis_sedang, 'black' , linewidth = 1, label = 'sedang')\n",
    "\n",
    "ax1.set_title('sedang')"
   ]
  },
  {
   "cell_type": "markdown",
   "metadata": {},
   "source": [
    "## c. Fungsi keanggotaan \"Besar\""
   ]
  },
  {
   "cell_type": "markdown",
   "metadata": {},
   "source": [
    "Dengan Keanggotaan besar:\n",
    " \\begin{equation}\n",
    "  test tertulis['besar'] = \\mu test tertulis\\,besar(x)=\\begin{cases}\n",
    "   0, & \\text{$x\\leq 50$}\\\\\n",
    "    (x - 50)/(75 - 50), & \\text{$50\\leq x\\leq75$}.\\\\\n",
    "    1, & \\text{$x\\geq 75$}\\\\\n",
    "  \\end{cases}\n",
    "  \\\\\n",
    "  \\end{equation}"
   ]
  },
  {
   "cell_type": "markdown",
   "metadata": {},
   "source": [
    "### Plotiting Membership Function Permintaan pada Himpunan \"Kecil\" :\n",
    "\n",
    "Pada variabel input memiliki himpunan besar dengan domain {50, 75, 100, 100}. dengan bentuk grafik yang menaik."
   ]
  },
  {
   "cell_type": "code",
   "execution_count": 4,
   "metadata": {},
   "outputs": [
    {
     "data": {
      "text/plain": [
       "Text(0.5,1,'besar')"
      ]
     },
     "execution_count": 4,
     "metadata": {},
     "output_type": "execute_result"
    },
    {
     "data": {
      "image/png": "[encoded data removed]",
      "text/plain": [
       "<Figure size 576x288 with 1 Axes>"
      ]
     },
     "metadata": {},
     "output_type": "display_data"
    }
   ],
   "source": [
    "tes_tulis = np.arange(0, 100, 1)\n",
    "\n",
    "test_tertulis_besar = fuzz.trapmf(tes_tulis, [50, 75, 100,100])\n",
    "\n",
    "fig, (ax2) = plt.subplots(nrows=1, facecolor='Green', figsize=(8,4))\n",
    "ax2.plot(tes_tulis, test_tertulis_besar, 'black' , linewidth = 1, label = 'besar')\n",
    "\n",
    "ax2.set_title('besar')"
   ]
  },
  {
   "cell_type": "markdown",
   "metadata": {},
   "source": [
    "# Plotting Gabungan dari 3 Himpunan pada Variabel Test Tertulis"
   ]
  },
  {
   "cell_type": "code",
   "execution_count": 5,
   "metadata": {},
   "outputs": [
    {
     "name": "stderr",
     "output_type": "stream",
     "text": [
      "C:\\Users\\ACER\\Anaconda3\\lib\\site-packages\\matplotlib\\figure.py:457: UserWarning: matplotlib is currently using a non-GUI backend, so cannot show the figure\n",
      "  \"matplotlib is currently using a non-GUI backend, \"\n"
     ]
    },
    {
     "data": {
      "image/png": "[encoded data removed]",
      "text/plain": [
       "<Figure size 432x288 with 1 Axes>"
      ]
     },
     "metadata": {
      "needs_background": "light"
     },
     "output_type": "display_data"
    }
   ],
   "source": [
    "test_tertulis = ctrl.Antecedent(np.arange(0, 100, 1), 'test_tertulis')\n",
    "\n",
    "test_tertulis ['kecil'] = fuzz.trapmf(test_tertulis.universe, [0, 0, 25, 50])\n",
    "test_tertulis ['sedang']= fuzz.trimf(test_tertulis.universe, [25, 50, 75])\n",
    "test_tertulis ['besar'] = fuzz.trapmf(test_tertulis.universe, [50, 75, 100,100])\n",
    "\n",
    "\n",
    "test_tertulis.view()"
   ]
  },
  {
   "cell_type": "markdown",
   "metadata": {},
   "source": [
    "## 2. Variabel Input (Test Wawancara)"
   ]
  },
  {
   "cell_type": "markdown",
   "metadata": {},
   "source": [
    "Dengan Keanggotaan Mengecewakan:\n",
    "\\begin{equation}\n",
    "  test wawancara['Mengecewakan'] = \\mu test wawancara\\,Mengecewakan(x)=\\begin{cases}\n",
    "   1, & \\text{$x\\leq 25$}\\\\\n",
    "    (50 - x)/(50 - 25), & \\text{$25\\leq x\\leq50$}.\\\\\n",
    "    0, & \\text{$x\\geq 50$}\\\\\n",
    "  \\end{cases}\n",
    "  \\\\\n",
    "  \\end{equation}\n",
    "    \n",
    "Dengan Keanggotaan Memuaskan:\n",
    " \\begin{equation}\n",
    "  test wawancara['Memuaskan'] = \\mu test wawancara\\,Memuaskan (x)=\\begin{cases}\n",
    "   0, & \\text{$x\\leq 25\\,atau\\,x\\geq75$}\\\\\n",
    "    (x-25)/(50-25), & \\text{$25\\leq x\\leq50$}.\\\\\n",
    "    (75-x)/(75-50), & \\text{$50\\leq x\\leq75$}.\\\\\n",
    "  \\end{cases}\n",
    "  \\\\\n",
    "  \\end{equation}   \n",
    "    \n",
    "Dengan Keanggotaan Sangat Memuaskan:\n",
    " \\begin{equation}\n",
    "  test wawancara['Sangat Memuaskan'] = \\mu test wawancara\\,Sangat\\,Memuaskan\\,(x)=\\begin{cases}\n",
    "   0, & \\text{$x\\leq 50$}\\\\\n",
    "    (x - 50)/(75 - 50), & \\text{$50\\leq x\\leq75$}.\\\\\n",
    "    1, & \\text{$x\\geq 75$}\\\\\n",
    "  \\end{cases}\n",
    "  \\\\\n",
    "  \\end{equation}"
   ]
  },
  {
   "cell_type": "markdown",
   "metadata": {},
   "source": [
    "## a. Fungsi keanggotaan \"Mengecewakan\""
   ]
  },
  {
   "cell_type": "markdown",
   "metadata": {},
   "source": [
    "### Plotiting Membership Function Permintaan pada Himpunan \"Mengecewakan\" :\n",
    "\n",
    "Pada variabel input memiliki himpunan Mengecewakan dengan domain {0 , 0, 25, 75}. dengan bentuk grafik yang menurun."
   ]
  },
  {
   "cell_type": "markdown",
   "metadata": {},
   "source": [
    "Dengan Keanggotaan Mengecewakan:\n",
    "\\begin{equation}\n",
    "  test wawancara['Mengecewakan'] = \\mu test wawancara\\,Mengecewakan(x)=\\begin{cases}\n",
    "   1, & \\text{$x\\leq 25$}\\\\\n",
    "    (50 - x)/(50 - 25), & \\text{$25\\leq x\\leq50$}.\\\\\n",
    "    0, & \\text{$x\\geq 50$}\\\\\n",
    "  \\end{cases}\n",
    "  \\\\\n",
    "  \\end{equation}"
   ]
  },
  {
   "cell_type": "code",
   "execution_count": 6,
   "metadata": {},
   "outputs": [
    {
     "data": {
      "text/plain": [
       "Text(0.5,1,'Mengecewakan')"
      ]
     },
     "execution_count": 6,
     "metadata": {},
     "output_type": "execute_result"
    },
    {
     "data": {
      "image/png": "[encoded data removed]",
      "text/plain": [
       "<Figure size 576x288 with 1 Axes>"
      ]
     },
     "metadata": {},
     "output_type": "display_data"
    }
   ],
   "source": [
    "tes_wawancara = np.arange(0, 100, 1)\n",
    "\n",
    "test_wawancara_Mengecewakan = fuzz.trapmf(tes_tulis, [0, 0, 25, 50])\n",
    "\n",
    "fig, (ax0) = plt.subplots(nrows=1, facecolor='Green', figsize=(8,4))\n",
    "ax0.plot(tes_wawancara, test_wawancara_Mengecewakan, 'black' , linewidth = 1, label = 'Mengecewakan')\n",
    "\n",
    "ax0.set_title('Mengecewakan')"
   ]
  },
  {
   "cell_type": "markdown",
   "metadata": {},
   "source": [
    "## b. Fungsi keanggotaan \"Memuaskan\""
   ]
  },
  {
   "cell_type": "markdown",
   "metadata": {},
   "source": [
    "### Plotiting Membership Function Permintaan pada Himpunan \"Memuaskan\" :\n",
    "\n",
    "Pada variabel input memiliki himpunan Memuaskan dengan {25,50, 75}. dengan bentuk grafik yang segitiga."
   ]
  },
  {
   "cell_type": "markdown",
   "metadata": {},
   "source": [
    "Dengan Keanggotaan Memuaskan:\n",
    " \\begin{equation}\n",
    "  test wawancara['Memuaskan'] = \\mu test wawancara\\,Memuaskan (x)=\\begin{cases}\n",
    "   0, & \\text{$x\\leq 25\\,atau\\,x\\geq75$}\\\\\n",
    "    (x-25)/(50-25), & \\text{$25\\leq x\\leq50$}.\\\\\n",
    "    (75-x)/(75-50), & \\text{$50\\leq x\\leq75$}.\\\\\n",
    "  \\end{cases}\n",
    "  \\\\\n",
    "  \\end{equation}  "
   ]
  },
  {
   "cell_type": "code",
   "execution_count": 7,
   "metadata": {},
   "outputs": [
    {
     "data": {
      "text/plain": [
       "Text(0.5,1,'Memuaskan')"
      ]
     },
     "execution_count": 7,
     "metadata": {},
     "output_type": "execute_result"
    },
    {
     "data": {
      "image/png": "[encoded data removed]",
      "text/plain": [
       "<Figure size 576x288 with 1 Axes>"
      ]
     },
     "metadata": {},
     "output_type": "display_data"
    }
   ],
   "source": [
    "tes_wawancara = np.arange(0, 100, 1)\n",
    "\n",
    "test_wawancara_Memuaskan = fuzz.trimf(tes_wawancara, [25, 50, 75])\n",
    "\n",
    "fig, (ax1) = plt.subplots(nrows=1, facecolor='Green', figsize=(8,4))\n",
    "ax1.plot(tes_wawancara, test_wawancara_Memuaskan, 'black' , linewidth = 1, label = 'Memuaskan')\n",
    "\n",
    "ax1.set_title('Memuaskan')"
   ]
  },
  {
   "cell_type": "markdown",
   "metadata": {},
   "source": [
    "## c. Fungsi keanggotaan \"Sangat Memuaskan\""
   ]
  },
  {
   "cell_type": "markdown",
   "metadata": {},
   "source": [
    "### Plotiting Membership Function Permintaan pada Himpunan \"Sangat Memuaskan\" :\n",
    "\n",
    "Pada variabel input memiliki himpunan Sangat Memuaskan dengan domain {50, 75, 100, 100}. dengan bentuk grafik yang Menaik."
   ]
  },
  {
   "cell_type": "markdown",
   "metadata": {},
   "source": [
    "Dengan Keanggotaan Sangat Memuaskan:\n",
    " \\begin{equation}\n",
    "  test wawancara['Sangat Memuaskan'] = \\mu test wawancara\\,Sangat\\,Memuaskan\\,(x)=\\begin{cases}\n",
    "   0, & \\text{$x\\leq 50$}\\\\\n",
    "    (x - 50)/(75 - 50), & \\text{$50\\leq x\\leq75$}.\\\\\n",
    "    1, & \\text{$x\\geq 75$}\\\\\n",
    "  \\end{cases}\n",
    "  \\\\\n",
    "  \\end{equation}"
   ]
  },
  {
   "cell_type": "code",
   "execution_count": 8,
   "metadata": {},
   "outputs": [
    {
     "data": {
      "text/plain": [
       "Text(0.5,1,'Sangat Memuaskan')"
      ]
     },
     "execution_count": 8,
     "metadata": {},
     "output_type": "execute_result"
    },
    {
     "data": {
      "image/png": "[encoded data removed]",
      "text/plain": [
       "<Figure size 576x288 with 1 Axes>"
      ]
     },
     "metadata": {},
     "output_type": "display_data"
    }
   ],
   "source": [
    "tes_wawancara = np.arange(0, 100, 1)\n",
    "\n",
    "test_wawancara_Sangat_Memuaskan = fuzz.trapmf(tes_tulis, [50, 75, 100,100])\n",
    "\n",
    "fig, (ax2) = plt.subplots(nrows=1, facecolor='Green', figsize=(8,4))\n",
    "ax2.plot(tes_wawancara, test_wawancara_Sangat_Memuaskan, 'black' , linewidth = 1, label = 'Sangat Memuaskan')\n",
    "\n",
    "ax2.set_title('Sangat Memuaskan')"
   ]
  },
  {
   "cell_type": "markdown",
   "metadata": {},
   "source": [
    "# Plotting Gabungan dari 3 Himpunan pada Variabel Test Wawancara"
   ]
  },
  {
   "cell_type": "code",
   "execution_count": 9,
   "metadata": {},
   "outputs": [
    {
     "name": "stderr",
     "output_type": "stream",
     "text": [
      "C:\\Users\\ACER\\Anaconda3\\lib\\site-packages\\matplotlib\\figure.py:457: UserWarning: matplotlib is currently using a non-GUI backend, so cannot show the figure\n",
      "  \"matplotlib is currently using a non-GUI backend, \"\n"
     ]
    },
    {
     "data": {
      "image/png": "[encoded data removed]",
      "text/plain": [
       "<Figure size 432x288 with 1 Axes>"
      ]
     },
     "metadata": {
      "needs_background": "light"
     },
     "output_type": "display_data"
    }
   ],
   "source": [
    "test_wawancara = ctrl.Antecedent(np.arange(0, 100, 1), 'test_wawancara')\n",
    "\n",
    "test_wawancara['Mengecewakan'] = fuzz.trapmf(test_wawancara.universe, [ 0, 0, 25, 50])\n",
    "test_wawancara['Memuaskan'] = fuzz.trimf(test_wawancara.universe, [25, 50, 75])\n",
    "test_wawancara['Sangat Memuaskan'] = fuzz.trapmf(test_wawancara.universe, [50, 75, 100,100])\n",
    "\n",
    "test_wawancara.view()"
   ]
  },
  {
   "cell_type": "markdown",
   "metadata": {},
   "source": [
    "## Variabel Output (Hasil Seleksi)"
   ]
  },
  {
   "cell_type": "markdown",
   "metadata": {},
   "source": [
    "Dengan Keanggotaan Tidak Lulus:\n",
    "\\begin{equation}\n",
    "  hasil seleksi['Tidak Lulus'] = \\mu hasil\\,seleksi\\,Tidak\\,Lulus(x)=\\begin{cases}\n",
    "   1, & \\text{$x\\leq 25$}\\\\\n",
    "    (50 - x)/(50 - 25), & \\text{$25\\leq x\\leq50$}.\\\\\n",
    "    0, & \\text{$x\\geq 50$}\\\\\n",
    "  \\end{cases}\n",
    "  \\\\\n",
    "  \\end{equation}\n",
    "    \n",
    "Dengan Keanggotaan Cadangan:\n",
    " \\begin{equation}\n",
    "  hasil seleksi['Cadangan'] = \\mu hasil\\,seleksi\\,Cadangan(x)=\\begin{cases}\n",
    "   0, & \\text{$x\\leq 25\\,atau\\,x\\geq75$}\\\\\n",
    "    (x-25)/(50-25), & \\text{$25\\leq x\\leq50$}.\\\\\n",
    "    (75-x)/(75-50), & \\text{$50\\leq x\\leq75$}.\\\\\n",
    "  \\end{cases}\n",
    "  \\\\\n",
    "  \\end{equation}   \n",
    "    \n",
    "Dengan Keanggotaan Lulus:\n",
    " \\begin{equation}\n",
    "  hasil seleksi['Lulus'] = \\mu hasil\\,seleksi\\,Lulus(x)=\\begin{cases}\n",
    "   0, & \\text{$x\\leq 50$}\\\\\n",
    "    (x - 50)/(75 - 50), & \\text{$50\\leq x\\leq75$}.\\\\\n",
    "    1, & \\text{$x\\geq 75$}\\\\\n",
    "  \\end{cases}\n",
    "  \\\\\n",
    "  \\end{equation}"
   ]
  },
  {
   "cell_type": "markdown",
   "metadata": {},
   "source": [
    "# Plotting Hasil Seleksi"
   ]
  },
  {
   "cell_type": "code",
   "execution_count": 10,
   "metadata": {},
   "outputs": [
    {
     "name": "stderr",
     "output_type": "stream",
     "text": [
      "C:\\Users\\ACER\\Anaconda3\\lib\\site-packages\\matplotlib\\figure.py:457: UserWarning: matplotlib is currently using a non-GUI backend, so cannot show the figure\n",
      "  \"matplotlib is currently using a non-GUI backend, \"\n"
     ]
    },
    {
     "data": {
      "image/png": "[encoded data removed]",
      "text/plain": [
       "<Figure size 432x288 with 1 Axes>"
      ]
     },
     "metadata": {
      "needs_background": "light"
     },
     "output_type": "display_data"
    }
   ],
   "source": [
    "hasil_seleksi = ctrl.Consequent(np.arange(0, 100, 1), 'hasil_seleksi')\n",
    "\n",
    "hasil_seleksi['Tidak Lulus'] = fuzz.trapmf(hasil_seleksi.universe, [0, 0, 25, 50])\n",
    "hasil_seleksi['Cadangan'] = fuzz.trimf(hasil_seleksi.universe, [25, 50, 75])\n",
    "hasil_seleksi['Lulus'] = fuzz.trapmf(hasil_seleksi.universe, [50, 75, 100,100])\n",
    "\n",
    "hasil_seleksi.view()"
   ]
  },
  {
   "cell_type": "markdown",
   "metadata": {},
   "source": [
    "# B. RULE BASE"
   ]
  },
  {
   "cell_type": "markdown",
   "metadata": {},
   "source": [
    "Rule Base adala ketentuan yg berfungsi untuk menyimpan dan memanipulasi data untuk menafsirkan informasi. Aturan rule base ini menggunakan fuzzy inferensi system yang berbentuk IF-THEN.\n",
    "\n",
    "Jumlah banyaknya rule base dapat ditentukan dari jumlah variabel input dan himpunannya. Rumusnya adalah banyak himpunan dipangkatkan dengan banyak variabel input.\n",
    "\n",
    "    *banyak himpunan^banyak variabel = rule base\n",
    "   \n",
    "pada kasus ini,  dapat ditentukan bahwa ada 16 rule base. 16 rule base didapatkan dari banyak himpunannya adalah 2 dan banyak variabel inputnya adalah 2 jadi:\n",
    "    \n",
    "    *3^2 = 9 Rule Base\n",
    " \n",
    " Berikut  9 Rule Base (aturan) pada kasus ini:"
   ]
  },
  {
   "cell_type": "markdown",
   "metadata": {},
   "source": [
    "1. IF test tertulis \"besar\" dan test wawancara \"Sangat Memuaskan\" THEN hasil seleksi \"Lulus\"\n",
    "2. IF test tertulis \"besar\" dan test wawancara \"Memuaskan\" THEN hasil seleksi \"Lulus\"\n",
    "3. IF test tertulis \"besar\" dan test wawancara \"Mengecewakan\" THEN hasil seleksi \"Cadangan\"\n",
    "4. IF test tertulis \"sedang\" dan test wawancara \"Sangat Memuaskan\" THEN hasil seleksi \"Lulus\"\n",
    "5. IF test tertulis \"sedang\" dan test wawancara \"Memuaskan\" THEN hasil seleksi \"Cadangan\"\n",
    "6. IF test tertulis \"sedang\" dan test wawancara \"Mengecewakan\" THEN hasil seleksi \"Tidak Lulus\"\n",
    "7. IF test tertulis \"kecil\" dan test wawancara \"Sangat Memuaskan\" THEN hasil seleksi \"Cadangan\"\n",
    "8. IF test tertulis \"kecil\" dan test wawancara \"Memuaskan\" THEN hasil seleksi \"Cadangan\"\n",
    "9. IF test tertulis \"kecil\" dan test wawancara \"Mengecewakan\" THEN hasil seleksi \"Tidak Lulus\""
   ]
  },
  {
   "cell_type": "markdown",
   "metadata": {},
   "source": [
    "# C. Perhitungan Inferensi Fuzzy Mamdani"
   ]
  },
  {
   "cell_type": "code",
   "execution_count": 11,
   "metadata": {},
   "outputs": [],
   "source": [
    "rule1 = ctrl.Rule(test_tertulis['besar'] & test_wawancara['Sangat Memuaskan'] , hasil_seleksi['Lulus'])\n",
    "rule2 = ctrl.Rule(test_tertulis['besar'] & test_wawancara['Memuaskan'] , hasil_seleksi['Lulus'])\n",
    "rule3 = ctrl.Rule(test_tertulis['besar'] & test_wawancara['Mengecewakan'] , hasil_seleksi['Cadangan'])\n",
    "rule4 = ctrl.Rule(test_tertulis['sedang'] & test_wawancara['Sangat Memuaskan'] , hasil_seleksi['Lulus'])\n",
    "rule5 = ctrl.Rule(test_tertulis['sedang'] & test_wawancara['Memuaskan'] , hasil_seleksi['Cadangan'])\n",
    "rule6 = ctrl.Rule(test_tertulis['sedang'] & test_wawancara['Mengecewakan'] , hasil_seleksi['Tidak Lulus'])\n",
    "rule7 = ctrl.Rule(test_tertulis['kecil'] & test_wawancara['Sangat Memuaskan'] , hasil_seleksi['Cadangan'])\n",
    "rule8 = ctrl.Rule(test_tertulis['kecil'] & test_wawancara['Memuaskan'] , hasil_seleksi['Cadangan'])\n",
    "rule9 = ctrl.Rule(test_tertulis['kecil'] & test_wawancara['Mengecewakan'] , hasil_seleksi['Tidak Lulus'])"
   ]
  },
  {
   "cell_type": "markdown",
   "metadata": {},
   "source": [
    "# Rule Evaluation"
   ]
  },
  {
   "cell_type": "code",
   "execution_count": 12,
   "metadata": {},
   "outputs": [],
   "source": [
    "hasil_ctrl = ctrl.ControlSystem([rule1,rule2,rule3,rule4,rule5,rule6,rule7,rule8,rule9])"
   ]
  },
  {
   "cell_type": "markdown",
   "metadata": {},
   "source": [
    "# D. Defuzzifikasi"
   ]
  },
  {
   "cell_type": "code",
   "execution_count": 13,
   "metadata": {},
   "outputs": [],
   "source": [
    "hasilseleksi = ctrl.ControlSystemSimulation(hasil_ctrl)\n",
    "\n",
    "hasilseleksi.input['test_tertulis'] = 65\n",
    "hasilseleksi.input['test_wawancara'] = 80"
   ]
  },
  {
   "cell_type": "code",
   "execution_count": 14,
   "metadata": {},
   "outputs": [],
   "source": [
    "hasilseleksi.compute()"
   ]
  },
  {
   "cell_type": "code",
   "execution_count": 15,
   "metadata": {},
   "outputs": [
    {
     "name": "stdout",
     "output_type": "stream",
     "text": [
      "78.02409638554212\n"
     ]
    },
    {
     "name": "stderr",
     "output_type": "stream",
     "text": [
      "C:\\Users\\ACER\\Anaconda3\\lib\\site-packages\\matplotlib\\figure.py:457: UserWarning: matplotlib is currently using a non-GUI backend, so cannot show the figure\n",
      "  \"matplotlib is currently using a non-GUI backend, \"\n"
     ]
    },
    {
     "data": {
      "image/png": "[encoded data removed]",
      "text/plain": [
       "<Figure size 432x288 with 1 Axes>"
      ]
     },
     "metadata": {
      "needs_background": "light"
     },
     "output_type": "display_data"
    }
   ],
   "source": [
    "print(hasilseleksi.output['hasil_seleksi'])\n",
    "hasil_seleksi.view(sim=hasilseleksi)"
   ]
  },
  {
   "cell_type": "markdown",
   "metadata": {},
   "source": [
    "# PERHITUNGAN MANUAL "
   ]
  },
  {
   "cell_type": "markdown",
   "metadata": {},
   "source": [
    "Perhitungan manual pada metode Fuzzy Tskamoto adalah:\n",
    "\n",
    "$$ \\frac{zmax-zn}{zmax-zmin} = \\alpha\\,n $$\n"
   ]
  },
  {
   "cell_type": "markdown",
   "metadata": {},
   "source": [
    "## Test Tertulis"
   ]
  },
  {
   "cell_type": "markdown",
   "metadata": {},
   "source": [
    "\\begin{equation}\n",
    "    test\\,tertulis = 65 \\\\\n",
    "  test tertulis['kecil'] = \\mu test tertulis\\,kecil(x)=\\begin{cases}\n",
    "   1, & \\text{$x\\leq 25$}\\\\\n",
    "    (50 - x)/(50 - 25), & \\text{$25\\leq x\\leq50$}.\\\\\n",
    "    0, & \\text{$x\\geq 50$}\\ (dipilih) \\\\\n",
    "  \\end{cases}\n",
    "  \\\\\n",
    "  test tertulis['sedang'] = \\mu test tertulis\\,sedang (x)=\\begin{cases}\n",
    "   0, & \\text{$x\\leq 25\\,atau\\,x\\geq75$}\\\\\n",
    "    (x-25)/(50-25), & \\text{$25\\leq x\\leq50$}.\\\\\n",
    "    (75-x)/(75-50), & \\text{$50\\leq x\\leq75$}.\\ (dipilih) \\\\\n",
    "  \\end{cases}\n",
    "  \\\\\n",
    "  test tertulis['besar'] = \\mu test tertulis\\,besar(x)=\\begin{cases}\n",
    "   0, & \\text{$x\\leq 50$}\\\\\n",
    "    (x - 50)/(75 - 50), & \\text{$50\\leq x\\leq75$}.\\ (dipilih) \\\\\n",
    "    1, & \\text{$x\\geq 75$}\\\\\n",
    "  \\end{cases}\n",
    "  \\\\\n",
    "  \\end{equation}\n"
   ]
  },
  {
   "cell_type": "markdown",
   "metadata": {},
   "source": [
    "\\begin{equation}\n",
    "    \\mu test\\, tertulis\\, kecil \\,(65) = 0\\\\\n",
    "    \\mu test\\, tertulis\\, sedang \\,(65) = (75 - x) / (75 - 50) \\\\\n",
    "    \\mu test\\, tertulis\\, sedang \\,(65) = (75 - 65) / (75 - 50) \\\\\n",
    "    \\mu test\\, tertulis\\, sedang \\,(65) = (10) / (25) \\\\\n",
    "    \\mu test\\, tertulis\\, sedang \\,(65) = 0.4 \\\\\n",
    "    \\mu test\\, tertulis\\, besar \\,(65) = (x - 50) / (75 - 50) \\\\\n",
    "    \\mu test\\, tertulis\\, besar \\,(65) = (65 - 50) / (75 - 50) \\\\\n",
    "    \\mu test\\, tertulis\\, besar \\,(65) = (15) / (25) \\\\\n",
    "    \\mu test\\, tertulis\\, besar \\,(65) = 0.6\\\\\n",
    "\\end{equation}"
   ]
  },
  {
   "cell_type": "markdown",
   "metadata": {},
   "source": [
    "## Test Wawancara"
   ]
  },
  {
   "cell_type": "markdown",
   "metadata": {},
   "source": [
    "\\begin{equation}\n",
    "    test\\,wawancara = 80 \\\\\n",
    "  test wawancara['Mengecewakan'] = \\mu test wawancara\\,Mengecewakan(x)=\\begin{cases}\n",
    "   1, & \\text{$x\\leq 25$}\\\\\n",
    "    (50 - x)/(50 - 25), & \\text{$25\\leq x\\leq50$}.\\\\ \n",
    "    0, & \\text{$x\\geq 50$}\\ (dipilih) \\\\\n",
    "  \\end{cases}\n",
    "  \\\\\n",
    "  test wawancara['Memuaskan'] = \\mu test wawancara\\,Memuaskan (x)=\\begin{cases}\n",
    "   0, & \\text{$x\\leq 25\\,atau\\,x\\geq75$}\\ (dipilih) \\\\\n",
    "    (x-25)/(50-25), & \\text{$25\\leq x\\leq50$}.\\\\\n",
    "    (75-x)/(75-50), & \\text{$50\\leq x\\leq75$}.\\\\\n",
    "  \\end{cases}\n",
    "  \\\\\n",
    "  test wawancara['Sangat Memuaskan'] = \\mu test wawancara\\,Sangat\\,Memuaskan(x)=\\begin{cases}\n",
    "   0, & \\text{$x\\leq 50$}\\\\\n",
    "    (x - 50)/(75 - 50), & \\text{$50\\leq x\\leq75$}.\\\\\n",
    "    1, & \\text{$x\\geq 75$}\\ (dipilih) \\\\\n",
    "  \\end{cases}\n",
    "  \\\\\n",
    "  \\end{equation}\n"
   ]
  },
  {
   "cell_type": "markdown",
   "metadata": {},
   "source": [
    "\\begin{equation}\n",
    "    \\mu test\\, wawancara\\, Mengecewakan \\,(80) = 0\\\\\n",
    "    \\mu test\\, wawancara\\, Memuaskan \\,(80) = 0\\\\\n",
    "    \\mu test\\, wawancara\\, Sangat\\,Memuaskan \\,(80) = 1\\\\\n",
    "\\end{equation}"
   ]
  },
  {
   "cell_type": "markdown",
   "metadata": {},
   "source": [
    "### Selanjutnya mencari nilai z untuk setiap rule base dengan menggunakan fungsi Fuzzy Tsukamoto:"
   ]
  },
  {
   "cell_type": "markdown",
   "metadata": {},
   "source": [
    "1. IF test tertulis \"besar\" dan test wawancara \"Sangat Memuaskan\" THEN hasil seleksi \"Lulus\"\n",
    "\n",
    "$$ \\\\ \\alpha(predikat_1) = \\mu test\\,tertulis\\,besar\\cap \\mu test\\,wawancara\\,Sangat Memuaskan $$\n",
    "$$\\alpha(predikat_1)   = min (\\mu test\\,tertulis\\,besar,[65]\\cap \\mu test\\,wawancara\\,Sangat Memuaskan,[80]) $$\n",
    "$$ \\alpha(predikat_1) = min (0.6;1) $$\n",
    "$$ \\alpha(predikat_1) = 0.6 $$\n",
    "\n",
    "Melihat himpunan lulus pada hasil seleksi:\n",
    "\n",
    "\\begin{equation}\n",
    "  hasil seleksi['Lulus'] = \\mu hasil\\,seleksi\\,Lulus(x)=\\begin{cases}\n",
    "   0, & \\text{$x\\leq 50$}\\\\\n",
    "    (x - 50)/(75 - 50), & \\text{$50\\leq x\\leq75$}.\\\\\n",
    "    1, & \\text{$x\\geq 75$}\\\\\n",
    "  \\end{cases}\n",
    "  \\\\\n",
    "  \\end{equation}\n",
    "  \n",
    "$$ \\frac{zmax-z1}{zmax-zmin} = \\alpha1 $$\n",
    "$$ \\frac{75-z1}{75-50} = \\alpha1 $$\n",
    "$$ \\frac{75-z1}{25} = 0.6$$\n",
    "$$ {75-z1} = 0.6 * 25 $$\n",
    "$$ {75-z1} =15 $$\n",
    "$$ -z1 = 15 - 75 $$\n",
    "$$ z1 = -(-60) $$\n",
    "$$ z1 = 60 $$\n",
    "\n",
    "z1 = 60"
   ]
  },
  {
   "cell_type": "markdown",
   "metadata": {},
   "source": [
    "2. IF test tertulis \"besar\" dan test wawancara \"Memuaskan\" THEN hasil seleksi \"Lulus\"\n",
    "\n",
    "$$ \\\\ \\alpha(predikat_2) = \\mu test\\,tertulis\\,besar\\cap \\mu test\\,wawancara\\,Memuaskan $$\n",
    "$$\\alpha(predikat_2)   = min (\\mu test\\,tertulis\\,besar[65]\\cap \\mu test\\,wawancara\\,Memuaskan[80]) $$\n",
    "$$ \\alpha(predikat_2) = min (0.6;0) $$\n",
    "$$ \\alpha(predikat_2) = 0$$\n",
    "\n",
    "Melihat himpunan lulus pada hasil seleksi:\n",
    "\n",
    "\\begin{equation}\n",
    "  hasil seleksi['Lulus'] = \\mu hasil\\,seleksi\\,Lulus(x)=\\begin{cases}\n",
    "   0, & \\text{$x\\leq 50$}\\\\\n",
    "    (x - 50)/(75 - 50), & \\text{$50\\leq x\\leq75$}.\\\\\n",
    "    1, & \\text{$x\\geq 75$}\\\\\n",
    "  \\end{cases}\n",
    "  \\\\\n",
    "  \\end{equation}\n",
    "\n",
    "$$ \\frac{zmax-z2}{zmax-zmin} = \\alpha2 $$\n",
    "$$ \\frac{75-z2}{75-50} = \\alpha2 $$\n",
    "$$ \\frac{75-z2}{25} = 0 $$\n",
    "$$ {75-z2} = 0 * 25 $$\n",
    "$$ {75-z2} = 0 $$\n",
    "$$ -z2 = -75 $$\n",
    "$$ z2 = -(-75) $$\n",
    "$$ z2 = 75 $$\n",
    "\n",
    "z2 = 75"
   ]
  },
  {
   "cell_type": "markdown",
   "metadata": {},
   "source": [
    "3. IF test tertulis \"besar\" dan test wawancara \"Mengecewakan\" THEN hasil seleksi \"Cadangan\"\n",
    "\n",
    "$$ \\\\ \\alpha(predikat_3) = \\mu test\\,tertulis\\,besar\\cap \\mu test\\,wawancara\\,Mengecewakan $$\n",
    "$$\\alpha(predikat_3)   = min (\\mu test\\,tertulis\\,besar[65]\\cap \\mu test\\,wawancara\\,Mengecewakan[80]) $$\n",
    "$$ \\alpha(predikat_3) = min (0.6;0) $$\n",
    "$$ \\alpha(predikat_3) = 0$$\n",
    "\n",
    "Melihat himpunan Cadangan pada hasil seleksi:\n",
    "\n",
    "\\begin{equation}\n",
    "  hasil seleksi['Cadangan'] = \\mu hasil\\,seleksi\\,Cadangan(x)=\\begin{cases}\n",
    "   0, & \\text{$x\\leq 25\\,atau\\,x\\geq75$}\\\\\n",
    "    (x-25)/(50-25), & \\text{$25\\leq x\\leq50$}.\\\\\n",
    "    (75-x)/(75-50), & \\text{$50\\leq x\\leq75$}.\\\\\n",
    "  \\end{cases}\n",
    "  \\\\\n",
    "  \\end{equation}   \n",
    "\n",
    "$$ \\frac{zmax-z3}{zmax-zmin} = \\alpha3 $$\n",
    "$$ \\frac{75-z3}{75-25} = \\alpha3 $$\n",
    "$$ \\frac{75-z3}{50} = 0 $$\n",
    "$$ {75-z3} = 0 * 50 $$\n",
    "$$ {75-z3} = 0 $$\n",
    "$$ -z3 = -75 $$\n",
    "$$ z3 = -(-75) $$\n",
    "$$ z3 = 75 $$\n",
    "\n",
    "z3 = 75"
   ]
  },
  {
   "cell_type": "markdown",
   "metadata": {},
   "source": [
    "4. IF test tertulis \"sedang\" dan test wawancara \"Sangat Memuaskan\" THEN hasil seleksi \"Lulus\"\n",
    "\n",
    "$$ \\\\ \\alpha(predikat_4) = \\mu test\\,tertulis\\,sedang\\cap \\mu test\\,wawancara\\,Sangat\\,Memuaskan $$\n",
    "$$\\alpha(predikat_4)   = min (\\mu test\\,tertulis\\,sedang[65]\\cap \\mu test\\,wawancara\\,Sangat\\,Memuaskan[80]) $$\n",
    "$$ \\alpha(predikat_4) = min (0.4 ; 1) $$\n",
    "$$ \\alpha(predikat_4) = 0.4 $$\n",
    "\n",
    "Melihat himpunan lulus pada hasil seleksi:\n",
    "\n",
    "\\begin{equation}\n",
    "  hasil seleksi['Lulus'] = \\mu hasil\\,seleksi\\,Lulus(x)=\\begin{cases}\n",
    "   0, & \\text{$x\\leq 50$}\\\\\n",
    "    (x - 50)/(75 - 50), & \\text{$50\\leq x\\leq75$}.\\\\\n",
    "    1, & \\text{$x\\geq 75$}\\\\\n",
    "  \\end{cases}\n",
    "  \\\\\n",
    "  \\end{equation}\n",
    "    \n",
    "$$ \\frac{zmax-z4}{zmax-zmin} = \\alpha4 $$\n",
    "$$ \\frac{75-z4}{75-50} = \\alpha4 $$\n",
    "$$ \\frac{75-z4}{25} = 0.4 $$\n",
    "$$ {75-z4} = 0.4 * 25 $$\n",
    "$$ {75-z2} = 10 $$\n",
    "$$ -z4 = 10-75 $$\n",
    "$$ z4 = -(-65) $$\n",
    "$$ z4 = 65 $$\n",
    "\n",
    "z4 = 65"
   ]
  },
  {
   "cell_type": "markdown",
   "metadata": {},
   "source": [
    "5. IF test tertulis \"sedang\" dan test wawancara \"Memuaskan\" THEN hasil seleksi \"Cadangan\"\n",
    "\n",
    "$$ \\\\ \\alpha(predikat_5) = \\mu test\\,tertulis\\,sedang\\cap \\mu test\\,wawancara\\,Memuaskan $$\n",
    "$$\\alpha(predikat_5)   = min (\\mu test\\,tertulis\\,sedang[65]\\cap \\mu test\\,wawancara\\,Memuaskan[80]) $$\n",
    "$$ \\alpha(predikat_5) = min (0.4 ; 0) $$\n",
    "$$ \\alpha(predikat_5) = 0 $$\n",
    "\n",
    "Melihat himpunan Cadangan pada hasil seleksi:\n",
    "\n",
    "\\begin{equation}\n",
    "  hasil seleksi['Cadangan'] = \\mu hasil\\,seleksi\\,Cadangan(x)=\\begin{cases}\n",
    "   0, & \\text{$x\\leq 25\\,atau\\,x\\geq75$}\\\\\n",
    "    (x-25)/(50-25), & \\text{$25\\leq x\\leq50$}.\\\\\n",
    "    (75-x)/(75-50), & \\text{$50\\leq x\\leq75$}.\\\\\n",
    "  \\end{cases}\n",
    "  \\\\\n",
    "  \\end{equation}   \n",
    "  \n",
    "$$ \\frac{zmax-z5}{zmax-zmin} = \\alpha5 $$\n",
    "$$ \\frac{75-z5}{75-25} = \\alpha5 $$\n",
    "$$ \\frac{75-z5}{50} = 0 $$\n",
    "$$ {75-z5} = 0 * 50 $$\n",
    "$$ {75-z5} = 0 $$\n",
    "$$ -z5 = -75 $$\n",
    "$$ z5 = -(-75) $$\n",
    "$$ z5 = 75 $$\n",
    "\n",
    "z5 = 75"
   ]
  },
  {
   "cell_type": "markdown",
   "metadata": {},
   "source": [
    "6. IF test tertulis \"sedang\" dan test wawancara \"Mengecewakan\" THEN hasil seleksi \"Tidak Lulus\"\n",
    "\n",
    "$$ \\\\ \\alpha(predikat_6) = \\mu test\\,tertulis\\,sedang\\cap \\mu test\\,wawancara\\,Mengecewakan $$\n",
    "$$\\alpha(predikat_6)   = min (\\mu test\\,tertulis\\,sedang[65]\\cap \\mu test\\,wawancara\\,Mengecewakan[80]) $$\n",
    "$$ \\alpha(predikat_6) = min (0.4 ; 0) $$\n",
    "$$ \\alpha(predikat_6) = 0 $$\n",
    "\n",
    "Melihat himpunan Tidak Lulus pada hasil seleksi:\n",
    "\\begin{equation}\n",
    "  hasil seleksi['Tidak Lulus'] = \\mu hasil\\,seleksi\\,Tidak\\,Lulus(x)=\\begin{cases}\n",
    "   1, & \\text{$x\\leq 25$}\\\\\n",
    "    (50 - x)/(50 - 25), & \\text{$25\\leq x\\leq50$}.\\\\\n",
    "    0, & \\text{$x\\geq 50$}\\\\\n",
    "  \\end{cases}\n",
    "  \\\\\n",
    "  \\end{equation}\n",
    "    \n",
    "    \n",
    "$$ \\frac{zmax-z6}{zmax-zmin} = \\alpha6 $$\n",
    "$$ \\frac{50-z6}{50-25} = \\alpha5 $$\n",
    "$$ \\frac{50-z6}{50-25} = 0 $$\n",
    "$$ {50-z6} = 0 * 25 $$\n",
    "$$ {50-z6} = 0 $$\n",
    "$$ -z6 = -50 $$\n",
    "$$ z6 = -(-50) $$\n",
    "$$ z6 = 50 $$\n",
    "\n",
    "z6 = 50"
   ]
  },
  {
   "cell_type": "markdown",
   "metadata": {},
   "source": [
    "7. IF test tertulis \"kecil\" dan test wawancara \"Sangat Memuaskan\" THEN hasil seleksi \"Cadangan\"\n",
    "\n",
    "$$ \\\\ \\alpha(predikat_7) = \\mu test\\,tertulis\\,kecil\\cap \\mu test\\,wawancara\\,Sangat\\,Memuaskan $$\n",
    "$$\\alpha(predikat_7)   = min (\\mu test\\,tertulis\\,kecil[65]\\cap \\mu test\\,wawancara\\,Sangat\\,Memuaskan[80]) $$\n",
    "$$ \\alpha(predikat_7) = min (0 ; 1) $$\n",
    "$$ \\alpha(predikat_7) = 0 $$\n",
    "\n",
    "Melihat himpunan Cadangan hasil seleksi:\n",
    " \\begin{equation}\n",
    "  hasil seleksi['Cadangan'] = \\mu hasil\\,seleksi\\,Cadangan(x)=\\begin{cases}\n",
    "   0, & \\text{$x\\leq 25\\,atau\\,x\\geq75$}\\\\\n",
    "    (x-25)/(50-25), & \\text{$25\\leq x\\leq50$}.\\\\\n",
    "    (75-x)/(75-50), & \\text{$50\\leq x\\leq75$}.\\\\\n",
    "  \\end{cases}\n",
    "  \\\\\n",
    "  \\end{equation}  \n",
    " \n",
    " \n",
    "$$ \\frac{zmax-z7}{zmax-zmin} = \\alpha7 $$\n",
    "$$ \\frac{75-z7}{75-25} = \\alpha7 $$\n",
    "$$ \\frac{75-z7}{75-25} = 0 $$\n",
    "$$ {75-z7} = 0 * 50 $$\n",
    "$$ {75-z7} = 0 $$\n",
    "$$ -z7 = -75 $$\n",
    "$$ z7 = -(-75) $$\n",
    "$$ z7 = 75 $$\n",
    "\n",
    "z7 = 75"
   ]
  },
  {
   "cell_type": "markdown",
   "metadata": {},
   "source": [
    "8. IF test tertulis \"kecil\" dan test wawancara \"Memuaskan\" THEN hasil seleksi \"Cadangan\"\n",
    "\n",
    "$$ \\\\ \\alpha(predikat_8) = \\mu test\\,tertulis\\,kecil\\cap \\mu test\\,wawancara\\,Memuaskan$$\n",
    "$$\\alpha(predikat_8)   = min (\\mu test\\,tertulis\\,kecil[65]\\cap \\mu test\\,wawancara\\,Memuaskan[80]) $$\n",
    "$$ \\alpha(predikat_8) = min (0 ; 0) $$\n",
    "$$ \\alpha(predikat_8) = 0 $$\n",
    "\n",
    "Melihat himpunan Cadangan hasil seleksi:\n",
    " \\begin{equation}\n",
    "  hasil seleksi['Cadangan'] = \\mu hasil\\,seleksi\\,Cadangan(x)=\\begin{cases}\n",
    "   0, & \\text{$x\\leq 25\\,atau\\,x\\geq75$}\\\\\n",
    "    (x-25)/(50-25), & \\text{$25\\leq x\\leq50$}.\\\\\n",
    "    (75-x)/(75-50), & \\text{$50\\leq x\\leq75$}.\\\\\n",
    "  \\end{cases}\n",
    "  \\\\\n",
    "  \\end{equation}  \n",
    "\n",
    "$$ \\frac{zmax-z8}{zmax-zmin} = \\alpha8 $$\n",
    "$$ \\frac{75-z8}{75-25} = \\alpha8 $$\n",
    "$$ \\frac{75-z8}{75-25} = 0 $$\n",
    "$$ {75-z8} = 0 * 50 $$\n",
    "$$ {75-z8} = 0 $$\n",
    "$$ -z8 = -75 $$\n",
    "$$ z8 = -(-75) $$\n",
    "$$ z8 = 75 $$\n",
    "\n",
    "z8 = 75"
   ]
  },
  {
   "cell_type": "markdown",
   "metadata": {},
   "source": [
    "9. IF test tertulis \"kecil\" dan test wawancara \"Mengecewakan\" THEN hasil seleksi \"Tidak Lulus\n",
    "\n",
    "$$ \\\\ \\alpha(predikat_9) = \\mu test\\,tertulis\\,kecil\\cap \\mu test\\,wawancara\\,Mengecewakan$$\n",
    "$$\\alpha(predikat_9)   = min (\\mu test\\,tertulis\\,kecil[65]\\cap \\mu test\\,wawancara\\,Mengecewakan[80]) $$\n",
    "$$ \\alpha(predikat_9) = min (0 ; 0) $$\n",
    "$$ \\alpha(predikat_9) = 0 $$\n",
    "\n",
    "Melihat himpunan Tidak Lulus hasil seleksi:\n",
    "\\begin{equation}\n",
    "  hasil seleksi['Tidak Lulus'] = \\mu hasil\\,seleksi\\,Tidak\\,Lulus(x)=\\begin{cases}\n",
    "   1, & \\text{$x\\leq 25$}\\\\\n",
    "    (50 - x)/(50 - 25), & \\text{$25\\leq x\\leq50$}.\\\\\n",
    "    0, & \\text{$x\\geq 50$}\\\\\n",
    "  \\end{cases}\n",
    "  \\\\\n",
    "  \\end{equation}\n",
    "  \n",
    "  \n",
    "$$ \\frac{zmax-z9}{zmax-zmin} = \\alpha9 $$\n",
    "$$ \\frac{50-z9}{50-25} = \\alpha9 $$\n",
    "$$ \\frac{50-z9}{50-25} = 0 $$\n",
    "$$ {50-z9} = 0 * 25 $$\n",
    "$$ {50-z9} = 0 $$\n",
    "$$ -z9 = -50 $$\n",
    "$$ z9 = -(-50) $$\n",
    "$$ z9 = 50 $$\n",
    "\n",
    "z9 = 50"
   ]
  },
  {
   "cell_type": "markdown",
   "metadata": {},
   "source": [
    "## Setelah itu menghitung nilai Z: "
   ]
  },
  {
   "cell_type": "markdown",
   "metadata": {},
   "source": [
    "Z =$$ \\frac{\\alpha predikat_1 \\times Z_1 +\n",
    "\\alpha predikat_2 \\times Z_2 +\n",
    "\\alpha predikat_3 \\times Z_3 +\n",
    "\\alpha predikat_4 \\times Z_4 +\n",
    "\\alpha predikat_5 \\times Z_5 +\n",
    "\\alpha predikat_6 \\times Z_6 +\n",
    "\\alpha predikat_7 \\times Z_7 +\n",
    "\\alpha predikat_8 \\times Z_8 +\n",
    "\\alpha predikat_9 \\times Z_9 +}\n",
    "{\\alpha predikat_1 + \\alpha predikat_2 +\n",
    "\\alpha predikat_3 + \\alpha predikat_4 +\n",
    "\\alpha predikat_5 + \\alpha predikat_6 +\n",
    "\\alpha predikat_7 + \\alpha predikat_8 +\n",
    "\\alpha predikat_9 + }$$"
   ]
  },
  {
   "cell_type": "markdown",
   "metadata": {},
   "source": [
    "Z =$$ \\frac{\\ 0.6 \\times 60 +\n",
    "\\ 0 \\times 75 +\n",
    "\\ 0 \\times 75 +\n",
    "\\ 0.4 \\times 65 +\n",
    "\\ 0 \\times 75 +\n",
    "\\ 0 \\times 50 +\n",
    "\\ 0 \\times 75 +\n",
    "\\ 0\\times 75 +\n",
    "\\ 0 \\times 50 +}\n",
    "{\\ 0.6 + 0 + 0 + 0.4 + 0 + 0 + 0 + 0 + 0  }$$\n",
    "\n",
    "\n",
    "Z =$$ \\frac{\\ 36 + 26}{\\ 1}$$\n",
    "\n",
    "Z =$$\\ {62} $$\n",
    "\n",
    "Selisi antara nilai hasil python dan nilai perhitungan Manual sebesar 16.02"
   ]
  },
  {
   "cell_type": "code",
   "execution_count": null,
   "metadata": {},
   "outputs": [],
   "source": []
  }
 ],
 "metadata": {
  "kernelspec": {
   "display_name": "Python 3",
   "language": "python",
   "name": "python3"
  },
  "language_info": {
   "codemirror_mode": {
    "name": "ipython",
    "version": 3
   },
   "file_extension": ".py",
   "mimetype": "text/x-python",
   "name": "python",
   "nbconvert_exporter": "python",
   "pygments_lexer": "ipython3",
   "version": "3.7.0"
  }
 },
 "nbformat": 4,
 "nbformat_minor": 2
}
