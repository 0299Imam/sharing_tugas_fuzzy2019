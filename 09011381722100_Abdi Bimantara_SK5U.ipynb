{
 "cells": [
  {
   "cell_type": "markdown",
   "metadata": {},
   "source": [
    "# KAJIAN PENERAPAN METODE LOGIKA FUZZY DALAM MENENTUKAN MAHASISWA TERBAIK\n",
    "### Nama : ABDI BIMANTARA\n",
    "### NIM    : 09011381722100\n",
    "### Kelas : SK5U"
   ]
  },
  {
   "cell_type": "markdown",
   "metadata": {},
   "source": [
    "<div class = \"alert alert-success\" role = \"alert\">\n",
    "<b> ABSTRAK</b>:\n",
    "<ul>\n",
    "    <li> Logika Fuzzy adalah bagian atau salah satu model dalam kecerdasan buatan (Artificial Intelligence). salah satu contoh implementasi logika fuzzy yaitu proses menentukan mahasiswa terbaik menggunakan model logika fuzzy. Model Fuzzy Logic yang digunakan disini menggunakan metode mamdani. Dengan menggunakan metode mamdani ini kita dapat menentukan mahasiswa terbaik dari beberapa variabel inputan Nilai Akhir (0 - 100), Nilai Keaktifan (0 - 100), serta Nilai Prestasi (0 - 4.00)</li>\n",
    "</ul>\n",
    "</div>"
   ]
  },
  {
   "cell_type": "markdown",
   "metadata": {},
   "source": [
    "secara umum, model logika fuzzy memiliki 4 Proses yaitu : \n",
    "\n",
    "* proses fuzzifikasi (fuzzification) : Proses dimana merubah suatu besaran nilai tegas (crisp) kedalam suatu besaran nilai fuzzy.\n",
    "* Proses aturan : Proses dimana berisi aturan-aturan untuk  sistem pakar mengambil keputusan dengan menerapkan pengetahuan yang dimiliki.\n",
    "* Proses Pengambilan Keputusan : Suatu proses dimana sistem pakar mengambil keputusan dengan menerapkan pengetahuan yang dimiliki.\n",
    "* proses deffuzzifikasi (defuzzification):  Merupakan kebalikan dari proses fuzzifikasi yaitu proses  merubah besaran nilai  fuzzy menjadi besaran nilai tegas(crisp)\n"
   ]
  },
  {
   "cell_type": "markdown",
   "metadata": {},
   "source": [
    "# 1. Proses import Library\n",
    "Disini langkah pertama kita diharuskan untuk mengimport beberapa library yakni:\n",
    "1. Numpy : library Numpy memiliki kegunaan untuk operasi vektor dan matriks. Fiturnya hampir sama dengan MATLAB dalam mengelola array dan array multidimensi\n",
    "2. Scikit Fuzzy : Library ini adalah library untuk Operasi Matematika yang berfungsi untuk mencari nilai tengah atau nilai terbaik dari suatu perhitungan \n",
    "3. Matplotlib : Berfungsi untuk menampilkan gambar atau grafik dari suatu coding/perhitungan dalam cell python yang sedang berjalan "
   ]
  },
  {
   "cell_type": "code",
   "execution_count": 1,
   "metadata": {},
   "outputs": [],
   "source": [
    "import numpy as np\n",
    "import skfuzzy as fuzz\n",
    "from skfuzzy import control as ctrl\n",
    "import matplotlib.pyplot as plt"
   ]
  },
  {
   "cell_type": "markdown",
   "metadata": {},
   "source": [
    "# 2. Menentukan Membership Function dan NIlai Linguistik untuk INPUT dan Output"
   ]
  },
  {
   "cell_type": "markdown",
   "metadata": {},
   "source": [
    "# Antecedent ( Variabel Inputan )\n",
    "\n",
    "Nilai Akhir \n",
    "1. Kurang, ketika nilainya 0 -60\n",
    "2. Cukup , ketika nilainya 45 - 75\n",
    "3. Baik, ketika nilainya 60 - 100\n",
    "\n",
    "Nilai Keaktifan \n",
    "1. Pasif, ketika nilainya 0 - 60\n",
    "2. Aktif, ketika nilainya  45 - 75\n",
    "3. Sangat Aktif, ketika nilainya  60 - 100\n",
    "\n",
    "Nilai Prestasi\n",
    "1. Dibawah standar, ketika nilainya 0 - 2.5\n",
    "2. Standar, ketika nilainya  2 -3\n",
    "3. Diatas Standar, ketika nilainya  2.5 - 4\n",
    "\n",
    "# Consequent ( Variabel Output)\n",
    "Hasil\n",
    "1. Kurang Baik, ketika nilainya 0 -90\n",
    "2. Cukup Baik, ketika nilainya  85 - 95\n",
    "3. Sangat Baik, ketika nilainya  90 - 100"
   ]
  },
  {
   "cell_type": "code",
   "execution_count": 2,
   "metadata": {},
   "outputs": [],
   "source": [
    "Keaktifan =  ctrl.Antecedent(np.arange(0,100,1), 'Keaktifan')\n",
    "Keaktifan_x = np.arange(0,100,1) #untuk plotting saja"
   ]
  },
  {
   "cell_type": "code",
   "execution_count": 3,
   "metadata": {},
   "outputs": [],
   "source": [
    "Akhir =  ctrl.Antecedent(np.arange(0,100,1), 'Akhir')\n",
    "Akhir_x = np.arange(0,100,1) #untuk plotting saja"
   ]
  },
  {
   "cell_type": "code",
   "execution_count": 4,
   "metadata": {},
   "outputs": [],
   "source": [
    "Prestasi =  ctrl.Antecedent(np.arange(0,4,0.1), 'Prestasi')\n",
    "Prestasi_x = np.arange(0,4,0.1) #untuk plotting saja"
   ]
  },
  {
   "cell_type": "code",
   "execution_count": 5,
   "metadata": {},
   "outputs": [],
   "source": [
    "Hasil =  ctrl.Consequent(np.arange(0,100,1), 'Hasil')\n",
    "Hasil_x = np.arange(0,100,1) #untuk plotting saja"
   ]
  },
  {
   "cell_type": "markdown",
   "metadata": {},
   "source": [
    "#  2.1. Fuzzyfikasi Nilai Keaktifan"
   ]
  },
  {
   "cell_type": "markdown",
   "metadata": {},
   "source": [
    "Pada Variable Nilai Keaktifan memiliki 3 membership function yang bisa dilihat pada tabel dibawah ini "
   ]
  },
  {
   "cell_type": "markdown",
   "metadata": {},
   "source": [
    "![](1.png)"
   ]
  },
  {
   "cell_type": "markdown",
   "metadata": {},
   "source": [
    "dan memiliki persamaan matematis seperti dibawah ini\n",
    "\n",
    "\\begin{equation}\n",
    "  Keaktifan ['Pasif'] = \\mu Pasif(x)=\\begin{cases}\n",
    "    1, & \\text{$x\\leq 60$}.\\\\\n",
    "    (60 - x)/(60) , & \\text{$ 0\\leq x \\leq 60$}.\\\\\n",
    "  \\end{cases}\n",
    "  \\\\\n",
    "  Keaktifan ['Aktif'] = \\mu Aktif(x)=\\begin{cases}\n",
    "    (x - 45)/60 - 45) , & \\text{$45 \\leq x \\leq 60$}.\\\\\n",
    "    (75 - x)/(75 - 60) , & \\text{$60 \\leq x \\geq 75$}.\\\\\n",
    "  \\end{cases}\n",
    "  \\\\\n",
    "    Keaktifan ['Sangat Aktif'] = \\mu Sangat Aktif (x)=\\begin{cases}\n",
    "    (x - 60)/(100 -60) , & \\text{$60 \\leq x \\leq 100$}.\\\\\n",
    "    1 , & \\text{$ x \\geq 100$}.\\\\\n",
    "  \\end{cases}\n",
    "\\end{equation}"
   ]
  },
  {
   "cell_type": "markdown",
   "metadata": {},
   "source": [
    "Setelah itu kita harus membuat nilai awal, nilai akhir dan nilai tengah berdasarkan dengan rentang nilai pada gambar diatas. Pada Nilai pasif dan sangat aktif itu kita gunakan fungsi trapesium ( Trampf) sedangkan untuk nilai Aktif kita gunakan fungsi segitiga (trimf)  \n"
   ]
  },
  {
   "cell_type": "code",
   "execution_count": 6,
   "metadata": {},
   "outputs": [],
   "source": [
    "Keaktifan['Pasif'] = fuzz.trapmf(Keaktifan.universe, [0,0,45,60])\n",
    "Keaktifan['Aktif'] = fuzz.trimf(Keaktifan.universe, [45,60,75])\n",
    "Keaktifan['Sangat Aktif']  = fuzz.trapmf(Keaktifan.universe, [60,75,100,100])"
   ]
  },
  {
   "cell_type": "markdown",
   "metadata": {},
   "source": [
    "# 2.1.1. PLOTTING MEMBERSHIP FUNCTION Nilai Keaktifan\n",
    "jika sudah kita deklarasikan membership function dari nilai keaktifan maka selannjutnya kita akan memvisualisasikan masing masing dari variabel membership function tersebut"
   ]
  },
  {
   "cell_type": "markdown",
   "metadata": {},
   "source": [
    "# a). Plot Nilai Keaktifan  Pasif"
   ]
  },
  {
   "cell_type": "code",
   "execution_count": 7,
   "metadata": {
    "scrolled": true
   },
   "outputs": [
    {
     "data": {
      "text/plain": [
       "Text(0.5, 1.0, 'Keaktifan Pasif')"
      ]
     },
     "execution_count": 7,
     "metadata": {},
     "output_type": "execute_result"
    },
    {
     "data": {
      "image/png": "[encoded data removed]",
      "text/plain": [
       "<Figure size 216x216 with 1 Axes>"
      ]
     },
     "metadata": {
      "needs_background": "light"
     },
     "output_type": "display_data"
    }
   ],
   "source": [
    "Keaktifan_Pasif= fuzz.trapmf(Keaktifan_x,[0,0,45,60])\n",
    "fig, (ax0) = plt.subplots(nrows=1,figsize=(3,3))\n",
    "ax0.plot(Keaktifan_x,Keaktifan_Pasif,'blue')\n",
    "ax0.set_title('Keaktifan Pasif')"
   ]
  },
  {
   "cell_type": "markdown",
   "metadata": {},
   "source": [
    "# b). Plot Nilai Keaktifan  Aktif"
   ]
  },
  {
   "cell_type": "code",
   "execution_count": 8,
   "metadata": {
    "scrolled": true
   },
   "outputs": [
    {
     "data": {
      "text/plain": [
       "Text(0.5, 1.0, 'Keaktifan Aktif')"
      ]
     },
     "execution_count": 8,
     "metadata": {},
     "output_type": "execute_result"
    },
    {
     "data": {
      "image/png": "[encoded data removed]",
      "text/plain": [
       "<Figure size 216x216 with 1 Axes>"
      ]
     },
     "metadata": {
      "needs_background": "light"
     },
     "output_type": "display_data"
    }
   ],
   "source": [
    "Keaktifan_Aktif= fuzz.trimf(Keaktifan_x,[45,60,75])\n",
    "fig2, (ax1) = plt.subplots(nrows=1,figsize=(3,3))\n",
    "ax1.plot(Keaktifan_x,Keaktifan_Aktif,'orange')\n",
    "ax1.set_title('Keaktifan Aktif')"
   ]
  },
  {
   "cell_type": "markdown",
   "metadata": {},
   "source": [
    "# c). Plot Nilai Keaktifan  Sangat Aktif"
   ]
  },
  {
   "cell_type": "code",
   "execution_count": 9,
   "metadata": {},
   "outputs": [
    {
     "data": {
      "text/plain": [
       "Text(0.5, 1.0, 'Keaktifan Sangat Aktif')"
      ]
     },
     "execution_count": 9,
     "metadata": {},
     "output_type": "execute_result"
    },
    {
     "data": {
      "image/png": "[encoded data removed]",
      "text/plain": [
       "<Figure size 216x216 with 1 Axes>"
      ]
     },
     "metadata": {
      "needs_background": "light"
     },
     "output_type": "display_data"
    }
   ],
   "source": [
    "Keaktifan_SangatAktif= fuzz.trapmf(Keaktifan_x,[60,75,100,100])\n",
    "fig3, (ax2) = plt.subplots(nrows=1,figsize=(3,3))\n",
    "ax2.plot(Keaktifan_x,Keaktifan_SangatAktif,'green')\n",
    "ax2.set_title('Keaktifan Sangat Aktif')"
   ]
  },
  {
   "cell_type": "markdown",
   "metadata": {},
   "source": [
    "Bagaimana jika kita gabungkan semua grafik dari membership function nilai Keaktifan menjadi satu"
   ]
  },
  {
   "cell_type": "code",
   "execution_count": 10,
   "metadata": {
    "scrolled": true
   },
   "outputs": [
    {
     "name": "stderr",
     "output_type": "stream",
     "text": [
      "C:\\Users\\thinkpad\\Anaconda3\\lib\\site-packages\\skfuzzy\\control\\fuzzyvariable.py:122: UserWarning: Matplotlib is currently using module://ipykernel.pylab.backend_inline, which is a non-GUI backend, so cannot show the figure.\n",
      "  fig.show()\n"
     ]
    },
    {
     "data": {
      "image/png": "[encoded data removed]",
      "text/plain": [
       "<Figure size 432x288 with 1 Axes>"
      ]
     },
     "metadata": {
      "needs_background": "light"
     },
     "output_type": "display_data"
    }
   ],
   "source": [
    "Keaktifan.view()"
   ]
  },
  {
   "cell_type": "markdown",
   "metadata": {},
   "source": [
    "# 2.2. Fuzzyfikasi Nilai Akhir"
   ]
  },
  {
   "cell_type": "markdown",
   "metadata": {},
   "source": [
    "Pada Variable Nilai Akhir memiliki 3 membership function juga yang bisa dilihat pada tabel dibawah ini "
   ]
  },
  {
   "cell_type": "markdown",
   "metadata": {},
   "source": [
    "![](2.png)"
   ]
  },
  {
   "cell_type": "markdown",
   "metadata": {},
   "source": [
    "dan memiliki persamaan matematis seperti dibawah ini\n",
    "\n",
    "\\begin{equation}\n",
    "  Akhir ['Kurang'] = \\mu Kurang(x)=\\begin{cases}\n",
    "    1, & \\text{$x\\leq 60$}.\\\\\n",
    "    (60 - x)/(60) , & \\text{$ 0\\leq x \\leq 60$}.\\\\\n",
    "  \\end{cases}\n",
    "  \\\\\n",
    "  Akhir ['Cukup'] = \\mu Cukup(x)=\\begin{cases}\n",
    "    (x - 45)/60 - 45) , & \\text{$45 \\leq x \\leq 60$}.\\\\\n",
    "    (75 - x)/(75 - 60) , & \\text{$60 \\leq x \\geq 75$}.\\\\\n",
    "  \\end{cases}\n",
    "  \\\\\n",
    "    Akhir ['Baik'] = \\mu Baik(x)=\\begin{cases}\n",
    "    (x - 60)/(100 -60) , & \\text{$60 \\leq x \\leq 100$}.\\\\\n",
    "    1 , & \\text{$ x \\geq 100$}.\\\\\n",
    "  \\end{cases}\n",
    "\\end{equation}"
   ]
  },
  {
   "cell_type": "markdown",
   "metadata": {},
   "source": [
    "Setelah itu kita harus membuat nilai awal, nilai akhir dan nilai tengah berdasarkan dengan rentang nilai pada gambar diatas. Pada Nilai kurang dan baik itu kita gunakan fungsi trapesium ( Trampf) sedangkan untuk nilai Cukup kita gunakan fungsi segitiga (trimf)  "
   ]
  },
  {
   "cell_type": "code",
   "execution_count": 11,
   "metadata": {},
   "outputs": [],
   "source": [
    "Akhir ['Kurang'] = fuzz.trapmf(Akhir.universe, [0,0,45,60])\n",
    "Akhir ['Cukup'] = fuzz.trimf(Akhir.universe, [45,60,75])\n",
    "Akhir ['Baik']  = fuzz.trapmf(Akhir.universe, [60,75,100,100])"
   ]
  },
  {
   "cell_type": "markdown",
   "metadata": {},
   "source": [
    "# 2.2.1. PLOTTING MEMBERSHIP FUNCTION Nilai Akhir\n",
    "\n",
    "jika sudah kita deklarasikan membership function dari nilai Akhir maka selannjutnya kita akan memvisualisasikan masing masing dari variabel membership function tersebut\n"
   ]
  },
  {
   "cell_type": "markdown",
   "metadata": {},
   "source": [
    "# a). Plot Nilai Akhir Kurang"
   ]
  },
  {
   "cell_type": "code",
   "execution_count": 12,
   "metadata": {
    "scrolled": true
   },
   "outputs": [
    {
     "data": {
      "text/plain": [
       "Text(0.5, 1.0, 'Nilai Akhir Kurang')"
      ]
     },
     "execution_count": 12,
     "metadata": {},
     "output_type": "execute_result"
    },
    {
     "data": {
      "image/png": "[encoded data removed]",
      "text/plain": [
       "<Figure size 216x216 with 1 Axes>"
      ]
     },
     "metadata": {
      "needs_background": "light"
     },
     "output_type": "display_data"
    }
   ],
   "source": [
    "Akhir_Kurang = fuzz.trapmf(Akhir_x,[0,0,45,60])\n",
    "fig, (ax0) = plt.subplots(nrows=1,figsize=(3,3))\n",
    "ax0.plot(Akhir_x,Akhir_Kurang,'blue')\n",
    "ax0.set_title('Nilai Akhir Kurang')"
   ]
  },
  {
   "cell_type": "markdown",
   "metadata": {},
   "source": [
    "# b). Plot Nilai Akhir Cukup"
   ]
  },
  {
   "cell_type": "code",
   "execution_count": 13,
   "metadata": {
    "scrolled": true
   },
   "outputs": [
    {
     "data": {
      "text/plain": [
       "Text(0.5, 1.0, 'Nilai Akhir Cukup')"
      ]
     },
     "execution_count": 13,
     "metadata": {},
     "output_type": "execute_result"
    },
    {
     "data": {
      "image/png": "[encoded data removed]",
      "text/plain": [
       "<Figure size 216x216 with 1 Axes>"
      ]
     },
     "metadata": {
      "needs_background": "light"
     },
     "output_type": "display_data"
    }
   ],
   "source": [
    "Akhir_Cukup = fuzz.trimf(Akhir_x,[45,60,75])\n",
    "fig, (ax0) = plt.subplots(nrows=1,figsize=(3,3))\n",
    "ax0.plot(Akhir_x,Akhir_Cukup,'orange')\n",
    "ax0.set_title('Nilai Akhir Cukup')"
   ]
  },
  {
   "cell_type": "markdown",
   "metadata": {},
   "source": [
    "# c). Plot Nilai Akhir Baik"
   ]
  },
  {
   "cell_type": "code",
   "execution_count": 14,
   "metadata": {},
   "outputs": [
    {
     "data": {
      "text/plain": [
       "Text(0.5, 1.0, 'Nilai Akhir baik')"
      ]
     },
     "execution_count": 14,
     "metadata": {},
     "output_type": "execute_result"
    },
    {
     "data": {
      "image/png": "[encoded data removed]",
      "text/plain": [
       "<Figure size 216x216 with 1 Axes>"
      ]
     },
     "metadata": {
      "needs_background": "light"
     },
     "output_type": "display_data"
    }
   ],
   "source": [
    "Akhir_Baik= fuzz.trapmf(Akhir_x,[60,75,100,100])\n",
    "fig, (ax0) = plt.subplots(nrows=1,figsize=(3,3))\n",
    "ax0.plot(Akhir_x,Akhir_Baik,'green')\n",
    "ax0.set_title('Nilai Akhir baik')"
   ]
  },
  {
   "cell_type": "markdown",
   "metadata": {},
   "source": [
    "Bagaimana jika kita gabungkan semua grafik dari membership function nilai Akhir menjadi satu"
   ]
  },
  {
   "cell_type": "code",
   "execution_count": 15,
   "metadata": {
    "scrolled": true
   },
   "outputs": [
    {
     "data": {
      "image/png": "[encoded data removed]",
      "text/plain": [
       "<Figure size 432x288 with 1 Axes>"
      ]
     },
     "metadata": {
      "needs_background": "light"
     },
     "output_type": "display_data"
    }
   ],
   "source": [
    "Akhir.view()"
   ]
  },
  {
   "cell_type": "markdown",
   "metadata": {},
   "source": [
    "# 2.3 Fuzzyfikasi Nilai Prestasi"
   ]
  },
  {
   "cell_type": "markdown",
   "metadata": {},
   "source": [
    "Pada Variable Nilai prestasi memiliki 3 membership function juga yang bisa dilihat pada tabel dibawah ini "
   ]
  },
  {
   "cell_type": "markdown",
   "metadata": {},
   "source": [
    "Untuk Variabel Nilai Prestasi, fungsi keanggotaan dibagi menjadi 3 bagian :"
   ]
  },
  {
   "cell_type": "markdown",
   "metadata": {},
   "source": [
    "![](4.png)"
   ]
  },
  {
   "cell_type": "markdown",
   "metadata": {},
   "source": [
    "dan memiliki persamaan matematis seperti dibawah ini"
   ]
  },
  {
   "cell_type": "markdown",
   "metadata": {},
   "source": [
    "\\begin{equation}\n",
    "  Prestasi ['Dibawah Standar'] = \\mu Dibawah Standar(x)=\\begin{cases}\n",
    "    1, & \\text{$x\\leq 25$}.\\\\\n",
    "    (2.5 - x)/(2.5) , & \\text{$ 0\\leq x \\leq 2.5 $}.\\\\\n",
    "  \\end{cases}\n",
    "  \\\\\n",
    "  Prestasi ['Standar'] = \\mu Standar(x)=\\begin{cases}\n",
    "    (x - 2)/(2.5 - 2) , & \\text{$ 2 \\leq x \\leq 2.5 $}.\\\\\n",
    "    (3 - x)/(3 - 2.5) , & \\text{$ 2.5 \\leq x \\leq 3$}.\\\\\n",
    "  \\end{cases}\n",
    "  \\\\\n",
    "    Prestasi ['Diatas Standar'] = \\mu Diatas Standar(x)=\\begin{cases}\n",
    "    (x - 2.5)/(100 -60) , & \\text{$ 2.5 \\leq x \\leq 4 $}.\\\\\n",
    "    1 , & \\text{$ x \\geq 4 $}.\\\\\n",
    "  \\end{cases}\n",
    "\\end{equation}"
   ]
  },
  {
   "cell_type": "markdown",
   "metadata": {},
   "source": [
    "Setelah itu kita harus membuat nilai awal, nilai akhir dan nilai tengah berdasarkan dengan rentang nilai pada gambar diatas. Pada Nilai dibawah Standar dan Diatas Standar itu kita gunakan fungsi trapesium ( Trampf) sedangkan untuk nilai Standar kita gunakan fungsi segitiga (trimf) "
   ]
  },
  {
   "cell_type": "code",
   "execution_count": 16,
   "metadata": {},
   "outputs": [],
   "source": [
    "Prestasi ['Dibawah Standar'] = fuzz.trapmf(Prestasi.universe, [0,0,2,2.5])\n",
    "Prestasi ['Standar'] = fuzz.trimf(Prestasi.universe, [2,2.5,3])\n",
    "Prestasi ['Diatas Standar']  = fuzz.trapmf(Prestasi.universe, [2.5,3,4,4])"
   ]
  },
  {
   "cell_type": "markdown",
   "metadata": {},
   "source": [
    "# 2.3.1. PLOTTING MEMBERSHIP FUNCTION  Nilai Prestasi"
   ]
  },
  {
   "cell_type": "markdown",
   "metadata": {},
   "source": [
    "jika sudah kita deklarasikan membership function dari nilai Prestasi maka selannjutnya kita akan memvisualisasikan masing masing dari variabel membership function tersebut"
   ]
  },
  {
   "cell_type": "markdown",
   "metadata": {},
   "source": [
    "# a). Plot Nilai Prestasi Dibawah Standar"
   ]
  },
  {
   "cell_type": "code",
   "execution_count": 17,
   "metadata": {},
   "outputs": [
    {
     "data": {
      "text/plain": [
       "Text(0.5, 1.0, 'Prestasi Dibawah Standar')"
      ]
     },
     "execution_count": 17,
     "metadata": {},
     "output_type": "execute_result"
    },
    {
     "data": {
      "image/png": "[encoded data removed]",
      "text/plain": [
       "<Figure size 216x216 with 1 Axes>"
      ]
     },
     "metadata": {
      "needs_background": "light"
     },
     "output_type": "display_data"
    }
   ],
   "source": [
    "Prestasi_DibawahStandar = fuzz.trapmf(Prestasi_x,[0,0,2,2.5])\n",
    "fig, (ax0) = plt.subplots(nrows=1,figsize=(3,3))\n",
    "ax0.plot(Prestasi_x,Prestasi_DibawahStandar,'blue')\n",
    "ax0.set_title('Prestasi Dibawah Standar')"
   ]
  },
  {
   "cell_type": "markdown",
   "metadata": {},
   "source": [
    "# b). Plot Nilai Prestasi Standar"
   ]
  },
  {
   "cell_type": "code",
   "execution_count": 18,
   "metadata": {},
   "outputs": [
    {
     "data": {
      "text/plain": [
       "Text(0.5, 1.0, 'Prestasi Standar')"
      ]
     },
     "execution_count": 18,
     "metadata": {},
     "output_type": "execute_result"
    },
    {
     "data": {
      "image/png": "[encoded data removed]",
      "text/plain": [
       "<Figure size 216x216 with 1 Axes>"
      ]
     },
     "metadata": {
      "needs_background": "light"
     },
     "output_type": "display_data"
    }
   ],
   "source": [
    "Prestasi_Standar = fuzz.trimf(Prestasi_x,[2,2.5,3])\n",
    "fig5, (ax6) = plt.subplots(nrows=1,figsize=(3,3))\n",
    "ax6.plot(Prestasi_x,Prestasi_Standar,'Orange')\n",
    "ax6.set_title('Prestasi Standar')"
   ]
  },
  {
   "cell_type": "markdown",
   "metadata": {},
   "source": [
    "# c). Plot Nilai Prestasi Diatas Standar"
   ]
  },
  {
   "cell_type": "code",
   "execution_count": 19,
   "metadata": {},
   "outputs": [
    {
     "data": {
      "text/plain": [
       "Text(0.5, 1.0, 'Prestasi Diatas Standar')"
      ]
     },
     "execution_count": 19,
     "metadata": {},
     "output_type": "execute_result"
    },
    {
     "data": {
      "image/png": "[encoded data removed]",
      "text/plain": [
       "<Figure size 216x216 with 1 Axes>"
      ]
     },
     "metadata": {
      "needs_background": "light"
     },
     "output_type": "display_data"
    }
   ],
   "source": [
    "Prestasi_DiatasStandar = fuzz.trapmf(Prestasi_x,[2.5,3,4,4])\n",
    "fig, (ax0) = plt.subplots(nrows=1,figsize=(3,3))\n",
    "ax0.plot(Prestasi_x,Prestasi_DiatasStandar,'green')\n",
    "ax0.set_title('Prestasi Diatas Standar')"
   ]
  },
  {
   "cell_type": "markdown",
   "metadata": {},
   "source": [
    "Bagaimana jika kita gabungkan semua grafik dari membership function nilai Akhir menjadi satu"
   ]
  },
  {
   "cell_type": "code",
   "execution_count": 20,
   "metadata": {},
   "outputs": [
    {
     "data": {
      "image/png": "[encoded data removed]",
      "text/plain": [
       "<Figure size 432x288 with 1 Axes>"
      ]
     },
     "metadata": {
      "needs_background": "light"
     },
     "output_type": "display_data"
    }
   ],
   "source": [
    "Prestasi.view()"
   ]
  },
  {
   "cell_type": "markdown",
   "metadata": {},
   "source": [
    "# 2.4. Fuzzyfikasi Nilai Hasil "
   ]
  },
  {
   "cell_type": "markdown",
   "metadata": {},
   "source": [
    "Pada Variable Nilai prestasi memiliki 3 membership function juga yang bisa dilihat pada tabel dibawah ini "
   ]
  },
  {
   "cell_type": "markdown",
   "metadata": {},
   "source": [
    "![](5.png)"
   ]
  },
  {
   "cell_type": "markdown",
   "metadata": {},
   "source": [
    "dan memiliki persamaan matematis seperti dibawah ini"
   ]
  },
  {
   "cell_type": "markdown",
   "metadata": {},
   "source": [
    "\\begin{equation}\n",
    "  Hasil ['Kurang'] = \\mu Kurang Baik(x)=\\begin{cases}\n",
    "    1, & \\text{$x\\leq 90$}.\\\\\n",
    "    (90 - x)/(90) , & \\text{$ 0\\leq x \\leq 90 $}.\\\\\n",
    "  \\end{cases}\n",
    "  \\\\\n",
    "  Hasil ['Cukup Baik'] = \\mu Cukup Baik(x)=\\begin{cases}\n",
    "    (x - 85)/(90 - 85) , & \\text{$ 85 \\leq x \\leq 90 $}.\\\\\n",
    "    (95 - x)/(95 - 90) , & \\text{$ 90 \\leq x \\leq 95 $}.\\\\\n",
    "  \\end{cases}\n",
    "  \\\\\n",
    "    Hasil ['Sangat Baik'] = \\mu Sangat Baik(x)=\\begin{cases}\n",
    "    (x - 90)/(100 - 90) , & \\text{$ 90 \\leq x \\leq 100 $}.\\\\\n",
    "    1 , & \\text{$ x \\geq 100 $}.\\\\\n",
    "  \\end{cases}\n",
    "\\end{equation}"
   ]
  },
  {
   "cell_type": "markdown",
   "metadata": {},
   "source": [
    "Setelah itu kita harus membuat nilai awal, nilai akhir dan nilai tengah berdasarkan dengan rentang nilai pada gambar diatas. Pada Nilai dibawah Kurang Baik dan Sangat Baik itu kita gunakan fungsi trapesium ( Trampf) sedangkan untuk nilai Cukup baik kita gunakan fungsi segitiga (trimf) "
   ]
  },
  {
   "cell_type": "code",
   "execution_count": 21,
   "metadata": {},
   "outputs": [],
   "source": [
    "Hasil['Kurang Baik'] = fuzz.trapmf(Hasil.universe, [0,0,85,90])\n",
    "Hasil['Cukup Baik'] = fuzz.trimf(Hasil.universe, [85,90,95])\n",
    "Hasil['Sangat Baik']  = fuzz.trapmf(Hasil.universe, [90,95,100,100])"
   ]
  },
  {
   "cell_type": "markdown",
   "metadata": {},
   "source": [
    "# 2.4. PLOTTING MEMBERSHIP FUNCTION Nilai Hasil"
   ]
  },
  {
   "cell_type": "markdown",
   "metadata": {},
   "source": [
    "# a). Plot Nilai Hasil Kurang baik"
   ]
  },
  {
   "cell_type": "code",
   "execution_count": 22,
   "metadata": {
    "scrolled": true
   },
   "outputs": [
    {
     "data": {
      "text/plain": [
       "Text(0.5, 1.0, 'Hasil Kurang Baik')"
      ]
     },
     "execution_count": 22,
     "metadata": {},
     "output_type": "execute_result"
    },
    {
     "data": {
      "image/png": "[encoded data removed]",
      "text/plain": [
       "<Figure size 216x216 with 1 Axes>"
      ]
     },
     "metadata": {
      "needs_background": "light"
     },
     "output_type": "display_data"
    }
   ],
   "source": [
    "Hasil_KurangBaik = fuzz.trapmf(Hasil_x,[0,0,85,90])\n",
    "fig, (ax0) = plt.subplots(nrows=1,figsize=(3,3))\n",
    "ax0.plot(Hasil_x,Hasil_KurangBaik,'Blue')\n",
    "ax0.set_title('Hasil Kurang Baik')"
   ]
  },
  {
   "cell_type": "markdown",
   "metadata": {},
   "source": [
    "# b). Plot Nilai Hasil cukup baik"
   ]
  },
  {
   "cell_type": "code",
   "execution_count": 23,
   "metadata": {
    "scrolled": true
   },
   "outputs": [
    {
     "data": {
      "text/plain": [
       "Text(0.5, 1.0, 'Hasil Cukup Baik')"
      ]
     },
     "execution_count": 23,
     "metadata": {},
     "output_type": "execute_result"
    },
    {
     "data": {
      "image/png": "[encoded data removed]",
      "text/plain": [
       "<Figure size 216x216 with 1 Axes>"
      ]
     },
     "metadata": {
      "needs_background": "light"
     },
     "output_type": "display_data"
    }
   ],
   "source": [
    "Hasil_CukupBaik = fuzz.trimf(Hasil_x,[85,90,95])\n",
    "fig10, (ax11) = plt.subplots(nrows=1,figsize=(3,3))\n",
    "ax11.plot(Hasil_x,Hasil_CukupBaik,'Orange')\n",
    "ax11.set_title('Hasil Cukup Baik')"
   ]
  },
  {
   "cell_type": "markdown",
   "metadata": {},
   "source": [
    "# c). Plot Nilai Hasil sangat baik"
   ]
  },
  {
   "cell_type": "code",
   "execution_count": 25,
   "metadata": {},
   "outputs": [
    {
     "data": {
      "text/plain": [
       "Text(0.5, 1.0, 'Hasil Sanagat Baik')"
      ]
     },
     "execution_count": 25,
     "metadata": {},
     "output_type": "execute_result"
    },
    {
     "data": {
      "image/png": "[encoded data removed]",
      "text/plain": [
       "<Figure size 216x216 with 1 Axes>"
      ]
     },
     "metadata": {
      "needs_background": "light"
     },
     "output_type": "display_data"
    }
   ],
   "source": [
    "Hasil_SangatBaik = fuzz.trapmf(Hasil_x,[90,95,100,100])\n",
    "fig, (ax0) = plt.subplots(nrows=1,figsize=(3,3))\n",
    "ax0.plot(Hasil_x,Hasil_SangatBaik,'Green')\n",
    "ax0.set_title('Hasil Sanagat Baik')"
   ]
  },
  {
   "cell_type": "code",
   "execution_count": 26,
   "metadata": {},
   "outputs": [
    {
     "data": {
      "image/png": "[encoded data removed]",
      "text/plain": [
       "<Figure size 432x288 with 1 Axes>"
      ]
     },
     "metadata": {
      "needs_background": "light"
     },
     "output_type": "display_data"
    }
   ],
   "source": [
    "Hasil.view()"
   ]
  },
  {
   "cell_type": "markdown",
   "metadata": {},
   "source": [
    "# 3. Menentukan Rule Base\n",
    "Pada tahap ini kita akan membuat beberapa aturan-aturan fuzzy yang dinyatakan dalam bentuk IF .... THEN .... sebagai dasar untuk mengambil keputusan "
   ]
  },
  {
   "cell_type": "markdown",
   "metadata": {},
   "source": [
    "Pada sistem ini berdasarkan jumlah fuzzifikasi dari variabel Nilai Alhir yang berjumlah 3, variabel Nilai Keaktifan yang berjumlah 3 dan fuzzifikasi dari variabel Nilai Prestasi yang berjumlah 3, maka rule yang dibuat berjumlah 3 x 3 x 3 = 27 rule"
   ]
  },
  {
   "cell_type": "code",
   "execution_count": 27,
   "metadata": {},
   "outputs": [],
   "source": [
    "rule01 = ctrl.Rule(Akhir['Kurang']  & Keaktifan['Pasif'] & Prestasi['Dibawah Standar'] , Hasil['Kurang Baik'])\n",
    "rule02 = ctrl.Rule(Akhir['Kurang']  & Keaktifan['Pasif'] & Prestasi['Standar'] , Hasil['Kurang Baik'])\n",
    "rule03 = ctrl.Rule(Akhir['Kurang']  & Keaktifan['Pasif'] & Prestasi['Diatas Standar'] , Hasil['Kurang Baik'])\n",
    "rule04 = ctrl.Rule(Akhir['Kurang']  & Keaktifan['Aktif'] & Prestasi['Dibawah Standar'] , Hasil['Kurang Baik'])\n",
    "rule05 = ctrl.Rule(Akhir['Kurang']  & Keaktifan['Aktif'] & Prestasi['Standar'] , Hasil['Kurang Baik'])\n",
    "rule06 = ctrl.Rule(Akhir['Kurang']  & Keaktifan['Aktif'] & Prestasi['Diatas Standar'] , Hasil['Kurang Baik'])\n",
    "rule07 = ctrl.Rule(Akhir['Kurang']  & Keaktifan['Sangat Aktif'] & Prestasi['Dibawah Standar'] , Hasil['Kurang Baik'])\n",
    "rule08 = ctrl.Rule(Akhir['Kurang']  & Keaktifan['Sangat Aktif'] & Prestasi['Standar'] , Hasil['Kurang Baik'])\n",
    "rule09 = ctrl.Rule(Akhir['Kurang']  & Keaktifan['Sangat Aktif'] & Prestasi['Diatas Standar'] , Hasil['Kurang Baik'])\n",
    "rule10 = ctrl.Rule(Akhir['Cukup']  & Keaktifan['Pasif'] & Prestasi['Dibawah Standar'] , Hasil['Kurang Baik'])\n",
    "rule11 = ctrl.Rule(Akhir['Cukup']  & Keaktifan['Pasif'] & Prestasi['Standar'] , Hasil['Kurang Baik'])\n",
    "rule12 = ctrl.Rule(Akhir['Cukup']  & Keaktifan['Pasif'] & Prestasi['Diatas Standar'] , Hasil['Kurang Baik'])\n",
    "rule13 = ctrl.Rule(Akhir['Cukup']  & Keaktifan['Aktif'] & Prestasi['Dibawah Standar'] , Hasil['Kurang Baik'])\n",
    "rule14 = ctrl.Rule(Akhir['Cukup']  & Keaktifan['Aktif'] & Prestasi['Standar'] , Hasil['Cukup Baik'])\n",
    "rule15 = ctrl.Rule(Akhir['Cukup']  & Keaktifan['Aktif'] & Prestasi['Diatas Standar'] , Hasil['Sangat Baik'])\n",
    "rule16 = ctrl.Rule(Akhir['Cukup']  & Keaktifan['Sangat Aktif'] & Prestasi['Dibawah Standar'] , Hasil['Kurang Baik'])\n",
    "rule17 = ctrl.Rule(Akhir['Cukup']  & Keaktifan['Sangat Aktif'] & Prestasi['Standar'] , Hasil['Cukup Baik'])\n",
    "rule18 = ctrl.Rule(Akhir['Cukup']  & Keaktifan['Sangat Aktif'] & Prestasi['Diatas Standar'] , Hasil['Cukup Baik'])\n",
    "rule19 = ctrl.Rule(Akhir['Baik']  & Keaktifan['Pasif'] & Prestasi['Dibawah Standar'] , Hasil['Kurang Baik'])\n",
    "rule20 = ctrl.Rule(Akhir['Baik']  & Keaktifan['Pasif'] & Prestasi['Standar'] , Hasil['Kurang Baik'])\n",
    "rule21 = ctrl.Rule(Akhir['Baik']  & Keaktifan['Pasif'] & Prestasi['Diatas Standar'] , Hasil['Kurang Baik'])\n",
    "rule22 = ctrl.Rule(Akhir['Baik']  & Keaktifan['Aktif'] & Prestasi['Dibawah Standar'] , Hasil['Kurang Baik'])\n",
    "rule23 = ctrl.Rule(Akhir['Baik']  & Keaktifan['Aktif'] & Prestasi['Standar'] , Hasil['Cukup Baik'])\n",
    "rule24 = ctrl.Rule(Akhir['Baik']  & Keaktifan['Aktif'] & Prestasi['Diatas Standar'] , Hasil['Cukup Baik'])\n",
    "rule25 = ctrl.Rule(Akhir['Baik']  & Keaktifan['Sangat Aktif'] & Prestasi['Dibawah Standar'] , Hasil['Kurang Baik'])\n",
    "rule26 = ctrl.Rule(Akhir['Baik']  & Keaktifan['Sangat Aktif'] & Prestasi['Standar'] , Hasil['Cukup Baik'])\n",
    "rule27 = ctrl.Rule(Akhir['Baik']  & Keaktifan['Sangat Aktif'] & Prestasi['Diatas Standar'] , Hasil['Sangat Baik'])"
   ]
  },
  {
   "cell_type": "markdown",
   "metadata": {},
   "source": [
    "Setelah rule base selesai kita buat seperti diatas, selanjutnya kita harus menggabungkan semua rule tersebut menjadi suatu kontrol dari sistem fuzzy agar dapat disimulasikan kedalam sistem control"
   ]
  },
  {
   "cell_type": "markdown",
   "metadata": {},
   "source": [
    "# RULE EVALUATION"
   ]
  },
  {
   "cell_type": "code",
   "execution_count": 28,
   "metadata": {},
   "outputs": [],
   "source": [
    "Sistem_ctrl = ctrl.ControlSystem([rule01, rule02, rule03, rule04, rule05, rule06, rule07, rule08, rule09, rule10, rule11, rule12, rule13, rule14, rule15, rule16, rule17, rule18, rule19, rule20, rule21, rule22, rule23, rule24, rule25, rule26, rule27])"
   ]
  },
  {
   "cell_type": "markdown",
   "metadata": {},
   "source": [
    "Setelah kita gabungkan semua rule diatas menjadi satu maka ada baiknya kita memvisualisasikan rule tersebut  "
   ]
  },
  {
   "cell_type": "code",
   "execution_count": 41,
   "metadata": {},
   "outputs": [
    {
     "data": {
      "image/png": "[encoded data removed]",
      "text/plain": [
       "<Figure size 432x288 with 1 Axes>"
      ]
     },
     "metadata": {},
     "output_type": "display_data"
    }
   ],
   "source": [
    "Sistem_ctrl.view()"
   ]
  },
  {
   "cell_type": "markdown",
   "metadata": {},
   "source": [
    "# 4. DEFUZZIFIKASI"
   ]
  },
  {
   "cell_type": "code",
   "execution_count": 29,
   "metadata": {},
   "outputs": [],
   "source": [
    "Sistem = ctrl.ControlSystemSimulation(Sistem_ctrl)"
   ]
  },
  {
   "cell_type": "markdown",
   "metadata": {},
   "source": [
    "# Kasus"
   ]
  },
  {
   "cell_type": "markdown",
   "metadata": {},
   "source": [
    "jika diketahui Besar Nilai Akhir 70, Besar Nilai Keaktifan 70, dan besar Nilai Prestasi sebesar 3.0, maka termasuk jenis mana mahasiswa mana ?"
   ]
  },
  {
   "cell_type": "code",
   "execution_count": 51,
   "metadata": {},
   "outputs": [],
   "source": [
    "Sistem.input['Akhir'] = 70\n",
    "Sistem.input['Keaktifan'] = 70\n",
    "Sistem.input['Prestasi'] = 4\n",
    "Sistem.compute()"
   ]
  },
  {
   "cell_type": "code",
   "execution_count": 52,
   "metadata": {
    "scrolled": true
   },
   "outputs": [
    {
     "name": "stdout",
     "output_type": "stream",
     "text": [
      "93.49999999999997\n"
     ]
    }
   ],
   "source": [
    "print(Sistem.output['Hasil'])"
   ]
  },
  {
   "cell_type": "markdown",
   "metadata": {},
   "source": [
    "Plotting fungsi keangggotaan Nilai Akhir setelah dimasukkan input nilai pada Nilai Akhir"
   ]
  },
  {
   "cell_type": "code",
   "execution_count": 45,
   "metadata": {
    "scrolled": true
   },
   "outputs": [
    {
     "data": {
      "image/png": "[encoded data removed]",
      "text/plain": [
       "<Figure size 432x288 with 1 Axes>"
      ]
     },
     "metadata": {
      "needs_background": "light"
     },
     "output_type": "display_data"
    }
   ],
   "source": [
    "Akhir.view(sim=Sistem)"
   ]
  },
  {
   "cell_type": "markdown",
   "metadata": {},
   "source": [
    "Plotting fungsi keangggotaan Nilai Keaktifan setelah dimasukkan input nilai pada Nilai Keaktifan"
   ]
  },
  {
   "cell_type": "code",
   "execution_count": 46,
   "metadata": {},
   "outputs": [
    {
     "data": {
      "image/png": "[encoded data removed]",
      "text/plain": [
       "<Figure size 432x288 with 1 Axes>"
      ]
     },
     "metadata": {
      "needs_background": "light"
     },
     "output_type": "display_data"
    }
   ],
   "source": [
    "Keaktifan.view(sim=Sistem)"
   ]
  },
  {
   "cell_type": "markdown",
   "metadata": {},
   "source": [
    "Plotting fungsi keangggotaan Nilai Prestasi setelah dimasukkan input nilai pada Nilai Prestasi"
   ]
  },
  {
   "cell_type": "code",
   "execution_count": 47,
   "metadata": {
    "scrolled": true
   },
   "outputs": [
    {
     "data": {
      "image/png": "[encoded data removed]",
      "text/plain": [
       "<Figure size 432x288 with 1 Axes>"
      ]
     },
     "metadata": {
      "needs_background": "light"
     },
     "output_type": "display_data"
    }
   ],
   "source": [
    "Prestasi.view(sim=Sistem)"
   ]
  },
  {
   "cell_type": "markdown",
   "metadata": {},
   "source": [
    "Plotting fungsi keangggotaan Nilai setelah dilakukan perhitungan defuzzifikasi output nilai pada Nilai Hasil"
   ]
  },
  {
   "cell_type": "code",
   "execution_count": 48,
   "metadata": {},
   "outputs": [
    {
     "data": {
      "image/png": "[encoded data removed]",
      "text/plain": [
       "<Figure size 432x288 with 1 Axes>"
      ]
     },
     "metadata": {
      "needs_background": "light"
     },
     "output_type": "display_data"
    }
   ],
   "source": [
    "Hasil.view(sim=Sistem)"
   ]
  },
  {
   "cell_type": "markdown",
   "metadata": {},
   "source": [
    "# Perhitungan Manual "
   ]
  },
  {
   "cell_type": "markdown",
   "metadata": {},
   "source": [
    "\\begin{equation}\n",
    "    Nilai Akhir =70 \\\\\n",
    "    Masukkan\\,nilai\\,Akhir\\,ke\\,dalam\\,masing-masing\\,fungsi\\,keanggotaan\\,akhir\\\\\n",
    "  Akhir ['Kurang'] = \\mu Kurang(x)=\\begin{cases}\n",
    "    1, & \\text{$x\\leq 60$}.\\\\\n",
    "    (60 - x)/(60) , & \\text{$ 0\\leq x \\leq 60$}.\\\\\n",
    "  \\end{cases}\n",
    "  \\\\\n",
    "  Akhir ['Cukup'] = \\mu Cukup(x)=\\begin{cases}\n",
    "    (x - 45)/60 - 45) , & \\text{$45 \\leq x \\leq 60$}.\\\\\n",
    "    (75 - x)/(75 - 60) , & \\text{$60 \\leq x \\geq 75$}. \\checkmark\\\\\n",
    "  \\end{cases}\n",
    "  \\\\\n",
    "    Akhir ['Baik'] = \\mu Baik(x)=\\begin{cases}\n",
    "    (x - 60)/(100 -60) , & \\text{$60 \\leq x \\leq 100$}. \\checkmark\\\\\n",
    "    1 , & \\text{$ x \\geq 100$}.\\\\\n",
    "  \\end{cases}\n",
    "\\end{equation}\n"
   ]
  },
  {
   "cell_type": "markdown",
   "metadata": {},
   "source": [
    "\\begin{equation}\n",
    "    \\mu NilaiAkhirfCukup(70) = (75 - 70) / (75 - 60) \\\\\n",
    "    \\mu NilaiAkhirCukup(70) = 1/3 \\\\ \n",
    "    \\mu NilaiAkhirCukup(70) = 0.33 \\\\\n",
    "    \\mu NilaiAkhirBaik (70) = (70 - 60) / (100-60) \\\\\n",
    "    \\mu NilaiAkhirBaik(70) = 1/4 \\\\\n",
    "    \\mu NilaiAkhirBaik(70) = 0.25 \\\\\n",
    "\\end{equation}"
   ]
  },
  {
   "cell_type": "markdown",
   "metadata": {},
   "source": [
    "\\begin{equation}\n",
    "    Nilai Keaktifan =70 \\\\\n",
    "    Masukkan\\,nilai\\,Keaktifan\\,ke\\,dalam\\,masing-masing\\,fungsi\\,keanggotaan\\,Keaktifan\\\\\n",
    " Keaktifan ['Pasif'] = \\mu Pasif(x)=\\begin{cases}\n",
    "    1, & \\text{$x\\leq 60$}.\\\\\n",
    "    (60 - x)/(60) , & \\text{$ 0\\leq x \\leq 60$}.\\\\\n",
    "  \\end{cases}\n",
    "  \\\\\n",
    "  Keaktifan ['Aktif'] = \\mu Aktif(x)=\\begin{cases}\n",
    "    (x - 45)/60 - 45) , & \\text{$45 \\leq x \\leq 60$}.\\\\\n",
    "    (75 - x)/(75 - 60) , & \\text{$60 \\leq x \\geq 75$}. \\checkmark\\\\\n",
    "  \\end{cases}\n",
    "  \\\\\n",
    "    Keaktifan ['Sangat Aktif'] = \\mu Sangat Aktif (x)=\\begin{cases}\n",
    "    (x - 60)/(100 -60) , & \\text{$60 \\leq x \\leq 100$}. \\checkmark\\\\\n",
    "    1 , & \\text{$ x \\geq 100$}.\\\\\n",
    "  \\end{cases}\n",
    "\\end{equation}"
   ]
  },
  {
   "cell_type": "markdown",
   "metadata": {},
   "source": [
    "\\begin{equation}\n",
    "    \\mu NilaiKeaktifanAktif(70) = (75 - 70) / (75 - 60) \\\\\n",
    "    \\mu NilaiKeaktifanAktif(70) = 1/3 \\\\ \n",
    "    \\mu NilaiKeaktifanAktif(70) = 0.33 \\\\\n",
    "    \\mu NilaiKeaktifanSangatAktif (70) = (70 - 60) / (100-60) \\\\\n",
    "    \\mu NilaiKeaktifanSangatAktif(70) = 1/4 \\\\\n",
    "    \\mu NilaiKeaktifanSangatAktif(70) = 0.25 \\\\\n",
    "\\end{equation}"
   ]
  },
  {
   "cell_type": "markdown",
   "metadata": {},
   "source": [
    "\\begin{equation}\n",
    "    Nilai Prestasi = 3 \\\\\n",
    "    Masukkan\\,nilai\\,Prestasi\\,ke\\,dalam\\,masing-masing\\,fungsi\\,keanggotaan\\,Prestasi\\\\\n",
    "  Prestasi ['Dibawah Standar'] = \\mu Dibawah Standar(x)=\\begin{cases}\n",
    "    1, & \\text{$x\\leq 25$}.\\\\\n",
    "    (2.5 - x)/(2.5) , & \\text{$ 0\\leq x \\leq 2.5 $}.\\\\\n",
    "  \\end{cases}\n",
    "  \\\\\n",
    "  Prestasi ['Standar'] = \\mu Standar(x)=\\begin{cases}\n",
    "    (x - 2)/(2.5 - 2) , & \\text{$ 2 \\leq x \\leq 2.5 $}. \\checkmark\\\\\n",
    "    (3 - x)/(3 - 2.5) , & \\text{$ 2.5 \\leq x \\leq 3$}. \\checkmark\\\\\n",
    "  \\end{cases}\n",
    "  \\\\\n",
    "    Prestasi ['Diatas Standar'] = \\mu Diatas Standar(x)=\\begin{cases}\n",
    "    (x - 2.5)/(100 -60) , & \\text{$ 2.5 \\leq x \\leq 4 $}. \\checkmark\\\\\n",
    "    1 , & \\text{$ x \\geq 4 $}.\\\\\n",
    "  \\end{cases}\n",
    "\\end{equation}\n"
   ]
  },
  {
   "cell_type": "markdown",
   "metadata": {},
   "source": [
    "\\begin{equation}\n",
    "    \\mu NilaiPrestasiStandar(3) = (3 - 2) / (2.5 - 2) \\\\\n",
    "    \\mu NilaiPrestasiStandar(3) = 1/0.5 \\\\ \n",
    "    \\mu NilaiPrestasiStandar(3) = 2 \\\\\n",
    "    \\mu NilaiPrestasiStandar(3) = (3 - 3) / (3 - 2.5) \\\\\n",
    "    \\mu NilaiPrestasiStandar(3) = 0/0.5 \\\\ \n",
    "    \\mu NilaiPrestasiStandar(3) = 0 \\\\\n",
    "    \\mu NilaiPrestasiDiatasStandar(3) = (3 - 2.5) / (4-2.5) \\\\\n",
    "    \\mu NilaiPrestasiDiatasStandar(3) = (1/2)/1.5 \\\\\n",
    "    \\mu NilaiPrestasiDiatasStandar(3) = 0.33 \\\\\n",
    "\\end{equation}"
   ]
  },
  {
   "cell_type": "markdown",
   "metadata": {},
   "source": [
    "# Karena Nilai Akhir tidak menyinggung daerah Kurang, Nilai Keaktifan tidak menyinggung daerah Pasif dan Nilai Prestasi juga tidak Menyinggung daerah Dibawah Standar maka nilai dari persamaan Kurang, Pasif dan Dibawah Standar bernilai 0"
   ]
  },
  {
   "cell_type": "markdown",
   "metadata": {},
   "source": [
    "- rule1 =MIN(μKurang & μPasif &μDibawahStandar)\n",
    "        =MIN(0 & 0 & 0)\n",
    "        = 0\n",
    "- rule2 =MIN(μKurang & μPasif &μStandar)\n",
    "        =MIN(0 & 0 & 0)\n",
    "        =0\n",
    "- rule3 =MIN(μKurang & μPasif &μDiatasStandar)\n",
    "        =MIN(0 & 0 & 0.33)\n",
    "        =0\n",
    "- rule4 =MIN(μKurang & μAktif &μDibawahStandar)\n",
    "        =MIN(0 & 0.33 & 0)\n",
    "        =0\n",
    "- rule5 =MMIN(μKurang & μAktif &μStandar)\n",
    "        =MIN(0 & 0.33 & 0)\n",
    "        =0\n",
    "- rule6 =MIN(μKurang & μAktif &μDiatasStandar)\n",
    "        =MIN(0 & 0.33 & 0.33)\n",
    "        =0\n",
    "- rule7 =MIN(μKurang & μSangat Aktif &μDibawahStandar)\n",
    "        =MIN(0 & 0.25 & 0)\n",
    "        =0\n",
    "- rule8 =MIN(μKurang & μSangat Aktif &μStandar)\n",
    "        =MIN(0 & 0.25 & 0)\n",
    "        =0\n",
    "- rule9 =MIN(μKurang & μSangat Aktif &μDiatasStandar)\n",
    "        =MIN(0 & 0.25 & 0.33)\n",
    "        =0\n",
    "- rule10=MIN(μCukup & μPasif &μDibawahStandar)\n",
    "        =MIN(0.33 & 0 & 0)\n",
    "        =0\n",
    "- rule11=MIN(μCukup & μPasif &μStandar)\n",
    "        =MIN(0.33 & 0 & 0)\n",
    "        =0\n",
    "- rule12=MIN(μCukup & μPasif &μDiatasStandar)\n",
    "        =MIN(0.33 & 0 & 0.33)\n",
    "        =0\n",
    "- rule13=MIN(μCukup & μAktif &μDibawahStandar)\n",
    "        =MIN(0.33 & 0.33 & 0)\n",
    "        =0\n",
    "- rule14=MIN(μCukup & μAktif &μStandar)\n",
    "        =MIN(0.33 & 0.33 & 0)\n",
    "        =0\n",
    "- rule15=MIN(μCukup & μAktif &μDiatasStandar)\n",
    "        =MIN(0.33 & 0.33 & 0.33)\n",
    "        =0.33\n",
    "- rule16=MIN(μCukup & μSangatAktif &μDibawahStandar)\n",
    "        =MIN(0.33 & 0.25 & 0)\n",
    "        =0\n",
    "- rule17=MIN(μCukup & μSangatAktif &μStandar)\n",
    "        =MIN(0.33 & 0.25 & 0)\n",
    "        =0\n",
    "- rule18=MIN(μCukup & μSangatAktif &μDiatasStandar)\n",
    "        =MIN(0.33 & 0.25 & 0.33)\n",
    "        =0.25\n",
    "- rule19=MIN(μBaik & μPasif &μDibawahStandar)\n",
    "        =MIN(0.25 & 0 & 0)\n",
    "        =0\n",
    "- rule20=MIN(μBaik & μPasif &μStandar)\n",
    "        =MIN(0.25 & 0 & 0)\n",
    "        =0 \n",
    "- rule21=MIN(μBaik & μPasiif &μDiatasStandar)\n",
    "        =MIN(0.25 & 0 & 0.33)\n",
    "        =0\n",
    "- rule22=MIN(μBaik & μAktif &μDibawahStandar)\n",
    "        =MIN(0.25 & 0.33 & 0)\n",
    "        =0\n",
    "- rule23=MIN(μBaik & μAktif &μStandar)\n",
    "        =MIN(0.25 & 0.33 & 0)\n",
    "        =0\n",
    "- rule24=MIN(μBaik & μAktif &μDiatasStandar)\n",
    "        =MIN(0.25 & 0.33 & 0.033)\n",
    "        =0.25\n",
    "- rule25=MIN(μBaik & μSangatAktif &μDibawahStandar)\n",
    "        =MIN(0.25 & 0.25 & 0)\n",
    "        =0\n",
    "- rule26=MIN(μBaik & μSangatAktif &μStandar)\n",
    "        =MIN(0.25 & 0.25 & 0)\n",
    "        =0\n",
    "- rule27=MIN(μBaik & μSangatAktif &μDiatasStandar)\n",
    "        =MIN(0.25 & 0.25 & 0.33)\n",
    "        =0.25"
   ]
  },
  {
   "cell_type": "markdown",
   "metadata": {},
   "source": [
    "# Menghitung Rule (Z)"
   ]
  },
  {
   "cell_type": "markdown",
   "metadata": {},
   "source": [
    "Setelah membandingkan ketiga nilai tersebut, Nilai dari setiap Rule tersebut akan Menjadi nilai PREDIC untuk variable Nilai Hasil Atau Variable output. Nilai PREDIC digunakan untuk mencari Nilai Z dan ketiga nilai tersebut digunakan mencari Nilai total."
   ]
  },
  {
   "cell_type": "markdown",
   "metadata": {},
   "source": [
    "#CATATAN : Untuk Rule 1 sd 14, 16,17,19 sd 23, 25 dan 26 tidak dihitung karena Nilai PREDIC pada rule tersebut adalah 0, \n",
    "karena salah satu dari perbandingan rule bernilai 0 dan tidak akan berpengaruh pada nilai hasil. \n",
    "Perhitungan total hanya menggunakan Rule 15,18,24 dan 27"
   ]
  },
  {
   "cell_type": "markdown",
   "metadata": {},
   "source": [
    "# Rule 15\n",
    "IF Nilai Akhir Cukup AND Nilai Keaktifan Aktif AND Nilai Prestasi Diatas Standar THEN Hasil Cukup Baik\n",
    "\n",
    "Lalu lihat himpunan Hasil Cukup Baik  \n",
    "$$\n",
    "    Hasil ['Cukup Baik'] = \\mu Cukup Baik(x)=\\begin{cases}\n",
    "    (x - 85)/(90 - 85) , & \\text{$ 85 \\leq x \\leq 90 $}.\\\\\n",
    "    (95 - x)/(95 - 90) , & \\text{$ 90 \\leq x \\leq 95 $}.\\\\\n",
    "  \\end{cases}\n",
    " $$\n",
    "Terdapat 2 nilai keanggotaan yang akan kita masukkan nilainya\n",
    "\n",
    "$$\n",
    "(x-85) / (90 -85) = 0.33 \\\\\n",
    "(x-85) = 1.65 \\\\ \n",
    " x = 86.65 \\\\\n",
    "$$\n",
    "\n",
    "\n",
    "$$\n",
    "(95-x) / (95 -90) = 0.33 \\\\\n",
    "(95-x) = 1.65 \\\\ \n",
    " x = 93.35\\\\\n",
    "$$\n",
    "\n",
    "Akan diambil nilai terkecil, Maka nilai Z$_1$$_5$ = 86.65\n",
    "\n",
    "\n",
    "===============================================================================================================\n",
    "\n",
    "# Rule 18 \n",
    " IF Nilai Akhir Cukup AND Nilai Keaktifan Sangat Aktif AND Nilai Prestasi Diatas Standar THEN Hasil Cukup Baik\n",
    " \n",
    " Lalu lihat himpunan Hasil Cukup Baik  \n",
    "$$\n",
    "    Hasil ['Cukup Baik'] = \\mu Cukup Baik(x)=\\begin{cases}\n",
    "    (x - 85)/(90 - 85) , & \\text{$ 85 \\leq x \\leq 90 $}.\\\\\n",
    "    (95 - x)/(95 - 90) , & \\text{$ 90 \\leq x \\leq 95 $}.\\\\\n",
    "  \\end{cases}\n",
    " $$\n",
    "Terdapat 2 nilai keanggotaan yang akan kita masukkan nilainya\n",
    "\n",
    "$$\n",
    "(x-85) / (90 -85) = 0.25 \\\\\n",
    "(x-85) = 1.25 \\\\ \n",
    " x = 86.25 \\\\\n",
    "$$\n",
    "\n",
    "\n",
    "$$\n",
    "(95-x) / (95 -90) = 0.25 \\\\\n",
    "(95-x) = 1.25 \\\\ \n",
    " x = 93.75\\\\\n",
    "$$\n",
    "\n",
    "Akan diambil nilai terkecil, Maka nilai Z$_1$$_8$ = 86.25\n",
    "\n",
    "===============================================================================================================\n",
    "\n",
    "# Rule 24 \n",
    " IF Nilai Akhir Baik AND Nilai Keaktifan Aktif AND Nilai Prestasi Diatas Standar THEN Hasil Cukup Baik\n",
    " \n",
    " Lalu lihat himpunan Hasil Cukup Baik  \n",
    "$$\n",
    "    Hasil ['Cukup Baik'] = \\mu Cukup Baik(x)=\\begin{cases}\n",
    "    (x - 85)/(90 - 85) , & \\text{$ 85 \\leq x \\leq 90 $}.\\\\\n",
    "    (95 - x)/(95 - 90) , & \\text{$ 90 \\leq x \\leq 95 $}.\\\\\n",
    "  \\end{cases}\n",
    " $$\n",
    "Terdapat 2 nilai keanggotaan yang akan kita masukkan nilainya\n",
    "\n",
    "$$\n",
    "(x-85) / (90 -85) = 0.25 \\\\\n",
    "(x-85) = 1.25 \\\\ \n",
    " x = 86.25 \\\\\n",
    "$$\n",
    "\n",
    "\n",
    "$$\n",
    "(95-x) / (95 -90) = 0.25 \\\\\n",
    "(95-x) = 1.25 \\\\ \n",
    " x = 93.75\\\\\n",
    "$$\n",
    "\n",
    "Akan diambil nilai terkecil, Maka nilai Z$_2$$_4$ = 86.25\n",
    "\n",
    "===============================================================================================================\n",
    "\n",
    "# Rule 27 \n",
    " IF Nilai Akhir Baik AND Nilai Keaktifan Sangat Aktif AND Nilai Prestasi Diatas Standar THEN Hasil Sangat Baik\n",
    " \n",
    " Lalu lihat himpunan Hasil Sangat Baik  \n",
    "$$\n",
    "    Hasil ['Sangat Baik'] = \\mu Sangat Baik(x)=\\begin{cases}\n",
    "    (x - 90)/(100 - 90) , & \\text{$ 90 \\leq x \\leq 100 $}.\\\\\n",
    "    1 , & \\text{$ x \\geq 100 $}.\\\\\n",
    "  \\end{cases}\n",
    " $$\n",
    "Terdapat 1 nilai keanggotaan yang akan kita masukkan nilainya\n",
    "\n",
    "$$\n",
    "(x-90) / (100 -90) = 0.25 \\\\\n",
    "(x-90) = 2.5 \\\\ \n",
    " x = 92.5 \\\\\n",
    "$$\n",
    "\n",
    "Maka nilai Z$_2$$_7$= 92.5\n"
   ]
  },
  {
   "cell_type": "markdown",
   "metadata": {},
   "source": [
    "Dari sini kita dapat mencari nilai z, yaitu :"
   ]
  },
  {
   "cell_type": "markdown",
   "metadata": {},
   "source": [
    "Z =$$ \\frac{\\alpha predikat_1 \\times Z_1 +\n",
    "\\alpha predikat_2 \\times Z_2 +\n",
    "\\alpha predikat_3 \\times Z_3 +\n",
    "\\alpha predikat_4 \\times Z_4 +\n",
    "\\alpha predikat_5 \\times Z_5 +\n",
    "\\alpha predikat_6 \\times Z_6 +\n",
    "\\alpha predikat_7 \\times Z_7 +\n",
    "\\alpha predikat_8 \\times Z_8 +\n",
    "\\alpha predikat_9 \\times Z_9 +\n",
    "\\alpha predikat_1\\,_0 \\times Z_1\\,_0 +\n",
    "\\alpha predikat_1\\,_1 \\times Z_1\\,_1 +\n",
    "\\alpha predikat_1\\,_2 \\times Z_1\\,_2 +\n",
    "\\alpha predikat_1\\,_3 \\times Z_1\\,_3 +\n",
    "\\alpha predikat_1\\,_4 \\times Z_1\\,_4 +\n",
    "\\alpha predikat_1\\,_5 \\times Z_1\\,_5 +\n",
    "\\alpha predikat_1\\,_6 \\times Z_1\\,_6 +\n",
    "\\alpha predikat_1\\,_7 \\times Z_1\\,_7 +\n",
    "\\alpha predikat_1\\,_8 \\times Z_1\\,_8 +\n",
    "\\alpha predikat_1\\,_9 \\times Z_1\\,_9 +\n",
    "\\alpha predikat_2\\,_0 \\times Z_2\\,_0 +\n",
    "\\alpha predikat_2\\,_1 \\times Z_2\\,_1 +\n",
    "\\alpha predikat_2\\,_2 \\times Z_2\\,_2 +\n",
    "\\alpha predikat_2\\,_3 \\times Z_2\\,_3 +\n",
    "\\alpha predikat_2\\,_4 \\times Z_2\\,_4 +\n",
    "\\alpha predikat_2\\,_5 \\times Z_2\\,_5 +\n",
    "\\alpha predikat_2\\,_6 \\times Z_2\\,_6 +\n",
    "\\alpha predikat_2\\,_7 \\times Z_2\\,_7}\n",
    "{\\alpha predikat_1 + \\alpha predikat_2 +\n",
    "\\alpha predikat_3 + \\alpha predikat_4 +\n",
    "\\alpha predikat_5 + \\alpha predikat_6 +\n",
    "\\alpha predikat_7 + \\alpha predikat_8 +\n",
    "\\alpha predikat_9 + \\alpha predikat_1\\,_0 +\n",
    "\\alpha predikat_1\\,_1 + \\alpha predikat_1\\,_2\n",
    "+\\alpha predikat_1\\,_3 +\\alpha predikat_1\\,_4 +\\alpha predikat_1\\,_5\n",
    "+\\alpha predikat_1\\,_6 +\\alpha predikat_1\\,_7+\\alpha predikat_1\\,_8+\\alpha predikat_1\\,_9\n",
    "+\\alpha predikat_2\\,_0 + \\alpha predikat_2\\,_1 + \\alpha predikat_2\\,_2 +\\alpha predikat_2\\,_3 +\n",
    "\\alpha predikat_2\\,_4 + \\alpha predikat_2\\,_5 +\\alpha predikat_2\\,_6 + \\alpha predikat_2\\,_7}$$"
   ]
  },
  {
   "cell_type": "markdown",
   "metadata": {},
   "source": [
    " $$ Z = \\frac{94.9}{1.03} $$\n",
    " $$ Z = 92.13 $$"
   ]
  },
  {
   "cell_type": "markdown",
   "metadata": {},
   "source": [
    "untuk output pertama python (komputasi) memiliki nilai sebesar 93.49 , sedangkan dengan penghitungan manual memilki nilai 92.13 . selisih antara hitungan manual python dengan penghitungan komputasi sebesar 1.36 \n"
   ]
  },
  {
   "cell_type": "markdown",
   "metadata": {},
   "source": [
    "<div class = \"alert alert-success\" role = \"alert\">\n",
    "<b> HASIL</b>:\n",
    "<ul>\n",
    "     untuk output pertama python (komputasi) memiliki nilai sebesar 93.49 , sedangkan dengan penghitungan manual memilki nilai 92.13 . selisih antara hitungan manual python dengan penghitungan komputasi sebesar 1.36 </li>\n",
    "</ul>\n",
    "</div>"
   ]
  },
  {
   "cell_type": "markdown",
   "metadata": {},
   "source": [
    " <div class=\"alert alert-warning\">\n",
    "<div>\n",
    "    \n",
    "# Referensi\n",
    "\n",
    "## Paper \n",
    "* Judul   : KAJIAN PENERAPAN METODE LOGIKA FUZZY DALAM MENENTUKAN MAHASISWA TERBAIK. \n",
    "* Penulis : Andi Saryoko\n",
    "* Jurnal  : Jurnal Pilar Nusa Mandiri "
   ]
  }
 ],
 "metadata": {
  "kernelspec": {
   "display_name": "Python 3",
   "language": "python",
   "name": "python3"
  },
  "language_info": {
   "codemirror_mode": {
    "name": "ipython",
    "version": 3
   },
   "file_extension": ".py",
   "mimetype": "text/x-python",
   "name": "python",
   "nbconvert_exporter": "python",
   "pygments_lexer": "ipython3",
   "version": "3.7.3"
  }
 },
 "nbformat": 4,
 "nbformat_minor": 2
}
