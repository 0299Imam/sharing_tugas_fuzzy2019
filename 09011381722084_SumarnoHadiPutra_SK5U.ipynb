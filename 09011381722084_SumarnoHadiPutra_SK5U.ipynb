{
 "cells": [
  {
   "cell_type": "markdown",
   "metadata": {},
   "source": [
    "> # NAMA  : SUMARNO HADIPUTRA\n",
    "# NIM      : 09011381722084\n",
    "# KELAS : SK 5 Bukit\n",
    "### Artifical Intelligence"
   ]
  },
  {
   "cell_type": "markdown",
   "metadata": {},
   "source": [
    "## SISTEM LOGIKA FUZZY DALAM MENENTUKAN HARGA PENJUALAN TANAH UNTUK PEMBANGUNAN MINIMARKET"
   ]
  },
  {
   "cell_type": "markdown",
   "metadata": {},
   "source": [
    "Setiap tahun semakin banyak minimarket yang didirikan. Banyaknya minimarket yang semakin ramai membuat harga tanah untuk mendirikan minimarket semakin meningkat.  Nilai penjualan harga tanah tergantung pada dilihat dari luas tanah dan jarak dari minimarket lain. Berkembangnya minimarket juga didukung dengan ketersediaan luas tanah. Luas tanah untuk mendirikan minimarket memiliki kriteria-kriteria untuk menentukan harga pasaran dari tanah tersebut. \n",
    "\n",
    "Dalam perhitungan menentukan harga tanah tersebut, diperlukan kriteria-kriteria tertentu seperti luas tanah, Jarak (jauh dekat dengan minimarket yang sudah ada), dan lain sebagainya. "
   ]
  },
  {
   "cell_type": "code",
   "execution_count": 1,
   "metadata": {},
   "outputs": [],
   "source": [
    "import numpy as np\n",
    "import skfuzzy as fuzz\n",
    "import matplotlib.pyplot as plt\n",
    "from skfuzzy import control as ctrl"
   ]
  },
  {
   "cell_type": "markdown",
   "metadata": {},
   "source": [
    "Dari box diatas dijelaskan untuk mengimport numpy sebagai np range nya dan skfuzzy sebagai fuzzy dalam codingan nya\n",
    "seta matplotlib nya sebagai untuk menggeplot grafik nya"
   ]
  },
  {
   "cell_type": "markdown",
   "metadata": {},
   "source": [
    "# Fuzzyfikasi\n",
    "\n",
    "Dari permasalahan menentukan harga penjualan tanah untuk pembangunan minimarket\n",
    "dapat kita tentukan : \n",
    "\n",
    "Variable (Luas Tanah, Jarak, dan Harga Tanah)"
   ]
  },
  {
   "cell_type": "code",
   "execution_count": 2,
   "metadata": {},
   "outputs": [],
   "source": [
    "luastanah = ctrl.Antecedent(np.arange(0, 300,1), 'luastanah')\n",
    "luastanah_x = np.arange(0, 300,1)\n",
    "jarak = ctrl.Antecedent(np.arange(0, 800,1), 'jarak')\n",
    "jarak_x = np.arange(0, 800,1)\n",
    "harga = ctrl.Consequent(np.arange(0, 310,1), 'harga')\n",
    "harga_x = np.arange(0, 310,1)"
   ]
  },
  {
   "cell_type": "markdown",
   "metadata": {},
   "source": [
    "-diatas menjelaskan luas tanah dan jarak sebagai inputan (Antencedent) :\n",
    "\n",
    "range dari luas tanah dari 0 sampai 300\n",
    "\n",
    "range dari jarak dari 0 sampai 800\n",
    "\n",
    "-sedangkan harga sebagai Outputan nya (Consequent) :\n",
    "\n",
    "range dari harga dari 0 sampai 310  \n",
    "   "
   ]
  },
  {
   "cell_type": "markdown",
   "metadata": {},
   "source": [
    "Dan untuk menjadi 2 Inputan dari data diatas : Luas Tanah dan Jarak\n"
   ]
  },
  {
   "cell_type": "markdown",
   "metadata": {},
   "source": [
    "## a. Luas Tanah\n",
    "\n",
    "Variabel Inputan :\n",
    "   \n",
    "|Input||Luas Tanah|\n",
    "|----|------------|---------|-----|\n",
    "|Kecil||100 M|-|150 M|\n",
    "|Sedang||150 M|-|200 M|\n",
    "|Besar||200 M|-|300 M|\n",
    "\n",
    "M yaitu : METER\n",
    "\n",
    "   ### 1. Luas Tanah kecil\n",
    "   \n",
    "   fungsi keanggotaan luas tanah kecil\n",
    "     \n",
    "    \n",
    "\\begin{equation}\n",
    "  \\mu luasKECIL(x)=\\begin{cases}\n",
    "        1, & \\text{$x\\leq100$}.\\\\\n",
    "    (150 - x)/(150 - 100) , & \\text{$100 \\leq x \\leq 150$}.\\\\\n",
    "    0, & \\text{$x\\geq 150\n",
    "    $}.\n",
    "  \\end{cases}\n",
    "\\end{equation}\n",
    "\n"
   ]
  },
  {
   "cell_type": "markdown",
   "metadata": {},
   "source": [
    "Persamaan diatas untuk luas tanah kecil \n",
    "\n",
    "dan Plotting dibawah ini menunjukkan Membership function dari luas tanah kecil menggunakan fuzzy.trap(trapesium) \n",
    "\n",
    "dengan plot membership function berwarna biru\n",
    "\n",
    "dari range luas tanah kecil 100 sampai 150 "
   ]
  },
  {
   "cell_type": "code",
   "execution_count": 3,
   "metadata": {},
   "outputs": [],
   "source": [
    "luastanah['kecil'] = fuzz.trapmf(luastanah.universe, [0, 0, 100, 150])"
   ]
  },
  {
   "cell_type": "code",
   "execution_count": 4,
   "metadata": {},
   "outputs": [
    {
     "data": {
      "text/plain": [
       "Text(0.5,1,'luas tanah kecil')"
      ]
     },
     "execution_count": 4,
     "metadata": {},
     "output_type": "execute_result"
    },
    {
     "data": {
      "image/png": "[encoded data removed]",
      "text/plain": [
       "<matplotlib.figure.Figure at 0x1a46f59e358>"
      ]
     },
     "metadata": {},
     "output_type": "display_data"
    }
   ],
   "source": [
    "luastanah_kecil = fuzz.trapmf(luastanah_x,[0,0,100,150])\n",
    "fig, (ax0) = plt.subplots(nrows=1,figsize=(6,6))\n",
    "ax0.plot(luastanah_x,luastanah_kecil,'blue')\n",
    "ax0.set_title('luas tanah kecil')"
   ]
  },
  {
   "cell_type": "markdown",
   "metadata": {},
   "source": [
    "### 2. Luas Tanah Sedang"
   ]
  },
  {
   "cell_type": "markdown",
   "metadata": {},
   "source": [
    "fungsi keanggotaan luas tanah sedang\n",
    "\n",
    "\\begin{equation}\n",
    "  \\mu luasSEDANG(x)=\\begin{cases}\n",
    "        0, & \\text{$x\\leq100$}.\\\\\n",
    "    (x - 100)/(150 - 100) , & \\text{$100 \\leq x \\leq 150$}.\\\\\n",
    "    (200 - x)/(200 - 150) , & \\text{$150 \\leq x \\leq 200$}.\\\\\n",
    "    0, & \\text{$x\\geq 200\n",
    "     $}.\n",
    "  \\end{cases}\n",
    " \\end{equation}"
   ]
  },
  {
   "cell_type": "markdown",
   "metadata": {},
   "source": [
    "Persamaan diatas untuk luas tanah sedang\n",
    "\n",
    "dan Plotting dibawahnya menunjukkan Membership function dari luas tanah sedang menggunakan fuzzy.trimf(triangle) \n",
    "\n",
    "dengan plot membership function bewarna orange\n",
    "\n",
    "dari range luas tanah sedang 150 sampai 200"
   ]
  },
  {
   "cell_type": "code",
   "execution_count": 5,
   "metadata": {},
   "outputs": [],
   "source": [
    "luastanah['sedang'] = fuzz.trimf(luastanah.universe, [100, 150, 200])"
   ]
  },
  {
   "cell_type": "code",
   "execution_count": 6,
   "metadata": {},
   "outputs": [
    {
     "data": {
      "text/plain": [
       "Text(0.5,1,'luas tanah sedang')"
      ]
     },
     "execution_count": 6,
     "metadata": {},
     "output_type": "execute_result"
    },
    {
     "data": {
      "image/png": "[encoded data removed]",
      "text/plain": [
       "<matplotlib.figure.Figure at 0x1a46f86af28>"
      ]
     },
     "metadata": {},
     "output_type": "display_data"
    }
   ],
   "source": [
    "luastanah_sedang = fuzz.trimf(luastanah_x,[100,150,200])\n",
    "fig, (ax0) = plt.subplots(nrows=1,figsize=(6,6))\n",
    "ax0.plot(luastanah_x,luastanah_sedang,'orange')\n",
    "ax0.set_title('luas tanah sedang')"
   ]
  },
  {
   "cell_type": "markdown",
   "metadata": {},
   "source": [
    "### 3. Luas Tanah Besar"
   ]
  },
  {
   "cell_type": "markdown",
   "metadata": {},
   "source": [
    "fungsi keanggotaan luas tanah besar\n",
    "\n",
    "\\begin{equation}\n",
    "\\mu luasBESAR(x)=\\begin{cases}\n",
    "        1, & \\text{$x\\geq200$}.\\\\\n",
    "    (x - 150)/(200 - 150) , & \\text{$150 \\leq x \\leq 200$}.\\\\\n",
    "    0, & \\text{$x\\leq 150$}.\n",
    "  \\end{cases}\n",
    "\\end{equation}"
   ]
  },
  {
   "cell_type": "markdown",
   "metadata": {},
   "source": [
    "Persamaan diatas untuk luas tanah besar\n",
    "\n",
    "dan Plotting dibawah menunjukkan Membership function dari luas tanah besar menggunakan fuzzy.trapmf (trapesium) \n",
    "\n",
    "dengan plot membership function bewarna hijau\n",
    "\n",
    "dari range luas tanah besar 200 sampai 300"
   ]
  },
  {
   "cell_type": "code",
   "execution_count": 7,
   "metadata": {},
   "outputs": [],
   "source": [
    "luastanah['besar'] = fuzz.trapmf(luastanah.universe, [150, 200, 300, 300])"
   ]
  },
  {
   "cell_type": "code",
   "execution_count": 8,
   "metadata": {},
   "outputs": [
    {
     "data": {
      "text/plain": [
       "Text(0.5,1,'luas tanah besar')"
      ]
     },
     "execution_count": 8,
     "metadata": {},
     "output_type": "execute_result"
    },
    {
     "data": {
      "image/png": "[encoded data removed]",
      "text/plain": [
       "<matplotlib.figure.Figure at 0x1a46f92e128>"
      ]
     },
     "metadata": {},
     "output_type": "display_data"
    }
   ],
   "source": [
    "luastanah_besar = fuzz.trapmf(luastanah_x,[150, 200, 300, 300])\n",
    "fig, (ax0) = plt.subplots(nrows=1,figsize=(6,6))\n",
    "ax0.plot(luastanah_x,luastanah_besar,'green')\n",
    "ax0.set_title('luas tanah besar')"
   ]
  },
  {
   "cell_type": "markdown",
   "metadata": {},
   "source": [
    "Input Variabel Luas tanah dari domain :\n",
    "(Kecil[100], Sedang[150], Besar[200]) \n"
   ]
  },
  {
   "cell_type": "code",
   "execution_count": 9,
   "metadata": {},
   "outputs": [
    {
     "name": "stderr",
     "output_type": "stream",
     "text": [
      "C:\\Users\\User\\Anaconda3\\lib\\site-packages\\matplotlib\\figure.py:418: UserWarning: matplotlib is currently using a non-GUI backend, so cannot show the figure\n",
      "  \"matplotlib is currently using a non-GUI backend, \"\n"
     ]
    },
    {
     "data": {
      "image/png": "[encoded data removed]",
      "text/plain": [
       "<matplotlib.figure.Figure at 0x1a46f87d860>"
      ]
     },
     "metadata": {},
     "output_type": "display_data"
    }
   ],
   "source": [
    "luastanah.view()"
   ]
  },
  {
   "cell_type": "markdown",
   "metadata": {},
   "source": [
    "Membership function diatas Plotting ke tiga keanggotan luas tanah (kecil, sedang, besar)"
   ]
  },
  {
   "cell_type": "markdown",
   "metadata": {},
   "source": [
    "Dan Gambar Grafik diatas menunjukkan fungsi keanggotaan luas tanah :\n",
    "\n",
    "\n",
    "    -pada garis BIRU menunjukkan LUAS TANAH KECIL (100)\n",
    "    -pada garis ORANYE menunjukkan LUAS TANAH SEDANG (150)\n",
    "    -pada garis HIJAU menunjukkan LUAS TANAH BESAR (200)"
   ]
  },
  {
   "cell_type": "markdown",
   "metadata": {},
   "source": [
    "## b. Jarak\n",
    "\n",
    "Variabel Inputan :\n",
    "            \n",
    "            \n",
    "|Input||JARAK|\n",
    "|----|------------|---------|-----|\n",
    "|Dekat||300|-|500|\n",
    "|Sedang||500|-|750|\n",
    "|Jauh||750|-|800|\n",
    "\n",
    "                         \n",
    "Jarak, yaitu : Jarak jauh dekat minimarket yang sudah ada\n",
    "\n",
    "### 1. Jarak dekat \n",
    "\n",
    "fungsi keanggotaan jarak dekat\n",
    "\n",
    "   \\begin{equation}\n",
    "  \\mu jarakDEKAT(x)=\\begin{cases}\n",
    "        1, & \\text{$x\\leq300$}.\\\\\n",
    "    (500 - x)/(500 - 300) , & \\text{$300 \\leq x \\leq 500$}.\\\\\n",
    "    0, & \\text{$x\\geq 500\n",
    "    $}.\n",
    "  \\end{cases}\n",
    "\\end{equation}\n",
    "  \n",
    "\n",
    "Persamaan diatas untuk jarak dekat \n",
    "\n",
    "dan Plotting dibawah ini menunjukkan Membership function dari jarak dekat menggunakan fuzzy.trapmf(trapesium) \n",
    "\n",
    "dengan plot membership function berwarna merah\n",
    "\n",
    "dari range jarak dekat 300 sampai 500\n"
   ]
  },
  {
   "cell_type": "code",
   "execution_count": 10,
   "metadata": {},
   "outputs": [],
   "source": [
    "jarak['dekat'] = fuzz.trapmf(jarak.universe, [0, 0, 300, 500])"
   ]
  },
  {
   "cell_type": "code",
   "execution_count": 11,
   "metadata": {},
   "outputs": [
    {
     "data": {
      "text/plain": [
       "Text(0.5,1,'Jarak Dekat')"
      ]
     },
     "execution_count": 11,
     "metadata": {},
     "output_type": "execute_result"
    },
    {
     "data": {
      "image/png": "[encoded data removed]",
      "text/plain": [
       "<matplotlib.figure.Figure at 0x1a46f87da20>"
      ]
     },
     "metadata": {},
     "output_type": "display_data"
    }
   ],
   "source": [
    "jarak_dekat = fuzz.trapmf(jarak_x,[0, 0, 300, 500])\n",
    "fig, (ax0) = plt.subplots(nrows=1,figsize=(6,6))\n",
    "ax0.plot(jarak_x,jarak_dekat,'red')\n",
    "ax0.set_title('Jarak Dekat')"
   ]
  },
  {
   "cell_type": "markdown",
   "metadata": {},
   "source": [
    "### 2. Jarak Sedang\n",
    "\n",
    "fungsi keanggotaan jarak sedang\n",
    "\n",
    "\n",
    "\\begin{equation}\n",
    "\\mu jarakSEDANG(x)=\\begin{cases}\n",
    "        0, & \\text{$x\\leq300$}.\\\\\n",
    "    (x - 300)/(500 - 300) , & \\text{$300 \\leq x \\leq 500$}.\\\\\n",
    "    (750 - x)/(750 - 500) , & \\text{$500 \\leq x \\leq 750$}.\\\\\n",
    "    0, & \\text{$x\\geq 750\n",
    "     $}.\n",
    "  \\end{cases}\n",
    "  \\end{equation}\n",
    "\n",
    "\n",
    "\n",
    "Persamaan diatas untuk jarak sedang\n",
    "\n",
    "dan Plotting dibawahnya menunjukkan Membership function dari jarak sedang menggunakan fuzzy.trimf(triangle) \n",
    "\n",
    "dengan plot membership function bewarna biru\n",
    "\n",
    "dari range jarak sedang 500 sampai 750\n",
    "  "
   ]
  },
  {
   "cell_type": "code",
   "execution_count": 12,
   "metadata": {},
   "outputs": [],
   "source": [
    "jarak['sedang'] = fuzz.trimf(jarak.universe, [300, 500, 750])"
   ]
  },
  {
   "cell_type": "code",
   "execution_count": 13,
   "metadata": {},
   "outputs": [
    {
     "data": {
      "text/plain": [
       "Text(0.5,1,'Jarak Sedang')"
      ]
     },
     "execution_count": 13,
     "metadata": {},
     "output_type": "execute_result"
    },
    {
     "data": {
      "image/png": "[encoded data removed]",
      "text/plain": [
       "<matplotlib.figure.Figure at 0x1a470a79470>"
      ]
     },
     "metadata": {},
     "output_type": "display_data"
    }
   ],
   "source": [
    "jarak_sedang = fuzz.trimf(jarak_x,[300, 500, 750])\n",
    "fig, (ax0) = plt.subplots(nrows=1,figsize=(6,6))\n",
    "ax0.plot(jarak_x,jarak_sedang,'blue')\n",
    "ax0.set_title('Jarak Sedang')"
   ]
  },
  {
   "cell_type": "markdown",
   "metadata": {},
   "source": [
    "### 3. Jarak Jauh\n",
    "\n",
    "fungsi keanggotaan jarak jauh\n",
    "\n",
    "\\begin{equation}\n",
    "    \\mu jarakJAUH(x)=\\begin{cases}\n",
    "        1, & \\text{$x\\geq750$}.\\\\\n",
    "    (x - 500)/(750 - 500) , & \\text{$500 \\leq x \\leq 750$}.\\\\\n",
    "    0, & \\text{$x\\leq 500$}.\n",
    "  \\end{cases}\n",
    "\\end{equation}\n",
    "\n",
    "\n",
    "\n",
    "Persamaan diatas untuk jarak jauh\n",
    "\n",
    "dan Plotting dibawahnya menunjukkan Membership function dari jarak jauh menggunakan fuzzy.trapmf(trapesium) \n",
    "\n",
    "dengan plot membership function bewarna hijau\n",
    "\n",
    "dari range jarak jauh 750 sampai 800\n",
    "  \n"
   ]
  },
  {
   "cell_type": "code",
   "execution_count": 14,
   "metadata": {},
   "outputs": [],
   "source": [
    "jarak['jauh'] = fuzz.trapmf(jarak.universe, [500, 750, 800, 800])"
   ]
  },
  {
   "cell_type": "code",
   "execution_count": 15,
   "metadata": {},
   "outputs": [
    {
     "data": {
      "text/plain": [
       "Text(0.5,1,'Jarak Jauh')"
      ]
     },
     "execution_count": 15,
     "metadata": {},
     "output_type": "execute_result"
    },
    {
     "data": {
      "image/png": "[encoded data removed]",
      "text/plain": [
       "<matplotlib.figure.Figure at 0x1a470ad6710>"
      ]
     },
     "metadata": {},
     "output_type": "display_data"
    }
   ],
   "source": [
    "jarak_jauh = fuzz.trapmf(jarak_x,[500, 750, 800, 800])\n",
    "fig, (ax0) = plt.subplots(nrows=1,figsize=(6,6))\n",
    "ax0.plot(jarak_x,jarak_jauh,'green')\n",
    "ax0.set_title('Jarak Jauh')"
   ]
  },
  {
   "cell_type": "markdown",
   "metadata": {},
   "source": [
    "Input untuk Variabel jarak dari domain :\n",
    "(dekat[300], sedang[500], Jauh[750]) "
   ]
  },
  {
   "cell_type": "code",
   "execution_count": 16,
   "metadata": {},
   "outputs": [
    {
     "name": "stderr",
     "output_type": "stream",
     "text": [
      "C:\\Users\\User\\Anaconda3\\lib\\site-packages\\matplotlib\\figure.py:418: UserWarning: matplotlib is currently using a non-GUI backend, so cannot show the figure\n",
      "  \"matplotlib is currently using a non-GUI backend, \"\n"
     ]
    },
    {
     "data": {
      "image/png": "[encoded data removed]",
      "text/plain": [
       "<matplotlib.figure.Figure at 0x1a470a87710>"
      ]
     },
     "metadata": {},
     "output_type": "display_data"
    }
   ],
   "source": [
    "jarak.view()"
   ]
  },
  {
   "cell_type": "markdown",
   "metadata": {},
   "source": [
    "Membership function untuk Plotting ke tiga keanggotan jarak diatas"
   ]
  },
  {
   "cell_type": "markdown",
   "metadata": {},
   "source": [
    "Dan Gambar Grafik diatas menunjukkan fungsi keanggotaan jarak :\n",
    "\n",
    "\n",
    "    -pada garis BIRU menunjukkan JARAK DEKAT (300 M)\n",
    "    -pada garis ORANYE menunjukkan JARAK SEDANG (500 M)\n",
    "    -pada garis HIJAU menunjukkan JARAK JAUH (750 M)"
   ]
  },
  {
   "cell_type": "markdown",
   "metadata": {},
   "source": [
    "## C. Harga\n",
    "\n",
    "Variabel Output\n",
    "\n",
    "|Output||Harga|\n",
    "|----|------------|---------|-----|\n",
    "|Murah||200 jt|-|250 jt|\n",
    "|Sedang||250 jt|-|300 jt|\n",
    "|Mahal||300 jt|-|310 jt|\n",
    "\n",
    "Jt, yaitu : Juta\n",
    "\n",
    "### 1. Harga Murah\n"
   ]
  },
  {
   "cell_type": "markdown",
   "metadata": {},
   "source": [
    "Fungsi Keanggotaan dari Harga Murah :\n",
    "    \\begin{equation}\n",
    "  \\mu hargaMURAH(x)=\\begin{cases}\n",
    "        1, & \\text{$x\\leq200$}.\\\\\n",
    "    (250 - x)/(250 - 200) , & \\text{$200 \\leq x \\leq 250$}.\\\\\n",
    "    0, & \\text{$x\\geq 250\n",
    "    $}.\n",
    "  \\end{cases}\n",
    "\\end{equation}\n",
    "\n",
    "Persamaan diatas untuk Harga Murah\n",
    "\n",
    "dan Plotting dibawahnya menunjukkan Membership function dari Harga Murah menggunakan fuzzy.trapmf(trapesium) \n",
    "\n",
    "dengan plot membership function bewarna biru\n",
    "\n",
    "dari range Harga Murah 200 sampai 250\n"
   ]
  },
  {
   "cell_type": "code",
   "execution_count": 17,
   "metadata": {},
   "outputs": [],
   "source": [
    "harga['murah'] = fuzz.trapmf(harga.universe, [0, 0, 200, 250])"
   ]
  },
  {
   "cell_type": "code",
   "execution_count": 18,
   "metadata": {
    "scrolled": false
   },
   "outputs": [
    {
     "data": {
      "text/plain": [
       "Text(0.5,1,'Harga Murah')"
      ]
     },
     "execution_count": 18,
     "metadata": {},
     "output_type": "execute_result"
    },
    {
     "data": {
      "image/png": "[encoded data removed]",
      "text/plain": [
       "<matplotlib.figure.Figure at 0x1a470bea0f0>"
      ]
     },
     "metadata": {},
     "output_type": "display_data"
    }
   ],
   "source": [
    "harga_murah = fuzz.trapmf(harga_x,[0, 0, 200, 250])\n",
    "fig, (ax0) = plt.subplots(nrows=1,figsize=(6,6))\n",
    "ax0.plot(harga_x,harga_murah,'blue')\n",
    "ax0.set_title('Harga Murah')"
   ]
  },
  {
   "cell_type": "markdown",
   "metadata": {},
   "source": [
    "### 2. Harga Sedang\n",
    "\n",
    "Fungsi Keanggotaan dari Harga Sedang :\n",
    "\n",
    "\\begin{equation}\n",
    "\\mu hargaSEDANG(x)=\\begin{cases}\n",
    "        0, & \\text{$x\\leq200$}.\\\\\n",
    "    (x - 200)/(250 - 200) , & \\text{$200 \\leq x \\leq 250$}.\\\\\n",
    "    (300 - x)/(300 - 250) , & \\text{$250 \\leq x \\leq 300$}.\\\\\n",
    "    0, & \\text{$x\\geq 300\n",
    "     $}.\n",
    "  \\end{cases}\n",
    "\\end{equation}\n",
    "\n",
    "Persamaan diatas untuk Harga Sedang\n",
    "\n",
    "dan Plotting dibawahnya menunjukkan Membership function dari Harga Sedang menggunakan fuzzy.trimf(triangle)\n",
    "\n",
    "dengan plot membership function bewarna Kuning\n",
    "\n",
    "dari range jarak jauh 250 sampai 300"
   ]
  },
  {
   "cell_type": "code",
   "execution_count": 19,
   "metadata": {},
   "outputs": [],
   "source": [
    "harga['sedang'] = fuzz.trimf(harga.universe, [200, 250, 300])"
   ]
  },
  {
   "cell_type": "code",
   "execution_count": 20,
   "metadata": {
    "scrolled": false
   },
   "outputs": [
    {
     "data": {
      "text/plain": [
       "Text(0.5,1,'Harga Sedang')"
      ]
     },
     "execution_count": 20,
     "metadata": {},
     "output_type": "execute_result"
    },
    {
     "data": {
      "image/png": "[encoded data removed]",
      "text/plain": [
       "<matplotlib.figure.Figure at 0x1a470c310b8>"
      ]
     },
     "metadata": {},
     "output_type": "display_data"
    }
   ],
   "source": [
    "harga_sedang = fuzz.trimf(harga_x,[200, 250, 300])\n",
    "fig, (ax0) = plt.subplots(nrows=1,figsize=(6,6))\n",
    "ax0.plot(harga_x,harga_sedang,'yellow')\n",
    "ax0.set_title('Harga Sedang')"
   ]
  },
  {
   "cell_type": "markdown",
   "metadata": {},
   "source": [
    "### 3. Harga Mahal\n",
    "\n",
    "Fungsi Keanggotaan dari Harga Mahal :\n",
    "\n",
    "\\begin{equation}\n",
    "\\mu hargaMAHAL(x)=\\begin{cases}\n",
    "        1, & \\text{$x\\geq300$}.\\\\\n",
    "    (x - 250)/(300 - 250) , & \\text{$250 \\leq x \\leq 300$}.\\\\\n",
    "    0, & \\text{$x\\leq 250$}.\n",
    "  \\end{cases}\n",
    "\\end{equation}\n",
    "\n",
    "Persamaan diatas untuk Harga Mahal\n",
    "\n",
    "dan Plotting dibawahnya menunjukkan Membership function dari Harga Mahal menggunakan fuzzy.trapmf(trapesium)\n",
    "\n",
    "dengan plot membership function bewarna merah\n",
    "\n",
    "dari range Harga Mahal 300 sampai 310"
   ]
  },
  {
   "cell_type": "code",
   "execution_count": 21,
   "metadata": {},
   "outputs": [],
   "source": [
    "harga['mahal'] = fuzz.trapmf(harga.universe, [250, 300, 310 ,310])"
   ]
  },
  {
   "cell_type": "code",
   "execution_count": 22,
   "metadata": {},
   "outputs": [
    {
     "data": {
      "text/plain": [
       "Text(0.5,1,'Harga Mahal')"
      ]
     },
     "execution_count": 22,
     "metadata": {},
     "output_type": "execute_result"
    },
    {
     "data": {
      "image/png": "[encoded data removed]",
      "text/plain": [
       "<matplotlib.figure.Figure at 0x1a470c70940>"
      ]
     },
     "metadata": {},
     "output_type": "display_data"
    }
   ],
   "source": [
    "harga_mahal = fuzz.trapmf(harga_x,[250, 300, 310, 310])\n",
    "fig, (ax0) = plt.subplots(nrows=1,figsize=(6,6))\n",
    "ax0.plot(harga_x,harga_mahal,'red')\n",
    "ax0.set_title('Harga Mahal')"
   ]
  },
  {
   "cell_type": "markdown",
   "metadata": {},
   "source": [
    "Output untuk Variabel Harga dari domain :\n",
    "(Murah[200], sedang[250], Mahal[300]) "
   ]
  },
  {
   "cell_type": "code",
   "execution_count": 23,
   "metadata": {},
   "outputs": [
    {
     "name": "stderr",
     "output_type": "stream",
     "text": [
      "C:\\Users\\User\\Anaconda3\\lib\\site-packages\\matplotlib\\figure.py:418: UserWarning: matplotlib is currently using a non-GUI backend, so cannot show the figure\n",
      "  \"matplotlib is currently using a non-GUI backend, \"\n"
     ]
    },
    {
     "data": {
      "image/png": "[encoded data removed]",
      "text/plain": [
       "<matplotlib.figure.Figure at 0x1a470b977f0>"
      ]
     },
     "metadata": {},
     "output_type": "display_data"
    }
   ],
   "source": [
    "harga.view()"
   ]
  },
  {
   "cell_type": "markdown",
   "metadata": {},
   "source": [
    "Membership function untuk Plotting ke tiga keanggotan Harga diatas :"
   ]
  },
  {
   "cell_type": "markdown",
   "metadata": {},
   "source": [
    "Dan Gambar Grafik diatas menunjukkan fungsi keanggotaan Harga\n",
    "\n",
    "\n",
    "    -pada garis BIRU menunjukkan HARGA MURAH (200 Jt)\n",
    "    -pada garis ORANYE menunjukkan HARGA SEDANG (250 Jt)\n",
    "    -pada garis HIJAU menunjukkan HARGA MAHAL (300 Jt)"
   ]
  },
  {
   "cell_type": "markdown",
   "metadata": {},
   "source": [
    "# RULE BASE\n",
    "\n",
    "Rule Base yang didapat dari data diatas mendapatkan 9 rule dengan variabel berbeda beda setiap rule nya"
   ]
  },
  {
   "cell_type": "markdown",
   "metadata": {},
   "source": [
    "Pada sistem ini berdasarkan jumlah fuzzifikasi dari variabel luas tanah yang berjumlah 3 dan fuzzifikasi dari variabel jarak yang berjumlah 3, maka rule base yang dibuat berjumlah 3 x 3 = 9 rule"
   ]
  },
  {
   "cell_type": "markdown",
   "metadata": {},
   "source": [
    "1, IF Luas Tanah BESAR dan Jarak JAUH THEN Harga MAHAL\n",
    "\n",
    "2, IF Luas Tanah BESAR dan Jarak SEDANG THEN Harga MAHAL\n",
    "\n",
    "3, IF Luas Tanah BESAR dan Jarak dekat THEN Harga SEDANG\n",
    "\n",
    "\n",
    "4, IF Luas Tanah SEDANG dan Jarak JAUH THEN Harga MAHAL\n",
    "\n",
    "5, IF Luas Tanah SEDANG dan Jarak SEDANG THEN Harga SEDANG\n",
    "\n",
    "6, IF Luas Tanah SEDANG dan Jarak DEKAT THEN Harga MURAH\n",
    "\n",
    "\n",
    "7, IF Luas Tanah KECIL dan Jarak JAUH THEN Harga SEDANG\n",
    "\n",
    "8, IF Luas Tanah KECIL dan Jarak SEDANG THEN Harga MURAH\n",
    "\n",
    "9, IF Luas Tanah KECIL dan Jarak DEKAT THEN Harga MURAH"
   ]
  },
  {
   "cell_type": "code",
   "execution_count": 24,
   "metadata": {},
   "outputs": [],
   "source": [
    "rule1 = ctrl.Rule(luastanah['besar'] & jarak['jauh'], harga['mahal'])\n",
    "rule2 = ctrl.Rule(luastanah['besar'] & jarak['sedang'], harga['mahal'])\n",
    "rule3 = ctrl.Rule(luastanah['besar'] & jarak['dekat'], harga['sedang'])\n",
    "rule4 = ctrl.Rule(luastanah['sedang'] & jarak['jauh'], harga['mahal'])\n",
    "rule5 = ctrl.Rule(luastanah['sedang'] & jarak['sedang'], harga['sedang'])\n",
    "rule6 = ctrl.Rule(luastanah['sedang'] & jarak['dekat'], harga['murah'])\n",
    "rule7 = ctrl.Rule(luastanah['kecil'] & jarak['jauh'], harga['sedang'])\n",
    "rule8 = ctrl.Rule(luastanah['kecil'] & jarak['sedang'], harga['murah'])\n",
    "rule9 = ctrl.Rule(luastanah['kecil'] & jarak['dekat'], harga['murah'])"
   ]
  },
  {
   "cell_type": "markdown",
   "metadata": {},
   "source": [
    "## RULE EVALUATION"
   ]
  },
  {
   "cell_type": "code",
   "execution_count": 25,
   "metadata": {},
   "outputs": [],
   "source": [
    "harga_ctrl = ctrl.ControlSystem([rule1, rule2, rule3, rule4, \n",
    "                                 rule5, rule6, rule7, rule8, rule9])"
   ]
  },
  {
   "cell_type": "markdown",
   "metadata": {},
   "source": [
    "memanggil semua rule 1 sampai rule 9"
   ]
  },
  {
   "cell_type": "markdown",
   "metadata": {},
   "source": [
    "## DEFUZZIFIKASI"
   ]
  },
  {
   "cell_type": "code",
   "execution_count": 26,
   "metadata": {},
   "outputs": [],
   "source": [
    "masukan = ctrl.ControlSystemSimulation(harga_ctrl)"
   ]
  },
  {
   "cell_type": "markdown",
   "metadata": {},
   "source": [
    "Untuk menentukan harga tanah yang didapat disini dicoba menginputkan nilai nya\n",
    "\n",
    "Untuk Luas Tanah = 180 M'\n",
    "\n",
    "Untuk Jarak = 700 M"
   ]
  },
  {
   "cell_type": "code",
   "execution_count": 27,
   "metadata": {},
   "outputs": [],
   "source": [
    "masukan.input['luastanah'] = 180\n",
    "masukan.input['jarak']     = 700"
   ]
  },
  {
   "cell_type": "markdown",
   "metadata": {},
   "source": [
    "input masukan luas tanah dan jarak dan melakukan perhitungan Defuzzifikasi"
   ]
  },
  {
   "cell_type": "code",
   "execution_count": 28,
   "metadata": {},
   "outputs": [],
   "source": [
    "masukan.compute()"
   ]
  },
  {
   "cell_type": "markdown",
   "metadata": {},
   "source": [
    "Mencetak hasil output defuzzifikasi"
   ]
  },
  {
   "cell_type": "code",
   "execution_count": 29,
   "metadata": {},
   "outputs": [
    {
     "name": "stdout",
     "output_type": "stream",
     "text": [
      "270.72252747252725\n"
     ]
    }
   ],
   "source": [
    "print(masukan.output['harga'])"
   ]
  },
  {
   "cell_type": "markdown",
   "metadata": {},
   "source": [
    "#### Plotting membership function luas tanah setelah dimasukkan input nilai pada luas tanah"
   ]
  },
  {
   "cell_type": "code",
   "execution_count": 30,
   "metadata": {},
   "outputs": [
    {
     "name": "stderr",
     "output_type": "stream",
     "text": [
      "C:\\Users\\User\\Anaconda3\\lib\\site-packages\\matplotlib\\figure.py:418: UserWarning: matplotlib is currently using a non-GUI backend, so cannot show the figure\n",
      "  \"matplotlib is currently using a non-GUI backend, \"\n"
     ]
    },
    {
     "data": {
      "image/png": "[encoded data removed]",
      "text/plain": [
       "<matplotlib.figure.Figure at 0x1a470c51438>"
      ]
     },
     "metadata": {},
     "output_type": "display_data"
    }
   ],
   "source": [
    "luastanah.view(sim=masukan)"
   ]
  },
  {
   "cell_type": "markdown",
   "metadata": {},
   "source": [
    "#### Plotting membership function jarak setelah dimasukkan input nilai pada jarak"
   ]
  },
  {
   "cell_type": "code",
   "execution_count": 31,
   "metadata": {
    "scrolled": true
   },
   "outputs": [
    {
     "name": "stderr",
     "output_type": "stream",
     "text": [
      "C:\\Users\\User\\Anaconda3\\lib\\site-packages\\matplotlib\\figure.py:418: UserWarning: matplotlib is currently using a non-GUI backend, so cannot show the figure\n",
      "  \"matplotlib is currently using a non-GUI backend, \"\n"
     ]
    },
    {
     "data": {
      "image/png": "[encoded data removed]",
      "text/plain": [
       "<matplotlib.figure.Figure at 0x1a470dc2e80>"
      ]
     },
     "metadata": {},
     "output_type": "display_data"
    }
   ],
   "source": [
    "jarak.view(sim=masukan)"
   ]
  },
  {
   "cell_type": "markdown",
   "metadata": {},
   "source": [
    "#### Plotting membership function Harga setelah dilakukan perhitungan Defuzzifikasi diatas output nilai pada Harga yang didapat"
   ]
  },
  {
   "cell_type": "code",
   "execution_count": 32,
   "metadata": {},
   "outputs": [
    {
     "name": "stderr",
     "output_type": "stream",
     "text": [
      "C:\\Users\\User\\Anaconda3\\lib\\site-packages\\matplotlib\\figure.py:418: UserWarning: matplotlib is currently using a non-GUI backend, so cannot show the figure\n",
      "  \"matplotlib is currently using a non-GUI backend, \"\n"
     ]
    },
    {
     "data": {
      "image/png": "[encoded data removed]",
      "text/plain": [
       "<matplotlib.figure.Figure at 0x1a470dc7198>"
      ]
     },
     "metadata": {},
     "output_type": "display_data"
    }
   ],
   "source": [
    "harga.view(sim=masukan)"
   ]
  },
  {
   "cell_type": "markdown",
   "metadata": {},
   "source": [
    "Jadi harga Tanah untuk pembangunan Minimarket dengan : \n",
    "\n",
    "Luas Tanah = 180 M'\n",
    "\n",
    "dan\n",
    "\n",
    "Jarak dari minimarket lain = 700 M\n",
    "\n",
    "Adalah sebesar = Rp 270,722,527\n"
   ]
  },
  {
   "cell_type": "markdown",
   "metadata": {},
   "source": [
    "# Perhitungan Manual"
   ]
  },
  {
   "cell_type": "markdown",
   "metadata": {},
   "source": [
    "\\begin{equation}\n",
    "    Luas Tanah = 180 \\\\\n",
    "    Masukkan\\,nilai\\,luas tanah\\,ke\\,dalam\\,masing-masing\\,fungsi\\,keanggotaan\\,luas tanah\\,di bawah\\, ini\\\\\n",
    "  \\mu luasKECIL(x)=\\begin{cases}\n",
    "        1, & \\text{$x\\leq100$}.\\\\\n",
    "    (150 - x)/(150 - 100) , & \\text{$100 \\leq x \\leq 150$}.\\\\\n",
    "    0, & \\text{$x\\geq 150$}.\\checkmark\\\\\n",
    "  \\end{cases}\n",
    "  \\\\\n",
    "  \\mu luasSEDANG(x)=\\begin{cases}\n",
    "        0, & \\text{$x\\leq100$}.\\\\\n",
    "    (x - 100)/(150 - 100) , & \\text{$100 \\leq x \\leq 150$}.\\\\\n",
    "    (200 - x)/(200 - 150) , & \\text{$150 \\leq x \\leq 200$}.\\checkmark\\\\\n",
    "    0, & \\text{$x\\geq 200\n",
    "     $}.\n",
    "  \\end{cases}\n",
    "  \\\\\n",
    "  \\mu luasBESAR(x)=\\begin{cases}\n",
    "        1, & \\text{$x\\geq200$}.\\\\\n",
    "    (x - 150)/(200 - 150) , & \\text{$150 \\leq x \\leq 200$}.\\checkmark\\\\\n",
    "    0, & \\text{$x\\leq 150$}.\n",
    "  \\end{cases}\n",
    "\\end{equation}"
   ]
  },
  {
   "cell_type": "markdown",
   "metadata": {},
   "source": [
    "\\begin{equation}\n",
    "    \\mu LuasSedang(180) = (200 - 180) / (250 - 150) \\\\\n",
    "    \\mu LuasSedang(180) = 20/100 \\\\ \n",
    "    \\mu LuasSedang(180) = 0.2 \\\\\n",
    "    \\mu LuasBesar(180) = (180 - 150) / (200-150) \\\\\n",
    "    \\mu LuasBesar(180) = 30/50 \\\\\n",
    "    \\mu LuasBesar(180) = 0.6 \\\\\n",
    "\\end{equation}"
   ]
  },
  {
   "cell_type": "markdown",
   "metadata": {},
   "source": [
    "\\begin{equation}\n",
    "    Jarak = 700 \\\\\n",
    "    Masukkan\\,nilai\\,jarak\\,ke\\,dalam\\,masing-masing\\,fungsi\\,keanggotaan\\,jarak\\,di bawah\\, ini\\\\\n",
    "   \\mu jarakDEKAT(x)=\\begin{cases}\n",
    "        1, & \\text{$x\\leq300$}.\\\\\n",
    "    (500 - x)/(500 - 300) , & \\text{$300 \\leq x \\leq 500$}.\\\\\n",
    "    0, & \\text{$x\\geq 500$}.\\checkmark\\\\\n",
    "  \\end{cases}\n",
    "  \\\\\n",
    "  \\mu jarakSEDANG(x)=\\begin{cases}\n",
    "        0, & \\text{$x\\leq300$}.\\\\\n",
    "    (x - 300)/(500 - 300) , & \\text{$300 \\leq x \\leq 500$}.\\\\\n",
    "    (750 - x)/(750 - 500) , & \\text{$500 \\leq x \\leq 750$}.\\checkmark\\\\\n",
    "    0, & \\text{$x\\geq 750 \n",
    "     $}.\n",
    "  \\end{cases}\n",
    "  \\\\\n",
    "    \\mu jarakJAUH(x)=\\begin{cases}\n",
    "        1, & \\text{$x\\geq750$}.\\\\\n",
    "    (x - 500)/(750 - 500) , & \\text{$500 \\leq x \\leq 750$}.\\checkmark\\\\\n",
    "    0, & \\text{$x\\leq 500$}.\n",
    "  \\end{cases}\n",
    "\\end{equation}"
   ]
  },
  {
   "cell_type": "markdown",
   "metadata": {},
   "source": [
    "\\begin{equation}\n",
    "    \\mu JarakSedang(700) = (750 - 700) / (750 - 500) \\\\\n",
    "    \\mu JarakSedang(700) = 50/250 \\\\ \n",
    "    \\mu JarakSedang(700) = 0.2 \\\\\n",
    "    \\mu JarakJauh(700) = (700 - 500) / (750-500) \\\\\n",
    "    \\mu JarakJauh(700) = 200/250 \\\\\n",
    "    \\mu JarakJauh(700) = 0.8 \\\\\n",
    "\\end{equation}"
   ]
  },
  {
   "cell_type": "markdown",
   "metadata": {},
   "source": [
    "Untuk mencari Nilai Z untuk setiap Rule dengan menggunakan fungsi MIN karena menggunakan Rule AND\n",
    "\n",
    "#### 1. IF Luas Tanah Besar AND Jarak Jauh THEN Harga Mahal\n",
    "\n",
    "$$ \\\\ \\alpha(predikat_1) = \\mu LuasTanahBesar \\cap \\mu JarakJauh $$\n",
    "$$\\alpha(predikat_1)   = min (\\mu LuasTanahBesar[180], \\mu JarakJauh[700]) $$\n",
    "$$ \\alpha(predikat_1) = min (0.6; 0.8) $$\n",
    "$$ \\alpha(predikat_1) = 0.6 $$\n",
    "\n",
    "Lalu lihat himpunan Harga Mahal \n",
    "$$\n",
    "   Harga['Mahal'] = \\mu(x)=\\begin{cases}\n",
    "        1, & \\text{$x\\geq300$}.\\\\\n",
    "    (x - 250)/(300 - 250) , & \\text{$250 \\leq x \\leq 300$}.\\\\\n",
    "    0, & \\text{$x\\leq 250$}.\n",
    "  \\end{cases}\n",
    " $$\n",
    " \n",
    " Terdapat 1 nilai keanggotaan yang akan kita masukkan nilainya\n",
    "\n",
    "$$\n",
    "(x-250) / (300-250) = 0.6 \\\\\n",
    "(x-250) = 0.6 \\times 50 \\\\ \n",
    "(x-250) = 30 \\\\\n",
    "x = 280 \\\\\n",
    "$$\n",
    "\n",
    "Maka nilai $ Z_1 = 280 $\n",
    "\n",
    "=================================================================================================================\n",
    "\n",
    "#### 2. IF Luas Tanah Besar AND Jarak Sedang THEN Harga Mahal\n",
    "\n",
    "$$ \\\\ \\alpha(predikat_2) = \\mu LuasTanahBesar \\cap \\mu JarakSedang $$\n",
    "$$\\alpha(predikat_2)   = min (\\mu LuasTanahBesar[180], \\mu JarakSedang[700]) $$\n",
    "$$ \\alpha(predikat_2) = min (0.6; 0.2) $$\n",
    "$$ \\alpha(predikat_2) = 0.2 $$\n",
    "\n",
    "Lalu lihat himpunan Harga Mahal \n",
    "$$\n",
    "   Harga['Mahal'] = \\mu(x)=\\begin{cases}\n",
    "        1, & \\text{$x\\geq300$}.\\\\\n",
    "    (x - 250)/(300 - 250) , & \\text{$250 \\leq x \\leq 300$}.\\\\\n",
    "    0, & \\text{$x\\leq 250$}.\n",
    "  \\end{cases}\n",
    " $$\n",
    " \n",
    " Terdapat 1 nilai keanggotaan yang akan kita masukkan nilainya\n",
    "\n",
    "$$\n",
    "(x-250) / (300-250) = 0.2 \\\\\n",
    "(x-250) = 0.2 \\times 50 \\\\ \n",
    "(x-250) = 10 \\\\\n",
    "x = 260 \\\\\n",
    "$$\n",
    "\n",
    "Maka nilai $ Z_2 = 260 $\n",
    "\n",
    "=================================================================================================================\n",
    "\n",
    "#### 3. IF Luas Tanah Besar AND Jarak Dekat THEN Harga Sedang\n",
    "\n",
    "$$ \\\\ \\alpha(predikat_3) = \\mu LuasTanahBesar \\cap \\mu JarakDekat $$\n",
    "$$\\alpha(predikat_3)   = min (\\mu LuasTanahBesar[180], \\mu JarakDekat[700]) $$\n",
    "$$ \\alpha(predikat_3) = min (0.6; 0) $$\n",
    "$$ \\alpha(predikat_3) = 0 $$\n",
    "\n",
    "Lalu lihat himpunan Harga Sedang \n",
    "$$\n",
    "   Harga['Sedang'] = \\mu(x)=\\begin{cases}\n",
    "       0, & \\text{$x\\leq200$}.\\\\\n",
    "    (x - 200)/(250 - 200) , & \\text{$200 \\leq x \\leq 250$}.\\\\\n",
    "    (300 - x)/(300 - 250) , & \\text{$250 \\leq x \\leq 300$}.\\\\\n",
    "    0, & \\text{$x\\geq 300\n",
    "     $}. \n",
    "  \\end{cases}\n",
    " $$\n",
    " \n",
    "Maka nilai $ Z_3 = 0 $\n",
    "\n",
    "Maka nilai keanggotaan yang memenuhi diatas adalah 0\n",
    "\n",
    "=================================================================================================================\n",
    "\n",
    "#### 4. IF Luas Tanah Sedang AND Jarak Jauh THEN Harga Mahal\n",
    "\n",
    "$$ \\\\ \\alpha(predikat_4) = \\mu LuasTanahSedang \\cap \\mu JarakJauh $$\n",
    "$$\\alpha(predikat_4)   = min (\\mu LuasTanahSedang[180], \\mu JarakJauh[700]) $$\n",
    "$$ \\alpha(predikat_4) = min (0.2; 0.8) $$\n",
    "$$ \\alpha(predikat_4) = 0.2 $$\n",
    "\n",
    "Lalu lihat himpunan Harga Mahal \n",
    "$$\n",
    "   Harga['Mahal'] = \\mu(x)=\\begin{cases}\n",
    "        1, & \\text{$x\\geq300$}.\\\\\n",
    "    (x - 250)/(300 - 250) , & \\text{$250 \\leq x \\leq 300$}.\\\\\n",
    "    0, & \\text{$x\\leq 250$}.\n",
    "  \\end{cases}\n",
    " $$\n",
    " \n",
    "Terdapat 1 nilai keanggotaan yang akan kita masukkan nilainya\n",
    "\n",
    "$$\n",
    "(x-250) / (300-250) = 0.2 \\\\\n",
    "(x-250) = 0.2 \\times 50 \\\\ \n",
    "(x-250) = 10 \\\\\n",
    "x = 260 \\\\\n",
    "$$\n",
    "\n",
    "Maka nilai $ Z_4 = 260 $\n",
    "\n",
    "=================================================================================================================\n",
    "\n",
    "#### 5. IF Luas Tanah Sedang AND Jarak Sedang THEN Harga Sedang\n",
    "\n",
    "$$ \\\\ \\alpha(predikat_5) = \\mu LuasTanahSedang \\cap \\mu JarakSedang $$\n",
    "$$\\alpha(predikat_5)   = min (\\mu LuasTanahSedang[180], \\mu JarakSedang[700]) $$\n",
    "$$ \\alpha(predikat_5) = min (0.2; 0.2) $$\n",
    "$$ \\alpha(predikat_5) = 0.2 $$\n",
    "\n",
    "Lalu lihat himpunan Harga Sedang \n",
    "$$\n",
    "   Harga['Sedang'] = \\mu(x)=\\begin{cases}\n",
    "        0, & \\text{$x\\leq200$}.\\\\\n",
    "    (x - 200)/(250 - 200) , & \\text{$200 \\leq x \\leq 250$}.\\\\\n",
    "    (300 - x)/(300 - 250) , & \\text{$250 \\leq x \\leq 300$}.\\\\\n",
    "    0, & \\text{$x\\geq 300\n",
    "     $}. \n",
    "  \\end{cases}\n",
    " $$\n",
    " \n",
    "Terdapat 2 nilai keanggotaan yang akan kita masukkan nilainya\n",
    "\n",
    "dan diuji satu persatu\n",
    "\n",
    " $$(x- 200) / (250 - 200) = 0.2 $$\n",
    " $$ x - 200 = 0.2 \\times 50 $$\n",
    " $$ x - 200 = 10 $$\n",
    " $$ x = 210 $$\n",
    " \n",
    " $$ (300 -x) / (300 -250) = 0.2 $$\n",
    " $$ (300 - x) = 0.2 \\times 50 $$\n",
    " $$ (300 - x) = 10 $$\n",
    " $$ - x = -290 $$\n",
    " $$ x = 290 $$\n",
    " \n",
    "Akan diambil nilai terkecil\n",
    "dan nilai terKecil nya adalah 210\n",
    "Maka nilai $ Z_5 = 210 $\n",
    "\n",
    "\n",
    "=================================================================================================================\n",
    "\n",
    "#### 6. IF Luas Tanah Sedang AND Jarak Dekat THEN Harga Murah\n",
    "\n",
    "$$ \\\\ \\alpha(predikat_6) = \\mu LuasTanahSedang \\cap \\mu JarakDekat $$\n",
    "$$\\alpha(predikat_6)   = min (\\mu LuasTanahSedang[180], \\mu JarakDekat[700]) $$\n",
    "$$ \\alpha(predikat_6) = min (0.2; 0) $$\n",
    "$$ \\alpha(predikat_6) = 0 $$\n",
    "\n",
    "Lalu lihat himpunan Harga Murah \n",
    "$$\n",
    "   Harga['Murah'] = \\mu(x)=\\begin{cases}\n",
    "       1, & \\text{$x\\geq300$}.\\\\\n",
    "    (x - 250)/(300 - 250) , & \\text{$250 \\leq x \\leq 300$}.\\\\\n",
    "    0, & \\text{$x\\leq 250$}.\n",
    "  \\end{cases}\n",
    " $$\n",
    " \n",
    "\n",
    "Maka nilai $ Z_6 = 0 $\n",
    "\n",
    "Maka nilai keanggotaan yang memenuhi diatas adalah 0\n",
    "\n",
    "=================================================================================================================\n",
    "\n",
    "#### 7. IF Luas Tanah Kecil AND Jarak Jauh THEN Harga Sedang\n",
    "\n",
    "$$ \\\\ \\alpha(predikat_7) = \\mu LuasTanahKecil \\cap \\mu JarakJauh $$\n",
    "$$\\alpha(predikat_7)   = min (\\mu LuasTanahKecil[180], \\mu JarakJauh[700]) $$\n",
    "$$ \\alpha(predikat_7) = min (0; 0.8) $$\n",
    "$$ \\alpha(predikat_7) = 0 $$\n",
    "\n",
    "Lalu lihat himpunan Harga Sedang \n",
    "$$\n",
    "   Harga['Sedang'] = \\mu(x)=\\begin{cases}\n",
    "       0, & \\text{$x\\leq200$}.\\\\\n",
    "    (x - 200)/(250 - 200) , & \\text{$200 \\leq x \\leq 250$}.\\\\\n",
    "    (300 - x)/(300 - 250) , & \\text{$250 \\leq x \\leq 300$}.\\\\\n",
    "    0, & \\text{$x\\geq 300\n",
    "     $}. \n",
    "  \\end{cases}\n",
    " $$\n",
    " \n",
    "\n",
    "Maka nilai $ Z_7 = 0 $\n",
    "\n",
    "Maka nilai keanggotaan yang memenuhi diatas adalah 0\n",
    "\n",
    "=================================================================================================================\n",
    "\n",
    "#### 8. IF Luas Tanah Kecil AND Jarak Sedang THEN Harga Murah\n",
    "\n",
    "$$ \\\\ \\alpha(predikat_8) = \\mu LuasTanahKecil \\cap \\mu JarakSedang $$\n",
    "$$\\alpha(predikat_8)   = min (\\mu LuasTanahKecil[180], \\mu JarakSedang[700]) $$\n",
    "$$ \\alpha(predikat_8) = min (0; 0.2) $$\n",
    "$$ \\alpha(predikat_8) = 0 $$\n",
    "\n",
    "Lalu lihat himpunan Harga Murah \n",
    "$$\n",
    "   Harga['Murah'] = \\mu(x)=\\begin{cases}\n",
    "        1, & \\text{$x\\geq300$}.\\\\\n",
    "    (x - 250)/(300 - 250) , & \\text{$250 \\leq x \\leq 300$}.\\\\\n",
    "    0, & \\text{$x\\leq 250$}.\n",
    "  \\end{cases}\n",
    " $$\n",
    " \n",
    "\n",
    "Maka nilai $ Z_8 = 0 $\n",
    "\n",
    "Maka nilai keanggotaan yang memenuhi diatas adalah 0\n",
    "\n",
    "=================================================================================================================\n",
    "\n",
    "#### 9. IF Luas Tanah Kecil AND Jarak Dekat THEN Harga Murah\n",
    "\n",
    "$$ \\\\ \\alpha(predikat_9) = \\mu LuasTanahKecil \\cap \\mu JarakDekat $$\n",
    "$$\\alpha(predikat_9)   = min (\\mu LuasTanahKecil[180], \\mu JarakDekat[700]) $$\n",
    "$$ \\alpha(predikat_9) = min (0; 0) $$\n",
    "$$ \\alpha(predikat_9) = 0 $$\n",
    "\n",
    "Lalu lihat himpunan Harga Murah \n",
    "$$\n",
    "   Harga['Murah'] = \\mu(x)=\\begin{cases}\n",
    "        1, & \\text{$x\\geq300$}.\\\\\n",
    "    (x - 250)/(300 - 250) , & \\text{$250 \\leq x \\leq 300$}.\\\\\n",
    "    0, & \\text{$x\\leq 250$}.\n",
    "  \\end{cases}\n",
    " $$\n",
    " \n",
    "\n",
    "Maka nilai $ Z_9 = 0 $\n",
    "\n",
    "Maka nilai keanggotaan yang memenuhi diatas adalah 0\n",
    "\n",
    "================================================================================================================="
   ]
  },
  {
   "cell_type": "markdown",
   "metadata": {},
   "source": [
    "Dari Rule diatas, Dibawah sini kita dapat mencari nilai Z nya, yaitu :"
   ]
  },
  {
   "cell_type": "markdown",
   "metadata": {},
   "source": [
    "Z =$$ \\frac{(x - predikat_1 \\times Z_1) +\n",
    "(x - predikat_2 \\times Z_2) +\n",
    "(x - predikat_3 \\times Z_3) +\n",
    "(x - predikat_4 \\times Z_4) +\n",
    "(x - predikat_5 \\times Z_5) +\n",
    "(x - predikat_6 \\times Z_6) +\n",
    "(x - predikat_7 \\times Z_7) +\n",
    "(x - predikat_8 \\times Z_8) +\n",
    "(x - predikat_9 \\times Z_9) }\n",
    "{(x-predikat_1 + x-predikat_2 +\n",
    "x-predikat_3 + x-predikat_4 +\n",
    "x-predikat_5 + x-predikat_6 +\n",
    "x-predikat_7 + x-predikat_8 +\n",
    "x-predikat_9)\n",
    "}$$"
   ]
  },
  {
   "cell_type": "markdown",
   "metadata": {},
   "source": [
    " $$Z = \\frac{(0.6 \\times 280) + (0.2 \\times 260) + 0 + (0.2 \\times 260) + (0.2 \\times 210) + 0 + 0 + 0 + 0}{0.6 + 0.2 + 0 + 0.2 + 0.2 + 0 + 0 + 0 + 0} $$\n",
    " \n",
    " $$ Z = \\frac{168 + 52 + 52 + 42}{1.2} $$\n",
    " $$ Z = 261,666 \\,  $$"
   ]
  },
  {
   "cell_type": "markdown",
   "metadata": {},
   "source": [
    "Hasil output yang dikeluarkan dari Mesin python sebesar Rp. 270,722,527 sedangkan perhitungan manual sebesar Rp. 261,666,666\n",
    "Terdapat perbedaan sebesar Rp. 9,055,861"
   ]
  },
  {
   "cell_type": "markdown",
   "metadata": {},
   "source": [
    "Terdapat error antara Output Mesin pyhton dengan Perhitungan Manual, yaitu :\n",
    "\n",
    "Output Pyhton - Output perhitungan manual = x\n",
    "\n",
    "( Selisih Output / Output Pyhton ) X 100 = x\n",
    "\n",
    "Rp. 270,722,527 - Rp. 261,666,666 = Rp. 9,055,861\n",
    "\n",
    "Rp. 9,055,861 / 270,722,527 = 0,03345071\n",
    "\n",
    "( 0,03345071 X 100 ) = 3,3\n",
    "\n",
    "Jadi terdapat error dari hasil diatas adalah 3,3 %"
   ]
  },
  {
   "cell_type": "markdown",
   "metadata": {},
   "source": [
    "## Referensi \n",
    "    \n",
    "    dari paper : https://jurnal.umk.ac.id/index.php/simet/article/view/127\n",
    "    "
   ]
  }
 ],
 "metadata": {
  "kernelspec": {
   "display_name": "Python 3",
   "language": "python",
   "name": "python3"
  },
  "language_info": {
   "codemirror_mode": {
    "name": "ipython",
    "version": 3
   },
   "file_extension": ".py",
   "mimetype": "text/x-python",
   "name": "python",
   "nbconvert_exporter": "python",
   "pygments_lexer": "ipython3",
   "version": "3.6.4"
  }
 },
 "nbformat": 4,
 "nbformat_minor": 2
}
