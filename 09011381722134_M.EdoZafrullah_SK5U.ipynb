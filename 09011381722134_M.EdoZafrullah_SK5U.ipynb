{
 "cells": [
  {
   "cell_type": "markdown",
   "metadata": {},
   "source": [
    "# Nama : M. Edo Zafrullah\n",
    "# NIM : 09011381722134\n",
    "# SK5 Artificial Intelligence\n",
    "\n",
    "# Penentuan Harga Jual Batik Mengunakan Metode Mamdani\n"
   ]
  },
  {
   "cell_type": "markdown",
   "metadata": {},
   "source": [
    "banyak orang atau pengrajin baru yang terjun kedunia bisnis ini tanpa mempelajari lebih dalam sehingga banyak penggusaha yang gulung tikar karena tidak mampu bersaing\n",
    "kendala utama terdapat pada penetapan harga jual batik, karena ketidak tahuan akan harga batik.\n",
    "banyak batik yang memiliki harga tinggi namun qualitas rendah "
   ]
  },
  {
   "cell_type": "code",
   "execution_count": 2,
   "metadata": {},
   "outputs": [],
   "source": [
    "import numpy as np\n",
    "import skfuzzy as fuzz\n",
    "from skfuzzy import control as ctrl\n",
    "import matplotlib.pyplot as plt"
   ]
  },
  {
   "cell_type": "code",
   "execution_count": 3,
   "metadata": {},
   "outputs": [],
   "source": [
    "Kain_Serat_Kayu = ctrl.Antecedent(np.arange(10, 14.5, 1), 'Kain_Serat_Kayu' )\n",
    "Kain_Katun = ctrl.Antecedent(np.arange(9, 11.5,1), 'Kain_Katun')\n",
    "Kain_Sutra = ctrl.Antecedent(np.arange(10, 14.5, 1), 'Kain_Sutra')\n",
    "Proses_pembuatan = ctrl.Antecedent(np.arange(7.5, 70.5, 1), 'Proses_pembuatan')\n",
    "Motif = ctrl.Antecedent(np.arange(25,50.5,1),'Motif')\n",
    "Warna = ctrl.Antecedent(np.arange(5,200.5,1),'Warna')\n",
    "Harga_batik = ctrl.Consequent(np.arange(0,8000.5,1),'Harga_batik')"
   ]
  },
  {
   "cell_type": "markdown",
   "metadata": {},
   "source": [
    "INPUT ="
   ]
  },
  {
   "cell_type": "markdown",
   "metadata": {},
   "source": [
    "Harga Kain Serat Kayu Rentang nilai = 10.000-14.000"
   ]
  },
  {
   "cell_type": "code",
   "execution_count": 25,
   "metadata": {},
   "outputs": [],
   "source": [
    "Kain_Serat_Kayu = ctrl.Antecedent(np.arange(10, 14.5, 1), 'Kain_Serat_Kayu' )"
   ]
  },
  {
   "cell_type": "markdown",
   "metadata": {},
   "source": [
    "Harga Kain Katun Rentang nilai = 9.000-11.000 /Rupiah"
   ]
  },
  {
   "cell_type": "code",
   "execution_count": 26,
   "metadata": {},
   "outputs": [],
   "source": [
    "Kain_Katun = ctrl.Antecedent(np.arange(9, 11.5,1), 'Kain_Katun')"
   ]
  },
  {
   "cell_type": "markdown",
   "metadata": {},
   "source": [
    "Harga Kain Sutra Rentang nilai = 10.000-14.000 /Rupiah"
   ]
  },
  {
   "cell_type": "code",
   "execution_count": 27,
   "metadata": {},
   "outputs": [],
   "source": [
    "Kain_Sutra = ctrl.Antecedent(np.arange(10, 14.5, 1), 'Kain_Sutra')"
   ]
  },
  {
   "cell_type": "markdown",
   "metadata": {},
   "source": [
    "Harga Proses Pembuatan Rentang nilai = 7.500- 70.000 /Rupiah"
   ]
  },
  {
   "cell_type": "code",
   "execution_count": 28,
   "metadata": {},
   "outputs": [],
   "source": [
    "Proses_pembuatan = ctrl.Antecedent(np.arange(7.5, 70.5, 1), 'Proses_pembuatan')"
   ]
  },
  {
   "cell_type": "markdown",
   "metadata": {},
   "source": [
    "Harga Motif Rentang nilai = 25.000- 50.000 /Rupiah"
   ]
  },
  {
   "cell_type": "code",
   "execution_count": 29,
   "metadata": {},
   "outputs": [],
   "source": [
    "Motif = ctrl.Antecedent(np.arange(25,50.5,1),'Motif')"
   ]
  },
  {
   "cell_type": "markdown",
   "metadata": {},
   "source": [
    "Harga Warna Rentang nilai = 5.000- 200.000 /Rupiah"
   ]
  },
  {
   "cell_type": "code",
   "execution_count": 30,
   "metadata": {},
   "outputs": [],
   "source": [
    "Warna = ctrl.Antecedent(np.arange(5,200.5,1),'Warna')"
   ]
  },
  {
   "cell_type": "markdown",
   "metadata": {},
   "source": [
    "Output ="
   ]
  },
  {
   "cell_type": "markdown",
   "metadata": {},
   "source": [
    "Harga Batik Rentang nilai = 0 - 8.000.000 /Rupiah"
   ]
  },
  {
   "cell_type": "code",
   "execution_count": 31,
   "metadata": {},
   "outputs": [],
   "source": [
    "Harga_batik = ctrl.Consequent(np.arange(0,8000.5,1),'Harga_batik')"
   ]
  },
  {
   "cell_type": "markdown",
   "metadata": {},
   "source": [
    "# Fuzzifikasi Variable Kain"
   ]
  },
  {
   "cell_type": "markdown",
   "metadata": {},
   "source": [
    "Harga Kain Serat Kayu :\n",
    "1. Rendah = 10.000 - 12.000 /Rupiah\n",
    "2. Sedang = 11.000 - 13.000 /Rupiah\n",
    "3. Tinggi = 12.000 - 14.000 /Rupiah\n"
   ]
  },
  {
   "cell_type": "code",
   "execution_count": 4,
   "metadata": {},
   "outputs": [],
   "source": [
    "Kain_Serat_Kayu ['Rendah'] = fuzz.trapmf(Kain_Serat_Kayu.universe, [10,10, 11,12 ])\n",
    "Kain_Serat_Kayu ['Sedang'] = fuzz.trimf(Kain_Serat_Kayu.universe, [11, 12 ,13 ])\n",
    "Kain_Serat_Kayu ['Tinggi'] = fuzz.trapmf(Kain_Serat_Kayu.universe, [12,13,14, 14])\n"
   ]
  },
  {
   "cell_type": "markdown",
   "metadata": {},
   "source": [
    "\\begin{equation}\n",
    "  Harga['Kain_Serat_Kayu'] = \\mu Rendah(x)=\\begin{cases}\n",
    "    1, & \\text{$10\\leq x \\leq 11$}.\\\\\n",
    "    \\left.(12 - x) \\,  \\right/(12 - 11) , & \\text{$11 \\leq x \\leq 12$}.\\\\\n",
    "    0, & \\text{$x\\geq 12$}.\n",
    "  \\end{cases}\n",
    "  \\\\\n",
    "    Harga['Kain_Serat_Kayu'] = \\mu Sedang(x)=\\begin{cases}\n",
    "    0, & \\text{$x\\leq 11$ atau $x\\geq13$}.\\\\\n",
    "    \\left.(x - 11)\\, \\right/(12 - 11) , & \\text{$11 \\leq x \\leq 12$}.\\\\\n",
    "    \\left.(13 - x)\\, \\right/(13 - 12) , & \\text{$12 \\leq x \\leq 13$}.\\\\\n",
    "  \\end{cases}\n",
    "  \\\\\n",
    "    Harga['Kain_Serat_Kayu'] = \\mu Tinggi(x)=\\begin{cases}\n",
    "    1, & \\text{$12\\leq x \\leq 13$}.\\\\\n",
    "    \\left.(14 - x) \\,  \\right/(14 - 13) , & \\text{$13 \\leq x \\leq 14$}.\\\\\n",
    "    0, & \\text{$x\\geq 14$}.\n",
    "  \\end{cases}\n",
    "  \\end{equation}"
   ]
  },
  {
   "cell_type": "markdown",
   "metadata": {},
   "source": [
    "Harga Kain Katun :\n",
    "1. Rendah = 9.000 - 10.000 /Rupiah\n",
    "2. Sedang = 9.400 - 10.600 /Rupiah\n",
    "3. Tinggi = 10.000 - 11.000 /Rupiah\n"
   ]
  },
  {
   "cell_type": "code",
   "execution_count": 5,
   "metadata": {},
   "outputs": [],
   "source": [
    "Kain_Katun ['Rendah'] = fuzz.trapmf(Kain_Katun.universe, [9, 9, 9.5 ,10])\n",
    "Kain_Katun ['Sedang'] = fuzz.trimf(Kain_Katun.universe, [9.4,10 ,10.6])\n",
    "Kain_Katun ['Tinggi'] = fuzz.trapmf(Kain_Katun.universe, [10 ,10.5 ,11, 11])"
   ]
  },
  {
   "cell_type": "markdown",
   "metadata": {},
   "source": [
    "\\begin{equation}\n",
    "Harga['Kain_Katun'] = \\mu Rendah(x)=\\begin{cases}\n",
    "    1, & \\text{$9\\leq x \\leq 9.4$}.\\\\\n",
    "    \\left.(10 - x) \\,  \\right/(10 - 9.5) , & \\text{$9.5 \\leq x \\leq 10$}.\\\\\n",
    "    0, & \\text{$x\\geq 10$}.\n",
    "  \\end{cases}\n",
    "  \\\\\n",
    "    Harga['Kain_Katun'] = \\mu Sedang(x)=\\begin{cases}\n",
    "    0, & \\text{$x\\leq 9.4$ atau $x\\geq10.6$}.\\\\\n",
    "    \\left.(x - 9.4)\\, \\right/(10 - 9.4) , & \\text{$9.4 \\leq x \\leq 10$}.\\\\\n",
    "    \\left.(10.6 - x)\\, \\right/(10.6 - 10) , & \\text{$10 \\leq x \\leq 10.6$}.\\\\\n",
    "  \\end{cases}\n",
    "  \\\\\n",
    "    Harga['Kain_Katun'] = \\mu Tinggi(x)=\\begin{cases}\n",
    "     1, & \\text{$10\\leq x \\leq 10.5$}.\\\\\n",
    "    \\left.(11 - x) \\,  \\right/(11 - 10.5) , & \\text{$10.5 \\leq x \\leq 11$}.\\\\\n",
    "    0, & \\text{$x\\geq 11$}.\n",
    "  \\end{cases}\n",
    "    \\end{equation}"
   ]
  },
  {
   "cell_type": "markdown",
   "metadata": {},
   "source": [
    "Harga Kain Sutra :\n",
    "1. Rendah = 10.000 - 12.000 /Rupiah\n",
    "2. Sedang = 11.000 - 13.000 /Rupiah\n",
    "3. Tinggi = 12.000 - 14.000 /Rupiah"
   ]
  },
  {
   "cell_type": "code",
   "execution_count": 6,
   "metadata": {},
   "outputs": [],
   "source": [
    "Kain_Sutra ['Rendah'] = fuzz.trapmf(Kain_Sutra.universe, [10,10 ,11,12])\n",
    "Kain_Sutra ['Sedang'] = fuzz.trimf(Kain_Sutra.universe, [11,12 ,13])\n",
    "Kain_Sutra ['Tinggi'] = fuzz.trapmf(Kain_Sutra.universe, [12,13 ,14,14])"
   ]
  },
  {
   "cell_type": "markdown",
   "metadata": {},
   "source": [
    "  \\begin{equation}\n",
    "  Harga['Kain_Sutra'] = \\mu Rendah(x)=\\begin{cases}\n",
    "    1, & \\text{$10\\leq x \\leq 11$}.\\\\\n",
    "    \\left.(12 - x) \\,  \\right/(12 - 11) , & \\text{$11 \\leq x \\leq 12$}.\\\\\n",
    "    0, & \\text{$x\\geq 12$}.\n",
    "  \\end{cases}\n",
    "  \\\\\n",
    "    Harga['Kain_Sutra'] = \\mu Sedang(x)=\\begin{cases}\n",
    "    0, & \\text{$x\\leq 11$ atau $x\\geq12$}.\\\\\n",
    "    \\left.(x - 11)\\, \\right/(12 - 11) , & \\text{$11 \\leq x \\leq 12$}.\\\\\n",
    "    \\left.(13 - x)\\, \\right/(13 - 12) , & \\text{$12 \\leq x \\leq 13$}.\\\\\n",
    "  \\end{cases}\n",
    "  \\\\\n",
    "    Harga['Kain_Sutra'] = \\mu Tinggi(x)=\\begin{cases}\n",
    "     1, & \\text{$12\\leq x \\leq 13$}.\\\\\n",
    "    \\left.(14 - x) \\,  \\right/(14 - 13) , & \\text{$13 \\leq x \\leq 14$}.\\\\\n",
    "    0, & \\text{$x\\geq 14$}.\n",
    "  \\end{cases}\n",
    "\\end{equation}\n"
   ]
  },
  {
   "cell_type": "markdown",
   "metadata": {},
   "source": [
    "# Fuzzifikasi Variable Proses Pembuatan"
   ]
  },
  {
   "cell_type": "markdown",
   "metadata": {},
   "source": [
    "Metode Pembuatan  :\n",
    "1. Print = 7.500 - 20.000 /Rupiah\n",
    "2. Cap = 20.000 - 35.000 /Rupiah\n",
    "3. Tulis = 35.000 - 70.000 /Rupiah"
   ]
  },
  {
   "cell_type": "code",
   "execution_count": 7,
   "metadata": {},
   "outputs": [],
   "source": [
    "Proses_pembuatan ['Print'] = fuzz.trapmf(Proses_pembuatan.universe, [7.5, 7.5, 14 ,20])\n",
    "Proses_pembuatan ['Cap'] = fuzz.trimf(Proses_pembuatan.universe, [20,27.5 ,35])\n",
    "Proses_pembuatan ['Tulis'] = fuzz.trapmf(Proses_pembuatan.universe, [35 ,55 ,70, 70])"
   ]
  },
  {
   "cell_type": "markdown",
   "metadata": {},
   "source": [
    "Dengan Fungsi Keanggotaan Proses :\n",
    "\n",
    "\\begin{equation}\n",
    "  Harga['Proses_Pembuatan'] = \\mu Print(x)=\\begin{cases}\n",
    "    1, & \\text{$7.5\\leq x \\leq 14$}.\\\\\n",
    "    \\left.(20 - x) \\,  \\right/(20 - 14) , & \\text{$14 \\leq x \\leq 20$}.\\\\\n",
    "    0, & \\text{$x\\geq 20$}.\n",
    "  \\end{cases}\n",
    "  \\\\\n",
    "    Harga['Proses_Pembuatan'] = \\mu Cap(x)=\\begin{cases}\n",
    "    0, & \\text{$x\\leq 20$ atau $x\\geq35$}.\\\\\n",
    "    \\left.(x - 20)\\, \\right/(27.5 - 20) , & \\text{$20 \\leq x \\leq 27.5$}.\\\\\n",
    "    \\left.(35 - x)\\, \\right/(35 - 27.5) , & \\text{$27.5 \\leq x \\leq 35$}.\\\\\n",
    "  \\end{cases}\n",
    "  \\\\\n",
    "    Harga['Proses_Pembuatan'] = \\mu Tulis(x)=\\begin{cases}\n",
    "     1, & \\text{$35\\leq x \\leq 55$}.\\\\\n",
    "    \\left.(70 - x) \\,  \\right/(70 - 55) , & \\text{$55 \\leq x \\leq 70$}.\\\\\n",
    "    0, & \\text{$x\\geq 70$}.\n",
    "  \\end{cases}\n",
    "\\end{equation}"
   ]
  },
  {
   "cell_type": "markdown",
   "metadata": {},
   "source": [
    "# Fuzzifikasi Variable Warna"
   ]
  },
  {
   "cell_type": "markdown",
   "metadata": {},
   "source": [
    "Pewarnaan  :\n",
    "1. Sintesis = 5.000 - 160.000 /Rupiah\n",
    "2. Alam = 40.000 - 200.000 /Rupiah"
   ]
  },
  {
   "cell_type": "code",
   "execution_count": 8,
   "metadata": {},
   "outputs": [],
   "source": [
    "Warna ['Sintesis'] = fuzz.trapmf(Warna.universe, [5,5 ,80 ,160])\n",
    "Warna ['Alam'] = fuzz.trapmf(Warna.universe, [40,120,200 ,200])"
   ]
  },
  {
   "cell_type": "markdown",
   "metadata": {},
   "source": [
    "Dengan Fungsi Keanggotaan Warna :\n",
    "\n",
    "\\begin{equation}\n",
    "  Harga Pewarna['Warna'] = \\mu Sintesis(x)=\\begin{cases}\n",
    "    1, & \\text{$5\\leq x \\leq 80$}.\\\\\n",
    "    \\left.(160 - x) \\,  \\right/(160 - 80) , & \\text{$80 \\leq x \\leq 160$}.\\\\\n",
    "    0, & \\text{$x\\geq 160$}.\n",
    "  \\end{cases}\n",
    "  \\\\\n",
    "    Harga Pewarna['Warna'] = \\mu Alam(x)=\\begin{cases}\n",
    "    1, & \\text{$40\\leq x \\leq 120$}.\\\\\n",
    "    \\left.(200 - x) \\,  \\right/(200 - 120) , & \\text{$120 \\leq x \\leq 200$}.\\\\\n",
    "    0, & \\text{$x\\geq 200$}.\n",
    "  \\end{cases}\n",
    "\\end{equation}"
   ]
  },
  {
   "cell_type": "markdown",
   "metadata": {},
   "source": [
    "# Fuzzifikasi Variable Motif"
   ]
  },
  {
   "cell_type": "markdown",
   "metadata": {},
   "source": [
    "Motif  :\n",
    "1. Sederhana = 25.000 - 32.500 /Rupiah\n",
    "2. Agak Rumit = 32.500 - 37.500 /Rupiah\n",
    "3. Rumit Sekali = 37.500 - 50.00 /Rupiah"
   ]
  },
  {
   "cell_type": "code",
   "execution_count": 9,
   "metadata": {},
   "outputs": [],
   "source": [
    "Motif ['Sederhana'] = fuzz.trapmf(Motif.universe, [25,25 ,31,32.5])\n",
    "Motif ['Agak Rumit'] = fuzz.trimf(Motif.universe, [32.5,35 ,37.5])\n",
    "Motif ['Rumit Sekali'] = fuzz.trapmf(Motif.universe, [37.5,43.5 ,50,50])\n"
   ]
  },
  {
   "cell_type": "markdown",
   "metadata": {},
   "source": [
    "Dengan Fungsi Keanggotaan Proses :\n",
    "\n",
    "\\begin{equation}\n",
    "  Harga['Motif'] = \\mu Sederhana(x)=\\begin{cases}\n",
    "    1, & \\text{$25\\leq x \\leq 31$}.\\\\\n",
    "    \\left.(32.5 - x) \\,  \\right/(32.5 - 31) , & \\text{$31 \\leq x \\leq 32.5$}.\\\\\n",
    "    0, & \\text{$x\\geq 32.5$}.\n",
    "  \\end{cases}\n",
    "  \\\\\n",
    "    Harga['Motif'] = \\mu AgakRumit(x)=\\begin{cases}\n",
    "    0, & \\text{$x\\leq 32.5$ atau $x\\geq37.5$}.\\\\\n",
    "    \\left.(x - 32.5)\\, \\right/(35 - 32.5) , & \\text{$32.5 \\leq x \\leq 35$}.\\\\\n",
    "    \\left.(37.5 - x)\\, \\right/(37.5 - 35) , & \\text{$35 \\leq x \\leq 37.5$}.\\\\\n",
    "  \\end{cases}\n",
    "  \\\\\n",
    "    Harga['Motif'] = \\mu RumitSekali(x)=\\begin{cases}\n",
    "     1, & \\text{$37\\leq x \\leq 43.5$}.\\\\\n",
    "    \\left.(50 - x) \\,  \\right/(50 - 43.5) , & \\text{$43.5 \\leq x \\leq 50$}.\\\\\n",
    "    0, & \\text{$x\\geq 50$}\n",
    "  \\end{cases}\n",
    "\\end{equation}"
   ]
  },
  {
   "cell_type": "markdown",
   "metadata": {},
   "source": [
    "# Fuzzifikasi Variable Harga Batik"
   ]
  },
  {
   "cell_type": "markdown",
   "metadata": {},
   "source": [
    "Harga Batik  :\n",
    "1. Murah = 65.000 - 300.000 /Rupiah\n",
    "2. Sedang = 300.500 - 4.000.000 /Rupiah\n",
    "3. Mahal = 4.100.000 - 8.000.000 /Rupiah"
   ]
  },
  {
   "cell_type": "code",
   "execution_count": 10,
   "metadata": {},
   "outputs": [],
   "source": [
    "Harga_batik ['Murah'] = fuzz.trapmf(Harga_batik.universe, [0,65,175,300])\n",
    "Harga_batik ['Sedang'] = fuzz.trimf(Harga_batik.universe, [305,1845 ,4000])\n",
    "Harga_batik ['Mahal'] = fuzz.trapmf(Harga_batik.universe, [4100,6500,8000 ,8000])\n"
   ]
  },
  {
   "cell_type": "markdown",
   "metadata": {},
   "source": [
    "Dengan Fungsi Keanggotaan Proses :\n",
    "\n",
    "\\begin{equation}\n",
    "  Harga['HargaBatik'] = \\mu Murah(x)=\\begin{cases}\n",
    "    1, & \\text{$65\\leq x \\leq 175$}.\\\\\n",
    "    \\left.(300 - x) \\,  \\right/(300 - 175) , & \\text{$175 \\leq x \\leq 300$}.\\\\\n",
    "    0, & \\text{$x\\geq 300$}.\n",
    "  \\end{cases}\n",
    "  \\\\\n",
    "    Harga['HargaBatik'] = \\mu Sedang(x)=\\begin{cases}\n",
    "    0, & \\text{$x\\leq 32.5$ atau $x\\geq35$}.\\\\\n",
    "    \\left.(x - 305)\\, \\right/(1845 - 305) , & \\text{$32.5 \\leq x \\leq 1845$}.\\\\\n",
    "    \\left.(4000 - x)\\, \\right/(4000 - 1845) , & \\text{$1845 \\leq x \\leq 4000$}.\\\\\n",
    "  \\end{cases}\n",
    "  \\\\\n",
    "    Harga['HargaBatik'] = \\mu Mahal(x)=\\begin{cases}\n",
    "     1, & \\text{$4100\\leq x \\leq 6500$}.\\\\\n",
    "    \\left.(8000 - x) \\,  \\right/(8000 - 6500) , & \\text{$6500 \\leq x \\leq 8000$}.\\\\\n",
    "    0, & \\text{$x\\geq 8000$}.\n",
    "  \\end{cases}\n",
    "\\end{equation}"
   ]
  },
  {
   "cell_type": "markdown",
   "metadata": {},
   "source": [
    "# PLOTTING MEMBERSHIP FUNCTION Kain Serat Kayu"
   ]
  },
  {
   "cell_type": "code",
   "execution_count": 39,
   "metadata": {},
   "outputs": [],
   "source": [
    "Kain_Serat_Kayu = ctrl.Antecedent(np.arange(10,14.5,1),'Kain_Serat_Kayu')\n",
    "Harga_x = np.arange(10,14.5,1) #untuk plotting saja"
   ]
  },
  {
   "cell_type": "code",
   "execution_count": 40,
   "metadata": {},
   "outputs": [
    {
     "data": {
      "text/plain": [
       "Text(0.5,1,'Kain Serat Kayu Qualitas Rendah')"
      ]
     },
     "execution_count": 40,
     "metadata": {},
     "output_type": "execute_result"
    },
    {
     "data": {
      "image/png": "[encoded data removed]",
      "text/plain": [
       "<Figure size 432x432 with 1 Axes>"
      ]
     },
     "metadata": {},
     "output_type": "display_data"
    }
   ],
   "source": [
    "Kain_Serat_Kayu = fuzz.trapmf(Harga_x,[10,10,11,12])\n",
    "fig, (ax0) = plt.subplots(nrows=1,figsize=(6,6))\n",
    "ax0.plot(Harga_x,Kain_Serat_Kayu,'blue')\n",
    "ax0.set_title('Kain Serat Kayu Qualitas Rendah')"
   ]
  },
  {
   "cell_type": "code",
   "execution_count": 41,
   "metadata": {},
   "outputs": [
    {
     "data": {
      "text/plain": [
       "Text(0.5,1,'Kain Serat Kayu Qualitas Sedang')"
      ]
     },
     "execution_count": 41,
     "metadata": {},
     "output_type": "execute_result"
    },
    {
     "data": {
      "image/png": "[encoded data removed]",
      "text/plain": [
       "<Figure size 432x432 with 1 Axes>"
      ]
     },
     "metadata": {},
     "output_type": "display_data"
    }
   ],
   "source": [
    "Kain_Serat_Kayu = fuzz.trimf(Harga_x,[11,12,13])\n",
    "fig2, (ax1) = plt.subplots(nrows=1,figsize=(6,6))\n",
    "ax1.plot(Harga_x,Kain_Serat_Kayu,'orange')\n",
    "ax1.set_title('Kain Serat Kayu Qualitas Sedang')"
   ]
  },
  {
   "cell_type": "code",
   "execution_count": 42,
   "metadata": {},
   "outputs": [
    {
     "data": {
      "text/plain": [
       "Text(0.5,1,'Kain Serat Kayu Qualitas Tinggi')"
      ]
     },
     "execution_count": 42,
     "metadata": {},
     "output_type": "execute_result"
    },
    {
     "data": {
      "image/png": "[encoded data removed]",
      "text/plain": [
       "<Figure size 432x432 with 1 Axes>"
      ]
     },
     "metadata": {},
     "output_type": "display_data"
    }
   ],
   "source": [
    "Kain_Serat_Kayu = fuzz.trapmf(Harga_x,[12,13,14,14])\n",
    "fig, (ax0) = plt.subplots(nrows=1,figsize=(6,6))\n",
    "ax0.plot(Harga_x,Kain_Serat_Kayu,'blue')\n",
    "ax0.set_title('Kain Serat Kayu Qualitas Tinggi')"
   ]
  },
  {
   "cell_type": "code",
   "execution_count": 112,
   "metadata": {},
   "outputs": [
    {
     "name": "stderr",
     "output_type": "stream",
     "text": [
      "C:\\Users\\acer\\Anaconda3\\lib\\site-packages\\matplotlib\\figure.py:459: UserWarning: matplotlib is currently using a non-GUI backend, so cannot show the figure\n",
      "  \"matplotlib is currently using a non-GUI backend, \"\n"
     ]
    },
    {
     "data": {
      "image/png": "[encoded data removed]",
      "text/plain": [
       "<Figure size 432x288 with 1 Axes>"
      ]
     },
     "metadata": {},
     "output_type": "display_data"
    }
   ],
   "source": [
    "Kain_Serat_Kayu.view()"
   ]
  },
  {
   "cell_type": "markdown",
   "metadata": {},
   "source": [
    "# PLOTTING MEMBERSHIP FUNCTION Kain Katun"
   ]
  },
  {
   "cell_type": "code",
   "execution_count": 12,
   "metadata": {},
   "outputs": [],
   "source": [
    "Kain_Katun = ctrl.Antecedent(np.arange(9,11.5,1),'Kain_Katun')\n",
    "Harga_y = np.arange(9,11.5,1) #untuk plotting saja"
   ]
  },
  {
   "cell_type": "code",
   "execution_count": 98,
   "metadata": {},
   "outputs": [
    {
     "data": {
      "text/plain": [
       "Text(0.5,1,'Kain Katun Qualitas Rendah')"
      ]
     },
     "execution_count": 98,
     "metadata": {},
     "output_type": "execute_result"
    },
    {
     "data": {
      "image/png": "[encoded data removed]",
      "text/plain": [
       "<Figure size 432x432 with 1 Axes>"
      ]
     },
     "metadata": {},
     "output_type": "display_data"
    }
   ],
   "source": [
    "Kain_Katun = fuzz.trapmf(Harga_y,[9,9,9.5,10])\n",
    "fig, (ax0) = plt.subplots(nrows=1,figsize=(6,6))\n",
    "ax0.plot(Harga_y,Kain_Katun,'blue')\n",
    "ax0.set_title('Kain Katun Qualitas Rendah')"
   ]
  },
  {
   "cell_type": "code",
   "execution_count": 97,
   "metadata": {},
   "outputs": [
    {
     "data": {
      "text/plain": [
       "Text(0.5,1,'Kain Serat Kayu Qualitas Sedang')"
      ]
     },
     "execution_count": 97,
     "metadata": {},
     "output_type": "execute_result"
    },
    {
     "data": {
      "image/png": "[encoded data removed]",
      "text/plain": [
       "<Figure size 432x432 with 1 Axes>"
      ]
     },
     "metadata": {},
     "output_type": "display_data"
    }
   ],
   "source": [
    "Kain_Katun = fuzz.trimf(Harga_y,[9.4,10,10.6])\n",
    "fig2, (ax1) = plt.subplots(nrows=1,figsize=(6,6))\n",
    "ax1.plot(Harga_y,Kain_Katun,'orange')\n",
    "ax1.set_title('Kain Serat Kayu Qualitas Sedang')"
   ]
  },
  {
   "cell_type": "code",
   "execution_count": 13,
   "metadata": {},
   "outputs": [
    {
     "data": {
      "text/plain": [
       "Text(0.5,1,'Kain Katun Qualitas Tinggi')"
      ]
     },
     "execution_count": 13,
     "metadata": {},
     "output_type": "execute_result"
    },
    {
     "data": {
      "image/png": "[encoded data removed]",
      "text/plain": [
       "<Figure size 432x432 with 1 Axes>"
      ]
     },
     "metadata": {},
     "output_type": "display_data"
    }
   ],
   "source": [
    "Kain_Katun = fuzz.trapmf(Harga_y,[10,10.5,11,11])\n",
    "fig, (ax0) = plt.subplots(nrows=1,figsize=(6,6))\n",
    "ax0.plot(Harga_y,Kain_Katun,'blue')\n",
    "ax0.set_title('Kain Katun Qualitas Tinggi')"
   ]
  },
  {
   "cell_type": "code",
   "execution_count": 111,
   "metadata": {},
   "outputs": [
    {
     "name": "stderr",
     "output_type": "stream",
     "text": [
      "C:\\Users\\acer\\Anaconda3\\lib\\site-packages\\matplotlib\\figure.py:459: UserWarning: matplotlib is currently using a non-GUI backend, so cannot show the figure\n",
      "  \"matplotlib is currently using a non-GUI backend, \"\n"
     ]
    },
    {
     "data": {
      "image/png": "[encoded data removed]",
      "text/plain": [
       "<Figure size 432x288 with 1 Axes>"
      ]
     },
     "metadata": {},
     "output_type": "display_data"
    }
   ],
   "source": [
    "Kain_Katun.view()"
   ]
  },
  {
   "cell_type": "markdown",
   "metadata": {},
   "source": [
    "# PLOTTING MEMBERSHIP FUNCTION Kain Sutra"
   ]
  },
  {
   "cell_type": "code",
   "execution_count": null,
   "metadata": {},
   "outputs": [],
   "source": [
    "Kain_Sutra = ctrl.Antecedent(np.arange(10,14.5,1),'Kain_Sutra')\n",
    "Harga_z = np.arange(10,14.5,1) #untuk plotting saja"
   ]
  },
  {
   "cell_type": "code",
   "execution_count": 94,
   "metadata": {},
   "outputs": [
    {
     "data": {
      "text/plain": [
       "Text(0.5,1,'Qualitas Rendah')"
      ]
     },
     "execution_count": 94,
     "metadata": {},
     "output_type": "execute_result"
    },
    {
     "data": {
      "image/png": "[encoded data removed]",
      "text/plain": [
       "<Figure size 432x432 with 1 Axes>"
      ]
     },
     "metadata": {},
     "output_type": "display_data"
    }
   ],
   "source": [
    "Kain_Sutra = fuzz.trapmf(Harga_z,[10,10,11,12])\n",
    "fig, (ax0) = plt.subplots(nrows=1,figsize=(6,6))\n",
    "ax0.plot(Harga_z,Kain_Sutra,'blue')\n",
    "ax0.set_title('Qualitas Rendah')"
   ]
  },
  {
   "cell_type": "code",
   "execution_count": 95,
   "metadata": {},
   "outputs": [
    {
     "data": {
      "text/plain": [
       "Text(0.5,1,'Qualitas Sedang')"
      ]
     },
     "execution_count": 95,
     "metadata": {},
     "output_type": "execute_result"
    },
    {
     "data": {
      "image/png": "[encoded data removed]",
      "text/plain": [
       "<Figure size 432x432 with 1 Axes>"
      ]
     },
     "metadata": {},
     "output_type": "display_data"
    }
   ],
   "source": [
    "Kain_Sutra = fuzz.trimf(Harga_z,[11,12,13])\n",
    "fig2, (ax1) = plt.subplots(nrows=1,figsize=(6,6))\n",
    "ax1.plot(Harga_z,Kain_Sutra,'orange')\n",
    "ax1.set_title('Qualitas Sedang')"
   ]
  },
  {
   "cell_type": "code",
   "execution_count": 96,
   "metadata": {},
   "outputs": [
    {
     "data": {
      "text/plain": [
       "Text(0.5,1,'Qualitas Tinggi')"
      ]
     },
     "execution_count": 96,
     "metadata": {},
     "output_type": "execute_result"
    },
    {
     "data": {
      "image/png": "[encoded data removed]",
      "text/plain": [
       "<Figure size 432x432 with 1 Axes>"
      ]
     },
     "metadata": {},
     "output_type": "display_data"
    }
   ],
   "source": [
    "Kain_Sutra = fuzz.trapmf(Harga_z,[12,13,14,14])\n",
    "fig, (ax0) = plt.subplots(nrows=1,figsize=(6,6))\n",
    "ax0.plot(Harga_z,Kain_Sutra,'blue')\n",
    "ax0.set_title('Qualitas Tinggi')"
   ]
  },
  {
   "cell_type": "code",
   "execution_count": 113,
   "metadata": {},
   "outputs": [
    {
     "name": "stderr",
     "output_type": "stream",
     "text": [
      "C:\\Users\\acer\\Anaconda3\\lib\\site-packages\\matplotlib\\figure.py:459: UserWarning: matplotlib is currently using a non-GUI backend, so cannot show the figure\n",
      "  \"matplotlib is currently using a non-GUI backend, \"\n"
     ]
    },
    {
     "data": {
      "image/png": "[encoded data removed]",
      "text/plain": [
       "<Figure size 432x288 with 1 Axes>"
      ]
     },
     "metadata": {},
     "output_type": "display_data"
    }
   ],
   "source": [
    "Kain_Sutra.view()"
   ]
  },
  {
   "cell_type": "markdown",
   "metadata": {},
   "source": [
    "# PLOTTING MEMBERSHIP FUNCTION Warna"
   ]
  },
  {
   "cell_type": "code",
   "execution_count": null,
   "metadata": {},
   "outputs": [],
   "source": [
    "Warna = ctrl.Antecedent(np.arange(5,200.5,1),'Warna')\n",
    "Harga_w = np.arange(5,200.5,1) #untuk plotting saja"
   ]
  },
  {
   "cell_type": "code",
   "execution_count": 93,
   "metadata": {},
   "outputs": [
    {
     "data": {
      "text/plain": [
       "Text(0.5,1,'Sintesis')"
      ]
     },
     "execution_count": 93,
     "metadata": {},
     "output_type": "execute_result"
    },
    {
     "data": {
      "image/png": "[encoded data removed]",
      "text/plain": [
       "<Figure size 432x432 with 1 Axes>"
      ]
     },
     "metadata": {},
     "output_type": "display_data"
    }
   ],
   "source": [
    "Warna = fuzz.trapmf(Harga_w,[5,5,80,160])\n",
    "fig, (ax0) = plt.subplots(nrows=1,figsize=(6,6))\n",
    "ax0.plot(Harga_w,Warna,'blue')\n",
    "ax0.set_title('Sintesis')"
   ]
  },
  {
   "cell_type": "code",
   "execution_count": 92,
   "metadata": {},
   "outputs": [
    {
     "data": {
      "text/plain": [
       "Text(0.5,1,'Alam')"
      ]
     },
     "execution_count": 92,
     "metadata": {},
     "output_type": "execute_result"
    },
    {
     "data": {
      "image/png": "[encoded data removed]",
      "text/plain": [
       "<Figure size 432x432 with 1 Axes>"
      ]
     },
     "metadata": {},
     "output_type": "display_data"
    }
   ],
   "source": [
    "Warna = fuzz.trapmf(Harga_w,[40,120,200,200])\n",
    "fig, (ax0) = plt.subplots(nrows=1,figsize=(6,6))\n",
    "ax0.plot(Harga_w,Warna,'blue')\n",
    "ax0.set_title('Alam')"
   ]
  },
  {
   "cell_type": "code",
   "execution_count": 114,
   "metadata": {},
   "outputs": [
    {
     "name": "stderr",
     "output_type": "stream",
     "text": [
      "C:\\Users\\acer\\Anaconda3\\lib\\site-packages\\matplotlib\\figure.py:459: UserWarning: matplotlib is currently using a non-GUI backend, so cannot show the figure\n",
      "  \"matplotlib is currently using a non-GUI backend, \"\n"
     ]
    },
    {
     "data": {
      "image/png": "[encoded data removed]",
      "text/plain": [
       "<Figure size 432x288 with 1 Axes>"
      ]
     },
     "metadata": {},
     "output_type": "display_data"
    }
   ],
   "source": [
    "Warna.view()"
   ]
  },
  {
   "cell_type": "markdown",
   "metadata": {},
   "source": [
    "# PLOTTING MEMBERSHIP FUNCTION Proses Pembuatan"
   ]
  },
  {
   "cell_type": "code",
   "execution_count": 284,
   "metadata": {},
   "outputs": [],
   "source": [
    "Proses_pembuatan = ctrl.Antecedent(np.arange(5,200.5,1),'Proses_pembuatan')\n",
    "Harga_p = np.arange(5,200.5,1) #untuk plotting saja"
   ]
  },
  {
   "cell_type": "code",
   "execution_count": 99,
   "metadata": {},
   "outputs": [
    {
     "data": {
      "text/plain": [
       "Text(0.5,1,'Print')"
      ]
     },
     "execution_count": 99,
     "metadata": {},
     "output_type": "execute_result"
    },
    {
     "data": {
      "image/png": "[encoded data removed]",
      "text/plain": [
       "<Figure size 432x432 with 1 Axes>"
      ]
     },
     "metadata": {},
     "output_type": "display_data"
    }
   ],
   "source": [
    "Proses_pembuatan = fuzz.trapmf(Harga_p,[7.5,7.5,14,20])\n",
    "fig, (ax0) = plt.subplots(nrows=1,figsize=(6,6))\n",
    "ax0.plot(Harga_p,Proses_pembuatan,'blue')\n",
    "ax0.set_title('Print')"
   ]
  },
  {
   "cell_type": "code",
   "execution_count": 286,
   "metadata": {},
   "outputs": [
    {
     "data": {
      "text/plain": [
       "Text(0.5,1,'Cap')"
      ]
     },
     "execution_count": 286,
     "metadata": {},
     "output_type": "execute_result"
    },
    {
     "data": {
      "image/png": "[encoded data removed]",
      "text/plain": [
       "<Figure size 432x432 with 1 Axes>"
      ]
     },
     "metadata": {},
     "output_type": "display_data"
    }
   ],
   "source": [
    "Proses_pembuatan = fuzz.trimf(Harga_p,[20,27.5,35])\n",
    "fig2, (ax1) = plt.subplots(nrows=1,figsize=(6,6))\n",
    "ax1.plot(Harga_p,Proses_pembuatan,'orange')\n",
    "ax1.set_title('Cap')"
   ]
  },
  {
   "cell_type": "code",
   "execution_count": 287,
   "metadata": {},
   "outputs": [
    {
     "data": {
      "text/plain": [
       "Text(0.5,1,'Tulis')"
      ]
     },
     "execution_count": 287,
     "metadata": {},
     "output_type": "execute_result"
    },
    {
     "data": {
      "image/png": "[encoded data removed]",
      "text/plain": [
       "<Figure size 432x432 with 1 Axes>"
      ]
     },
     "metadata": {},
     "output_type": "display_data"
    }
   ],
   "source": [
    "Proses_pembuatan = fuzz.trapmf(Harga_p,[40,120,200,200])\n",
    "fig, (ax0) = plt.subplots(nrows=1,figsize=(6,6))\n",
    "ax0.plot(Harga_p,Proses_pembuatan,'blue')\n",
    "ax0.set_title('Tulis')"
   ]
  },
  {
   "cell_type": "code",
   "execution_count": 115,
   "metadata": {},
   "outputs": [
    {
     "name": "stderr",
     "output_type": "stream",
     "text": [
      "C:\\Users\\acer\\Anaconda3\\lib\\site-packages\\matplotlib\\figure.py:459: UserWarning: matplotlib is currently using a non-GUI backend, so cannot show the figure\n",
      "  \"matplotlib is currently using a non-GUI backend, \"\n"
     ]
    },
    {
     "data": {
      "image/png": "[encoded data removed]",
      "text/plain": [
       "<Figure size 432x288 with 1 Axes>"
      ]
     },
     "metadata": {},
     "output_type": "display_data"
    }
   ],
   "source": [
    "Proses_pembuatan.view()"
   ]
  },
  {
   "cell_type": "markdown",
   "metadata": {},
   "source": [
    "# PLOTTING MEMBERSHIP FUNCTION Motif Batik"
   ]
  },
  {
   "cell_type": "code",
   "execution_count": 288,
   "metadata": {},
   "outputs": [],
   "source": [
    "Motif = ctrl.Antecedent(np.arange(25,50.5,1),'Motif')\n",
    "Harga_m = np.arange(25,50.5,1) #untuk plotting saja"
   ]
  },
  {
   "cell_type": "code",
   "execution_count": 289,
   "metadata": {},
   "outputs": [
    {
     "data": {
      "text/plain": [
       "Text(0.5,1,'Sederhana')"
      ]
     },
     "execution_count": 289,
     "metadata": {},
     "output_type": "execute_result"
    },
    {
     "data": {
      "image/png": "[encoded data removed]",
      "text/plain": [
       "<Figure size 432x432 with 1 Axes>"
      ]
     },
     "metadata": {},
     "output_type": "display_data"
    }
   ],
   "source": [
    "Motif = fuzz.trapmf(Harga_m,[25,25,31,32.5])\n",
    "fig, (ax0) = plt.subplots(nrows=1,figsize=(6,6))\n",
    "ax0.plot(Harga_m,Motif,'blue')\n",
    "ax0.set_title('Sederhana')"
   ]
  },
  {
   "cell_type": "code",
   "execution_count": 290,
   "metadata": {},
   "outputs": [
    {
     "data": {
      "text/plain": [
       "Text(0.5,1,'Agak Rumit')"
      ]
     },
     "execution_count": 290,
     "metadata": {},
     "output_type": "execute_result"
    },
    {
     "data": {
      "image/png": "[encoded data removed]",
      "text/plain": [
       "<Figure size 432x432 with 1 Axes>"
      ]
     },
     "metadata": {},
     "output_type": "display_data"
    }
   ],
   "source": [
    "Motif = fuzz.trimf(Harga_m,[32.5,35,37.5])\n",
    "fig2, (ax1) = plt.subplots(nrows=1,figsize=(6,6))\n",
    "ax1.plot(Harga_m,Motif,'orange')\n",
    "ax1.set_title('Agak Rumit')"
   ]
  },
  {
   "cell_type": "code",
   "execution_count": 291,
   "metadata": {},
   "outputs": [
    {
     "data": {
      "text/plain": [
       "Text(0.5,1,'Rumit Sekali')"
      ]
     },
     "execution_count": 291,
     "metadata": {},
     "output_type": "execute_result"
    },
    {
     "data": {
      "image/png": "[encoded data removed]",
      "text/plain": [
       "<Figure size 432x432 with 1 Axes>"
      ]
     },
     "metadata": {},
     "output_type": "display_data"
    }
   ],
   "source": [
    "Motif = fuzz.trapmf(Harga_m,[37.5,43.5,50,50])\n",
    "fig, (ax0) = plt.subplots(nrows=1,figsize=(6,6))\n",
    "ax0.plot(Harga_m,Motif,'blue')\n",
    "ax0.set_title('Rumit Sekali')"
   ]
  },
  {
   "cell_type": "code",
   "execution_count": 116,
   "metadata": {},
   "outputs": [
    {
     "name": "stderr",
     "output_type": "stream",
     "text": [
      "C:\\Users\\acer\\Anaconda3\\lib\\site-packages\\matplotlib\\figure.py:459: UserWarning: matplotlib is currently using a non-GUI backend, so cannot show the figure\n",
      "  \"matplotlib is currently using a non-GUI backend, \"\n"
     ]
    },
    {
     "data": {
      "image/png": "[encoded data removed]",
      "text/plain": [
       "<Figure size 432x288 with 1 Axes>"
      ]
     },
     "metadata": {},
     "output_type": "display_data"
    }
   ],
   "source": [
    "Motif.view()"
   ]
  },
  {
   "cell_type": "markdown",
   "metadata": {},
   "source": [
    "# Fuzzifikasi Harga Batik"
   ]
  },
  {
   "cell_type": "code",
   "execution_count": 22,
   "metadata": {},
   "outputs": [],
   "source": [
    "Harga_batik = ctrl.Consequent(np.arange(65,8000,1),'Harga_batik')\n",
    "Harga_batik_x = np.arange(65,8000,1)"
   ]
  },
  {
   "cell_type": "code",
   "execution_count": 133,
   "metadata": {},
   "outputs": [
    {
     "data": {
      "text/plain": [
       "Text(0.5,1,'Murah')"
      ]
     },
     "execution_count": 133,
     "metadata": {},
     "output_type": "execute_result"
    },
    {
     "data": {
      "image/png": "[encoded data removed]",
      "text/plain": [
       "<Figure size 432x432 with 1 Axes>"
      ]
     },
     "metadata": {},
     "output_type": "display_data"
    }
   ],
   "source": [
    "Harga_batik = fuzz.trapmf(Harga_batik_x,[0,65,175,300])\n",
    "fig, (ax0) = plt.subplots(nrows=1,figsize=(6,6))\n",
    "ax0.plot(Harga_batik_x,Harga_batik,'blue')\n",
    "ax0.set_title('Murah')"
   ]
  },
  {
   "cell_type": "code",
   "execution_count": 132,
   "metadata": {},
   "outputs": [
    {
     "data": {
      "text/plain": [
       "Text(0.5,1,'Sedang')"
      ]
     },
     "execution_count": 132,
     "metadata": {},
     "output_type": "execute_result"
    },
    {
     "data": {
      "image/png": "[encoded data removed]",
      "text/plain": [
       "<Figure size 432x432 with 1 Axes>"
      ]
     },
     "metadata": {},
     "output_type": "display_data"
    }
   ],
   "source": [
    "Harga_batik = fuzz.trimf(Harga_batik_x,[305,1845,4000])\n",
    "fig2, (ax1) = plt.subplots(nrows=1,figsize=(6,6))\n",
    "ax1.plot(Harga_batik_x,Harga_batik,'orange')\n",
    "ax1.set_title('Sedang')"
   ]
  },
  {
   "cell_type": "code",
   "execution_count": 131,
   "metadata": {},
   "outputs": [
    {
     "data": {
      "text/plain": [
       "Text(0.5,1,'Mahal')"
      ]
     },
     "execution_count": 131,
     "metadata": {},
     "output_type": "execute_result"
    },
    {
     "data": {
      "image/png": "[encoded data removed]",
      "text/plain": [
       "<Figure size 432x432 with 1 Axes>"
      ]
     },
     "metadata": {},
     "output_type": "display_data"
    }
   ],
   "source": [
    "Harga_batik = fuzz.trapmf(Harga_batik_x,[4100,6500,8000,8000])\n",
    "fig, (ax0) = plt.subplots(nrows=1,figsize=(6,6))\n",
    "ax0.plot(Harga_batik_x,Harga_batik,'blue')\n",
    "ax0.set_title('Mahal')"
   ]
  },
  {
   "cell_type": "code",
   "execution_count": 117,
   "metadata": {},
   "outputs": [
    {
     "name": "stderr",
     "output_type": "stream",
     "text": [
      "C:\\Users\\acer\\Anaconda3\\lib\\site-packages\\matplotlib\\figure.py:459: UserWarning: matplotlib is currently using a non-GUI backend, so cannot show the figure\n",
      "  \"matplotlib is currently using a non-GUI backend, \"\n"
     ]
    },
    {
     "data": {
      "image/png": "[encoded data removed]",
      "text/plain": [
       "<Figure size 432x288 with 1 Axes>"
      ]
     },
     "metadata": {},
     "output_type": "display_data"
    }
   ],
   "source": [
    "Harga_batik.view()"
   ]
  },
  {
   "cell_type": "markdown",
   "metadata": {},
   "source": [
    "# membuat aturan-aturan fuzzy yang dinyatakan dalam bentuk IF .... THEN ...."
   ]
  },
  {
   "cell_type": "markdown",
   "metadata": {},
   "source": [
    "Pada sistem ini berdasarkan jumlah fuzzifikasi dari variabel Kain yang berjumlah 3 dan fuzzifikasi dari variabel Motif  & Warna yang berjumlah 9 , maka rule yang dibuat berjumlah 3 x 9 = 27 rule"
   ]
  },
  {
   "cell_type": "markdown",
   "metadata": {},
   "source": [
    "1. IF Kain_Serat_Kayu Rendah dan Proses_pembuatan PRINT dan Motif SEDERHANA THEN Harga_batik MURAH\n",
    "2. IF Kain_Serat_Kayu Sedang dan Proses_pembuatan CAP dan Motif AGAK RUMIT THEN Harga_batik SEDANG\n",
    "3. IF Kain_Serat_Kayu Tinggi dan Proses_pembuatan TULIS dan Motif RUMIT Sekali THEN Harga_batik MAHAL\n",
    "\n",
    "4. IF Kain_Serat_Kayu Rendah dan Proses_pembuatan PRINT dan Warna Alam THEN Harga_batik Murah\n",
    "5. IF Kain_Serat_Kayu Sedang dan Proses_pembuatan CAP dan Warna Alam THEN Harga_batik SEDANG\n",
    "6. IF Kain_Serat_Kayu Tinggi dan Proses_pembuatan TULIS dan Warna Alam THEN Harga_batik MAHAL\n",
    "\n",
    "7. IF Kain_Serat_Kayu Rendah dan Proses_pembuatan PRINT dan Warna SINTESIS THEN Harga_batik Murah\n",
    "8. IF Kain_Serat_Kayu Sedang dan Proses_pembuatan CAP dan Warna SINTESIS THEN Harga_batik SEDANG\n",
    "9. IF Kain_Serat_Kayu Tinggi dan Proses_pembuatan TULIS dan Warna SINTESIS THEN Harga_batik Sedang\n",
    "\n",
    "10. IF Kain_Katun Rendah dan Proses_pembuatan PRINT dan Motif SEDERHANA THEN Harga_batik Murah\n",
    "11. IF Kain_Katun Sedang dan Proses_pembuatan CAP dan  Motif AGAK RUMIT THEN Harga_batik Sedang\n",
    "12. IF Kain_Katun Tinggi dan Proses_pembuatan TULIS dan  Motif RUMIT Sekali THEN Harga_batik MAHAL\n",
    "\n",
    "13. IF Kain_Katun Rendah dan Proses_pembuatan PRINT dan Warna SINTESIS THEN Harga_batik MURAH\n",
    "14. IF Kain_Katun Sedang dan Proses_pembuatan CAP dan Warna SINTESIS THEN Harga_batik SEDANG\n",
    "15. IF Kain_Katun Tinggi dan Proses_pembuatan TULIS dan Warna SINTESIS THEN Harga_batik Sedang\n",
    "\n",
    "16. IF Kain_Katun Rendah dan Proses_pembuatan PRINT dan Warna Alam THEN Harga_batik MURAH\n",
    "17. IF Kain_Katun Sedang dan Proses_pembuatan CAP dan Warna Alam THEN Harga_batik SEDANG\n",
    "18. IF Kain_Katun Tinggi dan Proses_pembuatan TULIS dan Warna Alam THEN Harga_batik MAHAL\n",
    "\n",
    "19. IF Kain_Sutra Rendah dan Proses_pembuatan PRINT dan Motif SEDERHANA THEN Harga_batik Murah\n",
    "20. IF Kain_Sutra Sedang dan Proses_pembuatan CAP dan  Motif AGAK RUMIT THEN Harga_batik SEDANG\n",
    "21. IF Kain_Sutra Tinggi dan Proses_pembuatan TULIS dan  Motif RUMIT Sekali THEN Harga_batik MAHAL\n",
    "\n",
    "22. IF Kain_Sutra Rendah dan Proses_pembuatan PRINT dan Warna Alam THEN Harga_batik Murah\n",
    "23. IF Kain_Sutra Sedang dan Proses_pembuatan CAP dan Warna Alam THEN Harga_batik SEDANG\n",
    "24. IF Kain_Sutra Tinggi dan Proses_pembuatan TULIS dan Warna Alam THEN Harga_batik Mahal\n",
    "\n",
    "25. IF Kain_Sutra Rendah dan Proses_pembuatan PRINT dan Warna SINTESIS THEN Harga_batik Murah\n",
    "26. IF Kain_Sutra Sedang dan Proses_pembuatan CAP dan Warna SINTESIS THEN Harga_batik Sedang\n",
    "27. IF Kain_Sutra Tinggi dan Proses_pembuatan TULIS dan Warna SINTESIS THEN Harga_batik Sedang\n",
    "\n"
   ]
  },
  {
   "cell_type": "markdown",
   "metadata": {},
   "source": [
    "# Rule"
   ]
  },
  {
   "cell_type": "code",
   "execution_count": 118,
   "metadata": {},
   "outputs": [],
   "source": [
    "rule1 = ctrl.Rule(Kain_Serat_Kayu['Rendah'] & Proses_pembuatan['Print'] & Motif['Sederhana'], Harga_batik['Murah'])\n",
    "rule2 = ctrl.Rule(Kain_Serat_Kayu['Sedang'] & Proses_pembuatan['Cap']& Motif['Agak Rumit'], Harga_batik['Sedang'])\n",
    "rule3 = ctrl.Rule(Kain_Serat_Kayu['Tinggi'] & Proses_pembuatan['Tulis']& Motif['Rumit Sekali'], Harga_batik['Mahal'])\n",
    "\n",
    "rule4 = ctrl.Rule(Kain_Serat_Kayu['Rendah'] & Proses_pembuatan['Print'] & Warna['Alam'], Harga_batik['Murah'])\n",
    "rule5 = ctrl.Rule(Kain_Serat_Kayu['Sedang'] & Proses_pembuatan['Cap'] & Warna['Alam'], Harga_batik['Sedang'])\n",
    "rule6 = ctrl.Rule(Kain_Serat_Kayu['Tinggi'] & Proses_pembuatan['Tulis'] & Warna['Alam'], Harga_batik['Sedang'])\n",
    "\n",
    "rule7 = ctrl.Rule(Kain_Serat_Kayu['Rendah'] & Proses_pembuatan['Print'] & Warna['Sintesis'], Harga_batik['Murah'])\n",
    "rule8 = ctrl.Rule(Kain_Serat_Kayu['Sedang'] & Proses_pembuatan['Cap'] & Warna['Sintesis'], Harga_batik['Sedang'])\n",
    "rule9 = ctrl.Rule(Kain_Serat_Kayu['Tinggi'] & Proses_pembuatan['Tulis'] & Warna['Sintesis'], Harga_batik['Sedang'])\n",
    "\n",
    "rule10 = ctrl.Rule(Kain_Katun['Rendah'] & Proses_pembuatan['Print'] & Motif['Sederhana'], Harga_batik['Murah'])\n",
    "rule11 = ctrl.Rule(Kain_Katun['Sedang'] & Proses_pembuatan['Cap'] & Motif['Agak Rumit'], Harga_batik['Sedang'])\n",
    "rule12 = ctrl.Rule(Kain_Katun['Tinggi'] & Proses_pembuatan['Tulis'] & Motif['Rumit Sekali'], Harga_batik['Mahal'])\n",
    "\n",
    "rule13 = ctrl.Rule(Kain_Katun['Rendah'] & Proses_pembuatan['Print'] & Warna['Sintesis'], Harga_batik['Murah'])\n",
    "rule14 = ctrl.Rule(Kain_Katun['Sedang'] & Proses_pembuatan['Cap'] & Warna['Sintesis'], Harga_batik['Sedang'])\n",
    "rule15 = ctrl.Rule(Kain_Katun['Tinggi'] & Proses_pembuatan['Tulis'] & Warna['Sintesis'], Harga_batik['Sedang'])\n",
    "\n",
    "rule16 = ctrl.Rule(Kain_Katun['Rendah'] & Proses_pembuatan['Print'] & Warna['Alam'], Harga_batik['Murah'])\n",
    "rule17 = ctrl.Rule(Kain_Katun['Sedang'] & Proses_pembuatan['Cap'] & Warna['Alam'], Harga_batik['Sedang'])\n",
    "rule18 = ctrl.Rule(Kain_Katun['Tinggi'] & Proses_pembuatan['Tulis'] & Warna['Alam'], Harga_batik['Mahal'])\n",
    "\n",
    "rule19 = ctrl.Rule(Kain_Sutra['Rendah'] & Proses_pembuatan['Print'] & Motif['Sederhana'], Harga_batik['Murah'])\n",
    "rule20 = ctrl.Rule(Kain_Sutra['Sedang'] & Proses_pembuatan['Cap'] & Motif['Agak Rumit'], Harga_batik['Sedang'])\n",
    "rule21 = ctrl.Rule(Kain_Sutra['Tinggi'] & Proses_pembuatan['Tulis'] & Motif['Rumit Sekali'], Harga_batik['Mahal'])\n",
    "\n",
    "rule22 = ctrl.Rule(Kain_Sutra['Rendah'] & Proses_pembuatan['Print'] & Warna['Alam'], Harga_batik['Murah'])\n",
    "rule23 = ctrl.Rule(Kain_Sutra['Sedang'] & Proses_pembuatan['Cap'] & Warna['Alam'], Harga_batik['Sedang'])\n",
    "rule24 = ctrl.Rule(Kain_Sutra['Tinggi'] & Proses_pembuatan['Tulis'] & Warna['Alam'], Harga_batik['Mahal'])\n",
    "\n",
    "rule25 = ctrl.Rule(Kain_Sutra['Rendah'] & Proses_pembuatan['Print'] & Warna['Sintesis'], Harga_batik['Murah'])\n",
    "rule26 = ctrl.Rule(Kain_Sutra['Sedang'] & Proses_pembuatan['Cap'] & Warna['Sintesis'], Harga_batik['Sedang'])\n",
    "rule27 = ctrl.Rule(Kain_Sutra['Tinggi'] & Proses_pembuatan['Tulis'] & Warna['Sintesis'], Harga_batik['Sedang'])\n",
    "\n",
    "\n",
    "\n",
    "braking_ctrl = ctrl.ControlSystem([rule1, rule2, rule3, rule4, rule5, rule6, rule7, rule8, rule9, rule10, rule11, rule12, rule13, rule14, rule15, rule16, rule17, rule18, rule19, rule20, rule21, \n",
    "     rule22, rule23, rule24, rule25, rule26, rule27])\n"
   ]
  },
  {
   "cell_type": "markdown",
   "metadata": {},
   "source": [
    "# DEFUZZIFIKASI"
   ]
  },
  {
   "cell_type": "code",
   "execution_count": 120,
   "metadata": {},
   "outputs": [
    {
     "name": "stdout",
     "output_type": "stream",
     "text": [
      "3266.49643247982\n"
     ]
    },
    {
     "name": "stderr",
     "output_type": "stream",
     "text": [
      "C:\\Users\\acer\\Anaconda3\\lib\\site-packages\\matplotlib\\figure.py:459: UserWarning: matplotlib is currently using a non-GUI backend, so cannot show the figure\n",
      "  \"matplotlib is currently using a non-GUI backend, \"\n"
     ]
    },
    {
     "data": {
      "image/png": "[encoded data removed]",
      "text/plain": [
       "<Figure size 432x288 with 1 Axes>"
      ]
     },
     "metadata": {},
     "output_type": "display_data"
    }
   ],
   "source": [
    "brake = ctrl.ControlSystemSimulation(braking_ctrl)\n",
    "\n",
    "brake.input['Kain_Serat_Kayu'] = 12\n",
    "brake.input['Proses_pembuatan']= 35\n",
    "brake.input['Motif'] = 50\n",
    "brake.input['Warna'] = 50\n",
    "brake.input['Kain_Sutra'] = 12\n",
    "brake.input['Kain_Katun'] = 12\n",
    "\n",
    "brake.compute()\n",
    "print(brake.output['Harga_batik'])\n",
    "\n",
    "Harga_batik.view(sim=brake)\n",
    "\n",
    "plt.show()"
   ]
  },
  {
   "cell_type": "markdown",
   "metadata": {},
   "source": [
    "# Perhitungan Manual"
   ]
  },
  {
   "cell_type": "markdown",
   "metadata": {},
   "source": [
    "\n",
    "\n",
    "\\begin{equation}\n",
    "    Kain Serat Kayu : 12 \\\\\n",
    "  Harga['Kain_Serat_Kayu'] = \\mu Rendah(x)=\\begin{cases}\n",
    "    1, & \\text{$10\\leq x \\leq 11$}.\\\\\n",
    "    \\left.(12 - x) \\,  \\right/(12 - 11) , & \\text{$11 \\leq x \\leq 12$}.\\\\\n",
    "    0, & \\text{$x\\geq 12$}.\\checkmark\n",
    "  \\end{cases}\n",
    "  \\\\\n",
    "    Harga['Kain_Serat_Kayu'] = \\mu Sedang(x)=\\begin{cases}\n",
    "    0, & \\text{$x\\leq 11$ atau $x\\geq13$}. \\\\\n",
    "    \\left.(x - 11)\\, \\right/(12 - 11) , & \\text{$11 \\leq x \\leq 12$}.\\checkmark\\\\\n",
    "    \\left.(13 - x)\\, \\right/(13 - 12) , & \\text{$12 \\leq x \\leq 13$}.\\\\\n",
    "  \\end{cases}\n",
    "  \\\\\n",
    "    Harga['Kain_Serat_Kayu'] = \\mu Tinggi(x)=\\begin{cases}\n",
    "    1, & \\text{$12\\leq x \\leq 13$}.\\checkmark\\\\\n",
    "    \\left.(14 - x) \\,  \\right/(14 - 13) , & \\text{$13 \\leq x \\leq 14$}.\\\\\n",
    "    0, & \\text{$x\\geq 14$}.\n",
    "  \\end{cases}\n",
    "  \\end{equation}\n"
   ]
  },
  {
   "cell_type": "markdown",
   "metadata": {},
   "source": [
    "\\begin{equation}\n",
    "    \\mu KainSeratKayu(Sedang)(12) = (12- 11) / (12 - 11) \\\\\n",
    "    \\mu KainSeratKayu(Sedang)(12) = 1/1 \\\\ \n",
    "    \\mu KainSeratKayu(Sedang)(12) = 1 \\\\\n",
    "\\end{equation}"
   ]
  },
  {
   "cell_type": "markdown",
   "metadata": {},
   "source": [
    "Kain Katun = 12\n",
    "\\begin{equation}\n",
    "  Harga['Kain_Katun'] = \\mu Rendah(x)=\\begin{cases}\n",
    "    1, & \\text{$9\\leq x \\leq 9.4$}.\\\\\n",
    "    \\left.(10 - x) \\,  \\right/(10 - 9.4) , & \\text{$9.4 \\leq x \\leq 10$}.\\\\\n",
    "    0, & \\text{$x\\geq 10$}.\\checkmark\n",
    "  \\end{cases}\n",
    "  \\\\\n",
    "    Harga['Kain_Katun'] = \\mu Sedang(x)=\\begin{cases}\n",
    "    0, & \\text{$x\\leq 9.4$ atau $x\\geq10.6$}.\\checkmark \\\\ \n",
    "    \\left.(x - 9.4)\\, \\right/(10 - 9.4) , & \\text{$9.4 \\leq x \\leq 10$}.\\\\\n",
    "    \\left.(10.6 - x)\\, \\right/(10.6 - 10) , & \\text{$10 \\leq x \\leq 10.6$}.\\\\\n",
    "  \\end{cases}\n",
    "  \\\\\n",
    "    Harga['Kain_Katun'] = \\mu Tinggi(x)=\\begin{cases}\n",
    "     1, & \\text{$10\\leq x \\leq 10.5$}.\\\\\n",
    "    \\left.(11 - x) \\,  \\right/(11 - 10.5) , & \\text{$10.5 \\leq x \\leq 11$}.\\\\\n",
    "    0, & \\text{$x\\geq 11$}. \\checkmark\n",
    "  \\end{cases}\n",
    "\\end{equation}"
   ]
  },
  {
   "cell_type": "markdown",
   "metadata": {},
   "source": [
    "Kain Sutra = 12\n",
    "\\begin{equation}\n",
    "  Harga['Kain_Sutra'] = \\mu Rendah(x)=\\begin{cases}\n",
    "    1, & \\text{$10\\leq x \\leq 11$}. \\\\\n",
    "    \\left.(12 - x) \\,  \\right/(12 - 11) , & \\text{$11 \\leq x \\leq 12$}.\\\\\n",
    "    0, & \\text{$x\\geq 12$}\\checkmark.\n",
    "  \\end{cases}\n",
    "  \\\\\n",
    "    Harga['Kain_Sutra'] = \\mu Sedang(x)=\\begin{cases}\n",
    "    0, & \\text{$x\\leq 11$ atau $x\\geq12$}.\\\\\n",
    "    \\left.(x - 11)\\, \\right/(12 - 11) , & \\text{$11 \\leq x \\leq 12$}.\\checkmark \\\\\n",
    "    \\left.(13 - x)\\, \\right/(13 - 12) , & \\text{$12 \\leq x \\leq 13$}.\\\\\n",
    "  \\end{cases}\n",
    "  \\\\\n",
    "    Harga['Kain_Sutra'] = \\mu Tinggi(x)=\\begin{cases}\n",
    "     1, & \\text{$12\\leq x \\leq 13$}.\\checkmark \\\\\n",
    "    \\left.(14 - x) \\,  \\right/(14 - 13) , & \\text{$13 \\leq x \\leq 14$}.\\\\\n",
    "    0, & \\text{$x\\geq 14$}.\n",
    "  \\end{cases}\n",
    "\\end{equation}"
   ]
  },
  {
   "cell_type": "markdown",
   "metadata": {},
   "source": [
    "\n",
    "\\begin{equation}\n",
    "    \\mu Sutra(Sedang)(12) = (12- 11) / (12 - 11) \\\\\n",
    "    \\mu Sutra(Sedang)(12) = 1/1 \\\\ \n",
    "    \\mu Sutra(Sedang)(12) = 1 \\\\\n",
    "    \\mu Sutra(Sedang)(12) = (13- 12) / (13 - 12) \\\\\n",
    "    \\mu Sutra(Sedang)(12) = 1/1 \\\\ \n",
    "    \\mu Sutra(Sedang)(12) = 1 \\\\\n",
    "\\end{equation}"
   ]
  },
  {
   "cell_type": "markdown",
   "metadata": {},
   "source": [
    "\\begin{equation}\n",
    "    Proses Pembuatan = 35 \\\\\n",
    "  Harga['Proses_Pembuatan'] = \\mu Print(x)=\\begin{cases}\n",
    "    1, & \\text{$7.5\\leq x \\leq 14$}.\\\\\n",
    "    \\left.(20 - x) \\,  \\right/(20 - 14) , & \\text{$14 \\leq x \\leq 20$}.\\\\\n",
    "    0, & \\text{$x\\geq 20$}\\checkmark.\n",
    "  \\end{cases}\n",
    "  \\\\\n",
    "    Harga['Proses_Pembuatan'] = \\mu Cap(x)=\\begin{cases}\n",
    "    0, & \\text{$x\\leq 20$ atau $x\\geq35$}.\\checkmark\\\\\n",
    "    \\left.(x - 27.5)\\, \\right/(27.5 - 20) , & \\text{$20 \\leq x \\leq 27.5$}.\\\\\n",
    "    \\left.(35 - x)\\, \\right/(35 - 27.5) , & \\text{$27.5 \\leq x \\leq 35$}.\\\\\n",
    "  \\end{cases}\n",
    "  \\\\\n",
    "    Harga['Proses_Pembuatan'] = \\mu Tulis(x)=\\begin{cases}\n",
    "     1, & \\text{$35\\leq x \\leq 55$}.\\checkmark \\\\\n",
    "    \\left.(70 - x) \\,  \\right/(70 - 55) , & \\text{$55 \\leq x \\leq 70$}.\\\\\n",
    "    0, & \\text{$x\\geq 70$}.\n",
    "  \\end{cases}\n",
    "\\end{equation}"
   ]
  },
  {
   "cell_type": "markdown",
   "metadata": {},
   "source": [
    "\\begin{equation}\n",
    "    Warna = 50\\\\\n",
    "  Harga Pewarna['Warna'] = \\mu Sintesis(x)=\\begin{cases}\n",
    "    1, & \\text{$5\\leq x \\leq 80$}.\\checkmark \\\\\n",
    "    \\left.(160 - x) \\,  \\right/(160 - 80) , & \\text{$80 \\leq x \\leq 160$}.\\\\\n",
    "    0, & \\text{$x\\geq 160$}.\n",
    "  \\end{cases}\n",
    "  \\\\\n",
    "    Harga Pewarna['Warna'] = \\mu Alam(x)=\\begin{cases}\n",
    "    1, & \\text{$40\\leq x \\leq 120$}.\\checkmark \\\\\n",
    "    \\left.(200 - x) \\,  \\right/(200 - 120) , & \\text{$120 \\leq x \\leq 200$}.\\\\\n",
    "    0, & \\text{$x\\geq 200$}.\n",
    "  \\end{cases}\n",
    "\\end{equation}"
   ]
  },
  {
   "cell_type": "markdown",
   "metadata": {},
   "source": [
    "\n",
    "\\begin{equation}\n",
    "    Motif = 50\\\\\n",
    "  Harga['Motif'] = \\mu Sederhana(x)=\\begin{cases}\n",
    "    1, & \\text{$25\\leq x \\leq 31$}.\\\\\n",
    "    \\left.(32.5 - x) \\,  \\right/(32.5 - 31) , & \\text{$31 \\leq x \\leq 32.5$}.\\\\\n",
    "    0, & \\text{$x\\geq 32.5$}\\checkmark.\n",
    "  \\end{cases}\n",
    "  \\\\\n",
    "    Harga['Motif'] = \\mu AgakRumit(x)=\\begin{cases}\n",
    "    0, & \\text{$x\\leq 32.5$ atau $x\\geq37.5$}.\\checkmark \\\\\n",
    "    \\left.(x - 32.5)\\, \\right/(35 - 32.5) , & \\text{$32.5 \\leq x \\leq 35$}.\\\\\n",
    "    \\left.(37.5 - x)\\, \\right/(37.5 - 35) , & \\text{$35 \\leq x \\leq 37.5$}.\\\\\n",
    "  \\end{cases}\n",
    "  \\\\\n",
    "    Harga['Motif'] = \\mu RumitSekali(x)=\\begin{cases}\n",
    "     1, & \\text{$37\\leq x \\leq 43.5$}.\\\\\n",
    "    \\left.(50 - x) \\,  \\right/(50 - 43.5) , & \\text{$43.5 \\leq x \\leq 50$}.\\\\\n",
    "    0, & \\text{$x\\geq 50$}.\\checkmark\n",
    "  \\end{cases}\n",
    "\\end{equation}"
   ]
  },
  {
   "cell_type": "markdown",
   "metadata": {},
   "source": [
    "# Pencarian Nilai z Setiap Aturan dengan menggunakan MIN karena menggunakan rule AND"
   ]
  },
  {
   "cell_type": "markdown",
   "metadata": {},
   "source": [
    "1. IF Kain_Serat_Kayu Rendah dan Proses_pembuatan PRINT dan Motif SEDERHANA THEN Harga_batik MURAH\n",
    "\n",
    "$$ \\\\ \\alpha(predikat_1) = \\mu Rendah \\cap \\mu Print \\cap \\mu Sederhana $$\n",
    "$$\\alpha(predikat_1)   = min (\\mu Rendah[12], \\mu Print[35]\\cap \\mu Sederhana[50]) $$\n",
    "$$ \\alpha(predikat_1) = min (0; 1;0 ) $$\n",
    "$$ \\alpha(predikat_1) = 0 $$\n"
   ]
  },
  {
   "cell_type": "markdown",
   "metadata": {},
   "source": [
    "Maka nilai $ Z_1 = 0 $"
   ]
  },
  {
   "cell_type": "markdown",
   "metadata": {},
   "source": [
    "2. IF Kain_Serat_Kayu Sedang dan Proses_pembuatan CAP dan Motif AGAK RUMIT THEN Harga_batik SEDANG"
   ]
  },
  {
   "cell_type": "markdown",
   "metadata": {},
   "source": [
    "$$ \\\\ \\alpha(predikat_2) = \\mu Sedang \\cap \\mu Cap \\cap \\mu AgakRumit $$\n",
    "$$\\alpha(predikat_2)   = min (\\mu Sedang[12], \\mu Cap[35]\\cap \\mu AgakRumit[50]) $$\n",
    "$$ \\alpha(predikat_2) = min (1; 0 ;0 ) $$\n",
    "$$ \\alpha(predikat_2) = 0 $$\n"
   ]
  },
  {
   "cell_type": "markdown",
   "metadata": {},
   "source": [
    "Maka nilai $ Z_2 = 0 $"
   ]
  },
  {
   "cell_type": "markdown",
   "metadata": {},
   "source": [
    "3. IF Kain_Serat_Kayu Tinggi dan Proses_pembuatan TULIS dan Motif RUMIT Sekali Sekali THEN Harga_batik MAHAL"
   ]
  },
  {
   "cell_type": "markdown",
   "metadata": {},
   "source": [
    "$$ \\\\ \\alpha(predikat_3) = \\mu Tinggi \\cap \\mu Tulis \\cap \\mu RumitSekali $$\n",
    "$$\\alpha(predikat_3)   = min (\\mu Tinggi[12], \\mu Tulis[35]\\cap \\mu RumitSekali[50]) $$\n",
    "$$ \\alpha(predikat_3) = min (1; 1;0 ) $$\n",
    "$$ \\alpha(predikat_3) = 0 $$\n"
   ]
  },
  {
   "cell_type": "markdown",
   "metadata": {},
   "source": [
    "Maka nilai $ Z_3 = 0 $"
   ]
  },
  {
   "cell_type": "markdown",
   "metadata": {},
   "source": [
    "4. IF Kain_Serat_Kayu Rendah dan Proses_pembuatan PRINT dan Warna Alam THEN Harga_batik Murah"
   ]
  },
  {
   "cell_type": "markdown",
   "metadata": {},
   "source": [
    "$$ \\\\ \\alpha(predikat_4) = \\mu Rendah \\cap \\mu Print \\cap \\mu Alam $$\n",
    "$$\\alpha(predikat_4)   = min (\\mu Rendah[12], \\mu Print[35]\\cap \\mu Alam[50]) $$\n",
    "$$ \\alpha(predikat_4) = min (0; 0;1 ) $$\n",
    "$$ \\alpha(predikat_4) = 0 $$\n"
   ]
  },
  {
   "cell_type": "markdown",
   "metadata": {},
   "source": [
    "Maka nilai $ Z_4 = 0 $"
   ]
  },
  {
   "cell_type": "markdown",
   "metadata": {},
   "source": [
    "5. IF Kain_Serat_Kayu Sedang dan Proses_pembuatan CAP dan Warna Alam THEN Harga_batik SEDANG"
   ]
  },
  {
   "cell_type": "markdown",
   "metadata": {},
   "source": [
    "$$ \\\\ \\alpha(predikat_5) = \\mu Sedang \\cap \\mu Cap \\cap \\mu Alam $$\n",
    "$$\\alpha(predikat_5)   = min (\\mu Sedang[12], \\mu Cap[35]\\cap \\mu Alam[50]) $$\n",
    "$$ \\alpha(predikat_5) = min (1; 0;1 ) $$\n",
    "$$ \\alpha(predikat_5) = 0 $$\n",
    "Maka nilai $ Z_5 = 0 $"
   ]
  },
  {
   "cell_type": "markdown",
   "metadata": {},
   "source": [
    "6. IF Kain_Serat_Kayu Tinggi dan Proses_pembuatan TULIS dan Warna Alam THEN Harga_batik MAHAL"
   ]
  },
  {
   "cell_type": "markdown",
   "metadata": {},
   "source": [
    "$$ \\\\ \\alpha(predikat_6) = \\mu Tinggi \\cap \\mu Tulis \\cap \\mu Alam $$\n",
    "$$\\alpha(predikat_6)   = min (\\mu Tinggi[12], \\mu Tulis[35]\\cap \\mu Alam[50]) $$\n",
    "$$ \\alpha(predikat_6) = min (1; 1;1 ) $$\n",
    "$$ \\alpha(predikat_6) = 1 $$\n",
    "Maka nilai $ Z_6 = 1 $"
   ]
  },
  {
   "cell_type": "markdown",
   "metadata": {},
   "source": [
    " \\begin{equation}\n",
    " Harga['HargaBatik'] = \\mu Sedang(x)=\\begin{cases}\n",
    "    0, & \\text{$x\\leq 32.5$ atau $x\\geq35$}.\\\\\n",
    "    \\left.(x - 305)\\, \\right/(1845 - 305) , & \\text{$32.5 \\leq x \\leq 1845$}.\\\\\n",
    "    \\left.(4000 - x)\\, \\right/(4000 - 1845) , & \\text{$1845 \\leq x \\leq 4000$}.\\\\\n",
    "  \\end{cases}\n",
    "\\end{equation}"
   ]
  },
  {
   "cell_type": "markdown",
   "metadata": {},
   "source": [
    "Terdapat 2 nilai keanggotaan maka kita uji satu persatu\n",
    " $$(x- 305) / (1845 - 305) = 1 $$\n",
    " $$ x - 305 = 1 \\times 1540 $$\n",
    " $$ x - 305 = 1540 $$\n",
    " $$ x = 1845 $$\n",
    " \n",
    " $$ (4000 -x) / (4000 -1845) = 1 $$\n",
    " $$ (4000 - x) = 2155 $$\n",
    " $$ - x = -1845 $$\n",
    " $$ x = 1845 $$\n",
    "Akan diambil nilai terkecil\n",
    "Maka nilai $ Z_3 = 1845 $\n",
    "\n"
   ]
  },
  {
   "cell_type": "markdown",
   "metadata": {},
   "source": [
    "7. IF Kain_Serat_Kayu Rendah dan Proses_pembuatan PRINT dan Warna SINTESIS THEN Harga_batik Murah"
   ]
  },
  {
   "cell_type": "markdown",
   "metadata": {},
   "source": [
    "$$ \\\\ \\alpha(predikat_7) = \\mu Rendah \\cap \\mu Print \\cap \\mu Sintesis $$\n",
    "$$\\alpha(predikat_7)   = min (\\mu Rendah[12], \\mu Print[35]\\cap \\mu Sintesis[50]) $$\n",
    "$$ \\alpha(predikat_7) = min (0; 0;1 ) $$\n",
    "$$ \\alpha(predikat_7) = 0 $$\n"
   ]
  },
  {
   "cell_type": "markdown",
   "metadata": {},
   "source": [
    "Maka nilai Z$_7$ = 0"
   ]
  },
  {
   "cell_type": "markdown",
   "metadata": {},
   "source": [
    "8. IF Kain_Serat_Kayu Sedang dan Proses_pembuatan CAP dan Warna SINTESIS THEN Harga_batik SEDANG"
   ]
  },
  {
   "cell_type": "markdown",
   "metadata": {},
   "source": [
    "$$ \\\\ \\alpha(predikat_8) = \\mu Sedang \\cap \\mu Cap \\cap \\mu Sintesis $$\n",
    "$$\\alpha(predikat_8)   = min (\\mu Sedang[12], \\mu Cap[35]\\cap \\mu Sintesis[50]) $$\n",
    "$$ \\alpha(predikat_8) = min (0; 0;1 ) $$\n",
    "$$ \\alpha(predikat_8) = 0 $$\n"
   ]
  },
  {
   "cell_type": "markdown",
   "metadata": {},
   "source": [
    "Maka nilai Z$_8$ = 0"
   ]
  },
  {
   "cell_type": "markdown",
   "metadata": {},
   "source": [
    "9. IF Kain_Serat_Kayu Tinggi dan Proses_pembuatan TULIS dan Warna SINTESIS THEN Harga_batik Sedang"
   ]
  },
  {
   "cell_type": "markdown",
   "metadata": {},
   "source": [
    "$$ \\\\ \\alpha(predikat_9) = \\mu Tinggi \\cap \\mu Tulis \\cap \\mu Sintesis $$\n",
    "$$\\alpha(predikat_9)   = min (\\mu Tinggi[12], \\mu Tulis[35]\\cap \\mu Sintesis[50]) $$\n",
    "$$ \\alpha(predikat_9) = min (1; 1;1 ) $$\n",
    "$$ \\alpha(predikat_9) = 1 $$\n"
   ]
  },
  {
   "cell_type": "markdown",
   "metadata": {},
   "source": [
    " \\begin{equation}\n",
    " Harga['HargaBatik'] = \\mu Sedang(x)=\\begin{cases}\n",
    "    0, & \\text{$x\\leq 32.5$ atau $x\\geq35$}.\\\\\n",
    "    \\left.(x - 305)\\, \\right/(1845 - 305) , & \\text{$32.5 \\leq x \\leq 1845$}.\\\\\n",
    "    \\left.(4000 - x)\\, \\right/(4000 - 1845) , & \\text{$1845 \\leq x \\leq 4000$}.\\\\\n",
    "  \\end{cases}\n",
    "\\end{equation}"
   ]
  },
  {
   "cell_type": "markdown",
   "metadata": {},
   "source": [
    "Terdapat 2 nilai keanggotaan maka kita uji satu persatu\n",
    " $$(x- 305) / (1845 - 305) = 1 $$\n",
    " $$ x - 305 = 1 \\times 1540 $$\n",
    " $$ x - 305 = 1540 $$\n",
    " $$ x = 1845 $$\n",
    " \n",
    " $$ (4000 -x) / (4000 -1845) = 1 $$\n",
    " $$ (4000 - x) = 2155 $$\n",
    " $$ - x = -1845 $$\n",
    " $$ x = 1845 $$\n",
    "Akan diambil nilai terkecil\n",
    "Maka nilai $ Z_9 = 1845 $"
   ]
  },
  {
   "cell_type": "markdown",
   "metadata": {},
   "source": [
    "10. IF Kain_Katun Rendah dan Proses_pembuatan PRINT dan Motif SEDERHANA THEN Harga_batik Murah"
   ]
  },
  {
   "cell_type": "markdown",
   "metadata": {},
   "source": [
    "$$ \\\\ \\alpha(predikat_10) = \\mu Rendah \\cap \\mu Print \\cap \\mu Sederhana $$\n",
    "$$\\alpha(predikat_10)   = min (\\mu Rendah[12], \\mu Print[35]\\cap \\mu Sederhana[50]) $$\n",
    "$$ \\alpha(predikat_10) = min (0; 0;0 ) $$\n",
    "$$ \\alpha(predikat_10) = 0 $$\n"
   ]
  },
  {
   "cell_type": "markdown",
   "metadata": {},
   "source": [
    "Maka nilai Z$_10$ = 0"
   ]
  },
  {
   "cell_type": "markdown",
   "metadata": {},
   "source": [
    "11. IF Kain_Katun Sedang dan Proses_pembuatan CAP dan  Motif AGAK RUMIT THEN Harga_batik Sedang"
   ]
  },
  {
   "cell_type": "markdown",
   "metadata": {},
   "source": [
    "$$ \\\\ \\alpha(predikat_11) = \\mu Sedang \\cap \\mu Cap \\cap \\mu AgakRumit $$\n",
    "$$\\alpha(predikat_11)   = min (\\mu Sedang[12], \\mu Cap[35]\\cap \\mu AgakRumit[50]) $$\n",
    "$$ \\alpha(predikat_11) = min (0; 0;0 ) $$\n",
    "$$ \\alpha(predikat_11) = 0 $$\n"
   ]
  },
  {
   "cell_type": "markdown",
   "metadata": {},
   "source": [
    "Maka nilai Z$_11$ = 0"
   ]
  },
  {
   "cell_type": "markdown",
   "metadata": {},
   "source": [
    "12. IF Kain_Katun Tinggi dan Proses_pembuatan TULIS dan  Motif RUMIT Sekali THEN Harga_batik MAHAL"
   ]
  },
  {
   "cell_type": "markdown",
   "metadata": {},
   "source": [
    "$$ \\\\ \\alpha(predikat_12) = \\mu Tinggi \\cap \\mu Tulis \\cap \\mu RumitSekali $$\n",
    "$$\\alpha(predikat_12)   = min (\\mu Tinggi[12], \\mu Tulis[35]\\cap \\mu RumitSekali[50]) $$\n",
    "$$ \\alpha(predikat_12) = min (0; 1;1 ) $$\n",
    "$$ \\alpha(predikat_12) = 0 $$\n"
   ]
  },
  {
   "cell_type": "markdown",
   "metadata": {},
   "source": [
    "Maka nilai Z$_12$ = 0"
   ]
  },
  {
   "cell_type": "markdown",
   "metadata": {},
   "source": [
    "13. IF Kain_Katun Rendah dan Proses_pembuatan PRINT dan Warna SINTESIS THEN Harga_batik MURAH"
   ]
  },
  {
   "cell_type": "markdown",
   "metadata": {},
   "source": [
    "$$ \\\\ \\alpha(predikat_13) = \\mu Rendah \\cap \\mu Print \\cap \\mu Sintesis $$\n",
    "$$\\alpha(predikat_13)   = min (\\mu Rendah[12], \\mu Print[35]\\cap \\mu Sintesis[50]) $$\n",
    "$$ \\alpha(predikat_13) = min (0; 0;1 ) $$\n",
    "$$ \\alpha(predikat_13) = 0 $$\n"
   ]
  },
  {
   "cell_type": "markdown",
   "metadata": {},
   "source": [
    "Maka nilai Z$_13$ = 0"
   ]
  },
  {
   "cell_type": "markdown",
   "metadata": {},
   "source": [
    "14. IF Kain_Katun Sedang dan Proses_pembuatan CAP dan Warna SINTESIS THEN Harga_batik SEDANG"
   ]
  },
  {
   "cell_type": "markdown",
   "metadata": {},
   "source": [
    "$$ \\\\ \\alpha(predikat_14) = \\mu Sedang \\cap \\mu Cap \\cap \\mu Sintesis $$\n",
    "$$\\alpha(predikat_14)   = min (\\mu Sedang[12], \\mu Cap[35]\\cap \\mu Sintesis[50]) $$\n",
    "$$ \\alpha(predikat_14) = min (0; 0;1 ) $$\n",
    "$$ \\alpha(predikat_14) = 0 $$\n"
   ]
  },
  {
   "cell_type": "markdown",
   "metadata": {},
   "source": [
    "Maka nilai Z$_14$ = 0"
   ]
  },
  {
   "cell_type": "markdown",
   "metadata": {},
   "source": [
    "15. IF Kain_Katun Tinggi dan Proses_pembuatan TULIS dan Warna SINTESIS THEN Harga_batik Sedang"
   ]
  },
  {
   "cell_type": "markdown",
   "metadata": {},
   "source": [
    "$$ \\\\ \\alpha(predikat_15) = \\mu Tinggi \\cap \\mu Tulis \\cap \\mu Sintesis $$\n",
    "$$\\alpha(predikat_15)   = min (\\mu Tinggi[12], \\mu Tulis[35]\\cap \\mu Sintesis[50]) $$\n",
    "$$ \\alpha(predikat_15) = min (0; 1;1 ) $$\n",
    "$$ \\alpha(predikat_15) = 0 $$\n"
   ]
  },
  {
   "cell_type": "markdown",
   "metadata": {},
   "source": [
    "Maka nilai Z$_15$ = 0"
   ]
  },
  {
   "cell_type": "markdown",
   "metadata": {},
   "source": [
    "16. IF Kain_Katun Rendah dan Proses_pembuatan PRINT dan Warna Alam THEN Harga_batik MURAH"
   ]
  },
  {
   "cell_type": "markdown",
   "metadata": {},
   "source": [
    "$$ \\\\ \\alpha(predikat_1) = \\mu Rendah \\cap \\mu Print \\cap \\mu Alam $$\n",
    "$$\\alpha(predikat_1)   = min (\\mu Rendah[12], \\mu Print[35]\\cap \\mu Alam[50]) $$\n",
    "$$ \\alpha(predikat_1) = min (0; 0;1 ) $$\n",
    "$$ \\alpha(predikat_1) = 0 $$\n"
   ]
  },
  {
   "cell_type": "markdown",
   "metadata": {},
   "source": [
    "Maka nilai Z$_16$ = 0"
   ]
  },
  {
   "cell_type": "markdown",
   "metadata": {},
   "source": [
    "17. IF Kain_Katun Sedang dan Proses_pembuatan CAP dan Warna Alam THEN Harga_batik SEDANG"
   ]
  },
  {
   "cell_type": "markdown",
   "metadata": {},
   "source": [
    "$$ \\\\ \\alpha(predikat_17) = \\mu Sedang \\cap \\mu Cap \\cap \\mu Alam $$\n",
    "$$\\alpha(predikat_17)   = min (\\mu Sedang[12], \\mu Cap[35]\\cap \\mu Alam[50]) $$\n",
    "$$ \\alpha(predikat_17) = min (0; 0;1 ) $$\n",
    "$$ \\alpha(predikat_17) = 0 $$\n"
   ]
  },
  {
   "cell_type": "markdown",
   "metadata": {},
   "source": [
    "Maka nilai Z$_17$ = 0"
   ]
  },
  {
   "cell_type": "markdown",
   "metadata": {},
   "source": [
    "18. IF Kain_Katun Tinggi dan Proses_pembuatan TULIS dan Warna Alam THEN Harga_batik MAHAL"
   ]
  },
  {
   "cell_type": "markdown",
   "metadata": {},
   "source": [
    "$$ \\\\ \\alpha(predikat_18) = \\mu Tinggi \\cap \\mu Tulis \\cap \\mu Alam $$\n",
    "$$\\alpha(predikat_18)   = min (\\mu Tinggi[12], \\mu Tulis[35]\\cap \\mu Alam[50]) $$\n",
    "$$ \\alpha(predikat_18) = min (0; 1;1 ) $$\n",
    "$$ \\alpha(predikat_18) = 0 $$\n"
   ]
  },
  {
   "cell_type": "markdown",
   "metadata": {},
   "source": [
    "Maka nilai Z$_18$ = 0"
   ]
  },
  {
   "cell_type": "markdown",
   "metadata": {},
   "source": [
    "19. IF Kain_Sutra Rendah dan Proses_pembuatan PRINT dan Motif SEDERHANA THEN Harga_batik Murah"
   ]
  },
  {
   "cell_type": "markdown",
   "metadata": {},
   "source": [
    "$$ \\\\ \\alpha(predikat_19) = \\mu Rendah \\cap \\mu Print \\cap \\mu Sederhana $$\n",
    "$$\\alpha(predikat_19)   = min (\\mu Rendah[12], \\mu Print[35]\\cap \\mu Sederhana[50]) $$\n",
    "$$ \\alpha(predikat_19) = min (0; 0;0 ) $$\n",
    "$$ \\alpha(predikat_19) = 0 $$\n"
   ]
  },
  {
   "cell_type": "markdown",
   "metadata": {},
   "source": [
    "Maka nilai Z$_19$ = 0"
   ]
  },
  {
   "cell_type": "markdown",
   "metadata": {},
   "source": [
    "20. IF Kain_Sutra Sedang dan Proses_pembuatan CAP dan  Motif AGAK RUMIT THEN Harga_batik SEDANG"
   ]
  },
  {
   "cell_type": "markdown",
   "metadata": {},
   "source": [
    "$$ \\\\ \\alpha(predikat_20) = \\mu Sedang \\cap \\mu Cap \\cap \\mu AgakRumit $$\n",
    "$$\\alpha(predikat_20)   = min (\\mu Sedang[12], \\mu Cap[35]\\cap \\mu AgakRumit[50]) $$\n",
    "$$ \\alpha(predikat_20) = min (1; 0;0 ) $$\n",
    "$$ \\alpha(predikat_20) = 0 $$\n"
   ]
  },
  {
   "cell_type": "markdown",
   "metadata": {},
   "source": [
    "Maka nilai Z$_20$ = 0"
   ]
  },
  {
   "cell_type": "markdown",
   "metadata": {},
   "source": [
    "21. IF Kain_Sutra Tinggi dan Proses_pembuatan TULIS dan  Motif RUMIT Sekali THEN Harga_batik MAHAL"
   ]
  },
  {
   "cell_type": "markdown",
   "metadata": {},
   "source": [
    "$$ \\\\ \\alpha(predikat_21) = \\mu Tinggi \\cap \\mu Tulis \\cap \\mu RumitSekali $$\n",
    "$$\\alpha(predikat_21)   = min (\\mu Tinggi[12], \\mu Tulis[35]\\cap \\mu RumitSekali[50]) $$\n",
    "$$ \\alpha(predikat_21) = min (1; 1;0 ) $$\n",
    "$$ \\alpha(predikat_21) = 0 $$\n"
   ]
  },
  {
   "cell_type": "markdown",
   "metadata": {},
   "source": [
    "Maka nilai Z$_21$ = 0"
   ]
  },
  {
   "cell_type": "markdown",
   "metadata": {},
   "source": [
    "22. IF Kain_Sutra Rendah dan Proses_pembuatan PRINT dan Warna Alam THEN Harga_batik Murah"
   ]
  },
  {
   "cell_type": "markdown",
   "metadata": {},
   "source": [
    "$$ \\\\ \\alpha(predikat_22) = \\mu Rendah \\cap \\mu Print \\cap \\mu Alam $$\n",
    "$$\\alpha(predikat_22)   = min (\\mu Rendah[12], \\mu Print[35]\\cap \\mu Alam[50]) $$\n",
    "$$ \\alpha(predikat_22) = min (0; 0;1 ) $$\n",
    "$$ \\alpha(predikat_22) = 0 $$\n"
   ]
  },
  {
   "cell_type": "markdown",
   "metadata": {},
   "source": [
    "Maka nilai Z$_22$ = 0"
   ]
  },
  {
   "cell_type": "markdown",
   "metadata": {},
   "source": [
    "23. IF Kain_Sutra Sedang dan Proses_pembuatan CAP dan Warna Alam THEN Harga_batik SEDANG"
   ]
  },
  {
   "cell_type": "markdown",
   "metadata": {},
   "source": [
    "$$ \\\\ \\alpha(predikat_23) = \\mu Sedang \\cap \\mu Cap \\cap \\mu Alam $$\n",
    "$$\\alpha(predikat_23)   = min (\\mu Sedang[12], \\mu Cap[35]\\cap \\mu Alam[50]) $$\n",
    "$$ \\alpha(predikat_23) = min (1; 0;1 ) $$\n",
    "$$ \\alpha(predikat_23) = 0 $$\n"
   ]
  },
  {
   "cell_type": "markdown",
   "metadata": {},
   "source": [
    "Maka nilai Z$_23$ = 0"
   ]
  },
  {
   "cell_type": "markdown",
   "metadata": {},
   "source": [
    "24. IF Kain_Sutra Tinggi dan Proses_pembuatan TULIS dan Warna Alam THEN Harga_batik Mahal"
   ]
  },
  {
   "cell_type": "markdown",
   "metadata": {},
   "source": [
    "$$ \\\\ \\alpha(predikat_24) = \\mu Tinggi \\cap \\mu Tulis \\cap \\mu Alam $$\n",
    "$$\\alpha(predikat_24)   = min (\\mu Tinggi[12], \\mu Tulis[35]\\cap \\mu Alam[50]) $$\n",
    "$$ \\alpha(predikat_24) = min (1; 1;1 ) $$\n",
    "$$ \\alpha(predikat_24) = 1 $$\n"
   ]
  },
  {
   "cell_type": "markdown",
   "metadata": {},
   "source": [
    "\\begin{equation}\n",
    "    Harga['HargaBatik'] = \\mu Mahal(x)=\\begin{cases}\n",
    "     1, & \\text{$4100\\leq x \\leq 6500$}.\\\\\n",
    "    \\left.(8000 - x) \\,  \\right/(8000 - 6500) , & \\text{$6500 \\leq x \\leq 8000$}.\\\\\n",
    "    0, & \\text{$x\\geq 8000$}.\n",
    "  \\end{cases}\n",
    "\\end{equation}"
   ]
  },
  {
   "cell_type": "markdown",
   "metadata": {},
   "source": [
    "\n",
    "Terdapat 1 nilai keanggotaan yang akan kita masukkan nilainya\n",
    "\n",
    "$$\n",
    "(8000-x) / (8000-6500) = 1 \\\\\n",
    "(8000-x) = 1500 \\\\ \n",
    "x = 6500 \\\\\n",
    "$$\n",
    "\n",
    "Maka nilai Z$_24$ = 6500"
   ]
  },
  {
   "cell_type": "markdown",
   "metadata": {},
   "source": [
    "25. IF Kain_Sutra Rendah dan Proses_pembuatan PRINT dan Warna SINTESIS THEN Harga_batik Murah"
   ]
  },
  {
   "cell_type": "markdown",
   "metadata": {},
   "source": [
    "$$ \\\\ \\alpha(predikat_25) = \\mu Rendah \\cap \\mu Print \\cap \\mu Sintesis $$\n",
    "$$\\alpha(predikat_25)   = min (\\mu Rendah[12], \\mu Print[35]\\cap \\mu Sintesis[50]) $$\n",
    "$$ \\alpha(predikat_25) = min (0; 0;1 ) $$\n",
    "$$ \\alpha(predikat_25) = 0 $$\n"
   ]
  },
  {
   "cell_type": "markdown",
   "metadata": {},
   "source": [
    "Maka nilai Z$_25$ = 0"
   ]
  },
  {
   "cell_type": "markdown",
   "metadata": {},
   "source": [
    "26. IF Kain_Sutra Sedang dan Proses_pembuatan CAP dan Warna SINTESIS THEN Harga_batik Sedang"
   ]
  },
  {
   "cell_type": "markdown",
   "metadata": {},
   "source": [
    "$$ \\\\ \\alpha(predikat_26) = \\mu Sedang \\cap \\mu Cap \\cap \\mu Sintesis $$\n",
    "$$\\alpha(predikat_26)   = min (\\mu Sedang[12], \\mu Cap[35]\\cap \\mu Sintesis[50]) $$\n",
    "$$ \\alpha(predikat_26) = min (1; 0;1 ) $$\n",
    "$$ \\alpha(predikat_26) = 0 $$\n"
   ]
  },
  {
   "cell_type": "markdown",
   "metadata": {},
   "source": [
    "Maka nilai Z$_26$ = 0"
   ]
  },
  {
   "cell_type": "markdown",
   "metadata": {},
   "source": [
    "27. IF Kain_Sutra Tinggi dan Proses_pembuatan TULIS dan Warna SINTESIS THEN Harga_batik Sedang"
   ]
  },
  {
   "cell_type": "markdown",
   "metadata": {},
   "source": [
    "$$ \\\\ \\alpha(predikat_27) = \\mu Tinggi \\cap \\mu Tulis \\cap \\mu Sintesis $$\n",
    "$$\\alpha(predikat_27)   = min (\\mu Tinggi[12], \\mu Tulis[35]\\cap \\mu Sintesis[50]) $$\n",
    "$$ \\alpha(predikat_27) = min (1; 1;1 ) $$\n",
    "$$ \\alpha(predikat_27) = 1 $$\n"
   ]
  },
  {
   "cell_type": "markdown",
   "metadata": {},
   "source": [
    "Terdapat 2 nilai keanggotaan maka kita uji satu persatu\n",
    " $$(x- 305) / (1845 - 305) = 1 $$\n",
    " $$ x - 305 = 1 \\times 1540 $$\n",
    " $$ x - 305 = 1540 $$\n",
    " $$ x = 1845 $$\n",
    " \n",
    " $$ (4000 -x) / (4000 -1845) = 1 $$\n",
    " $$ (4000 - x) = 2155 $$\n",
    " $$ - x = -1845 $$\n",
    " $$ x = 1845 $$\n",
    "Akan diambil nilai terkecil\n",
    "Maka nilai $ Z_27 = 1845 $"
   ]
  },
  {
   "cell_type": "markdown",
   "metadata": {},
   "source": [
    "# Dari sini kita dapat mencari nilai z, yaitu :"
   ]
  },
  {
   "cell_type": "markdown",
   "metadata": {},
   "source": [
    "Z =$$ \\frac{\\alpha predikat_1 \\times Z_1 +\n",
    "\\alpha predikat_2 \\times Z_2 +\n",
    "\\alpha predikat_3 \\times Z_3 +\n",
    "\\alpha predikat_4 \\times Z_4 +\n",
    "\\alpha predikat_5 \\times Z_5 +\n",
    "\\alpha predikat_6 \\times Z_6 +\n",
    "\\alpha predikat_7 \\times Z_7 +\n",
    "\\alpha predikat_8 \\times Z_8 +\n",
    "\\alpha predikat_9 \\times Z_9 +\n",
    "\\alpha predikat_1\\,_0 \\times Z_1\\,_0 +\n",
    "\\alpha predikat_1\\,_1 \\times Z_1\\,_1 +\n",
    "\\alpha predikat_1\\,_2 \\times Z_1\\,_2 +\n",
    "\\alpha predikat_1\\,_3 \\times Z_1\\,_3 +\n",
    "\\alpha predikat_1\\,_4 \\times Z_1\\,_4 +\n",
    "\\alpha predikat_1\\,_5 \\times Z_1\\,_5 +\n",
    "\\alpha predikat_1\\,_6 \\times Z_1\\,_6 +\n",
    "\\alpha predikat_1\\,_7 \\times Z_1\\,_7 +\n",
    "\\alpha predikat_1\\,_8 \\times Z_1\\,_8 +\n",
    "\\alpha predikat_1\\,_9 \\times Z_1\\,_9 +\n",
    "\\alpha predikat_2\\,_0 \\times Z_2\\,_0 +\n",
    "\\alpha predikat_2\\,_1 \\times Z_2\\,_1 +\n",
    "\\alpha predikat_2\\,_2 \\times Z_2\\,_2 +\n",
    "\\alpha predikat_2\\,_3 \\times Z_2\\,_3 +\n",
    "\\alpha predikat_2\\,_4 \\times Z_2\\,_4 +\n",
    "\\alpha predikat_2\\,_5 \\times Z_2\\,_5 +\n",
    "\\alpha predikat_2\\,_6 \\times Z_2\\,_6 +\n",
    "\\alpha predikat_2\\,_7 \\times Z_2\\,_7 +}\n",
    "{\\alpha predikat_1 + \\alpha predikat_2 +\n",
    "\\alpha predikat_3 + \\alpha predikat_4 +\n",
    "\\alpha predikat_5 + \\alpha predikat_6 +\n",
    "\\alpha predikat_7 + \\alpha predikat_8 +\n",
    "\\alpha predikat_9 + \\alpha predikat_1\\,_0 +\n",
    "\\alpha predikat_1\\,_1 + \\alpha predikat_1\\,_2+\n",
    "\\alpha predikat_1\\,_3 + \\alpha predikat_1\\,_4+\n",
    "\\alpha predikat_1\\,_5 + \\alpha predikat_1\\,_6+\n",
    "\\alpha predikat_1\\,_7 + \\alpha predikat_1\\,_8+\n",
    "\\alpha predikat_1\\,_9 + \\alpha predikat_2\\,_0+\n",
    "\\alpha predikat_2\\,_1 + \\alpha predikat_2\\,_2+\n",
    "\\alpha predikat_2\\,_3 + \\alpha predikat_2\\,_4+\n",
    "\\alpha predikat_2\\,_5 + \\alpha predikat_2\\,_6+\n",
    "\\alpha predikat_2\\,_7}$$"
   ]
  },
  {
   "cell_type": "markdown",
   "metadata": {},
   "source": [
    " $$Z = \\frac{0 + 0  + 0 + 0 + 0 + 1 \\times 1845 + 0 + 0 + 1 \\times 1845 + 0 + 0 +0 +0+0+0+0+0+0+0+0+0+0+0+1 \\times 6500 +0+0+1 \\times 1845 }{0 + 0 + 0 + 0 + 0 + 1 + 0 + 0 + 1 +0 +0 +0+0+0+0+0+0+0+0+0+0+0+0+1+0+0+1} $$\n",
    " \n",
    " $$ Z = \\frac{12035}{4} $$\n",
    " $$ Z = 3.008 \\Rupiah $$"
   ]
  },
  {
   "cell_type": "markdown",
   "metadata": {},
   "source": [
    "Hasil output yang dikeluarkan menggunakan code python sebesar 3266\\Rupiah sedangkan perhitungan manual sebesar 3008\\Rupiah\n",
    "Terdapat perbedaan sebesar 258\\Rupiah"
   ]
  },
  {
   "cell_type": "markdown",
   "metadata": {},
   "source": [
    "Sekian Terima Kasih :)"
   ]
  }
 ],
 "metadata": {
  "kernelspec": {
   "display_name": "Python 3",
   "language": "python",
   "name": "python3"
  },
  "language_info": {
   "codemirror_mode": {
    "name": "ipython",
    "version": 3
   },
   "file_extension": ".py",
   "mimetype": "text/x-python",
   "name": "python",
   "nbconvert_exporter": "python",
   "pygments_lexer": "ipython3",
   "version": "3.6.5"
  }
 },
 "nbformat": 4,
 "nbformat_minor": 2
}
