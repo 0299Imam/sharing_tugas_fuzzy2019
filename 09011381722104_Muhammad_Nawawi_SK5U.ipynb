{
 "cells": [
  {
   "cell_type": "markdown",
   "metadata": {},
   "source": [
    "# Nama : Muhammad Nawawi\n",
    "\n",
    "# Nim    : 09011381722104\n",
    "\n",
    "# SK5  Artificial Intelligence\n"
   ]
  },
  {
   "cell_type": "markdown",
   "metadata": {},
   "source": [
    "# Smart Traffic Light Menggunakan Image Processing dan Metode Fuzzy Logic Mamdani\n"
   ]
  },
  {
   "cell_type": "markdown",
   "metadata": {},
   "source": [
    "Lampu lalu lintas merupakan infrastruktur penting untuk mencegah kemacetan jalan di indonesia. Kemacetan lalu lintas bisa menyebabkan peningkatan biaya dikarenakan waktu yang terbuang percuma dan konsumsi bahan bakar yang lebih banyak. Selain itu dapat menciptakan masalah penting lainnya, contohya jika ada ambulan dengan membawa pasien yang kritis maka ada kemungkinan besar bahwa pasien tidak dapat mencapai rumah sakit tepat waktu jika terjebak kemacetan. Untuk itu, sangat penting merancang suatu sistem lalu lintas yang cerdas yang dapat mengatur laju lalu lintas untuk menghindari kecelakaan, tabrakan dan kemacetan. Untuk menghitung kepadatan berdasarkan jumlah objek kendaraan yang telah terdeteksi adalah Metode fuzzy logic mamdani.\n",
    "\n",
    "    \n",
    "\n",
    "    "
   ]
  },
  {
   "cell_type": "markdown",
   "metadata": {},
   "source": [
    "Deklarasi fungsi yang digunakan yaitu :\n",
    "    - numpy untuk operasi vektor dan matriks\n",
    "    - skfuzzy untuk mencari nilai terbaik\n",
    "    - matplotlib.pyplot untuk menampilkan gambar dan grafik, Matplotlib membantu kita untuk memvisualisasikan data dengan lebih  rapi. Ada plot untuk menampilkan data secara 2D atau 3D. Sehingga dapat menampilkan data yang telah diolah sesuai kebutuhan."
   ]
  },
  {
   "cell_type": "code",
   "execution_count": 2,
   "metadata": {},
   "outputs": [],
   "source": [
    "import numpy as np\n",
    "import skfuzzy as fuzz\n",
    "from skfuzzy import control as ctrl\n",
    "import matplotlib.pyplot as plt"
   ]
  },
  {
   "cell_type": "markdown",
   "metadata": {},
   "source": [
    "# Fuzifikasi "
   ]
  },
  {
   "cell_type": "markdown",
   "metadata": {},
   "source": [
    "Data yang dikumpulkan memiliki 2 input dan 1 output\n",
    "\n",
    "input :\n",
    "    - barat timur\n",
    "    - uatar selatan\n",
    "output :\n",
    "    - waktu\n",
    "    "
   ]
  },
  {
   "cell_type": "markdown",
   "metadata": {},
   "source": [
    "Sebelum memulai, kita harus memasukkan data dan range terlebih dahulu seprti dibawah ini."
   ]
  },
  {
   "cell_type": "code",
   "execution_count": 3,
   "metadata": {},
   "outputs": [],
   "source": [
    "barat_timur = ctrl.Antecedent(np.arange(0, 8, 0.5), 'barat_timur')\n",
    "utara_selatan = ctrl.Antecedent(np.arange(0, 8, 0.5), 'utara_selatan')\n",
    "waktu = ctrl.Consequent(np.arange(60, 200, 0.5), 'waktu')"
   ]
  },
  {
   "cell_type": "markdown",
   "metadata": {},
   "source": [
    "Pada bagian ini hanya untuk plotting atau menampilkan grafik"
   ]
  },
  {
   "cell_type": "code",
   "execution_count": 4,
   "metadata": {},
   "outputs": [],
   "source": [
    "BaratTimur_x = np.arange(0, 8, 0.5)\n",
    "UtaraSelatan_x = np.arange(0, 8, 0.5)\n",
    "Waktu_x = np.arange(60, 200, 0.5)"
   ]
  },
  {
   "cell_type": "markdown",
   "metadata": {},
   "source": [
    "# Fungsi Keanggotaan "
   ]
  },
  {
   "cell_type": "markdown",
   "metadata": {},
   "source": [
    "### Barat Timur \n",
    "Untuk mendeteksi, proses ini menggunakan fungsi keanggotaan trapesium\n",
    "\n",
    "Dari masing-masing input mempunyai 3 himpunan keanggotaan, yaitu:\n",
    "    - Senggang (s)\n",
    "    - Normal (n)\n",
    "    - Padat (p)\n",
    "Membership function yang digunakan bernilai antara 0 - 8.\n",
    "Nilai Membership function dari Barat Timur yaitu :\n",
    "    - senggang : 0 - 3\n",
    "    - normal   : 1 - 6\n",
    "    - padat    : 4 - 8\n",
    "    "
   ]
  },
  {
   "cell_type": "code",
   "execution_count": 5,
   "metadata": {},
   "outputs": [],
   "source": [
    "barat_timur['senggang'] = fuzz.trapmf(barat_timur.universe, [0, 0, 1, 3])\n",
    "barat_timur['normal'] = fuzz.trapmf(barat_timur.universe, [ 1, 3, 4, 6])\n",
    "barat_timur['padat'] = fuzz.trapmf(barat_timur.universe, [ 4, 6, 8, 8])"
   ]
  },
  {
   "cell_type": "markdown",
   "metadata": {},
   "source": [
    "#### Fungsi keanggotaan\n",
    "    - Barat Timur Senggang"
   ]
  },
  {
   "cell_type": "markdown",
   "metadata": {},
   "source": [
    "\\begin{equation}\n",
    "  Barat Timur['senggang'] = \\mu Barat TimurSenggang(x)=\\begin{cases}\n",
    "    1, & \\text{$0\\leq x\\leq1$}.\\\\\n",
    "    (3 - x)/(3 - 1) , & \\text{$1 \\leq x \\leq 3$}.\\\\\n",
    "    0, & \\text{$x\\geq 3$}.\n",
    "  \\end{cases}\n",
    " \\end{equation}"
   ]
  },
  {
   "cell_type": "code",
   "execution_count": 35,
   "metadata": {},
   "outputs": [
    {
     "data": {
      "text/plain": [
       "Text(0.5,1,'BaratTimur Senggang')"
      ]
     },
     "execution_count": 35,
     "metadata": {},
     "output_type": "execute_result"
    },
    {
     "data": {
      "image/png": "[encoded data removed]",
      "text/plain": [
       "<matplotlib.figure.Figure at 0x24895165550>"
      ]
     },
     "metadata": {},
     "output_type": "display_data"
    }
   ],
   "source": [
    "BaratTimur_senggang = fuzz.trapmf(BaratTimur_x,[0, 0, 1, 3])\n",
    "fig, (ax0) = plt.subplots(nrows=1,figsize=(6,6))\n",
    "ax0.plot(BaratTimur_x,BaratTimur_senggang,'green')\n",
    "ax0.set_title('BaratTimur Senggang')"
   ]
  },
  {
   "cell_type": "markdown",
   "metadata": {},
   "source": [
    "    - Barat Timur Normal"
   ]
  },
  {
   "cell_type": "markdown",
   "metadata": {},
   "source": [
    "\\begin{equation}\n",
    " Barat Timur['normal'] = \\mu BaratTimurNormal(x)=\\begin{cases}\n",
    "    1, & \\text{$3\\leq  x \\leq4$}.\\\\\n",
    "    (x - 1)/(3 - 1) , & \\text{$1 \\leq x \\leq 3$}.\\\\\n",
    "    (6 - x)/(6 - 4) , & \\text{$4 \\leq x \\leq 6$}.\\\\\n",
    "    0, & \\text{$x\\leq1$ atau $x\\geq 6$}.\\\\\n",
    "  \\end{cases}\n",
    " \\end{equation}"
   ]
  },
  {
   "cell_type": "code",
   "execution_count": 7,
   "metadata": {},
   "outputs": [
    {
     "data": {
      "text/plain": [
       "Text(0.5,1,'BaratTimur Normal')"
      ]
     },
     "execution_count": 7,
     "metadata": {},
     "output_type": "execute_result"
    },
    {
     "data": {
      "image/png": "[encoded data removed]",
      "text/plain": [
       "<matplotlib.figure.Figure at 0x248938fc5c0>"
      ]
     },
     "metadata": {},
     "output_type": "display_data"
    }
   ],
   "source": [
    "BaratTimur_Normal = fuzz.trapmf(BaratTimur_x,[1, 3, 4, 6])\n",
    "fig, (ax0) = plt.subplots(nrows=1,figsize=(6,6))\n",
    "ax0.plot(BaratTimur_x,BaratTimur_Normal,'red')\n",
    "ax0.set_title('BaratTimur Normal')"
   ]
  },
  {
   "cell_type": "markdown",
   "metadata": {},
   "source": [
    "    - Barat Timur Padat"
   ]
  },
  {
   "cell_type": "markdown",
   "metadata": {},
   "source": [
    "\\begin{equation}\n",
    " Barat Timur['padat'] = \\mu BaratTimurPadat(x)=\\begin{cases}\n",
    "    0, & \\text{$x\\leq 4$}.\\\\\n",
    "    (x - 4)/(6 - 4) , & \\text{$4 \\leq x \\leq 6$}.\\\\\n",
    "    1, & \\text{$x\\geq 6$}.\n",
    "  \\end{cases}\n",
    " \\end{equation}"
   ]
  },
  {
   "cell_type": "code",
   "execution_count": 8,
   "metadata": {},
   "outputs": [
    {
     "data": {
      "text/plain": [
       "Text(0.5,1,'BaratTimur Padat')"
      ]
     },
     "execution_count": 8,
     "metadata": {},
     "output_type": "execute_result"
    },
    {
     "data": {
      "image/png": "[encoded data removed]",
      "text/plain": [
       "<matplotlib.figure.Figure at 0x24893a0d9b0>"
      ]
     },
     "metadata": {},
     "output_type": "display_data"
    }
   ],
   "source": [
    "BaratTimur_Padat = fuzz.trapmf(BaratTimur_x,[4, 6, 8, 8])\n",
    "fig, (ax0) = plt.subplots(nrows=1,figsize=(6,6))\n",
    "ax0.plot(BaratTimur_x,BaratTimur_Padat,'yellow')\n",
    "ax0.set_title('BaratTimur Padat')"
   ]
  },
  {
   "cell_type": "markdown",
   "metadata": {},
   "source": [
    "    - Plotting keseluruhan\n",
    "Gabungan dari 3 himpunan"
   ]
  },
  {
   "cell_type": "markdown",
   "metadata": {},
   "source": [
    "Dengan fungsi keanggotaan\n",
    "\n",
    "\\begin{equation}\n",
    "  Barat Timur['senggang'] = \\mu BaratTimurSenggang(x)=\\begin{cases}\n",
    "    1, & \\text{$0\\leq x\\leq1$}.\\\\\n",
    "    (3 - x)/(3 - 1) , & \\text{$1 \\leq x \\leq 3$}.\\\\\n",
    "    0, & \\text{$x\\geq 3$}.\n",
    "  \\end{cases}\n",
    "  \\\\\n",
    "  Barat Timur['normal'] = \\mu BaratTimurNormal(x)=\\begin{cases}\n",
    "    1, & \\text{$3\\leq  x \\leq4$}.\\\\\n",
    "    (x - 1)/(3 - 1) , & \\text{$1 \\leq x \\leq 3$}.\\\\\n",
    "    (6 - x)/(6 - 4) , & \\text{$4 \\leq x \\leq 6$}.\\\\\n",
    "    0, & \\text{$x\\leq1$ atau $x\\geq 6$}.\\\\\n",
    "  \\end{cases}\n",
    "  \\\\\n",
    "  Barat Timur['padat'] = \\mu BaratTimurPadat(x)=\\begin{cases}\n",
    "    0, & \\text{$x\\leq 4$}.\\\\\n",
    "    (x - 4)/(6 - 4) , & \\text{$4 \\leq x \\leq 6$}.\\\\\n",
    "    1, & \\text{$x\\geq 6$}.\n",
    "  \\end{cases}\n",
    "\\end{equation}"
   ]
  },
  {
   "cell_type": "markdown",
   "metadata": {},
   "source": [
    "Pada gabungan inputan Barat Timur bisa kita lihat bahwa :\n",
    "    - Senggang dengan grafik warna biru yang dimulai dari 0 - 3\n",
    "    - Normal dengan grafik warna orange yang dimulai dari 1 - 6\n",
    "    - Padat dengan grafik warna green yang dimulai dari 4 - 8"
   ]
  },
  {
   "cell_type": "code",
   "execution_count": 9,
   "metadata": {},
   "outputs": [
    {
     "name": "stderr",
     "output_type": "stream",
     "text": [
      "C:\\ProgramData\\Anaconda3\\lib\\site-packages\\matplotlib\\figure.py:418: UserWarning: matplotlib is currently using a non-GUI backend, so cannot show the figure\n",
      "  \"matplotlib is currently using a non-GUI backend, \"\n"
     ]
    },
    {
     "data": {
      "image/png": "[encoded data removed]",
      "text/plain": [
       "<matplotlib.figure.Figure at 0x24893a195c0>"
      ]
     },
     "metadata": {},
     "output_type": "display_data"
    }
   ],
   "source": [
    "barat_timur.view()"
   ]
  },
  {
   "cell_type": "markdown",
   "metadata": {},
   "source": [
    "### Utara Selatan \n",
    "Untuk mendeteksi, proses ini menggunakan fungsi keanggotaan trapesium\n",
    "\n",
    "Dari masing-masing input mempunyai 3 himpunan keanggotaan, yaitu:\n",
    "    - Senggang (s)\n",
    "    - Normal (n)\n",
    "    - Padat (p)\n",
    "Membership function yang digunakan bernilai antara 0 - 8.\n",
    "Nilai Membership function dari Utara Selatan yaitu :\n",
    "    - senggang : 0 - 3\n",
    "    - normal   : 1 - 6\n",
    "    - padat    : 4 - 8\n",
    "    "
   ]
  },
  {
   "cell_type": "code",
   "execution_count": 10,
   "metadata": {},
   "outputs": [],
   "source": [
    "utara_selatan['senggang'] = fuzz.trapmf(utara_selatan.universe, [0, 0, 1, 3])\n",
    "utara_selatan['normal'] = fuzz.trapmf(utara_selatan.universe, [ 1, 3, 4, 6])\n",
    "utara_selatan['padat'] = fuzz.trapmf(utara_selatan.universe, [ 4, 6, 8, 8])"
   ]
  },
  {
   "cell_type": "markdown",
   "metadata": {},
   "source": [
    "#### Fungsi keanggotaan\n",
    "    - Utara Selatan Senggang"
   ]
  },
  {
   "cell_type": "markdown",
   "metadata": {},
   "source": [
    "\\begin{equation}\n",
    "  Utara Selatan['senggang'] = \\mu UtaraSelatanSenggang(x)=\\begin{cases}\n",
    "    1, & \\text{$0\\leq x\\leq1$}.\\\\\n",
    "    (3 - x)/(3 - 1) , & \\text{$1 \\leq x \\leq 3$}.\\\\\n",
    "    0, & \\text{$x\\geq 3$}.\n",
    "  \\end{cases}\n",
    " \\end{equation}"
   ]
  },
  {
   "cell_type": "code",
   "execution_count": 11,
   "metadata": {},
   "outputs": [
    {
     "data": {
      "text/plain": [
       "Text(0.5,1,'UataraSelatan Senggang')"
      ]
     },
     "execution_count": 11,
     "metadata": {},
     "output_type": "execute_result"
    },
    {
     "data": {
      "image/png": "[encoded data removed]",
      "text/plain": [
       "<matplotlib.figure.Figure at 0x24893984588>"
      ]
     },
     "metadata": {},
     "output_type": "display_data"
    }
   ],
   "source": [
    "UtaraSelatan_senggang = fuzz.trapmf(UtaraSelatan_x,[0, 0, 1, 3])\n",
    "fig, (ax0) = plt.subplots(nrows=1,figsize=(6,6))\n",
    "ax0.plot(UtaraSelatan_x,UtaraSelatan_senggang,'black')\n",
    "ax0.set_title('UataraSelatan Senggang')"
   ]
  },
  {
   "cell_type": "markdown",
   "metadata": {},
   "source": [
    "    - Utara Selatan Normal"
   ]
  },
  {
   "cell_type": "markdown",
   "metadata": {},
   "source": [
    "\\begin{equation}\n",
    "Utara Selatan['normal'] = \\mu UtaraSelatanNormal(x)=\\begin{cases}\n",
    "    1, & \\text{$3\\leq  x \\leq4$}.\\\\\n",
    "    (x - 1)/(3 - 1) , & \\text{$1 \\leq x \\leq 3$}.\\\\\n",
    "    (6 - x)/(6 - 4) , & \\text{$4 \\leq x \\leq 6$}.\\\\\n",
    "    0, & \\text{$x\\leq1$ atau $x\\geq 6$}.\\\\\n",
    "  \\end{cases}\n",
    "\\end{equation}"
   ]
  },
  {
   "cell_type": "code",
   "execution_count": 12,
   "metadata": {},
   "outputs": [
    {
     "data": {
      "text/plain": [
       "Text(0.5,1,'UataraSelatan Normal')"
      ]
     },
     "execution_count": 12,
     "metadata": {},
     "output_type": "execute_result"
    },
    {
     "data": {
      "image/png": "[encoded data removed]",
      "text/plain": [
       "<matplotlib.figure.Figure at 0x24894dd1ef0>"
      ]
     },
     "metadata": {},
     "output_type": "display_data"
    }
   ],
   "source": [
    "UtaraSelatan_normal = fuzz.trapmf(UtaraSelatan_x,[1, 3, 4, 6])\n",
    "fig, (ax0) = plt.subplots(nrows=1,figsize=(6,6))\n",
    "ax0.plot(UtaraSelatan_x,UtaraSelatan_normal,'brown')\n",
    "ax0.set_title('UataraSelatan Normal')"
   ]
  },
  {
   "cell_type": "markdown",
   "metadata": {},
   "source": [
    "    - Utara Selatan Padat"
   ]
  },
  {
   "cell_type": "markdown",
   "metadata": {},
   "source": [
    "\\begin{equation}\n",
    "  Utara Selatan['padat'] = \\mu UtaraSelatanPadat(x)=\\begin{cases}\n",
    "    0, & \\text{$x\\leq 4$}.\\\\\n",
    "    (x - 4)/(6 - 4) , & \\text{$4 \\leq x \\leq 6$}.\\\\\n",
    "    1, & \\text{$x\\geq 6$}.\n",
    "  \\end{cases}\n",
    "\\end{equation}"
   ]
  },
  {
   "cell_type": "code",
   "execution_count": 13,
   "metadata": {},
   "outputs": [
    {
     "data": {
      "text/plain": [
       "Text(0.5,1,'UataraSelatan Padat')"
      ]
     },
     "execution_count": 13,
     "metadata": {},
     "output_type": "execute_result"
    },
    {
     "data": {
      "image/png": "[encoded data removed]",
      "text/plain": [
       "<matplotlib.figure.Figure at 0x24894df65c0>"
      ]
     },
     "metadata": {},
     "output_type": "display_data"
    }
   ],
   "source": [
    "UtaraSelatan_padat = fuzz.trapmf(UtaraSelatan_x,[4, 6, 8, 8])\n",
    "fig, (ax0) = plt.subplots(nrows=1,figsize=(6,6))\n",
    "ax0.plot(UtaraSelatan_x,UtaraSelatan_padat,'pink')\n",
    "ax0.set_title('UataraSelatan Padat')"
   ]
  },
  {
   "cell_type": "markdown",
   "metadata": {},
   "source": [
    "    - Plotting keseluruhan\n",
    "Gabungan dari 3 himpunan"
   ]
  },
  {
   "cell_type": "markdown",
   "metadata": {},
   "source": [
    "Dengan fungsi keanggotaan\n",
    "\n",
    "\\begin{equation}\n",
    "  Utara Selatan['senggang'] = \\mu UtaraSelatanSenggang(x)=\\begin{cases}\n",
    "    1, & \\text{$0\\leq x\\leq1$}.\\\\\n",
    "    (3 - x)/(3 - 1) , & \\text{$1 \\leq x \\leq 3$}.\\\\\n",
    "    0, & \\text{$x\\geq 3$}.\n",
    "  \\end{cases}\n",
    "  \\\\\n",
    "  Utara Selatan['normal'] = \\mu UtaraSelatanNormal(x)=\\begin{cases}\n",
    "    1, & \\text{$3\\leq  x \\leq4$}.\\\\\n",
    "    (x - 1)/(3 - 1) , & \\text{$1 \\leq x \\leq 3$}.\\\\\n",
    "    (6 - x)/(6 - 4) , & \\text{$4 \\leq x \\leq 6$}.\\\\\n",
    "    0, & \\text{$x\\leq1$ atau $x\\geq 6$}.\\\\\n",
    "  \\end{cases}\n",
    "  \\\\\n",
    "  Utara Selatan['padat'] = \\mu UtaraSelatanPadat(x)=\\begin{cases}\n",
    "    0, & \\text{$x\\leq 4$}.\\\\\n",
    "    (x - 4)/(6 - 4) , & \\text{$4 \\leq x \\leq 6$}.\\\\\n",
    "    1, & \\text{$x\\geq 6$}.\n",
    "  \\end{cases}\n",
    "\\end{equation}"
   ]
  },
  {
   "cell_type": "markdown",
   "metadata": {},
   "source": [
    "Pada gabungan inputan Utara Selatan bisa kita lihat bahwa :\n",
    "    - Senggang dengan grafik warna biru yang dimulai dari 0 - 3\n",
    "    - Normal dengan grafik warna orange yang dimulai dari 1 - 6\n",
    "    - Padat dengan grafik warna green yang dimulai dari 4 - 8"
   ]
  },
  {
   "cell_type": "code",
   "execution_count": 14,
   "metadata": {},
   "outputs": [
    {
     "name": "stderr",
     "output_type": "stream",
     "text": [
      "C:\\ProgramData\\Anaconda3\\lib\\site-packages\\matplotlib\\figure.py:418: UserWarning: matplotlib is currently using a non-GUI backend, so cannot show the figure\n",
      "  \"matplotlib is currently using a non-GUI backend, \"\n"
     ]
    },
    {
     "data": {
      "image/png": "[encoded data removed]",
      "text/plain": [
       "<matplotlib.figure.Figure at 0x24894d023c8>"
      ]
     },
     "metadata": {},
     "output_type": "display_data"
    }
   ],
   "source": [
    "utara_selatan.view()"
   ]
  },
  {
   "cell_type": "markdown",
   "metadata": {},
   "source": [
    "### Waktu\n",
    "Untuk mendeteksi, proses ini menggunakan fungsi keanggotaan segi tiga\n",
    "\n",
    "Dari masing-masing input mempunyai 3 himpunan keanggotaan, yaitu:\n",
    "    - Cepat (c)\n",
    "    - Normal (n)\n",
    "    - Lama (l)\n",
    "Membership function yang digunakan bernilai antara 60 - 180.\n",
    "Nilai Membership function dari waktu yaitu :\n",
    "    - cepat    : 60 - 120\n",
    "    - normal   : 80 - 160\n",
    "    - lama     : 120 - 180\n",
    "    "
   ]
  },
  {
   "cell_type": "code",
   "execution_count": 15,
   "metadata": {},
   "outputs": [],
   "source": [
    "waktu['cepat'] = fuzz.trimf(waktu.universe, [60, 80, 120])\n",
    "waktu['normal'] = fuzz.trimf(waktu.universe, [ 80, 120, 160])\n",
    "waktu['lama'] = fuzz.trimf(waktu.universe, [ 120, 160, 180])"
   ]
  },
  {
   "cell_type": "markdown",
   "metadata": {},
   "source": [
    "#### Fungsi keanggotaan\n",
    "    - Waktu Cepat"
   ]
  },
  {
   "cell_type": "markdown",
   "metadata": {},
   "source": [
    "\\begin{equation}\n",
    "  Waktu['cepat'] = \\mu WaktuCepat(x)=\\begin{cases}\n",
    "    0, & \\text{$x\\leq60$ atau $x\\geq120$}.\\\\\n",
    "    (x - 60)/(80 - 60) , & \\text{$60 \\leq x \\leq 80$}.\\\\\n",
    "    ( 120 - x ) / (120 - 80), & \\text{$80 \\leq x \\leq 120$}.\\\\\n",
    "  \\end{cases}\n",
    "\\end{equation}"
   ]
  },
  {
   "cell_type": "code",
   "execution_count": 16,
   "metadata": {},
   "outputs": [
    {
     "data": {
      "text/plain": [
       "Text(0.5,1,'Waktu Cepat')"
      ]
     },
     "execution_count": 16,
     "metadata": {},
     "output_type": "execute_result"
    },
    {
     "data": {
      "image/png": "[encoded data removed]",
      "text/plain": [
       "<matplotlib.figure.Figure at 0x24894d02630>"
      ]
     },
     "metadata": {},
     "output_type": "display_data"
    }
   ],
   "source": [
    "Waktu_Cepat = fuzz.trimf(Waktu_x,[60, 80, 120])\n",
    "fig, (ax0) = plt.subplots(nrows=1,figsize=(6,6))\n",
    "ax0.plot(Waktu_x,Waktu_Cepat,'orange')\n",
    "ax0.set_title('Waktu Cepat')"
   ]
  },
  {
   "cell_type": "markdown",
   "metadata": {},
   "source": [
    "    - Waktu Normal"
   ]
  },
  {
   "cell_type": "markdown",
   "metadata": {},
   "source": [
    "\\begin{equation}\n",
    " Waktu['normal'] = \\mu WaktuNormal(x)=\\begin{cases}\n",
    "    0, & \\text{$x\\leq80$ atau $x\\geq160$}.\\\\\n",
    "    (x - 80)/(120 - 80) , & \\text{$80 \\leq x \\leq 120$}.\\\\\n",
    "    (160 - x ) / (160 - 120), & \\text{$120 \\leq x \\leq 160$}.\\\\\n",
    "  \\end{cases}\n",
    "\\end{equation}"
   ]
  },
  {
   "cell_type": "code",
   "execution_count": 17,
   "metadata": {},
   "outputs": [
    {
     "data": {
      "text/plain": [
       "Text(0.5,1,'Waktu Normal')"
      ]
     },
     "execution_count": 17,
     "metadata": {},
     "output_type": "execute_result"
    },
    {
     "data": {
      "image/png": "[encoded data removed]",
      "text/plain": [
       "<matplotlib.figure.Figure at 0x24894f7d160>"
      ]
     },
     "metadata": {},
     "output_type": "display_data"
    }
   ],
   "source": [
    "Waktu_Normal = fuzz.trimf(Waktu_x,[80, 120, 160])\n",
    "fig, (ax0) = plt.subplots(nrows=1,figsize=(6,6))\n",
    "ax0.plot(Waktu_x,Waktu_Normal,'purple')\n",
    "ax0.set_title('Waktu Normal')"
   ]
  },
  {
   "cell_type": "markdown",
   "metadata": {},
   "source": [
    "    - Waktu Lama"
   ]
  },
  {
   "cell_type": "markdown",
   "metadata": {},
   "source": [
    "\\begin{equation}\n",
    " Waktu['lama'] = \\mu WaktuLama(x)=\\begin{cases}\n",
    "    0, & \\text{$x\\leq120$ atau $x\\geq180$}.\\\\\n",
    "    (x - 120)/(160 - 120) , & \\text{$120 \\leq x \\leq 160$}.\\\\\n",
    "    (180 - x ) / (180 - 160), & \\text{$160 \\leq x \\leq 180$}.\\\\\n",
    "  \\end{cases}\n",
    "\\end{equation}"
   ]
  },
  {
   "cell_type": "code",
   "execution_count": 18,
   "metadata": {},
   "outputs": [
    {
     "data": {
      "text/plain": [
       "Text(0.5,1,'Waktu Lama')"
      ]
     },
     "execution_count": 18,
     "metadata": {},
     "output_type": "execute_result"
    },
    {
     "data": {
      "image/png": "[encoded data removed]",
      "text/plain": [
       "<matplotlib.figure.Figure at 0x24894f97f60>"
      ]
     },
     "metadata": {},
     "output_type": "display_data"
    }
   ],
   "source": [
    "Waktu_Lama = fuzz.trimf(Waktu_x,[120, 160, 180])\n",
    "fig, (ax0) = plt.subplots(nrows=1,figsize=(6,6))\n",
    "ax0.plot(Waktu_x,Waktu_Lama,'navy')\n",
    "ax0.set_title('Waktu Lama')"
   ]
  },
  {
   "cell_type": "markdown",
   "metadata": {},
   "source": [
    "    - Plotting keseluruhan\n",
    "Gabungan dari 3 himpunan"
   ]
  },
  {
   "cell_type": "markdown",
   "metadata": {},
   "source": [
    "Dengan fungsi keanggotaan\n",
    "\n",
    "\\begin{equation}\n",
    "  Waktu['cepat'] = \\mu WaktuCepat(x)=\\begin{cases}\n",
    "    0, & \\text{$x\\leq60$ atau $x\\geq120$}.\\\\\n",
    "    (x - 60)/(80 - 60) , & \\text{$60 \\leq x \\leq 80$}.\\\\\n",
    "    ( 120 - x ) / (120 - 80), & \\text{$80 \\leq x \\leq 120$}.\\\\\n",
    "  \\end{cases}\n",
    "  \\\\\n",
    "  Waktu['normal'] = \\mu WaktuNormal(x)=\\begin{cases}\n",
    "    0, & \\text{$x\\leq80$ atau $x\\geq160$}.\\\\\n",
    "    (x - 80)/(120 - 80) , & \\text{$80 \\leq x \\leq 120$}.\\\\\n",
    "    (160 - x ) / (160 - 120), & \\text{$120 \\leq x \\leq 160$}.\\\\\n",
    "  \\end{cases}\n",
    "  \\\\\n",
    "  Waktu['lama'] = \\mu WaktuLama(x)=\\begin{cases}\n",
    "    0, & \\text{$x\\leq120$ atau $x\\geq180$}.\\\\\n",
    "    (x - 120)/(160 - 120) , & \\text{$120 \\leq x \\leq 160$}.\\\\\n",
    "    (180 - x ) / (180 - 160), & \\text{$160 \\leq x \\leq 180$}.\\\\\n",
    "  \\end{cases}\n",
    "\\end{equation}"
   ]
  },
  {
   "cell_type": "markdown",
   "metadata": {},
   "source": [
    "Pada gabungan inputan Waktu bisa kita lihat bahwa :\n",
    "    - Cepat dengan grafik warna biru yang dimulai dari 60 - 120\n",
    "    - Normal dengan grafik warna orange yang dimulai dari 80 - 160\n",
    "    - Lama dengan grafik warna green yang dimulai dari 120 - 180"
   ]
  },
  {
   "cell_type": "code",
   "execution_count": 19,
   "metadata": {},
   "outputs": [
    {
     "name": "stderr",
     "output_type": "stream",
     "text": [
      "C:\\ProgramData\\Anaconda3\\lib\\site-packages\\matplotlib\\figure.py:418: UserWarning: matplotlib is currently using a non-GUI backend, so cannot show the figure\n",
      "  \"matplotlib is currently using a non-GUI backend, \"\n"
     ]
    },
    {
     "data": {
      "image/png": "[encoded data removed]",
      "text/plain": [
       "<matplotlib.figure.Figure at 0x24894ecac88>"
      ]
     },
     "metadata": {},
     "output_type": "display_data"
    }
   ],
   "source": [
    "waktu.view()"
   ]
  },
  {
   "cell_type": "markdown",
   "metadata": {},
   "source": [
    "# Inferencing \n"
   ]
  },
  {
   "cell_type": "markdown",
   "metadata": {},
   "source": [
    "Pada tahap inferencing, dengan membuat aturan-aturan fuzzy yang dinyatakan dalam bentuk IF (jika)  .... THEN (maka)  ...."
   ]
  },
  {
   "cell_type": "markdown",
   "metadata": {},
   "source": [
    "Pada sistem ini berdasarkan jumlah fuzzifikasi dari variabel BT yang berjumlah 3 dan fuzzifikasi dari variabel US yang berjumlah 3, maka rule yang dibuat berjumlah 3 pangkat 2  (3 x 3 = 9 rule)"
   ]
  },
  {
   "cell_type": "markdown",
   "metadata": {},
   "source": [
    "1. IF Barat Timur Senggang dan Utara Selatan Senggang THEN Waktu Cepat\n",
    "2. IF Barat Timur Normal dan Utara Selatan Senggang THEN Waktu Cepat\n",
    "3. IF Barat Timur Padat dan Utara Selatan Senggang THEN Waktu Normal\n",
    "4. IF Barat Timur Senggang dan Utara Selatan Normal THEN Waktu Cepat\n",
    "5. IF Barat Timur Normal dan Utara Selatan Normal THEN Waktu Normal\n",
    "6. IF Barat Timur Padat dan Utara Selatan Normal THEN Waktu Lama\n",
    "7. IF Barat Timur Senggang dan Utara Selatan Padat THEN Waktu Normal\n",
    "8. IF Barat Timur Normal dan Utara Selatan Padat THEN Waktu Lama\n",
    "9. IF Barat Timur Padat dan Utara Selatan Padat THEN Waktu Lama"
   ]
  },
  {
   "cell_type": "markdown",
   "metadata": {},
   "source": [
    "|Rule|Barat Timur|Utara Selatan|Waktu|\n",
    "|----|------------|---------|-----|\n",
    "|Rule1|Senggang|Senggang|Cepat|\n",
    "|Rule2|Normal|Senggang|Cepat|\n",
    "|Rule3|Padat|Senggang|Normal|\n",
    "|Rule4|Senggang|Normal|Cepat|\n",
    "|Rule5|Normal|Normal|Normal|\n",
    "|Rule6|Padat|Normal|Lama|\n",
    "|Rule7|Senggang|Padat|Normal|\n",
    "|Rule8|Normal|Padat|Lama|\n",
    "|Rule9|Padat|Padat|Lama|"
   ]
  },
  {
   "cell_type": "code",
   "execution_count": 20,
   "metadata": {},
   "outputs": [],
   "source": [
    "rule1 = ctrl.Rule(barat_timur['senggang'] & utara_selatan['senggang'], waktu['cepat'])\n",
    "rule2 = ctrl.Rule(barat_timur['normal'] & utara_selatan['senggang'], waktu['cepat'])\n",
    "rule3 = ctrl.Rule(barat_timur['padat'] & utara_selatan['senggang'], waktu['normal'])\n",
    "rule4 = ctrl.Rule(barat_timur['senggang'] & utara_selatan['normal'], waktu['cepat'])\n",
    "rule5 = ctrl.Rule(barat_timur['normal'] & utara_selatan['normal'], waktu['normal'])\n",
    "rule6 = ctrl.Rule(barat_timur['padat'] & utara_selatan['normal'], waktu['lama'])\n",
    "rule7 = ctrl.Rule(barat_timur['senggang'] & utara_selatan['padat'], waktu['normal'])\n",
    "rule8 = ctrl.Rule(barat_timur['normal'] & utara_selatan['padat'], waktu['lama'])\n",
    "rule9 = ctrl.Rule(barat_timur['padat'] & utara_selatan['padat'], waktu['lama'])"
   ]
  },
  {
   "cell_type": "markdown",
   "metadata": {},
   "source": [
    "# RULE "
   ]
  },
  {
   "cell_type": "code",
   "execution_count": 21,
   "metadata": {},
   "outputs": [],
   "source": [
    "brake_ctrl = ctrl.ControlSystem(\n",
    "    [rule1, rule2, rule3, rule4, rule5, rule6, rule7, rule8, rule9])"
   ]
  },
  {
   "cell_type": "markdown",
   "metadata": {},
   "source": [
    "# DEFUZZIFIKASI "
   ]
  },
  {
   "cell_type": "markdown",
   "metadata": {},
   "source": [
    "Percobaan dengan memasukkan nilai input barat_timur = 5 dan utara_selatan 8"
   ]
  },
  {
   "cell_type": "code",
   "execution_count": 33,
   "metadata": {},
   "outputs": [],
   "source": [
    "braking = ctrl.ControlSystemSimulation(brake_ctrl)\n",
    "\n",
    "braking.input['barat_timur'] = 5\n",
    "braking.input['utara_selatan'] = 8\n",
    "\n",
    "braking.compute()"
   ]
  },
  {
   "cell_type": "markdown",
   "metadata": {},
   "source": [
    "Melakukan perhitungan defuzzifikasi"
   ]
  },
  {
   "cell_type": "code",
   "execution_count": 34,
   "metadata": {},
   "outputs": [
    {
     "name": "stdout",
     "output_type": "stream",
     "text": [
      "152.2222222222223\n"
     ]
    },
    {
     "name": "stderr",
     "output_type": "stream",
     "text": [
      "C:\\ProgramData\\Anaconda3\\lib\\site-packages\\matplotlib\\figure.py:418: UserWarning: matplotlib is currently using a non-GUI backend, so cannot show the figure\n",
      "  \"matplotlib is currently using a non-GUI backend, \"\n"
     ]
    },
    {
     "data": {
      "image/png": "[encoded data removed]",
      "text/plain": [
       "<matplotlib.figure.Figure at 0x24894f285c0>"
      ]
     },
     "metadata": {},
     "output_type": "display_data"
    }
   ],
   "source": [
    "print(braking.output['waktu'])\n",
    "\n",
    "waktu.view(sim=braking)\n",
    "\n",
    "plt.show()"
   ]
  },
  {
   "cell_type": "markdown",
   "metadata": {},
   "source": [
    "Dari data yang kita masukkan didapatkan hasil output seperti diatas.\n",
    "Dengan Hasilnya lama dan waktu 152.2 detik"
   ]
  },
  {
   "cell_type": "markdown",
   "metadata": {},
   "source": [
    "Tampilan dari rulenya"
   ]
  },
  {
   "cell_type": "code",
   "execution_count": 24,
   "metadata": {},
   "outputs": [
    {
     "data": {
      "text/plain": [
       "(IF barat_timur[senggang] AND utara_selatan[senggang] THEN waktu[cepat]\n",
       " \tAND aggregation function : fmin\n",
       " \tOR aggregation function  : fmax,\n",
       " IF barat_timur[normal] AND utara_selatan[senggang] THEN waktu[cepat]\n",
       " \tAND aggregation function : fmin\n",
       " \tOR aggregation function  : fmax,\n",
       " IF barat_timur[padat] AND utara_selatan[senggang] THEN waktu[normal]\n",
       " \tAND aggregation function : fmin\n",
       " \tOR aggregation function  : fmax,\n",
       " IF barat_timur[senggang] AND utara_selatan[normal] THEN waktu[cepat]\n",
       " \tAND aggregation function : fmin\n",
       " \tOR aggregation function  : fmax,\n",
       " IF barat_timur[normal] AND utara_selatan[normal] THEN waktu[normal]\n",
       " \tAND aggregation function : fmin\n",
       " \tOR aggregation function  : fmax,\n",
       " IF barat_timur[padat] AND utara_selatan[normal] THEN waktu[lama]\n",
       " \tAND aggregation function : fmin\n",
       " \tOR aggregation function  : fmax,\n",
       " IF barat_timur[senggang] AND utara_selatan[padat] THEN waktu[normal]\n",
       " \tAND aggregation function : fmin\n",
       " \tOR aggregation function  : fmax,\n",
       " IF barat_timur[normal] AND utara_selatan[padat] THEN waktu[lama]\n",
       " \tAND aggregation function : fmin\n",
       " \tOR aggregation function  : fmax,\n",
       " <bound method Rule.view of IF barat_timur[padat] AND utara_selatan[padat] THEN waktu[lama]\n",
       " \tAND aggregation function : fmin\n",
       " \tOR aggregation function  : fmax>)"
      ]
     },
     "execution_count": 24,
     "metadata": {},
     "output_type": "execute_result"
    }
   ],
   "source": [
    "rule1, rule2, rule3, rule4, rule5, rule6, rule7, rule8, rule9.view"
   ]
  },
  {
   "cell_type": "markdown",
   "metadata": {},
   "source": [
    "# Hitungan Manual "
   ]
  },
  {
   "cell_type": "markdown",
   "metadata": {},
   "source": [
    "\\begin{equation}\n",
    "    Barat Timur = 5 \\\\\n",
    "    Masukkan\\,nilai\\,baratTimur\\,ke\\,dalam\\,masing-masing\\,fungsi\\,keanggotaan\\,BaratTimur\\\\\n",
    "  Barat Timur['senggang'] = \\mu BaratTimurSenggang(x)=\\begin{cases}\n",
    "    1, & \\text{$0\\leq x\\leq1$}.\\\\\n",
    "    (3 - x)/(3 - 1) , & \\text{$1 \\leq x \\leq 3$}.\\\\\n",
    "    0, & \\text{$x\\geq 3$}.\\checkmark\\\\\n",
    "  \\end{cases}\n",
    "  \\\\\n",
    "  Barat Timur['normal'] = \\mu BaratTimurNormal(x)=\\begin{cases}\n",
    "    1, & \\text{$3\\leq  x \\leq4$}.\\\\\n",
    "    (x - 1)/(3 - 1) , & \\text{$1 \\leq x \\leq 3$}.\\\\\n",
    "    (6 - x)/(6 - 4) , & \\text{$4 \\leq x \\leq 6$}.\\checkmark\\\\\n",
    "    0, & \\text{$x\\leq1$ atau $x\\geq 6$}.\\\\\n",
    "  \\end{cases}\n",
    "  \\\\\n",
    "  Barat Timur['padat'] = \\mu BaratTimurPadat(x)=\\begin{cases}\n",
    "    0, & \\text{$x\\leq 4$}.\\\\\n",
    "    (x - 4)/(6 - 4) , & \\text{$4 \\leq x \\leq 6$}.\\checkmark\\\\\n",
    "    1, & \\text{$x\\geq 6$}.\n",
    "  \\end{cases}\n",
    "\\end{equation}"
   ]
  },
  {
   "cell_type": "markdown",
   "metadata": {},
   "source": [
    "\\begin{equation}\n",
    "    \\mu BaratTimurNormal (5) = (6−5)/(6−4) \\\\\n",
    "    \\mu BaratTimurNormal(5) = 1/2 \\\\ \n",
    "    \\mu BaratTimurNormal(5) = 0.5 \\\\\n",
    "    \\mu BaratTimurPadat(5) = (5−4)/(6−4) \\\\\n",
    "    \\mu BaratTimurPadat(5) = 1/2 \\\\ \n",
    "    \\mu BaratTimurPadat(5) = 0.5 \\\\\n",
    "\\end{equation}"
   ]
  },
  {
   "cell_type": "markdown",
   "metadata": {},
   "source": [
    "\\begin{equation}\n",
    " Utara Selatan = 8 \\\\\n",
    "    Masukkan\\,nilai\\,utaraselatan\\,ke\\,dalam\\,masing-masing\\,fungsi\\,keanggotaan\\,UtaraSelatan\\\\\n",
    "  Utara Selatan['senggang'] = \\mu UtaraSelatanSenggang(x)=\\begin{cases}\n",
    "    1, & \\text{$0\\leq x\\leq1$}.\\\\\n",
    "    (3 - x)/(3 - 1) , & \\text{$1 \\leq x \\leq 3$}.\\\\\n",
    "    0, & \\text{$x\\geq 3$}.\\checkmark\\\\\n",
    "  \\end{cases}\n",
    "  \\\\\n",
    "  Utara Selatan['normal'] = \\mu UtaraSelatanNormal(x)=\\begin{cases}\n",
    "    1, & \\text{$3\\leq  x \\leq4$}.\\\\\n",
    "    (x - 1)/(3 - 1) , & \\text{$1 \\leq x \\leq 3$}.\\\\\n",
    "    (6 - x)/(6 - 4) , & \\text{$4 \\leq x \\leq 6$}.\\\\\n",
    "    0, & \\text{$x\\leq1$ atau $x\\geq 6$}.\\checkmark\\\\\n",
    "  \\end{cases}\n",
    "  \\\\\n",
    "  Utara Selatan['padat'] = \\mu UtaraSelatanPadat(x)=\\begin{cases}\n",
    "    0, & \\text{$x\\leq 4$}.\\\\\n",
    "    (x - 4)/(6 - 4) , & \\text{$4 \\leq x \\leq 6$}.\\\\\n",
    "    1, & \\text{$x\\geq 6$}.\\checkmark\\\\\n",
    "  \\end{cases}\n",
    "\\end{equation}"
   ]
  },
  {
   "cell_type": "markdown",
   "metadata": {},
   "source": [
    "\\begin{equation}\n",
    "    \\mu UtaraSelatanPadat(8) = 1 \\\\\n",
    "\\end{equation}"
   ]
  },
  {
   "cell_type": "markdown",
   "metadata": {},
   "source": [
    "Lalu kita cari nilai z untuk setiap aturan dengan menggunakan fungsi MIN karena menggunakan rule AND\n",
    "\n",
    "\n",
    "1 if (BaratTimur is Senggang) and (UtaraSelatan is Senggang) then (Jumlah Waktu is Cepat) \n",
    "\n",
    "\n",
    "$$ \\\\ \\alpha(predikat_1) = \\mu BaratTimurSenggang \\cap \\mu UtaraSelatanSenggang $$\n",
    "$$\\alpha(predikat_1)   = min (\\mu BaratTimurSenggang[5], \\mu UtaraSelatanSenggang[8]) $$\n",
    "$$ \\alpha(predikat_1) = min (0 ; 0) $$\n",
    "$$ \\alpha(predikat_1) = 0 $$\n",
    "\n",
    "\n",
    "Lalu lihat himpunan Jumlah Waktu Cepat\n",
    "\\begin{equation}\n",
    "  Waktu['cepat'] = \\mu WaktuCepat(x)=\\begin{cases}\n",
    "    0, & \\text{$x\\leq60$ atau $x\\geq120$}.\\\\\n",
    "    (x - 60)/(80 - 60) , & \\text{$60 \\leq x \\leq 80$}.\\\\\n",
    "    ( 120 - x ) / (120 - 80), & \\text{$80 \\leq x \\leq 120$}.\\\\\n",
    "  \\end{cases}\n",
    "\\end{equation}\n",
    " \n",
    " \n",
    "Nilai keanggotaan yang memenuhi adalah 0.\n",
    "Maka nilai $ Z_1 = 0 $\n",
    "\n",
    "=================================================================================================================\n",
    "\n",
    "2 if (BaratTimur is Normal) and (UtaraSelatan is Senggang) then (Jumlah Waktu is Cepat)\n",
    "\n",
    "\n",
    "$$ \\\\ \\alpha(predikat_2) = \\mu BaratTimurNormal \\cap \\mu UtaraSelatanSenggang $$\n",
    "$$\\alpha(predikat_2) = min (\\mu BaratTimurNormal[5], \\mu UtaraSelatanSenggang[8]) $$\n",
    "$$ \\alpha(predikat_2) = min (0.5; 0) $$\n",
    "$$ \\alpha(predikat_2) = 0 $$\n",
    "\n",
    "\n",
    "Lalu lihat himpunan Jumlah Waktu Cepat\n",
    "\\begin{equation}\n",
    "  Waktu['cepat'] = \\mu WaktuCepat(x)=\\begin{cases}\n",
    "    0, & \\text{$x\\leq60$ atau $x\\geq120$}.\\\\\n",
    "    (x - 60)/(80 - 60) , & \\text{$60 \\leq x \\leq 80$}.\\\\\n",
    "    ( 120 - x ) / (120 - 80), & \\text{$80 \\leq x \\leq 120$}.\\\\\n",
    "  \\end{cases}\n",
    "\\end{equation}\n",
    "\n",
    " \n",
    "Nilai keanggotaan yang memenuhi adalah 0\n",
    "Maka nilai $ Z_2 = 0 $\n",
    "\n",
    "=================================================================================================================\n",
    "\n",
    "3 if (Barat Timur is Padat) and (Utara Selatan is Senggang) then (Jumlah Waktu is Normmal)\n",
    "\n",
    "\n",
    "$$ \\\\ \\alpha(predikat_3) = \\mu BaratTimurPadat \\cap \\mu UtaraSelatanSenggang $$\n",
    "$$\\alpha(predikat_3) = min (\\mu BaratTimurPadat[5], \\mu UtaraSelatanSenggang[8]) $$\n",
    "$$ \\alpha(predikat_3) = min (0.5; 0) $$\n",
    "$$ \\alpha(predikat_3) = 0 $$\n",
    "\n",
    "\n",
    "Lalu lihat himpunan Jumlah Waktu Normal\n",
    "\\begin{equation}\n",
    " Waktu['normal'] = \\mu WaktuNormal(x)=\\begin{cases}\n",
    "    0, & \\text{$x\\leq80$ atau $x\\geq160$}.\\\\\n",
    "    (x - 80)/(120 - 80) , & \\text{$80 \\leq x \\leq 120$}.\\\\\n",
    "    (160 - x ) / (160 - 120), & \\text{$120 \\leq x \\leq 160$}.\\\\\n",
    "  \\end{cases}\n",
    "\\end{equation}\n",
    "\n",
    "\n",
    "Nilai keanggotaan yang memenuhi adalah 0\n",
    "Maka nilai $ Z_3 = 0 $\n",
    "\n",
    "=================================================================================================================\n",
    "\n",
    "4 if (Barat Timur  is Senggang) and (Utara Selatan is Normal) then (Jumlah Waktu Cepat) \n",
    "\n",
    "\n",
    "$$ \\\\ \\alpha(predikat_4) = \\mu BaratTimurSenggang \\cap \\mu UtaraSelatanNormal $$\n",
    "$$\\alpha(predikat_4) = min (\\mu BaratTimurSenggang[5], \\mu UtaraSelatanNormal[8]) $$\n",
    "$$ \\alpha(predikat_4) = min (0; 0) $$\n",
    "$$ \\alpha(predikat_4) = 0 $$\n",
    "\n",
    "\n",
    "Lalu lihat himpunan Jumlah Waktu Cepat\n",
    "\\begin{equation}\n",
    "  Waktu['cepat'] = \\mu WaktuCepat(x)=\\begin{cases}\n",
    "    0, & \\text{$x\\leq60$ atau $x\\geq120$}.\\\\\n",
    "    (x - 60)/(80 - 60) , & \\text{$60 \\leq x \\leq 80$}.\\\\\n",
    "    ( 120 - x ) / (120 - 80), & \\text{$80 \\leq x \\leq 120$}.\\\\\n",
    "  \\end{cases}\n",
    "\\end{equation}\n",
    "\n",
    "\n",
    "Maka nilai keanggotaan yang memenuhi adalah 0\n",
    "Maka nilai $ Z_4= 0 $\n",
    "\n",
    "=================================================================================================================\n",
    "\n",
    "5 if (Barat Timur is Normal) and (Utara Selatan is Normal) then (Jumlah Waktu is Normal)\n",
    "\n",
    "\n",
    "$$ \\\\ \\alpha(predikat_5) = \\mu BaratTimurNormal \\cap \\mu UtaraSelatanNormal $$\n",
    "$$\\alpha(predikat_5) = min (\\mu BaratTimurNormal[5], \\mu UtaraSelatanNormal[8]) $$\n",
    "$$ \\alpha(predikat_5) = min (0.5; 0) $$\n",
    "$$ \\alpha(predikat_5) = 0 $$\n",
    "\n",
    "\n",
    "Lalu lihat himpunan Jumlah Waktu Normal\n",
    "\\begin{equation}\n",
    " Waktu['normal'] = \\mu WaktuNormal(x)=\\begin{cases}\n",
    "    0, & \\text{$x\\leq80$ atau $x\\geq160$}.\\\\\n",
    "    (x - 80)/(120 - 80) , & \\text{$80 \\leq x \\leq 120$}.\\\\\n",
    "    (160 - x ) / (160 - 120), & \\text{$120 \\leq x \\leq 160$}.\\\\\n",
    "  \\end{cases}\n",
    "\\end{equation}\n",
    "\n",
    "\n",
    "Nilai keanggotaan yang memenuhi adalah 0\n",
    "Maka nilai $ Z_5= 0 $\n",
    "\n",
    "=================================================================================================================\n",
    "\n",
    "6 if (Barat Timur is Padat) and (Utara Selatan is Normal) then (Jumlah Waktu is Lama)\n",
    "\n",
    "\n",
    "$$ \\\\ \\alpha(predikat_6) = \\mu BaratTimurPadat \\cap \\mu UtaraSelatanNormal $$\n",
    "$$\\alpha(predikat_6) = min (\\mu BaratTimurPadat[5], \\mu UtaraSelatanNormal[8]) $$\n",
    "$$ \\alpha(predikat_6) = min (0.5; 0) $$\n",
    "$$ \\alpha(predikat_6) = 0 $$\n",
    "\n",
    "\n",
    "Lalu lihat himpunan Jumlah Waktu Lama\n",
    "\\begin{equation}\n",
    " Waktu['lama'] = \\mu WaktuLama(x)=\\begin{cases}\n",
    "    0, & \\text{$x\\leq120$ atau $x\\geq180$}.\\\\\n",
    "    (x - 120)/(160 - 120) , & \\text{$120 \\leq x \\leq 160$}.\\\\\n",
    "    (180 - x ) / (180 - 160), & \\text{$160 \\leq x \\leq 180$}.\\\\\n",
    "  \\end{cases}\n",
    "\\end{equation}\n",
    "\n",
    "\n",
    "Nilai keanggotaan yang memenuhi adalah 0\n",
    "Maka nilai $ Z_6= 0 $\n",
    "\n",
    "=================================================================================================================\n",
    "\n",
    "7 if (Barat Timur is Senggang) and (Utara Selatan is Padat) then (Jumlah Waktu is Normal)\n",
    "\n",
    "\n",
    "$$ \\\\ \\alpha(predikat_7) = \\mu BaratTimurSenggang \\cap \\mu UtaraSelatanPadat $$\n",
    "$$\\alpha(predikat_7) = min (\\mu BaratTimurSenggang[5], \\mu UtaraSelatanPadat[8]) $$\n",
    "$$ \\alpha(predikat_7) = min (0; 1) $$\n",
    "$$ \\alpha(predikat_7) = 0 $$\n",
    "\n",
    "\n",
    "Lalu lihat himpunan Jumlah Waktu Normal\n",
    "\\begin{equation}\n",
    " Waktu['normal'] = \\mu WaktuNormal(x)=\\begin{cases}\n",
    "    0, & \\text{$x\\leq80$ atau $x\\geq160$}.\\\\\n",
    "    (x - 80)/(120 - 80) , & \\text{$80 \\leq x \\leq 120$}.\\\\\n",
    "    (160 - x ) / (160 - 120), & \\text{$120 \\leq x \\leq 160$}.\\\\\n",
    "  \\end{cases}\n",
    "\\end{equation}\n",
    "\n",
    "\n",
    "Nilai keanggotaan yang memenuhi adalah 0\n",
    "Maka nilai $ Z_7= 0 $\n",
    "\n",
    "\n",
    "=================================================================================================================\n",
    "\n",
    "8 if (Barat Timur is Normal) and (Utara Selatan is Padat) then (Jumlah Waktu is Lama)\n",
    "\n",
    "\n",
    "$$ \\\\ \\alpha(predikat_8) = \\mu BaratTimurNormal \\cap \\mu UtaraSelatanPadat$$\n",
    "$$\\alpha(predikat_8) = min (\\mu BaratTimurNormal[5], \\mu UtaraSelatanPadat[8]) $$\n",
    "$$ \\alpha(predikat_8) = min (0.5; 1) $$\n",
    "$$ \\alpha(predikat_8) = 0.5 $$\n",
    "\n",
    "\n",
    "Lalu lihat himpunan Jumlah Waktu Lama\n",
    "\\begin{equation}\n",
    " Waktu['lama'] = \\mu WaktuLama(x)=\\begin{cases}\n",
    "    0, & \\text{$x\\leq120$ atau $x\\geq180$}.\\\\\n",
    "    (x - 120)/(160 - 120) , & \\text{$120 \\leq x \\leq 160$}.\\\\\n",
    "    (180 - x ) / (180 - 160), & \\text{$160 \\leq x \\leq 180$}.\\\\\n",
    "  \\end{cases}\n",
    "\\end{equation}\n",
    "\n",
    "\n",
    "Terdapat 2 nilai keanggotaan maka diuji satu persatu\n",
    " $$(x - 120)/(160 - 120) = 0.5 $$\n",
    " $$(x - 120)/(40) = 0.5 \\times 40 $$\n",
    " $$ x - 120 = 20 $$\n",
    " $$ x =  140$$\n",
    " $$(180 - x)/(180 - 160) = 0.5 $$\n",
    " $$(180 - x)/(20) = 0.5 \\times 20 $$\n",
    " $$ 180 - x = 10 $$\n",
    " $$ x = 190$$\n",
    " \n",
    "\n",
    "Akan diambil nilai terkecil\n",
    "Maka nilai $ Z_8= 140 $\n",
    "\n",
    "=================================================================================================================\n",
    "\n",
    "9 if (Barat Timur is Padat) and (Utara Selatan is Padat) then (Jumlah Waktu is Lama)\n",
    "\n",
    "\n",
    "$$ \\\\ \\alpha(predikat_9) = \\mu BaratTimurPadat \\cap \\mu UtaraSelatanPadat$$\n",
    "$$\\alpha(predikat_9) = min (\\mu BaratTimurPadat[5], \\mu UtaraSelatanPadat[8]) $$\n",
    "$$ \\alpha(predikat_9) = min (0.5; 1) $$\n",
    "$$ \\alpha(predikat_9) = 0.5 $$\n",
    "\n",
    "\n",
    "Lalu lihat himpunan Jumlah Waktu Lama\n",
    "\\begin{equation}\n",
    " Waktu['lama'] = \\mu WaktuLama(x)=\\begin{cases}\n",
    "    0, & \\text{$x\\leq120$ atau $x\\geq180$}.\\\\\n",
    "    (x - 120)/(160 - 120) , & \\text{$120 \\leq x \\leq 160$}.\\\\\n",
    "    (180 - x ) / (180 - 160), & \\text{$160 \\leq x \\leq 180$}.\\\\\n",
    "  \\end{cases}\n",
    "\\end{equation}\n",
    "\n",
    "\n",
    "Terdapat 2 nilai keanggotaan maka diuji satu persatu\n",
    "$$(x - 120)/(160 - 120) = 0.5 $$\n",
    " $$(x - 120)/(40) = 0.5 \\times 40 $$\n",
    " $$ x - 120 = 20 $$\n",
    " $$ x =  140$$\n",
    " $$(180 - x)/(180 - 160) = 0.5 $$\n",
    " $$(180 - x)/(20) = 0.5 \\times 20 $$\n",
    " $$ 180 - x = 10 $$\n",
    " $$ x = 190$$\n",
    " \n",
    "\n",
    "Akan diambil nilai terkecil\n",
    "Maka nilai $ Z_9= 140 $"
   ]
  },
  {
   "cell_type": "markdown",
   "metadata": {},
   "source": [
    "Kita dapat mencari nilai z, dengan :"
   ]
  },
  {
   "cell_type": "markdown",
   "metadata": {},
   "source": [
    "Z =$$ \\frac{\\alpha predikat_1 \\times Z_1 +\n",
    "\\alpha predikat_2 \\times Z_2 +\n",
    "\\alpha predikat_3 \\times Z_3 +\n",
    "\\alpha predikat_4 \\times Z_4 +\n",
    "\\alpha predikat_5 \\times Z_5 +\n",
    "\\alpha predikat_6 \\times Z_6 +\n",
    "\\alpha predikat_7 \\times Z_7 +\n",
    "\\alpha predikat_8 \\times Z_8 +\n",
    "\\alpha predikat_9 \\times Z_9 + }\n",
    "{\\alpha predikat_1 + \\alpha predikat_2 +\n",
    "\\alpha predikat_3 + \\alpha predikat_4 +\n",
    "\\alpha predikat_5 + \\alpha predikat_6 +\n",
    "\\alpha predikat_7 + \\alpha predikat_8 +\n",
    "\\alpha predikat_9 }$$"
   ]
  },
  {
   "cell_type": "markdown",
   "metadata": {},
   "source": [
    " $$Z = \\frac{0 + 0 + 0 + 0 + 0 + 0 + 0 + 0.5 \\times 140 + 0.5 \\times 140}{0 + 0 + 0 + 0 + 0 + 0 + 0 + 0.5 + 0.5} $$\n",
    " \n",
    " $$ Z = \\frac{140}{1} $$\n",
    " $$ Z = 140\\, $$"
   ]
  },
  {
   "cell_type": "markdown",
   "metadata": {},
   "source": [
    "Hasil output yang dikeluarkan menggunakan code python sebesar 152.2 sedangkan perhitungan manual sebesar 140\n",
    "Terdapat perbedaan sebesar 12.5 \n",
    "\n",
    "mencari persenan nilai python - nilai manual / nilai python x 100\n",
    "\n",
    "152.2 - 140 = 12.5\n",
    "\n",
    "12.5 / 152.2 = 0.08015768725\n",
    "\n",
    "0.08015768725 x 100 = 8.01576872536"
   ]
  },
  {
   "cell_type": "markdown",
   "metadata": {},
   "source": [
    "# Kesimpulan "
   ]
  },
  {
   "cell_type": "markdown",
   "metadata": {},
   "source": [
    "Metode fuzzy logic yang dipakai dalam sistem ini mampu melakukan perhitungan waktu lampu lalu lintas dengan perbandingan pengambilan data secara manual dan secara otomatis, ini membahas metode untuk mengurai kepadatan pada lampu lalu lintas. \n",
    "\n",
    "dimana memiliki 2 input\n",
    "    - Barat Timur dan\n",
    "    - Utara Selatan\n",
    "dan memiliki 1 output yaitu Waktu"
   ]
  },
  {
   "cell_type": "code",
   "execution_count": null,
   "metadata": {},
   "outputs": [],
   "source": []
  }
 ],
 "metadata": {
  "kernelspec": {
   "display_name": "Python 3",
   "language": "python",
   "name": "python3"
  },
  "language_info": {
   "codemirror_mode": {
    "name": "ipython",
    "version": 3
   },
   "file_extension": ".py",
   "mimetype": "text/x-python",
   "name": "python",
   "nbconvert_exporter": "python",
   "pygments_lexer": "ipython3",
   "version": "3.6.4"
  }
 },
 "nbformat": 4,
 "nbformat_minor": 2
}
